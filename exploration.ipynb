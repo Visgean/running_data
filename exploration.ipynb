{
 "cells": [
  {
   "cell_type": "markdown",
   "metadata": {},
   "source": [
    "Running data exploration\n",
    "========================\n",
    "\n",
    "In this notebook I explore my running data exported from Runkeeper app. The data is itself very primitive - just a XML full of GPS checkpoints. This means I will have to try to calculate distances myself.  \n",
    "\n",
    "Prerequisites:\n",
    " - python3\n",
    " - ``data`` folder contains all the files exported from runkeeper.\n",
    " - python packages: ``pip3 install python-dateutil geopy bokeh --user``"
   ]
  },
  {
   "cell_type": "code",
   "execution_count": 1,
   "metadata": {
    "collapsed": false
   },
   "outputs": [
    {
     "name": "stdout",
     "output_type": "stream",
     "text": [
      "2014-09-07-1616.gpx  2015-03-06-2142.gpx  2015-10-05-2208.gpx\r\n",
      "2014-09-09-0906.gpx  2015-03-09-1753.gpx  2015-10-28-1207.gpx\r\n",
      "2014-09-12-2043.gpx  2015-03-12-2113.gpx  2016-03-04-1838.gpx\r\n",
      "2014-09-20-1017.gpx  2015-03-17-1658.gpx  2016-04-05-2253.gpx\r\n",
      "2014-09-24-0900.gpx  2015-04-04-1355.gpx  2016-05-01-2045.gpx\r\n",
      "2014-09-28-2045.gpx  2015-04-05-1327.gpx  2016-05-21-1723.gpx\r\n",
      "2014-10-04-1951.gpx  2015-05-04-2003.gpx  2016-05-30-2106.gpx\r\n",
      "2014-10-30-2039.gpx  2015-05-10-2130.gpx  2016-06-04-1909.gpx\r\n",
      "2014-11-09-1830.gpx  2015-06-12-1957.gpx  2016-06-07-2137.gpx\r\n",
      "2014-12-08-1733.gpx  2015-07-07-2242.gpx  2016-06-10-2134.gpx\r\n",
      "2015-01-08-1930.gpx  2015-07-11-2132.gpx  2016-06-19-1714.gpx\r\n",
      "2015-01-11-1406.gpx  2015-07-28-2009.gpx  2016-06-25-2054.gpx\r\n",
      "2015-01-20-1855.gpx  2015-08-01-2128.gpx  cardioActivities.csv\r\n",
      "2015-01-23-1949.gpx  2015-08-08-1956.gpx  measurements.csv\r\n",
      "2015-01-28-1855.gpx  2015-08-28-2159.gpx\r\n",
      "2015-02-19-1957.gpx  2015-09-25-1113.gpx\r\n"
     ]
    }
   ],
   "source": [
    "ls data/"
   ]
  },
  {
   "cell_type": "markdown",
   "metadata": {},
   "source": [
    "No idea why Runkeeper calls these files .gpx, it might be some kind of standard. But meh. Lets see what is inside one of these:\n",
    "\n",
    "\n",
    "```xml\n",
    "<?xml version=\"1.0\" encoding=\"UTF-8\"?>\n",
    "<gpx\n",
    "    version=\"1.1\"\n",
    "    creator=\"Runkeeper - http://www.runkeeper.com\"\n",
    "    xmlns:xsi=\"http://www.w3.org/2001/XMLSchema-instance\"\n",
    "    xmlns=\"http://www.topografix.com/GPX/1/1\"\n",
    "    xsi:schemaLocation=\"http://www.topografix.com/GPX/1/1 http://www.topografix.com/GPX/1/1/gpx.xsd\"\n",
    "    xmlns:gpxtpx=\"http://www.garmin.com/xmlschemas/TrackPointExtension/v1\">\n",
    "    <trk>\n",
    "        <name><![CDATA[Running 6/25/16 8:54 pm]]></name>\n",
    "        <time>2016-06-25T18:54:53Z</time>\n",
    "        <trkseg>\n",
    "            <trkpt lat=\"50.599000\" lon=\"14.205000\">\n",
    "               <ele>327.0</ele>\n",
    "               <time>2016-06-25T18:54:53Z</time>\n",
    "            </trkpt>\n",
    "            <trkpt lat=\"50.599000\" lon=\"14.205000\">\n",
    "               <ele>326.7</ele>\n",
    "               <time>2016-06-25T18:54:55Z</time>\n",
    "            </trkpt>\n",
    "        </trkseg>\n",
    "    </trk>\n",
    "</gpx>\n",
    "```\n",
    "\n",
    "Note I redacted ``trkseg`` section because it had so many datapoints. Anyway as you can see the whole file contains datapoint for every 3 seconds.\n"
   ]
  },
  {
   "cell_type": "markdown",
   "metadata": {},
   "source": [
    "Parsing\n",
    "=======\n",
    "\n",
    "I am going to use python ``xml.etree`` library because I don't want to add additional dependencies. I will also get a bit low-level at the beggining and after I will refactor this parsing mess.\n",
    "\n",
    "Note that most of the ugliness of this code comes from using xml namespaces, unfortunetely there is no option to turn them off in the default xml.etree library, lxml project would probably be better at least for this purpose.\n",
    "\n"
   ]
  },
  {
   "cell_type": "code",
   "execution_count": 2,
   "metadata": {
    "collapsed": false
   },
   "outputs": [],
   "source": [
    "import xml.etree.ElementTree as ET\n",
    "tree = ET.parse('data/2016-06-25-2054.gpx')\n",
    "trkseg = tree.find('.//{http://www.topografix.com/GPX/1/1}trkseg')"
   ]
  },
  {
   "cell_type": "code",
   "execution_count": 3,
   "metadata": {
    "collapsed": false
   },
   "outputs": [
    {
     "data": {
      "text/plain": [
       "499"
      ]
     },
     "execution_count": 3,
     "metadata": {},
     "output_type": "execute_result"
    }
   ],
   "source": [
    "records = list(trkseg)\n",
    "len(records)"
   ]
  },
  {
   "cell_type": "code",
   "execution_count": 4,
   "metadata": {
    "collapsed": false
   },
   "outputs": [
    {
     "data": {
      "text/plain": [
       "dict_keys(['lat', 'lon'])"
      ]
     },
     "execution_count": 4,
     "metadata": {},
     "output_type": "execute_result"
    }
   ],
   "source": [
    "first = records[0]\n",
    "first.attrib.keys()"
   ]
  },
  {
   "cell_type": "code",
   "execution_count": 5,
   "metadata": {
    "collapsed": false
   },
   "outputs": [
    {
     "data": {
      "text/plain": [
       "[<Element '{http://www.topografix.com/GPX/1/1}ele' at 0x7ff1116c63b8>,\n",
       " <Element '{http://www.topografix.com/GPX/1/1}time' at 0x7ff1116c6408>]"
      ]
     },
     "execution_count": 5,
     "metadata": {},
     "output_type": "execute_result"
    }
   ],
   "source": [
    "list(first)"
   ]
  },
  {
   "cell_type": "code",
   "execution_count": 6,
   "metadata": {
    "collapsed": false
   },
   "outputs": [
    {
     "data": {
      "text/plain": [
       "'327.0'"
      ]
     },
     "execution_count": 6,
     "metadata": {},
     "output_type": "execute_result"
    }
   ],
   "source": [
    "elevation = first.find('{http://www.topografix.com/GPX/1/1}ele')\n",
    "elevation.text"
   ]
  },
  {
   "cell_type": "code",
   "execution_count": 7,
   "metadata": {
    "collapsed": false
   },
   "outputs": [
    {
     "data": {
      "text/plain": [
       "'2016-06-25T18:54:53Z'"
      ]
     },
     "execution_count": 7,
     "metadata": {},
     "output_type": "execute_result"
    }
   ],
   "source": [
    "first_time = first.find('{http://www.topografix.com/GPX/1/1}time')\n",
    "first_time.text"
   ]
  },
  {
   "cell_type": "markdown",
   "metadata": {},
   "source": [
    "# Refactoring\n",
    "\n",
    "Now that you see how to work with those files on the low level xml api lets hide this logic into simple class that can be constructed simply with a filename."
   ]
  },
  {
   "cell_type": "code",
   "execution_count": 8,
   "metadata": {
    "collapsed": false
   },
   "outputs": [],
   "source": [
    "from dateutil.parser import parse\n",
    "\n",
    "class Run:\n",
    "    def __init__(self, filename):\n",
    "        self.tree = ET.parse(filename)\n",
    "        self.records = [\n",
    "            {\n",
    "                'lat': record.attrib['lat'],\n",
    "                'lng': record.attrib['lon'],\n",
    "                'time': parse(record.find('{http://www.topografix.com/GPX/1/1}time').text),\n",
    "                'elevation': float(record.find('{http://www.topografix.com/GPX/1/1}ele').text),\n",
    "            } for record in self.tree.find('.//{http://www.topografix.com/GPX/1/1}trkseg')\n",
    "        ]"
   ]
  },
  {
   "cell_type": "markdown",
   "metadata": {},
   "source": [
    "This is much shorter than the original version. It is very simple and does not have any exception handling. Lets just assume everything goes all right. Now lets load all the runs."
   ]
  },
  {
   "cell_type": "code",
   "execution_count": 9,
   "metadata": {
    "collapsed": false
   },
   "outputs": [],
   "source": [
    "import glob, os\n",
    "\n",
    "def load_runs(data_dir='./data'):\n",
    "    glob_joined = os.path.join(data_dir, '*.gpx')\n",
    "    return [Run(f) for f in glob.glob(glob_joined)]"
   ]
  },
  {
   "cell_type": "code",
   "execution_count": 10,
   "metadata": {
    "collapsed": false
   },
   "outputs": [],
   "source": [
    "from geopy.distance import distance\n",
    "from geopy import Point"
   ]
  },
  {
   "cell_type": "markdown",
   "metadata": {},
   "source": [
    "Yeah I know, you probably wanted me to calculate the distance by my own and not just import and module and be done with it. But I am lazy and know a shit about geography. Read distance implementation here: https://github.com/geopy/geopy/blob/master/geopy/distance.py and here: https://en.wikipedia.org/wiki/Vincenty%27s_formulae\n",
    "\n",
    "Anyway lets modify the run class to suppport distance calculation."
   ]
  },
  {
   "cell_type": "code",
   "execution_count": 11,
   "metadata": {
    "collapsed": false
   },
   "outputs": [],
   "source": [
    "class Run:\n",
    "    def __init__(self, filename):\n",
    "        self.tree = ET.parse(filename)\n",
    "        self.records = [\n",
    "            {\n",
    "                'lat': record.attrib['lat'],\n",
    "                'lng': record.attrib['lon'],\n",
    "                'time': parse(record.find('{http://www.topografix.com/GPX/1/1}time').text),\n",
    "                'elevation': float(record.find('{http://www.topografix.com/GPX/1/1}ele').text),\n",
    "            } for record in self.tree.find('.//{http://www.topografix.com/GPX/1/1}trkseg')\n",
    "        ]\n",
    "        \n",
    "    def pluck_attribute(self, attribute):\n",
    "        return [r[attribute] for r in self.records]\n",
    "    \n",
    "    @property\n",
    "    def elevations(self):\n",
    "        return self.pluck_attribute('elevation')\n",
    "    \n",
    "    @property\n",
    "    def times(self):\n",
    "        return self.pluck_attribute('time')\n",
    "    \n",
    "    @property\n",
    "    def speed(self):\n",
    "        'm/s'\n",
    "        return self.distance_total / self.time_total_s\n",
    "    \n",
    "    @property\n",
    "    def speed_kmph(self):\n",
    "        'km/h'\n",
    "        return self.speed * 3.6\n",
    "    \n",
    "    @property\n",
    "    def pace(self):\n",
    "        'Pace in m/km'\n",
    "        return (self.time_total_s / 60) / (self.distance_total / 1000)\n",
    "    \n",
    "    \n",
    "    @property\n",
    "    def distance_total(self):\n",
    "        \"\"\"\n",
    "        Returns distance in metres from the total run\n",
    "        \"\"\"\n",
    "        distances = []\n",
    "        for i in range(len(self.records)-1):\n",
    "            this_point = Point(self.records[i]['lat'], self.records[i]['lng'])\n",
    "            next_point = Point(self.records[i+1]['lat'], self.records[i+1]['lng'])\n",
    "            distances.append(distance(this_point, next_point).meters)\n",
    "        \n",
    "        return sum(distances)\n",
    "    \n",
    "    @property\n",
    "    def start(self):\n",
    "        return min(self.times)\n",
    "    \n",
    "    @property\n",
    "    def end(self):\n",
    "        return max(self.times)\n",
    "    \n",
    "    @property\n",
    "    def time_total(self):\n",
    "        \"Time total\"\n",
    "        return self.end - self.start\n",
    "    \n",
    "        \n",
    "    @property\n",
    "    def time_total_s(self):\n",
    "        \"Time total in seconds\"\n",
    "        return self.time_total.seconds\n",
    "\n",
    "last_night = Run('data/2016-06-25-2054.gpx')"
   ]
  },
  {
   "cell_type": "code",
   "execution_count": 12,
   "metadata": {
    "collapsed": false
   },
   "outputs": [
    {
     "data": {
      "text/plain": [
       "5641.157399618419"
      ]
     },
     "execution_count": 12,
     "metadata": {},
     "output_type": "execute_result"
    }
   ],
   "source": [
    "last_night.distance_total"
   ]
  },
  {
   "cell_type": "markdown",
   "metadata": {},
   "source": [
    "This is the same value that Run keeper shows. Nice."
   ]
  },
  {
   "cell_type": "code",
   "execution_count": 13,
   "metadata": {
    "collapsed": false,
    "scrolled": true
   },
   "outputs": [
    {
     "data": {
      "text/plain": [
       "50.8"
      ]
     },
     "execution_count": 13,
     "metadata": {},
     "output_type": "execute_result"
    }
   ],
   "source": [
    "last_night.time_total_s / 60"
   ]
  },
  {
   "cell_type": "code",
   "execution_count": 14,
   "metadata": {
    "collapsed": false
   },
   "outputs": [
    {
     "data": {
      "text/plain": [
       "6.662784330257975"
      ]
     },
     "execution_count": 14,
     "metadata": {},
     "output_type": "execute_result"
    }
   ],
   "source": [
    "last_night.speed_kmph"
   ]
  },
  {
   "cell_type": "code",
   "execution_count": 15,
   "metadata": {
    "collapsed": false
   },
   "outputs": [
    {
     "data": {
      "text/plain": [
       "9.00524420811875"
      ]
     },
     "execution_count": 15,
     "metadata": {},
     "output_type": "execute_result"
    }
   ],
   "source": [
    "last_night.pace"
   ]
  },
  {
   "cell_type": "markdown",
   "metadata": {},
   "source": [
    "# Plot it\n",
    "![Plot cesky](http://www.saternus.sk/a/files/produkte/PLOT_DREVENY_Z_DOSIEK/PLOT_DREVENY_Z_DOSIEK_high.jpg)\n"
   ]
  },
  {
   "cell_type": "code",
   "execution_count": 16,
   "metadata": {
    "collapsed": false
   },
   "outputs": [
    {
     "data": {
      "text/html": [
       "\n",
       "    <div class=\"bk-banner\">\n",
       "        <a href=\"http://bokeh.pydata.org\" target=\"_blank\" class=\"bk-logo bk-logo-small bk-logo-notebook\"></a>\n",
       "        <span id=\"ccd8dc15-5cfb-480c-8286-254997d8bcc9\">Loading BokehJS ...</span>\n",
       "    </div>"
      ]
     },
     "metadata": {},
     "output_type": "display_data"
    },
    {
     "data": {
      "application/javascript": [
       "\n",
       "(function(global) {\n",
       "  function now() {\n",
       "    return new Date();\n",
       "  }\n",
       "\n",
       "  if (typeof (window._bokeh_onload_callbacks) === \"undefined\") {\n",
       "    window._bokeh_onload_callbacks = [];\n",
       "  }\n",
       "\n",
       "  function run_callbacks() {\n",
       "    window._bokeh_onload_callbacks.forEach(function(callback) { callback() });\n",
       "    delete window._bokeh_onload_callbacks\n",
       "    console.info(\"Bokeh: all callbacks have finished\");\n",
       "  }\n",
       "\n",
       "  function load_libs(js_urls, callback) {\n",
       "    window._bokeh_onload_callbacks.push(callback);\n",
       "    if (window._bokeh_is_loading > 0) {\n",
       "      console.log(\"Bokeh: BokehJS is being loaded, scheduling callback at\", now());\n",
       "      return null;\n",
       "    }\n",
       "    if (js_urls == null || js_urls.length === 0) {\n",
       "      run_callbacks();\n",
       "      return null;\n",
       "    }\n",
       "    console.log(\"Bokeh: BokehJS not loaded, scheduling load and callback at\", now());\n",
       "    window._bokeh_is_loading = js_urls.length;\n",
       "    for (var i = 0; i < js_urls.length; i++) {\n",
       "      var url = js_urls[i];\n",
       "      var s = document.createElement('script');\n",
       "      s.src = url;\n",
       "      s.async = false;\n",
       "      s.onreadystatechange = s.onload = function() {\n",
       "        window._bokeh_is_loading--;\n",
       "        if (window._bokeh_is_loading === 0) {\n",
       "          console.log(\"Bokeh: all BokehJS libraries loaded\");\n",
       "          run_callbacks()\n",
       "        }\n",
       "      };\n",
       "      s.onerror = function() {\n",
       "        console.warn(\"failed to load library \" + url);\n",
       "      };\n",
       "      console.log(\"Bokeh: injecting script tag for BokehJS library: \", url);\n",
       "      document.getElementsByTagName(\"head\")[0].appendChild(s);\n",
       "    }\n",
       "  };\n",
       "\n",
       "  var js_urls = ['https://cdn.pydata.org/bokeh/release/bokeh-0.11.1.min.js', 'https://cdn.pydata.org/bokeh/release/bokeh-widgets-0.11.1.min.js', 'https://cdn.pydata.org/bokeh/release/bokeh-compiler-0.11.1.min.js'];\n",
       "\n",
       "  var inline_js = [\n",
       "    function(Bokeh) {\n",
       "      Bokeh.set_log_level(\"info\");\n",
       "    },\n",
       "    \n",
       "    function(Bokeh) {\n",
       "      Bokeh.$(\"#ccd8dc15-5cfb-480c-8286-254997d8bcc9\").text(\"BokehJS successfully loaded\");\n",
       "    },\n",
       "    function(Bokeh) {\n",
       "      console.log(\"Bokeh: injecting CSS: https://cdn.pydata.org/bokeh/release/bokeh-0.11.1.min.css\");\n",
       "      Bokeh.embed.inject_css(\"https://cdn.pydata.org/bokeh/release/bokeh-0.11.1.min.css\");\n",
       "      console.log(\"Bokeh: injecting CSS: https://cdn.pydata.org/bokeh/release/bokeh-widgets-0.11.1.min.css\");\n",
       "      Bokeh.embed.inject_css(\"https://cdn.pydata.org/bokeh/release/bokeh-widgets-0.11.1.min.css\");\n",
       "    }\n",
       "  ];\n",
       "\n",
       "  function run_inline_js() {\n",
       "    for (var i = 0; i < inline_js.length; i++) {\n",
       "      inline_js[i](window.Bokeh);\n",
       "    }\n",
       "  }\n",
       "\n",
       "  if (window._bokeh_is_loading === 0) {\n",
       "    console.log(\"Bokeh: BokehJS loaded, going straight to plotting\");\n",
       "    run_inline_js();\n",
       "  } else {\n",
       "    load_libs(js_urls, function() {\n",
       "      console.log(\"Bokeh: BokehJS plotting callback run at\", now());\n",
       "      run_inline_js();\n",
       "    });\n",
       "  }\n",
       "}(this));"
      ]
     },
     "metadata": {},
     "output_type": "display_data"
    }
   ],
   "source": [
    "from bokeh.plotting import figure, show, output_notebook\n",
    "output_notebook()"
   ]
  },
  {
   "cell_type": "code",
   "execution_count": 17,
   "metadata": {
    "collapsed": false
   },
   "outputs": [
    {
     "data": {
      "text/html": [
       "\n",
       "\n",
       "    <div class=\"plotdiv\" id=\"0f38a368-45b3-4b72-8489-377a16b66694\"></div>\n",
       "<script type=\"text/javascript\">\n",
       "  \n",
       "  (function(global) {\n",
       "    function now() {\n",
       "      return new Date();\n",
       "    }\n",
       "  \n",
       "    if (typeof (window._bokeh_onload_callbacks) === \"undefined\") {\n",
       "      window._bokeh_onload_callbacks = [];\n",
       "    }\n",
       "  \n",
       "    function run_callbacks() {\n",
       "      window._bokeh_onload_callbacks.forEach(function(callback) { callback() });\n",
       "      delete window._bokeh_onload_callbacks\n",
       "      console.info(\"Bokeh: all callbacks have finished\");\n",
       "    }\n",
       "  \n",
       "    function load_libs(js_urls, callback) {\n",
       "      window._bokeh_onload_callbacks.push(callback);\n",
       "      if (window._bokeh_is_loading > 0) {\n",
       "        console.log(\"Bokeh: BokehJS is being loaded, scheduling callback at\", now());\n",
       "        return null;\n",
       "      }\n",
       "      if (js_urls == null || js_urls.length === 0) {\n",
       "        run_callbacks();\n",
       "        return null;\n",
       "      }\n",
       "      console.log(\"Bokeh: BokehJS not loaded, scheduling load and callback at\", now());\n",
       "      window._bokeh_is_loading = js_urls.length;\n",
       "      for (var i = 0; i < js_urls.length; i++) {\n",
       "        var url = js_urls[i];\n",
       "        var s = document.createElement('script');\n",
       "        s.src = url;\n",
       "        s.async = false;\n",
       "        s.onreadystatechange = s.onload = function() {\n",
       "          window._bokeh_is_loading--;\n",
       "          if (window._bokeh_is_loading === 0) {\n",
       "            console.log(\"Bokeh: all BokehJS libraries loaded\");\n",
       "            run_callbacks()\n",
       "          }\n",
       "        };\n",
       "        s.onerror = function() {\n",
       "          console.warn(\"failed to load library \" + url);\n",
       "        };\n",
       "        console.log(\"Bokeh: injecting script tag for BokehJS library: \", url);\n",
       "        document.getElementsByTagName(\"head\")[0].appendChild(s);\n",
       "      }\n",
       "    };var element = document.getElementById(\"0f38a368-45b3-4b72-8489-377a16b66694\");\n",
       "    if (element == null) {\n",
       "      console.log(\"Bokeh: ERROR: autoload.js configured with elementid '0f38a368-45b3-4b72-8489-377a16b66694' but no matching script tag was found. \")\n",
       "      return false;\n",
       "    }\n",
       "  \n",
       "    var js_urls = [];\n",
       "  \n",
       "    var inline_js = [\n",
       "      function(Bokeh) {\n",
       "        Bokeh.$(function() {\n",
       "            var docs_json = {\"6a74f715-6afa-4482-bee6-7d551c46f05f\":{\"roots\":{\"references\":[{\"attributes\":{\"callback\":null},\"id\":\"020a6df3-fdb1-422e-8579-9b6727e0401a\",\"type\":\"DataRange1d\"},{\"attributes\":{\"months\":[0,6]},\"id\":\"83729737-b239-4107-8dbb-2846f558fc38\",\"type\":\"MonthsTicker\"},{\"attributes\":{\"line_color\":{\"value\":\"#1f77b4\"},\"x\":{\"field\":\"x\"},\"y\":{\"field\":\"y\"}},\"id\":\"cecdd8c5-3f5d-4dc1-8668-06cfb68f148e\",\"type\":\"Line\"},{\"attributes\":{\"line_alpha\":{\"value\":0.1},\"line_color\":{\"value\":\"#1f77b4\"},\"x\":{\"field\":\"x\"},\"y\":{\"field\":\"y\"}},\"id\":\"e04ae346-b4d7-4b78-ad35-5695f0064605\",\"type\":\"Line\"},{\"attributes\":{\"callback\":null,\"column_names\":[\"y\",\"x\"],\"data\":{\"x\":[1466880893000.0,1466880895000.0,1466880898000.0,1466880911000.0,1466880918000.0,1466880929000.0,1466880933000.0,1466880936000.0,1466880939000.0,1466880942000.0,1466880945000.0,1466880948000.0,1466880951000.0,1466880954000.0,1466880957000.0,1466880960000.0,1466880964000.0,1466880967000.0,1466880970000.0,1466880973000.0,1466880976000.0,1466880980000.0,1466880983000.0,1466880987000.0,1466880991000.0,1466880995000.0,1466880999000.0,1466881003000.0,1466881006000.0,1466881009000.0,1466881012000.0,1466881015000.0,1466881018000.0,1466881021000.0,1466881024000.0,1466881027000.0,1466881031000.0,1466881034000.0,1466881038000.0,1466881071000.0,1466881074000.0,1466881077000.0,1466881080000.0,1466881082000.0,1466881085000.0,1466881088000.0,1466881091000.0,1466881094000.0,1466881097000.0,1466881100000.0,1466881103000.0,1466881106000.0,1466881109000.0,1466881112000.0,1466881116000.0,1466881138000.0,1466881141000.0,1466881144000.0,1466881147000.0,1466881150000.0,1466881153000.0,1466881156000.0,1466881159000.0,1466881162000.0,1466881165000.0,1466881168000.0,1466881171000.0,1466881175000.0,1466881178000.0,1466881181000.0,1466881184000.0,1466881187000.0,1466881190000.0,1466881193000.0,1466881196000.0,1466881200000.0,1466881214000.0,1466881222000.0,1466881226000.0,1466881229000.0,1466881232000.0,1466881235000.0,1466881238000.0,1466881241000.0,1466881244000.0,1466881247000.0,1466881250000.0,1466881253000.0,1466881256000.0,1466881259000.0,1466881262000.0,1466881265000.0,1466881268000.0,1466881271000.0,1466881274000.0,1466881285000.0,1466881301000.0,1466881304000.0,1466881307000.0,1466881309000.0,1466881312000.0,1466881315000.0,1466881318000.0,1466881322000.0,1466881325000.0,1466881328000.0,1466881331000.0,1466881335000.0,1466881350000.0,1466881358000.0,1466881361000.0,1466881364000.0,1466881367000.0,1466881370000.0,1466881373000.0,1466881376000.0,1466881379000.0,1466881383000.0,1466881386000.0,1466881389000.0,1466881392000.0,1466881396000.0,1466881400000.0,1466881403000.0,1466881406000.0,1466881409000.0,1466881412000.0,1466881437000.0,1466881447000.0,1466881451000.0,1466881454000.0,1466881457000.0,1466881460000.0,1466881463000.0,1466881466000.0,1466881469000.0,1466881472000.0,1466881475000.0,1466881478000.0,1466881480000.0,1466881483000.0,1466881486000.0,1466881489000.0,1466881492000.0,1466881495000.0,1466881498000.0,1466881501000.0,1466881504000.0,1466881507000.0,1466881510000.0,1466881513000.0,1466881516000.0,1466881520000.0,1466881523000.0,1466881526000.0,1466881530000.0,1466881534000.0,1466881544000.0,1466881556000.0,1466881564000.0,1466881571000.0,1466881578000.0,1466881586000.0,1466881597000.0,1466881604000.0,1466881613000.0,1466881621000.0,1466881624000.0,1466881627000.0,1466881631000.0,1466881635000.0,1466881639000.0,1466881643000.0,1466881647000.0,1466881651000.0,1466881655000.0,1466881659000.0,1466881663000.0,1466881683000.0,1466881690000.0,1466881694000.0,1466881698000.0,1466881702000.0,1466881707000.0,1466881712000.0,1466881717000.0,1466881722000.0,1466881726000.0,1466881732000.0,1466881737000.0,1466881741000.0,1466881746000.0,1466881751000.0,1466881759000.0,1466881769000.0,1466881780000.0,1466881789000.0,1466881797000.0,1466881807000.0,1466881813000.0,1466881817000.0,1466881821000.0,1466881826000.0,1466881868000.0,1466881872000.0,1466881877000.0,1466881881000.0,1466881885000.0,1466881889000.0,1466881893000.0,1466881897000.0,1466881903000.0,1466881908000.0,1466881913000.0,1466881919000.0,1466881945000.0,1466881957000.0,1466881961000.0,1466881965000.0,1466881970000.0,1466881997000.0,1466882002000.0,1466882040000.0,1466882045000.0,1466882050000.0,1466882056000.0,1466882061000.0,1466882067000.0,1466882072000.0,1466882076000.0,1466882080000.0,1466882083000.0,1466882087000.0,1466882092000.0,1466882097000.0,1466882102000.0,1466882107000.0,1466882111000.0,1466882144000.0,1466882166000.0,1466882175000.0,1466882183000.0,1466882222000.0,1466882326000.0,1466882332000.0,1466882336000.0,1466882339000.0,1466882342000.0,1466882345000.0,1466882348000.0,1466882352000.0,1466882356000.0,1466882360000.0,1466882364000.0,1466882368000.0,1466882373000.0,1466882378000.0,1466882383000.0,1466882387000.0,1466882391000.0,1466882395000.0,1466882399000.0,1466882404000.0,1466882420000.0,1466882424000.0,1466882428000.0,1466882432000.0,1466882436000.0,1466882441000.0,1466882446000.0,1466882452000.0,1466882456000.0,1466882460000.0,1466882464000.0,1466882468000.0,1466882472000.0,1466882476000.0,1466882480000.0,1466882485000.0,1466882490000.0,1466882494000.0,1466882500000.0,1466882506000.0,1466882511000.0,1466882518000.0,1466882527000.0,1466882540000.0,1466882545000.0,1466882550000.0,1466882555000.0,1466882562000.0,1466882568000.0,1466882573000.0,1466882578000.0,1466882584000.0,1466882589000.0,1466882604000.0,1466882643000.0,1466882654000.0,1466882662000.0,1466882666000.0,1466882669000.0,1466882673000.0,1466882677000.0,1466882681000.0,1466882687000.0,1466882692000.0,1466882697000.0,1466882732000.0,1466882737000.0,1466882743000.0,1466882748000.0,1466882752000.0,1466882758000.0,1466882764000.0,1466882770000.0,1466882799000.0,1466882803000.0,1466882806000.0,1466882809000.0,1466882812000.0,1466882816000.0,1466882820000.0,1466882824000.0,1466882829000.0,1466882832000.0,1466882835000.0,1466882839000.0,1466882842000.0,1466882846000.0,1466882850000.0,1466882854000.0,1466882858000.0,1466882863000.0,1466882867000.0,1466882871000.0,1466882876000.0,1466882883000.0,1466882892000.0,1466882902000.0,1466882933000.0,1466882937000.0,1466882941000.0,1466882945000.0,1466882949000.0,1466882953000.0,1466882957000.0,1466882961000.0,1466882965000.0,1466882969000.0,1466882993000.0,1466882997000.0,1466883001000.0,1466883005000.0,1466883009000.0,1466883014000.0,1466883019000.0,1466883024000.0,1466883028000.0,1466883032000.0,1466883036000.0,1466883040000.0,1466883044000.0,1466883048000.0,1466883052000.0,1466883057000.0,1466883062000.0,1466883082000.0,1466883098000.0,1466883102000.0,1466883106000.0,1466883109000.0,1466883112000.0,1466883116000.0,1466883120000.0,1466883124000.0,1466883129000.0,1466883135000.0,1466883142000.0,1466883150000.0,1466883161000.0,1466883169000.0,1466883174000.0,1466883179000.0,1466883183000.0,1466883186000.0,1466883189000.0,1466883193000.0,1466883196000.0,1466883199000.0,1466883203000.0,1466883209000.0,1466883213000.0,1466883217000.0,1466883221000.0,1466883225000.0,1466883229000.0,1466883233000.0,1466883238000.0,1466883243000.0,1466883247000.0,1466883250000.0,1466883253000.0,1466883257000.0,1466883260000.0,1466883264000.0,1466883269000.0,1466883274000.0,1466883296000.0,1466883301000.0,1466883304000.0,1466883308000.0,1466883314000.0,1466883319000.0,1466883323000.0,1466883326000.0,1466883329000.0,1466883333000.0,1466883337000.0,1466883341000.0,1466883345000.0,1466883349000.0,1466883353000.0,1466883358000.0,1466883363000.0,1466883368000.0,1466883374000.0,1466883380000.0,1466883385000.0,1466883390000.0,1466883394000.0,1466883399000.0,1466883413000.0,1466883430000.0,1466883439000.0,1466883448000.0,1466883452000.0,1466883456000.0,1466883460000.0,1466883464000.0,1466883468000.0,1466883473000.0,1466883478000.0,1466883483000.0,1466883489000.0,1466883494000.0,1466883498000.0,1466883502000.0,1466883507000.0,1466883513000.0,1466883518000.0,1466883523000.0,1466883558000.0,1466883562000.0,1466883566000.0,1466883570000.0,1466883574000.0,1466883578000.0,1466883582000.0,1466883587000.0,1466883592000.0,1466883598000.0,1466883605000.0,1466883612000.0,1466883620000.0,1466883630000.0,1466883642000.0,1466883650000.0,1466883659000.0,1466883667000.0,1466883676000.0,1466883684000.0,1466883692000.0,1466883700000.0,1466883709000.0,1466883719000.0,1466883728000.0,1466883736000.0,1466883743000.0,1466883753000.0,1466883763000.0,1466883772000.0,1466883781000.0,1466883789000.0,1466883799000.0,1466883807000.0,1466883817000.0,1466883828000.0,1466883836000.0,1466883844000.0,1466883852000.0,1466883861000.0,1466883871000.0,1466883879000.0,1466883888000.0,1466883897000.0,1466883904000.0,1466883915000.0,1466883941000.0],\"y\":[327.0,326.7,326.5,326.3,325.9,325.5,325.0,324.5,323.9,323.2,322.7,322.3,321.8,321.4,320.9,320.5,320.2,319.8,319.5,319.1,318.9,318.7,318.5,318.4,318.2,318.0,318.0,318.0,318.0,318.0,317.3,316.5,315.8,315.1,314.4,313.6,312.9,312.2,311.5,310.7,310.0,309.4,308.7,308.1,307.5,306.8,306.2,305.5,304.9,304.0,303.1,302.2,301.9,301.6,301.4,301.0,300.6,300.3,299.7,299.2,298.9,298.6,298.4,298.1,297.8,297.5,297.1,296.6,296.2,295.9,295.6,295.3,294.9,294.5,294.2,293.8,293.5,293.4,293.3,293.2,293.1,293.0,292.9,292.5,292.2,291.8,291.5,291.1,290.7,290.4,290.0,289.6,289.4,289.2,289.3,289.4,289.5,289.5,289.6,289.7,289.6,289.5,289.5,289.3,289.1,288.9,288.7,288.5,288.3,288.0,287.7,287.6,287.5,287.5,287.4,287.3,286.9,286.5,286.2,285.7,285.3,284.8,284.4,283.9,283.5,283.0,282.5,282.4,282.2,282.0,282.0,282.0,282.0,281.8,281.6,281.5,281.2,280.9,280.5,280.2,279.8,279.5,279.1,278.7,278.5,278.2,277.9,277.7,277.5,277.5,277.4,277.3,277.0,276.7,276.5,276.3,276.1,275.9,275.7,275.5,275.4,275.2,275.0,275.0,275.0,275.0,275.0,275.2,275.4,275.5,275.7,275.9,276.1,276.3,276.5,276.6,276.8,277.2,277.4,277.5,277.7,277.9,278.1,278.3,278.5,278.6,279.0,279.4,279.5,279.7,279.9,280.1,280.3,280.5,280.6,280.8,281.1,281.4,281.6,281.9,282.2,282.5,282.7,283.0,283.3,283.7,284.5,285.1,285.5,286.0,286.5,286.9,287.4,287.8,288.7,289.6,290.4,290.8,291.6,292.5,293.3,294.1,294.9,295.9,296.9,297.5,298.0,298.5,299.1,299.5,299.8,300.4,300.9,301.5,301.8,302.2,302.5,302.9,303.3,303.6,303.8,304.0,304.0,304.0,304.3,304.5,304.8,305.1,305.4,305.6,305.9,306.2,306.5,306.7,307.0,307.0,307.4,307.7,308.1,308.5,309.0,309.5,309.9,310.4,310.8,311.3,311.7,311.8,311.9,312.0,312.0,312.0,312.3,312.5,312.8,313.1,313.4,313.8,314.3,314.7,315.2,315.6,316.1,316.3,316.6,317.0,317.4,318.2,318.8,319.5,320.1,320.9,321.7,322.5,323.4,324.0,324.6,325.3,325.6,326.0,326.7,327.5,328.0,328.5,329.1,329.6,330.5,331.3,332.1,332.7,333.4,333.6,333.6,333.6,333.6,333.6,333.6,333.4,332.9,332.5,332.0,331.5,331.1,330.9,330.5,330.2,329.8,329.5,329.1,328.9,328.7,328.5,328.4,328.2,328.0,328.0,328.0,328.0,328.0,328.0,328.1,328.2,328.3,328.4,328.5,328.5,328.6,328.7,328.8,328.9,329.0,328.9,328.8,328.7,328.6,328.5,328.5,328.4,328.3,328.2,328.1,328.0,328.0,328.0,328.0,328.0,328.0,328.0,328.0,328.0,328.0,327.7,327.5,327.2,326.9,326.6,326.4,325.9,325.5,325.0,324.5,324.1,323.9,323.2,322.5,321.7,321.0,321.2,321.5,321.4,321.2,321.0,320.8,320.6,321.0,320.6,320.3,319.9,318.6,317.4,316.0,314.6,313.3,311.9,310.5,309.2,308.5,307.7,307.0,306.3,305.5,305.4,305.2,305.0,304.8,304.6,304.5,304.5,304.5,304.5,304.5,304.5,304.6,304.8,305.0,305.2,305.4,305.5,305.8,306.1,306.4,306.6,306.9,307.2,307.5,307.7,308.0,308.3,308.5,308.9,309.3,309.6,310.0,310.4,310.8,311.3,311.7,312.2,312.6,313.1,313.5,313.8,314.2,314.0,314.4,314.7,315.1,315.5,315.8,316.2,316.5,316.7,316.9,317.1,317.8,318.0,318.0,318.0,318.0,318.0,318.0,318.0,318.0,318.2,318.4,318.5,318.7,318.9,319.1,319.5,319.8,320.2,320.5,320.9,321.4,321.8,322.3,322.7,323.2,323.6,324.2,324.7,325.3,325.8,326.2,326.3,326.5,326.7,327.0]}},\"id\":\"b5f509a5-b512-403b-bbe2-9cdd0eaf470a\",\"type\":\"ColumnDataSource\"},{\"attributes\":{\"days\":[1,15]},\"id\":\"693ff480-4456-4b92-82c5-fa4e0a6254f1\",\"type\":\"DaysTicker\"},{\"attributes\":{\"plot\":{\"id\":\"6225845a-f1bc-4559-beb0-cdf89ed0571e\",\"subtype\":\"Figure\",\"type\":\"Plot\"}},\"id\":\"6e964c47-9e47-4878-906f-9a343413bfe3\",\"type\":\"HelpTool\"},{\"attributes\":{},\"id\":\"ec369ef2-240a-4ce7-b1f2-4c07527507a6\",\"type\":\"ToolEvents\"},{\"attributes\":{\"axis_label\":\"Time\",\"formatter\":{\"id\":\"e8321c8a-3b22-4f0d-82ab-775c40714aa4\",\"type\":\"DatetimeTickFormatter\"},\"plot\":{\"id\":\"6225845a-f1bc-4559-beb0-cdf89ed0571e\",\"subtype\":\"Figure\",\"type\":\"Plot\"},\"ticker\":{\"id\":\"a5ad11a5-89eb-4da2-9172-3967bcfba94a\",\"type\":\"DatetimeTicker\"}},\"id\":\"37dab73d-675e-4bf7-8bce-c4000d2ad9f7\",\"type\":\"DatetimeAxis\"},{\"attributes\":{\"max_interval\":500.0,\"num_minor_ticks\":0},\"id\":\"9afe2969-e473-4b92-a524-beafa7a685be\",\"type\":\"AdaptiveTicker\"},{\"attributes\":{\"base\":24,\"mantissas\":[1,2,4,6,8,12],\"max_interval\":43200000.0,\"min_interval\":3600000.0,\"num_minor_ticks\":0},\"id\":\"954af61d-c698-485a-881a-295e10162a7a\",\"type\":\"AdaptiveTicker\"},{\"attributes\":{\"plot\":{\"id\":\"6225845a-f1bc-4559-beb0-cdf89ed0571e\",\"subtype\":\"Figure\",\"type\":\"Plot\"},\"ticker\":{\"id\":\"a5ad11a5-89eb-4da2-9172-3967bcfba94a\",\"type\":\"DatetimeTicker\"}},\"id\":\"9dbbde48-7924-4b98-86e1-dffdfbe6c986\",\"type\":\"Grid\"},{\"attributes\":{\"axis_label\":\"Elevation (m)\",\"formatter\":{\"id\":\"76ee7995-d0a0-4b0b-a8e0-1975e9bbfb68\",\"type\":\"BasicTickFormatter\"},\"plot\":{\"id\":\"6225845a-f1bc-4559-beb0-cdf89ed0571e\",\"subtype\":\"Figure\",\"type\":\"Plot\"},\"ticker\":{\"id\":\"20d0acfe-1f5c-42a3-8267-172e5248615b\",\"type\":\"BasicTicker\"}},\"id\":\"c27aed5c-c96f-4da1-9397-a54f876cb9da\",\"type\":\"LinearAxis\"},{\"attributes\":{\"months\":[0,1,2,3,4,5,6,7,8,9,10,11]},\"id\":\"a914384d-f787-4dc1-9eb5-1a7d5e871d14\",\"type\":\"MonthsTicker\"},{\"attributes\":{},\"id\":\"e8321c8a-3b22-4f0d-82ab-775c40714aa4\",\"type\":\"DatetimeTickFormatter\"},{\"attributes\":{},\"id\":\"76ee7995-d0a0-4b0b-a8e0-1975e9bbfb68\",\"type\":\"BasicTickFormatter\"},{\"attributes\":{\"months\":[0,2,4,6,8,10]},\"id\":\"c170195e-b120-464d-9ef3-bb4c4b09f8b9\",\"type\":\"MonthsTicker\"},{\"attributes\":{\"num_minor_ticks\":5},\"id\":\"a5ad11a5-89eb-4da2-9172-3967bcfba94a\",\"type\":\"DatetimeTicker\"},{\"attributes\":{\"base\":60,\"mantissas\":[1,2,5,10,15,20,30],\"max_interval\":1800000.0,\"min_interval\":1000.0,\"num_minor_ticks\":0},\"id\":\"5d9555f4-ded4-4f9d-ae77-c0d222c8ddc4\",\"type\":\"AdaptiveTicker\"},{\"attributes\":{\"plot\":{\"id\":\"6225845a-f1bc-4559-beb0-cdf89ed0571e\",\"subtype\":\"Figure\",\"type\":\"Plot\"}},\"id\":\"2d0924b6-f7db-4535-b7c0-6d53dc668fe9\",\"type\":\"ResetTool\"},{\"attributes\":{},\"id\":\"20d0acfe-1f5c-42a3-8267-172e5248615b\",\"type\":\"BasicTicker\"},{\"attributes\":{},\"id\":\"75095dda-6755-41c4-acdd-d4bf0f20e451\",\"type\":\"YearsTicker\"},{\"attributes\":{\"plot\":{\"id\":\"6225845a-f1bc-4559-beb0-cdf89ed0571e\",\"subtype\":\"Figure\",\"type\":\"Plot\"}},\"id\":\"b62608e3-2934-4807-ab42-87be27d43798\",\"type\":\"PanTool\"},{\"attributes\":{\"bottom_units\":\"screen\",\"fill_alpha\":{\"value\":0.5},\"fill_color\":{\"value\":\"lightgrey\"},\"left_units\":\"screen\",\"level\":\"overlay\",\"line_alpha\":{\"value\":1.0},\"line_color\":{\"value\":\"black\"},\"line_dash\":[4,4],\"line_width\":{\"value\":2},\"plot\":null,\"render_mode\":\"css\",\"right_units\":\"screen\",\"top_units\":\"screen\"},\"id\":\"90b0f95f-82a6-44db-9ba5-3c0d8629e24c\",\"type\":\"BoxAnnotation\"},{\"attributes\":{\"dimension\":1,\"plot\":{\"id\":\"6225845a-f1bc-4559-beb0-cdf89ed0571e\",\"subtype\":\"Figure\",\"type\":\"Plot\"},\"ticker\":{\"id\":\"20d0acfe-1f5c-42a3-8267-172e5248615b\",\"type\":\"BasicTicker\"}},\"id\":\"f7fa8a5b-0612-4e0a-97b8-5b8c33b0a07a\",\"type\":\"Grid\"},{\"attributes\":{\"days\":[1,2,3,4,5,6,7,8,9,10,11,12,13,14,15,16,17,18,19,20,21,22,23,24,25,26,27,28,29,30,31]},\"id\":\"b639aabb-d9d6-48b8-9d37-ebcb5f61be06\",\"type\":\"DaysTicker\"},{\"attributes\":{\"plot\":{\"id\":\"6225845a-f1bc-4559-beb0-cdf89ed0571e\",\"subtype\":\"Figure\",\"type\":\"Plot\"}},\"id\":\"cc22aff9-fe53-4752-a734-79230bad68f3\",\"type\":\"ResizeTool\"},{\"attributes\":{\"days\":[1,4,7,10,13,16,19,22,25,28]},\"id\":\"e9316fad-db19-4a54-910e-4a6d5f11f101\",\"type\":\"DaysTicker\"},{\"attributes\":{\"plot\":{\"id\":\"6225845a-f1bc-4559-beb0-cdf89ed0571e\",\"subtype\":\"Figure\",\"type\":\"Plot\"}},\"id\":\"8f175e25-f84e-47b8-87a3-58541fa217fd\",\"type\":\"WheelZoomTool\"},{\"attributes\":{\"months\":[0,4,8]},\"id\":\"b4bbb510-1ede-45b7-acac-8a33fb20f520\",\"type\":\"MonthsTicker\"},{\"attributes\":{\"days\":[1,8,15,22]},\"id\":\"b776b95b-171a-45d4-8d7d-df1bfd3d42d6\",\"type\":\"DaysTicker\"},{\"attributes\":{\"plot\":{\"id\":\"6225845a-f1bc-4559-beb0-cdf89ed0571e\",\"subtype\":\"Figure\",\"type\":\"Plot\"}},\"id\":\"9af57328-9f4c-4023-ae16-33d2bc4b3f0e\",\"type\":\"PreviewSaveTool\"},{\"attributes\":{\"overlay\":{\"id\":\"90b0f95f-82a6-44db-9ba5-3c0d8629e24c\",\"type\":\"BoxAnnotation\"},\"plot\":{\"id\":\"6225845a-f1bc-4559-beb0-cdf89ed0571e\",\"subtype\":\"Figure\",\"type\":\"Plot\"}},\"id\":\"4a52d0e1-084e-47b2-9ef2-8983accec614\",\"type\":\"BoxZoomTool\"},{\"attributes\":{\"background_fill_color\":{\"value\":\"#E8DDCB\"},\"below\":[{\"id\":\"37dab73d-675e-4bf7-8bce-c4000d2ad9f7\",\"type\":\"DatetimeAxis\"}],\"left\":[{\"id\":\"c27aed5c-c96f-4da1-9397-a54f876cb9da\",\"type\":\"LinearAxis\"}],\"renderers\":[{\"id\":\"37dab73d-675e-4bf7-8bce-c4000d2ad9f7\",\"type\":\"DatetimeAxis\"},{\"id\":\"9dbbde48-7924-4b98-86e1-dffdfbe6c986\",\"type\":\"Grid\"},{\"id\":\"c27aed5c-c96f-4da1-9397-a54f876cb9da\",\"type\":\"LinearAxis\"},{\"id\":\"f7fa8a5b-0612-4e0a-97b8-5b8c33b0a07a\",\"type\":\"Grid\"},{\"id\":\"90b0f95f-82a6-44db-9ba5-3c0d8629e24c\",\"type\":\"BoxAnnotation\"},{\"id\":\"fb3664ee-8c91-4d3e-ba43-f4604568da31\",\"type\":\"GlyphRenderer\"}],\"title\":\"Elevation from last night run\",\"tool_events\":{\"id\":\"ec369ef2-240a-4ce7-b1f2-4c07527507a6\",\"type\":\"ToolEvents\"},\"tools\":[{\"id\":\"b62608e3-2934-4807-ab42-87be27d43798\",\"type\":\"PanTool\"},{\"id\":\"8f175e25-f84e-47b8-87a3-58541fa217fd\",\"type\":\"WheelZoomTool\"},{\"id\":\"4a52d0e1-084e-47b2-9ef2-8983accec614\",\"type\":\"BoxZoomTool\"},{\"id\":\"9af57328-9f4c-4023-ae16-33d2bc4b3f0e\",\"type\":\"PreviewSaveTool\"},{\"id\":\"cc22aff9-fe53-4752-a734-79230bad68f3\",\"type\":\"ResizeTool\"},{\"id\":\"2d0924b6-f7db-4535-b7c0-6d53dc668fe9\",\"type\":\"ResetTool\"},{\"id\":\"6e964c47-9e47-4878-906f-9a343413bfe3\",\"type\":\"HelpTool\"}],\"x_range\":{\"id\":\"b8f0771a-492d-42ca-ad53-210d5f4fac90\",\"type\":\"DataRange1d\"},\"y_range\":{\"id\":\"020a6df3-fdb1-422e-8579-9b6727e0401a\",\"type\":\"DataRange1d\"}},\"id\":\"6225845a-f1bc-4559-beb0-cdf89ed0571e\",\"subtype\":\"Figure\",\"type\":\"Plot\"},{\"attributes\":{\"data_source\":{\"id\":\"b5f509a5-b512-403b-bbe2-9cdd0eaf470a\",\"type\":\"ColumnDataSource\"},\"glyph\":{\"id\":\"cecdd8c5-3f5d-4dc1-8668-06cfb68f148e\",\"type\":\"Line\"},\"hover_glyph\":null,\"nonselection_glyph\":{\"id\":\"e04ae346-b4d7-4b78-ad35-5695f0064605\",\"type\":\"Line\"},\"selection_glyph\":null},\"id\":\"fb3664ee-8c91-4d3e-ba43-f4604568da31\",\"type\":\"GlyphRenderer\"},{\"attributes\":{\"callback\":null},\"id\":\"b8f0771a-492d-42ca-ad53-210d5f4fac90\",\"type\":\"DataRange1d\"}],\"root_ids\":[\"6225845a-f1bc-4559-beb0-cdf89ed0571e\"]},\"title\":\"Bokeh Application\",\"version\":\"0.11.1\"}};\n",
       "            var render_items = [{\"docid\":\"6a74f715-6afa-4482-bee6-7d551c46f05f\",\"elementid\":\"0f38a368-45b3-4b72-8489-377a16b66694\",\"modelid\":\"6225845a-f1bc-4559-beb0-cdf89ed0571e\",\"notebook_comms_target\":\"57392702-4694-4112-b6b2-66353fcceca9\"}];\n",
       "            \n",
       "            Bokeh.embed.embed_items(docs_json, render_items);\n",
       "        });\n",
       "      },\n",
       "      function(Bokeh) {\n",
       "      }\n",
       "    ];\n",
       "  \n",
       "    function run_inline_js() {\n",
       "      for (var i = 0; i < inline_js.length; i++) {\n",
       "        inline_js[i](window.Bokeh);\n",
       "      }\n",
       "    }\n",
       "  \n",
       "    if (window._bokeh_is_loading === 0) {\n",
       "      console.log(\"Bokeh: BokehJS loaded, going straight to plotting\");\n",
       "      run_inline_js();\n",
       "    } else {\n",
       "      load_libs(js_urls, function() {\n",
       "        console.log(\"Bokeh: BokehJS plotting callback run at\", now());\n",
       "        run_inline_js();\n",
       "      });\n",
       "    }\n",
       "  }(this));\n",
       "</script>"
      ]
     },
     "metadata": {},
     "output_type": "display_data"
    },
    {
     "data": {
      "text/html": [
       "<p><code>&lt;Bokeh Notebook handle for <strong>In[17]</strong>&gt;</code></p>"
      ],
      "text/plain": [
       "<bokeh.io._CommsHandle at 0x7ff0f3cba2b0>"
      ]
     },
     "execution_count": 17,
     "metadata": {},
     "output_type": "execute_result"
    }
   ],
   "source": [
    "elevation = figure(\n",
    "    title=\"Elevation from last night run\", \n",
    "    background_fill_color=\"#E8DDCB\",\n",
    "    y_axis_label='Elevation (m)', \n",
    "    x_axis_label='Time',\n",
    "    x_axis_type=\"datetime\"\n",
    ")\n",
    "\n",
    "elevation.line(last_night.times, last_night.elevations)\n",
    "show(elevation)\n"
   ]
  },
  {
   "cell_type": "markdown",
   "metadata": {},
   "source": [
    "Very nice graph that looks just like the one I saw in Runkeeper. Now lets plot overall trends of all the runs."
   ]
  },
  {
   "cell_type": "code",
   "execution_count": 18,
   "metadata": {
    "collapsed": true
   },
   "outputs": [],
   "source": [
    "all_runs = load_runs()"
   ]
  },
  {
   "cell_type": "code",
   "execution_count": 19,
   "metadata": {
    "collapsed": false
   },
   "outputs": [
    {
     "data": {
      "text/html": [
       "\n",
       "\n",
       "    <div class=\"plotdiv\" id=\"2cfe69b0-61a0-4dc2-adb8-4843e7681972\"></div>\n",
       "<script type=\"text/javascript\">\n",
       "  \n",
       "  (function(global) {\n",
       "    function now() {\n",
       "      return new Date();\n",
       "    }\n",
       "  \n",
       "    if (typeof (window._bokeh_onload_callbacks) === \"undefined\") {\n",
       "      window._bokeh_onload_callbacks = [];\n",
       "    }\n",
       "  \n",
       "    function run_callbacks() {\n",
       "      window._bokeh_onload_callbacks.forEach(function(callback) { callback() });\n",
       "      delete window._bokeh_onload_callbacks\n",
       "      console.info(\"Bokeh: all callbacks have finished\");\n",
       "    }\n",
       "  \n",
       "    function load_libs(js_urls, callback) {\n",
       "      window._bokeh_onload_callbacks.push(callback);\n",
       "      if (window._bokeh_is_loading > 0) {\n",
       "        console.log(\"Bokeh: BokehJS is being loaded, scheduling callback at\", now());\n",
       "        return null;\n",
       "      }\n",
       "      if (js_urls == null || js_urls.length === 0) {\n",
       "        run_callbacks();\n",
       "        return null;\n",
       "      }\n",
       "      console.log(\"Bokeh: BokehJS not loaded, scheduling load and callback at\", now());\n",
       "      window._bokeh_is_loading = js_urls.length;\n",
       "      for (var i = 0; i < js_urls.length; i++) {\n",
       "        var url = js_urls[i];\n",
       "        var s = document.createElement('script');\n",
       "        s.src = url;\n",
       "        s.async = false;\n",
       "        s.onreadystatechange = s.onload = function() {\n",
       "          window._bokeh_is_loading--;\n",
       "          if (window._bokeh_is_loading === 0) {\n",
       "            console.log(\"Bokeh: all BokehJS libraries loaded\");\n",
       "            run_callbacks()\n",
       "          }\n",
       "        };\n",
       "        s.onerror = function() {\n",
       "          console.warn(\"failed to load library \" + url);\n",
       "        };\n",
       "        console.log(\"Bokeh: injecting script tag for BokehJS library: \", url);\n",
       "        document.getElementsByTagName(\"head\")[0].appendChild(s);\n",
       "      }\n",
       "    };var element = document.getElementById(\"2cfe69b0-61a0-4dc2-adb8-4843e7681972\");\n",
       "    if (element == null) {\n",
       "      console.log(\"Bokeh: ERROR: autoload.js configured with elementid '2cfe69b0-61a0-4dc2-adb8-4843e7681972' but no matching script tag was found. \")\n",
       "      return false;\n",
       "    }\n",
       "  \n",
       "    var js_urls = [];\n",
       "  \n",
       "    var inline_js = [\n",
       "      function(Bokeh) {\n",
       "        Bokeh.$(function() {\n",
       "            var docs_json = {\"39b5f082-4129-44a1-af14-d1007fe1e537\":{\"roots\":{\"references\":[{\"attributes\":{\"callback\":null},\"id\":\"020a6df3-fdb1-422e-8579-9b6727e0401a\",\"type\":\"DataRange1d\"},{\"attributes\":{\"line_color\":{\"value\":\"#1f77b4\"},\"x\":{\"field\":\"x\"},\"y\":{\"field\":\"y\"}},\"id\":\"cecdd8c5-3f5d-4dc1-8668-06cfb68f148e\",\"type\":\"Line\"},{\"attributes\":{\"fill_color\":{\"value\":\"#1f77b4\"},\"line_color\":{\"value\":\"#1f77b4\"},\"x\":{\"field\":\"x\"},\"y\":{\"field\":\"y\"}},\"id\":\"bc087d99-635b-4c6d-8277-23a3d0a2463e\",\"type\":\"Circle\"},{\"attributes\":{\"plot\":{\"id\":\"ab49042c-357b-45f1-8a81-eb6e2215926f\",\"subtype\":\"Figure\",\"type\":\"Plot\"}},\"id\":\"45f832e4-6c82-40be-bf98-d2fb5c0feb87\",\"type\":\"WheelZoomTool\"},{\"attributes\":{\"days\":[1,15]},\"id\":\"7bb0a8df-3013-4a4d-b29d-e504ff2ca480\",\"type\":\"DaysTicker\"},{\"attributes\":{},\"id\":\"ec369ef2-240a-4ce7-b1f2-4c07527507a6\",\"type\":\"ToolEvents\"},{\"attributes\":{\"plot\":{\"id\":\"6225845a-f1bc-4559-beb0-cdf89ed0571e\",\"subtype\":\"Figure\",\"type\":\"Plot\"}},\"id\":\"6e964c47-9e47-4878-906f-9a343413bfe3\",\"type\":\"HelpTool\"},{\"attributes\":{\"max_interval\":500.0,\"num_minor_ticks\":0},\"id\":\"9afe2969-e473-4b92-a524-beafa7a685be\",\"type\":\"AdaptiveTicker\"},{\"attributes\":{\"base\":24,\"mantissas\":[1,2,4,6,8,12],\"max_interval\":43200000.0,\"min_interval\":3600000.0,\"num_minor_ticks\":0},\"id\":\"954af61d-c698-485a-881a-295e10162a7a\",\"type\":\"AdaptiveTicker\"},{\"attributes\":{\"plot\":{\"id\":\"6225845a-f1bc-4559-beb0-cdf89ed0571e\",\"subtype\":\"Figure\",\"type\":\"Plot\"},\"ticker\":{\"id\":\"a5ad11a5-89eb-4da2-9172-3967bcfba94a\",\"type\":\"DatetimeTicker\"}},\"id\":\"9dbbde48-7924-4b98-86e1-dffdfbe6c986\",\"type\":\"Grid\"},{\"attributes\":{\"plot\":{\"id\":\"ab49042c-357b-45f1-8a81-eb6e2215926f\",\"subtype\":\"Figure\",\"type\":\"Plot\"}},\"id\":\"3d4a42ce-c514-4ec9-8ecd-faafa3008f60\",\"type\":\"ResizeTool\"},{\"attributes\":{\"callback\":null},\"id\":\"0417373f-cddc-4eb2-bfa2-0c08bde09426\",\"type\":\"DataRange1d\"},{\"attributes\":{},\"id\":\"e8321c8a-3b22-4f0d-82ab-775c40714aa4\",\"type\":\"DatetimeTickFormatter\"},{\"attributes\":{\"plot\":{\"id\":\"ab49042c-357b-45f1-8a81-eb6e2215926f\",\"subtype\":\"Figure\",\"type\":\"Plot\"}},\"id\":\"3bce4a5e-7e71-44a1-9f74-44981243bb16\",\"type\":\"HelpTool\"},{\"attributes\":{\"months\":[0,2,4,6,8,10]},\"id\":\"c170195e-b120-464d-9ef3-bb4c4b09f8b9\",\"type\":\"MonthsTicker\"},{\"attributes\":{},\"id\":\"d156debb-5d19-460b-96ca-c5e3b3140544\",\"type\":\"DatetimeTickFormatter\"},{\"attributes\":{\"callback\":null,\"column_names\":[\"y\",\"x\"],\"data\":{\"x\":[1465328243000.0,1428148529000.0,1463844198000.0,1415554211000.0,1414697951000.0,1434131854000.0,1425920018000.0,1439056606000.0,1438106993000.0,1410246399000.0,1457113081000.0,1410099387000.0,1436643161000.0,1462128356000.0,1466880893000.0,1443172413000.0,1424372257000.0,1464635172000.0,1438457322000.0,1420981616000.0,1412445070000.0,1431286224000.0,1465587240000.0,1444075724000.0,1428233258000.0,1425674543000.0,1426191183000.0,1426607916000.0,1459889614000.0,1422467747000.0,1465060160000.0,1418056433000.0,1466349240000.0,1420741859000.0,1440791953000.0,1421776526000.0,1411542030000.0,1446030451000.0,1411929948000.0,1411201027000.0,1436301721000.0,1430762639000.0,1410547403000.0,1422038969000.0],\"y\":[5869.758041685876,2050.294537996982,5673.724969564729,5493.705520609242,5936.597828117186,4466.736025644979,8747.538975053558,7583.492622425234,4482.126354346572,1256.0139437106257,38.50415036853844,1465.8603370305834,5980.435447792143,5678.105548248082,5641.157399618419,1848.3031448360637,2102.6866123651434,4686.257052728707,9468.497064399835,4437.458852924772,5637.941600178236,5976.531944856669,10040.460857166941,9377.080509775602,4927.336038861122,12543.342213664968,9053.550749702497,9066.96676016255,9355.976346881262,6733.926622101581,5690.823548807764,3787.3912574156557,8943.501144715288,10096.597395845707,12190.74237889001,8190.534493570851,5721.8997620119135,7650.115555373454,14.964854228276854,2732.913143192231,4069.3537789534007,4580.658855378932,7770.535908053509,13061.254042482593]}},\"id\":\"cd32cdad-1b09-4cae-a7fe-9d3b8bc8236e\",\"type\":\"ColumnDataSource\"},{\"attributes\":{\"plot\":{\"id\":\"6225845a-f1bc-4559-beb0-cdf89ed0571e\",\"subtype\":\"Figure\",\"type\":\"Plot\"}},\"id\":\"2d0924b6-f7db-4535-b7c0-6d53dc668fe9\",\"type\":\"ResetTool\"},{\"attributes\":{},\"id\":\"20d0acfe-1f5c-42a3-8267-172e5248615b\",\"type\":\"BasicTicker\"},{\"attributes\":{\"plot\":{\"id\":\"ab49042c-357b-45f1-8a81-eb6e2215926f\",\"subtype\":\"Figure\",\"type\":\"Plot\"}},\"id\":\"0dcc5238-3135-49ea-92ee-d37c527d577a\",\"type\":\"ResetTool\"},{\"attributes\":{\"max_interval\":500.0,\"num_minor_ticks\":0},\"id\":\"2483a01f-7a6e-4d72-a95f-77910a28fa73\",\"type\":\"AdaptiveTicker\"},{\"attributes\":{\"dimension\":1,\"plot\":{\"id\":\"6225845a-f1bc-4559-beb0-cdf89ed0571e\",\"subtype\":\"Figure\",\"type\":\"Plot\"},\"ticker\":{\"id\":\"20d0acfe-1f5c-42a3-8267-172e5248615b\",\"type\":\"BasicTicker\"}},\"id\":\"f7fa8a5b-0612-4e0a-97b8-5b8c33b0a07a\",\"type\":\"Grid\"},{\"attributes\":{\"days\":[1,2,3,4,5,6,7,8,9,10,11,12,13,14,15,16,17,18,19,20,21,22,23,24,25,26,27,28,29,30,31]},\"id\":\"b639aabb-d9d6-48b8-9d37-ebcb5f61be06\",\"type\":\"DaysTicker\"},{\"attributes\":{\"bottom_units\":\"screen\",\"fill_alpha\":{\"value\":0.5},\"fill_color\":{\"value\":\"lightgrey\"},\"left_units\":\"screen\",\"level\":\"overlay\",\"line_alpha\":{\"value\":1.0},\"line_color\":{\"value\":\"black\"},\"line_dash\":[4,4],\"line_width\":{\"value\":2},\"plot\":null,\"render_mode\":\"css\",\"right_units\":\"screen\",\"top_units\":\"screen\"},\"id\":\"6d13d4c3-bf0b-4f79-85ea-f5d321e49382\",\"type\":\"BoxAnnotation\"},{\"attributes\":{\"days\":[1,4,7,10,13,16,19,22,25,28]},\"id\":\"e9316fad-db19-4a54-910e-4a6d5f11f101\",\"type\":\"DaysTicker\"},{\"attributes\":{},\"id\":\"7bc59c59-cfad-460c-8e2a-0edfda534c81\",\"type\":\"BasicTicker\"},{\"attributes\":{\"dimension\":1,\"plot\":{\"id\":\"ab49042c-357b-45f1-8a81-eb6e2215926f\",\"subtype\":\"Figure\",\"type\":\"Plot\"},\"ticker\":{\"id\":\"7bc59c59-cfad-460c-8e2a-0edfda534c81\",\"type\":\"BasicTicker\"}},\"id\":\"325749a2-1ea5-4568-8af7-d9991cd34787\",\"type\":\"Grid\"},{\"attributes\":{\"months\":[0,4,8]},\"id\":\"b4bbb510-1ede-45b7-acac-8a33fb20f520\",\"type\":\"MonthsTicker\"},{\"attributes\":{\"days\":[1,8,15,22]},\"id\":\"b776b95b-171a-45d4-8d7d-df1bfd3d42d6\",\"type\":\"DaysTicker\"},{\"attributes\":{\"data_source\":{\"id\":\"cd32cdad-1b09-4cae-a7fe-9d3b8bc8236e\",\"type\":\"ColumnDataSource\"},\"glyph\":{\"id\":\"bc087d99-635b-4c6d-8277-23a3d0a2463e\",\"type\":\"Circle\"},\"hover_glyph\":null,\"nonselection_glyph\":{\"id\":\"e04db3e7-726f-4427-91a3-690c7db8575d\",\"type\":\"Circle\"},\"selection_glyph\":null},\"id\":\"0a4f4d6a-bfd1-4228-b176-d6dbc1307815\",\"type\":\"GlyphRenderer\"},{\"attributes\":{\"axis_label\":\"Distance (m)\",\"formatter\":{\"id\":\"f5c4ccd1-2de4-41be-b3b0-919d34c69f51\",\"type\":\"BasicTickFormatter\"},\"plot\":{\"id\":\"ab49042c-357b-45f1-8a81-eb6e2215926f\",\"subtype\":\"Figure\",\"type\":\"Plot\"},\"ticker\":{\"id\":\"7bc59c59-cfad-460c-8e2a-0edfda534c81\",\"type\":\"BasicTicker\"}},\"id\":\"fc47a57b-09af-4c0c-928b-b41acba89767\",\"type\":\"LinearAxis\"},{\"attributes\":{\"overlay\":{\"id\":\"6d13d4c3-bf0b-4f79-85ea-f5d321e49382\",\"type\":\"BoxAnnotation\"},\"plot\":{\"id\":\"ab49042c-357b-45f1-8a81-eb6e2215926f\",\"subtype\":\"Figure\",\"type\":\"Plot\"}},\"id\":\"11944090-d491-474e-b378-5fa5d783b92f\",\"type\":\"BoxZoomTool\"},{\"attributes\":{\"months\":[0,1,2,3,4,5,6,7,8,9,10,11]},\"id\":\"6fa8e12a-5842-496f-bba3-ff44dceac3ac\",\"type\":\"MonthsTicker\"},{\"attributes\":{\"base\":60,\"mantissas\":[1,2,5,10,15,20,30],\"max_interval\":1800000.0,\"min_interval\":1000.0,\"num_minor_ticks\":0},\"id\":\"5d9555f4-ded4-4f9d-ae77-c0d222c8ddc4\",\"type\":\"AdaptiveTicker\"},{\"attributes\":{\"background_fill_color\":{\"value\":\"#E8DDCB\"},\"below\":[{\"id\":\"37dab73d-675e-4bf7-8bce-c4000d2ad9f7\",\"type\":\"DatetimeAxis\"}],\"left\":[{\"id\":\"c27aed5c-c96f-4da1-9397-a54f876cb9da\",\"type\":\"LinearAxis\"}],\"renderers\":[{\"id\":\"37dab73d-675e-4bf7-8bce-c4000d2ad9f7\",\"type\":\"DatetimeAxis\"},{\"id\":\"9dbbde48-7924-4b98-86e1-dffdfbe6c986\",\"type\":\"Grid\"},{\"id\":\"c27aed5c-c96f-4da1-9397-a54f876cb9da\",\"type\":\"LinearAxis\"},{\"id\":\"f7fa8a5b-0612-4e0a-97b8-5b8c33b0a07a\",\"type\":\"Grid\"},{\"id\":\"90b0f95f-82a6-44db-9ba5-3c0d8629e24c\",\"type\":\"BoxAnnotation\"},{\"id\":\"fb3664ee-8c91-4d3e-ba43-f4604568da31\",\"type\":\"GlyphRenderer\"}],\"title\":\"Elevation from last night run\",\"tool_events\":{\"id\":\"ec369ef2-240a-4ce7-b1f2-4c07527507a6\",\"type\":\"ToolEvents\"},\"tools\":[{\"id\":\"b62608e3-2934-4807-ab42-87be27d43798\",\"type\":\"PanTool\"},{\"id\":\"8f175e25-f84e-47b8-87a3-58541fa217fd\",\"type\":\"WheelZoomTool\"},{\"id\":\"4a52d0e1-084e-47b2-9ef2-8983accec614\",\"type\":\"BoxZoomTool\"},{\"id\":\"9af57328-9f4c-4023-ae16-33d2bc4b3f0e\",\"type\":\"PreviewSaveTool\"},{\"id\":\"cc22aff9-fe53-4752-a734-79230bad68f3\",\"type\":\"ResizeTool\"},{\"id\":\"2d0924b6-f7db-4535-b7c0-6d53dc668fe9\",\"type\":\"ResetTool\"},{\"id\":\"6e964c47-9e47-4878-906f-9a343413bfe3\",\"type\":\"HelpTool\"}],\"x_range\":{\"id\":\"b8f0771a-492d-42ca-ad53-210d5f4fac90\",\"type\":\"DataRange1d\"},\"y_range\":{\"id\":\"020a6df3-fdb1-422e-8579-9b6727e0401a\",\"type\":\"DataRange1d\"}},\"id\":\"6225845a-f1bc-4559-beb0-cdf89ed0571e\",\"subtype\":\"Figure\",\"type\":\"Plot\"},{\"attributes\":{\"data_source\":{\"id\":\"b5f509a5-b512-403b-bbe2-9cdd0eaf470a\",\"type\":\"ColumnDataSource\"},\"glyph\":{\"id\":\"cecdd8c5-3f5d-4dc1-8668-06cfb68f148e\",\"type\":\"Line\"},\"hover_glyph\":null,\"nonselection_glyph\":{\"id\":\"e04ae346-b4d7-4b78-ad35-5695f0064605\",\"type\":\"Line\"},\"selection_glyph\":null},\"id\":\"fb3664ee-8c91-4d3e-ba43-f4604568da31\",\"type\":\"GlyphRenderer\"},{\"attributes\":{\"callback\":null},\"id\":\"b8f0771a-492d-42ca-ad53-210d5f4fac90\",\"type\":\"DataRange1d\"},{\"attributes\":{\"months\":[0,6]},\"id\":\"83729737-b239-4107-8dbb-2846f558fc38\",\"type\":\"MonthsTicker\"},{\"attributes\":{\"plot\":{\"id\":\"ab49042c-357b-45f1-8a81-eb6e2215926f\",\"subtype\":\"Figure\",\"type\":\"Plot\"}},\"id\":\"78699850-8c30-442e-b393-7df14e513f15\",\"type\":\"PreviewSaveTool\"},{\"attributes\":{\"line_alpha\":{\"value\":0.1},\"line_color\":{\"value\":\"#1f77b4\"},\"x\":{\"field\":\"x\"},\"y\":{\"field\":\"y\"}},\"id\":\"e04ae346-b4d7-4b78-ad35-5695f0064605\",\"type\":\"Line\"},{\"attributes\":{\"plot\":{\"id\":\"6225845a-f1bc-4559-beb0-cdf89ed0571e\",\"subtype\":\"Figure\",\"type\":\"Plot\"}},\"id\":\"9af57328-9f4c-4023-ae16-33d2bc4b3f0e\",\"type\":\"PreviewSaveTool\"},{\"attributes\":{\"fill_alpha\":{\"value\":0.1},\"fill_color\":{\"value\":\"#1f77b4\"},\"line_alpha\":{\"value\":0.1},\"line_color\":{\"value\":\"#1f77b4\"},\"x\":{\"field\":\"x\"},\"y\":{\"field\":\"y\"}},\"id\":\"e04db3e7-726f-4427-91a3-690c7db8575d\",\"type\":\"Circle\"},{\"attributes\":{\"base\":24,\"mantissas\":[1,2,4,6,8,12],\"max_interval\":43200000.0,\"min_interval\":3600000.0,\"num_minor_ticks\":0},\"id\":\"7629adcd-13eb-44d8-a535-ab8906853305\",\"type\":\"AdaptiveTicker\"},{\"attributes\":{},\"id\":\"2d41e680-a443-4289-904a-9714dd8d96a9\",\"type\":\"ToolEvents\"},{\"attributes\":{\"axis_label\":\"Time\",\"formatter\":{\"id\":\"e8321c8a-3b22-4f0d-82ab-775c40714aa4\",\"type\":\"DatetimeTickFormatter\"},\"plot\":{\"id\":\"6225845a-f1bc-4559-beb0-cdf89ed0571e\",\"subtype\":\"Figure\",\"type\":\"Plot\"},\"ticker\":{\"id\":\"a5ad11a5-89eb-4da2-9172-3967bcfba94a\",\"type\":\"DatetimeTicker\"}},\"id\":\"37dab73d-675e-4bf7-8bce-c4000d2ad9f7\",\"type\":\"DatetimeAxis\"},{\"attributes\":{\"days\":[1,4,7,10,13,16,19,22,25,28]},\"id\":\"8543a35e-a100-466f-867d-7548c46f76f5\",\"type\":\"DaysTicker\"},{\"attributes\":{\"axis_label\":\"Elevation (m)\",\"formatter\":{\"id\":\"76ee7995-d0a0-4b0b-a8e0-1975e9bbfb68\",\"type\":\"BasicTickFormatter\"},\"plot\":{\"id\":\"6225845a-f1bc-4559-beb0-cdf89ed0571e\",\"subtype\":\"Figure\",\"type\":\"Plot\"},\"ticker\":{\"id\":\"20d0acfe-1f5c-42a3-8267-172e5248615b\",\"type\":\"BasicTicker\"}},\"id\":\"c27aed5c-c96f-4da1-9397-a54f876cb9da\",\"type\":\"LinearAxis\"},{\"attributes\":{},\"id\":\"7c81999c-f6e0-4e95-b9be-ea27382d3015\",\"type\":\"YearsTicker\"},{\"attributes\":{\"months\":[0,2,4,6,8,10]},\"id\":\"439b703f-5ccf-47c8-ac3d-d041d5730164\",\"type\":\"MonthsTicker\"},{\"attributes\":{\"months\":[0,6]},\"id\":\"8d9f102e-c726-440f-8acf-0b0e542e3589\",\"type\":\"MonthsTicker\"},{\"attributes\":{\"plot\":{\"id\":\"6225845a-f1bc-4559-beb0-cdf89ed0571e\",\"subtype\":\"Figure\",\"type\":\"Plot\"}},\"id\":\"b62608e3-2934-4807-ab42-87be27d43798\",\"type\":\"PanTool\"},{\"attributes\":{\"num_minor_ticks\":5},\"id\":\"f8ee1b79-6e13-4bc8-a22c-c22d730eebf5\",\"type\":\"DatetimeTicker\"},{\"attributes\":{\"months\":[0,4,8]},\"id\":\"26a5cd4c-50cc-49cf-aa88-d59a6722ddc0\",\"type\":\"MonthsTicker\"},{\"attributes\":{\"overlay\":{\"id\":\"90b0f95f-82a6-44db-9ba5-3c0d8629e24c\",\"type\":\"BoxAnnotation\"},\"plot\":{\"id\":\"6225845a-f1bc-4559-beb0-cdf89ed0571e\",\"subtype\":\"Figure\",\"type\":\"Plot\"}},\"id\":\"4a52d0e1-084e-47b2-9ef2-8983accec614\",\"type\":\"BoxZoomTool\"},{\"attributes\":{\"background_fill_color\":{\"value\":\"#E8DDCB\"},\"below\":[{\"id\":\"cc40b6d9-fe75-4672-8af7-a07fb2d09bb2\",\"type\":\"DatetimeAxis\"}],\"left\":[{\"id\":\"fc47a57b-09af-4c0c-928b-b41acba89767\",\"type\":\"LinearAxis\"}],\"renderers\":[{\"id\":\"cc40b6d9-fe75-4672-8af7-a07fb2d09bb2\",\"type\":\"DatetimeAxis\"},{\"id\":\"435610a4-135d-454b-8514-791e3dc25d8d\",\"type\":\"Grid\"},{\"id\":\"fc47a57b-09af-4c0c-928b-b41acba89767\",\"type\":\"LinearAxis\"},{\"id\":\"325749a2-1ea5-4568-8af7-d9991cd34787\",\"type\":\"Grid\"},{\"id\":\"6d13d4c3-bf0b-4f79-85ea-f5d321e49382\",\"type\":\"BoxAnnotation\"},{\"id\":\"0a4f4d6a-bfd1-4228-b176-d6dbc1307815\",\"type\":\"GlyphRenderer\"}],\"title\":\"Distances run over time\",\"tool_events\":{\"id\":\"2d41e680-a443-4289-904a-9714dd8d96a9\",\"type\":\"ToolEvents\"},\"tools\":[{\"id\":\"e232a08d-25b9-4d66-988f-9a584eeccfdb\",\"type\":\"PanTool\"},{\"id\":\"45f832e4-6c82-40be-bf98-d2fb5c0feb87\",\"type\":\"WheelZoomTool\"},{\"id\":\"11944090-d491-474e-b378-5fa5d783b92f\",\"type\":\"BoxZoomTool\"},{\"id\":\"78699850-8c30-442e-b393-7df14e513f15\",\"type\":\"PreviewSaveTool\"},{\"id\":\"3d4a42ce-c514-4ec9-8ecd-faafa3008f60\",\"type\":\"ResizeTool\"},{\"id\":\"0dcc5238-3135-49ea-92ee-d37c527d577a\",\"type\":\"ResetTool\"},{\"id\":\"3bce4a5e-7e71-44a1-9f74-44981243bb16\",\"type\":\"HelpTool\"}],\"x_range\":{\"id\":\"eafba1a6-ddc7-49ec-9e0a-5190c7db30c0\",\"type\":\"DataRange1d\"},\"y_range\":{\"id\":\"0417373f-cddc-4eb2-bfa2-0c08bde09426\",\"type\":\"DataRange1d\"}},\"id\":\"ab49042c-357b-45f1-8a81-eb6e2215926f\",\"subtype\":\"Figure\",\"type\":\"Plot\"},{\"attributes\":{\"callback\":null},\"id\":\"eafba1a6-ddc7-49ec-9e0a-5190c7db30c0\",\"type\":\"DataRange1d\"},{\"attributes\":{\"plot\":{\"id\":\"ab49042c-357b-45f1-8a81-eb6e2215926f\",\"subtype\":\"Figure\",\"type\":\"Plot\"},\"ticker\":{\"id\":\"f8ee1b79-6e13-4bc8-a22c-c22d730eebf5\",\"type\":\"DatetimeTicker\"}},\"id\":\"435610a4-135d-454b-8514-791e3dc25d8d\",\"type\":\"Grid\"},{\"attributes\":{},\"id\":\"75095dda-6755-41c4-acdd-d4bf0f20e451\",\"type\":\"YearsTicker\"},{\"attributes\":{\"bottom_units\":\"screen\",\"fill_alpha\":{\"value\":0.5},\"fill_color\":{\"value\":\"lightgrey\"},\"left_units\":\"screen\",\"level\":\"overlay\",\"line_alpha\":{\"value\":1.0},\"line_color\":{\"value\":\"black\"},\"line_dash\":[4,4],\"line_width\":{\"value\":2},\"plot\":null,\"render_mode\":\"css\",\"right_units\":\"screen\",\"top_units\":\"screen\"},\"id\":\"90b0f95f-82a6-44db-9ba5-3c0d8629e24c\",\"type\":\"BoxAnnotation\"},{\"attributes\":{\"callback\":null,\"column_names\":[\"y\",\"x\"],\"data\":{\"x\":[1466880893000.0,1466880895000.0,1466880898000.0,1466880911000.0,1466880918000.0,1466880929000.0,1466880933000.0,1466880936000.0,1466880939000.0,1466880942000.0,1466880945000.0,1466880948000.0,1466880951000.0,1466880954000.0,1466880957000.0,1466880960000.0,1466880964000.0,1466880967000.0,1466880970000.0,1466880973000.0,1466880976000.0,1466880980000.0,1466880983000.0,1466880987000.0,1466880991000.0,1466880995000.0,1466880999000.0,1466881003000.0,1466881006000.0,1466881009000.0,1466881012000.0,1466881015000.0,1466881018000.0,1466881021000.0,1466881024000.0,1466881027000.0,1466881031000.0,1466881034000.0,1466881038000.0,1466881071000.0,1466881074000.0,1466881077000.0,1466881080000.0,1466881082000.0,1466881085000.0,1466881088000.0,1466881091000.0,1466881094000.0,1466881097000.0,1466881100000.0,1466881103000.0,1466881106000.0,1466881109000.0,1466881112000.0,1466881116000.0,1466881138000.0,1466881141000.0,1466881144000.0,1466881147000.0,1466881150000.0,1466881153000.0,1466881156000.0,1466881159000.0,1466881162000.0,1466881165000.0,1466881168000.0,1466881171000.0,1466881175000.0,1466881178000.0,1466881181000.0,1466881184000.0,1466881187000.0,1466881190000.0,1466881193000.0,1466881196000.0,1466881200000.0,1466881214000.0,1466881222000.0,1466881226000.0,1466881229000.0,1466881232000.0,1466881235000.0,1466881238000.0,1466881241000.0,1466881244000.0,1466881247000.0,1466881250000.0,1466881253000.0,1466881256000.0,1466881259000.0,1466881262000.0,1466881265000.0,1466881268000.0,1466881271000.0,1466881274000.0,1466881285000.0,1466881301000.0,1466881304000.0,1466881307000.0,1466881309000.0,1466881312000.0,1466881315000.0,1466881318000.0,1466881322000.0,1466881325000.0,1466881328000.0,1466881331000.0,1466881335000.0,1466881350000.0,1466881358000.0,1466881361000.0,1466881364000.0,1466881367000.0,1466881370000.0,1466881373000.0,1466881376000.0,1466881379000.0,1466881383000.0,1466881386000.0,1466881389000.0,1466881392000.0,1466881396000.0,1466881400000.0,1466881403000.0,1466881406000.0,1466881409000.0,1466881412000.0,1466881437000.0,1466881447000.0,1466881451000.0,1466881454000.0,1466881457000.0,1466881460000.0,1466881463000.0,1466881466000.0,1466881469000.0,1466881472000.0,1466881475000.0,1466881478000.0,1466881480000.0,1466881483000.0,1466881486000.0,1466881489000.0,1466881492000.0,1466881495000.0,1466881498000.0,1466881501000.0,1466881504000.0,1466881507000.0,1466881510000.0,1466881513000.0,1466881516000.0,1466881520000.0,1466881523000.0,1466881526000.0,1466881530000.0,1466881534000.0,1466881544000.0,1466881556000.0,1466881564000.0,1466881571000.0,1466881578000.0,1466881586000.0,1466881597000.0,1466881604000.0,1466881613000.0,1466881621000.0,1466881624000.0,1466881627000.0,1466881631000.0,1466881635000.0,1466881639000.0,1466881643000.0,1466881647000.0,1466881651000.0,1466881655000.0,1466881659000.0,1466881663000.0,1466881683000.0,1466881690000.0,1466881694000.0,1466881698000.0,1466881702000.0,1466881707000.0,1466881712000.0,1466881717000.0,1466881722000.0,1466881726000.0,1466881732000.0,1466881737000.0,1466881741000.0,1466881746000.0,1466881751000.0,1466881759000.0,1466881769000.0,1466881780000.0,1466881789000.0,1466881797000.0,1466881807000.0,1466881813000.0,1466881817000.0,1466881821000.0,1466881826000.0,1466881868000.0,1466881872000.0,1466881877000.0,1466881881000.0,1466881885000.0,1466881889000.0,1466881893000.0,1466881897000.0,1466881903000.0,1466881908000.0,1466881913000.0,1466881919000.0,1466881945000.0,1466881957000.0,1466881961000.0,1466881965000.0,1466881970000.0,1466881997000.0,1466882002000.0,1466882040000.0,1466882045000.0,1466882050000.0,1466882056000.0,1466882061000.0,1466882067000.0,1466882072000.0,1466882076000.0,1466882080000.0,1466882083000.0,1466882087000.0,1466882092000.0,1466882097000.0,1466882102000.0,1466882107000.0,1466882111000.0,1466882144000.0,1466882166000.0,1466882175000.0,1466882183000.0,1466882222000.0,1466882326000.0,1466882332000.0,1466882336000.0,1466882339000.0,1466882342000.0,1466882345000.0,1466882348000.0,1466882352000.0,1466882356000.0,1466882360000.0,1466882364000.0,1466882368000.0,1466882373000.0,1466882378000.0,1466882383000.0,1466882387000.0,1466882391000.0,1466882395000.0,1466882399000.0,1466882404000.0,1466882420000.0,1466882424000.0,1466882428000.0,1466882432000.0,1466882436000.0,1466882441000.0,1466882446000.0,1466882452000.0,1466882456000.0,1466882460000.0,1466882464000.0,1466882468000.0,1466882472000.0,1466882476000.0,1466882480000.0,1466882485000.0,1466882490000.0,1466882494000.0,1466882500000.0,1466882506000.0,1466882511000.0,1466882518000.0,1466882527000.0,1466882540000.0,1466882545000.0,1466882550000.0,1466882555000.0,1466882562000.0,1466882568000.0,1466882573000.0,1466882578000.0,1466882584000.0,1466882589000.0,1466882604000.0,1466882643000.0,1466882654000.0,1466882662000.0,1466882666000.0,1466882669000.0,1466882673000.0,1466882677000.0,1466882681000.0,1466882687000.0,1466882692000.0,1466882697000.0,1466882732000.0,1466882737000.0,1466882743000.0,1466882748000.0,1466882752000.0,1466882758000.0,1466882764000.0,1466882770000.0,1466882799000.0,1466882803000.0,1466882806000.0,1466882809000.0,1466882812000.0,1466882816000.0,1466882820000.0,1466882824000.0,1466882829000.0,1466882832000.0,1466882835000.0,1466882839000.0,1466882842000.0,1466882846000.0,1466882850000.0,1466882854000.0,1466882858000.0,1466882863000.0,1466882867000.0,1466882871000.0,1466882876000.0,1466882883000.0,1466882892000.0,1466882902000.0,1466882933000.0,1466882937000.0,1466882941000.0,1466882945000.0,1466882949000.0,1466882953000.0,1466882957000.0,1466882961000.0,1466882965000.0,1466882969000.0,1466882993000.0,1466882997000.0,1466883001000.0,1466883005000.0,1466883009000.0,1466883014000.0,1466883019000.0,1466883024000.0,1466883028000.0,1466883032000.0,1466883036000.0,1466883040000.0,1466883044000.0,1466883048000.0,1466883052000.0,1466883057000.0,1466883062000.0,1466883082000.0,1466883098000.0,1466883102000.0,1466883106000.0,1466883109000.0,1466883112000.0,1466883116000.0,1466883120000.0,1466883124000.0,1466883129000.0,1466883135000.0,1466883142000.0,1466883150000.0,1466883161000.0,1466883169000.0,1466883174000.0,1466883179000.0,1466883183000.0,1466883186000.0,1466883189000.0,1466883193000.0,1466883196000.0,1466883199000.0,1466883203000.0,1466883209000.0,1466883213000.0,1466883217000.0,1466883221000.0,1466883225000.0,1466883229000.0,1466883233000.0,1466883238000.0,1466883243000.0,1466883247000.0,1466883250000.0,1466883253000.0,1466883257000.0,1466883260000.0,1466883264000.0,1466883269000.0,1466883274000.0,1466883296000.0,1466883301000.0,1466883304000.0,1466883308000.0,1466883314000.0,1466883319000.0,1466883323000.0,1466883326000.0,1466883329000.0,1466883333000.0,1466883337000.0,1466883341000.0,1466883345000.0,1466883349000.0,1466883353000.0,1466883358000.0,1466883363000.0,1466883368000.0,1466883374000.0,1466883380000.0,1466883385000.0,1466883390000.0,1466883394000.0,1466883399000.0,1466883413000.0,1466883430000.0,1466883439000.0,1466883448000.0,1466883452000.0,1466883456000.0,1466883460000.0,1466883464000.0,1466883468000.0,1466883473000.0,1466883478000.0,1466883483000.0,1466883489000.0,1466883494000.0,1466883498000.0,1466883502000.0,1466883507000.0,1466883513000.0,1466883518000.0,1466883523000.0,1466883558000.0,1466883562000.0,1466883566000.0,1466883570000.0,1466883574000.0,1466883578000.0,1466883582000.0,1466883587000.0,1466883592000.0,1466883598000.0,1466883605000.0,1466883612000.0,1466883620000.0,1466883630000.0,1466883642000.0,1466883650000.0,1466883659000.0,1466883667000.0,1466883676000.0,1466883684000.0,1466883692000.0,1466883700000.0,1466883709000.0,1466883719000.0,1466883728000.0,1466883736000.0,1466883743000.0,1466883753000.0,1466883763000.0,1466883772000.0,1466883781000.0,1466883789000.0,1466883799000.0,1466883807000.0,1466883817000.0,1466883828000.0,1466883836000.0,1466883844000.0,1466883852000.0,1466883861000.0,1466883871000.0,1466883879000.0,1466883888000.0,1466883897000.0,1466883904000.0,1466883915000.0,1466883941000.0],\"y\":[327.0,326.7,326.5,326.3,325.9,325.5,325.0,324.5,323.9,323.2,322.7,322.3,321.8,321.4,320.9,320.5,320.2,319.8,319.5,319.1,318.9,318.7,318.5,318.4,318.2,318.0,318.0,318.0,318.0,318.0,317.3,316.5,315.8,315.1,314.4,313.6,312.9,312.2,311.5,310.7,310.0,309.4,308.7,308.1,307.5,306.8,306.2,305.5,304.9,304.0,303.1,302.2,301.9,301.6,301.4,301.0,300.6,300.3,299.7,299.2,298.9,298.6,298.4,298.1,297.8,297.5,297.1,296.6,296.2,295.9,295.6,295.3,294.9,294.5,294.2,293.8,293.5,293.4,293.3,293.2,293.1,293.0,292.9,292.5,292.2,291.8,291.5,291.1,290.7,290.4,290.0,289.6,289.4,289.2,289.3,289.4,289.5,289.5,289.6,289.7,289.6,289.5,289.5,289.3,289.1,288.9,288.7,288.5,288.3,288.0,287.7,287.6,287.5,287.5,287.4,287.3,286.9,286.5,286.2,285.7,285.3,284.8,284.4,283.9,283.5,283.0,282.5,282.4,282.2,282.0,282.0,282.0,282.0,281.8,281.6,281.5,281.2,280.9,280.5,280.2,279.8,279.5,279.1,278.7,278.5,278.2,277.9,277.7,277.5,277.5,277.4,277.3,277.0,276.7,276.5,276.3,276.1,275.9,275.7,275.5,275.4,275.2,275.0,275.0,275.0,275.0,275.0,275.2,275.4,275.5,275.7,275.9,276.1,276.3,276.5,276.6,276.8,277.2,277.4,277.5,277.7,277.9,278.1,278.3,278.5,278.6,279.0,279.4,279.5,279.7,279.9,280.1,280.3,280.5,280.6,280.8,281.1,281.4,281.6,281.9,282.2,282.5,282.7,283.0,283.3,283.7,284.5,285.1,285.5,286.0,286.5,286.9,287.4,287.8,288.7,289.6,290.4,290.8,291.6,292.5,293.3,294.1,294.9,295.9,296.9,297.5,298.0,298.5,299.1,299.5,299.8,300.4,300.9,301.5,301.8,302.2,302.5,302.9,303.3,303.6,303.8,304.0,304.0,304.0,304.3,304.5,304.8,305.1,305.4,305.6,305.9,306.2,306.5,306.7,307.0,307.0,307.4,307.7,308.1,308.5,309.0,309.5,309.9,310.4,310.8,311.3,311.7,311.8,311.9,312.0,312.0,312.0,312.3,312.5,312.8,313.1,313.4,313.8,314.3,314.7,315.2,315.6,316.1,316.3,316.6,317.0,317.4,318.2,318.8,319.5,320.1,320.9,321.7,322.5,323.4,324.0,324.6,325.3,325.6,326.0,326.7,327.5,328.0,328.5,329.1,329.6,330.5,331.3,332.1,332.7,333.4,333.6,333.6,333.6,333.6,333.6,333.6,333.4,332.9,332.5,332.0,331.5,331.1,330.9,330.5,330.2,329.8,329.5,329.1,328.9,328.7,328.5,328.4,328.2,328.0,328.0,328.0,328.0,328.0,328.0,328.1,328.2,328.3,328.4,328.5,328.5,328.6,328.7,328.8,328.9,329.0,328.9,328.8,328.7,328.6,328.5,328.5,328.4,328.3,328.2,328.1,328.0,328.0,328.0,328.0,328.0,328.0,328.0,328.0,328.0,328.0,327.7,327.5,327.2,326.9,326.6,326.4,325.9,325.5,325.0,324.5,324.1,323.9,323.2,322.5,321.7,321.0,321.2,321.5,321.4,321.2,321.0,320.8,320.6,321.0,320.6,320.3,319.9,318.6,317.4,316.0,314.6,313.3,311.9,310.5,309.2,308.5,307.7,307.0,306.3,305.5,305.4,305.2,305.0,304.8,304.6,304.5,304.5,304.5,304.5,304.5,304.5,304.6,304.8,305.0,305.2,305.4,305.5,305.8,306.1,306.4,306.6,306.9,307.2,307.5,307.7,308.0,308.3,308.5,308.9,309.3,309.6,310.0,310.4,310.8,311.3,311.7,312.2,312.6,313.1,313.5,313.8,314.2,314.0,314.4,314.7,315.1,315.5,315.8,316.2,316.5,316.7,316.9,317.1,317.8,318.0,318.0,318.0,318.0,318.0,318.0,318.0,318.0,318.2,318.4,318.5,318.7,318.9,319.1,319.5,319.8,320.2,320.5,320.9,321.4,321.8,322.3,322.7,323.2,323.6,324.2,324.7,325.3,325.8,326.2,326.3,326.5,326.7,327.0]}},\"id\":\"b5f509a5-b512-403b-bbe2-9cdd0eaf470a\",\"type\":\"ColumnDataSource\"},{\"attributes\":{\"plot\":{\"id\":\"6225845a-f1bc-4559-beb0-cdf89ed0571e\",\"subtype\":\"Figure\",\"type\":\"Plot\"}},\"id\":\"cc22aff9-fe53-4752-a734-79230bad68f3\",\"type\":\"ResizeTool\"},{\"attributes\":{\"axis_label\":\"Time\",\"formatter\":{\"id\":\"d156debb-5d19-460b-96ca-c5e3b3140544\",\"type\":\"DatetimeTickFormatter\"},\"plot\":{\"id\":\"ab49042c-357b-45f1-8a81-eb6e2215926f\",\"subtype\":\"Figure\",\"type\":\"Plot\"},\"ticker\":{\"id\":\"f8ee1b79-6e13-4bc8-a22c-c22d730eebf5\",\"type\":\"DatetimeTicker\"}},\"id\":\"cc40b6d9-fe75-4672-8af7-a07fb2d09bb2\",\"type\":\"DatetimeAxis\"},{\"attributes\":{},\"id\":\"76ee7995-d0a0-4b0b-a8e0-1975e9bbfb68\",\"type\":\"BasicTickFormatter\"},{\"attributes\":{\"plot\":{\"id\":\"6225845a-f1bc-4559-beb0-cdf89ed0571e\",\"subtype\":\"Figure\",\"type\":\"Plot\"}},\"id\":\"8f175e25-f84e-47b8-87a3-58541fa217fd\",\"type\":\"WheelZoomTool\"},{\"attributes\":{\"base\":60,\"mantissas\":[1,2,5,10,15,20,30],\"max_interval\":1800000.0,\"min_interval\":1000.0,\"num_minor_ticks\":0},\"id\":\"2fd423dd-2e87-49be-95dc-c081f0e39221\",\"type\":\"AdaptiveTicker\"},{\"attributes\":{\"num_minor_ticks\":5},\"id\":\"a5ad11a5-89eb-4da2-9172-3967bcfba94a\",\"type\":\"DatetimeTicker\"},{\"attributes\":{\"days\":[1,8,15,22]},\"id\":\"d5421aaf-747e-4e7a-bb67-8d8be47221e8\",\"type\":\"DaysTicker\"},{\"attributes\":{\"days\":[1,2,3,4,5,6,7,8,9,10,11,12,13,14,15,16,17,18,19,20,21,22,23,24,25,26,27,28,29,30,31]},\"id\":\"45fde2db-c390-4121-bdfa-b7bf50397b5d\",\"type\":\"DaysTicker\"},{\"attributes\":{\"months\":[0,1,2,3,4,5,6,7,8,9,10,11]},\"id\":\"a914384d-f787-4dc1-9eb5-1a7d5e871d14\",\"type\":\"MonthsTicker\"},{\"attributes\":{\"plot\":{\"id\":\"ab49042c-357b-45f1-8a81-eb6e2215926f\",\"subtype\":\"Figure\",\"type\":\"Plot\"}},\"id\":\"e232a08d-25b9-4d66-988f-9a584eeccfdb\",\"type\":\"PanTool\"},{\"attributes\":{\"days\":[1,15]},\"id\":\"693ff480-4456-4b92-82c5-fa4e0a6254f1\",\"type\":\"DaysTicker\"},{\"attributes\":{},\"id\":\"f5c4ccd1-2de4-41be-b3b0-919d34c69f51\",\"type\":\"BasicTickFormatter\"}],\"root_ids\":[\"6225845a-f1bc-4559-beb0-cdf89ed0571e\",\"ab49042c-357b-45f1-8a81-eb6e2215926f\"]},\"title\":\"Bokeh Application\",\"version\":\"0.11.1\"}};\n",
       "            var render_items = [{\"docid\":\"39b5f082-4129-44a1-af14-d1007fe1e537\",\"elementid\":\"2cfe69b0-61a0-4dc2-adb8-4843e7681972\",\"modelid\":\"ab49042c-357b-45f1-8a81-eb6e2215926f\",\"notebook_comms_target\":\"bf2c9de6-fe27-4b84-8c30-44d90cf71edb\"}];\n",
       "            \n",
       "            Bokeh.embed.embed_items(docs_json, render_items);\n",
       "        });\n",
       "      },\n",
       "      function(Bokeh) {\n",
       "      }\n",
       "    ];\n",
       "  \n",
       "    function run_inline_js() {\n",
       "      for (var i = 0; i < inline_js.length; i++) {\n",
       "        inline_js[i](window.Bokeh);\n",
       "      }\n",
       "    }\n",
       "  \n",
       "    if (window._bokeh_is_loading === 0) {\n",
       "      console.log(\"Bokeh: BokehJS loaded, going straight to plotting\");\n",
       "      run_inline_js();\n",
       "    } else {\n",
       "      load_libs(js_urls, function() {\n",
       "        console.log(\"Bokeh: BokehJS plotting callback run at\", now());\n",
       "        run_inline_js();\n",
       "      });\n",
       "    }\n",
       "  }(this));\n",
       "</script>"
      ]
     },
     "metadata": {},
     "output_type": "display_data"
    },
    {
     "data": {
      "text/html": [
       "<p><code>&lt;Bokeh Notebook handle for <strong>In[19]</strong>&gt;</code></p>"
      ],
      "text/plain": [
       "<bokeh.io._CommsHandle at 0x7ff0f26bcf60>"
      ]
     },
     "execution_count": 19,
     "metadata": {},
     "output_type": "execute_result"
    }
   ],
   "source": [
    "distances = [r.distance_total for r in all_runs]\n",
    "times = [r.start for r in all_runs]\n",
    "\n",
    "p = figure(\n",
    "    title=\"Distances run over time\", \n",
    "    background_fill_color=\"#E8DDCB\",\n",
    "    y_axis_label='Distance (m)', \n",
    "    x_axis_label='Time',\n",
    "    x_axis_type=\"datetime\"\n",
    ")\n",
    "\n",
    "p.circle(times, distances)\n",
    "show(p)"
   ]
  },
  {
   "cell_type": "code",
   "execution_count": 20,
   "metadata": {
    "collapsed": false
   },
   "outputs": [
    {
     "data": {
      "text/html": [
       "\n",
       "\n",
       "    <div class=\"plotdiv\" id=\"aa65f086-f412-40bc-a4b1-cbebbd368dbe\"></div>\n",
       "<script type=\"text/javascript\">\n",
       "  \n",
       "  (function(global) {\n",
       "    function now() {\n",
       "      return new Date();\n",
       "    }\n",
       "  \n",
       "    if (typeof (window._bokeh_onload_callbacks) === \"undefined\") {\n",
       "      window._bokeh_onload_callbacks = [];\n",
       "    }\n",
       "  \n",
       "    function run_callbacks() {\n",
       "      window._bokeh_onload_callbacks.forEach(function(callback) { callback() });\n",
       "      delete window._bokeh_onload_callbacks\n",
       "      console.info(\"Bokeh: all callbacks have finished\");\n",
       "    }\n",
       "  \n",
       "    function load_libs(js_urls, callback) {\n",
       "      window._bokeh_onload_callbacks.push(callback);\n",
       "      if (window._bokeh_is_loading > 0) {\n",
       "        console.log(\"Bokeh: BokehJS is being loaded, scheduling callback at\", now());\n",
       "        return null;\n",
       "      }\n",
       "      if (js_urls == null || js_urls.length === 0) {\n",
       "        run_callbacks();\n",
       "        return null;\n",
       "      }\n",
       "      console.log(\"Bokeh: BokehJS not loaded, scheduling load and callback at\", now());\n",
       "      window._bokeh_is_loading = js_urls.length;\n",
       "      for (var i = 0; i < js_urls.length; i++) {\n",
       "        var url = js_urls[i];\n",
       "        var s = document.createElement('script');\n",
       "        s.src = url;\n",
       "        s.async = false;\n",
       "        s.onreadystatechange = s.onload = function() {\n",
       "          window._bokeh_is_loading--;\n",
       "          if (window._bokeh_is_loading === 0) {\n",
       "            console.log(\"Bokeh: all BokehJS libraries loaded\");\n",
       "            run_callbacks()\n",
       "          }\n",
       "        };\n",
       "        s.onerror = function() {\n",
       "          console.warn(\"failed to load library \" + url);\n",
       "        };\n",
       "        console.log(\"Bokeh: injecting script tag for BokehJS library: \", url);\n",
       "        document.getElementsByTagName(\"head\")[0].appendChild(s);\n",
       "      }\n",
       "    };var element = document.getElementById(\"aa65f086-f412-40bc-a4b1-cbebbd368dbe\");\n",
       "    if (element == null) {\n",
       "      console.log(\"Bokeh: ERROR: autoload.js configured with elementid 'aa65f086-f412-40bc-a4b1-cbebbd368dbe' but no matching script tag was found. \")\n",
       "      return false;\n",
       "    }\n",
       "  \n",
       "    var js_urls = [];\n",
       "  \n",
       "    var inline_js = [\n",
       "      function(Bokeh) {\n",
       "        Bokeh.$(function() {\n",
       "            var docs_json = {\"1e96d5cd-a580-42b0-8c67-de219caf029c\":{\"roots\":{\"references\":[{\"attributes\":{\"callback\":null},\"id\":\"020a6df3-fdb1-422e-8579-9b6727e0401a\",\"type\":\"DataRange1d\"},{\"attributes\":{\"line_color\":{\"value\":\"#1f77b4\"},\"x\":{\"field\":\"x\"},\"y\":{\"field\":\"y\"}},\"id\":\"cecdd8c5-3f5d-4dc1-8668-06cfb68f148e\",\"type\":\"Line\"},{\"attributes\":{\"data_source\":{\"id\":\"1fe42459-8c14-4bc6-8c59-c759b6fc7828\",\"type\":\"ColumnDataSource\"},\"glyph\":{\"id\":\"d04b8e5b-4a49-493d-b8c0-36221ae7a104\",\"type\":\"Circle\"},\"hover_glyph\":null,\"nonselection_glyph\":{\"id\":\"42c11852-99b8-4f08-8e4d-4dd2e96be1e7\",\"type\":\"Circle\"},\"selection_glyph\":null},\"id\":\"d2db26c2-4fe0-4394-b2d7-e3f82fcfcf7b\",\"type\":\"GlyphRenderer\"},{\"attributes\":{\"days\":[1,4,7,10,13,16,19,22,25,28]},\"id\":\"8543a35e-a100-466f-867d-7548c46f76f5\",\"type\":\"DaysTicker\"},{\"attributes\":{\"plot\":{\"id\":\"0d972f9f-1f93-4ff4-9e05-fb628a072bd7\",\"subtype\":\"Figure\",\"type\":\"Plot\"}},\"id\":\"0243b8af-a4af-42b3-88f1-bd3475ebe520\",\"type\":\"PanTool\"},{\"attributes\":{},\"id\":\"ec369ef2-240a-4ce7-b1f2-4c07527507a6\",\"type\":\"ToolEvents\"},{\"attributes\":{\"max_interval\":500.0,\"num_minor_ticks\":0},\"id\":\"9afe2969-e473-4b92-a524-beafa7a685be\",\"type\":\"AdaptiveTicker\"},{\"attributes\":{\"overlay\":{\"id\":\"9dcfb745-e383-45a8-9ff5-12ed74cabb49\",\"type\":\"BoxAnnotation\"},\"plot\":{\"id\":\"0d972f9f-1f93-4ff4-9e05-fb628a072bd7\",\"subtype\":\"Figure\",\"type\":\"Plot\"}},\"id\":\"008ca9c4-f275-47b1-b3b8-da0b04a5831c\",\"type\":\"BoxZoomTool\"},{\"attributes\":{\"plot\":{\"id\":\"6225845a-f1bc-4559-beb0-cdf89ed0571e\",\"subtype\":\"Figure\",\"type\":\"Plot\"},\"ticker\":{\"id\":\"a5ad11a5-89eb-4da2-9172-3967bcfba94a\",\"type\":\"DatetimeTicker\"}},\"id\":\"9dbbde48-7924-4b98-86e1-dffdfbe6c986\",\"type\":\"Grid\"},{\"attributes\":{},\"id\":\"463e844e-88c3-40e0-85be-2f8eccb5039c\",\"type\":\"BasicTicker\"},{\"attributes\":{\"fill_alpha\":{\"value\":0.1},\"fill_color\":{\"value\":\"#1f77b4\"},\"line_alpha\":{\"value\":0.1},\"line_color\":{\"value\":\"#1f77b4\"},\"x\":{\"field\":\"x\"},\"y\":{\"field\":\"y\"}},\"id\":\"42c11852-99b8-4f08-8e4d-4dd2e96be1e7\",\"type\":\"Circle\"},{\"attributes\":{},\"id\":\"20d0acfe-1f5c-42a3-8267-172e5248615b\",\"type\":\"BasicTicker\"},{\"attributes\":{},\"id\":\"e563fb8c-657e-4e19-b888-cac1e1390d7a\",\"type\":\"BasicTicker\"},{\"attributes\":{\"plot\":{\"id\":\"ab49042c-357b-45f1-8a81-eb6e2215926f\",\"subtype\":\"Figure\",\"type\":\"Plot\"}},\"id\":\"0dcc5238-3135-49ea-92ee-d37c527d577a\",\"type\":\"ResetTool\"},{\"attributes\":{\"max_interval\":500.0,\"num_minor_ticks\":0},\"id\":\"2483a01f-7a6e-4d72-a95f-77910a28fa73\",\"type\":\"AdaptiveTicker\"},{\"attributes\":{\"days\":[1,2,3,4,5,6,7,8,9,10,11,12,13,14,15,16,17,18,19,20,21,22,23,24,25,26,27,28,29,30,31]},\"id\":\"b639aabb-d9d6-48b8-9d37-ebcb5f61be06\",\"type\":\"DaysTicker\"},{\"attributes\":{\"days\":[1,4,7,10,13,16,19,22,25,28]},\"id\":\"e9316fad-db19-4a54-910e-4a6d5f11f101\",\"type\":\"DaysTicker\"},{\"attributes\":{\"days\":[1,8,15,22]},\"id\":\"b776b95b-171a-45d4-8d7d-df1bfd3d42d6\",\"type\":\"DaysTicker\"},{\"attributes\":{\"bottom_units\":\"screen\",\"fill_alpha\":{\"value\":0.5},\"fill_color\":{\"value\":\"lightgrey\"},\"left_units\":\"screen\",\"level\":\"overlay\",\"line_alpha\":{\"value\":1.0},\"line_color\":{\"value\":\"black\"},\"line_dash\":[4,4],\"line_width\":{\"value\":2},\"plot\":null,\"render_mode\":\"css\",\"right_units\":\"screen\",\"top_units\":\"screen\"},\"id\":\"9dcfb745-e383-45a8-9ff5-12ed74cabb49\",\"type\":\"BoxAnnotation\"},{\"attributes\":{\"axis_label\":\"Distance (km)\",\"formatter\":{\"id\":\"a699cab2-cb60-43ed-a565-8e55dde4f233\",\"type\":\"BasicTickFormatter\"},\"plot\":{\"id\":\"0d972f9f-1f93-4ff4-9e05-fb628a072bd7\",\"subtype\":\"Figure\",\"type\":\"Plot\"},\"ticker\":{\"id\":\"463e844e-88c3-40e0-85be-2f8eccb5039c\",\"type\":\"BasicTicker\"}},\"id\":\"74b1e35d-d172-46db-82ba-c6519b19ca7f\",\"type\":\"LinearAxis\"},{\"attributes\":{\"callback\":null},\"id\":\"b8f0771a-492d-42ca-ad53-210d5f4fac90\",\"type\":\"DataRange1d\"},{\"attributes\":{\"months\":[0,6]},\"id\":\"83729737-b239-4107-8dbb-2846f558fc38\",\"type\":\"MonthsTicker\"},{\"attributes\":{\"dimension\":1,\"plot\":{\"id\":\"6225845a-f1bc-4559-beb0-cdf89ed0571e\",\"subtype\":\"Figure\",\"type\":\"Plot\"},\"ticker\":{\"id\":\"20d0acfe-1f5c-42a3-8267-172e5248615b\",\"type\":\"BasicTicker\"}},\"id\":\"f7fa8a5b-0612-4e0a-97b8-5b8c33b0a07a\",\"type\":\"Grid\"},{\"attributes\":{\"plot\":{\"id\":\"0d972f9f-1f93-4ff4-9e05-fb628a072bd7\",\"subtype\":\"Figure\",\"type\":\"Plot\"}},\"id\":\"d42eb8d3-14fd-4fa0-99da-f67b95363d5e\",\"type\":\"ResizeTool\"},{\"attributes\":{\"fill_alpha\":{\"value\":0.1},\"fill_color\":{\"value\":\"#1f77b4\"},\"line_alpha\":{\"value\":0.1},\"line_color\":{\"value\":\"#1f77b4\"},\"x\":{\"field\":\"x\"},\"y\":{\"field\":\"y\"}},\"id\":\"e04db3e7-726f-4427-91a3-690c7db8575d\",\"type\":\"Circle\"},{\"attributes\":{},\"id\":\"f5c4ccd1-2de4-41be-b3b0-919d34c69f51\",\"type\":\"BasicTickFormatter\"},{\"attributes\":{\"dimension\":1,\"plot\":{\"id\":\"0d972f9f-1f93-4ff4-9e05-fb628a072bd7\",\"subtype\":\"Figure\",\"type\":\"Plot\"},\"ticker\":{\"id\":\"e563fb8c-657e-4e19-b888-cac1e1390d7a\",\"type\":\"BasicTicker\"}},\"id\":\"1b633a72-0b5e-4a8e-8725-2f9e3a1c4374\",\"type\":\"Grid\"},{\"attributes\":{\"axis_label\":\"Elevation (m)\",\"formatter\":{\"id\":\"76ee7995-d0a0-4b0b-a8e0-1975e9bbfb68\",\"type\":\"BasicTickFormatter\"},\"plot\":{\"id\":\"6225845a-f1bc-4559-beb0-cdf89ed0571e\",\"subtype\":\"Figure\",\"type\":\"Plot\"},\"ticker\":{\"id\":\"20d0acfe-1f5c-42a3-8267-172e5248615b\",\"type\":\"BasicTicker\"}},\"id\":\"c27aed5c-c96f-4da1-9397-a54f876cb9da\",\"type\":\"LinearAxis\"},{\"attributes\":{},\"id\":\"7c81999c-f6e0-4e95-b9be-ea27382d3015\",\"type\":\"YearsTicker\"},{\"attributes\":{\"months\":[0,2,4,6,8,10]},\"id\":\"439b703f-5ccf-47c8-ac3d-d041d5730164\",\"type\":\"MonthsTicker\"},{\"attributes\":{\"plot\":{\"id\":\"6225845a-f1bc-4559-beb0-cdf89ed0571e\",\"subtype\":\"Figure\",\"type\":\"Plot\"}},\"id\":\"b62608e3-2934-4807-ab42-87be27d43798\",\"type\":\"PanTool\"},{\"attributes\":{\"months\":[0,4,8]},\"id\":\"26a5cd4c-50cc-49cf-aa88-d59a6722ddc0\",\"type\":\"MonthsTicker\"},{\"attributes\":{\"fill_color\":{\"value\":\"#1f77b4\"},\"line_color\":{\"value\":\"#1f77b4\"},\"x\":{\"field\":\"x\"},\"y\":{\"field\":\"y\"}},\"id\":\"d04b8e5b-4a49-493d-b8c0-36221ae7a104\",\"type\":\"Circle\"},{\"attributes\":{\"background_fill_color\":{\"value\":\"#E8DDCB\"},\"below\":[{\"id\":\"cc40b6d9-fe75-4672-8af7-a07fb2d09bb2\",\"type\":\"DatetimeAxis\"}],\"left\":[{\"id\":\"fc47a57b-09af-4c0c-928b-b41acba89767\",\"type\":\"LinearAxis\"}],\"renderers\":[{\"id\":\"cc40b6d9-fe75-4672-8af7-a07fb2d09bb2\",\"type\":\"DatetimeAxis\"},{\"id\":\"435610a4-135d-454b-8514-791e3dc25d8d\",\"type\":\"Grid\"},{\"id\":\"fc47a57b-09af-4c0c-928b-b41acba89767\",\"type\":\"LinearAxis\"},{\"id\":\"325749a2-1ea5-4568-8af7-d9991cd34787\",\"type\":\"Grid\"},{\"id\":\"6d13d4c3-bf0b-4f79-85ea-f5d321e49382\",\"type\":\"BoxAnnotation\"},{\"id\":\"0a4f4d6a-bfd1-4228-b176-d6dbc1307815\",\"type\":\"GlyphRenderer\"}],\"title\":\"Distances run over time\",\"tool_events\":{\"id\":\"2d41e680-a443-4289-904a-9714dd8d96a9\",\"type\":\"ToolEvents\"},\"tools\":[{\"id\":\"e232a08d-25b9-4d66-988f-9a584eeccfdb\",\"type\":\"PanTool\"},{\"id\":\"45f832e4-6c82-40be-bf98-d2fb5c0feb87\",\"type\":\"WheelZoomTool\"},{\"id\":\"11944090-d491-474e-b378-5fa5d783b92f\",\"type\":\"BoxZoomTool\"},{\"id\":\"78699850-8c30-442e-b393-7df14e513f15\",\"type\":\"PreviewSaveTool\"},{\"id\":\"3d4a42ce-c514-4ec9-8ecd-faafa3008f60\",\"type\":\"ResizeTool\"},{\"id\":\"0dcc5238-3135-49ea-92ee-d37c527d577a\",\"type\":\"ResetTool\"},{\"id\":\"3bce4a5e-7e71-44a1-9f74-44981243bb16\",\"type\":\"HelpTool\"}],\"x_range\":{\"id\":\"eafba1a6-ddc7-49ec-9e0a-5190c7db30c0\",\"type\":\"DataRange1d\"},\"y_range\":{\"id\":\"0417373f-cddc-4eb2-bfa2-0c08bde09426\",\"type\":\"DataRange1d\"}},\"id\":\"ab49042c-357b-45f1-8a81-eb6e2215926f\",\"subtype\":\"Figure\",\"type\":\"Plot\"},{\"attributes\":{\"callback\":null},\"id\":\"eafba1a6-ddc7-49ec-9e0a-5190c7db30c0\",\"type\":\"DataRange1d\"},{\"attributes\":{\"plot\":{\"id\":\"0d972f9f-1f93-4ff4-9e05-fb628a072bd7\",\"subtype\":\"Figure\",\"type\":\"Plot\"}},\"id\":\"bf36c34a-0ab6-4f4f-91c3-8b59e612a462\",\"type\":\"HelpTool\"},{\"attributes\":{\"callback\":null,\"column_names\":[\"y\",\"x\"],\"data\":{\"x\":[1466880893000.0,1466880895000.0,1466880898000.0,1466880911000.0,1466880918000.0,1466880929000.0,1466880933000.0,1466880936000.0,1466880939000.0,1466880942000.0,1466880945000.0,1466880948000.0,1466880951000.0,1466880954000.0,1466880957000.0,1466880960000.0,1466880964000.0,1466880967000.0,1466880970000.0,1466880973000.0,1466880976000.0,1466880980000.0,1466880983000.0,1466880987000.0,1466880991000.0,1466880995000.0,1466880999000.0,1466881003000.0,1466881006000.0,1466881009000.0,1466881012000.0,1466881015000.0,1466881018000.0,1466881021000.0,1466881024000.0,1466881027000.0,1466881031000.0,1466881034000.0,1466881038000.0,1466881071000.0,1466881074000.0,1466881077000.0,1466881080000.0,1466881082000.0,1466881085000.0,1466881088000.0,1466881091000.0,1466881094000.0,1466881097000.0,1466881100000.0,1466881103000.0,1466881106000.0,1466881109000.0,1466881112000.0,1466881116000.0,1466881138000.0,1466881141000.0,1466881144000.0,1466881147000.0,1466881150000.0,1466881153000.0,1466881156000.0,1466881159000.0,1466881162000.0,1466881165000.0,1466881168000.0,1466881171000.0,1466881175000.0,1466881178000.0,1466881181000.0,1466881184000.0,1466881187000.0,1466881190000.0,1466881193000.0,1466881196000.0,1466881200000.0,1466881214000.0,1466881222000.0,1466881226000.0,1466881229000.0,1466881232000.0,1466881235000.0,1466881238000.0,1466881241000.0,1466881244000.0,1466881247000.0,1466881250000.0,1466881253000.0,1466881256000.0,1466881259000.0,1466881262000.0,1466881265000.0,1466881268000.0,1466881271000.0,1466881274000.0,1466881285000.0,1466881301000.0,1466881304000.0,1466881307000.0,1466881309000.0,1466881312000.0,1466881315000.0,1466881318000.0,1466881322000.0,1466881325000.0,1466881328000.0,1466881331000.0,1466881335000.0,1466881350000.0,1466881358000.0,1466881361000.0,1466881364000.0,1466881367000.0,1466881370000.0,1466881373000.0,1466881376000.0,1466881379000.0,1466881383000.0,1466881386000.0,1466881389000.0,1466881392000.0,1466881396000.0,1466881400000.0,1466881403000.0,1466881406000.0,1466881409000.0,1466881412000.0,1466881437000.0,1466881447000.0,1466881451000.0,1466881454000.0,1466881457000.0,1466881460000.0,1466881463000.0,1466881466000.0,1466881469000.0,1466881472000.0,1466881475000.0,1466881478000.0,1466881480000.0,1466881483000.0,1466881486000.0,1466881489000.0,1466881492000.0,1466881495000.0,1466881498000.0,1466881501000.0,1466881504000.0,1466881507000.0,1466881510000.0,1466881513000.0,1466881516000.0,1466881520000.0,1466881523000.0,1466881526000.0,1466881530000.0,1466881534000.0,1466881544000.0,1466881556000.0,1466881564000.0,1466881571000.0,1466881578000.0,1466881586000.0,1466881597000.0,1466881604000.0,1466881613000.0,1466881621000.0,1466881624000.0,1466881627000.0,1466881631000.0,1466881635000.0,1466881639000.0,1466881643000.0,1466881647000.0,1466881651000.0,1466881655000.0,1466881659000.0,1466881663000.0,1466881683000.0,1466881690000.0,1466881694000.0,1466881698000.0,1466881702000.0,1466881707000.0,1466881712000.0,1466881717000.0,1466881722000.0,1466881726000.0,1466881732000.0,1466881737000.0,1466881741000.0,1466881746000.0,1466881751000.0,1466881759000.0,1466881769000.0,1466881780000.0,1466881789000.0,1466881797000.0,1466881807000.0,1466881813000.0,1466881817000.0,1466881821000.0,1466881826000.0,1466881868000.0,1466881872000.0,1466881877000.0,1466881881000.0,1466881885000.0,1466881889000.0,1466881893000.0,1466881897000.0,1466881903000.0,1466881908000.0,1466881913000.0,1466881919000.0,1466881945000.0,1466881957000.0,1466881961000.0,1466881965000.0,1466881970000.0,1466881997000.0,1466882002000.0,1466882040000.0,1466882045000.0,1466882050000.0,1466882056000.0,1466882061000.0,1466882067000.0,1466882072000.0,1466882076000.0,1466882080000.0,1466882083000.0,1466882087000.0,1466882092000.0,1466882097000.0,1466882102000.0,1466882107000.0,1466882111000.0,1466882144000.0,1466882166000.0,1466882175000.0,1466882183000.0,1466882222000.0,1466882326000.0,1466882332000.0,1466882336000.0,1466882339000.0,1466882342000.0,1466882345000.0,1466882348000.0,1466882352000.0,1466882356000.0,1466882360000.0,1466882364000.0,1466882368000.0,1466882373000.0,1466882378000.0,1466882383000.0,1466882387000.0,1466882391000.0,1466882395000.0,1466882399000.0,1466882404000.0,1466882420000.0,1466882424000.0,1466882428000.0,1466882432000.0,1466882436000.0,1466882441000.0,1466882446000.0,1466882452000.0,1466882456000.0,1466882460000.0,1466882464000.0,1466882468000.0,1466882472000.0,1466882476000.0,1466882480000.0,1466882485000.0,1466882490000.0,1466882494000.0,1466882500000.0,1466882506000.0,1466882511000.0,1466882518000.0,1466882527000.0,1466882540000.0,1466882545000.0,1466882550000.0,1466882555000.0,1466882562000.0,1466882568000.0,1466882573000.0,1466882578000.0,1466882584000.0,1466882589000.0,1466882604000.0,1466882643000.0,1466882654000.0,1466882662000.0,1466882666000.0,1466882669000.0,1466882673000.0,1466882677000.0,1466882681000.0,1466882687000.0,1466882692000.0,1466882697000.0,1466882732000.0,1466882737000.0,1466882743000.0,1466882748000.0,1466882752000.0,1466882758000.0,1466882764000.0,1466882770000.0,1466882799000.0,1466882803000.0,1466882806000.0,1466882809000.0,1466882812000.0,1466882816000.0,1466882820000.0,1466882824000.0,1466882829000.0,1466882832000.0,1466882835000.0,1466882839000.0,1466882842000.0,1466882846000.0,1466882850000.0,1466882854000.0,1466882858000.0,1466882863000.0,1466882867000.0,1466882871000.0,1466882876000.0,1466882883000.0,1466882892000.0,1466882902000.0,1466882933000.0,1466882937000.0,1466882941000.0,1466882945000.0,1466882949000.0,1466882953000.0,1466882957000.0,1466882961000.0,1466882965000.0,1466882969000.0,1466882993000.0,1466882997000.0,1466883001000.0,1466883005000.0,1466883009000.0,1466883014000.0,1466883019000.0,1466883024000.0,1466883028000.0,1466883032000.0,1466883036000.0,1466883040000.0,1466883044000.0,1466883048000.0,1466883052000.0,1466883057000.0,1466883062000.0,1466883082000.0,1466883098000.0,1466883102000.0,1466883106000.0,1466883109000.0,1466883112000.0,1466883116000.0,1466883120000.0,1466883124000.0,1466883129000.0,1466883135000.0,1466883142000.0,1466883150000.0,1466883161000.0,1466883169000.0,1466883174000.0,1466883179000.0,1466883183000.0,1466883186000.0,1466883189000.0,1466883193000.0,1466883196000.0,1466883199000.0,1466883203000.0,1466883209000.0,1466883213000.0,1466883217000.0,1466883221000.0,1466883225000.0,1466883229000.0,1466883233000.0,1466883238000.0,1466883243000.0,1466883247000.0,1466883250000.0,1466883253000.0,1466883257000.0,1466883260000.0,1466883264000.0,1466883269000.0,1466883274000.0,1466883296000.0,1466883301000.0,1466883304000.0,1466883308000.0,1466883314000.0,1466883319000.0,1466883323000.0,1466883326000.0,1466883329000.0,1466883333000.0,1466883337000.0,1466883341000.0,1466883345000.0,1466883349000.0,1466883353000.0,1466883358000.0,1466883363000.0,1466883368000.0,1466883374000.0,1466883380000.0,1466883385000.0,1466883390000.0,1466883394000.0,1466883399000.0,1466883413000.0,1466883430000.0,1466883439000.0,1466883448000.0,1466883452000.0,1466883456000.0,1466883460000.0,1466883464000.0,1466883468000.0,1466883473000.0,1466883478000.0,1466883483000.0,1466883489000.0,1466883494000.0,1466883498000.0,1466883502000.0,1466883507000.0,1466883513000.0,1466883518000.0,1466883523000.0,1466883558000.0,1466883562000.0,1466883566000.0,1466883570000.0,1466883574000.0,1466883578000.0,1466883582000.0,1466883587000.0,1466883592000.0,1466883598000.0,1466883605000.0,1466883612000.0,1466883620000.0,1466883630000.0,1466883642000.0,1466883650000.0,1466883659000.0,1466883667000.0,1466883676000.0,1466883684000.0,1466883692000.0,1466883700000.0,1466883709000.0,1466883719000.0,1466883728000.0,1466883736000.0,1466883743000.0,1466883753000.0,1466883763000.0,1466883772000.0,1466883781000.0,1466883789000.0,1466883799000.0,1466883807000.0,1466883817000.0,1466883828000.0,1466883836000.0,1466883844000.0,1466883852000.0,1466883861000.0,1466883871000.0,1466883879000.0,1466883888000.0,1466883897000.0,1466883904000.0,1466883915000.0,1466883941000.0],\"y\":[327.0,326.7,326.5,326.3,325.9,325.5,325.0,324.5,323.9,323.2,322.7,322.3,321.8,321.4,320.9,320.5,320.2,319.8,319.5,319.1,318.9,318.7,318.5,318.4,318.2,318.0,318.0,318.0,318.0,318.0,317.3,316.5,315.8,315.1,314.4,313.6,312.9,312.2,311.5,310.7,310.0,309.4,308.7,308.1,307.5,306.8,306.2,305.5,304.9,304.0,303.1,302.2,301.9,301.6,301.4,301.0,300.6,300.3,299.7,299.2,298.9,298.6,298.4,298.1,297.8,297.5,297.1,296.6,296.2,295.9,295.6,295.3,294.9,294.5,294.2,293.8,293.5,293.4,293.3,293.2,293.1,293.0,292.9,292.5,292.2,291.8,291.5,291.1,290.7,290.4,290.0,289.6,289.4,289.2,289.3,289.4,289.5,289.5,289.6,289.7,289.6,289.5,289.5,289.3,289.1,288.9,288.7,288.5,288.3,288.0,287.7,287.6,287.5,287.5,287.4,287.3,286.9,286.5,286.2,285.7,285.3,284.8,284.4,283.9,283.5,283.0,282.5,282.4,282.2,282.0,282.0,282.0,282.0,281.8,281.6,281.5,281.2,280.9,280.5,280.2,279.8,279.5,279.1,278.7,278.5,278.2,277.9,277.7,277.5,277.5,277.4,277.3,277.0,276.7,276.5,276.3,276.1,275.9,275.7,275.5,275.4,275.2,275.0,275.0,275.0,275.0,275.0,275.2,275.4,275.5,275.7,275.9,276.1,276.3,276.5,276.6,276.8,277.2,277.4,277.5,277.7,277.9,278.1,278.3,278.5,278.6,279.0,279.4,279.5,279.7,279.9,280.1,280.3,280.5,280.6,280.8,281.1,281.4,281.6,281.9,282.2,282.5,282.7,283.0,283.3,283.7,284.5,285.1,285.5,286.0,286.5,286.9,287.4,287.8,288.7,289.6,290.4,290.8,291.6,292.5,293.3,294.1,294.9,295.9,296.9,297.5,298.0,298.5,299.1,299.5,299.8,300.4,300.9,301.5,301.8,302.2,302.5,302.9,303.3,303.6,303.8,304.0,304.0,304.0,304.3,304.5,304.8,305.1,305.4,305.6,305.9,306.2,306.5,306.7,307.0,307.0,307.4,307.7,308.1,308.5,309.0,309.5,309.9,310.4,310.8,311.3,311.7,311.8,311.9,312.0,312.0,312.0,312.3,312.5,312.8,313.1,313.4,313.8,314.3,314.7,315.2,315.6,316.1,316.3,316.6,317.0,317.4,318.2,318.8,319.5,320.1,320.9,321.7,322.5,323.4,324.0,324.6,325.3,325.6,326.0,326.7,327.5,328.0,328.5,329.1,329.6,330.5,331.3,332.1,332.7,333.4,333.6,333.6,333.6,333.6,333.6,333.6,333.4,332.9,332.5,332.0,331.5,331.1,330.9,330.5,330.2,329.8,329.5,329.1,328.9,328.7,328.5,328.4,328.2,328.0,328.0,328.0,328.0,328.0,328.0,328.1,328.2,328.3,328.4,328.5,328.5,328.6,328.7,328.8,328.9,329.0,328.9,328.8,328.7,328.6,328.5,328.5,328.4,328.3,328.2,328.1,328.0,328.0,328.0,328.0,328.0,328.0,328.0,328.0,328.0,328.0,327.7,327.5,327.2,326.9,326.6,326.4,325.9,325.5,325.0,324.5,324.1,323.9,323.2,322.5,321.7,321.0,321.2,321.5,321.4,321.2,321.0,320.8,320.6,321.0,320.6,320.3,319.9,318.6,317.4,316.0,314.6,313.3,311.9,310.5,309.2,308.5,307.7,307.0,306.3,305.5,305.4,305.2,305.0,304.8,304.6,304.5,304.5,304.5,304.5,304.5,304.5,304.6,304.8,305.0,305.2,305.4,305.5,305.8,306.1,306.4,306.6,306.9,307.2,307.5,307.7,308.0,308.3,308.5,308.9,309.3,309.6,310.0,310.4,310.8,311.3,311.7,312.2,312.6,313.1,313.5,313.8,314.2,314.0,314.4,314.7,315.1,315.5,315.8,316.2,316.5,316.7,316.9,317.1,317.8,318.0,318.0,318.0,318.0,318.0,318.0,318.0,318.0,318.2,318.4,318.5,318.7,318.9,319.1,319.5,319.8,320.2,320.5,320.9,321.4,321.8,322.3,322.7,323.2,323.6,324.2,324.7,325.3,325.8,326.2,326.3,326.5,326.7,327.0]}},\"id\":\"b5f509a5-b512-403b-bbe2-9cdd0eaf470a\",\"type\":\"ColumnDataSource\"},{\"attributes\":{\"axis_label\":\"Time\",\"formatter\":{\"id\":\"d156debb-5d19-460b-96ca-c5e3b3140544\",\"type\":\"DatetimeTickFormatter\"},\"plot\":{\"id\":\"ab49042c-357b-45f1-8a81-eb6e2215926f\",\"subtype\":\"Figure\",\"type\":\"Plot\"},\"ticker\":{\"id\":\"f8ee1b79-6e13-4bc8-a22c-c22d730eebf5\",\"type\":\"DatetimeTicker\"}},\"id\":\"cc40b6d9-fe75-4672-8af7-a07fb2d09bb2\",\"type\":\"DatetimeAxis\"},{\"attributes\":{\"plot\":{\"id\":\"ab49042c-357b-45f1-8a81-eb6e2215926f\",\"subtype\":\"Figure\",\"type\":\"Plot\"}},\"id\":\"3bce4a5e-7e71-44a1-9f74-44981243bb16\",\"type\":\"HelpTool\"},{\"attributes\":{\"plot\":{\"id\":\"6225845a-f1bc-4559-beb0-cdf89ed0571e\",\"subtype\":\"Figure\",\"type\":\"Plot\"}},\"id\":\"8f175e25-f84e-47b8-87a3-58541fa217fd\",\"type\":\"WheelZoomTool\"},{\"attributes\":{\"bottom_units\":\"screen\",\"fill_alpha\":{\"value\":0.5},\"fill_color\":{\"value\":\"lightgrey\"},\"left_units\":\"screen\",\"level\":\"overlay\",\"line_alpha\":{\"value\":1.0},\"line_color\":{\"value\":\"black\"},\"line_dash\":[4,4],\"line_width\":{\"value\":2},\"plot\":null,\"render_mode\":\"css\",\"right_units\":\"screen\",\"top_units\":\"screen\"},\"id\":\"6d13d4c3-bf0b-4f79-85ea-f5d321e49382\",\"type\":\"BoxAnnotation\"},{\"attributes\":{\"plot\":{\"id\":\"6225845a-f1bc-4559-beb0-cdf89ed0571e\",\"subtype\":\"Figure\",\"type\":\"Plot\"}},\"id\":\"9af57328-9f4c-4023-ae16-33d2bc4b3f0e\",\"type\":\"PreviewSaveTool\"},{\"attributes\":{\"plot\":{\"id\":\"ab49042c-357b-45f1-8a81-eb6e2215926f\",\"subtype\":\"Figure\",\"type\":\"Plot\"}},\"id\":\"e232a08d-25b9-4d66-988f-9a584eeccfdb\",\"type\":\"PanTool\"},{\"attributes\":{\"plot\":{\"id\":\"ab49042c-357b-45f1-8a81-eb6e2215926f\",\"subtype\":\"Figure\",\"type\":\"Plot\"}},\"id\":\"78699850-8c30-442e-b393-7df14e513f15\",\"type\":\"PreviewSaveTool\"},{\"attributes\":{\"callback\":null},\"id\":\"feb67248-e729-4828-a42c-5864bd961382\",\"type\":\"DataRange1d\"},{\"attributes\":{\"fill_color\":{\"value\":\"#1f77b4\"},\"line_color\":{\"value\":\"#1f77b4\"},\"x\":{\"field\":\"x\"},\"y\":{\"field\":\"y\"}},\"id\":\"bc087d99-635b-4c6d-8277-23a3d0a2463e\",\"type\":\"Circle\"},{\"attributes\":{\"plot\":{\"id\":\"ab49042c-357b-45f1-8a81-eb6e2215926f\",\"subtype\":\"Figure\",\"type\":\"Plot\"}},\"id\":\"45f832e4-6c82-40be-bf98-d2fb5c0feb87\",\"type\":\"WheelZoomTool\"},{\"attributes\":{\"days\":[1,15]},\"id\":\"7bb0a8df-3013-4a4d-b29d-e504ff2ca480\",\"type\":\"DaysTicker\"},{\"attributes\":{\"plot\":{\"id\":\"6225845a-f1bc-4559-beb0-cdf89ed0571e\",\"subtype\":\"Figure\",\"type\":\"Plot\"}},\"id\":\"6e964c47-9e47-4878-906f-9a343413bfe3\",\"type\":\"HelpTool\"},{\"attributes\":{\"base\":24,\"mantissas\":[1,2,4,6,8,12],\"max_interval\":43200000.0,\"min_interval\":3600000.0,\"num_minor_ticks\":0},\"id\":\"954af61d-c698-485a-881a-295e10162a7a\",\"type\":\"AdaptiveTicker\"},{\"attributes\":{\"days\":[1,15]},\"id\":\"693ff480-4456-4b92-82c5-fa4e0a6254f1\",\"type\":\"DaysTicker\"},{\"attributes\":{\"plot\":{\"id\":\"ab49042c-357b-45f1-8a81-eb6e2215926f\",\"subtype\":\"Figure\",\"type\":\"Plot\"}},\"id\":\"3d4a42ce-c514-4ec9-8ecd-faafa3008f60\",\"type\":\"ResizeTool\"},{\"attributes\":{\"months\":[0,1,2,3,4,5,6,7,8,9,10,11]},\"id\":\"a914384d-f787-4dc1-9eb5-1a7d5e871d14\",\"type\":\"MonthsTicker\"},{\"attributes\":{},\"id\":\"e8321c8a-3b22-4f0d-82ab-775c40714aa4\",\"type\":\"DatetimeTickFormatter\"},{\"attributes\":{},\"id\":\"76ee7995-d0a0-4b0b-a8e0-1975e9bbfb68\",\"type\":\"BasicTickFormatter\"},{\"attributes\":{\"months\":[0,2,4,6,8,10]},\"id\":\"c170195e-b120-464d-9ef3-bb4c4b09f8b9\",\"type\":\"MonthsTicker\"},{\"attributes\":{},\"id\":\"d156debb-5d19-460b-96ca-c5e3b3140544\",\"type\":\"DatetimeTickFormatter\"},{\"attributes\":{\"callback\":null,\"column_names\":[\"y\",\"x\"],\"data\":{\"x\":[1465328243000.0,1428148529000.0,1463844198000.0,1415554211000.0,1414697951000.0,1434131854000.0,1425920018000.0,1439056606000.0,1438106993000.0,1410246399000.0,1457113081000.0,1410099387000.0,1436643161000.0,1462128356000.0,1466880893000.0,1443172413000.0,1424372257000.0,1464635172000.0,1438457322000.0,1420981616000.0,1412445070000.0,1431286224000.0,1465587240000.0,1444075724000.0,1428233258000.0,1425674543000.0,1426191183000.0,1426607916000.0,1459889614000.0,1422467747000.0,1465060160000.0,1418056433000.0,1466349240000.0,1420741859000.0,1440791953000.0,1421776526000.0,1411542030000.0,1446030451000.0,1411929948000.0,1411201027000.0,1436301721000.0,1430762639000.0,1410547403000.0,1422038969000.0],\"y\":[5869.758041685876,2050.294537996982,5673.724969564729,5493.705520609242,5936.597828117186,4466.736025644979,8747.538975053558,7583.492622425234,4482.126354346572,1256.0139437106257,38.50415036853844,1465.8603370305834,5980.435447792143,5678.105548248082,5641.157399618419,1848.3031448360637,2102.6866123651434,4686.257052728707,9468.497064399835,4437.458852924772,5637.941600178236,5976.531944856669,10040.460857166941,9377.080509775602,4927.336038861122,12543.342213664968,9053.550749702497,9066.96676016255,9355.976346881262,6733.926622101581,5690.823548807764,3787.3912574156557,8943.501144715288,10096.597395845707,12190.74237889001,8190.534493570851,5721.8997620119135,7650.115555373454,14.964854228276854,2732.913143192231,4069.3537789534007,4580.658855378932,7770.535908053509,13061.254042482593]}},\"id\":\"cd32cdad-1b09-4cae-a7fe-9d3b8bc8236e\",\"type\":\"ColumnDataSource\"},{\"attributes\":{\"callback\":null,\"column_names\":[\"y\",\"x\"],\"data\":{\"x\":[5.869758041685876,2.050294537996982,5.673724969564729,5.493705520609242,5.936597828117185,4.4667360256449795,8.747538975053558,7.583492622425234,4.482126354346572,1.2560139437106257,0.03850415036853844,1.4658603370305834,5.980435447792144,5.678105548248082,5.641157399618419,1.8483031448360636,2.1026866123651433,4.686257052728707,9.468497064399834,4.437458852924772,5.637941600178236,5.976531944856669,10.040460857166941,9.377080509775602,4.927336038861122,12.543342213664967,9.053550749702497,9.06696676016255,9.355976346881262,6.733926622101581,5.6908235488077645,3.787391257415656,8.943501144715288,10.096597395845707,12.190742378890011,8.190534493570851,5.721899762011914,7.650115555373454,0.014964854228276854,2.732913143192231,4.069353778953401,4.580658855378932,7.7705359080535095,13.061254042482593],\"y\":[0.7794444444444445,0.30916666666666665,0.8727777777777778,0.9305555555555556,1.0708333333333333,0.6458333333333334,1.3022222222222222,1.08,0.6722222222222223,0.15722222222222224,0.0002777777777777778,0.21916666666666668,0.7944444444444444,0.6816666666666666,0.8466666666666667,0.40194444444444444,0.25722222222222224,0.6361111111111111,1.2361111111111112,0.8525,0.95,1.0794444444444444,1.3977777777777778,1.268888888888889,0.7863888888888889,2.0052777777777777,1.2952777777777778,1.2669444444444444,1.378611111111111,1.123888888888889,1.361388888888889,0.6108333333333333,1.7091666666666667,1.9522222222222223,1.7591666666666668,1.4927777777777778,1.0241666666666667,1.2275,0.008888888888888889,0.37916666666666665,0.4825,0.6188888888888889,1.1588888888888889,2.089166666666667]}},\"id\":\"1fe42459-8c14-4bc6-8c59-c759b6fc7828\",\"type\":\"ColumnDataSource\"},{\"attributes\":{\"plot\":{\"id\":\"ab49042c-357b-45f1-8a81-eb6e2215926f\",\"subtype\":\"Figure\",\"type\":\"Plot\"},\"ticker\":{\"id\":\"f8ee1b79-6e13-4bc8-a22c-c22d730eebf5\",\"type\":\"DatetimeTicker\"}},\"id\":\"435610a4-135d-454b-8514-791e3dc25d8d\",\"type\":\"Grid\"},{\"attributes\":{\"data_source\":{\"id\":\"b5f509a5-b512-403b-bbe2-9cdd0eaf470a\",\"type\":\"ColumnDataSource\"},\"glyph\":{\"id\":\"cecdd8c5-3f5d-4dc1-8668-06cfb68f148e\",\"type\":\"Line\"},\"hover_glyph\":null,\"nonselection_glyph\":{\"id\":\"e04ae346-b4d7-4b78-ad35-5695f0064605\",\"type\":\"Line\"},\"selection_glyph\":null},\"id\":\"fb3664ee-8c91-4d3e-ba43-f4604568da31\",\"type\":\"GlyphRenderer\"},{\"attributes\":{},\"id\":\"e63c7996-e7c2-4246-92db-88e97bb4adb0\",\"type\":\"BasicTickFormatter\"},{\"attributes\":{\"dimension\":1,\"plot\":{\"id\":\"ab49042c-357b-45f1-8a81-eb6e2215926f\",\"subtype\":\"Figure\",\"type\":\"Plot\"},\"ticker\":{\"id\":\"7bc59c59-cfad-460c-8e2a-0edfda534c81\",\"type\":\"BasicTicker\"}},\"id\":\"325749a2-1ea5-4568-8af7-d9991cd34787\",\"type\":\"Grid\"},{\"attributes\":{\"months\":[0,4,8]},\"id\":\"b4bbb510-1ede-45b7-acac-8a33fb20f520\",\"type\":\"MonthsTicker\"},{\"attributes\":{\"axis_label\":\"Time in hours\",\"formatter\":{\"id\":\"e63c7996-e7c2-4246-92db-88e97bb4adb0\",\"type\":\"BasicTickFormatter\"},\"plot\":{\"id\":\"0d972f9f-1f93-4ff4-9e05-fb628a072bd7\",\"subtype\":\"Figure\",\"type\":\"Plot\"},\"ticker\":{\"id\":\"e563fb8c-657e-4e19-b888-cac1e1390d7a\",\"type\":\"BasicTicker\"}},\"id\":\"1f1053bb-029f-46db-aadf-28765b959c88\",\"type\":\"LinearAxis\"},{\"attributes\":{\"data_source\":{\"id\":\"cd32cdad-1b09-4cae-a7fe-9d3b8bc8236e\",\"type\":\"ColumnDataSource\"},\"glyph\":{\"id\":\"bc087d99-635b-4c6d-8277-23a3d0a2463e\",\"type\":\"Circle\"},\"hover_glyph\":null,\"nonselection_glyph\":{\"id\":\"e04db3e7-726f-4427-91a3-690c7db8575d\",\"type\":\"Circle\"},\"selection_glyph\":null},\"id\":\"0a4f4d6a-bfd1-4228-b176-d6dbc1307815\",\"type\":\"GlyphRenderer\"},{\"attributes\":{\"axis_label\":\"Distance (m)\",\"formatter\":{\"id\":\"f5c4ccd1-2de4-41be-b3b0-919d34c69f51\",\"type\":\"BasicTickFormatter\"},\"plot\":{\"id\":\"ab49042c-357b-45f1-8a81-eb6e2215926f\",\"subtype\":\"Figure\",\"type\":\"Plot\"},\"ticker\":{\"id\":\"7bc59c59-cfad-460c-8e2a-0edfda534c81\",\"type\":\"BasicTicker\"}},\"id\":\"fc47a57b-09af-4c0c-928b-b41acba89767\",\"type\":\"LinearAxis\"},{\"attributes\":{\"overlay\":{\"id\":\"6d13d4c3-bf0b-4f79-85ea-f5d321e49382\",\"type\":\"BoxAnnotation\"},\"plot\":{\"id\":\"ab49042c-357b-45f1-8a81-eb6e2215926f\",\"subtype\":\"Figure\",\"type\":\"Plot\"}},\"id\":\"11944090-d491-474e-b378-5fa5d783b92f\",\"type\":\"BoxZoomTool\"},{\"attributes\":{\"months\":[0,1,2,3,4,5,6,7,8,9,10,11]},\"id\":\"6fa8e12a-5842-496f-bba3-ff44dceac3ac\",\"type\":\"MonthsTicker\"},{\"attributes\":{\"base\":60,\"mantissas\":[1,2,5,10,15,20,30],\"max_interval\":1800000.0,\"min_interval\":1000.0,\"num_minor_ticks\":0},\"id\":\"5d9555f4-ded4-4f9d-ae77-c0d222c8ddc4\",\"type\":\"AdaptiveTicker\"},{\"attributes\":{\"background_fill_color\":{\"value\":\"#E8DDCB\"},\"below\":[{\"id\":\"37dab73d-675e-4bf7-8bce-c4000d2ad9f7\",\"type\":\"DatetimeAxis\"}],\"left\":[{\"id\":\"c27aed5c-c96f-4da1-9397-a54f876cb9da\",\"type\":\"LinearAxis\"}],\"renderers\":[{\"id\":\"37dab73d-675e-4bf7-8bce-c4000d2ad9f7\",\"type\":\"DatetimeAxis\"},{\"id\":\"9dbbde48-7924-4b98-86e1-dffdfbe6c986\",\"type\":\"Grid\"},{\"id\":\"c27aed5c-c96f-4da1-9397-a54f876cb9da\",\"type\":\"LinearAxis\"},{\"id\":\"f7fa8a5b-0612-4e0a-97b8-5b8c33b0a07a\",\"type\":\"Grid\"},{\"id\":\"90b0f95f-82a6-44db-9ba5-3c0d8629e24c\",\"type\":\"BoxAnnotation\"},{\"id\":\"fb3664ee-8c91-4d3e-ba43-f4604568da31\",\"type\":\"GlyphRenderer\"}],\"title\":\"Elevation from last night run\",\"tool_events\":{\"id\":\"ec369ef2-240a-4ce7-b1f2-4c07527507a6\",\"type\":\"ToolEvents\"},\"tools\":[{\"id\":\"b62608e3-2934-4807-ab42-87be27d43798\",\"type\":\"PanTool\"},{\"id\":\"8f175e25-f84e-47b8-87a3-58541fa217fd\",\"type\":\"WheelZoomTool\"},{\"id\":\"4a52d0e1-084e-47b2-9ef2-8983accec614\",\"type\":\"BoxZoomTool\"},{\"id\":\"9af57328-9f4c-4023-ae16-33d2bc4b3f0e\",\"type\":\"PreviewSaveTool\"},{\"id\":\"cc22aff9-fe53-4752-a734-79230bad68f3\",\"type\":\"ResizeTool\"},{\"id\":\"2d0924b6-f7db-4535-b7c0-6d53dc668fe9\",\"type\":\"ResetTool\"},{\"id\":\"6e964c47-9e47-4878-906f-9a343413bfe3\",\"type\":\"HelpTool\"}],\"x_range\":{\"id\":\"b8f0771a-492d-42ca-ad53-210d5f4fac90\",\"type\":\"DataRange1d\"},\"y_range\":{\"id\":\"020a6df3-fdb1-422e-8579-9b6727e0401a\",\"type\":\"DataRange1d\"}},\"id\":\"6225845a-f1bc-4559-beb0-cdf89ed0571e\",\"subtype\":\"Figure\",\"type\":\"Plot\"},{\"attributes\":{\"plot\":{\"id\":\"0d972f9f-1f93-4ff4-9e05-fb628a072bd7\",\"subtype\":\"Figure\",\"type\":\"Plot\"}},\"id\":\"7a9446a7-09c3-4805-98c1-3806e59c9f14\",\"type\":\"PreviewSaveTool\"},{\"attributes\":{\"plot\":{\"id\":\"0d972f9f-1f93-4ff4-9e05-fb628a072bd7\",\"subtype\":\"Figure\",\"type\":\"Plot\"},\"ticker\":{\"id\":\"463e844e-88c3-40e0-85be-2f8eccb5039c\",\"type\":\"BasicTicker\"}},\"id\":\"a8f15e73-4fa9-4139-946b-d24ccfe73186\",\"type\":\"Grid\"},{\"attributes\":{\"background_fill_color\":{\"value\":\"#E8DDCB\"},\"below\":[{\"id\":\"74b1e35d-d172-46db-82ba-c6519b19ca7f\",\"type\":\"LinearAxis\"}],\"left\":[{\"id\":\"1f1053bb-029f-46db-aadf-28765b959c88\",\"type\":\"LinearAxis\"}],\"renderers\":[{\"id\":\"74b1e35d-d172-46db-82ba-c6519b19ca7f\",\"type\":\"LinearAxis\"},{\"id\":\"a8f15e73-4fa9-4139-946b-d24ccfe73186\",\"type\":\"Grid\"},{\"id\":\"1f1053bb-029f-46db-aadf-28765b959c88\",\"type\":\"LinearAxis\"},{\"id\":\"1b633a72-0b5e-4a8e-8725-2f9e3a1c4374\",\"type\":\"Grid\"},{\"id\":\"9dcfb745-e383-45a8-9ff5-12ed74cabb49\",\"type\":\"BoxAnnotation\"},{\"id\":\"d2db26c2-4fe0-4394-b2d7-e3f82fcfcf7b\",\"type\":\"GlyphRenderer\"}],\"title\":\"Speeds \",\"tool_events\":{\"id\":\"45430635-55a8-489e-bf65-9434de533c22\",\"type\":\"ToolEvents\"},\"tools\":[{\"id\":\"0243b8af-a4af-42b3-88f1-bd3475ebe520\",\"type\":\"PanTool\"},{\"id\":\"7a2f8476-553c-4013-87e6-ab7224da462e\",\"type\":\"WheelZoomTool\"},{\"id\":\"008ca9c4-f275-47b1-b3b8-da0b04a5831c\",\"type\":\"BoxZoomTool\"},{\"id\":\"7a9446a7-09c3-4805-98c1-3806e59c9f14\",\"type\":\"PreviewSaveTool\"},{\"id\":\"d42eb8d3-14fd-4fa0-99da-f67b95363d5e\",\"type\":\"ResizeTool\"},{\"id\":\"9bf6c2d9-1fbe-4de7-86f6-69ac10a643f6\",\"type\":\"ResetTool\"},{\"id\":\"bf36c34a-0ab6-4f4f-91c3-8b59e612a462\",\"type\":\"HelpTool\"}],\"x_range\":{\"id\":\"feb67248-e729-4828-a42c-5864bd961382\",\"type\":\"DataRange1d\"},\"y_range\":{\"id\":\"47b84ad1-5904-4a02-af37-d42817dbf260\",\"type\":\"DataRange1d\"}},\"id\":\"0d972f9f-1f93-4ff4-9e05-fb628a072bd7\",\"subtype\":\"Figure\",\"type\":\"Plot\"},{\"attributes\":{\"line_alpha\":{\"value\":0.1},\"line_color\":{\"value\":\"#1f77b4\"},\"x\":{\"field\":\"x\"},\"y\":{\"field\":\"y\"}},\"id\":\"e04ae346-b4d7-4b78-ad35-5695f0064605\",\"type\":\"Line\"},{\"attributes\":{\"plot\":{\"id\":\"0d972f9f-1f93-4ff4-9e05-fb628a072bd7\",\"subtype\":\"Figure\",\"type\":\"Plot\"}},\"id\":\"7a2f8476-553c-4013-87e6-ab7224da462e\",\"type\":\"WheelZoomTool\"},{\"attributes\":{},\"id\":\"a699cab2-cb60-43ed-a565-8e55dde4f233\",\"type\":\"BasicTickFormatter\"},{\"attributes\":{\"base\":24,\"mantissas\":[1,2,4,6,8,12],\"max_interval\":43200000.0,\"min_interval\":3600000.0,\"num_minor_ticks\":0},\"id\":\"7629adcd-13eb-44d8-a535-ab8906853305\",\"type\":\"AdaptiveTicker\"},{\"attributes\":{},\"id\":\"2d41e680-a443-4289-904a-9714dd8d96a9\",\"type\":\"ToolEvents\"},{\"attributes\":{\"num_minor_ticks\":5},\"id\":\"a5ad11a5-89eb-4da2-9172-3967bcfba94a\",\"type\":\"DatetimeTicker\"},{\"attributes\":{},\"id\":\"45430635-55a8-489e-bf65-9434de533c22\",\"type\":\"ToolEvents\"},{\"attributes\":{\"callback\":null},\"id\":\"0417373f-cddc-4eb2-bfa2-0c08bde09426\",\"type\":\"DataRange1d\"},{\"attributes\":{\"months\":[0,6]},\"id\":\"8d9f102e-c726-440f-8acf-0b0e542e3589\",\"type\":\"MonthsTicker\"},{\"attributes\":{\"callback\":null},\"id\":\"47b84ad1-5904-4a02-af37-d42817dbf260\",\"type\":\"DataRange1d\"},{\"attributes\":{\"num_minor_ticks\":5},\"id\":\"f8ee1b79-6e13-4bc8-a22c-c22d730eebf5\",\"type\":\"DatetimeTicker\"},{\"attributes\":{\"overlay\":{\"id\":\"90b0f95f-82a6-44db-9ba5-3c0d8629e24c\",\"type\":\"BoxAnnotation\"},\"plot\":{\"id\":\"6225845a-f1bc-4559-beb0-cdf89ed0571e\",\"subtype\":\"Figure\",\"type\":\"Plot\"}},\"id\":\"4a52d0e1-084e-47b2-9ef2-8983accec614\",\"type\":\"BoxZoomTool\"},{\"attributes\":{},\"id\":\"75095dda-6755-41c4-acdd-d4bf0f20e451\",\"type\":\"YearsTicker\"},{\"attributes\":{\"bottom_units\":\"screen\",\"fill_alpha\":{\"value\":0.5},\"fill_color\":{\"value\":\"lightgrey\"},\"left_units\":\"screen\",\"level\":\"overlay\",\"line_alpha\":{\"value\":1.0},\"line_color\":{\"value\":\"black\"},\"line_dash\":[4,4],\"line_width\":{\"value\":2},\"plot\":null,\"render_mode\":\"css\",\"right_units\":\"screen\",\"top_units\":\"screen\"},\"id\":\"90b0f95f-82a6-44db-9ba5-3c0d8629e24c\",\"type\":\"BoxAnnotation\"},{\"attributes\":{},\"id\":\"7bc59c59-cfad-460c-8e2a-0edfda534c81\",\"type\":\"BasicTicker\"},{\"attributes\":{\"plot\":{\"id\":\"6225845a-f1bc-4559-beb0-cdf89ed0571e\",\"subtype\":\"Figure\",\"type\":\"Plot\"}},\"id\":\"cc22aff9-fe53-4752-a734-79230bad68f3\",\"type\":\"ResizeTool\"},{\"attributes\":{\"plot\":{\"id\":\"6225845a-f1bc-4559-beb0-cdf89ed0571e\",\"subtype\":\"Figure\",\"type\":\"Plot\"}},\"id\":\"2d0924b6-f7db-4535-b7c0-6d53dc668fe9\",\"type\":\"ResetTool\"},{\"attributes\":{\"base\":60,\"mantissas\":[1,2,5,10,15,20,30],\"max_interval\":1800000.0,\"min_interval\":1000.0,\"num_minor_ticks\":0},\"id\":\"2fd423dd-2e87-49be-95dc-c081f0e39221\",\"type\":\"AdaptiveTicker\"},{\"attributes\":{\"axis_label\":\"Time\",\"formatter\":{\"id\":\"e8321c8a-3b22-4f0d-82ab-775c40714aa4\",\"type\":\"DatetimeTickFormatter\"},\"plot\":{\"id\":\"6225845a-f1bc-4559-beb0-cdf89ed0571e\",\"subtype\":\"Figure\",\"type\":\"Plot\"},\"ticker\":{\"id\":\"a5ad11a5-89eb-4da2-9172-3967bcfba94a\",\"type\":\"DatetimeTicker\"}},\"id\":\"37dab73d-675e-4bf7-8bce-c4000d2ad9f7\",\"type\":\"DatetimeAxis\"},{\"attributes\":{\"days\":[1,8,15,22]},\"id\":\"d5421aaf-747e-4e7a-bb67-8d8be47221e8\",\"type\":\"DaysTicker\"},{\"attributes\":{\"plot\":{\"id\":\"0d972f9f-1f93-4ff4-9e05-fb628a072bd7\",\"subtype\":\"Figure\",\"type\":\"Plot\"}},\"id\":\"9bf6c2d9-1fbe-4de7-86f6-69ac10a643f6\",\"type\":\"ResetTool\"},{\"attributes\":{\"days\":[1,2,3,4,5,6,7,8,9,10,11,12,13,14,15,16,17,18,19,20,21,22,23,24,25,26,27,28,29,30,31]},\"id\":\"45fde2db-c390-4121-bdfa-b7bf50397b5d\",\"type\":\"DaysTicker\"}],\"root_ids\":[\"6225845a-f1bc-4559-beb0-cdf89ed0571e\",\"ab49042c-357b-45f1-8a81-eb6e2215926f\",\"0d972f9f-1f93-4ff4-9e05-fb628a072bd7\"]},\"title\":\"Bokeh Application\",\"version\":\"0.11.1\"}};\n",
       "            var render_items = [{\"docid\":\"1e96d5cd-a580-42b0-8c67-de219caf029c\",\"elementid\":\"aa65f086-f412-40bc-a4b1-cbebbd368dbe\",\"modelid\":\"0d972f9f-1f93-4ff4-9e05-fb628a072bd7\",\"notebook_comms_target\":\"5d57756a-8329-4452-852a-19f87dca404e\"}];\n",
       "            \n",
       "            Bokeh.embed.embed_items(docs_json, render_items);\n",
       "        });\n",
       "      },\n",
       "      function(Bokeh) {\n",
       "      }\n",
       "    ];\n",
       "  \n",
       "    function run_inline_js() {\n",
       "      for (var i = 0; i < inline_js.length; i++) {\n",
       "        inline_js[i](window.Bokeh);\n",
       "      }\n",
       "    }\n",
       "  \n",
       "    if (window._bokeh_is_loading === 0) {\n",
       "      console.log(\"Bokeh: BokehJS loaded, going straight to plotting\");\n",
       "      run_inline_js();\n",
       "    } else {\n",
       "      load_libs(js_urls, function() {\n",
       "        console.log(\"Bokeh: BokehJS plotting callback run at\", now());\n",
       "        run_inline_js();\n",
       "      });\n",
       "    }\n",
       "  }(this));\n",
       "</script>"
      ]
     },
     "metadata": {},
     "output_type": "display_data"
    },
    {
     "data": {
      "text/html": [
       "<p><code>&lt;Bokeh Notebook handle for <strong>In[20]</strong>&gt;</code></p>"
      ],
      "text/plain": [
       "<bokeh.io._CommsHandle at 0x7ff0f264fa90>"
      ]
     },
     "execution_count": 20,
     "metadata": {},
     "output_type": "execute_result"
    }
   ],
   "source": [
    "p = figure(\n",
    "    title=\"Speeds \", \n",
    "    background_fill_color=\"#E8DDCB\",\n",
    "    x_axis_label='Distance (km)', \n",
    "    y_axis_label='Time in hours',\n",
    ")\n",
    "\n",
    "distances = [r.distance_total / 1000 for r in all_runs]\n",
    "times = [r.time_total_s / 3600 for r in all_runs]\n",
    "\n",
    "p.circle(distances, times)\n",
    "show(p)"
   ]
  },
  {
   "cell_type": "markdown",
   "metadata": {},
   "source": [
    "On the graph above you can see that I have overall very stable speed, which is kind of disturbing - I am not improving at all. :( Lets add trendline to this graph. "
   ]
  },
  {
   "cell_type": "code",
   "execution_count": 21,
   "metadata": {
    "collapsed": false
   },
   "outputs": [
    {
     "data": {
      "text/html": [
       "\n",
       "\n",
       "    <div class=\"plotdiv\" id=\"908cd4b5-a17d-411e-bf95-d7f8ba87c70b\"></div>\n",
       "<script type=\"text/javascript\">\n",
       "  \n",
       "  (function(global) {\n",
       "    function now() {\n",
       "      return new Date();\n",
       "    }\n",
       "  \n",
       "    if (typeof (window._bokeh_onload_callbacks) === \"undefined\") {\n",
       "      window._bokeh_onload_callbacks = [];\n",
       "    }\n",
       "  \n",
       "    function run_callbacks() {\n",
       "      window._bokeh_onload_callbacks.forEach(function(callback) { callback() });\n",
       "      delete window._bokeh_onload_callbacks\n",
       "      console.info(\"Bokeh: all callbacks have finished\");\n",
       "    }\n",
       "  \n",
       "    function load_libs(js_urls, callback) {\n",
       "      window._bokeh_onload_callbacks.push(callback);\n",
       "      if (window._bokeh_is_loading > 0) {\n",
       "        console.log(\"Bokeh: BokehJS is being loaded, scheduling callback at\", now());\n",
       "        return null;\n",
       "      }\n",
       "      if (js_urls == null || js_urls.length === 0) {\n",
       "        run_callbacks();\n",
       "        return null;\n",
       "      }\n",
       "      console.log(\"Bokeh: BokehJS not loaded, scheduling load and callback at\", now());\n",
       "      window._bokeh_is_loading = js_urls.length;\n",
       "      for (var i = 0; i < js_urls.length; i++) {\n",
       "        var url = js_urls[i];\n",
       "        var s = document.createElement('script');\n",
       "        s.src = url;\n",
       "        s.async = false;\n",
       "        s.onreadystatechange = s.onload = function() {\n",
       "          window._bokeh_is_loading--;\n",
       "          if (window._bokeh_is_loading === 0) {\n",
       "            console.log(\"Bokeh: all BokehJS libraries loaded\");\n",
       "            run_callbacks()\n",
       "          }\n",
       "        };\n",
       "        s.onerror = function() {\n",
       "          console.warn(\"failed to load library \" + url);\n",
       "        };\n",
       "        console.log(\"Bokeh: injecting script tag for BokehJS library: \", url);\n",
       "        document.getElementsByTagName(\"head\")[0].appendChild(s);\n",
       "      }\n",
       "    };var element = document.getElementById(\"908cd4b5-a17d-411e-bf95-d7f8ba87c70b\");\n",
       "    if (element == null) {\n",
       "      console.log(\"Bokeh: ERROR: autoload.js configured with elementid '908cd4b5-a17d-411e-bf95-d7f8ba87c70b' but no matching script tag was found. \")\n",
       "      return false;\n",
       "    }\n",
       "  \n",
       "    var js_urls = [];\n",
       "  \n",
       "    var inline_js = [\n",
       "      function(Bokeh) {\n",
       "        Bokeh.$(function() {\n",
       "            var docs_json = {\"469e348c-cff1-481b-ba9f-fa2107b6170a\":{\"roots\":{\"references\":[{\"attributes\":{\"callback\":null},\"id\":\"020a6df3-fdb1-422e-8579-9b6727e0401a\",\"type\":\"DataRange1d\"},{\"attributes\":{\"line_color\":{\"value\":\"#1f77b4\"},\"x\":{\"field\":\"x\"},\"y\":{\"field\":\"y\"}},\"id\":\"cecdd8c5-3f5d-4dc1-8668-06cfb68f148e\",\"type\":\"Line\"},{\"attributes\":{\"data_source\":{\"id\":\"1fe42459-8c14-4bc6-8c59-c759b6fc7828\",\"type\":\"ColumnDataSource\"},\"glyph\":{\"id\":\"d04b8e5b-4a49-493d-b8c0-36221ae7a104\",\"type\":\"Circle\"},\"hover_glyph\":null,\"nonselection_glyph\":{\"id\":\"42c11852-99b8-4f08-8e4d-4dd2e96be1e7\",\"type\":\"Circle\"},\"selection_glyph\":null},\"id\":\"d2db26c2-4fe0-4394-b2d7-e3f82fcfcf7b\",\"type\":\"GlyphRenderer\"},{\"attributes\":{\"days\":[1,4,7,10,13,16,19,22,25,28]},\"id\":\"8543a35e-a100-466f-867d-7548c46f76f5\",\"type\":\"DaysTicker\"},{\"attributes\":{\"plot\":{\"id\":\"0d972f9f-1f93-4ff4-9e05-fb628a072bd7\",\"subtype\":\"Figure\",\"type\":\"Plot\"}},\"id\":\"0243b8af-a4af-42b3-88f1-bd3475ebe520\",\"type\":\"PanTool\"},{\"attributes\":{},\"id\":\"ec369ef2-240a-4ce7-b1f2-4c07527507a6\",\"type\":\"ToolEvents\"},{\"attributes\":{\"max_interval\":500.0,\"num_minor_ticks\":0},\"id\":\"9afe2969-e473-4b92-a524-beafa7a685be\",\"type\":\"AdaptiveTicker\"},{\"attributes\":{\"overlay\":{\"id\":\"9dcfb745-e383-45a8-9ff5-12ed74cabb49\",\"type\":\"BoxAnnotation\"},\"plot\":{\"id\":\"0d972f9f-1f93-4ff4-9e05-fb628a072bd7\",\"subtype\":\"Figure\",\"type\":\"Plot\"}},\"id\":\"008ca9c4-f275-47b1-b3b8-da0b04a5831c\",\"type\":\"BoxZoomTool\"},{\"attributes\":{\"plot\":{\"id\":\"6225845a-f1bc-4559-beb0-cdf89ed0571e\",\"subtype\":\"Figure\",\"type\":\"Plot\"},\"ticker\":{\"id\":\"a5ad11a5-89eb-4da2-9172-3967bcfba94a\",\"type\":\"DatetimeTicker\"}},\"id\":\"9dbbde48-7924-4b98-86e1-dffdfbe6c986\",\"type\":\"Grid\"},{\"attributes\":{},\"id\":\"463e844e-88c3-40e0-85be-2f8eccb5039c\",\"type\":\"BasicTicker\"},{\"attributes\":{\"fill_alpha\":{\"value\":0.1},\"fill_color\":{\"value\":\"#1f77b4\"},\"line_alpha\":{\"value\":0.1},\"line_color\":{\"value\":\"#1f77b4\"},\"x\":{\"field\":\"x\"},\"y\":{\"field\":\"y\"}},\"id\":\"42c11852-99b8-4f08-8e4d-4dd2e96be1e7\",\"type\":\"Circle\"},{\"attributes\":{},\"id\":\"20d0acfe-1f5c-42a3-8267-172e5248615b\",\"type\":\"BasicTicker\"},{\"attributes\":{},\"id\":\"e563fb8c-657e-4e19-b888-cac1e1390d7a\",\"type\":\"BasicTicker\"},{\"attributes\":{\"plot\":{\"id\":\"ab49042c-357b-45f1-8a81-eb6e2215926f\",\"subtype\":\"Figure\",\"type\":\"Plot\"}},\"id\":\"0dcc5238-3135-49ea-92ee-d37c527d577a\",\"type\":\"ResetTool\"},{\"attributes\":{\"max_interval\":500.0,\"num_minor_ticks\":0},\"id\":\"2483a01f-7a6e-4d72-a95f-77910a28fa73\",\"type\":\"AdaptiveTicker\"},{\"attributes\":{\"days\":[1,2,3,4,5,6,7,8,9,10,11,12,13,14,15,16,17,18,19,20,21,22,23,24,25,26,27,28,29,30,31]},\"id\":\"b639aabb-d9d6-48b8-9d37-ebcb5f61be06\",\"type\":\"DaysTicker\"},{\"attributes\":{\"days\":[1,4,7,10,13,16,19,22,25,28]},\"id\":\"e9316fad-db19-4a54-910e-4a6d5f11f101\",\"type\":\"DaysTicker\"},{\"attributes\":{\"days\":[1,8,15,22]},\"id\":\"b776b95b-171a-45d4-8d7d-df1bfd3d42d6\",\"type\":\"DaysTicker\"},{\"attributes\":{\"bottom_units\":\"screen\",\"fill_alpha\":{\"value\":0.5},\"fill_color\":{\"value\":\"lightgrey\"},\"left_units\":\"screen\",\"level\":\"overlay\",\"line_alpha\":{\"value\":1.0},\"line_color\":{\"value\":\"black\"},\"line_dash\":[4,4],\"line_width\":{\"value\":2},\"plot\":null,\"render_mode\":\"css\",\"right_units\":\"screen\",\"top_units\":\"screen\"},\"id\":\"9dcfb745-e383-45a8-9ff5-12ed74cabb49\",\"type\":\"BoxAnnotation\"},{\"attributes\":{\"axis_label\":\"Distance (km)\",\"formatter\":{\"id\":\"a699cab2-cb60-43ed-a565-8e55dde4f233\",\"type\":\"BasicTickFormatter\"},\"plot\":{\"id\":\"0d972f9f-1f93-4ff4-9e05-fb628a072bd7\",\"subtype\":\"Figure\",\"type\":\"Plot\"},\"ticker\":{\"id\":\"463e844e-88c3-40e0-85be-2f8eccb5039c\",\"type\":\"BasicTicker\"}},\"id\":\"74b1e35d-d172-46db-82ba-c6519b19ca7f\",\"type\":\"LinearAxis\"},{\"attributes\":{\"callback\":null},\"id\":\"b8f0771a-492d-42ca-ad53-210d5f4fac90\",\"type\":\"DataRange1d\"},{\"attributes\":{\"months\":[0,6]},\"id\":\"83729737-b239-4107-8dbb-2846f558fc38\",\"type\":\"MonthsTicker\"},{\"attributes\":{\"dimension\":1,\"plot\":{\"id\":\"6225845a-f1bc-4559-beb0-cdf89ed0571e\",\"subtype\":\"Figure\",\"type\":\"Plot\"},\"ticker\":{\"id\":\"20d0acfe-1f5c-42a3-8267-172e5248615b\",\"type\":\"BasicTicker\"}},\"id\":\"f7fa8a5b-0612-4e0a-97b8-5b8c33b0a07a\",\"type\":\"Grid\"},{\"attributes\":{\"plot\":{\"id\":\"0d972f9f-1f93-4ff4-9e05-fb628a072bd7\",\"subtype\":\"Figure\",\"type\":\"Plot\"}},\"id\":\"d42eb8d3-14fd-4fa0-99da-f67b95363d5e\",\"type\":\"ResizeTool\"},{\"attributes\":{\"fill_alpha\":{\"value\":0.1},\"fill_color\":{\"value\":\"#1f77b4\"},\"line_alpha\":{\"value\":0.1},\"line_color\":{\"value\":\"#1f77b4\"},\"x\":{\"field\":\"x\"},\"y\":{\"field\":\"y\"}},\"id\":\"e04db3e7-726f-4427-91a3-690c7db8575d\",\"type\":\"Circle\"},{\"attributes\":{},\"id\":\"f5c4ccd1-2de4-41be-b3b0-919d34c69f51\",\"type\":\"BasicTickFormatter\"},{\"attributes\":{\"callback\":null,\"column_names\":[\"y\",\"x\"],\"data\":{\"x\":[5.869758041685876,2.050294537996982,5.673724969564729,5.493705520609242,5.936597828117185,4.4667360256449795,8.747538975053558,7.583492622425234,4.482126354346572,1.2560139437106257,0.03850415036853844,1.4658603370305834,5.980435447792144,5.678105548248082,5.641157399618419,1.8483031448360636,2.1026866123651433,4.686257052728707,9.468497064399834,4.437458852924772,5.637941600178236,5.976531944856669,10.040460857166941,9.377080509775602,4.927336038861122,12.543342213664967,9.053550749702497,9.06696676016255,9.355976346881262,6.733926622101581,5.6908235488077645,3.787391257415656,8.943501144715288,10.096597395845707,12.190742378890011,8.190534493570851,5.721899762011914,7.650115555373454,0.014964854228276854,2.732913143192231,4.069353778953401,4.580658855378932,7.7705359080535095,13.061254042482593],\"y\":[0.9167204377022928,0.3244440836832432,0.8863219921847667,0.8584067462930602,0.9270851459846768,0.69915669780359,1.3629720113158053,1.1824657362910516,0.7015432444381449,0.2012766246938706,0.01247988382000519,0.23381707353427808,0.9338829555526651,0.8870012795162372,0.8812718060608696,0.29312169357033013,0.3325684149555016,0.7331973722140391,1.4747695001898693,0.6946167468136242,0.8807731386522536,0.933277647376715,1.563462749774223,1.460593722985157,0.7705809950184491,1.9515794166666238,1.4104246281560826,1.4125050213194386,1.4573211438280027,1.0507252830351785,0.8889734337192099,0.5938121010925139,1.3933594621347005,1.5721677274298014,1.8969024851115681,1.2765984713811453,0.8937923582188145,1.1927968175495889,0.008829693556198857,0.43029634756274704,0.6375354496897979,0.716822476824437,1.2114701540970247,2.031890939313504]}},\"id\":\"155ecf4f-1579-4775-b0ff-78153bbb79ca\",\"type\":\"ColumnDataSource\"},{\"attributes\":{\"dimension\":1,\"plot\":{\"id\":\"0d972f9f-1f93-4ff4-9e05-fb628a072bd7\",\"subtype\":\"Figure\",\"type\":\"Plot\"},\"ticker\":{\"id\":\"e563fb8c-657e-4e19-b888-cac1e1390d7a\",\"type\":\"BasicTicker\"}},\"id\":\"1b633a72-0b5e-4a8e-8725-2f9e3a1c4374\",\"type\":\"Grid\"},{\"attributes\":{\"axis_label\":\"Elevation (m)\",\"formatter\":{\"id\":\"76ee7995-d0a0-4b0b-a8e0-1975e9bbfb68\",\"type\":\"BasicTickFormatter\"},\"plot\":{\"id\":\"6225845a-f1bc-4559-beb0-cdf89ed0571e\",\"subtype\":\"Figure\",\"type\":\"Plot\"},\"ticker\":{\"id\":\"20d0acfe-1f5c-42a3-8267-172e5248615b\",\"type\":\"BasicTicker\"}},\"id\":\"c27aed5c-c96f-4da1-9397-a54f876cb9da\",\"type\":\"LinearAxis\"},{\"attributes\":{},\"id\":\"7c81999c-f6e0-4e95-b9be-ea27382d3015\",\"type\":\"YearsTicker\"},{\"attributes\":{\"months\":[0,2,4,6,8,10]},\"id\":\"439b703f-5ccf-47c8-ac3d-d041d5730164\",\"type\":\"MonthsTicker\"},{\"attributes\":{\"plot\":{\"id\":\"6225845a-f1bc-4559-beb0-cdf89ed0571e\",\"subtype\":\"Figure\",\"type\":\"Plot\"}},\"id\":\"b62608e3-2934-4807-ab42-87be27d43798\",\"type\":\"PanTool\"},{\"attributes\":{\"months\":[0,4,8]},\"id\":\"26a5cd4c-50cc-49cf-aa88-d59a6722ddc0\",\"type\":\"MonthsTicker\"},{\"attributes\":{\"fill_color\":{\"value\":\"#1f77b4\"},\"line_color\":{\"value\":\"#1f77b4\"},\"x\":{\"field\":\"x\"},\"y\":{\"field\":\"y\"}},\"id\":\"d04b8e5b-4a49-493d-b8c0-36221ae7a104\",\"type\":\"Circle\"},{\"attributes\":{\"background_fill_color\":{\"value\":\"#E8DDCB\"},\"below\":[{\"id\":\"cc40b6d9-fe75-4672-8af7-a07fb2d09bb2\",\"type\":\"DatetimeAxis\"}],\"left\":[{\"id\":\"fc47a57b-09af-4c0c-928b-b41acba89767\",\"type\":\"LinearAxis\"}],\"renderers\":[{\"id\":\"cc40b6d9-fe75-4672-8af7-a07fb2d09bb2\",\"type\":\"DatetimeAxis\"},{\"id\":\"435610a4-135d-454b-8514-791e3dc25d8d\",\"type\":\"Grid\"},{\"id\":\"fc47a57b-09af-4c0c-928b-b41acba89767\",\"type\":\"LinearAxis\"},{\"id\":\"325749a2-1ea5-4568-8af7-d9991cd34787\",\"type\":\"Grid\"},{\"id\":\"6d13d4c3-bf0b-4f79-85ea-f5d321e49382\",\"type\":\"BoxAnnotation\"},{\"id\":\"0a4f4d6a-bfd1-4228-b176-d6dbc1307815\",\"type\":\"GlyphRenderer\"}],\"title\":\"Distances run over time\",\"tool_events\":{\"id\":\"2d41e680-a443-4289-904a-9714dd8d96a9\",\"type\":\"ToolEvents\"},\"tools\":[{\"id\":\"e232a08d-25b9-4d66-988f-9a584eeccfdb\",\"type\":\"PanTool\"},{\"id\":\"45f832e4-6c82-40be-bf98-d2fb5c0feb87\",\"type\":\"WheelZoomTool\"},{\"id\":\"11944090-d491-474e-b378-5fa5d783b92f\",\"type\":\"BoxZoomTool\"},{\"id\":\"78699850-8c30-442e-b393-7df14e513f15\",\"type\":\"PreviewSaveTool\"},{\"id\":\"3d4a42ce-c514-4ec9-8ecd-faafa3008f60\",\"type\":\"ResizeTool\"},{\"id\":\"0dcc5238-3135-49ea-92ee-d37c527d577a\",\"type\":\"ResetTool\"},{\"id\":\"3bce4a5e-7e71-44a1-9f74-44981243bb16\",\"type\":\"HelpTool\"}],\"x_range\":{\"id\":\"eafba1a6-ddc7-49ec-9e0a-5190c7db30c0\",\"type\":\"DataRange1d\"},\"y_range\":{\"id\":\"0417373f-cddc-4eb2-bfa2-0c08bde09426\",\"type\":\"DataRange1d\"}},\"id\":\"ab49042c-357b-45f1-8a81-eb6e2215926f\",\"subtype\":\"Figure\",\"type\":\"Plot\"},{\"attributes\":{\"callback\":null},\"id\":\"eafba1a6-ddc7-49ec-9e0a-5190c7db30c0\",\"type\":\"DataRange1d\"},{\"attributes\":{\"plot\":{\"id\":\"0d972f9f-1f93-4ff4-9e05-fb628a072bd7\",\"subtype\":\"Figure\",\"type\":\"Plot\"}},\"id\":\"bf36c34a-0ab6-4f4f-91c3-8b59e612a462\",\"type\":\"HelpTool\"},{\"attributes\":{\"callback\":null,\"column_names\":[\"y\",\"x\"],\"data\":{\"x\":[1466880893000.0,1466880895000.0,1466880898000.0,1466880911000.0,1466880918000.0,1466880929000.0,1466880933000.0,1466880936000.0,1466880939000.0,1466880942000.0,1466880945000.0,1466880948000.0,1466880951000.0,1466880954000.0,1466880957000.0,1466880960000.0,1466880964000.0,1466880967000.0,1466880970000.0,1466880973000.0,1466880976000.0,1466880980000.0,1466880983000.0,1466880987000.0,1466880991000.0,1466880995000.0,1466880999000.0,1466881003000.0,1466881006000.0,1466881009000.0,1466881012000.0,1466881015000.0,1466881018000.0,1466881021000.0,1466881024000.0,1466881027000.0,1466881031000.0,1466881034000.0,1466881038000.0,1466881071000.0,1466881074000.0,1466881077000.0,1466881080000.0,1466881082000.0,1466881085000.0,1466881088000.0,1466881091000.0,1466881094000.0,1466881097000.0,1466881100000.0,1466881103000.0,1466881106000.0,1466881109000.0,1466881112000.0,1466881116000.0,1466881138000.0,1466881141000.0,1466881144000.0,1466881147000.0,1466881150000.0,1466881153000.0,1466881156000.0,1466881159000.0,1466881162000.0,1466881165000.0,1466881168000.0,1466881171000.0,1466881175000.0,1466881178000.0,1466881181000.0,1466881184000.0,1466881187000.0,1466881190000.0,1466881193000.0,1466881196000.0,1466881200000.0,1466881214000.0,1466881222000.0,1466881226000.0,1466881229000.0,1466881232000.0,1466881235000.0,1466881238000.0,1466881241000.0,1466881244000.0,1466881247000.0,1466881250000.0,1466881253000.0,1466881256000.0,1466881259000.0,1466881262000.0,1466881265000.0,1466881268000.0,1466881271000.0,1466881274000.0,1466881285000.0,1466881301000.0,1466881304000.0,1466881307000.0,1466881309000.0,1466881312000.0,1466881315000.0,1466881318000.0,1466881322000.0,1466881325000.0,1466881328000.0,1466881331000.0,1466881335000.0,1466881350000.0,1466881358000.0,1466881361000.0,1466881364000.0,1466881367000.0,1466881370000.0,1466881373000.0,1466881376000.0,1466881379000.0,1466881383000.0,1466881386000.0,1466881389000.0,1466881392000.0,1466881396000.0,1466881400000.0,1466881403000.0,1466881406000.0,1466881409000.0,1466881412000.0,1466881437000.0,1466881447000.0,1466881451000.0,1466881454000.0,1466881457000.0,1466881460000.0,1466881463000.0,1466881466000.0,1466881469000.0,1466881472000.0,1466881475000.0,1466881478000.0,1466881480000.0,1466881483000.0,1466881486000.0,1466881489000.0,1466881492000.0,1466881495000.0,1466881498000.0,1466881501000.0,1466881504000.0,1466881507000.0,1466881510000.0,1466881513000.0,1466881516000.0,1466881520000.0,1466881523000.0,1466881526000.0,1466881530000.0,1466881534000.0,1466881544000.0,1466881556000.0,1466881564000.0,1466881571000.0,1466881578000.0,1466881586000.0,1466881597000.0,1466881604000.0,1466881613000.0,1466881621000.0,1466881624000.0,1466881627000.0,1466881631000.0,1466881635000.0,1466881639000.0,1466881643000.0,1466881647000.0,1466881651000.0,1466881655000.0,1466881659000.0,1466881663000.0,1466881683000.0,1466881690000.0,1466881694000.0,1466881698000.0,1466881702000.0,1466881707000.0,1466881712000.0,1466881717000.0,1466881722000.0,1466881726000.0,1466881732000.0,1466881737000.0,1466881741000.0,1466881746000.0,1466881751000.0,1466881759000.0,1466881769000.0,1466881780000.0,1466881789000.0,1466881797000.0,1466881807000.0,1466881813000.0,1466881817000.0,1466881821000.0,1466881826000.0,1466881868000.0,1466881872000.0,1466881877000.0,1466881881000.0,1466881885000.0,1466881889000.0,1466881893000.0,1466881897000.0,1466881903000.0,1466881908000.0,1466881913000.0,1466881919000.0,1466881945000.0,1466881957000.0,1466881961000.0,1466881965000.0,1466881970000.0,1466881997000.0,1466882002000.0,1466882040000.0,1466882045000.0,1466882050000.0,1466882056000.0,1466882061000.0,1466882067000.0,1466882072000.0,1466882076000.0,1466882080000.0,1466882083000.0,1466882087000.0,1466882092000.0,1466882097000.0,1466882102000.0,1466882107000.0,1466882111000.0,1466882144000.0,1466882166000.0,1466882175000.0,1466882183000.0,1466882222000.0,1466882326000.0,1466882332000.0,1466882336000.0,1466882339000.0,1466882342000.0,1466882345000.0,1466882348000.0,1466882352000.0,1466882356000.0,1466882360000.0,1466882364000.0,1466882368000.0,1466882373000.0,1466882378000.0,1466882383000.0,1466882387000.0,1466882391000.0,1466882395000.0,1466882399000.0,1466882404000.0,1466882420000.0,1466882424000.0,1466882428000.0,1466882432000.0,1466882436000.0,1466882441000.0,1466882446000.0,1466882452000.0,1466882456000.0,1466882460000.0,1466882464000.0,1466882468000.0,1466882472000.0,1466882476000.0,1466882480000.0,1466882485000.0,1466882490000.0,1466882494000.0,1466882500000.0,1466882506000.0,1466882511000.0,1466882518000.0,1466882527000.0,1466882540000.0,1466882545000.0,1466882550000.0,1466882555000.0,1466882562000.0,1466882568000.0,1466882573000.0,1466882578000.0,1466882584000.0,1466882589000.0,1466882604000.0,1466882643000.0,1466882654000.0,1466882662000.0,1466882666000.0,1466882669000.0,1466882673000.0,1466882677000.0,1466882681000.0,1466882687000.0,1466882692000.0,1466882697000.0,1466882732000.0,1466882737000.0,1466882743000.0,1466882748000.0,1466882752000.0,1466882758000.0,1466882764000.0,1466882770000.0,1466882799000.0,1466882803000.0,1466882806000.0,1466882809000.0,1466882812000.0,1466882816000.0,1466882820000.0,1466882824000.0,1466882829000.0,1466882832000.0,1466882835000.0,1466882839000.0,1466882842000.0,1466882846000.0,1466882850000.0,1466882854000.0,1466882858000.0,1466882863000.0,1466882867000.0,1466882871000.0,1466882876000.0,1466882883000.0,1466882892000.0,1466882902000.0,1466882933000.0,1466882937000.0,1466882941000.0,1466882945000.0,1466882949000.0,1466882953000.0,1466882957000.0,1466882961000.0,1466882965000.0,1466882969000.0,1466882993000.0,1466882997000.0,1466883001000.0,1466883005000.0,1466883009000.0,1466883014000.0,1466883019000.0,1466883024000.0,1466883028000.0,1466883032000.0,1466883036000.0,1466883040000.0,1466883044000.0,1466883048000.0,1466883052000.0,1466883057000.0,1466883062000.0,1466883082000.0,1466883098000.0,1466883102000.0,1466883106000.0,1466883109000.0,1466883112000.0,1466883116000.0,1466883120000.0,1466883124000.0,1466883129000.0,1466883135000.0,1466883142000.0,1466883150000.0,1466883161000.0,1466883169000.0,1466883174000.0,1466883179000.0,1466883183000.0,1466883186000.0,1466883189000.0,1466883193000.0,1466883196000.0,1466883199000.0,1466883203000.0,1466883209000.0,1466883213000.0,1466883217000.0,1466883221000.0,1466883225000.0,1466883229000.0,1466883233000.0,1466883238000.0,1466883243000.0,1466883247000.0,1466883250000.0,1466883253000.0,1466883257000.0,1466883260000.0,1466883264000.0,1466883269000.0,1466883274000.0,1466883296000.0,1466883301000.0,1466883304000.0,1466883308000.0,1466883314000.0,1466883319000.0,1466883323000.0,1466883326000.0,1466883329000.0,1466883333000.0,1466883337000.0,1466883341000.0,1466883345000.0,1466883349000.0,1466883353000.0,1466883358000.0,1466883363000.0,1466883368000.0,1466883374000.0,1466883380000.0,1466883385000.0,1466883390000.0,1466883394000.0,1466883399000.0,1466883413000.0,1466883430000.0,1466883439000.0,1466883448000.0,1466883452000.0,1466883456000.0,1466883460000.0,1466883464000.0,1466883468000.0,1466883473000.0,1466883478000.0,1466883483000.0,1466883489000.0,1466883494000.0,1466883498000.0,1466883502000.0,1466883507000.0,1466883513000.0,1466883518000.0,1466883523000.0,1466883558000.0,1466883562000.0,1466883566000.0,1466883570000.0,1466883574000.0,1466883578000.0,1466883582000.0,1466883587000.0,1466883592000.0,1466883598000.0,1466883605000.0,1466883612000.0,1466883620000.0,1466883630000.0,1466883642000.0,1466883650000.0,1466883659000.0,1466883667000.0,1466883676000.0,1466883684000.0,1466883692000.0,1466883700000.0,1466883709000.0,1466883719000.0,1466883728000.0,1466883736000.0,1466883743000.0,1466883753000.0,1466883763000.0,1466883772000.0,1466883781000.0,1466883789000.0,1466883799000.0,1466883807000.0,1466883817000.0,1466883828000.0,1466883836000.0,1466883844000.0,1466883852000.0,1466883861000.0,1466883871000.0,1466883879000.0,1466883888000.0,1466883897000.0,1466883904000.0,1466883915000.0,1466883941000.0],\"y\":[327.0,326.7,326.5,326.3,325.9,325.5,325.0,324.5,323.9,323.2,322.7,322.3,321.8,321.4,320.9,320.5,320.2,319.8,319.5,319.1,318.9,318.7,318.5,318.4,318.2,318.0,318.0,318.0,318.0,318.0,317.3,316.5,315.8,315.1,314.4,313.6,312.9,312.2,311.5,310.7,310.0,309.4,308.7,308.1,307.5,306.8,306.2,305.5,304.9,304.0,303.1,302.2,301.9,301.6,301.4,301.0,300.6,300.3,299.7,299.2,298.9,298.6,298.4,298.1,297.8,297.5,297.1,296.6,296.2,295.9,295.6,295.3,294.9,294.5,294.2,293.8,293.5,293.4,293.3,293.2,293.1,293.0,292.9,292.5,292.2,291.8,291.5,291.1,290.7,290.4,290.0,289.6,289.4,289.2,289.3,289.4,289.5,289.5,289.6,289.7,289.6,289.5,289.5,289.3,289.1,288.9,288.7,288.5,288.3,288.0,287.7,287.6,287.5,287.5,287.4,287.3,286.9,286.5,286.2,285.7,285.3,284.8,284.4,283.9,283.5,283.0,282.5,282.4,282.2,282.0,282.0,282.0,282.0,281.8,281.6,281.5,281.2,280.9,280.5,280.2,279.8,279.5,279.1,278.7,278.5,278.2,277.9,277.7,277.5,277.5,277.4,277.3,277.0,276.7,276.5,276.3,276.1,275.9,275.7,275.5,275.4,275.2,275.0,275.0,275.0,275.0,275.0,275.2,275.4,275.5,275.7,275.9,276.1,276.3,276.5,276.6,276.8,277.2,277.4,277.5,277.7,277.9,278.1,278.3,278.5,278.6,279.0,279.4,279.5,279.7,279.9,280.1,280.3,280.5,280.6,280.8,281.1,281.4,281.6,281.9,282.2,282.5,282.7,283.0,283.3,283.7,284.5,285.1,285.5,286.0,286.5,286.9,287.4,287.8,288.7,289.6,290.4,290.8,291.6,292.5,293.3,294.1,294.9,295.9,296.9,297.5,298.0,298.5,299.1,299.5,299.8,300.4,300.9,301.5,301.8,302.2,302.5,302.9,303.3,303.6,303.8,304.0,304.0,304.0,304.3,304.5,304.8,305.1,305.4,305.6,305.9,306.2,306.5,306.7,307.0,307.0,307.4,307.7,308.1,308.5,309.0,309.5,309.9,310.4,310.8,311.3,311.7,311.8,311.9,312.0,312.0,312.0,312.3,312.5,312.8,313.1,313.4,313.8,314.3,314.7,315.2,315.6,316.1,316.3,316.6,317.0,317.4,318.2,318.8,319.5,320.1,320.9,321.7,322.5,323.4,324.0,324.6,325.3,325.6,326.0,326.7,327.5,328.0,328.5,329.1,329.6,330.5,331.3,332.1,332.7,333.4,333.6,333.6,333.6,333.6,333.6,333.6,333.4,332.9,332.5,332.0,331.5,331.1,330.9,330.5,330.2,329.8,329.5,329.1,328.9,328.7,328.5,328.4,328.2,328.0,328.0,328.0,328.0,328.0,328.0,328.1,328.2,328.3,328.4,328.5,328.5,328.6,328.7,328.8,328.9,329.0,328.9,328.8,328.7,328.6,328.5,328.5,328.4,328.3,328.2,328.1,328.0,328.0,328.0,328.0,328.0,328.0,328.0,328.0,328.0,328.0,327.7,327.5,327.2,326.9,326.6,326.4,325.9,325.5,325.0,324.5,324.1,323.9,323.2,322.5,321.7,321.0,321.2,321.5,321.4,321.2,321.0,320.8,320.6,321.0,320.6,320.3,319.9,318.6,317.4,316.0,314.6,313.3,311.9,310.5,309.2,308.5,307.7,307.0,306.3,305.5,305.4,305.2,305.0,304.8,304.6,304.5,304.5,304.5,304.5,304.5,304.5,304.6,304.8,305.0,305.2,305.4,305.5,305.8,306.1,306.4,306.6,306.9,307.2,307.5,307.7,308.0,308.3,308.5,308.9,309.3,309.6,310.0,310.4,310.8,311.3,311.7,312.2,312.6,313.1,313.5,313.8,314.2,314.0,314.4,314.7,315.1,315.5,315.8,316.2,316.5,316.7,316.9,317.1,317.8,318.0,318.0,318.0,318.0,318.0,318.0,318.0,318.0,318.2,318.4,318.5,318.7,318.9,319.1,319.5,319.8,320.2,320.5,320.9,321.4,321.8,322.3,322.7,323.2,323.6,324.2,324.7,325.3,325.8,326.2,326.3,326.5,326.7,327.0]}},\"id\":\"b5f509a5-b512-403b-bbe2-9cdd0eaf470a\",\"type\":\"ColumnDataSource\"},{\"attributes\":{\"axis_label\":\"Time\",\"formatter\":{\"id\":\"d156debb-5d19-460b-96ca-c5e3b3140544\",\"type\":\"DatetimeTickFormatter\"},\"plot\":{\"id\":\"ab49042c-357b-45f1-8a81-eb6e2215926f\",\"subtype\":\"Figure\",\"type\":\"Plot\"},\"ticker\":{\"id\":\"f8ee1b79-6e13-4bc8-a22c-c22d730eebf5\",\"type\":\"DatetimeTicker\"}},\"id\":\"cc40b6d9-fe75-4672-8af7-a07fb2d09bb2\",\"type\":\"DatetimeAxis\"},{\"attributes\":{\"plot\":{\"id\":\"ab49042c-357b-45f1-8a81-eb6e2215926f\",\"subtype\":\"Figure\",\"type\":\"Plot\"}},\"id\":\"3bce4a5e-7e71-44a1-9f74-44981243bb16\",\"type\":\"HelpTool\"},{\"attributes\":{\"plot\":{\"id\":\"6225845a-f1bc-4559-beb0-cdf89ed0571e\",\"subtype\":\"Figure\",\"type\":\"Plot\"}},\"id\":\"8f175e25-f84e-47b8-87a3-58541fa217fd\",\"type\":\"WheelZoomTool\"},{\"attributes\":{\"bottom_units\":\"screen\",\"fill_alpha\":{\"value\":0.5},\"fill_color\":{\"value\":\"lightgrey\"},\"left_units\":\"screen\",\"level\":\"overlay\",\"line_alpha\":{\"value\":1.0},\"line_color\":{\"value\":\"black\"},\"line_dash\":[4,4],\"line_width\":{\"value\":2},\"plot\":null,\"render_mode\":\"css\",\"right_units\":\"screen\",\"top_units\":\"screen\"},\"id\":\"6d13d4c3-bf0b-4f79-85ea-f5d321e49382\",\"type\":\"BoxAnnotation\"},{\"attributes\":{\"line_color\":{\"value\":\"#1f77b4\"},\"x\":{\"field\":\"x\"},\"y\":{\"field\":\"y\"}},\"id\":\"5063ea29-ae80-4839-83d5-3e16ab07e751\",\"type\":\"Line\"},{\"attributes\":{\"line_alpha\":{\"value\":0.1},\"line_color\":{\"value\":\"#1f77b4\"},\"x\":{\"field\":\"x\"},\"y\":{\"field\":\"y\"}},\"id\":\"fb566f5c-8089-43bb-9bb0-ccadf7d8f512\",\"type\":\"Line\"},{\"attributes\":{\"plot\":{\"id\":\"ab49042c-357b-45f1-8a81-eb6e2215926f\",\"subtype\":\"Figure\",\"type\":\"Plot\"}},\"id\":\"e232a08d-25b9-4d66-988f-9a584eeccfdb\",\"type\":\"PanTool\"},{\"attributes\":{\"plot\":{\"id\":\"ab49042c-357b-45f1-8a81-eb6e2215926f\",\"subtype\":\"Figure\",\"type\":\"Plot\"}},\"id\":\"78699850-8c30-442e-b393-7df14e513f15\",\"type\":\"PreviewSaveTool\"},{\"attributes\":{\"callback\":null},\"id\":\"feb67248-e729-4828-a42c-5864bd961382\",\"type\":\"DataRange1d\"},{\"attributes\":{\"fill_color\":{\"value\":\"#1f77b4\"},\"line_color\":{\"value\":\"#1f77b4\"},\"x\":{\"field\":\"x\"},\"y\":{\"field\":\"y\"}},\"id\":\"bc087d99-635b-4c6d-8277-23a3d0a2463e\",\"type\":\"Circle\"},{\"attributes\":{\"plot\":{\"id\":\"ab49042c-357b-45f1-8a81-eb6e2215926f\",\"subtype\":\"Figure\",\"type\":\"Plot\"}},\"id\":\"45f832e4-6c82-40be-bf98-d2fb5c0feb87\",\"type\":\"WheelZoomTool\"},{\"attributes\":{\"days\":[1,15]},\"id\":\"7bb0a8df-3013-4a4d-b29d-e504ff2ca480\",\"type\":\"DaysTicker\"},{\"attributes\":{\"plot\":{\"id\":\"6225845a-f1bc-4559-beb0-cdf89ed0571e\",\"subtype\":\"Figure\",\"type\":\"Plot\"}},\"id\":\"6e964c47-9e47-4878-906f-9a343413bfe3\",\"type\":\"HelpTool\"},{\"attributes\":{\"base\":24,\"mantissas\":[1,2,4,6,8,12],\"max_interval\":43200000.0,\"min_interval\":3600000.0,\"num_minor_ticks\":0},\"id\":\"954af61d-c698-485a-881a-295e10162a7a\",\"type\":\"AdaptiveTicker\"},{\"attributes\":{\"days\":[1,15]},\"id\":\"693ff480-4456-4b92-82c5-fa4e0a6254f1\",\"type\":\"DaysTicker\"},{\"attributes\":{\"plot\":{\"id\":\"ab49042c-357b-45f1-8a81-eb6e2215926f\",\"subtype\":\"Figure\",\"type\":\"Plot\"}},\"id\":\"3d4a42ce-c514-4ec9-8ecd-faafa3008f60\",\"type\":\"ResizeTool\"},{\"attributes\":{\"months\":[0,1,2,3,4,5,6,7,8,9,10,11]},\"id\":\"a914384d-f787-4dc1-9eb5-1a7d5e871d14\",\"type\":\"MonthsTicker\"},{\"attributes\":{},\"id\":\"e8321c8a-3b22-4f0d-82ab-775c40714aa4\",\"type\":\"DatetimeTickFormatter\"},{\"attributes\":{},\"id\":\"76ee7995-d0a0-4b0b-a8e0-1975e9bbfb68\",\"type\":\"BasicTickFormatter\"},{\"attributes\":{\"months\":[0,2,4,6,8,10]},\"id\":\"c170195e-b120-464d-9ef3-bb4c4b09f8b9\",\"type\":\"MonthsTicker\"},{\"attributes\":{},\"id\":\"d156debb-5d19-460b-96ca-c5e3b3140544\",\"type\":\"DatetimeTickFormatter\"},{\"attributes\":{\"callback\":null,\"column_names\":[\"y\",\"x\"],\"data\":{\"x\":[1465328243000.0,1428148529000.0,1463844198000.0,1415554211000.0,1414697951000.0,1434131854000.0,1425920018000.0,1439056606000.0,1438106993000.0,1410246399000.0,1457113081000.0,1410099387000.0,1436643161000.0,1462128356000.0,1466880893000.0,1443172413000.0,1424372257000.0,1464635172000.0,1438457322000.0,1420981616000.0,1412445070000.0,1431286224000.0,1465587240000.0,1444075724000.0,1428233258000.0,1425674543000.0,1426191183000.0,1426607916000.0,1459889614000.0,1422467747000.0,1465060160000.0,1418056433000.0,1466349240000.0,1420741859000.0,1440791953000.0,1421776526000.0,1411542030000.0,1446030451000.0,1411929948000.0,1411201027000.0,1436301721000.0,1430762639000.0,1410547403000.0,1422038969000.0],\"y\":[5869.758041685876,2050.294537996982,5673.724969564729,5493.705520609242,5936.597828117186,4466.736025644979,8747.538975053558,7583.492622425234,4482.126354346572,1256.0139437106257,38.50415036853844,1465.8603370305834,5980.435447792143,5678.105548248082,5641.157399618419,1848.3031448360637,2102.6866123651434,4686.257052728707,9468.497064399835,4437.458852924772,5637.941600178236,5976.531944856669,10040.460857166941,9377.080509775602,4927.336038861122,12543.342213664968,9053.550749702497,9066.96676016255,9355.976346881262,6733.926622101581,5690.823548807764,3787.3912574156557,8943.501144715288,10096.597395845707,12190.74237889001,8190.534493570851,5721.8997620119135,7650.115555373454,14.964854228276854,2732.913143192231,4069.3537789534007,4580.658855378932,7770.535908053509,13061.254042482593]}},\"id\":\"cd32cdad-1b09-4cae-a7fe-9d3b8bc8236e\",\"type\":\"ColumnDataSource\"},{\"attributes\":{\"callback\":null,\"column_names\":[\"y\",\"x\"],\"data\":{\"x\":[5.869758041685876,2.050294537996982,5.673724969564729,5.493705520609242,5.936597828117185,4.4667360256449795,8.747538975053558,7.583492622425234,4.482126354346572,1.2560139437106257,0.03850415036853844,1.4658603370305834,5.980435447792144,5.678105548248082,5.641157399618419,1.8483031448360636,2.1026866123651433,4.686257052728707,9.468497064399834,4.437458852924772,5.637941600178236,5.976531944856669,10.040460857166941,9.377080509775602,4.927336038861122,12.543342213664967,9.053550749702497,9.06696676016255,9.355976346881262,6.733926622101581,5.6908235488077645,3.787391257415656,8.943501144715288,10.096597395845707,12.190742378890011,8.190534493570851,5.721899762011914,7.650115555373454,0.014964854228276854,2.732913143192231,4.069353778953401,4.580658855378932,7.7705359080535095,13.061254042482593],\"y\":[0.7794444444444445,0.30916666666666665,0.8727777777777778,0.9305555555555556,1.0708333333333333,0.6458333333333334,1.3022222222222222,1.08,0.6722222222222223,0.15722222222222224,0.0002777777777777778,0.21916666666666668,0.7944444444444444,0.6816666666666666,0.8466666666666667,0.40194444444444444,0.25722222222222224,0.6361111111111111,1.2361111111111112,0.8525,0.95,1.0794444444444444,1.3977777777777778,1.268888888888889,0.7863888888888889,2.0052777777777777,1.2952777777777778,1.2669444444444444,1.378611111111111,1.123888888888889,1.361388888888889,0.6108333333333333,1.7091666666666667,1.9522222222222223,1.7591666666666668,1.4927777777777778,1.0241666666666667,1.2275,0.008888888888888889,0.37916666666666665,0.4825,0.6188888888888889,1.1588888888888889,2.089166666666667]}},\"id\":\"1fe42459-8c14-4bc6-8c59-c759b6fc7828\",\"type\":\"ColumnDataSource\"},{\"attributes\":{\"plot\":{\"id\":\"ab49042c-357b-45f1-8a81-eb6e2215926f\",\"subtype\":\"Figure\",\"type\":\"Plot\"},\"ticker\":{\"id\":\"f8ee1b79-6e13-4bc8-a22c-c22d730eebf5\",\"type\":\"DatetimeTicker\"}},\"id\":\"435610a4-135d-454b-8514-791e3dc25d8d\",\"type\":\"Grid\"},{\"attributes\":{\"data_source\":{\"id\":\"b5f509a5-b512-403b-bbe2-9cdd0eaf470a\",\"type\":\"ColumnDataSource\"},\"glyph\":{\"id\":\"cecdd8c5-3f5d-4dc1-8668-06cfb68f148e\",\"type\":\"Line\"},\"hover_glyph\":null,\"nonselection_glyph\":{\"id\":\"e04ae346-b4d7-4b78-ad35-5695f0064605\",\"type\":\"Line\"},\"selection_glyph\":null},\"id\":\"fb3664ee-8c91-4d3e-ba43-f4604568da31\",\"type\":\"GlyphRenderer\"},{\"attributes\":{},\"id\":\"e63c7996-e7c2-4246-92db-88e97bb4adb0\",\"type\":\"BasicTickFormatter\"},{\"attributes\":{\"dimension\":1,\"plot\":{\"id\":\"ab49042c-357b-45f1-8a81-eb6e2215926f\",\"subtype\":\"Figure\",\"type\":\"Plot\"},\"ticker\":{\"id\":\"7bc59c59-cfad-460c-8e2a-0edfda534c81\",\"type\":\"BasicTicker\"}},\"id\":\"325749a2-1ea5-4568-8af7-d9991cd34787\",\"type\":\"Grid\"},{\"attributes\":{\"months\":[0,4,8]},\"id\":\"b4bbb510-1ede-45b7-acac-8a33fb20f520\",\"type\":\"MonthsTicker\"},{\"attributes\":{\"axis_label\":\"Time in hours\",\"formatter\":{\"id\":\"e63c7996-e7c2-4246-92db-88e97bb4adb0\",\"type\":\"BasicTickFormatter\"},\"plot\":{\"id\":\"0d972f9f-1f93-4ff4-9e05-fb628a072bd7\",\"subtype\":\"Figure\",\"type\":\"Plot\"},\"ticker\":{\"id\":\"e563fb8c-657e-4e19-b888-cac1e1390d7a\",\"type\":\"BasicTicker\"}},\"id\":\"1f1053bb-029f-46db-aadf-28765b959c88\",\"type\":\"LinearAxis\"},{\"attributes\":{\"data_source\":{\"id\":\"cd32cdad-1b09-4cae-a7fe-9d3b8bc8236e\",\"type\":\"ColumnDataSource\"},\"glyph\":{\"id\":\"bc087d99-635b-4c6d-8277-23a3d0a2463e\",\"type\":\"Circle\"},\"hover_glyph\":null,\"nonselection_glyph\":{\"id\":\"e04db3e7-726f-4427-91a3-690c7db8575d\",\"type\":\"Circle\"},\"selection_glyph\":null},\"id\":\"0a4f4d6a-bfd1-4228-b176-d6dbc1307815\",\"type\":\"GlyphRenderer\"},{\"attributes\":{\"axis_label\":\"Distance (m)\",\"formatter\":{\"id\":\"f5c4ccd1-2de4-41be-b3b0-919d34c69f51\",\"type\":\"BasicTickFormatter\"},\"plot\":{\"id\":\"ab49042c-357b-45f1-8a81-eb6e2215926f\",\"subtype\":\"Figure\",\"type\":\"Plot\"},\"ticker\":{\"id\":\"7bc59c59-cfad-460c-8e2a-0edfda534c81\",\"type\":\"BasicTicker\"}},\"id\":\"fc47a57b-09af-4c0c-928b-b41acba89767\",\"type\":\"LinearAxis\"},{\"attributes\":{\"overlay\":{\"id\":\"6d13d4c3-bf0b-4f79-85ea-f5d321e49382\",\"type\":\"BoxAnnotation\"},\"plot\":{\"id\":\"ab49042c-357b-45f1-8a81-eb6e2215926f\",\"subtype\":\"Figure\",\"type\":\"Plot\"}},\"id\":\"11944090-d491-474e-b378-5fa5d783b92f\",\"type\":\"BoxZoomTool\"},{\"attributes\":{\"months\":[0,1,2,3,4,5,6,7,8,9,10,11]},\"id\":\"6fa8e12a-5842-496f-bba3-ff44dceac3ac\",\"type\":\"MonthsTicker\"},{\"attributes\":{\"base\":60,\"mantissas\":[1,2,5,10,15,20,30],\"max_interval\":1800000.0,\"min_interval\":1000.0,\"num_minor_ticks\":0},\"id\":\"5d9555f4-ded4-4f9d-ae77-c0d222c8ddc4\",\"type\":\"AdaptiveTicker\"},{\"attributes\":{\"background_fill_color\":{\"value\":\"#E8DDCB\"},\"below\":[{\"id\":\"37dab73d-675e-4bf7-8bce-c4000d2ad9f7\",\"type\":\"DatetimeAxis\"}],\"left\":[{\"id\":\"c27aed5c-c96f-4da1-9397-a54f876cb9da\",\"type\":\"LinearAxis\"}],\"renderers\":[{\"id\":\"37dab73d-675e-4bf7-8bce-c4000d2ad9f7\",\"type\":\"DatetimeAxis\"},{\"id\":\"9dbbde48-7924-4b98-86e1-dffdfbe6c986\",\"type\":\"Grid\"},{\"id\":\"c27aed5c-c96f-4da1-9397-a54f876cb9da\",\"type\":\"LinearAxis\"},{\"id\":\"f7fa8a5b-0612-4e0a-97b8-5b8c33b0a07a\",\"type\":\"Grid\"},{\"id\":\"90b0f95f-82a6-44db-9ba5-3c0d8629e24c\",\"type\":\"BoxAnnotation\"},{\"id\":\"fb3664ee-8c91-4d3e-ba43-f4604568da31\",\"type\":\"GlyphRenderer\"}],\"title\":\"Elevation from last night run\",\"tool_events\":{\"id\":\"ec369ef2-240a-4ce7-b1f2-4c07527507a6\",\"type\":\"ToolEvents\"},\"tools\":[{\"id\":\"b62608e3-2934-4807-ab42-87be27d43798\",\"type\":\"PanTool\"},{\"id\":\"8f175e25-f84e-47b8-87a3-58541fa217fd\",\"type\":\"WheelZoomTool\"},{\"id\":\"4a52d0e1-084e-47b2-9ef2-8983accec614\",\"type\":\"BoxZoomTool\"},{\"id\":\"9af57328-9f4c-4023-ae16-33d2bc4b3f0e\",\"type\":\"PreviewSaveTool\"},{\"id\":\"cc22aff9-fe53-4752-a734-79230bad68f3\",\"type\":\"ResizeTool\"},{\"id\":\"2d0924b6-f7db-4535-b7c0-6d53dc668fe9\",\"type\":\"ResetTool\"},{\"id\":\"6e964c47-9e47-4878-906f-9a343413bfe3\",\"type\":\"HelpTool\"}],\"x_range\":{\"id\":\"b8f0771a-492d-42ca-ad53-210d5f4fac90\",\"type\":\"DataRange1d\"},\"y_range\":{\"id\":\"020a6df3-fdb1-422e-8579-9b6727e0401a\",\"type\":\"DataRange1d\"}},\"id\":\"6225845a-f1bc-4559-beb0-cdf89ed0571e\",\"subtype\":\"Figure\",\"type\":\"Plot\"},{\"attributes\":{\"plot\":{\"id\":\"0d972f9f-1f93-4ff4-9e05-fb628a072bd7\",\"subtype\":\"Figure\",\"type\":\"Plot\"}},\"id\":\"7a9446a7-09c3-4805-98c1-3806e59c9f14\",\"type\":\"PreviewSaveTool\"},{\"attributes\":{\"plot\":{\"id\":\"0d972f9f-1f93-4ff4-9e05-fb628a072bd7\",\"subtype\":\"Figure\",\"type\":\"Plot\"},\"ticker\":{\"id\":\"463e844e-88c3-40e0-85be-2f8eccb5039c\",\"type\":\"BasicTicker\"}},\"id\":\"a8f15e73-4fa9-4139-946b-d24ccfe73186\",\"type\":\"Grid\"},{\"attributes\":{\"background_fill_color\":{\"value\":\"#E8DDCB\"},\"below\":[{\"id\":\"74b1e35d-d172-46db-82ba-c6519b19ca7f\",\"type\":\"LinearAxis\"}],\"left\":[{\"id\":\"1f1053bb-029f-46db-aadf-28765b959c88\",\"type\":\"LinearAxis\"}],\"renderers\":[{\"id\":\"74b1e35d-d172-46db-82ba-c6519b19ca7f\",\"type\":\"LinearAxis\"},{\"id\":\"a8f15e73-4fa9-4139-946b-d24ccfe73186\",\"type\":\"Grid\"},{\"id\":\"1f1053bb-029f-46db-aadf-28765b959c88\",\"type\":\"LinearAxis\"},{\"id\":\"1b633a72-0b5e-4a8e-8725-2f9e3a1c4374\",\"type\":\"Grid\"},{\"id\":\"9dcfb745-e383-45a8-9ff5-12ed74cabb49\",\"type\":\"BoxAnnotation\"},{\"id\":\"d2db26c2-4fe0-4394-b2d7-e3f82fcfcf7b\",\"type\":\"GlyphRenderer\"},{\"id\":\"725259e0-d290-426e-8046-0ce94ff76277\",\"type\":\"GlyphRenderer\"}],\"title\":\"Speeds \",\"tool_events\":{\"id\":\"45430635-55a8-489e-bf65-9434de533c22\",\"type\":\"ToolEvents\"},\"tools\":[{\"id\":\"0243b8af-a4af-42b3-88f1-bd3475ebe520\",\"type\":\"PanTool\"},{\"id\":\"7a2f8476-553c-4013-87e6-ab7224da462e\",\"type\":\"WheelZoomTool\"},{\"id\":\"008ca9c4-f275-47b1-b3b8-da0b04a5831c\",\"type\":\"BoxZoomTool\"},{\"id\":\"7a9446a7-09c3-4805-98c1-3806e59c9f14\",\"type\":\"PreviewSaveTool\"},{\"id\":\"d42eb8d3-14fd-4fa0-99da-f67b95363d5e\",\"type\":\"ResizeTool\"},{\"id\":\"9bf6c2d9-1fbe-4de7-86f6-69ac10a643f6\",\"type\":\"ResetTool\"},{\"id\":\"bf36c34a-0ab6-4f4f-91c3-8b59e612a462\",\"type\":\"HelpTool\"}],\"x_range\":{\"id\":\"feb67248-e729-4828-a42c-5864bd961382\",\"type\":\"DataRange1d\"},\"y_range\":{\"id\":\"47b84ad1-5904-4a02-af37-d42817dbf260\",\"type\":\"DataRange1d\"}},\"id\":\"0d972f9f-1f93-4ff4-9e05-fb628a072bd7\",\"subtype\":\"Figure\",\"type\":\"Plot\"},{\"attributes\":{\"line_alpha\":{\"value\":0.1},\"line_color\":{\"value\":\"#1f77b4\"},\"x\":{\"field\":\"x\"},\"y\":{\"field\":\"y\"}},\"id\":\"e04ae346-b4d7-4b78-ad35-5695f0064605\",\"type\":\"Line\"},{\"attributes\":{\"plot\":{\"id\":\"0d972f9f-1f93-4ff4-9e05-fb628a072bd7\",\"subtype\":\"Figure\",\"type\":\"Plot\"}},\"id\":\"7a2f8476-553c-4013-87e6-ab7224da462e\",\"type\":\"WheelZoomTool\"},{\"attributes\":{},\"id\":\"a699cab2-cb60-43ed-a565-8e55dde4f233\",\"type\":\"BasicTickFormatter\"},{\"attributes\":{\"plot\":{\"id\":\"6225845a-f1bc-4559-beb0-cdf89ed0571e\",\"subtype\":\"Figure\",\"type\":\"Plot\"}},\"id\":\"9af57328-9f4c-4023-ae16-33d2bc4b3f0e\",\"type\":\"PreviewSaveTool\"},{\"attributes\":{\"base\":24,\"mantissas\":[1,2,4,6,8,12],\"max_interval\":43200000.0,\"min_interval\":3600000.0,\"num_minor_ticks\":0},\"id\":\"7629adcd-13eb-44d8-a535-ab8906853305\",\"type\":\"AdaptiveTicker\"},{\"attributes\":{},\"id\":\"2d41e680-a443-4289-904a-9714dd8d96a9\",\"type\":\"ToolEvents\"},{\"attributes\":{\"num_minor_ticks\":5},\"id\":\"a5ad11a5-89eb-4da2-9172-3967bcfba94a\",\"type\":\"DatetimeTicker\"},{\"attributes\":{},\"id\":\"45430635-55a8-489e-bf65-9434de533c22\",\"type\":\"ToolEvents\"},{\"attributes\":{\"callback\":null},\"id\":\"0417373f-cddc-4eb2-bfa2-0c08bde09426\",\"type\":\"DataRange1d\"},{\"attributes\":{\"months\":[0,6]},\"id\":\"8d9f102e-c726-440f-8acf-0b0e542e3589\",\"type\":\"MonthsTicker\"},{\"attributes\":{\"callback\":null},\"id\":\"47b84ad1-5904-4a02-af37-d42817dbf260\",\"type\":\"DataRange1d\"},{\"attributes\":{\"num_minor_ticks\":5},\"id\":\"f8ee1b79-6e13-4bc8-a22c-c22d730eebf5\",\"type\":\"DatetimeTicker\"},{\"attributes\":{\"overlay\":{\"id\":\"90b0f95f-82a6-44db-9ba5-3c0d8629e24c\",\"type\":\"BoxAnnotation\"},\"plot\":{\"id\":\"6225845a-f1bc-4559-beb0-cdf89ed0571e\",\"subtype\":\"Figure\",\"type\":\"Plot\"}},\"id\":\"4a52d0e1-084e-47b2-9ef2-8983accec614\",\"type\":\"BoxZoomTool\"},{\"attributes\":{},\"id\":\"75095dda-6755-41c4-acdd-d4bf0f20e451\",\"type\":\"YearsTicker\"},{\"attributes\":{\"bottom_units\":\"screen\",\"fill_alpha\":{\"value\":0.5},\"fill_color\":{\"value\":\"lightgrey\"},\"left_units\":\"screen\",\"level\":\"overlay\",\"line_alpha\":{\"value\":1.0},\"line_color\":{\"value\":\"black\"},\"line_dash\":[4,4],\"line_width\":{\"value\":2},\"plot\":null,\"render_mode\":\"css\",\"right_units\":\"screen\",\"top_units\":\"screen\"},\"id\":\"90b0f95f-82a6-44db-9ba5-3c0d8629e24c\",\"type\":\"BoxAnnotation\"},{\"attributes\":{},\"id\":\"7bc59c59-cfad-460c-8e2a-0edfda534c81\",\"type\":\"BasicTicker\"},{\"attributes\":{\"plot\":{\"id\":\"6225845a-f1bc-4559-beb0-cdf89ed0571e\",\"subtype\":\"Figure\",\"type\":\"Plot\"}},\"id\":\"cc22aff9-fe53-4752-a734-79230bad68f3\",\"type\":\"ResizeTool\"},{\"attributes\":{\"plot\":{\"id\":\"6225845a-f1bc-4559-beb0-cdf89ed0571e\",\"subtype\":\"Figure\",\"type\":\"Plot\"}},\"id\":\"2d0924b6-f7db-4535-b7c0-6d53dc668fe9\",\"type\":\"ResetTool\"},{\"attributes\":{\"base\":60,\"mantissas\":[1,2,5,10,15,20,30],\"max_interval\":1800000.0,\"min_interval\":1000.0,\"num_minor_ticks\":0},\"id\":\"2fd423dd-2e87-49be-95dc-c081f0e39221\",\"type\":\"AdaptiveTicker\"},{\"attributes\":{\"axis_label\":\"Time\",\"formatter\":{\"id\":\"e8321c8a-3b22-4f0d-82ab-775c40714aa4\",\"type\":\"DatetimeTickFormatter\"},\"plot\":{\"id\":\"6225845a-f1bc-4559-beb0-cdf89ed0571e\",\"subtype\":\"Figure\",\"type\":\"Plot\"},\"ticker\":{\"id\":\"a5ad11a5-89eb-4da2-9172-3967bcfba94a\",\"type\":\"DatetimeTicker\"}},\"id\":\"37dab73d-675e-4bf7-8bce-c4000d2ad9f7\",\"type\":\"DatetimeAxis\"},{\"attributes\":{\"days\":[1,8,15,22]},\"id\":\"d5421aaf-747e-4e7a-bb67-8d8be47221e8\",\"type\":\"DaysTicker\"},{\"attributes\":{\"plot\":{\"id\":\"0d972f9f-1f93-4ff4-9e05-fb628a072bd7\",\"subtype\":\"Figure\",\"type\":\"Plot\"}},\"id\":\"9bf6c2d9-1fbe-4de7-86f6-69ac10a643f6\",\"type\":\"ResetTool\"},{\"attributes\":{\"days\":[1,2,3,4,5,6,7,8,9,10,11,12,13,14,15,16,17,18,19,20,21,22,23,24,25,26,27,28,29,30,31]},\"id\":\"45fde2db-c390-4121-bdfa-b7bf50397b5d\",\"type\":\"DaysTicker\"},{\"attributes\":{\"data_source\":{\"id\":\"155ecf4f-1579-4775-b0ff-78153bbb79ca\",\"type\":\"ColumnDataSource\"},\"glyph\":{\"id\":\"5063ea29-ae80-4839-83d5-3e16ab07e751\",\"type\":\"Line\"},\"hover_glyph\":null,\"nonselection_glyph\":{\"id\":\"fb566f5c-8089-43bb-9bb0-ccadf7d8f512\",\"type\":\"Line\"},\"selection_glyph\":null},\"id\":\"725259e0-d290-426e-8046-0ce94ff76277\",\"type\":\"GlyphRenderer\"}],\"root_ids\":[\"6225845a-f1bc-4559-beb0-cdf89ed0571e\",\"ab49042c-357b-45f1-8a81-eb6e2215926f\",\"0d972f9f-1f93-4ff4-9e05-fb628a072bd7\"]},\"title\":\"Bokeh Application\",\"version\":\"0.11.1\"}};\n",
       "            var render_items = [{\"docid\":\"469e348c-cff1-481b-ba9f-fa2107b6170a\",\"elementid\":\"908cd4b5-a17d-411e-bf95-d7f8ba87c70b\",\"modelid\":\"0d972f9f-1f93-4ff4-9e05-fb628a072bd7\",\"notebook_comms_target\":\"87d670e2-a671-4290-af0b-89997d6051e5\"}];\n",
       "            \n",
       "            Bokeh.embed.embed_items(docs_json, render_items);\n",
       "        });\n",
       "      },\n",
       "      function(Bokeh) {\n",
       "      }\n",
       "    ];\n",
       "  \n",
       "    function run_inline_js() {\n",
       "      for (var i = 0; i < inline_js.length; i++) {\n",
       "        inline_js[i](window.Bokeh);\n",
       "      }\n",
       "    }\n",
       "  \n",
       "    if (window._bokeh_is_loading === 0) {\n",
       "      console.log(\"Bokeh: BokehJS loaded, going straight to plotting\");\n",
       "      run_inline_js();\n",
       "    } else {\n",
       "      load_libs(js_urls, function() {\n",
       "        console.log(\"Bokeh: BokehJS plotting callback run at\", now());\n",
       "        run_inline_js();\n",
       "      });\n",
       "    }\n",
       "  }(this));\n",
       "</script>"
      ]
     },
     "metadata": {},
     "output_type": "display_data"
    },
    {
     "data": {
      "text/html": [
       "<p><code>&lt;Bokeh Notebook handle for <strong>In[21]</strong>&gt;</code></p>"
      ],
      "text/plain": [
       "<bokeh.io._CommsHandle at 0x7ff0f2666588>"
      ]
     },
     "execution_count": 21,
     "metadata": {},
     "output_type": "execute_result"
    }
   ],
   "source": [
    "import numpy as np\n",
    "\n",
    "polyfit = np.polyfit(distances, times, 1)\n",
    "\n",
    "regression = np.poly1d(polyfit)\n",
    "\n",
    "p.line(distances, regression(distances))\n",
    "show(p)"
   ]
  }
 ],
 "metadata": {
  "kernelspec": {
   "display_name": "Python 3",
   "language": "python",
   "name": "python3"
  },
  "language_info": {
   "codemirror_mode": {
    "name": "ipython",
    "version": 3
   },
   "file_extension": ".py",
   "mimetype": "text/x-python",
   "name": "python",
   "nbconvert_exporter": "python",
   "pygments_lexer": "ipython3",
   "version": "3.5.1+"
  }
 },
 "nbformat": 4,
 "nbformat_minor": 0
}
