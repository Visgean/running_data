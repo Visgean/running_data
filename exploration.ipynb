{
 "cells": [
  {
   "cell_type": "markdown",
   "metadata": {},
   "source": [
    "Running data exploration\n",
    "========================\n",
    "\n",
    "In this notebook I explore my running data exported from Runkeeper app. The data is itself very primitive - just a XML full of GPS checkpoints. This means I will have to try to calculate distances myself.  \n",
    "\n",
    "Prerequisites:\n",
    " - python3\n",
    " - ``data`` folder contains all the files exported from runkeeper.\n",
    " - python packages: ``pip3 install python-dateutil geopy bokeh pyowm --user``"
   ]
  },
  {
   "cell_type": "code",
   "execution_count": 1,
   "metadata": {
    "collapsed": false
   },
   "outputs": [
    {
     "name": "stdout",
     "output_type": "stream",
     "text": [
      "2014-09-07-1616.gpx  2015-03-06-2142.gpx  2015-10-05-2208.gpx\r\n",
      "2014-09-09-0906.gpx  2015-03-09-1753.gpx  2015-10-28-1207.gpx\r\n",
      "2014-09-12-2043.gpx  2015-03-12-2113.gpx  2016-03-04-1838.gpx\r\n",
      "2014-09-20-1017.gpx  2015-03-17-1658.gpx  2016-04-05-2253.gpx\r\n",
      "2014-09-24-0900.gpx  2015-04-04-1355.gpx  2016-05-01-2045.gpx\r\n",
      "2014-09-28-2045.gpx  2015-04-05-1327.gpx  2016-05-21-1723.gpx\r\n",
      "2014-10-04-1951.gpx  2015-05-04-2003.gpx  2016-05-30-2106.gpx\r\n",
      "2014-10-30-2039.gpx  2015-05-10-2130.gpx  2016-06-04-1909.gpx\r\n",
      "2014-11-09-1830.gpx  2015-06-12-1957.gpx  2016-06-07-2137.gpx\r\n",
      "2014-12-08-1733.gpx  2015-07-07-2242.gpx  2016-06-10-2134.gpx\r\n",
      "2015-01-08-1930.gpx  2015-07-11-2132.gpx  2016-06-19-1714.gpx\r\n",
      "2015-01-11-1406.gpx  2015-07-28-2009.gpx  2016-06-25-2054.gpx\r\n",
      "2015-01-20-1855.gpx  2015-08-01-2128.gpx  cardioActivities.csv\r\n",
      "2015-01-23-1949.gpx  2015-08-08-1956.gpx  measurements.csv\r\n",
      "2015-01-28-1855.gpx  2015-08-28-2159.gpx\r\n",
      "2015-02-19-1957.gpx  2015-09-25-1113.gpx\r\n"
     ]
    }
   ],
   "source": [
    "ls data/"
   ]
  },
  {
   "cell_type": "markdown",
   "metadata": {},
   "source": [
    "No idea why Runkeeper calls these files .gpx, it might be some kind of standard. But meh. Lets see what is inside one of these:\n",
    "\n",
    "\n",
    "```xml\n",
    "<?xml version=\"1.0\" encoding=\"UTF-8\"?>\n",
    "<gpx\n",
    "    version=\"1.1\"\n",
    "    creator=\"Runkeeper - http://www.runkeeper.com\"\n",
    "    xmlns:xsi=\"http://www.w3.org/2001/XMLSchema-instance\"\n",
    "    xmlns=\"http://www.topografix.com/GPX/1/1\"\n",
    "    xsi:schemaLocation=\"http://www.topografix.com/GPX/1/1 http://www.topografix.com/GPX/1/1/gpx.xsd\"\n",
    "    xmlns:gpxtpx=\"http://www.garmin.com/xmlschemas/TrackPointExtension/v1\">\n",
    "    <trk>\n",
    "        <name><![CDATA[Running 6/25/16 8:54 pm]]></name>\n",
    "        <time>2016-06-25T18:54:53Z</time>\n",
    "        <trkseg>\n",
    "            <trkpt lat=\"50.599000\" lon=\"14.205000\">\n",
    "               <ele>327.0</ele>\n",
    "               <time>2016-06-25T18:54:53Z</time>\n",
    "            </trkpt>\n",
    "            <trkpt lat=\"50.599000\" lon=\"14.205000\">\n",
    "               <ele>326.7</ele>\n",
    "               <time>2016-06-25T18:54:55Z</time>\n",
    "            </trkpt>\n",
    "        </trkseg>\n",
    "    </trk>\n",
    "</gpx>\n",
    "```\n",
    "\n",
    "Note I redacted ``trkseg`` section because it had so many datapoints. Anyway as you can see the whole file contains datapoint for every 3 seconds.\n"
   ]
  },
  {
   "cell_type": "markdown",
   "metadata": {},
   "source": [
    "Parsing\n",
    "=======\n",
    "\n",
    "I am going to use python ``xml.etree`` library because I don't want to add additional dependencies. I will also get a bit low-level at the beggining and after I will refactor this parsing mess.\n",
    "\n",
    "Note that most of the ugliness of this code comes from using xml namespaces, unfortunetely there is no option to turn them off in the default xml.etree library, lxml project would probably be better at least for this purpose.\n",
    "\n"
   ]
  },
  {
   "cell_type": "code",
   "execution_count": 2,
   "metadata": {
    "collapsed": false
   },
   "outputs": [],
   "source": [
    "import xml.etree.ElementTree as ET\n",
    "tree = ET.parse('data/2016-06-25-2054.gpx')\n",
    "trkseg = tree.find('.//{http://www.topografix.com/GPX/1/1}trkseg')"
   ]
  },
  {
   "cell_type": "code",
   "execution_count": 3,
   "metadata": {
    "collapsed": false
   },
   "outputs": [
    {
     "data": {
      "text/plain": [
       "499"
      ]
     },
     "execution_count": 3,
     "metadata": {},
     "output_type": "execute_result"
    }
   ],
   "source": [
    "records = list(trkseg)\n",
    "len(records)"
   ]
  },
  {
   "cell_type": "code",
   "execution_count": 4,
   "metadata": {
    "collapsed": false
   },
   "outputs": [
    {
     "data": {
      "text/plain": [
       "dict_keys(['lat', 'lon'])"
      ]
     },
     "execution_count": 4,
     "metadata": {},
     "output_type": "execute_result"
    }
   ],
   "source": [
    "first = records[0]\n",
    "first.attrib.keys()"
   ]
  },
  {
   "cell_type": "code",
   "execution_count": 5,
   "metadata": {
    "collapsed": false
   },
   "outputs": [
    {
     "data": {
      "text/plain": [
       "[<Element '{http://www.topografix.com/GPX/1/1}ele' at 0x7fdb182cc598>,\n",
       " <Element '{http://www.topografix.com/GPX/1/1}time' at 0x7fdb182cc5e8>]"
      ]
     },
     "execution_count": 5,
     "metadata": {},
     "output_type": "execute_result"
    }
   ],
   "source": [
    "list(first)"
   ]
  },
  {
   "cell_type": "code",
   "execution_count": 6,
   "metadata": {
    "collapsed": false
   },
   "outputs": [
    {
     "data": {
      "text/plain": [
       "'327.0'"
      ]
     },
     "execution_count": 6,
     "metadata": {},
     "output_type": "execute_result"
    }
   ],
   "source": [
    "elevation = first.find('{http://www.topografix.com/GPX/1/1}ele')\n",
    "elevation.text"
   ]
  },
  {
   "cell_type": "code",
   "execution_count": 7,
   "metadata": {
    "collapsed": false
   },
   "outputs": [
    {
     "data": {
      "text/plain": [
       "'2016-06-25T18:54:53Z'"
      ]
     },
     "execution_count": 7,
     "metadata": {},
     "output_type": "execute_result"
    }
   ],
   "source": [
    "first_time = first.find('{http://www.topografix.com/GPX/1/1}time')\n",
    "first_time.text"
   ]
  },
  {
   "cell_type": "markdown",
   "metadata": {},
   "source": [
    "# Refactoring\n",
    "\n",
    "Now that you see how to work with those files on the low level xml api lets hide this logic into simple class that can be constructed simply with a filename."
   ]
  },
  {
   "cell_type": "code",
   "execution_count": 8,
   "metadata": {
    "collapsed": false
   },
   "outputs": [],
   "source": [
    "from dateutil.parser import parse\n",
    "\n",
    "class Run:\n",
    "    def __init__(self, filename):\n",
    "        self.tree = ET.parse(filename)\n",
    "        self.records = [\n",
    "            {\n",
    "                'lat': record.attrib['lat'],\n",
    "                'lng': record.attrib['lon'],\n",
    "                'time': parse(record.find('{http://www.topografix.com/GPX/1/1}time').text),\n",
    "                'elevation': float(record.find('{http://www.topografix.com/GPX/1/1}ele').text),\n",
    "            } for record in self.tree.find('.//{http://www.topografix.com/GPX/1/1}trkseg')\n",
    "        ]"
   ]
  },
  {
   "cell_type": "markdown",
   "metadata": {},
   "source": [
    "This is much shorter than the original version. It is very simple and does not have any exception handling. Lets just assume everything goes all right. Now lets load all the runs."
   ]
  },
  {
   "cell_type": "code",
   "execution_count": 9,
   "metadata": {
    "collapsed": false
   },
   "outputs": [],
   "source": [
    "import glob, os\n",
    "\n",
    "from geopy.distance import distance\n",
    "from geopy import Point"
   ]
  },
  {
   "cell_type": "markdown",
   "metadata": {},
   "source": [
    "Yeah I know, you probably wanted me to calculate the distance by my own and not just import and module and be done with it. But I am lazy and know a shit about geography. Read distance implementation here: https://github.com/geopy/geopy/blob/master/geopy/distance.py and here: https://en.wikipedia.org/wiki/Vincenty%27s_formulae\n",
    "\n",
    "Anyway lets modify the run class to suppport distance calculation."
   ]
  },
  {
   "cell_type": "code",
   "execution_count": 10,
   "metadata": {
    "collapsed": false
   },
   "outputs": [],
   "source": [
    "class Run:\n",
    "    def __init__(self, filename):\n",
    "        self.tree = ET.parse(filename)\n",
    "        self.records = [\n",
    "            {\n",
    "                'lat': record.attrib['lat'],\n",
    "                'lng': record.attrib['lon'],\n",
    "                'time': parse(record.find('{http://www.topografix.com/GPX/1/1}time').text),\n",
    "                'elevation': float(record.find('{http://www.topografix.com/GPX/1/1}ele').text),\n",
    "            } for record in self.tree.find('.//{http://www.topografix.com/GPX/1/1}trkseg')\n",
    "        ]\n",
    "        \n",
    "    def pluck_attribute(self, attribute):\n",
    "        return [r[attribute] for r in self.records]\n",
    "    \n",
    "    @property\n",
    "    def elevations(self):\n",
    "        return self.pluck_attribute('elevation')\n",
    "    \n",
    "    @property\n",
    "    def times(self):\n",
    "        return self.pluck_attribute('time')\n",
    "    \n",
    "    @property\n",
    "    def speed(self):\n",
    "        'm/s'\n",
    "        return self.distance_total / self.time_total_s\n",
    "    \n",
    "    @property\n",
    "    def speed_kmph(self):\n",
    "        'km/h'\n",
    "        return self.speed * 3.6\n",
    "    \n",
    "    @property\n",
    "    def pace(self):\n",
    "        'Pace in m/km'\n",
    "        return (self.time_total_s / 60) / (self.distance_total / 1000)\n",
    "    \n",
    "    \n",
    "    @property\n",
    "    def distance_total(self):\n",
    "        \"\"\"\n",
    "        Returns distance in metres from the total run\n",
    "        \"\"\"\n",
    "        distances = []\n",
    "        for i in range(len(self.records)-1):\n",
    "            this_point = Point(self.records[i]['lat'], self.records[i]['lng'])\n",
    "            next_point = Point(self.records[i+1]['lat'], self.records[i+1]['lng'])\n",
    "            distances.append(distance(this_point, next_point).meters)\n",
    "        \n",
    "        return sum(distances)\n",
    "    \n",
    "    @property\n",
    "    def start(self):\n",
    "        return min(self.times)\n",
    "    \n",
    "    @property\n",
    "    def end(self):\n",
    "        return max(self.times)\n",
    "    \n",
    "    @property\n",
    "    def time_total(self):\n",
    "        \"Time total\"\n",
    "        return self.end - self.start\n",
    "    \n",
    "        \n",
    "    @property\n",
    "    def time_total_s(self):\n",
    "        \"Time total in seconds\"\n",
    "        return self.time_total.seconds\n",
    "    \n",
    "    @classmethod\n",
    "    def load_runs(cls, data_dir='./data'):\n",
    "        glob_joined = os.path.join(data_dir, '*.gpx')\n",
    "        runs = [cls(f) for f in glob.glob(glob_joined)]\n",
    "        return list(filter(lambda r: len(r.records) > 5, runs)) # exclude all runs with insufficient data\n",
    "    \n",
    "    \n",
    "last_night = Run('data/2016-06-25-2054.gpx')"
   ]
  },
  {
   "cell_type": "code",
   "execution_count": 11,
   "metadata": {
    "collapsed": false
   },
   "outputs": [
    {
     "data": {
      "text/plain": [
       "5641.157399618419"
      ]
     },
     "execution_count": 11,
     "metadata": {},
     "output_type": "execute_result"
    }
   ],
   "source": [
    "last_night.distance_total"
   ]
  },
  {
   "cell_type": "markdown",
   "metadata": {},
   "source": [
    "This is the same value that Run keeper shows. Nice."
   ]
  },
  {
   "cell_type": "code",
   "execution_count": 12,
   "metadata": {
    "collapsed": false,
    "scrolled": true
   },
   "outputs": [
    {
     "data": {
      "text/plain": [
       "50.8"
      ]
     },
     "execution_count": 12,
     "metadata": {},
     "output_type": "execute_result"
    }
   ],
   "source": [
    "last_night.time_total_s / 60"
   ]
  },
  {
   "cell_type": "code",
   "execution_count": 13,
   "metadata": {
    "collapsed": false
   },
   "outputs": [
    {
     "data": {
      "text/plain": [
       "6.662784330257975"
      ]
     },
     "execution_count": 13,
     "metadata": {},
     "output_type": "execute_result"
    }
   ],
   "source": [
    "last_night.speed_kmph"
   ]
  },
  {
   "cell_type": "code",
   "execution_count": 14,
   "metadata": {
    "collapsed": false
   },
   "outputs": [
    {
     "data": {
      "text/plain": [
       "9.00524420811875"
      ]
     },
     "execution_count": 14,
     "metadata": {},
     "output_type": "execute_result"
    }
   ],
   "source": [
    "last_night.pace"
   ]
  },
  {
   "cell_type": "markdown",
   "metadata": {},
   "source": [
    "# Plot it\n",
    "![Plot cesky](http://www.saternus.sk/a/files/produkte/PLOT_DREVENY_Z_DOSIEK/PLOT_DREVENY_Z_DOSIEK_high.jpg)\n"
   ]
  },
  {
   "cell_type": "code",
   "execution_count": 15,
   "metadata": {
    "collapsed": false
   },
   "outputs": [
    {
     "data": {
      "text/html": [
       "\n",
       "    <div class=\"bk-banner\">\n",
       "        <a href=\"http://bokeh.pydata.org\" target=\"_blank\" class=\"bk-logo bk-logo-small bk-logo-notebook\"></a>\n",
       "        <span id=\"e4d65bd9-169c-4ea1-a400-30711e2ff497\">Loading BokehJS ...</span>\n",
       "    </div>"
      ]
     },
     "metadata": {},
     "output_type": "display_data"
    },
    {
     "data": {
      "application/javascript": [
       "\n",
       "(function(global) {\n",
       "  function now() {\n",
       "    return new Date();\n",
       "  }\n",
       "\n",
       "  if (typeof (window._bokeh_onload_callbacks) === \"undefined\") {\n",
       "    window._bokeh_onload_callbacks = [];\n",
       "  }\n",
       "\n",
       "  function run_callbacks() {\n",
       "    window._bokeh_onload_callbacks.forEach(function(callback) { callback() });\n",
       "    delete window._bokeh_onload_callbacks\n",
       "    console.info(\"Bokeh: all callbacks have finished\");\n",
       "  }\n",
       "\n",
       "  function load_libs(js_urls, callback) {\n",
       "    window._bokeh_onload_callbacks.push(callback);\n",
       "    if (window._bokeh_is_loading > 0) {\n",
       "      console.log(\"Bokeh: BokehJS is being loaded, scheduling callback at\", now());\n",
       "      return null;\n",
       "    }\n",
       "    if (js_urls == null || js_urls.length === 0) {\n",
       "      run_callbacks();\n",
       "      return null;\n",
       "    }\n",
       "    console.log(\"Bokeh: BokehJS not loaded, scheduling load and callback at\", now());\n",
       "    window._bokeh_is_loading = js_urls.length;\n",
       "    for (var i = 0; i < js_urls.length; i++) {\n",
       "      var url = js_urls[i];\n",
       "      var s = document.createElement('script');\n",
       "      s.src = url;\n",
       "      s.async = false;\n",
       "      s.onreadystatechange = s.onload = function() {\n",
       "        window._bokeh_is_loading--;\n",
       "        if (window._bokeh_is_loading === 0) {\n",
       "          console.log(\"Bokeh: all BokehJS libraries loaded\");\n",
       "          run_callbacks()\n",
       "        }\n",
       "      };\n",
       "      s.onerror = function() {\n",
       "        console.warn(\"failed to load library \" + url);\n",
       "      };\n",
       "      console.log(\"Bokeh: injecting script tag for BokehJS library: \", url);\n",
       "      document.getElementsByTagName(\"head\")[0].appendChild(s);\n",
       "    }\n",
       "  };\n",
       "\n",
       "  var js_urls = ['https://cdn.pydata.org/bokeh/release/bokeh-0.11.1.min.js', 'https://cdn.pydata.org/bokeh/release/bokeh-widgets-0.11.1.min.js', 'https://cdn.pydata.org/bokeh/release/bokeh-compiler-0.11.1.min.js'];\n",
       "\n",
       "  var inline_js = [\n",
       "    function(Bokeh) {\n",
       "      Bokeh.set_log_level(\"info\");\n",
       "    },\n",
       "    \n",
       "    function(Bokeh) {\n",
       "      Bokeh.$(\"#e4d65bd9-169c-4ea1-a400-30711e2ff497\").text(\"BokehJS successfully loaded\");\n",
       "    },\n",
       "    function(Bokeh) {\n",
       "      console.log(\"Bokeh: injecting CSS: https://cdn.pydata.org/bokeh/release/bokeh-0.11.1.min.css\");\n",
       "      Bokeh.embed.inject_css(\"https://cdn.pydata.org/bokeh/release/bokeh-0.11.1.min.css\");\n",
       "      console.log(\"Bokeh: injecting CSS: https://cdn.pydata.org/bokeh/release/bokeh-widgets-0.11.1.min.css\");\n",
       "      Bokeh.embed.inject_css(\"https://cdn.pydata.org/bokeh/release/bokeh-widgets-0.11.1.min.css\");\n",
       "    }\n",
       "  ];\n",
       "\n",
       "  function run_inline_js() {\n",
       "    for (var i = 0; i < inline_js.length; i++) {\n",
       "      inline_js[i](window.Bokeh);\n",
       "    }\n",
       "  }\n",
       "\n",
       "  if (window._bokeh_is_loading === 0) {\n",
       "    console.log(\"Bokeh: BokehJS loaded, going straight to plotting\");\n",
       "    run_inline_js();\n",
       "  } else {\n",
       "    load_libs(js_urls, function() {\n",
       "      console.log(\"Bokeh: BokehJS plotting callback run at\", now());\n",
       "      run_inline_js();\n",
       "    });\n",
       "  }\n",
       "}(this));"
      ]
     },
     "metadata": {},
     "output_type": "display_data"
    }
   ],
   "source": [
    "from bokeh.plotting import figure, show, output_notebook\n",
    "output_notebook()"
   ]
  },
  {
   "cell_type": "code",
   "execution_count": 16,
   "metadata": {
    "collapsed": false
   },
   "outputs": [
    {
     "data": {
      "text/html": [
       "\n",
       "\n",
       "    <div class=\"plotdiv\" id=\"d7e9cf64-95fb-4ce8-8336-57aa7ed4f408\"></div>\n",
       "<script type=\"text/javascript\">\n",
       "  \n",
       "  (function(global) {\n",
       "    function now() {\n",
       "      return new Date();\n",
       "    }\n",
       "  \n",
       "    if (typeof (window._bokeh_onload_callbacks) === \"undefined\") {\n",
       "      window._bokeh_onload_callbacks = [];\n",
       "    }\n",
       "  \n",
       "    function run_callbacks() {\n",
       "      window._bokeh_onload_callbacks.forEach(function(callback) { callback() });\n",
       "      delete window._bokeh_onload_callbacks\n",
       "      console.info(\"Bokeh: all callbacks have finished\");\n",
       "    }\n",
       "  \n",
       "    function load_libs(js_urls, callback) {\n",
       "      window._bokeh_onload_callbacks.push(callback);\n",
       "      if (window._bokeh_is_loading > 0) {\n",
       "        console.log(\"Bokeh: BokehJS is being loaded, scheduling callback at\", now());\n",
       "        return null;\n",
       "      }\n",
       "      if (js_urls == null || js_urls.length === 0) {\n",
       "        run_callbacks();\n",
       "        return null;\n",
       "      }\n",
       "      console.log(\"Bokeh: BokehJS not loaded, scheduling load and callback at\", now());\n",
       "      window._bokeh_is_loading = js_urls.length;\n",
       "      for (var i = 0; i < js_urls.length; i++) {\n",
       "        var url = js_urls[i];\n",
       "        var s = document.createElement('script');\n",
       "        s.src = url;\n",
       "        s.async = false;\n",
       "        s.onreadystatechange = s.onload = function() {\n",
       "          window._bokeh_is_loading--;\n",
       "          if (window._bokeh_is_loading === 0) {\n",
       "            console.log(\"Bokeh: all BokehJS libraries loaded\");\n",
       "            run_callbacks()\n",
       "          }\n",
       "        };\n",
       "        s.onerror = function() {\n",
       "          console.warn(\"failed to load library \" + url);\n",
       "        };\n",
       "        console.log(\"Bokeh: injecting script tag for BokehJS library: \", url);\n",
       "        document.getElementsByTagName(\"head\")[0].appendChild(s);\n",
       "      }\n",
       "    };var element = document.getElementById(\"d7e9cf64-95fb-4ce8-8336-57aa7ed4f408\");\n",
       "    if (element == null) {\n",
       "      console.log(\"Bokeh: ERROR: autoload.js configured with elementid 'd7e9cf64-95fb-4ce8-8336-57aa7ed4f408' but no matching script tag was found. \")\n",
       "      return false;\n",
       "    }\n",
       "  \n",
       "    var js_urls = [];\n",
       "  \n",
       "    var inline_js = [\n",
       "      function(Bokeh) {\n",
       "        Bokeh.$(function() {\n",
       "            var docs_json = {\"6e9b2b58-c30d-4d66-88ac-34448d338406\":{\"roots\":{\"references\":[{\"attributes\":{\"months\":[0,6]},\"id\":\"653c0351-2d23-455d-b6b4-fecc1a477cfc\",\"type\":\"MonthsTicker\"},{\"attributes\":{\"dimension\":1,\"plot\":{\"id\":\"e4402d0d-1629-4a3a-bc58-c1fd17e238d3\",\"subtype\":\"Figure\",\"type\":\"Plot\"},\"ticker\":{\"id\":\"a576bd97-77e5-447f-bd19-f7bc06644754\",\"type\":\"BasicTicker\"}},\"id\":\"975254be-903b-4d4f-aab4-f6c16a9f9d1d\",\"type\":\"Grid\"},{\"attributes\":{\"months\":[0,4,8]},\"id\":\"379fc93e-520f-4016-9dfd-e0608c516514\",\"type\":\"MonthsTicker\"},{\"attributes\":{\"background_fill_color\":{\"value\":\"#E8DDCB\"},\"below\":[{\"id\":\"8bcf7c10-dcce-4afd-8b3f-05478bd6379e\",\"type\":\"DatetimeAxis\"}],\"left\":[{\"id\":\"6ba80015-299a-4ce2-b655-031841138d0c\",\"type\":\"LinearAxis\"}],\"renderers\":[{\"id\":\"8bcf7c10-dcce-4afd-8b3f-05478bd6379e\",\"type\":\"DatetimeAxis\"},{\"id\":\"fe5acaea-afbd-4896-bee9-a314453b2a5c\",\"type\":\"Grid\"},{\"id\":\"6ba80015-299a-4ce2-b655-031841138d0c\",\"type\":\"LinearAxis\"},{\"id\":\"975254be-903b-4d4f-aab4-f6c16a9f9d1d\",\"type\":\"Grid\"},{\"id\":\"32d99567-b874-4832-8b33-b6fffc90099c\",\"type\":\"BoxAnnotation\"},{\"id\":\"18b6108e-eec6-47ce-8724-c1e174f5f02a\",\"type\":\"GlyphRenderer\"}],\"title\":\"Elevation from last night run\",\"tool_events\":{\"id\":\"145ad887-76f2-419e-b5c6-da6f19dc35eb\",\"type\":\"ToolEvents\"},\"tools\":[{\"id\":\"9172f81b-f377-425e-a309-a4ff828827ca\",\"type\":\"PanTool\"},{\"id\":\"ab74d2d5-1876-4fa5-86e0-22742c7ba2cb\",\"type\":\"WheelZoomTool\"},{\"id\":\"b73987b4-3244-45a3-8a0e-4e5f6bbe966d\",\"type\":\"BoxZoomTool\"},{\"id\":\"830da2a8-08ec-4040-a9bb-b82a5a3e4c36\",\"type\":\"PreviewSaveTool\"},{\"id\":\"c30ced04-5998-44d5-9bc6-c9cc2e466315\",\"type\":\"ResizeTool\"},{\"id\":\"4c177701-a0db-48f9-bed3-2e6cadef2cf0\",\"type\":\"ResetTool\"},{\"id\":\"25b1efde-3098-4fd7-85bb-5d938ca96386\",\"type\":\"HelpTool\"}],\"x_range\":{\"id\":\"a8ee7f3c-f654-4f7a-a82a-34db6ef53a43\",\"type\":\"DataRange1d\"},\"y_range\":{\"id\":\"3adcda21-fdde-43da-b4ee-f4edad906963\",\"type\":\"DataRange1d\"}},\"id\":\"e4402d0d-1629-4a3a-bc58-c1fd17e238d3\",\"subtype\":\"Figure\",\"type\":\"Plot\"},{\"attributes\":{\"axis_label\":\"Time\",\"formatter\":{\"id\":\"add1cae2-233e-4a14-a228-941f9b8ae217\",\"type\":\"DatetimeTickFormatter\"},\"plot\":{\"id\":\"e4402d0d-1629-4a3a-bc58-c1fd17e238d3\",\"subtype\":\"Figure\",\"type\":\"Plot\"},\"ticker\":{\"id\":\"a2670a78-e859-4260-8813-6d3d93ab7c44\",\"type\":\"DatetimeTicker\"}},\"id\":\"8bcf7c10-dcce-4afd-8b3f-05478bd6379e\",\"type\":\"DatetimeAxis\"},{\"attributes\":{\"months\":[0,1,2,3,4,5,6,7,8,9,10,11]},\"id\":\"1e8a2899-d334-4a9f-913a-6e192d796095\",\"type\":\"MonthsTicker\"},{\"attributes\":{\"plot\":{\"id\":\"e4402d0d-1629-4a3a-bc58-c1fd17e238d3\",\"subtype\":\"Figure\",\"type\":\"Plot\"}},\"id\":\"9172f81b-f377-425e-a309-a4ff828827ca\",\"type\":\"PanTool\"},{\"attributes\":{\"axis_label\":\"Elevation (m)\",\"formatter\":{\"id\":\"ed43ace4-b9c2-4035-bb4e-d40bb8d6d5b4\",\"type\":\"BasicTickFormatter\"},\"plot\":{\"id\":\"e4402d0d-1629-4a3a-bc58-c1fd17e238d3\",\"subtype\":\"Figure\",\"type\":\"Plot\"},\"ticker\":{\"id\":\"a576bd97-77e5-447f-bd19-f7bc06644754\",\"type\":\"BasicTicker\"}},\"id\":\"6ba80015-299a-4ce2-b655-031841138d0c\",\"type\":\"LinearAxis\"},{\"attributes\":{\"data_source\":{\"id\":\"f0e7f289-00a3-49c8-b768-91e475ba784e\",\"type\":\"ColumnDataSource\"},\"glyph\":{\"id\":\"8c747b63-73ef-40fc-a13c-b7a1bc34769d\",\"type\":\"Line\"},\"hover_glyph\":null,\"nonselection_glyph\":{\"id\":\"7c143bd9-df09-4316-a6a0-567ba2c5b5e5\",\"type\":\"Line\"},\"selection_glyph\":null},\"id\":\"18b6108e-eec6-47ce-8724-c1e174f5f02a\",\"type\":\"GlyphRenderer\"},{\"attributes\":{\"max_interval\":500.0,\"num_minor_ticks\":0},\"id\":\"72176723-8b23-40b6-99b1-ecf5a1055fdd\",\"type\":\"AdaptiveTicker\"},{\"attributes\":{},\"id\":\"ed43ace4-b9c2-4035-bb4e-d40bb8d6d5b4\",\"type\":\"BasicTickFormatter\"},{\"attributes\":{\"line_alpha\":{\"value\":0.1},\"line_color\":{\"value\":\"#1f77b4\"},\"x\":{\"field\":\"x\"},\"y\":{\"field\":\"y\"}},\"id\":\"7c143bd9-df09-4316-a6a0-567ba2c5b5e5\",\"type\":\"Line\"},{\"attributes\":{\"plot\":{\"id\":\"e4402d0d-1629-4a3a-bc58-c1fd17e238d3\",\"subtype\":\"Figure\",\"type\":\"Plot\"},\"ticker\":{\"id\":\"a2670a78-e859-4260-8813-6d3d93ab7c44\",\"type\":\"DatetimeTicker\"}},\"id\":\"fe5acaea-afbd-4896-bee9-a314453b2a5c\",\"type\":\"Grid\"},{\"attributes\":{\"days\":[1,8,15,22]},\"id\":\"31ad8910-2aab-4960-8fa5-006ba0743129\",\"type\":\"DaysTicker\"},{\"attributes\":{\"callback\":null,\"column_names\":[\"x\",\"y\"],\"data\":{\"x\":[1466880893000.0,1466880895000.0,1466880898000.0,1466880911000.0,1466880918000.0,1466880929000.0,1466880933000.0,1466880936000.0,1466880939000.0,1466880942000.0,1466880945000.0,1466880948000.0,1466880951000.0,1466880954000.0,1466880957000.0,1466880960000.0,1466880964000.0,1466880967000.0,1466880970000.0,1466880973000.0,1466880976000.0,1466880980000.0,1466880983000.0,1466880987000.0,1466880991000.0,1466880995000.0,1466880999000.0,1466881003000.0,1466881006000.0,1466881009000.0,1466881012000.0,1466881015000.0,1466881018000.0,1466881021000.0,1466881024000.0,1466881027000.0,1466881031000.0,1466881034000.0,1466881038000.0,1466881071000.0,1466881074000.0,1466881077000.0,1466881080000.0,1466881082000.0,1466881085000.0,1466881088000.0,1466881091000.0,1466881094000.0,1466881097000.0,1466881100000.0,1466881103000.0,1466881106000.0,1466881109000.0,1466881112000.0,1466881116000.0,1466881138000.0,1466881141000.0,1466881144000.0,1466881147000.0,1466881150000.0,1466881153000.0,1466881156000.0,1466881159000.0,1466881162000.0,1466881165000.0,1466881168000.0,1466881171000.0,1466881175000.0,1466881178000.0,1466881181000.0,1466881184000.0,1466881187000.0,1466881190000.0,1466881193000.0,1466881196000.0,1466881200000.0,1466881214000.0,1466881222000.0,1466881226000.0,1466881229000.0,1466881232000.0,1466881235000.0,1466881238000.0,1466881241000.0,1466881244000.0,1466881247000.0,1466881250000.0,1466881253000.0,1466881256000.0,1466881259000.0,1466881262000.0,1466881265000.0,1466881268000.0,1466881271000.0,1466881274000.0,1466881285000.0,1466881301000.0,1466881304000.0,1466881307000.0,1466881309000.0,1466881312000.0,1466881315000.0,1466881318000.0,1466881322000.0,1466881325000.0,1466881328000.0,1466881331000.0,1466881335000.0,1466881350000.0,1466881358000.0,1466881361000.0,1466881364000.0,1466881367000.0,1466881370000.0,1466881373000.0,1466881376000.0,1466881379000.0,1466881383000.0,1466881386000.0,1466881389000.0,1466881392000.0,1466881396000.0,1466881400000.0,1466881403000.0,1466881406000.0,1466881409000.0,1466881412000.0,1466881437000.0,1466881447000.0,1466881451000.0,1466881454000.0,1466881457000.0,1466881460000.0,1466881463000.0,1466881466000.0,1466881469000.0,1466881472000.0,1466881475000.0,1466881478000.0,1466881480000.0,1466881483000.0,1466881486000.0,1466881489000.0,1466881492000.0,1466881495000.0,1466881498000.0,1466881501000.0,1466881504000.0,1466881507000.0,1466881510000.0,1466881513000.0,1466881516000.0,1466881520000.0,1466881523000.0,1466881526000.0,1466881530000.0,1466881534000.0,1466881544000.0,1466881556000.0,1466881564000.0,1466881571000.0,1466881578000.0,1466881586000.0,1466881597000.0,1466881604000.0,1466881613000.0,1466881621000.0,1466881624000.0,1466881627000.0,1466881631000.0,1466881635000.0,1466881639000.0,1466881643000.0,1466881647000.0,1466881651000.0,1466881655000.0,1466881659000.0,1466881663000.0,1466881683000.0,1466881690000.0,1466881694000.0,1466881698000.0,1466881702000.0,1466881707000.0,1466881712000.0,1466881717000.0,1466881722000.0,1466881726000.0,1466881732000.0,1466881737000.0,1466881741000.0,1466881746000.0,1466881751000.0,1466881759000.0,1466881769000.0,1466881780000.0,1466881789000.0,1466881797000.0,1466881807000.0,1466881813000.0,1466881817000.0,1466881821000.0,1466881826000.0,1466881868000.0,1466881872000.0,1466881877000.0,1466881881000.0,1466881885000.0,1466881889000.0,1466881893000.0,1466881897000.0,1466881903000.0,1466881908000.0,1466881913000.0,1466881919000.0,1466881945000.0,1466881957000.0,1466881961000.0,1466881965000.0,1466881970000.0,1466881997000.0,1466882002000.0,1466882040000.0,1466882045000.0,1466882050000.0,1466882056000.0,1466882061000.0,1466882067000.0,1466882072000.0,1466882076000.0,1466882080000.0,1466882083000.0,1466882087000.0,1466882092000.0,1466882097000.0,1466882102000.0,1466882107000.0,1466882111000.0,1466882144000.0,1466882166000.0,1466882175000.0,1466882183000.0,1466882222000.0,1466882326000.0,1466882332000.0,1466882336000.0,1466882339000.0,1466882342000.0,1466882345000.0,1466882348000.0,1466882352000.0,1466882356000.0,1466882360000.0,1466882364000.0,1466882368000.0,1466882373000.0,1466882378000.0,1466882383000.0,1466882387000.0,1466882391000.0,1466882395000.0,1466882399000.0,1466882404000.0,1466882420000.0,1466882424000.0,1466882428000.0,1466882432000.0,1466882436000.0,1466882441000.0,1466882446000.0,1466882452000.0,1466882456000.0,1466882460000.0,1466882464000.0,1466882468000.0,1466882472000.0,1466882476000.0,1466882480000.0,1466882485000.0,1466882490000.0,1466882494000.0,1466882500000.0,1466882506000.0,1466882511000.0,1466882518000.0,1466882527000.0,1466882540000.0,1466882545000.0,1466882550000.0,1466882555000.0,1466882562000.0,1466882568000.0,1466882573000.0,1466882578000.0,1466882584000.0,1466882589000.0,1466882604000.0,1466882643000.0,1466882654000.0,1466882662000.0,1466882666000.0,1466882669000.0,1466882673000.0,1466882677000.0,1466882681000.0,1466882687000.0,1466882692000.0,1466882697000.0,1466882732000.0,1466882737000.0,1466882743000.0,1466882748000.0,1466882752000.0,1466882758000.0,1466882764000.0,1466882770000.0,1466882799000.0,1466882803000.0,1466882806000.0,1466882809000.0,1466882812000.0,1466882816000.0,1466882820000.0,1466882824000.0,1466882829000.0,1466882832000.0,1466882835000.0,1466882839000.0,1466882842000.0,1466882846000.0,1466882850000.0,1466882854000.0,1466882858000.0,1466882863000.0,1466882867000.0,1466882871000.0,1466882876000.0,1466882883000.0,1466882892000.0,1466882902000.0,1466882933000.0,1466882937000.0,1466882941000.0,1466882945000.0,1466882949000.0,1466882953000.0,1466882957000.0,1466882961000.0,1466882965000.0,1466882969000.0,1466882993000.0,1466882997000.0,1466883001000.0,1466883005000.0,1466883009000.0,1466883014000.0,1466883019000.0,1466883024000.0,1466883028000.0,1466883032000.0,1466883036000.0,1466883040000.0,1466883044000.0,1466883048000.0,1466883052000.0,1466883057000.0,1466883062000.0,1466883082000.0,1466883098000.0,1466883102000.0,1466883106000.0,1466883109000.0,1466883112000.0,1466883116000.0,1466883120000.0,1466883124000.0,1466883129000.0,1466883135000.0,1466883142000.0,1466883150000.0,1466883161000.0,1466883169000.0,1466883174000.0,1466883179000.0,1466883183000.0,1466883186000.0,1466883189000.0,1466883193000.0,1466883196000.0,1466883199000.0,1466883203000.0,1466883209000.0,1466883213000.0,1466883217000.0,1466883221000.0,1466883225000.0,1466883229000.0,1466883233000.0,1466883238000.0,1466883243000.0,1466883247000.0,1466883250000.0,1466883253000.0,1466883257000.0,1466883260000.0,1466883264000.0,1466883269000.0,1466883274000.0,1466883296000.0,1466883301000.0,1466883304000.0,1466883308000.0,1466883314000.0,1466883319000.0,1466883323000.0,1466883326000.0,1466883329000.0,1466883333000.0,1466883337000.0,1466883341000.0,1466883345000.0,1466883349000.0,1466883353000.0,1466883358000.0,1466883363000.0,1466883368000.0,1466883374000.0,1466883380000.0,1466883385000.0,1466883390000.0,1466883394000.0,1466883399000.0,1466883413000.0,1466883430000.0,1466883439000.0,1466883448000.0,1466883452000.0,1466883456000.0,1466883460000.0,1466883464000.0,1466883468000.0,1466883473000.0,1466883478000.0,1466883483000.0,1466883489000.0,1466883494000.0,1466883498000.0,1466883502000.0,1466883507000.0,1466883513000.0,1466883518000.0,1466883523000.0,1466883558000.0,1466883562000.0,1466883566000.0,1466883570000.0,1466883574000.0,1466883578000.0,1466883582000.0,1466883587000.0,1466883592000.0,1466883598000.0,1466883605000.0,1466883612000.0,1466883620000.0,1466883630000.0,1466883642000.0,1466883650000.0,1466883659000.0,1466883667000.0,1466883676000.0,1466883684000.0,1466883692000.0,1466883700000.0,1466883709000.0,1466883719000.0,1466883728000.0,1466883736000.0,1466883743000.0,1466883753000.0,1466883763000.0,1466883772000.0,1466883781000.0,1466883789000.0,1466883799000.0,1466883807000.0,1466883817000.0,1466883828000.0,1466883836000.0,1466883844000.0,1466883852000.0,1466883861000.0,1466883871000.0,1466883879000.0,1466883888000.0,1466883897000.0,1466883904000.0,1466883915000.0,1466883941000.0],\"y\":[327.0,326.7,326.5,326.3,325.9,325.5,325.0,324.5,323.9,323.2,322.7,322.3,321.8,321.4,320.9,320.5,320.2,319.8,319.5,319.1,318.9,318.7,318.5,318.4,318.2,318.0,318.0,318.0,318.0,318.0,317.3,316.5,315.8,315.1,314.4,313.6,312.9,312.2,311.5,310.7,310.0,309.4,308.7,308.1,307.5,306.8,306.2,305.5,304.9,304.0,303.1,302.2,301.9,301.6,301.4,301.0,300.6,300.3,299.7,299.2,298.9,298.6,298.4,298.1,297.8,297.5,297.1,296.6,296.2,295.9,295.6,295.3,294.9,294.5,294.2,293.8,293.5,293.4,293.3,293.2,293.1,293.0,292.9,292.5,292.2,291.8,291.5,291.1,290.7,290.4,290.0,289.6,289.4,289.2,289.3,289.4,289.5,289.5,289.6,289.7,289.6,289.5,289.5,289.3,289.1,288.9,288.7,288.5,288.3,288.0,287.7,287.6,287.5,287.5,287.4,287.3,286.9,286.5,286.2,285.7,285.3,284.8,284.4,283.9,283.5,283.0,282.5,282.4,282.2,282.0,282.0,282.0,282.0,281.8,281.6,281.5,281.2,280.9,280.5,280.2,279.8,279.5,279.1,278.7,278.5,278.2,277.9,277.7,277.5,277.5,277.4,277.3,277.0,276.7,276.5,276.3,276.1,275.9,275.7,275.5,275.4,275.2,275.0,275.0,275.0,275.0,275.0,275.2,275.4,275.5,275.7,275.9,276.1,276.3,276.5,276.6,276.8,277.2,277.4,277.5,277.7,277.9,278.1,278.3,278.5,278.6,279.0,279.4,279.5,279.7,279.9,280.1,280.3,280.5,280.6,280.8,281.1,281.4,281.6,281.9,282.2,282.5,282.7,283.0,283.3,283.7,284.5,285.1,285.5,286.0,286.5,286.9,287.4,287.8,288.7,289.6,290.4,290.8,291.6,292.5,293.3,294.1,294.9,295.9,296.9,297.5,298.0,298.5,299.1,299.5,299.8,300.4,300.9,301.5,301.8,302.2,302.5,302.9,303.3,303.6,303.8,304.0,304.0,304.0,304.3,304.5,304.8,305.1,305.4,305.6,305.9,306.2,306.5,306.7,307.0,307.0,307.4,307.7,308.1,308.5,309.0,309.5,309.9,310.4,310.8,311.3,311.7,311.8,311.9,312.0,312.0,312.0,312.3,312.5,312.8,313.1,313.4,313.8,314.3,314.7,315.2,315.6,316.1,316.3,316.6,317.0,317.4,318.2,318.8,319.5,320.1,320.9,321.7,322.5,323.4,324.0,324.6,325.3,325.6,326.0,326.7,327.5,328.0,328.5,329.1,329.6,330.5,331.3,332.1,332.7,333.4,333.6,333.6,333.6,333.6,333.6,333.6,333.4,332.9,332.5,332.0,331.5,331.1,330.9,330.5,330.2,329.8,329.5,329.1,328.9,328.7,328.5,328.4,328.2,328.0,328.0,328.0,328.0,328.0,328.0,328.1,328.2,328.3,328.4,328.5,328.5,328.6,328.7,328.8,328.9,329.0,328.9,328.8,328.7,328.6,328.5,328.5,328.4,328.3,328.2,328.1,328.0,328.0,328.0,328.0,328.0,328.0,328.0,328.0,328.0,328.0,327.7,327.5,327.2,326.9,326.6,326.4,325.9,325.5,325.0,324.5,324.1,323.9,323.2,322.5,321.7,321.0,321.2,321.5,321.4,321.2,321.0,320.8,320.6,321.0,320.6,320.3,319.9,318.6,317.4,316.0,314.6,313.3,311.9,310.5,309.2,308.5,307.7,307.0,306.3,305.5,305.4,305.2,305.0,304.8,304.6,304.5,304.5,304.5,304.5,304.5,304.5,304.6,304.8,305.0,305.2,305.4,305.5,305.8,306.1,306.4,306.6,306.9,307.2,307.5,307.7,308.0,308.3,308.5,308.9,309.3,309.6,310.0,310.4,310.8,311.3,311.7,312.2,312.6,313.1,313.5,313.8,314.2,314.0,314.4,314.7,315.1,315.5,315.8,316.2,316.5,316.7,316.9,317.1,317.8,318.0,318.0,318.0,318.0,318.0,318.0,318.0,318.0,318.2,318.4,318.5,318.7,318.9,319.1,319.5,319.8,320.2,320.5,320.9,321.4,321.8,322.3,322.7,323.2,323.6,324.2,324.7,325.3,325.8,326.2,326.3,326.5,326.7,327.0]}},\"id\":\"f0e7f289-00a3-49c8-b768-91e475ba784e\",\"type\":\"ColumnDataSource\"},{\"attributes\":{},\"id\":\"145ad887-76f2-419e-b5c6-da6f19dc35eb\",\"type\":\"ToolEvents\"},{\"attributes\":{\"line_color\":{\"value\":\"#1f77b4\"},\"x\":{\"field\":\"x\"},\"y\":{\"field\":\"y\"}},\"id\":\"8c747b63-73ef-40fc-a13c-b7a1bc34769d\",\"type\":\"Line\"},{\"attributes\":{\"days\":[1,15]},\"id\":\"c5f3d99d-4f32-44e9-a94b-64c2c10035ce\",\"type\":\"DaysTicker\"},{\"attributes\":{\"bottom_units\":\"screen\",\"fill_alpha\":{\"value\":0.5},\"fill_color\":{\"value\":\"lightgrey\"},\"left_units\":\"screen\",\"level\":\"overlay\",\"line_alpha\":{\"value\":1.0},\"line_color\":{\"value\":\"black\"},\"line_dash\":[4,4],\"line_width\":{\"value\":2},\"plot\":null,\"render_mode\":\"css\",\"right_units\":\"screen\",\"top_units\":\"screen\"},\"id\":\"32d99567-b874-4832-8b33-b6fffc90099c\",\"type\":\"BoxAnnotation\"},{\"attributes\":{\"plot\":{\"id\":\"e4402d0d-1629-4a3a-bc58-c1fd17e238d3\",\"subtype\":\"Figure\",\"type\":\"Plot\"}},\"id\":\"c30ced04-5998-44d5-9bc6-c9cc2e466315\",\"type\":\"ResizeTool\"},{\"attributes\":{\"days\":[1,2,3,4,5,6,7,8,9,10,11,12,13,14,15,16,17,18,19,20,21,22,23,24,25,26,27,28,29,30,31]},\"id\":\"6e9ee585-b9e9-4641-8864-6aadbc870d6e\",\"type\":\"DaysTicker\"},{\"attributes\":{},\"id\":\"347bd9ef-5cc7-4355-8d25-175f56173844\",\"type\":\"YearsTicker\"},{\"attributes\":{\"base\":60,\"mantissas\":[1,2,5,10,15,20,30],\"max_interval\":1800000.0,\"min_interval\":1000.0,\"num_minor_ticks\":0},\"id\":\"9178a1e7-4d18-424b-9d51-bf3f61a0a34f\",\"type\":\"AdaptiveTicker\"},{\"attributes\":{},\"id\":\"a576bd97-77e5-447f-bd19-f7bc06644754\",\"type\":\"BasicTicker\"},{\"attributes\":{\"num_minor_ticks\":5},\"id\":\"a2670a78-e859-4260-8813-6d3d93ab7c44\",\"type\":\"DatetimeTicker\"},{\"attributes\":{\"callback\":null},\"id\":\"3adcda21-fdde-43da-b4ee-f4edad906963\",\"type\":\"DataRange1d\"},{\"attributes\":{},\"id\":\"add1cae2-233e-4a14-a228-941f9b8ae217\",\"type\":\"DatetimeTickFormatter\"},{\"attributes\":{\"overlay\":{\"id\":\"32d99567-b874-4832-8b33-b6fffc90099c\",\"type\":\"BoxAnnotation\"},\"plot\":{\"id\":\"e4402d0d-1629-4a3a-bc58-c1fd17e238d3\",\"subtype\":\"Figure\",\"type\":\"Plot\"}},\"id\":\"b73987b4-3244-45a3-8a0e-4e5f6bbe966d\",\"type\":\"BoxZoomTool\"},{\"attributes\":{\"plot\":{\"id\":\"e4402d0d-1629-4a3a-bc58-c1fd17e238d3\",\"subtype\":\"Figure\",\"type\":\"Plot\"}},\"id\":\"ab74d2d5-1876-4fa5-86e0-22742c7ba2cb\",\"type\":\"WheelZoomTool\"},{\"attributes\":{\"callback\":null},\"id\":\"a8ee7f3c-f654-4f7a-a82a-34db6ef53a43\",\"type\":\"DataRange1d\"},{\"attributes\":{\"plot\":{\"id\":\"e4402d0d-1629-4a3a-bc58-c1fd17e238d3\",\"subtype\":\"Figure\",\"type\":\"Plot\"}},\"id\":\"25b1efde-3098-4fd7-85bb-5d938ca96386\",\"type\":\"HelpTool\"},{\"attributes\":{\"months\":[0,2,4,6,8,10]},\"id\":\"b2f41603-80c3-4762-9fcd-f669ee91c4c7\",\"type\":\"MonthsTicker\"},{\"attributes\":{\"plot\":{\"id\":\"e4402d0d-1629-4a3a-bc58-c1fd17e238d3\",\"subtype\":\"Figure\",\"type\":\"Plot\"}},\"id\":\"4c177701-a0db-48f9-bed3-2e6cadef2cf0\",\"type\":\"ResetTool\"},{\"attributes\":{\"plot\":{\"id\":\"e4402d0d-1629-4a3a-bc58-c1fd17e238d3\",\"subtype\":\"Figure\",\"type\":\"Plot\"}},\"id\":\"830da2a8-08ec-4040-a9bb-b82a5a3e4c36\",\"type\":\"PreviewSaveTool\"},{\"attributes\":{\"base\":24,\"mantissas\":[1,2,4,6,8,12],\"max_interval\":43200000.0,\"min_interval\":3600000.0,\"num_minor_ticks\":0},\"id\":\"8196b23e-994a-4fd3-a05c-9a87d5ca5553\",\"type\":\"AdaptiveTicker\"},{\"attributes\":{\"days\":[1,4,7,10,13,16,19,22,25,28]},\"id\":\"0a8781d1-5e5a-4023-b421-ebd60838ff30\",\"type\":\"DaysTicker\"}],\"root_ids\":[\"e4402d0d-1629-4a3a-bc58-c1fd17e238d3\"]},\"title\":\"Bokeh Application\",\"version\":\"0.11.1\"}};\n",
       "            var render_items = [{\"docid\":\"6e9b2b58-c30d-4d66-88ac-34448d338406\",\"elementid\":\"d7e9cf64-95fb-4ce8-8336-57aa7ed4f408\",\"modelid\":\"e4402d0d-1629-4a3a-bc58-c1fd17e238d3\",\"notebook_comms_target\":\"ff789e9f-cc14-4ce8-ba63-e90e8e543b98\"}];\n",
       "            \n",
       "            Bokeh.embed.embed_items(docs_json, render_items);\n",
       "        });\n",
       "      },\n",
       "      function(Bokeh) {\n",
       "      }\n",
       "    ];\n",
       "  \n",
       "    function run_inline_js() {\n",
       "      for (var i = 0; i < inline_js.length; i++) {\n",
       "        inline_js[i](window.Bokeh);\n",
       "      }\n",
       "    }\n",
       "  \n",
       "    if (window._bokeh_is_loading === 0) {\n",
       "      console.log(\"Bokeh: BokehJS loaded, going straight to plotting\");\n",
       "      run_inline_js();\n",
       "    } else {\n",
       "      load_libs(js_urls, function() {\n",
       "        console.log(\"Bokeh: BokehJS plotting callback run at\", now());\n",
       "        run_inline_js();\n",
       "      });\n",
       "    }\n",
       "  }(this));\n",
       "</script>"
      ]
     },
     "metadata": {},
     "output_type": "display_data"
    },
    {
     "data": {
      "text/html": [
       "<p><code>&lt;Bokeh Notebook handle for <strong>In[16]</strong>&gt;</code></p>"
      ],
      "text/plain": [
       "<bokeh.io._CommsHandle at 0x7fdaee898fd0>"
      ]
     },
     "execution_count": 16,
     "metadata": {},
     "output_type": "execute_result"
    }
   ],
   "source": [
    "elevation = figure(\n",
    "    title=\"Elevation from last night run\", \n",
    "    background_fill_color=\"#E8DDCB\",\n",
    "    y_axis_label='Elevation (m)', \n",
    "    x_axis_label='Time',\n",
    "    x_axis_type=\"datetime\"\n",
    ")\n",
    "\n",
    "elevation.line(last_night.times, last_night.elevations)\n",
    "show(elevation)\n"
   ]
  },
  {
   "cell_type": "markdown",
   "metadata": {},
   "source": [
    "Very nice graph that looks just like the one I saw in Runkeeper. Now lets plot overall trends of all the runs."
   ]
  },
  {
   "cell_type": "code",
   "execution_count": 17,
   "metadata": {
    "collapsed": false
   },
   "outputs": [],
   "source": [
    "all_runs = Run.load_runs()"
   ]
  },
  {
   "cell_type": "code",
   "execution_count": 18,
   "metadata": {
    "collapsed": false,
    "scrolled": false
   },
   "outputs": [
    {
     "data": {
      "text/html": [
       "\n",
       "\n",
       "    <div class=\"plotdiv\" id=\"63a7da5b-cd57-4f8c-957e-1b72fddad051\"></div>\n",
       "<script type=\"text/javascript\">\n",
       "  \n",
       "  (function(global) {\n",
       "    function now() {\n",
       "      return new Date();\n",
       "    }\n",
       "  \n",
       "    if (typeof (window._bokeh_onload_callbacks) === \"undefined\") {\n",
       "      window._bokeh_onload_callbacks = [];\n",
       "    }\n",
       "  \n",
       "    function run_callbacks() {\n",
       "      window._bokeh_onload_callbacks.forEach(function(callback) { callback() });\n",
       "      delete window._bokeh_onload_callbacks\n",
       "      console.info(\"Bokeh: all callbacks have finished\");\n",
       "    }\n",
       "  \n",
       "    function load_libs(js_urls, callback) {\n",
       "      window._bokeh_onload_callbacks.push(callback);\n",
       "      if (window._bokeh_is_loading > 0) {\n",
       "        console.log(\"Bokeh: BokehJS is being loaded, scheduling callback at\", now());\n",
       "        return null;\n",
       "      }\n",
       "      if (js_urls == null || js_urls.length === 0) {\n",
       "        run_callbacks();\n",
       "        return null;\n",
       "      }\n",
       "      console.log(\"Bokeh: BokehJS not loaded, scheduling load and callback at\", now());\n",
       "      window._bokeh_is_loading = js_urls.length;\n",
       "      for (var i = 0; i < js_urls.length; i++) {\n",
       "        var url = js_urls[i];\n",
       "        var s = document.createElement('script');\n",
       "        s.src = url;\n",
       "        s.async = false;\n",
       "        s.onreadystatechange = s.onload = function() {\n",
       "          window._bokeh_is_loading--;\n",
       "          if (window._bokeh_is_loading === 0) {\n",
       "            console.log(\"Bokeh: all BokehJS libraries loaded\");\n",
       "            run_callbacks()\n",
       "          }\n",
       "        };\n",
       "        s.onerror = function() {\n",
       "          console.warn(\"failed to load library \" + url);\n",
       "        };\n",
       "        console.log(\"Bokeh: injecting script tag for BokehJS library: \", url);\n",
       "        document.getElementsByTagName(\"head\")[0].appendChild(s);\n",
       "      }\n",
       "    };var element = document.getElementById(\"63a7da5b-cd57-4f8c-957e-1b72fddad051\");\n",
       "    if (element == null) {\n",
       "      console.log(\"Bokeh: ERROR: autoload.js configured with elementid '63a7da5b-cd57-4f8c-957e-1b72fddad051' but no matching script tag was found. \")\n",
       "      return false;\n",
       "    }\n",
       "  \n",
       "    var js_urls = [];\n",
       "  \n",
       "    var inline_js = [\n",
       "      function(Bokeh) {\n",
       "        Bokeh.$(function() {\n",
       "            var docs_json = {\"2ae0d1e9-2d36-4722-962f-6060d03673ff\":{\"roots\":{\"references\":[{\"attributes\":{\"months\":[0,6]},\"id\":\"653c0351-2d23-455d-b6b4-fecc1a477cfc\",\"type\":\"MonthsTicker\"},{\"attributes\":{\"dimension\":1,\"plot\":{\"id\":\"e4402d0d-1629-4a3a-bc58-c1fd17e238d3\",\"subtype\":\"Figure\",\"type\":\"Plot\"},\"ticker\":{\"id\":\"a576bd97-77e5-447f-bd19-f7bc06644754\",\"type\":\"BasicTicker\"}},\"id\":\"975254be-903b-4d4f-aab4-f6c16a9f9d1d\",\"type\":\"Grid\"},{\"attributes\":{\"callback\":null,\"column_names\":[\"x\",\"y\"],\"data\":{\"x\":[1465328243000.0,1428148529000.0,1463844198000.0,1415554211000.0,1414697951000.0,1434131854000.0,1425920018000.0,1439056606000.0,1438106993000.0,1410246399000.0,1410099387000.0,1436643161000.0,1462128356000.0,1466880893000.0,1443172413000.0,1424372257000.0,1464635172000.0,1438457322000.0,1420981616000.0,1412445070000.0,1431286224000.0,1465587240000.0,1444075724000.0,1428233258000.0,1425674543000.0,1426191183000.0,1426607916000.0,1459889614000.0,1422467747000.0,1465060160000.0,1418056433000.0,1466349240000.0,1420741859000.0,1440791953000.0,1421776526000.0,1411542030000.0,1446030451000.0,1411201027000.0,1436301721000.0,1430762639000.0,1410547403000.0,1422038969000.0],\"y\":[5869.758041685876,2050.294537996982,5673.724969564729,5493.705520609242,5936.597828117186,4466.736025644979,8747.538975053558,7583.492622425234,4482.126354346572,1256.0139437106257,1465.8603370305834,5980.435447792143,5678.105548248082,5641.157399618419,1848.3031448360637,2102.6866123651434,4686.257052728707,9468.497064399835,4437.458852924772,5637.941600178236,5976.531944856669,10040.460857166941,9377.080509775602,4927.336038861122,12543.342213664968,9053.550749702497,9066.96676016255,9355.976346881262,6733.926622101581,5690.823548807764,3787.3912574156557,8943.501144715288,10096.597395845707,12190.74237889001,8190.534493570851,5721.8997620119135,7650.115555373454,2732.913143192231,4069.3537789534007,4580.658855378932,7770.535908053509,13061.254042482593]}},\"id\":\"6b2e2e93-e05b-4699-83f7-afd496e02446\",\"type\":\"ColumnDataSource\"},{\"attributes\":{},\"id\":\"72a91517-ee01-4d6c-9c19-8bd569521a97\",\"type\":\"BasicTicker\"},{\"attributes\":{\"max_interval\":500.0,\"num_minor_ticks\":0},\"id\":\"72176723-8b23-40b6-99b1-ecf5a1055fdd\",\"type\":\"AdaptiveTicker\"},{\"attributes\":{\"months\":[0,2,4,6,8,10]},\"id\":\"b2f41603-80c3-4762-9fcd-f669ee91c4c7\",\"type\":\"MonthsTicker\"},{\"attributes\":{\"bottom_units\":\"screen\",\"fill_alpha\":{\"value\":0.5},\"fill_color\":{\"value\":\"lightgrey\"},\"left_units\":\"screen\",\"level\":\"overlay\",\"line_alpha\":{\"value\":1.0},\"line_color\":{\"value\":\"black\"},\"line_dash\":[4,4],\"line_width\":{\"value\":2},\"plot\":null,\"render_mode\":\"css\",\"right_units\":\"screen\",\"top_units\":\"screen\"},\"id\":\"9a1381cb-25b5-404f-9314-c9bca5ba41a9\",\"type\":\"BoxAnnotation\"},{\"attributes\":{\"num_minor_ticks\":5},\"id\":\"a2670a78-e859-4260-8813-6d3d93ab7c44\",\"type\":\"DatetimeTicker\"},{\"attributes\":{\"base\":24,\"mantissas\":[1,2,4,6,8,12],\"max_interval\":43200000.0,\"min_interval\":3600000.0,\"num_minor_ticks\":0},\"id\":\"829507f3-d49d-4628-ac7d-cdb020a8f5bd\",\"type\":\"AdaptiveTicker\"},{\"attributes\":{\"data_source\":{\"id\":\"f0e7f289-00a3-49c8-b768-91e475ba784e\",\"type\":\"ColumnDataSource\"},\"glyph\":{\"id\":\"8c747b63-73ef-40fc-a13c-b7a1bc34769d\",\"type\":\"Line\"},\"hover_glyph\":null,\"nonselection_glyph\":{\"id\":\"7c143bd9-df09-4316-a6a0-567ba2c5b5e5\",\"type\":\"Line\"},\"selection_glyph\":null},\"id\":\"18b6108e-eec6-47ce-8724-c1e174f5f02a\",\"type\":\"GlyphRenderer\"},{\"attributes\":{},\"id\":\"05c23e80-ceaf-4b0d-86a1-6fd7d0890a62\",\"type\":\"YearsTicker\"},{\"attributes\":{\"plot\":{\"id\":\"dbe81b65-922c-4d83-bbd1-12cc496e1d0e\",\"subtype\":\"Figure\",\"type\":\"Plot\"},\"ticker\":{\"id\":\"11213ee7-7268-4d84-ae76-6245f10a3cc3\",\"type\":\"DatetimeTicker\"}},\"id\":\"df110571-7988-4922-a621-029476685a82\",\"type\":\"Grid\"},{\"attributes\":{},\"id\":\"145ad887-76f2-419e-b5c6-da6f19dc35eb\",\"type\":\"ToolEvents\"},{\"attributes\":{},\"id\":\"e8002c5e-2101-4c42-8ea2-086bff7cd360\",\"type\":\"DatetimeTickFormatter\"},{\"attributes\":{\"days\":[1,4,7,10,13,16,19,22,25,28]},\"id\":\"c3e6d560-ccb5-48b0-8222-32c2dbeafd9b\",\"type\":\"DaysTicker\"},{\"attributes\":{\"days\":[1,15]},\"id\":\"c5f3d99d-4f32-44e9-a94b-64c2c10035ce\",\"type\":\"DaysTicker\"},{\"attributes\":{\"axis_label\":\"Time\",\"formatter\":{\"id\":\"e8002c5e-2101-4c42-8ea2-086bff7cd360\",\"type\":\"DatetimeTickFormatter\"},\"plot\":{\"id\":\"dbe81b65-922c-4d83-bbd1-12cc496e1d0e\",\"subtype\":\"Figure\",\"type\":\"Plot\"},\"ticker\":{\"id\":\"11213ee7-7268-4d84-ae76-6245f10a3cc3\",\"type\":\"DatetimeTicker\"}},\"id\":\"5fe7c41d-9e58-49fd-bca0-349f05646a82\",\"type\":\"DatetimeAxis\"},{\"attributes\":{\"callback\":null},\"id\":\"f283b7d6-790d-419a-8223-c16ec8467562\",\"type\":\"DataRange1d\"},{\"attributes\":{\"plot\":{\"id\":\"e4402d0d-1629-4a3a-bc58-c1fd17e238d3\",\"subtype\":\"Figure\",\"type\":\"Plot\"}},\"id\":\"c30ced04-5998-44d5-9bc6-c9cc2e466315\",\"type\":\"ResizeTool\"},{\"attributes\":{\"days\":[1,2,3,4,5,6,7,8,9,10,11,12,13,14,15,16,17,18,19,20,21,22,23,24,25,26,27,28,29,30,31]},\"id\":\"6e9ee585-b9e9-4641-8864-6aadbc870d6e\",\"type\":\"DaysTicker\"},{\"attributes\":{},\"id\":\"add1cae2-233e-4a14-a228-941f9b8ae217\",\"type\":\"DatetimeTickFormatter\"},{\"attributes\":{\"base\":60,\"mantissas\":[1,2,5,10,15,20,30],\"max_interval\":1800000.0,\"min_interval\":1000.0,\"num_minor_ticks\":0},\"id\":\"cf3a928b-c0d5-4a20-9538-30be6c0866e9\",\"type\":\"AdaptiveTicker\"},{\"attributes\":{\"line_alpha\":{\"value\":0.1},\"line_color\":{\"value\":\"#1f77b4\"},\"x\":{\"field\":\"x\"},\"y\":{\"field\":\"y\"}},\"id\":\"7c143bd9-df09-4316-a6a0-567ba2c5b5e5\",\"type\":\"Line\"},{\"attributes\":{},\"id\":\"a576bd97-77e5-447f-bd19-f7bc06644754\",\"type\":\"BasicTicker\"},{\"attributes\":{\"plot\":{\"id\":\"dbe81b65-922c-4d83-bbd1-12cc496e1d0e\",\"subtype\":\"Figure\",\"type\":\"Plot\"}},\"id\":\"bcf524f9-992c-4558-9763-098012d2a57f\",\"type\":\"PreviewSaveTool\"},{\"attributes\":{\"callback\":null},\"id\":\"3adcda21-fdde-43da-b4ee-f4edad906963\",\"type\":\"DataRange1d\"},{\"attributes\":{\"plot\":{\"id\":\"dbe81b65-922c-4d83-bbd1-12cc496e1d0e\",\"subtype\":\"Figure\",\"type\":\"Plot\"}},\"id\":\"bcfce315-18ef-4628-a1ad-61e31d9a1d83\",\"type\":\"ResetTool\"},{\"attributes\":{\"days\":[1,2,3,4,5,6,7,8,9,10,11,12,13,14,15,16,17,18,19,20,21,22,23,24,25,26,27,28,29,30,31]},\"id\":\"0727d121-8ea3-4cdb-9d68-37933d4f226e\",\"type\":\"DaysTicker\"},{\"attributes\":{\"plot\":{\"id\":\"e4402d0d-1629-4a3a-bc58-c1fd17e238d3\",\"subtype\":\"Figure\",\"type\":\"Plot\"},\"ticker\":{\"id\":\"a2670a78-e859-4260-8813-6d3d93ab7c44\",\"type\":\"DatetimeTicker\"}},\"id\":\"fe5acaea-afbd-4896-bee9-a314453b2a5c\",\"type\":\"Grid\"},{\"attributes\":{\"overlay\":{\"id\":\"9a1381cb-25b5-404f-9314-c9bca5ba41a9\",\"type\":\"BoxAnnotation\"},\"plot\":{\"id\":\"dbe81b65-922c-4d83-bbd1-12cc496e1d0e\",\"subtype\":\"Figure\",\"type\":\"Plot\"}},\"id\":\"9fefabd4-bb07-49ad-8046-99ccd8f92dde\",\"type\":\"BoxZoomTool\"},{\"attributes\":{\"plot\":{\"id\":\"e4402d0d-1629-4a3a-bc58-c1fd17e238d3\",\"subtype\":\"Figure\",\"type\":\"Plot\"}},\"id\":\"ab74d2d5-1876-4fa5-86e0-22742c7ba2cb\",\"type\":\"WheelZoomTool\"},{\"attributes\":{\"plot\":{\"id\":\"dbe81b65-922c-4d83-bbd1-12cc496e1d0e\",\"subtype\":\"Figure\",\"type\":\"Plot\"}},\"id\":\"c3e6eb24-f47b-483f-acdc-b2c191232104\",\"type\":\"PanTool\"},{\"attributes\":{\"dimension\":1,\"plot\":{\"id\":\"dbe81b65-922c-4d83-bbd1-12cc496e1d0e\",\"subtype\":\"Figure\",\"type\":\"Plot\"},\"ticker\":{\"id\":\"72a91517-ee01-4d6c-9c19-8bd569521a97\",\"type\":\"BasicTicker\"}},\"id\":\"9f03545e-b82b-4a93-bdf3-aee6728c8682\",\"type\":\"Grid\"},{\"attributes\":{\"months\":[0,2,4,6,8,10]},\"id\":\"d8a801a2-07d2-4016-bbc1-e70b2ac7e757\",\"type\":\"MonthsTicker\"},{\"attributes\":{\"callback\":null},\"id\":\"3baff894-66a0-4a69-ac0a-1926acd7bf45\",\"type\":\"DataRange1d\"},{\"attributes\":{\"axis_label\":\"Time\",\"formatter\":{\"id\":\"add1cae2-233e-4a14-a228-941f9b8ae217\",\"type\":\"DatetimeTickFormatter\"},\"plot\":{\"id\":\"e4402d0d-1629-4a3a-bc58-c1fd17e238d3\",\"subtype\":\"Figure\",\"type\":\"Plot\"},\"ticker\":{\"id\":\"a2670a78-e859-4260-8813-6d3d93ab7c44\",\"type\":\"DatetimeTicker\"}},\"id\":\"8bcf7c10-dcce-4afd-8b3f-05478bd6379e\",\"type\":\"DatetimeAxis\"},{\"attributes\":{\"days\":[1,4,7,10,13,16,19,22,25,28]},\"id\":\"0a8781d1-5e5a-4023-b421-ebd60838ff30\",\"type\":\"DaysTicker\"},{\"attributes\":{\"months\":[0,4,8]},\"id\":\"379fc93e-520f-4016-9dfd-e0608c516514\",\"type\":\"MonthsTicker\"},{\"attributes\":{\"background_fill_color\":{\"value\":\"#E8DDCB\"},\"below\":[{\"id\":\"8bcf7c10-dcce-4afd-8b3f-05478bd6379e\",\"type\":\"DatetimeAxis\"}],\"left\":[{\"id\":\"6ba80015-299a-4ce2-b655-031841138d0c\",\"type\":\"LinearAxis\"}],\"renderers\":[{\"id\":\"8bcf7c10-dcce-4afd-8b3f-05478bd6379e\",\"type\":\"DatetimeAxis\"},{\"id\":\"fe5acaea-afbd-4896-bee9-a314453b2a5c\",\"type\":\"Grid\"},{\"id\":\"6ba80015-299a-4ce2-b655-031841138d0c\",\"type\":\"LinearAxis\"},{\"id\":\"975254be-903b-4d4f-aab4-f6c16a9f9d1d\",\"type\":\"Grid\"},{\"id\":\"32d99567-b874-4832-8b33-b6fffc90099c\",\"type\":\"BoxAnnotation\"},{\"id\":\"18b6108e-eec6-47ce-8724-c1e174f5f02a\",\"type\":\"GlyphRenderer\"}],\"title\":\"Elevation from last night run\",\"tool_events\":{\"id\":\"145ad887-76f2-419e-b5c6-da6f19dc35eb\",\"type\":\"ToolEvents\"},\"tools\":[{\"id\":\"9172f81b-f377-425e-a309-a4ff828827ca\",\"type\":\"PanTool\"},{\"id\":\"ab74d2d5-1876-4fa5-86e0-22742c7ba2cb\",\"type\":\"WheelZoomTool\"},{\"id\":\"b73987b4-3244-45a3-8a0e-4e5f6bbe966d\",\"type\":\"BoxZoomTool\"},{\"id\":\"830da2a8-08ec-4040-a9bb-b82a5a3e4c36\",\"type\":\"PreviewSaveTool\"},{\"id\":\"c30ced04-5998-44d5-9bc6-c9cc2e466315\",\"type\":\"ResizeTool\"},{\"id\":\"4c177701-a0db-48f9-bed3-2e6cadef2cf0\",\"type\":\"ResetTool\"},{\"id\":\"25b1efde-3098-4fd7-85bb-5d938ca96386\",\"type\":\"HelpTool\"}],\"x_range\":{\"id\":\"a8ee7f3c-f654-4f7a-a82a-34db6ef53a43\",\"type\":\"DataRange1d\"},\"y_range\":{\"id\":\"3adcda21-fdde-43da-b4ee-f4edad906963\",\"type\":\"DataRange1d\"}},\"id\":\"e4402d0d-1629-4a3a-bc58-c1fd17e238d3\",\"subtype\":\"Figure\",\"type\":\"Plot\"},{\"attributes\":{\"days\":[1,8,15,22]},\"id\":\"35e1640b-6643-4be5-b4ba-9f547b519d0a\",\"type\":\"DaysTicker\"},{\"attributes\":{\"months\":[0,1,2,3,4,5,6,7,8,9,10,11]},\"id\":\"1e8a2899-d334-4a9f-913a-6e192d796095\",\"type\":\"MonthsTicker\"},{\"attributes\":{\"plot\":{\"id\":\"e4402d0d-1629-4a3a-bc58-c1fd17e238d3\",\"subtype\":\"Figure\",\"type\":\"Plot\"}},\"id\":\"25b1efde-3098-4fd7-85bb-5d938ca96386\",\"type\":\"HelpTool\"},{\"attributes\":{\"months\":[0,1,2,3,4,5,6,7,8,9,10,11]},\"id\":\"97baa119-4d11-4df7-ae5c-f8ef2cf5131e\",\"type\":\"MonthsTicker\"},{\"attributes\":{\"background_fill_color\":{\"value\":\"#E8DDCB\"},\"below\":[{\"id\":\"5fe7c41d-9e58-49fd-bca0-349f05646a82\",\"type\":\"DatetimeAxis\"}],\"left\":[{\"id\":\"fda4cfda-b76c-48b9-93db-b2a8d8eee43f\",\"type\":\"LinearAxis\"}],\"renderers\":[{\"id\":\"5fe7c41d-9e58-49fd-bca0-349f05646a82\",\"type\":\"DatetimeAxis\"},{\"id\":\"df110571-7988-4922-a621-029476685a82\",\"type\":\"Grid\"},{\"id\":\"fda4cfda-b76c-48b9-93db-b2a8d8eee43f\",\"type\":\"LinearAxis\"},{\"id\":\"9f03545e-b82b-4a93-bdf3-aee6728c8682\",\"type\":\"Grid\"},{\"id\":\"9a1381cb-25b5-404f-9314-c9bca5ba41a9\",\"type\":\"BoxAnnotation\"},{\"id\":\"c5071262-9a06-4098-bded-6cdd7b46e10e\",\"type\":\"GlyphRenderer\"}],\"title\":\"Distances run over time\",\"tool_events\":{\"id\":\"fda6d599-9462-48ac-901f-cb3ee74c708e\",\"type\":\"ToolEvents\"},\"tools\":[{\"id\":\"c3e6eb24-f47b-483f-acdc-b2c191232104\",\"type\":\"PanTool\"},{\"id\":\"2016d9bf-f5ac-4f62-962f-2f80f65e2c35\",\"type\":\"WheelZoomTool\"},{\"id\":\"9fefabd4-bb07-49ad-8046-99ccd8f92dde\",\"type\":\"BoxZoomTool\"},{\"id\":\"bcf524f9-992c-4558-9763-098012d2a57f\",\"type\":\"PreviewSaveTool\"},{\"id\":\"c63a5c84-19af-4221-8e7a-ac034b8b6f9e\",\"type\":\"ResizeTool\"},{\"id\":\"bcfce315-18ef-4628-a1ad-61e31d9a1d83\",\"type\":\"ResetTool\"},{\"id\":\"1f3b9931-e2a6-41f3-b12d-a768a5963174\",\"type\":\"HelpTool\"}],\"x_range\":{\"id\":\"3baff894-66a0-4a69-ac0a-1926acd7bf45\",\"type\":\"DataRange1d\"},\"y_range\":{\"id\":\"f283b7d6-790d-419a-8223-c16ec8467562\",\"type\":\"DataRange1d\"}},\"id\":\"dbe81b65-922c-4d83-bbd1-12cc496e1d0e\",\"subtype\":\"Figure\",\"type\":\"Plot\"},{\"attributes\":{\"fill_color\":{\"value\":\"#1f77b4\"},\"line_color\":{\"value\":\"#1f77b4\"},\"x\":{\"field\":\"x\"},\"y\":{\"field\":\"y\"}},\"id\":\"0da87f04-1941-4494-8e0a-24eee2d6107b\",\"type\":\"Circle\"},{\"attributes\":{},\"id\":\"ed43ace4-b9c2-4035-bb4e-d40bb8d6d5b4\",\"type\":\"BasicTickFormatter\"},{\"attributes\":{\"fill_alpha\":{\"value\":0.1},\"fill_color\":{\"value\":\"#1f77b4\"},\"line_alpha\":{\"value\":0.1},\"line_color\":{\"value\":\"#1f77b4\"},\"x\":{\"field\":\"x\"},\"y\":{\"field\":\"y\"}},\"id\":\"5ca14d5b-071a-4ea5-88f3-79215523806d\",\"type\":\"Circle\"},{\"attributes\":{\"days\":[1,8,15,22]},\"id\":\"31ad8910-2aab-4960-8fa5-006ba0743129\",\"type\":\"DaysTicker\"},{\"attributes\":{\"callback\":null,\"column_names\":[\"x\",\"y\"],\"data\":{\"x\":[1466880893000.0,1466880895000.0,1466880898000.0,1466880911000.0,1466880918000.0,1466880929000.0,1466880933000.0,1466880936000.0,1466880939000.0,1466880942000.0,1466880945000.0,1466880948000.0,1466880951000.0,1466880954000.0,1466880957000.0,1466880960000.0,1466880964000.0,1466880967000.0,1466880970000.0,1466880973000.0,1466880976000.0,1466880980000.0,1466880983000.0,1466880987000.0,1466880991000.0,1466880995000.0,1466880999000.0,1466881003000.0,1466881006000.0,1466881009000.0,1466881012000.0,1466881015000.0,1466881018000.0,1466881021000.0,1466881024000.0,1466881027000.0,1466881031000.0,1466881034000.0,1466881038000.0,1466881071000.0,1466881074000.0,1466881077000.0,1466881080000.0,1466881082000.0,1466881085000.0,1466881088000.0,1466881091000.0,1466881094000.0,1466881097000.0,1466881100000.0,1466881103000.0,1466881106000.0,1466881109000.0,1466881112000.0,1466881116000.0,1466881138000.0,1466881141000.0,1466881144000.0,1466881147000.0,1466881150000.0,1466881153000.0,1466881156000.0,1466881159000.0,1466881162000.0,1466881165000.0,1466881168000.0,1466881171000.0,1466881175000.0,1466881178000.0,1466881181000.0,1466881184000.0,1466881187000.0,1466881190000.0,1466881193000.0,1466881196000.0,1466881200000.0,1466881214000.0,1466881222000.0,1466881226000.0,1466881229000.0,1466881232000.0,1466881235000.0,1466881238000.0,1466881241000.0,1466881244000.0,1466881247000.0,1466881250000.0,1466881253000.0,1466881256000.0,1466881259000.0,1466881262000.0,1466881265000.0,1466881268000.0,1466881271000.0,1466881274000.0,1466881285000.0,1466881301000.0,1466881304000.0,1466881307000.0,1466881309000.0,1466881312000.0,1466881315000.0,1466881318000.0,1466881322000.0,1466881325000.0,1466881328000.0,1466881331000.0,1466881335000.0,1466881350000.0,1466881358000.0,1466881361000.0,1466881364000.0,1466881367000.0,1466881370000.0,1466881373000.0,1466881376000.0,1466881379000.0,1466881383000.0,1466881386000.0,1466881389000.0,1466881392000.0,1466881396000.0,1466881400000.0,1466881403000.0,1466881406000.0,1466881409000.0,1466881412000.0,1466881437000.0,1466881447000.0,1466881451000.0,1466881454000.0,1466881457000.0,1466881460000.0,1466881463000.0,1466881466000.0,1466881469000.0,1466881472000.0,1466881475000.0,1466881478000.0,1466881480000.0,1466881483000.0,1466881486000.0,1466881489000.0,1466881492000.0,1466881495000.0,1466881498000.0,1466881501000.0,1466881504000.0,1466881507000.0,1466881510000.0,1466881513000.0,1466881516000.0,1466881520000.0,1466881523000.0,1466881526000.0,1466881530000.0,1466881534000.0,1466881544000.0,1466881556000.0,1466881564000.0,1466881571000.0,1466881578000.0,1466881586000.0,1466881597000.0,1466881604000.0,1466881613000.0,1466881621000.0,1466881624000.0,1466881627000.0,1466881631000.0,1466881635000.0,1466881639000.0,1466881643000.0,1466881647000.0,1466881651000.0,1466881655000.0,1466881659000.0,1466881663000.0,1466881683000.0,1466881690000.0,1466881694000.0,1466881698000.0,1466881702000.0,1466881707000.0,1466881712000.0,1466881717000.0,1466881722000.0,1466881726000.0,1466881732000.0,1466881737000.0,1466881741000.0,1466881746000.0,1466881751000.0,1466881759000.0,1466881769000.0,1466881780000.0,1466881789000.0,1466881797000.0,1466881807000.0,1466881813000.0,1466881817000.0,1466881821000.0,1466881826000.0,1466881868000.0,1466881872000.0,1466881877000.0,1466881881000.0,1466881885000.0,1466881889000.0,1466881893000.0,1466881897000.0,1466881903000.0,1466881908000.0,1466881913000.0,1466881919000.0,1466881945000.0,1466881957000.0,1466881961000.0,1466881965000.0,1466881970000.0,1466881997000.0,1466882002000.0,1466882040000.0,1466882045000.0,1466882050000.0,1466882056000.0,1466882061000.0,1466882067000.0,1466882072000.0,1466882076000.0,1466882080000.0,1466882083000.0,1466882087000.0,1466882092000.0,1466882097000.0,1466882102000.0,1466882107000.0,1466882111000.0,1466882144000.0,1466882166000.0,1466882175000.0,1466882183000.0,1466882222000.0,1466882326000.0,1466882332000.0,1466882336000.0,1466882339000.0,1466882342000.0,1466882345000.0,1466882348000.0,1466882352000.0,1466882356000.0,1466882360000.0,1466882364000.0,1466882368000.0,1466882373000.0,1466882378000.0,1466882383000.0,1466882387000.0,1466882391000.0,1466882395000.0,1466882399000.0,1466882404000.0,1466882420000.0,1466882424000.0,1466882428000.0,1466882432000.0,1466882436000.0,1466882441000.0,1466882446000.0,1466882452000.0,1466882456000.0,1466882460000.0,1466882464000.0,1466882468000.0,1466882472000.0,1466882476000.0,1466882480000.0,1466882485000.0,1466882490000.0,1466882494000.0,1466882500000.0,1466882506000.0,1466882511000.0,1466882518000.0,1466882527000.0,1466882540000.0,1466882545000.0,1466882550000.0,1466882555000.0,1466882562000.0,1466882568000.0,1466882573000.0,1466882578000.0,1466882584000.0,1466882589000.0,1466882604000.0,1466882643000.0,1466882654000.0,1466882662000.0,1466882666000.0,1466882669000.0,1466882673000.0,1466882677000.0,1466882681000.0,1466882687000.0,1466882692000.0,1466882697000.0,1466882732000.0,1466882737000.0,1466882743000.0,1466882748000.0,1466882752000.0,1466882758000.0,1466882764000.0,1466882770000.0,1466882799000.0,1466882803000.0,1466882806000.0,1466882809000.0,1466882812000.0,1466882816000.0,1466882820000.0,1466882824000.0,1466882829000.0,1466882832000.0,1466882835000.0,1466882839000.0,1466882842000.0,1466882846000.0,1466882850000.0,1466882854000.0,1466882858000.0,1466882863000.0,1466882867000.0,1466882871000.0,1466882876000.0,1466882883000.0,1466882892000.0,1466882902000.0,1466882933000.0,1466882937000.0,1466882941000.0,1466882945000.0,1466882949000.0,1466882953000.0,1466882957000.0,1466882961000.0,1466882965000.0,1466882969000.0,1466882993000.0,1466882997000.0,1466883001000.0,1466883005000.0,1466883009000.0,1466883014000.0,1466883019000.0,1466883024000.0,1466883028000.0,1466883032000.0,1466883036000.0,1466883040000.0,1466883044000.0,1466883048000.0,1466883052000.0,1466883057000.0,1466883062000.0,1466883082000.0,1466883098000.0,1466883102000.0,1466883106000.0,1466883109000.0,1466883112000.0,1466883116000.0,1466883120000.0,1466883124000.0,1466883129000.0,1466883135000.0,1466883142000.0,1466883150000.0,1466883161000.0,1466883169000.0,1466883174000.0,1466883179000.0,1466883183000.0,1466883186000.0,1466883189000.0,1466883193000.0,1466883196000.0,1466883199000.0,1466883203000.0,1466883209000.0,1466883213000.0,1466883217000.0,1466883221000.0,1466883225000.0,1466883229000.0,1466883233000.0,1466883238000.0,1466883243000.0,1466883247000.0,1466883250000.0,1466883253000.0,1466883257000.0,1466883260000.0,1466883264000.0,1466883269000.0,1466883274000.0,1466883296000.0,1466883301000.0,1466883304000.0,1466883308000.0,1466883314000.0,1466883319000.0,1466883323000.0,1466883326000.0,1466883329000.0,1466883333000.0,1466883337000.0,1466883341000.0,1466883345000.0,1466883349000.0,1466883353000.0,1466883358000.0,1466883363000.0,1466883368000.0,1466883374000.0,1466883380000.0,1466883385000.0,1466883390000.0,1466883394000.0,1466883399000.0,1466883413000.0,1466883430000.0,1466883439000.0,1466883448000.0,1466883452000.0,1466883456000.0,1466883460000.0,1466883464000.0,1466883468000.0,1466883473000.0,1466883478000.0,1466883483000.0,1466883489000.0,1466883494000.0,1466883498000.0,1466883502000.0,1466883507000.0,1466883513000.0,1466883518000.0,1466883523000.0,1466883558000.0,1466883562000.0,1466883566000.0,1466883570000.0,1466883574000.0,1466883578000.0,1466883582000.0,1466883587000.0,1466883592000.0,1466883598000.0,1466883605000.0,1466883612000.0,1466883620000.0,1466883630000.0,1466883642000.0,1466883650000.0,1466883659000.0,1466883667000.0,1466883676000.0,1466883684000.0,1466883692000.0,1466883700000.0,1466883709000.0,1466883719000.0,1466883728000.0,1466883736000.0,1466883743000.0,1466883753000.0,1466883763000.0,1466883772000.0,1466883781000.0,1466883789000.0,1466883799000.0,1466883807000.0,1466883817000.0,1466883828000.0,1466883836000.0,1466883844000.0,1466883852000.0,1466883861000.0,1466883871000.0,1466883879000.0,1466883888000.0,1466883897000.0,1466883904000.0,1466883915000.0,1466883941000.0],\"y\":[327.0,326.7,326.5,326.3,325.9,325.5,325.0,324.5,323.9,323.2,322.7,322.3,321.8,321.4,320.9,320.5,320.2,319.8,319.5,319.1,318.9,318.7,318.5,318.4,318.2,318.0,318.0,318.0,318.0,318.0,317.3,316.5,315.8,315.1,314.4,313.6,312.9,312.2,311.5,310.7,310.0,309.4,308.7,308.1,307.5,306.8,306.2,305.5,304.9,304.0,303.1,302.2,301.9,301.6,301.4,301.0,300.6,300.3,299.7,299.2,298.9,298.6,298.4,298.1,297.8,297.5,297.1,296.6,296.2,295.9,295.6,295.3,294.9,294.5,294.2,293.8,293.5,293.4,293.3,293.2,293.1,293.0,292.9,292.5,292.2,291.8,291.5,291.1,290.7,290.4,290.0,289.6,289.4,289.2,289.3,289.4,289.5,289.5,289.6,289.7,289.6,289.5,289.5,289.3,289.1,288.9,288.7,288.5,288.3,288.0,287.7,287.6,287.5,287.5,287.4,287.3,286.9,286.5,286.2,285.7,285.3,284.8,284.4,283.9,283.5,283.0,282.5,282.4,282.2,282.0,282.0,282.0,282.0,281.8,281.6,281.5,281.2,280.9,280.5,280.2,279.8,279.5,279.1,278.7,278.5,278.2,277.9,277.7,277.5,277.5,277.4,277.3,277.0,276.7,276.5,276.3,276.1,275.9,275.7,275.5,275.4,275.2,275.0,275.0,275.0,275.0,275.0,275.2,275.4,275.5,275.7,275.9,276.1,276.3,276.5,276.6,276.8,277.2,277.4,277.5,277.7,277.9,278.1,278.3,278.5,278.6,279.0,279.4,279.5,279.7,279.9,280.1,280.3,280.5,280.6,280.8,281.1,281.4,281.6,281.9,282.2,282.5,282.7,283.0,283.3,283.7,284.5,285.1,285.5,286.0,286.5,286.9,287.4,287.8,288.7,289.6,290.4,290.8,291.6,292.5,293.3,294.1,294.9,295.9,296.9,297.5,298.0,298.5,299.1,299.5,299.8,300.4,300.9,301.5,301.8,302.2,302.5,302.9,303.3,303.6,303.8,304.0,304.0,304.0,304.3,304.5,304.8,305.1,305.4,305.6,305.9,306.2,306.5,306.7,307.0,307.0,307.4,307.7,308.1,308.5,309.0,309.5,309.9,310.4,310.8,311.3,311.7,311.8,311.9,312.0,312.0,312.0,312.3,312.5,312.8,313.1,313.4,313.8,314.3,314.7,315.2,315.6,316.1,316.3,316.6,317.0,317.4,318.2,318.8,319.5,320.1,320.9,321.7,322.5,323.4,324.0,324.6,325.3,325.6,326.0,326.7,327.5,328.0,328.5,329.1,329.6,330.5,331.3,332.1,332.7,333.4,333.6,333.6,333.6,333.6,333.6,333.6,333.4,332.9,332.5,332.0,331.5,331.1,330.9,330.5,330.2,329.8,329.5,329.1,328.9,328.7,328.5,328.4,328.2,328.0,328.0,328.0,328.0,328.0,328.0,328.1,328.2,328.3,328.4,328.5,328.5,328.6,328.7,328.8,328.9,329.0,328.9,328.8,328.7,328.6,328.5,328.5,328.4,328.3,328.2,328.1,328.0,328.0,328.0,328.0,328.0,328.0,328.0,328.0,328.0,328.0,327.7,327.5,327.2,326.9,326.6,326.4,325.9,325.5,325.0,324.5,324.1,323.9,323.2,322.5,321.7,321.0,321.2,321.5,321.4,321.2,321.0,320.8,320.6,321.0,320.6,320.3,319.9,318.6,317.4,316.0,314.6,313.3,311.9,310.5,309.2,308.5,307.7,307.0,306.3,305.5,305.4,305.2,305.0,304.8,304.6,304.5,304.5,304.5,304.5,304.5,304.5,304.6,304.8,305.0,305.2,305.4,305.5,305.8,306.1,306.4,306.6,306.9,307.2,307.5,307.7,308.0,308.3,308.5,308.9,309.3,309.6,310.0,310.4,310.8,311.3,311.7,312.2,312.6,313.1,313.5,313.8,314.2,314.0,314.4,314.7,315.1,315.5,315.8,316.2,316.5,316.7,316.9,317.1,317.8,318.0,318.0,318.0,318.0,318.0,318.0,318.0,318.0,318.2,318.4,318.5,318.7,318.9,319.1,319.5,319.8,320.2,320.5,320.9,321.4,321.8,322.3,322.7,323.2,323.6,324.2,324.7,325.3,325.8,326.2,326.3,326.5,326.7,327.0]}},\"id\":\"f0e7f289-00a3-49c8-b768-91e475ba784e\",\"type\":\"ColumnDataSource\"},{\"attributes\":{\"days\":[1,15]},\"id\":\"2c8f4dce-9ee3-4324-9608-fc55165bcda1\",\"type\":\"DaysTicker\"},{\"attributes\":{\"axis_label\":\"Elevation (m)\",\"formatter\":{\"id\":\"ed43ace4-b9c2-4035-bb4e-d40bb8d6d5b4\",\"type\":\"BasicTickFormatter\"},\"plot\":{\"id\":\"e4402d0d-1629-4a3a-bc58-c1fd17e238d3\",\"subtype\":\"Figure\",\"type\":\"Plot\"},\"ticker\":{\"id\":\"a576bd97-77e5-447f-bd19-f7bc06644754\",\"type\":\"BasicTicker\"}},\"id\":\"6ba80015-299a-4ce2-b655-031841138d0c\",\"type\":\"LinearAxis\"},{\"attributes\":{\"num_minor_ticks\":5},\"id\":\"11213ee7-7268-4d84-ae76-6245f10a3cc3\",\"type\":\"DatetimeTicker\"},{\"attributes\":{\"months\":[0,6]},\"id\":\"9e019e22-f05e-4685-9808-0c79da6a4901\",\"type\":\"MonthsTicker\"},{\"attributes\":{\"line_color\":{\"value\":\"#1f77b4\"},\"x\":{\"field\":\"x\"},\"y\":{\"field\":\"y\"}},\"id\":\"8c747b63-73ef-40fc-a13c-b7a1bc34769d\",\"type\":\"Line\"},{\"attributes\":{\"months\":[0,4,8]},\"id\":\"49a3d352-3864-4d4a-94ff-9d248df9b1c3\",\"type\":\"MonthsTicker\"},{\"attributes\":{\"plot\":{\"id\":\"dbe81b65-922c-4d83-bbd1-12cc496e1d0e\",\"subtype\":\"Figure\",\"type\":\"Plot\"}},\"id\":\"c63a5c84-19af-4221-8e7a-ac034b8b6f9e\",\"type\":\"ResizeTool\"},{\"attributes\":{\"bottom_units\":\"screen\",\"fill_alpha\":{\"value\":0.5},\"fill_color\":{\"value\":\"lightgrey\"},\"left_units\":\"screen\",\"level\":\"overlay\",\"line_alpha\":{\"value\":1.0},\"line_color\":{\"value\":\"black\"},\"line_dash\":[4,4],\"line_width\":{\"value\":2},\"plot\":null,\"render_mode\":\"css\",\"right_units\":\"screen\",\"top_units\":\"screen\"},\"id\":\"32d99567-b874-4832-8b33-b6fffc90099c\",\"type\":\"BoxAnnotation\"},{\"attributes\":{\"plot\":{\"id\":\"e4402d0d-1629-4a3a-bc58-c1fd17e238d3\",\"subtype\":\"Figure\",\"type\":\"Plot\"}},\"id\":\"9172f81b-f377-425e-a309-a4ff828827ca\",\"type\":\"PanTool\"},{\"attributes\":{\"plot\":{\"id\":\"dbe81b65-922c-4d83-bbd1-12cc496e1d0e\",\"subtype\":\"Figure\",\"type\":\"Plot\"}},\"id\":\"1f3b9931-e2a6-41f3-b12d-a768a5963174\",\"type\":\"HelpTool\"},{\"attributes\":{},\"id\":\"347bd9ef-5cc7-4355-8d25-175f56173844\",\"type\":\"YearsTicker\"},{\"attributes\":{},\"id\":\"fda6d599-9462-48ac-901f-cb3ee74c708e\",\"type\":\"ToolEvents\"},{\"attributes\":{\"axis_label\":\"Distance (m)\",\"formatter\":{\"id\":\"ffe09a9a-15f1-4f1a-97cf-34a8e9aab835\",\"type\":\"BasicTickFormatter\"},\"plot\":{\"id\":\"dbe81b65-922c-4d83-bbd1-12cc496e1d0e\",\"subtype\":\"Figure\",\"type\":\"Plot\"},\"ticker\":{\"id\":\"72a91517-ee01-4d6c-9c19-8bd569521a97\",\"type\":\"BasicTicker\"}},\"id\":\"fda4cfda-b76c-48b9-93db-b2a8d8eee43f\",\"type\":\"LinearAxis\"},{\"attributes\":{\"base\":60,\"mantissas\":[1,2,5,10,15,20,30],\"max_interval\":1800000.0,\"min_interval\":1000.0,\"num_minor_ticks\":0},\"id\":\"9178a1e7-4d18-424b-9d51-bf3f61a0a34f\",\"type\":\"AdaptiveTicker\"},{\"attributes\":{},\"id\":\"ffe09a9a-15f1-4f1a-97cf-34a8e9aab835\",\"type\":\"BasicTickFormatter\"},{\"attributes\":{\"plot\":{\"id\":\"dbe81b65-922c-4d83-bbd1-12cc496e1d0e\",\"subtype\":\"Figure\",\"type\":\"Plot\"}},\"id\":\"2016d9bf-f5ac-4f62-962f-2f80f65e2c35\",\"type\":\"WheelZoomTool\"},{\"attributes\":{\"overlay\":{\"id\":\"32d99567-b874-4832-8b33-b6fffc90099c\",\"type\":\"BoxAnnotation\"},\"plot\":{\"id\":\"e4402d0d-1629-4a3a-bc58-c1fd17e238d3\",\"subtype\":\"Figure\",\"type\":\"Plot\"}},\"id\":\"b73987b4-3244-45a3-8a0e-4e5f6bbe966d\",\"type\":\"BoxZoomTool\"},{\"attributes\":{\"callback\":null},\"id\":\"a8ee7f3c-f654-4f7a-a82a-34db6ef53a43\",\"type\":\"DataRange1d\"},{\"attributes\":{\"data_source\":{\"id\":\"6b2e2e93-e05b-4699-83f7-afd496e02446\",\"type\":\"ColumnDataSource\"},\"glyph\":{\"id\":\"0da87f04-1941-4494-8e0a-24eee2d6107b\",\"type\":\"Circle\"},\"hover_glyph\":null,\"nonselection_glyph\":{\"id\":\"5ca14d5b-071a-4ea5-88f3-79215523806d\",\"type\":\"Circle\"},\"selection_glyph\":null},\"id\":\"c5071262-9a06-4098-bded-6cdd7b46e10e\",\"type\":\"GlyphRenderer\"},{\"attributes\":{\"plot\":{\"id\":\"e4402d0d-1629-4a3a-bc58-c1fd17e238d3\",\"subtype\":\"Figure\",\"type\":\"Plot\"}},\"id\":\"4c177701-a0db-48f9-bed3-2e6cadef2cf0\",\"type\":\"ResetTool\"},{\"attributes\":{\"plot\":{\"id\":\"e4402d0d-1629-4a3a-bc58-c1fd17e238d3\",\"subtype\":\"Figure\",\"type\":\"Plot\"}},\"id\":\"830da2a8-08ec-4040-a9bb-b82a5a3e4c36\",\"type\":\"PreviewSaveTool\"},{\"attributes\":{\"base\":24,\"mantissas\":[1,2,4,6,8,12],\"max_interval\":43200000.0,\"min_interval\":3600000.0,\"num_minor_ticks\":0},\"id\":\"8196b23e-994a-4fd3-a05c-9a87d5ca5553\",\"type\":\"AdaptiveTicker\"},{\"attributes\":{\"max_interval\":500.0,\"num_minor_ticks\":0},\"id\":\"b6240a42-ad54-4399-808e-4aaa5d7acf00\",\"type\":\"AdaptiveTicker\"}],\"root_ids\":[\"e4402d0d-1629-4a3a-bc58-c1fd17e238d3\",\"dbe81b65-922c-4d83-bbd1-12cc496e1d0e\"]},\"title\":\"Bokeh Application\",\"version\":\"0.11.1\"}};\n",
       "            var render_items = [{\"docid\":\"2ae0d1e9-2d36-4722-962f-6060d03673ff\",\"elementid\":\"63a7da5b-cd57-4f8c-957e-1b72fddad051\",\"modelid\":\"dbe81b65-922c-4d83-bbd1-12cc496e1d0e\",\"notebook_comms_target\":\"d27250af-18a7-495b-bf2c-87021791f0c5\"}];\n",
       "            \n",
       "            Bokeh.embed.embed_items(docs_json, render_items);\n",
       "        });\n",
       "      },\n",
       "      function(Bokeh) {\n",
       "      }\n",
       "    ];\n",
       "  \n",
       "    function run_inline_js() {\n",
       "      for (var i = 0; i < inline_js.length; i++) {\n",
       "        inline_js[i](window.Bokeh);\n",
       "      }\n",
       "    }\n",
       "  \n",
       "    if (window._bokeh_is_loading === 0) {\n",
       "      console.log(\"Bokeh: BokehJS loaded, going straight to plotting\");\n",
       "      run_inline_js();\n",
       "    } else {\n",
       "      load_libs(js_urls, function() {\n",
       "        console.log(\"Bokeh: BokehJS plotting callback run at\", now());\n",
       "        run_inline_js();\n",
       "      });\n",
       "    }\n",
       "  }(this));\n",
       "</script>"
      ]
     },
     "metadata": {},
     "output_type": "display_data"
    },
    {
     "data": {
      "text/html": [
       "<p><code>&lt;Bokeh Notebook handle for <strong>In[18]</strong>&gt;</code></p>"
      ],
      "text/plain": [
       "<bokeh.io._CommsHandle at 0x7fdaed53b438>"
      ]
     },
     "execution_count": 18,
     "metadata": {},
     "output_type": "execute_result"
    }
   ],
   "source": [
    "distances = [r.distance_total for r in all_runs]\n",
    "times = [r.start for r in all_runs]\n",
    "\n",
    "p = figure(\n",
    "    title=\"Distances run over time\", \n",
    "    background_fill_color=\"#E8DDCB\",\n",
    "    y_axis_label='Distance (m)', \n",
    "    x_axis_label='Time',\n",
    "    x_axis_type=\"datetime\"\n",
    ")\n",
    "\n",
    "p.circle(times, distances)\n",
    "show(p)"
   ]
  },
  {
   "cell_type": "code",
   "execution_count": 19,
   "metadata": {
    "collapsed": false
   },
   "outputs": [
    {
     "data": {
      "text/html": [
       "\n",
       "\n",
       "    <div class=\"plotdiv\" id=\"0dd8ac9d-bdf5-46ac-8432-87fc7ded3cb9\"></div>\n",
       "<script type=\"text/javascript\">\n",
       "  \n",
       "  (function(global) {\n",
       "    function now() {\n",
       "      return new Date();\n",
       "    }\n",
       "  \n",
       "    if (typeof (window._bokeh_onload_callbacks) === \"undefined\") {\n",
       "      window._bokeh_onload_callbacks = [];\n",
       "    }\n",
       "  \n",
       "    function run_callbacks() {\n",
       "      window._bokeh_onload_callbacks.forEach(function(callback) { callback() });\n",
       "      delete window._bokeh_onload_callbacks\n",
       "      console.info(\"Bokeh: all callbacks have finished\");\n",
       "    }\n",
       "  \n",
       "    function load_libs(js_urls, callback) {\n",
       "      window._bokeh_onload_callbacks.push(callback);\n",
       "      if (window._bokeh_is_loading > 0) {\n",
       "        console.log(\"Bokeh: BokehJS is being loaded, scheduling callback at\", now());\n",
       "        return null;\n",
       "      }\n",
       "      if (js_urls == null || js_urls.length === 0) {\n",
       "        run_callbacks();\n",
       "        return null;\n",
       "      }\n",
       "      console.log(\"Bokeh: BokehJS not loaded, scheduling load and callback at\", now());\n",
       "      window._bokeh_is_loading = js_urls.length;\n",
       "      for (var i = 0; i < js_urls.length; i++) {\n",
       "        var url = js_urls[i];\n",
       "        var s = document.createElement('script');\n",
       "        s.src = url;\n",
       "        s.async = false;\n",
       "        s.onreadystatechange = s.onload = function() {\n",
       "          window._bokeh_is_loading--;\n",
       "          if (window._bokeh_is_loading === 0) {\n",
       "            console.log(\"Bokeh: all BokehJS libraries loaded\");\n",
       "            run_callbacks()\n",
       "          }\n",
       "        };\n",
       "        s.onerror = function() {\n",
       "          console.warn(\"failed to load library \" + url);\n",
       "        };\n",
       "        console.log(\"Bokeh: injecting script tag for BokehJS library: \", url);\n",
       "        document.getElementsByTagName(\"head\")[0].appendChild(s);\n",
       "      }\n",
       "    };var element = document.getElementById(\"0dd8ac9d-bdf5-46ac-8432-87fc7ded3cb9\");\n",
       "    if (element == null) {\n",
       "      console.log(\"Bokeh: ERROR: autoload.js configured with elementid '0dd8ac9d-bdf5-46ac-8432-87fc7ded3cb9' but no matching script tag was found. \")\n",
       "      return false;\n",
       "    }\n",
       "  \n",
       "    var js_urls = [];\n",
       "  \n",
       "    var inline_js = [\n",
       "      function(Bokeh) {\n",
       "        Bokeh.$(function() {\n",
       "            var docs_json = {\"53f3bf37-aadb-4f0e-853c-23a18f115364\":{\"roots\":{\"references\":[{\"attributes\":{\"months\":[0,6]},\"id\":\"653c0351-2d23-455d-b6b4-fecc1a477cfc\",\"type\":\"MonthsTicker\"},{\"attributes\":{\"dimension\":1,\"plot\":{\"id\":\"e4402d0d-1629-4a3a-bc58-c1fd17e238d3\",\"subtype\":\"Figure\",\"type\":\"Plot\"},\"ticker\":{\"id\":\"a576bd97-77e5-447f-bd19-f7bc06644754\",\"type\":\"BasicTicker\"}},\"id\":\"975254be-903b-4d4f-aab4-f6c16a9f9d1d\",\"type\":\"Grid\"},{\"attributes\":{},\"id\":\"6b81a183-488d-4b2b-95e1-d726c6a18ffe\",\"type\":\"YearsTicker\"},{\"attributes\":{\"callback\":null,\"column_names\":[\"x\",\"y\"],\"data\":{\"x\":[1465328243000.0,1428148529000.0,1463844198000.0,1415554211000.0,1414697951000.0,1434131854000.0,1425920018000.0,1439056606000.0,1438106993000.0,1410246399000.0,1410099387000.0,1436643161000.0,1462128356000.0,1466880893000.0,1443172413000.0,1424372257000.0,1464635172000.0,1438457322000.0,1420981616000.0,1412445070000.0,1431286224000.0,1465587240000.0,1444075724000.0,1428233258000.0,1425674543000.0,1426191183000.0,1426607916000.0,1459889614000.0,1422467747000.0,1465060160000.0,1418056433000.0,1466349240000.0,1420741859000.0,1440791953000.0,1421776526000.0,1411542030000.0,1446030451000.0,1411201027000.0,1436301721000.0,1430762639000.0,1410547403000.0,1422038969000.0],\"y\":[5869.758041685876,2050.294537996982,5673.724969564729,5493.705520609242,5936.597828117186,4466.736025644979,8747.538975053558,7583.492622425234,4482.126354346572,1256.0139437106257,1465.8603370305834,5980.435447792143,5678.105548248082,5641.157399618419,1848.3031448360637,2102.6866123651434,4686.257052728707,9468.497064399835,4437.458852924772,5637.941600178236,5976.531944856669,10040.460857166941,9377.080509775602,4927.336038861122,12543.342213664968,9053.550749702497,9066.96676016255,9355.976346881262,6733.926622101581,5690.823548807764,3787.3912574156557,8943.501144715288,10096.597395845707,12190.74237889001,8190.534493570851,5721.8997620119135,7650.115555373454,2732.913143192231,4069.3537789534007,4580.658855378932,7770.535908053509,13061.254042482593]}},\"id\":\"6b2e2e93-e05b-4699-83f7-afd496e02446\",\"type\":\"ColumnDataSource\"},{\"attributes\":{\"max_interval\":500.0,\"num_minor_ticks\":0},\"id\":\"72176723-8b23-40b6-99b1-ecf5a1055fdd\",\"type\":\"AdaptiveTicker\"},{\"attributes\":{\"bottom_units\":\"screen\",\"fill_alpha\":{\"value\":0.5},\"fill_color\":{\"value\":\"lightgrey\"},\"left_units\":\"screen\",\"level\":\"overlay\",\"line_alpha\":{\"value\":1.0},\"line_color\":{\"value\":\"black\"},\"line_dash\":[4,4],\"line_width\":{\"value\":2},\"plot\":null,\"render_mode\":\"css\",\"right_units\":\"screen\",\"top_units\":\"screen\"},\"id\":\"9a1381cb-25b5-404f-9314-c9bca5ba41a9\",\"type\":\"BoxAnnotation\"},{\"attributes\":{\"plot\":{\"id\":\"dbe81b65-922c-4d83-bbd1-12cc496e1d0e\",\"subtype\":\"Figure\",\"type\":\"Plot\"}},\"id\":\"bcf524f9-992c-4558-9763-098012d2a57f\",\"type\":\"PreviewSaveTool\"},{\"attributes\":{\"months\":[0,4,8]},\"id\":\"323e4803-570d-4ffa-8dcf-400b0576a8a8\",\"type\":\"MonthsTicker\"},{\"attributes\":{},\"id\":\"1e6092e3-56da-4dd0-8eeb-332bb926636e\",\"type\":\"BasicTicker\"},{\"attributes\":{},\"id\":\"145ad887-76f2-419e-b5c6-da6f19dc35eb\",\"type\":\"ToolEvents\"},{\"attributes\":{\"plot\":{\"id\":\"5ab2017d-84ea-4569-9d58-eaff71a7e928\",\"subtype\":\"Figure\",\"type\":\"Plot\"}},\"id\":\"2a27b1a2-f7fe-4f50-a650-191cf67a1263\",\"type\":\"ResizeTool\"},{\"attributes\":{\"days\":[1,15]},\"id\":\"c5f3d99d-4f32-44e9-a94b-64c2c10035ce\",\"type\":\"DaysTicker\"},{\"attributes\":{\"callback\":null},\"id\":\"f283b7d6-790d-419a-8223-c16ec8467562\",\"type\":\"DataRange1d\"},{\"attributes\":{\"days\":[1,4,7,10,13,16,19,22,25,28]},\"id\":\"e928e4fa-e5c1-458d-8f3a-80a2a1641c34\",\"type\":\"DaysTicker\"},{\"attributes\":{\"days\":[1,4,7,10,13,16,19,22,25,28]},\"id\":\"c3e6d560-ccb5-48b0-8222-32c2dbeafd9b\",\"type\":\"DaysTicker\"},{\"attributes\":{\"days\":[1,2,3,4,5,6,7,8,9,10,11,12,13,14,15,16,17,18,19,20,21,22,23,24,25,26,27,28,29,30,31]},\"id\":\"6e9ee585-b9e9-4641-8864-6aadbc870d6e\",\"type\":\"DaysTicker\"},{\"attributes\":{},\"id\":\"e8002c5e-2101-4c42-8ea2-086bff7cd360\",\"type\":\"DatetimeTickFormatter\"},{\"attributes\":{\"bottom_units\":\"screen\",\"fill_alpha\":{\"value\":0.5},\"fill_color\":{\"value\":\"lightgrey\"},\"left_units\":\"screen\",\"level\":\"overlay\",\"line_alpha\":{\"value\":1.0},\"line_color\":{\"value\":\"black\"},\"line_dash\":[4,4],\"line_width\":{\"value\":2},\"plot\":null,\"render_mode\":\"css\",\"right_units\":\"screen\",\"top_units\":\"screen\"},\"id\":\"32d99567-b874-4832-8b33-b6fffc90099c\",\"type\":\"BoxAnnotation\"},{\"attributes\":{\"num_minor_ticks\":5},\"id\":\"f284acab-c5e8-4d11-9cf5-275851b964b7\",\"type\":\"DatetimeTicker\"},{\"attributes\":{\"base\":60,\"mantissas\":[1,2,5,10,15,20,30],\"max_interval\":1800000.0,\"min_interval\":1000.0,\"num_minor_ticks\":0},\"id\":\"cf3a928b-c0d5-4a20-9538-30be6c0866e9\",\"type\":\"AdaptiveTicker\"},{\"attributes\":{},\"id\":\"a576bd97-77e5-447f-bd19-f7bc06644754\",\"type\":\"BasicTicker\"},{\"attributes\":{\"num_minor_ticks\":5},\"id\":\"a2670a78-e859-4260-8813-6d3d93ab7c44\",\"type\":\"DatetimeTicker\"},{\"attributes\":{\"callback\":null},\"id\":\"3adcda21-fdde-43da-b4ee-f4edad906963\",\"type\":\"DataRange1d\"},{\"attributes\":{},\"id\":\"fb236f2d-ac65-491c-ab7d-1acce9ec92f4\",\"type\":\"DatetimeTickFormatter\"},{\"attributes\":{\"days\":[1,2,3,4,5,6,7,8,9,10,11,12,13,14,15,16,17,18,19,20,21,22,23,24,25,26,27,28,29,30,31]},\"id\":\"0727d121-8ea3-4cdb-9d68-37933d4f226e\",\"type\":\"DaysTicker\"},{\"attributes\":{\"overlay\":{\"id\":\"9a1381cb-25b5-404f-9314-c9bca5ba41a9\",\"type\":\"BoxAnnotation\"},\"plot\":{\"id\":\"dbe81b65-922c-4d83-bbd1-12cc496e1d0e\",\"subtype\":\"Figure\",\"type\":\"Plot\"}},\"id\":\"9fefabd4-bb07-49ad-8046-99ccd8f92dde\",\"type\":\"BoxZoomTool\"},{\"attributes\":{},\"id\":\"add1cae2-233e-4a14-a228-941f9b8ae217\",\"type\":\"DatetimeTickFormatter\"},{\"attributes\":{\"dimension\":1,\"plot\":{\"id\":\"dbe81b65-922c-4d83-bbd1-12cc496e1d0e\",\"subtype\":\"Figure\",\"type\":\"Plot\"},\"ticker\":{\"id\":\"72a91517-ee01-4d6c-9c19-8bd569521a97\",\"type\":\"BasicTicker\"}},\"id\":\"9f03545e-b82b-4a93-bdf3-aee6728c8682\",\"type\":\"Grid\"},{\"attributes\":{\"callback\":null},\"id\":\"3baff894-66a0-4a69-ac0a-1926acd7bf45\",\"type\":\"DataRange1d\"},{\"attributes\":{},\"id\":\"72a91517-ee01-4d6c-9c19-8bd569521a97\",\"type\":\"BasicTicker\"},{\"attributes\":{\"days\":[1,4,7,10,13,16,19,22,25,28]},\"id\":\"0a8781d1-5e5a-4023-b421-ebd60838ff30\",\"type\":\"DaysTicker\"},{\"attributes\":{\"callback\":null},\"id\":\"2f814c14-d3cc-41de-9148-1db904096818\",\"type\":\"DataRange1d\"},{\"attributes\":{\"plot\":{\"id\":\"dbe81b65-922c-4d83-bbd1-12cc496e1d0e\",\"subtype\":\"Figure\",\"type\":\"Plot\"},\"ticker\":{\"id\":\"11213ee7-7268-4d84-ae76-6245f10a3cc3\",\"type\":\"DatetimeTicker\"}},\"id\":\"df110571-7988-4922-a621-029476685a82\",\"type\":\"Grid\"},{\"attributes\":{\"months\":[0,1,2,3,4,5,6,7,8,9,10,11]},\"id\":\"97baa119-4d11-4df7-ae5c-f8ef2cf5131e\",\"type\":\"MonthsTicker\"},{\"attributes\":{\"bottom_units\":\"screen\",\"fill_alpha\":{\"value\":0.5},\"fill_color\":{\"value\":\"lightgrey\"},\"left_units\":\"screen\",\"level\":\"overlay\",\"line_alpha\":{\"value\":1.0},\"line_color\":{\"value\":\"black\"},\"line_dash\":[4,4],\"line_width\":{\"value\":2},\"plot\":null,\"render_mode\":\"css\",\"right_units\":\"screen\",\"top_units\":\"screen\"},\"id\":\"94eb7722-cb22-407d-b5de-c68ad3652827\",\"type\":\"BoxAnnotation\"},{\"attributes\":{\"background_fill_color\":{\"value\":\"#E8DDCB\"},\"below\":[{\"id\":\"5fe7c41d-9e58-49fd-bca0-349f05646a82\",\"type\":\"DatetimeAxis\"}],\"left\":[{\"id\":\"fda4cfda-b76c-48b9-93db-b2a8d8eee43f\",\"type\":\"LinearAxis\"}],\"renderers\":[{\"id\":\"5fe7c41d-9e58-49fd-bca0-349f05646a82\",\"type\":\"DatetimeAxis\"},{\"id\":\"df110571-7988-4922-a621-029476685a82\",\"type\":\"Grid\"},{\"id\":\"fda4cfda-b76c-48b9-93db-b2a8d8eee43f\",\"type\":\"LinearAxis\"},{\"id\":\"9f03545e-b82b-4a93-bdf3-aee6728c8682\",\"type\":\"Grid\"},{\"id\":\"9a1381cb-25b5-404f-9314-c9bca5ba41a9\",\"type\":\"BoxAnnotation\"},{\"id\":\"c5071262-9a06-4098-bded-6cdd7b46e10e\",\"type\":\"GlyphRenderer\"}],\"title\":\"Distances run over time\",\"tool_events\":{\"id\":\"fda6d599-9462-48ac-901f-cb3ee74c708e\",\"type\":\"ToolEvents\"},\"tools\":[{\"id\":\"c3e6eb24-f47b-483f-acdc-b2c191232104\",\"type\":\"PanTool\"},{\"id\":\"2016d9bf-f5ac-4f62-962f-2f80f65e2c35\",\"type\":\"WheelZoomTool\"},{\"id\":\"9fefabd4-bb07-49ad-8046-99ccd8f92dde\",\"type\":\"BoxZoomTool\"},{\"id\":\"bcf524f9-992c-4558-9763-098012d2a57f\",\"type\":\"PreviewSaveTool\"},{\"id\":\"c63a5c84-19af-4221-8e7a-ac034b8b6f9e\",\"type\":\"ResizeTool\"},{\"id\":\"bcfce315-18ef-4628-a1ad-61e31d9a1d83\",\"type\":\"ResetTool\"},{\"id\":\"1f3b9931-e2a6-41f3-b12d-a768a5963174\",\"type\":\"HelpTool\"}],\"x_range\":{\"id\":\"3baff894-66a0-4a69-ac0a-1926acd7bf45\",\"type\":\"DataRange1d\"},\"y_range\":{\"id\":\"f283b7d6-790d-419a-8223-c16ec8467562\",\"type\":\"DataRange1d\"}},\"id\":\"dbe81b65-922c-4d83-bbd1-12cc496e1d0e\",\"subtype\":\"Figure\",\"type\":\"Plot\"},{\"attributes\":{\"days\":[1,8,15,22]},\"id\":\"31ad8910-2aab-4960-8fa5-006ba0743129\",\"type\":\"DaysTicker\"},{\"attributes\":{\"callback\":null,\"column_names\":[\"x\",\"y\"],\"data\":{\"x\":[1466880893000.0,1466880895000.0,1466880898000.0,1466880911000.0,1466880918000.0,1466880929000.0,1466880933000.0,1466880936000.0,1466880939000.0,1466880942000.0,1466880945000.0,1466880948000.0,1466880951000.0,1466880954000.0,1466880957000.0,1466880960000.0,1466880964000.0,1466880967000.0,1466880970000.0,1466880973000.0,1466880976000.0,1466880980000.0,1466880983000.0,1466880987000.0,1466880991000.0,1466880995000.0,1466880999000.0,1466881003000.0,1466881006000.0,1466881009000.0,1466881012000.0,1466881015000.0,1466881018000.0,1466881021000.0,1466881024000.0,1466881027000.0,1466881031000.0,1466881034000.0,1466881038000.0,1466881071000.0,1466881074000.0,1466881077000.0,1466881080000.0,1466881082000.0,1466881085000.0,1466881088000.0,1466881091000.0,1466881094000.0,1466881097000.0,1466881100000.0,1466881103000.0,1466881106000.0,1466881109000.0,1466881112000.0,1466881116000.0,1466881138000.0,1466881141000.0,1466881144000.0,1466881147000.0,1466881150000.0,1466881153000.0,1466881156000.0,1466881159000.0,1466881162000.0,1466881165000.0,1466881168000.0,1466881171000.0,1466881175000.0,1466881178000.0,1466881181000.0,1466881184000.0,1466881187000.0,1466881190000.0,1466881193000.0,1466881196000.0,1466881200000.0,1466881214000.0,1466881222000.0,1466881226000.0,1466881229000.0,1466881232000.0,1466881235000.0,1466881238000.0,1466881241000.0,1466881244000.0,1466881247000.0,1466881250000.0,1466881253000.0,1466881256000.0,1466881259000.0,1466881262000.0,1466881265000.0,1466881268000.0,1466881271000.0,1466881274000.0,1466881285000.0,1466881301000.0,1466881304000.0,1466881307000.0,1466881309000.0,1466881312000.0,1466881315000.0,1466881318000.0,1466881322000.0,1466881325000.0,1466881328000.0,1466881331000.0,1466881335000.0,1466881350000.0,1466881358000.0,1466881361000.0,1466881364000.0,1466881367000.0,1466881370000.0,1466881373000.0,1466881376000.0,1466881379000.0,1466881383000.0,1466881386000.0,1466881389000.0,1466881392000.0,1466881396000.0,1466881400000.0,1466881403000.0,1466881406000.0,1466881409000.0,1466881412000.0,1466881437000.0,1466881447000.0,1466881451000.0,1466881454000.0,1466881457000.0,1466881460000.0,1466881463000.0,1466881466000.0,1466881469000.0,1466881472000.0,1466881475000.0,1466881478000.0,1466881480000.0,1466881483000.0,1466881486000.0,1466881489000.0,1466881492000.0,1466881495000.0,1466881498000.0,1466881501000.0,1466881504000.0,1466881507000.0,1466881510000.0,1466881513000.0,1466881516000.0,1466881520000.0,1466881523000.0,1466881526000.0,1466881530000.0,1466881534000.0,1466881544000.0,1466881556000.0,1466881564000.0,1466881571000.0,1466881578000.0,1466881586000.0,1466881597000.0,1466881604000.0,1466881613000.0,1466881621000.0,1466881624000.0,1466881627000.0,1466881631000.0,1466881635000.0,1466881639000.0,1466881643000.0,1466881647000.0,1466881651000.0,1466881655000.0,1466881659000.0,1466881663000.0,1466881683000.0,1466881690000.0,1466881694000.0,1466881698000.0,1466881702000.0,1466881707000.0,1466881712000.0,1466881717000.0,1466881722000.0,1466881726000.0,1466881732000.0,1466881737000.0,1466881741000.0,1466881746000.0,1466881751000.0,1466881759000.0,1466881769000.0,1466881780000.0,1466881789000.0,1466881797000.0,1466881807000.0,1466881813000.0,1466881817000.0,1466881821000.0,1466881826000.0,1466881868000.0,1466881872000.0,1466881877000.0,1466881881000.0,1466881885000.0,1466881889000.0,1466881893000.0,1466881897000.0,1466881903000.0,1466881908000.0,1466881913000.0,1466881919000.0,1466881945000.0,1466881957000.0,1466881961000.0,1466881965000.0,1466881970000.0,1466881997000.0,1466882002000.0,1466882040000.0,1466882045000.0,1466882050000.0,1466882056000.0,1466882061000.0,1466882067000.0,1466882072000.0,1466882076000.0,1466882080000.0,1466882083000.0,1466882087000.0,1466882092000.0,1466882097000.0,1466882102000.0,1466882107000.0,1466882111000.0,1466882144000.0,1466882166000.0,1466882175000.0,1466882183000.0,1466882222000.0,1466882326000.0,1466882332000.0,1466882336000.0,1466882339000.0,1466882342000.0,1466882345000.0,1466882348000.0,1466882352000.0,1466882356000.0,1466882360000.0,1466882364000.0,1466882368000.0,1466882373000.0,1466882378000.0,1466882383000.0,1466882387000.0,1466882391000.0,1466882395000.0,1466882399000.0,1466882404000.0,1466882420000.0,1466882424000.0,1466882428000.0,1466882432000.0,1466882436000.0,1466882441000.0,1466882446000.0,1466882452000.0,1466882456000.0,1466882460000.0,1466882464000.0,1466882468000.0,1466882472000.0,1466882476000.0,1466882480000.0,1466882485000.0,1466882490000.0,1466882494000.0,1466882500000.0,1466882506000.0,1466882511000.0,1466882518000.0,1466882527000.0,1466882540000.0,1466882545000.0,1466882550000.0,1466882555000.0,1466882562000.0,1466882568000.0,1466882573000.0,1466882578000.0,1466882584000.0,1466882589000.0,1466882604000.0,1466882643000.0,1466882654000.0,1466882662000.0,1466882666000.0,1466882669000.0,1466882673000.0,1466882677000.0,1466882681000.0,1466882687000.0,1466882692000.0,1466882697000.0,1466882732000.0,1466882737000.0,1466882743000.0,1466882748000.0,1466882752000.0,1466882758000.0,1466882764000.0,1466882770000.0,1466882799000.0,1466882803000.0,1466882806000.0,1466882809000.0,1466882812000.0,1466882816000.0,1466882820000.0,1466882824000.0,1466882829000.0,1466882832000.0,1466882835000.0,1466882839000.0,1466882842000.0,1466882846000.0,1466882850000.0,1466882854000.0,1466882858000.0,1466882863000.0,1466882867000.0,1466882871000.0,1466882876000.0,1466882883000.0,1466882892000.0,1466882902000.0,1466882933000.0,1466882937000.0,1466882941000.0,1466882945000.0,1466882949000.0,1466882953000.0,1466882957000.0,1466882961000.0,1466882965000.0,1466882969000.0,1466882993000.0,1466882997000.0,1466883001000.0,1466883005000.0,1466883009000.0,1466883014000.0,1466883019000.0,1466883024000.0,1466883028000.0,1466883032000.0,1466883036000.0,1466883040000.0,1466883044000.0,1466883048000.0,1466883052000.0,1466883057000.0,1466883062000.0,1466883082000.0,1466883098000.0,1466883102000.0,1466883106000.0,1466883109000.0,1466883112000.0,1466883116000.0,1466883120000.0,1466883124000.0,1466883129000.0,1466883135000.0,1466883142000.0,1466883150000.0,1466883161000.0,1466883169000.0,1466883174000.0,1466883179000.0,1466883183000.0,1466883186000.0,1466883189000.0,1466883193000.0,1466883196000.0,1466883199000.0,1466883203000.0,1466883209000.0,1466883213000.0,1466883217000.0,1466883221000.0,1466883225000.0,1466883229000.0,1466883233000.0,1466883238000.0,1466883243000.0,1466883247000.0,1466883250000.0,1466883253000.0,1466883257000.0,1466883260000.0,1466883264000.0,1466883269000.0,1466883274000.0,1466883296000.0,1466883301000.0,1466883304000.0,1466883308000.0,1466883314000.0,1466883319000.0,1466883323000.0,1466883326000.0,1466883329000.0,1466883333000.0,1466883337000.0,1466883341000.0,1466883345000.0,1466883349000.0,1466883353000.0,1466883358000.0,1466883363000.0,1466883368000.0,1466883374000.0,1466883380000.0,1466883385000.0,1466883390000.0,1466883394000.0,1466883399000.0,1466883413000.0,1466883430000.0,1466883439000.0,1466883448000.0,1466883452000.0,1466883456000.0,1466883460000.0,1466883464000.0,1466883468000.0,1466883473000.0,1466883478000.0,1466883483000.0,1466883489000.0,1466883494000.0,1466883498000.0,1466883502000.0,1466883507000.0,1466883513000.0,1466883518000.0,1466883523000.0,1466883558000.0,1466883562000.0,1466883566000.0,1466883570000.0,1466883574000.0,1466883578000.0,1466883582000.0,1466883587000.0,1466883592000.0,1466883598000.0,1466883605000.0,1466883612000.0,1466883620000.0,1466883630000.0,1466883642000.0,1466883650000.0,1466883659000.0,1466883667000.0,1466883676000.0,1466883684000.0,1466883692000.0,1466883700000.0,1466883709000.0,1466883719000.0,1466883728000.0,1466883736000.0,1466883743000.0,1466883753000.0,1466883763000.0,1466883772000.0,1466883781000.0,1466883789000.0,1466883799000.0,1466883807000.0,1466883817000.0,1466883828000.0,1466883836000.0,1466883844000.0,1466883852000.0,1466883861000.0,1466883871000.0,1466883879000.0,1466883888000.0,1466883897000.0,1466883904000.0,1466883915000.0,1466883941000.0],\"y\":[327.0,326.7,326.5,326.3,325.9,325.5,325.0,324.5,323.9,323.2,322.7,322.3,321.8,321.4,320.9,320.5,320.2,319.8,319.5,319.1,318.9,318.7,318.5,318.4,318.2,318.0,318.0,318.0,318.0,318.0,317.3,316.5,315.8,315.1,314.4,313.6,312.9,312.2,311.5,310.7,310.0,309.4,308.7,308.1,307.5,306.8,306.2,305.5,304.9,304.0,303.1,302.2,301.9,301.6,301.4,301.0,300.6,300.3,299.7,299.2,298.9,298.6,298.4,298.1,297.8,297.5,297.1,296.6,296.2,295.9,295.6,295.3,294.9,294.5,294.2,293.8,293.5,293.4,293.3,293.2,293.1,293.0,292.9,292.5,292.2,291.8,291.5,291.1,290.7,290.4,290.0,289.6,289.4,289.2,289.3,289.4,289.5,289.5,289.6,289.7,289.6,289.5,289.5,289.3,289.1,288.9,288.7,288.5,288.3,288.0,287.7,287.6,287.5,287.5,287.4,287.3,286.9,286.5,286.2,285.7,285.3,284.8,284.4,283.9,283.5,283.0,282.5,282.4,282.2,282.0,282.0,282.0,282.0,281.8,281.6,281.5,281.2,280.9,280.5,280.2,279.8,279.5,279.1,278.7,278.5,278.2,277.9,277.7,277.5,277.5,277.4,277.3,277.0,276.7,276.5,276.3,276.1,275.9,275.7,275.5,275.4,275.2,275.0,275.0,275.0,275.0,275.0,275.2,275.4,275.5,275.7,275.9,276.1,276.3,276.5,276.6,276.8,277.2,277.4,277.5,277.7,277.9,278.1,278.3,278.5,278.6,279.0,279.4,279.5,279.7,279.9,280.1,280.3,280.5,280.6,280.8,281.1,281.4,281.6,281.9,282.2,282.5,282.7,283.0,283.3,283.7,284.5,285.1,285.5,286.0,286.5,286.9,287.4,287.8,288.7,289.6,290.4,290.8,291.6,292.5,293.3,294.1,294.9,295.9,296.9,297.5,298.0,298.5,299.1,299.5,299.8,300.4,300.9,301.5,301.8,302.2,302.5,302.9,303.3,303.6,303.8,304.0,304.0,304.0,304.3,304.5,304.8,305.1,305.4,305.6,305.9,306.2,306.5,306.7,307.0,307.0,307.4,307.7,308.1,308.5,309.0,309.5,309.9,310.4,310.8,311.3,311.7,311.8,311.9,312.0,312.0,312.0,312.3,312.5,312.8,313.1,313.4,313.8,314.3,314.7,315.2,315.6,316.1,316.3,316.6,317.0,317.4,318.2,318.8,319.5,320.1,320.9,321.7,322.5,323.4,324.0,324.6,325.3,325.6,326.0,326.7,327.5,328.0,328.5,329.1,329.6,330.5,331.3,332.1,332.7,333.4,333.6,333.6,333.6,333.6,333.6,333.6,333.4,332.9,332.5,332.0,331.5,331.1,330.9,330.5,330.2,329.8,329.5,329.1,328.9,328.7,328.5,328.4,328.2,328.0,328.0,328.0,328.0,328.0,328.0,328.1,328.2,328.3,328.4,328.5,328.5,328.6,328.7,328.8,328.9,329.0,328.9,328.8,328.7,328.6,328.5,328.5,328.4,328.3,328.2,328.1,328.0,328.0,328.0,328.0,328.0,328.0,328.0,328.0,328.0,328.0,327.7,327.5,327.2,326.9,326.6,326.4,325.9,325.5,325.0,324.5,324.1,323.9,323.2,322.5,321.7,321.0,321.2,321.5,321.4,321.2,321.0,320.8,320.6,321.0,320.6,320.3,319.9,318.6,317.4,316.0,314.6,313.3,311.9,310.5,309.2,308.5,307.7,307.0,306.3,305.5,305.4,305.2,305.0,304.8,304.6,304.5,304.5,304.5,304.5,304.5,304.5,304.6,304.8,305.0,305.2,305.4,305.5,305.8,306.1,306.4,306.6,306.9,307.2,307.5,307.7,308.0,308.3,308.5,308.9,309.3,309.6,310.0,310.4,310.8,311.3,311.7,312.2,312.6,313.1,313.5,313.8,314.2,314.0,314.4,314.7,315.1,315.5,315.8,316.2,316.5,316.7,316.9,317.1,317.8,318.0,318.0,318.0,318.0,318.0,318.0,318.0,318.0,318.2,318.4,318.5,318.7,318.9,319.1,319.5,319.8,320.2,320.5,320.9,321.4,321.8,322.3,322.7,323.2,323.6,324.2,324.7,325.3,325.8,326.2,326.3,326.5,326.7,327.0]}},\"id\":\"f0e7f289-00a3-49c8-b768-91e475ba784e\",\"type\":\"ColumnDataSource\"},{\"attributes\":{\"plot\":{\"id\":\"5ab2017d-84ea-4569-9d58-eaff71a7e928\",\"subtype\":\"Figure\",\"type\":\"Plot\"}},\"id\":\"ee1d871a-70fa-45ba-a5cc-164d348c5591\",\"type\":\"WheelZoomTool\"},{\"attributes\":{\"plot\":{\"id\":\"e4402d0d-1629-4a3a-bc58-c1fd17e238d3\",\"subtype\":\"Figure\",\"type\":\"Plot\"},\"ticker\":{\"id\":\"a2670a78-e859-4260-8813-6d3d93ab7c44\",\"type\":\"DatetimeTicker\"}},\"id\":\"fe5acaea-afbd-4896-bee9-a314453b2a5c\",\"type\":\"Grid\"},{\"attributes\":{\"months\":[0,6]},\"id\":\"bd0bdbf4-59a7-4ef3-ae7e-91b2f003998d\",\"type\":\"MonthsTicker\"},{\"attributes\":{\"axis_label\":\"Speed (km/h)\",\"formatter\":{\"id\":\"d1120d47-25d7-48a3-b86f-cc36a20dc116\",\"type\":\"BasicTickFormatter\"},\"plot\":{\"id\":\"5ab2017d-84ea-4569-9d58-eaff71a7e928\",\"subtype\":\"Figure\",\"type\":\"Plot\"},\"ticker\":{\"id\":\"1e6092e3-56da-4dd0-8eeb-332bb926636e\",\"type\":\"BasicTicker\"}},\"id\":\"c1e52c45-fa0f-4d74-b156-5273b7b55ed7\",\"type\":\"LinearAxis\"},{\"attributes\":{\"plot\":{\"id\":\"e4402d0d-1629-4a3a-bc58-c1fd17e238d3\",\"subtype\":\"Figure\",\"type\":\"Plot\"}},\"id\":\"25b1efde-3098-4fd7-85bb-5d938ca96386\",\"type\":\"HelpTool\"},{\"attributes\":{\"plot\":{\"id\":\"dbe81b65-922c-4d83-bbd1-12cc496e1d0e\",\"subtype\":\"Figure\",\"type\":\"Plot\"}},\"id\":\"1f3b9931-e2a6-41f3-b12d-a768a5963174\",\"type\":\"HelpTool\"},{\"attributes\":{\"months\":[0,2,4,6,8,10]},\"id\":\"6d8ae1b2-c3f8-455c-8ab0-f9bfe0aea741\",\"type\":\"MonthsTicker\"},{\"attributes\":{\"callback\":null},\"id\":\"95cce9db-6e8c-4856-b4f0-cdfddad6efc7\",\"type\":\"DataRange1d\"},{\"attributes\":{\"base\":60,\"mantissas\":[1,2,5,10,15,20,30],\"max_interval\":1800000.0,\"min_interval\":1000.0,\"num_minor_ticks\":0},\"id\":\"9178a1e7-4d18-424b-9d51-bf3f61a0a34f\",\"type\":\"AdaptiveTicker\"},{\"attributes\":{},\"id\":\"ffe09a9a-15f1-4f1a-97cf-34a8e9aab835\",\"type\":\"BasicTickFormatter\"},{\"attributes\":{\"background_fill_color\":{\"value\":\"#E8DDCB\"},\"below\":[{\"id\":\"b095cefb-58ca-4c00-8f7e-87b3b0f356e6\",\"type\":\"DatetimeAxis\"}],\"left\":[{\"id\":\"c1e52c45-fa0f-4d74-b156-5273b7b55ed7\",\"type\":\"LinearAxis\"}],\"renderers\":[{\"id\":\"b095cefb-58ca-4c00-8f7e-87b3b0f356e6\",\"type\":\"DatetimeAxis\"},{\"id\":\"ac992d7c-888f-4034-96de-99be8ef07e62\",\"type\":\"Grid\"},{\"id\":\"c1e52c45-fa0f-4d74-b156-5273b7b55ed7\",\"type\":\"LinearAxis\"},{\"id\":\"5e40703e-8a8f-4672-bcb5-851af33bd56f\",\"type\":\"Grid\"},{\"id\":\"94eb7722-cb22-407d-b5de-c68ad3652827\",\"type\":\"BoxAnnotation\"},{\"id\":\"d522091a-6a5c-4e3d-8df1-be28a92ae129\",\"type\":\"GlyphRenderer\"}],\"title\":\"Speeds over time\",\"tool_events\":{\"id\":\"f85d815f-8fcf-4232-83d8-59c26fe56224\",\"type\":\"ToolEvents\"},\"tools\":[{\"id\":\"a60e2d49-8c85-4ce6-8f5e-f2a09e1e753f\",\"type\":\"PanTool\"},{\"id\":\"ee1d871a-70fa-45ba-a5cc-164d348c5591\",\"type\":\"WheelZoomTool\"},{\"id\":\"49f78460-1117-4160-a3bc-48cb9d5f63ea\",\"type\":\"BoxZoomTool\"},{\"id\":\"f678fc67-4146-4155-9fdd-b8221a868913\",\"type\":\"PreviewSaveTool\"},{\"id\":\"2a27b1a2-f7fe-4f50-a650-191cf67a1263\",\"type\":\"ResizeTool\"},{\"id\":\"821b930b-c68d-42d4-ae75-18c3b74a31aa\",\"type\":\"ResetTool\"},{\"id\":\"ce965df9-812e-402a-86db-bd15a3a52142\",\"type\":\"HelpTool\"}],\"x_range\":{\"id\":\"95cce9db-6e8c-4856-b4f0-cdfddad6efc7\",\"type\":\"DataRange1d\"},\"y_range\":{\"id\":\"2f814c14-d3cc-41de-9148-1db904096818\",\"type\":\"DataRange1d\"}},\"id\":\"5ab2017d-84ea-4569-9d58-eaff71a7e928\",\"subtype\":\"Figure\",\"type\":\"Plot\"},{\"attributes\":{\"axis_label\":\"Time\",\"formatter\":{\"id\":\"add1cae2-233e-4a14-a228-941f9b8ae217\",\"type\":\"DatetimeTickFormatter\"},\"plot\":{\"id\":\"e4402d0d-1629-4a3a-bc58-c1fd17e238d3\",\"subtype\":\"Figure\",\"type\":\"Plot\"},\"ticker\":{\"id\":\"a2670a78-e859-4260-8813-6d3d93ab7c44\",\"type\":\"DatetimeTicker\"}},\"id\":\"8bcf7c10-dcce-4afd-8b3f-05478bd6379e\",\"type\":\"DatetimeAxis\"},{\"attributes\":{\"dimension\":1,\"plot\":{\"id\":\"5ab2017d-84ea-4569-9d58-eaff71a7e928\",\"subtype\":\"Figure\",\"type\":\"Plot\"},\"ticker\":{\"id\":\"1e6092e3-56da-4dd0-8eeb-332bb926636e\",\"type\":\"BasicTicker\"}},\"id\":\"5e40703e-8a8f-4672-bcb5-851af33bd56f\",\"type\":\"Grid\"},{\"attributes\":{\"callback\":null},\"id\":\"a8ee7f3c-f654-4f7a-a82a-34db6ef53a43\",\"type\":\"DataRange1d\"},{\"attributes\":{\"data_source\":{\"id\":\"6b2e2e93-e05b-4699-83f7-afd496e02446\",\"type\":\"ColumnDataSource\"},\"glyph\":{\"id\":\"0da87f04-1941-4494-8e0a-24eee2d6107b\",\"type\":\"Circle\"},\"hover_glyph\":null,\"nonselection_glyph\":{\"id\":\"5ca14d5b-071a-4ea5-88f3-79215523806d\",\"type\":\"Circle\"},\"selection_glyph\":null},\"id\":\"c5071262-9a06-4098-bded-6cdd7b46e10e\",\"type\":\"GlyphRenderer\"},{\"attributes\":{\"plot\":{\"id\":\"e4402d0d-1629-4a3a-bc58-c1fd17e238d3\",\"subtype\":\"Figure\",\"type\":\"Plot\"}},\"id\":\"4c177701-a0db-48f9-bed3-2e6cadef2cf0\",\"type\":\"ResetTool\"},{\"attributes\":{\"plot\":{\"id\":\"e4402d0d-1629-4a3a-bc58-c1fd17e238d3\",\"subtype\":\"Figure\",\"type\":\"Plot\"}},\"id\":\"830da2a8-08ec-4040-a9bb-b82a5a3e4c36\",\"type\":\"PreviewSaveTool\"},{\"attributes\":{\"max_interval\":500.0,\"num_minor_ticks\":0},\"id\":\"b6240a42-ad54-4399-808e-4aaa5d7acf00\",\"type\":\"AdaptiveTicker\"},{\"attributes\":{\"plot\":{\"id\":\"5ab2017d-84ea-4569-9d58-eaff71a7e928\",\"subtype\":\"Figure\",\"type\":\"Plot\"}},\"id\":\"a60e2d49-8c85-4ce6-8f5e-f2a09e1e753f\",\"type\":\"PanTool\"},{\"attributes\":{\"base\":60,\"mantissas\":[1,2,5,10,15,20,30],\"max_interval\":1800000.0,\"min_interval\":1000.0,\"num_minor_ticks\":0},\"id\":\"33b12cd9-de57-46ea-9067-4b0780dcc0c0\",\"type\":\"AdaptiveTicker\"},{\"attributes\":{},\"id\":\"f85d815f-8fcf-4232-83d8-59c26fe56224\",\"type\":\"ToolEvents\"},{\"attributes\":{\"months\":[0,2,4,6,8,10]},\"id\":\"b2f41603-80c3-4762-9fcd-f669ee91c4c7\",\"type\":\"MonthsTicker\"},{\"attributes\":{\"base\":24,\"mantissas\":[1,2,4,6,8,12],\"max_interval\":43200000.0,\"min_interval\":3600000.0,\"num_minor_ticks\":0},\"id\":\"829507f3-d49d-4628-ac7d-cdb020a8f5bd\",\"type\":\"AdaptiveTicker\"},{\"attributes\":{},\"id\":\"fda6d599-9462-48ac-901f-cb3ee74c708e\",\"type\":\"ToolEvents\"},{\"attributes\":{},\"id\":\"05c23e80-ceaf-4b0d-86a1-6fd7d0890a62\",\"type\":\"YearsTicker\"},{\"attributes\":{\"background_fill_color\":{\"value\":\"#E8DDCB\"},\"below\":[{\"id\":\"8bcf7c10-dcce-4afd-8b3f-05478bd6379e\",\"type\":\"DatetimeAxis\"}],\"left\":[{\"id\":\"6ba80015-299a-4ce2-b655-031841138d0c\",\"type\":\"LinearAxis\"}],\"renderers\":[{\"id\":\"8bcf7c10-dcce-4afd-8b3f-05478bd6379e\",\"type\":\"DatetimeAxis\"},{\"id\":\"fe5acaea-afbd-4896-bee9-a314453b2a5c\",\"type\":\"Grid\"},{\"id\":\"6ba80015-299a-4ce2-b655-031841138d0c\",\"type\":\"LinearAxis\"},{\"id\":\"975254be-903b-4d4f-aab4-f6c16a9f9d1d\",\"type\":\"Grid\"},{\"id\":\"32d99567-b874-4832-8b33-b6fffc90099c\",\"type\":\"BoxAnnotation\"},{\"id\":\"18b6108e-eec6-47ce-8724-c1e174f5f02a\",\"type\":\"GlyphRenderer\"}],\"title\":\"Elevation from last night run\",\"tool_events\":{\"id\":\"145ad887-76f2-419e-b5c6-da6f19dc35eb\",\"type\":\"ToolEvents\"},\"tools\":[{\"id\":\"9172f81b-f377-425e-a309-a4ff828827ca\",\"type\":\"PanTool\"},{\"id\":\"ab74d2d5-1876-4fa5-86e0-22742c7ba2cb\",\"type\":\"WheelZoomTool\"},{\"id\":\"b73987b4-3244-45a3-8a0e-4e5f6bbe966d\",\"type\":\"BoxZoomTool\"},{\"id\":\"830da2a8-08ec-4040-a9bb-b82a5a3e4c36\",\"type\":\"PreviewSaveTool\"},{\"id\":\"c30ced04-5998-44d5-9bc6-c9cc2e466315\",\"type\":\"ResizeTool\"},{\"id\":\"4c177701-a0db-48f9-bed3-2e6cadef2cf0\",\"type\":\"ResetTool\"},{\"id\":\"25b1efde-3098-4fd7-85bb-5d938ca96386\",\"type\":\"HelpTool\"}],\"x_range\":{\"id\":\"a8ee7f3c-f654-4f7a-a82a-34db6ef53a43\",\"type\":\"DataRange1d\"},\"y_range\":{\"id\":\"3adcda21-fdde-43da-b4ee-f4edad906963\",\"type\":\"DataRange1d\"}},\"id\":\"e4402d0d-1629-4a3a-bc58-c1fd17e238d3\",\"subtype\":\"Figure\",\"type\":\"Plot\"},{\"attributes\":{\"base\":24,\"mantissas\":[1,2,4,6,8,12],\"max_interval\":43200000.0,\"min_interval\":3600000.0,\"num_minor_ticks\":0},\"id\":\"3bcd75e5-ed17-4d30-8a34-53f5f7cefce8\",\"type\":\"AdaptiveTicker\"},{\"attributes\":{\"data_source\":{\"id\":\"07f97daa-f58c-4c2f-9bdb-4499184105b6\",\"type\":\"ColumnDataSource\"},\"glyph\":{\"id\":\"65a83011-9739-4a2c-9757-02e0a0318cab\",\"type\":\"Circle\"},\"hover_glyph\":null,\"nonselection_glyph\":{\"id\":\"4ffc3c5e-a53d-4272-a12d-8ae3ccd0f5f8\",\"type\":\"Circle\"},\"selection_glyph\":null},\"id\":\"d522091a-6a5c-4e3d-8df1-be28a92ae129\",\"type\":\"GlyphRenderer\"},{\"attributes\":{\"fill_color\":{\"value\":\"#1f77b4\"},\"line_color\":{\"value\":\"#1f77b4\"},\"x\":{\"field\":\"x\"},\"y\":{\"field\":\"y\"}},\"id\":\"65a83011-9739-4a2c-9757-02e0a0318cab\",\"type\":\"Circle\"},{\"attributes\":{\"plot\":{\"id\":\"e4402d0d-1629-4a3a-bc58-c1fd17e238d3\",\"subtype\":\"Figure\",\"type\":\"Plot\"}},\"id\":\"c30ced04-5998-44d5-9bc6-c9cc2e466315\",\"type\":\"ResizeTool\"},{\"attributes\":{\"overlay\":{\"id\":\"32d99567-b874-4832-8b33-b6fffc90099c\",\"type\":\"BoxAnnotation\"},\"plot\":{\"id\":\"e4402d0d-1629-4a3a-bc58-c1fd17e238d3\",\"subtype\":\"Figure\",\"type\":\"Plot\"}},\"id\":\"b73987b4-3244-45a3-8a0e-4e5f6bbe966d\",\"type\":\"BoxZoomTool\"},{\"attributes\":{\"plot\":{\"id\":\"5ab2017d-84ea-4569-9d58-eaff71a7e928\",\"subtype\":\"Figure\",\"type\":\"Plot\"},\"ticker\":{\"id\":\"f284acab-c5e8-4d11-9cf5-275851b964b7\",\"type\":\"DatetimeTicker\"}},\"id\":\"ac992d7c-888f-4034-96de-99be8ef07e62\",\"type\":\"Grid\"},{\"attributes\":{\"plot\":{\"id\":\"e4402d0d-1629-4a3a-bc58-c1fd17e238d3\",\"subtype\":\"Figure\",\"type\":\"Plot\"}},\"id\":\"ab74d2d5-1876-4fa5-86e0-22742c7ba2cb\",\"type\":\"WheelZoomTool\"},{\"attributes\":{\"plot\":{\"id\":\"dbe81b65-922c-4d83-bbd1-12cc496e1d0e\",\"subtype\":\"Figure\",\"type\":\"Plot\"}},\"id\":\"c3e6eb24-f47b-483f-acdc-b2c191232104\",\"type\":\"PanTool\"},{\"attributes\":{\"max_interval\":500.0,\"num_minor_ticks\":0},\"id\":\"e00ff96f-103f-4213-85b2-dd65104a8e40\",\"type\":\"AdaptiveTicker\"},{\"attributes\":{\"months\":[0,2,4,6,8,10]},\"id\":\"d8a801a2-07d2-4016-bbc1-e70b2ac7e757\",\"type\":\"MonthsTicker\"},{\"attributes\":{\"plot\":{\"id\":\"5ab2017d-84ea-4569-9d58-eaff71a7e928\",\"subtype\":\"Figure\",\"type\":\"Plot\"}},\"id\":\"821b930b-c68d-42d4-ae75-18c3b74a31aa\",\"type\":\"ResetTool\"},{\"attributes\":{\"fill_color\":{\"value\":\"#1f77b4\"},\"line_color\":{\"value\":\"#1f77b4\"},\"x\":{\"field\":\"x\"},\"y\":{\"field\":\"y\"}},\"id\":\"0da87f04-1941-4494-8e0a-24eee2d6107b\",\"type\":\"Circle\"},{\"attributes\":{\"callback\":null,\"column_names\":[\"x\",\"y\"],\"data\":{\"x\":[1465328243000.0,1428148529000.0,1463844198000.0,1415554211000.0,1414697951000.0,1434131854000.0,1425920018000.0,1439056606000.0,1438106993000.0,1410246399000.0,1410099387000.0,1436643161000.0,1462128356000.0,1466880893000.0,1443172413000.0,1424372257000.0,1464635172000.0,1438457322000.0,1420981616000.0,1412445070000.0,1431286224000.0,1465587240000.0,1444075724000.0,1428233258000.0,1425674543000.0,1426191183000.0,1426607916000.0,1459889614000.0,1422467747000.0,1465060160000.0,1418056433000.0,1466349240000.0,1420741859000.0,1440791953000.0,1421776526000.0,1411542030000.0,1446030451000.0,1411201027000.0,1436301721000.0,1430762639000.0,1410547403000.0,1422038969000.0],\"y\":[7.530694565242037,6.6316804463514245,6.500766992499371,5.903683544535305,5.543904586568578,6.9162364268051295,6.717393410877305,7.021752428171513,6.667625981672587,7.988781267417407,6.688336138542586,7.527820843374726,8.329739190583984,6.662784330257975,4.598404506848535,8.174591581549155,7.367041654944693,7.659907737492002,5.205230326011463,5.934675368608669,5.536673958179106,7.183159595747414,7.389993396495658,6.265775252525623,6.255164422938618,6.989659596596395,7.156562231217974,6.78652324174341,5.9916302124482685,4.180160125629046,6.200367679261646,5.232667661461895,5.17184840993804,6.929839343755573,5.4867741304159034,5.586883412867613,6.232273364866359,7.207683015012478,8.433893842390468,7.401423644238849,6.705160419221628,6.251896629828126]}},\"id\":\"07f97daa-f58c-4c2f-9bdb-4499184105b6\",\"type\":\"ColumnDataSource\"},{\"attributes\":{\"months\":[0,4,8]},\"id\":\"379fc93e-520f-4016-9dfd-e0608c516514\",\"type\":\"MonthsTicker\"},{\"attributes\":{\"fill_alpha\":{\"value\":0.1},\"fill_color\":{\"value\":\"#1f77b4\"},\"line_alpha\":{\"value\":0.1},\"line_color\":{\"value\":\"#1f77b4\"},\"x\":{\"field\":\"x\"},\"y\":{\"field\":\"y\"}},\"id\":\"4ffc3c5e-a53d-4272-a12d-8ae3ccd0f5f8\",\"type\":\"Circle\"},{\"attributes\":{\"days\":[1,8,15,22]},\"id\":\"35e1640b-6643-4be5-b4ba-9f547b519d0a\",\"type\":\"DaysTicker\"},{\"attributes\":{\"days\":[1,8,15,22]},\"id\":\"69a95aa3-a100-4557-a09b-37ad519443fd\",\"type\":\"DaysTicker\"},{\"attributes\":{\"months\":[0,1,2,3,4,5,6,7,8,9,10,11]},\"id\":\"1e8a2899-d334-4a9f-913a-6e192d796095\",\"type\":\"MonthsTicker\"},{\"attributes\":{\"data_source\":{\"id\":\"f0e7f289-00a3-49c8-b768-91e475ba784e\",\"type\":\"ColumnDataSource\"},\"glyph\":{\"id\":\"8c747b63-73ef-40fc-a13c-b7a1bc34769d\",\"type\":\"Line\"},\"hover_glyph\":null,\"nonselection_glyph\":{\"id\":\"7c143bd9-df09-4316-a6a0-567ba2c5b5e5\",\"type\":\"Line\"},\"selection_glyph\":null},\"id\":\"18b6108e-eec6-47ce-8724-c1e174f5f02a\",\"type\":\"GlyphRenderer\"},{\"attributes\":{\"fill_alpha\":{\"value\":0.1},\"fill_color\":{\"value\":\"#1f77b4\"},\"line_alpha\":{\"value\":0.1},\"line_color\":{\"value\":\"#1f77b4\"},\"x\":{\"field\":\"x\"},\"y\":{\"field\":\"y\"}},\"id\":\"5ca14d5b-071a-4ea5-88f3-79215523806d\",\"type\":\"Circle\"},{\"attributes\":{},\"id\":\"ed43ace4-b9c2-4035-bb4e-d40bb8d6d5b4\",\"type\":\"BasicTickFormatter\"},{\"attributes\":{\"line_alpha\":{\"value\":0.1},\"line_color\":{\"value\":\"#1f77b4\"},\"x\":{\"field\":\"x\"},\"y\":{\"field\":\"y\"}},\"id\":\"7c143bd9-df09-4316-a6a0-567ba2c5b5e5\",\"type\":\"Line\"},{\"attributes\":{\"months\":[0,4,8]},\"id\":\"49a3d352-3864-4d4a-94ff-9d248df9b1c3\",\"type\":\"MonthsTicker\"},{\"attributes\":{\"axis_label\":\"Time\",\"formatter\":{\"id\":\"e8002c5e-2101-4c42-8ea2-086bff7cd360\",\"type\":\"DatetimeTickFormatter\"},\"plot\":{\"id\":\"dbe81b65-922c-4d83-bbd1-12cc496e1d0e\",\"subtype\":\"Figure\",\"type\":\"Plot\"},\"ticker\":{\"id\":\"11213ee7-7268-4d84-ae76-6245f10a3cc3\",\"type\":\"DatetimeTicker\"}},\"id\":\"5fe7c41d-9e58-49fd-bca0-349f05646a82\",\"type\":\"DatetimeAxis\"},{\"attributes\":{\"days\":[1,15]},\"id\":\"2c8f4dce-9ee3-4324-9608-fc55165bcda1\",\"type\":\"DaysTicker\"},{\"attributes\":{\"axis_label\":\"Elevation (m)\",\"formatter\":{\"id\":\"ed43ace4-b9c2-4035-bb4e-d40bb8d6d5b4\",\"type\":\"BasicTickFormatter\"},\"plot\":{\"id\":\"e4402d0d-1629-4a3a-bc58-c1fd17e238d3\",\"subtype\":\"Figure\",\"type\":\"Plot\"},\"ticker\":{\"id\":\"a576bd97-77e5-447f-bd19-f7bc06644754\",\"type\":\"BasicTicker\"}},\"id\":\"6ba80015-299a-4ce2-b655-031841138d0c\",\"type\":\"LinearAxis\"},{\"attributes\":{\"num_minor_ticks\":5},\"id\":\"11213ee7-7268-4d84-ae76-6245f10a3cc3\",\"type\":\"DatetimeTicker\"},{\"attributes\":{\"months\":[0,6]},\"id\":\"9e019e22-f05e-4685-9808-0c79da6a4901\",\"type\":\"MonthsTicker\"},{\"attributes\":{\"line_color\":{\"value\":\"#1f77b4\"},\"x\":{\"field\":\"x\"},\"y\":{\"field\":\"y\"}},\"id\":\"8c747b63-73ef-40fc-a13c-b7a1bc34769d\",\"type\":\"Line\"},{\"attributes\":{\"days\":[1,15]},\"id\":\"891b6b06-8019-4b47-b5ec-a99b7b12320a\",\"type\":\"DaysTicker\"},{\"attributes\":{\"plot\":{\"id\":\"dbe81b65-922c-4d83-bbd1-12cc496e1d0e\",\"subtype\":\"Figure\",\"type\":\"Plot\"}},\"id\":\"c63a5c84-19af-4221-8e7a-ac034b8b6f9e\",\"type\":\"ResizeTool\"},{\"attributes\":{\"plot\":{\"id\":\"e4402d0d-1629-4a3a-bc58-c1fd17e238d3\",\"subtype\":\"Figure\",\"type\":\"Plot\"}},\"id\":\"9172f81b-f377-425e-a309-a4ff828827ca\",\"type\":\"PanTool\"},{\"attributes\":{},\"id\":\"347bd9ef-5cc7-4355-8d25-175f56173844\",\"type\":\"YearsTicker\"},{\"attributes\":{\"axis_label\":\"Distance (m)\",\"formatter\":{\"id\":\"ffe09a9a-15f1-4f1a-97cf-34a8e9aab835\",\"type\":\"BasicTickFormatter\"},\"plot\":{\"id\":\"dbe81b65-922c-4d83-bbd1-12cc496e1d0e\",\"subtype\":\"Figure\",\"type\":\"Plot\"},\"ticker\":{\"id\":\"72a91517-ee01-4d6c-9c19-8bd569521a97\",\"type\":\"BasicTicker\"}},\"id\":\"fda4cfda-b76c-48b9-93db-b2a8d8eee43f\",\"type\":\"LinearAxis\"},{\"attributes\":{\"base\":24,\"mantissas\":[1,2,4,6,8,12],\"max_interval\":43200000.0,\"min_interval\":3600000.0,\"num_minor_ticks\":0},\"id\":\"8196b23e-994a-4fd3-a05c-9a87d5ca5553\",\"type\":\"AdaptiveTicker\"},{\"attributes\":{\"axis_label\":\"Time\",\"formatter\":{\"id\":\"fb236f2d-ac65-491c-ab7d-1acce9ec92f4\",\"type\":\"DatetimeTickFormatter\"},\"plot\":{\"id\":\"5ab2017d-84ea-4569-9d58-eaff71a7e928\",\"subtype\":\"Figure\",\"type\":\"Plot\"},\"ticker\":{\"id\":\"f284acab-c5e8-4d11-9cf5-275851b964b7\",\"type\":\"DatetimeTicker\"}},\"id\":\"b095cefb-58ca-4c00-8f7e-87b3b0f356e6\",\"type\":\"DatetimeAxis\"},{\"attributes\":{\"plot\":{\"id\":\"dbe81b65-922c-4d83-bbd1-12cc496e1d0e\",\"subtype\":\"Figure\",\"type\":\"Plot\"}},\"id\":\"2016d9bf-f5ac-4f62-962f-2f80f65e2c35\",\"type\":\"WheelZoomTool\"},{\"attributes\":{\"overlay\":{\"id\":\"94eb7722-cb22-407d-b5de-c68ad3652827\",\"type\":\"BoxAnnotation\"},\"plot\":{\"id\":\"5ab2017d-84ea-4569-9d58-eaff71a7e928\",\"subtype\":\"Figure\",\"type\":\"Plot\"}},\"id\":\"49f78460-1117-4160-a3bc-48cb9d5f63ea\",\"type\":\"BoxZoomTool\"},{\"attributes\":{\"days\":[1,2,3,4,5,6,7,8,9,10,11,12,13,14,15,16,17,18,19,20,21,22,23,24,25,26,27,28,29,30,31]},\"id\":\"713117c1-585f-44db-915f-867ddf5e3a62\",\"type\":\"DaysTicker\"},{\"attributes\":{\"plot\":{\"id\":\"5ab2017d-84ea-4569-9d58-eaff71a7e928\",\"subtype\":\"Figure\",\"type\":\"Plot\"}},\"id\":\"f678fc67-4146-4155-9fdd-b8221a868913\",\"type\":\"PreviewSaveTool\"},{\"attributes\":{\"plot\":{\"id\":\"5ab2017d-84ea-4569-9d58-eaff71a7e928\",\"subtype\":\"Figure\",\"type\":\"Plot\"}},\"id\":\"ce965df9-812e-402a-86db-bd15a3a52142\",\"type\":\"HelpTool\"},{\"attributes\":{},\"id\":\"d1120d47-25d7-48a3-b86f-cc36a20dc116\",\"type\":\"BasicTickFormatter\"},{\"attributes\":{\"plot\":{\"id\":\"dbe81b65-922c-4d83-bbd1-12cc496e1d0e\",\"subtype\":\"Figure\",\"type\":\"Plot\"}},\"id\":\"bcfce315-18ef-4628-a1ad-61e31d9a1d83\",\"type\":\"ResetTool\"},{\"attributes\":{\"months\":[0,1,2,3,4,5,6,7,8,9,10,11]},\"id\":\"ca3c91ae-acea-40ad-8e48-7bb2aa5470bf\",\"type\":\"MonthsTicker\"}],\"root_ids\":[\"e4402d0d-1629-4a3a-bc58-c1fd17e238d3\",\"dbe81b65-922c-4d83-bbd1-12cc496e1d0e\",\"5ab2017d-84ea-4569-9d58-eaff71a7e928\"]},\"title\":\"Bokeh Application\",\"version\":\"0.11.1\"}};\n",
       "            var render_items = [{\"docid\":\"53f3bf37-aadb-4f0e-853c-23a18f115364\",\"elementid\":\"0dd8ac9d-bdf5-46ac-8432-87fc7ded3cb9\",\"modelid\":\"5ab2017d-84ea-4569-9d58-eaff71a7e928\",\"notebook_comms_target\":\"76db144e-3fa3-4cb6-b69b-7b3d85c622d0\"}];\n",
       "            \n",
       "            Bokeh.embed.embed_items(docs_json, render_items);\n",
       "        });\n",
       "      },\n",
       "      function(Bokeh) {\n",
       "      }\n",
       "    ];\n",
       "  \n",
       "    function run_inline_js() {\n",
       "      for (var i = 0; i < inline_js.length; i++) {\n",
       "        inline_js[i](window.Bokeh);\n",
       "      }\n",
       "    }\n",
       "  \n",
       "    if (window._bokeh_is_loading === 0) {\n",
       "      console.log(\"Bokeh: BokehJS loaded, going straight to plotting\");\n",
       "      run_inline_js();\n",
       "    } else {\n",
       "      load_libs(js_urls, function() {\n",
       "        console.log(\"Bokeh: BokehJS plotting callback run at\", now());\n",
       "        run_inline_js();\n",
       "      });\n",
       "    }\n",
       "  }(this));\n",
       "</script>"
      ]
     },
     "metadata": {},
     "output_type": "display_data"
    },
    {
     "data": {
      "text/html": [
       "<p><code>&lt;Bokeh Notebook handle for <strong>In[19]</strong>&gt;</code></p>"
      ],
      "text/plain": [
       "<bokeh.io._CommsHandle at 0x7fdaed29b2b0>"
      ]
     },
     "execution_count": 19,
     "metadata": {},
     "output_type": "execute_result"
    }
   ],
   "source": [
    "speeds = [r.speed_kmph for r in all_runs]\n",
    "times = [r.start for r in all_runs]\n",
    "\n",
    "p = figure(\n",
    "    title=\"Speeds over time\", \n",
    "    background_fill_color=\"#E8DDCB\",\n",
    "    y_axis_label='Speed (km/h)', \n",
    "    x_axis_label='Time',\n",
    "    x_axis_type=\"datetime\"\n",
    ")\n",
    "\n",
    "p.circle(times, speeds)\n",
    "show(p)"
   ]
  },
  {
   "cell_type": "code",
   "execution_count": 20,
   "metadata": {
    "collapsed": false
   },
   "outputs": [
    {
     "data": {
      "text/html": [
       "\n",
       "\n",
       "    <div class=\"plotdiv\" id=\"71b6e3ff-feb7-4f15-936a-a041f3b2c504\"></div>\n",
       "<script type=\"text/javascript\">\n",
       "  \n",
       "  (function(global) {\n",
       "    function now() {\n",
       "      return new Date();\n",
       "    }\n",
       "  \n",
       "    if (typeof (window._bokeh_onload_callbacks) === \"undefined\") {\n",
       "      window._bokeh_onload_callbacks = [];\n",
       "    }\n",
       "  \n",
       "    function run_callbacks() {\n",
       "      window._bokeh_onload_callbacks.forEach(function(callback) { callback() });\n",
       "      delete window._bokeh_onload_callbacks\n",
       "      console.info(\"Bokeh: all callbacks have finished\");\n",
       "    }\n",
       "  \n",
       "    function load_libs(js_urls, callback) {\n",
       "      window._bokeh_onload_callbacks.push(callback);\n",
       "      if (window._bokeh_is_loading > 0) {\n",
       "        console.log(\"Bokeh: BokehJS is being loaded, scheduling callback at\", now());\n",
       "        return null;\n",
       "      }\n",
       "      if (js_urls == null || js_urls.length === 0) {\n",
       "        run_callbacks();\n",
       "        return null;\n",
       "      }\n",
       "      console.log(\"Bokeh: BokehJS not loaded, scheduling load and callback at\", now());\n",
       "      window._bokeh_is_loading = js_urls.length;\n",
       "      for (var i = 0; i < js_urls.length; i++) {\n",
       "        var url = js_urls[i];\n",
       "        var s = document.createElement('script');\n",
       "        s.src = url;\n",
       "        s.async = false;\n",
       "        s.onreadystatechange = s.onload = function() {\n",
       "          window._bokeh_is_loading--;\n",
       "          if (window._bokeh_is_loading === 0) {\n",
       "            console.log(\"Bokeh: all BokehJS libraries loaded\");\n",
       "            run_callbacks()\n",
       "          }\n",
       "        };\n",
       "        s.onerror = function() {\n",
       "          console.warn(\"failed to load library \" + url);\n",
       "        };\n",
       "        console.log(\"Bokeh: injecting script tag for BokehJS library: \", url);\n",
       "        document.getElementsByTagName(\"head\")[0].appendChild(s);\n",
       "      }\n",
       "    };var element = document.getElementById(\"71b6e3ff-feb7-4f15-936a-a041f3b2c504\");\n",
       "    if (element == null) {\n",
       "      console.log(\"Bokeh: ERROR: autoload.js configured with elementid '71b6e3ff-feb7-4f15-936a-a041f3b2c504' but no matching script tag was found. \")\n",
       "      return false;\n",
       "    }\n",
       "  \n",
       "    var js_urls = [];\n",
       "  \n",
       "    var inline_js = [\n",
       "      function(Bokeh) {\n",
       "        Bokeh.$(function() {\n",
       "            var docs_json = {\"4ea1f4d6-bb71-4418-acbd-51fe5ea3ece6\":{\"roots\":{\"references\":[{\"attributes\":{\"months\":[0,6]},\"id\":\"653c0351-2d23-455d-b6b4-fecc1a477cfc\",\"type\":\"MonthsTicker\"},{\"attributes\":{\"dimension\":1,\"plot\":{\"id\":\"e4402d0d-1629-4a3a-bc58-c1fd17e238d3\",\"subtype\":\"Figure\",\"type\":\"Plot\"},\"ticker\":{\"id\":\"a576bd97-77e5-447f-bd19-f7bc06644754\",\"type\":\"BasicTicker\"}},\"id\":\"975254be-903b-4d4f-aab4-f6c16a9f9d1d\",\"type\":\"Grid\"},{\"attributes\":{\"days\":[1,4,7,10,13,16,19,22,25,28]},\"id\":\"c3e6d560-ccb5-48b0-8222-32c2dbeafd9b\",\"type\":\"DaysTicker\"},{\"attributes\":{},\"id\":\"6b81a183-488d-4b2b-95e1-d726c6a18ffe\",\"type\":\"YearsTicker\"},{\"attributes\":{\"callback\":null,\"column_names\":[\"x\",\"y\"],\"data\":{\"x\":[1465328243000.0,1428148529000.0,1463844198000.0,1415554211000.0,1414697951000.0,1434131854000.0,1425920018000.0,1439056606000.0,1438106993000.0,1410246399000.0,1410099387000.0,1436643161000.0,1462128356000.0,1466880893000.0,1443172413000.0,1424372257000.0,1464635172000.0,1438457322000.0,1420981616000.0,1412445070000.0,1431286224000.0,1465587240000.0,1444075724000.0,1428233258000.0,1425674543000.0,1426191183000.0,1426607916000.0,1459889614000.0,1422467747000.0,1465060160000.0,1418056433000.0,1466349240000.0,1420741859000.0,1440791953000.0,1421776526000.0,1411542030000.0,1446030451000.0,1411201027000.0,1436301721000.0,1430762639000.0,1410547403000.0,1422038969000.0],\"y\":[5869.758041685876,2050.294537996982,5673.724969564729,5493.705520609242,5936.597828117186,4466.736025644979,8747.538975053558,7583.492622425234,4482.126354346572,1256.0139437106257,1465.8603370305834,5980.435447792143,5678.105548248082,5641.157399618419,1848.3031448360637,2102.6866123651434,4686.257052728707,9468.497064399835,4437.458852924772,5637.941600178236,5976.531944856669,10040.460857166941,9377.080509775602,4927.336038861122,12543.342213664968,9053.550749702497,9066.96676016255,9355.976346881262,6733.926622101581,5690.823548807764,3787.3912574156557,8943.501144715288,10096.597395845707,12190.74237889001,8190.534493570851,5721.8997620119135,7650.115555373454,2732.913143192231,4069.3537789534007,4580.658855378932,7770.535908053509,13061.254042482593]}},\"id\":\"6b2e2e93-e05b-4699-83f7-afd496e02446\",\"type\":\"ColumnDataSource\"},{\"attributes\":{\"fill_color\":{\"value\":\"#1f77b4\"},\"line_color\":{\"value\":\"#1f77b4\"},\"x\":{\"field\":\"x\"},\"y\":{\"field\":\"y\"}},\"id\":\"3c51afcb-2b51-48b4-916c-48f2cda587ab\",\"type\":\"Circle\"},{\"attributes\":{\"max_interval\":500.0,\"num_minor_ticks\":0},\"id\":\"72176723-8b23-40b6-99b1-ecf5a1055fdd\",\"type\":\"AdaptiveTicker\"},{\"attributes\":{\"callback\":null,\"column_names\":[\"x\",\"y\"],\"data\":{\"x\":[5.869758041685876,2.050294537996982,5.673724969564729,5.493705520609242,5.936597828117185,4.4667360256449795,8.747538975053558,7.583492622425234,4.482126354346572,1.2560139437106257,1.4658603370305834,5.980435447792144,5.678105548248082,5.641157399618419,1.8483031448360636,2.1026866123651433,4.686257052728707,9.468497064399834,4.437458852924772,5.637941600178236,5.976531944856669,10.040460857166941,9.377080509775602,4.927336038861122,12.543342213664967,9.053550749702497,9.06696676016255,9.355976346881262,6.733926622101581,5.6908235488077645,3.787391257415656,8.943501144715288,10.096597395845707,12.190742378890011,8.190534493570851,5.721899762011914,7.650115555373454,2.732913143192231,4.069353778953401,4.580658855378932,7.7705359080535095,13.061254042482593],\"y\":[0.7794444444444445,0.30916666666666665,0.8727777777777778,0.9305555555555556,1.0708333333333333,0.6458333333333334,1.3022222222222222,1.08,0.6722222222222223,0.15722222222222224,0.21916666666666668,0.7944444444444444,0.6816666666666666,0.8466666666666667,0.40194444444444444,0.25722222222222224,0.6361111111111111,1.2361111111111112,0.8525,0.95,1.0794444444444444,1.3977777777777778,1.268888888888889,0.7863888888888889,2.0052777777777777,1.2952777777777778,1.2669444444444444,1.378611111111111,1.123888888888889,1.361388888888889,0.6108333333333333,1.7091666666666667,1.9522222222222223,1.7591666666666668,1.4927777777777778,1.0241666666666667,1.2275,0.37916666666666665,0.4825,0.6188888888888889,1.1588888888888889,2.089166666666667]}},\"id\":\"3939b977-3378-4df7-8c28-612da8d73ad5\",\"type\":\"ColumnDataSource\"},{\"attributes\":{\"bottom_units\":\"screen\",\"fill_alpha\":{\"value\":0.5},\"fill_color\":{\"value\":\"lightgrey\"},\"left_units\":\"screen\",\"level\":\"overlay\",\"line_alpha\":{\"value\":1.0},\"line_color\":{\"value\":\"black\"},\"line_dash\":[4,4],\"line_width\":{\"value\":2},\"plot\":null,\"render_mode\":\"css\",\"right_units\":\"screen\",\"top_units\":\"screen\"},\"id\":\"9a1381cb-25b5-404f-9314-c9bca5ba41a9\",\"type\":\"BoxAnnotation\"},{\"attributes\":{\"plot\":{\"id\":\"dbe81b65-922c-4d83-bbd1-12cc496e1d0e\",\"subtype\":\"Figure\",\"type\":\"Plot\"}},\"id\":\"bcf524f9-992c-4558-9763-098012d2a57f\",\"type\":\"PreviewSaveTool\"},{\"attributes\":{\"months\":[0,4,8]},\"id\":\"323e4803-570d-4ffa-8dcf-400b0576a8a8\",\"type\":\"MonthsTicker\"},{\"attributes\":{},\"id\":\"1e6092e3-56da-4dd0-8eeb-332bb926636e\",\"type\":\"BasicTicker\"},{\"attributes\":{},\"id\":\"145ad887-76f2-419e-b5c6-da6f19dc35eb\",\"type\":\"ToolEvents\"},{\"attributes\":{\"plot\":{\"id\":\"5ab2017d-84ea-4569-9d58-eaff71a7e928\",\"subtype\":\"Figure\",\"type\":\"Plot\"}},\"id\":\"2a27b1a2-f7fe-4f50-a650-191cf67a1263\",\"type\":\"ResizeTool\"},{\"attributes\":{\"axis_label\":\"Speed (km/h)\",\"formatter\":{\"id\":\"d1120d47-25d7-48a3-b86f-cc36a20dc116\",\"type\":\"BasicTickFormatter\"},\"plot\":{\"id\":\"5ab2017d-84ea-4569-9d58-eaff71a7e928\",\"subtype\":\"Figure\",\"type\":\"Plot\"},\"ticker\":{\"id\":\"1e6092e3-56da-4dd0-8eeb-332bb926636e\",\"type\":\"BasicTicker\"}},\"id\":\"c1e52c45-fa0f-4d74-b156-5273b7b55ed7\",\"type\":\"LinearAxis\"},{\"attributes\":{\"days\":[1,15]},\"id\":\"c5f3d99d-4f32-44e9-a94b-64c2c10035ce\",\"type\":\"DaysTicker\"},{\"attributes\":{\"fill_alpha\":{\"value\":0.1},\"fill_color\":{\"value\":\"#1f77b4\"},\"line_alpha\":{\"value\":0.1},\"line_color\":{\"value\":\"#1f77b4\"},\"x\":{\"field\":\"x\"},\"y\":{\"field\":\"y\"}},\"id\":\"43f68b92-6cab-4375-9c6b-eed2f2726172\",\"type\":\"Circle\"},{\"attributes\":{},\"id\":\"7f725af8-a286-4b0e-8c0d-10f9be7403f6\",\"type\":\"ToolEvents\"},{\"attributes\":{\"days\":[1,4,7,10,13,16,19,22,25,28]},\"id\":\"e928e4fa-e5c1-458d-8f3a-80a2a1641c34\",\"type\":\"DaysTicker\"},{\"attributes\":{\"axis_label\":\"Distance (km)\",\"formatter\":{\"id\":\"6b757496-c76d-47d0-9682-219aab127039\",\"type\":\"BasicTickFormatter\"},\"plot\":{\"id\":\"d1aacc8d-c475-4510-b019-5bbd8b81f3ad\",\"subtype\":\"Figure\",\"type\":\"Plot\"},\"ticker\":{\"id\":\"fc9b82dc-c2fe-4fdc-9597-2e52be6db886\",\"type\":\"BasicTicker\"}},\"id\":\"50cde702-cd19-46f2-8cfc-b33527435b5a\",\"type\":\"LinearAxis\"},{\"attributes\":{\"days\":[1,2,3,4,5,6,7,8,9,10,11,12,13,14,15,16,17,18,19,20,21,22,23,24,25,26,27,28,29,30,31]},\"id\":\"6e9ee585-b9e9-4641-8864-6aadbc870d6e\",\"type\":\"DaysTicker\"},{\"attributes\":{},\"id\":\"e8002c5e-2101-4c42-8ea2-086bff7cd360\",\"type\":\"DatetimeTickFormatter\"},{\"attributes\":{\"num_minor_ticks\":5},\"id\":\"f284acab-c5e8-4d11-9cf5-275851b964b7\",\"type\":\"DatetimeTicker\"},{\"attributes\":{\"base\":60,\"mantissas\":[1,2,5,10,15,20,30],\"max_interval\":1800000.0,\"min_interval\":1000.0,\"num_minor_ticks\":0},\"id\":\"cf3a928b-c0d5-4a20-9538-30be6c0866e9\",\"type\":\"AdaptiveTicker\"},{\"attributes\":{\"line_alpha\":{\"value\":0.1},\"line_color\":{\"value\":\"#1f77b4\"},\"x\":{\"field\":\"x\"},\"y\":{\"field\":\"y\"}},\"id\":\"7c143bd9-df09-4316-a6a0-567ba2c5b5e5\",\"type\":\"Line\"},{\"attributes\":{},\"id\":\"a576bd97-77e5-447f-bd19-f7bc06644754\",\"type\":\"BasicTicker\"},{\"attributes\":{\"num_minor_ticks\":5},\"id\":\"a2670a78-e859-4260-8813-6d3d93ab7c44\",\"type\":\"DatetimeTicker\"},{\"attributes\":{\"callback\":null},\"id\":\"3adcda21-fdde-43da-b4ee-f4edad906963\",\"type\":\"DataRange1d\"},{\"attributes\":{},\"id\":\"fb236f2d-ac65-491c-ab7d-1acce9ec92f4\",\"type\":\"DatetimeTickFormatter\"},{\"attributes\":{},\"id\":\"add1cae2-233e-4a14-a228-941f9b8ae217\",\"type\":\"DatetimeTickFormatter\"},{\"attributes\":{\"overlay\":{\"id\":\"9a1381cb-25b5-404f-9314-c9bca5ba41a9\",\"type\":\"BoxAnnotation\"},\"plot\":{\"id\":\"dbe81b65-922c-4d83-bbd1-12cc496e1d0e\",\"subtype\":\"Figure\",\"type\":\"Plot\"}},\"id\":\"9fefabd4-bb07-49ad-8046-99ccd8f92dde\",\"type\":\"BoxZoomTool\"},{\"attributes\":{},\"id\":\"04cf2a77-a841-4a31-8881-de48b62eb73c\",\"type\":\"BasicTicker\"},{\"attributes\":{\"bottom_units\":\"screen\",\"fill_alpha\":{\"value\":0.5},\"fill_color\":{\"value\":\"lightgrey\"},\"left_units\":\"screen\",\"level\":\"overlay\",\"line_alpha\":{\"value\":1.0},\"line_color\":{\"value\":\"black\"},\"line_dash\":[4,4],\"line_width\":{\"value\":2},\"plot\":null,\"render_mode\":\"css\",\"right_units\":\"screen\",\"top_units\":\"screen\"},\"id\":\"32d99567-b874-4832-8b33-b6fffc90099c\",\"type\":\"BoxAnnotation\"},{\"attributes\":{\"dimension\":1,\"plot\":{\"id\":\"dbe81b65-922c-4d83-bbd1-12cc496e1d0e\",\"subtype\":\"Figure\",\"type\":\"Plot\"},\"ticker\":{\"id\":\"72a91517-ee01-4d6c-9c19-8bd569521a97\",\"type\":\"BasicTicker\"}},\"id\":\"9f03545e-b82b-4a93-bdf3-aee6728c8682\",\"type\":\"Grid\"},{\"attributes\":{\"callback\":null},\"id\":\"3baff894-66a0-4a69-ac0a-1926acd7bf45\",\"type\":\"DataRange1d\"},{\"attributes\":{\"base\":24,\"mantissas\":[1,2,4,6,8,12],\"max_interval\":43200000.0,\"min_interval\":3600000.0,\"num_minor_ticks\":0},\"id\":\"829507f3-d49d-4628-ac7d-cdb020a8f5bd\",\"type\":\"AdaptiveTicker\"},{\"attributes\":{},\"id\":\"72a91517-ee01-4d6c-9c19-8bd569521a97\",\"type\":\"BasicTicker\"},{\"attributes\":{\"days\":[1,4,7,10,13,16,19,22,25,28]},\"id\":\"0a8781d1-5e5a-4023-b421-ebd60838ff30\",\"type\":\"DaysTicker\"},{\"attributes\":{\"callback\":null},\"id\":\"2f814c14-d3cc-41de-9148-1db904096818\",\"type\":\"DataRange1d\"},{\"attributes\":{\"days\":[1,8,15,22]},\"id\":\"69a95aa3-a100-4557-a09b-37ad519443fd\",\"type\":\"DaysTicker\"},{\"attributes\":{\"plot\":{\"id\":\"dbe81b65-922c-4d83-bbd1-12cc496e1d0e\",\"subtype\":\"Figure\",\"type\":\"Plot\"},\"ticker\":{\"id\":\"11213ee7-7268-4d84-ae76-6245f10a3cc3\",\"type\":\"DatetimeTicker\"}},\"id\":\"df110571-7988-4922-a621-029476685a82\",\"type\":\"Grid\"},{\"attributes\":{\"axis_label\":\"Time in hours\",\"formatter\":{\"id\":\"c2910601-212f-4fed-a8ac-20b7f67ee663\",\"type\":\"BasicTickFormatter\"},\"plot\":{\"id\":\"d1aacc8d-c475-4510-b019-5bbd8b81f3ad\",\"subtype\":\"Figure\",\"type\":\"Plot\"},\"ticker\":{\"id\":\"04cf2a77-a841-4a31-8881-de48b62eb73c\",\"type\":\"BasicTicker\"}},\"id\":\"7eb416a4-6cc8-42b0-acbc-b18032b3f1fc\",\"type\":\"LinearAxis\"},{\"attributes\":{\"background_fill_color\":{\"value\":\"#E8DDCB\"},\"below\":[{\"id\":\"50cde702-cd19-46f2-8cfc-b33527435b5a\",\"type\":\"LinearAxis\"}],\"left\":[{\"id\":\"7eb416a4-6cc8-42b0-acbc-b18032b3f1fc\",\"type\":\"LinearAxis\"}],\"renderers\":[{\"id\":\"50cde702-cd19-46f2-8cfc-b33527435b5a\",\"type\":\"LinearAxis\"},{\"id\":\"594ccbf5-b6a8-4165-95a0-edcba7fbfc0f\",\"type\":\"Grid\"},{\"id\":\"7eb416a4-6cc8-42b0-acbc-b18032b3f1fc\",\"type\":\"LinearAxis\"},{\"id\":\"61b40930-c7ce-40cc-bf6f-97052a8a51e9\",\"type\":\"Grid\"},{\"id\":\"21aef3b2-c46c-4826-8f62-2ba5e9deaeca\",\"type\":\"BoxAnnotation\"},{\"id\":\"97ccc108-7221-425d-a9cf-e79fcc9932d0\",\"type\":\"GlyphRenderer\"}],\"title\":\"Speeds \",\"tool_events\":{\"id\":\"7f725af8-a286-4b0e-8c0d-10f9be7403f6\",\"type\":\"ToolEvents\"},\"tools\":[{\"id\":\"57732c68-c753-4138-aa99-80a0a18b0ab1\",\"type\":\"PanTool\"},{\"id\":\"a0e58975-de11-44f5-9f8d-8ab87960872e\",\"type\":\"WheelZoomTool\"},{\"id\":\"c352eae9-687b-4ede-bc7e-368979f3aefb\",\"type\":\"BoxZoomTool\"},{\"id\":\"dd5b52ae-39c7-4888-b425-2704bd86d0f7\",\"type\":\"PreviewSaveTool\"},{\"id\":\"85906e22-6d32-47cb-8316-f020695a45b9\",\"type\":\"ResizeTool\"},{\"id\":\"ac6e979b-c3ab-414d-a592-0135f0f8a134\",\"type\":\"ResetTool\"},{\"id\":\"9ed20729-25b0-4ad8-a6a8-8c38b8fc0e6a\",\"type\":\"HelpTool\"}],\"x_range\":{\"id\":\"c142c82d-d888-4be5-bdd0-b800b62e69d5\",\"type\":\"DataRange1d\"},\"y_range\":{\"id\":\"67eceb09-572f-49ce-bcae-eaf1d8ddd01f\",\"type\":\"DataRange1d\"}},\"id\":\"d1aacc8d-c475-4510-b019-5bbd8b81f3ad\",\"subtype\":\"Figure\",\"type\":\"Plot\"},{\"attributes\":{\"months\":[0,1,2,3,4,5,6,7,8,9,10,11]},\"id\":\"97baa119-4d11-4df7-ae5c-f8ef2cf5131e\",\"type\":\"MonthsTicker\"},{\"attributes\":{\"bottom_units\":\"screen\",\"fill_alpha\":{\"value\":0.5},\"fill_color\":{\"value\":\"lightgrey\"},\"left_units\":\"screen\",\"level\":\"overlay\",\"line_alpha\":{\"value\":1.0},\"line_color\":{\"value\":\"black\"},\"line_dash\":[4,4],\"line_width\":{\"value\":2},\"plot\":null,\"render_mode\":\"css\",\"right_units\":\"screen\",\"top_units\":\"screen\"},\"id\":\"94eb7722-cb22-407d-b5de-c68ad3652827\",\"type\":\"BoxAnnotation\"},{\"attributes\":{\"background_fill_color\":{\"value\":\"#E8DDCB\"},\"below\":[{\"id\":\"5fe7c41d-9e58-49fd-bca0-349f05646a82\",\"type\":\"DatetimeAxis\"}],\"left\":[{\"id\":\"fda4cfda-b76c-48b9-93db-b2a8d8eee43f\",\"type\":\"LinearAxis\"}],\"renderers\":[{\"id\":\"5fe7c41d-9e58-49fd-bca0-349f05646a82\",\"type\":\"DatetimeAxis\"},{\"id\":\"df110571-7988-4922-a621-029476685a82\",\"type\":\"Grid\"},{\"id\":\"fda4cfda-b76c-48b9-93db-b2a8d8eee43f\",\"type\":\"LinearAxis\"},{\"id\":\"9f03545e-b82b-4a93-bdf3-aee6728c8682\",\"type\":\"Grid\"},{\"id\":\"9a1381cb-25b5-404f-9314-c9bca5ba41a9\",\"type\":\"BoxAnnotation\"},{\"id\":\"c5071262-9a06-4098-bded-6cdd7b46e10e\",\"type\":\"GlyphRenderer\"}],\"title\":\"Distances run over time\",\"tool_events\":{\"id\":\"fda6d599-9462-48ac-901f-cb3ee74c708e\",\"type\":\"ToolEvents\"},\"tools\":[{\"id\":\"c3e6eb24-f47b-483f-acdc-b2c191232104\",\"type\":\"PanTool\"},{\"id\":\"2016d9bf-f5ac-4f62-962f-2f80f65e2c35\",\"type\":\"WheelZoomTool\"},{\"id\":\"9fefabd4-bb07-49ad-8046-99ccd8f92dde\",\"type\":\"BoxZoomTool\"},{\"id\":\"bcf524f9-992c-4558-9763-098012d2a57f\",\"type\":\"PreviewSaveTool\"},{\"id\":\"c63a5c84-19af-4221-8e7a-ac034b8b6f9e\",\"type\":\"ResizeTool\"},{\"id\":\"bcfce315-18ef-4628-a1ad-61e31d9a1d83\",\"type\":\"ResetTool\"},{\"id\":\"1f3b9931-e2a6-41f3-b12d-a768a5963174\",\"type\":\"HelpTool\"}],\"x_range\":{\"id\":\"3baff894-66a0-4a69-ac0a-1926acd7bf45\",\"type\":\"DataRange1d\"},\"y_range\":{\"id\":\"f283b7d6-790d-419a-8223-c16ec8467562\",\"type\":\"DataRange1d\"}},\"id\":\"dbe81b65-922c-4d83-bbd1-12cc496e1d0e\",\"subtype\":\"Figure\",\"type\":\"Plot\"},{\"attributes\":{\"days\":[1,8,15,22]},\"id\":\"31ad8910-2aab-4960-8fa5-006ba0743129\",\"type\":\"DaysTicker\"},{\"attributes\":{\"callback\":null,\"column_names\":[\"x\",\"y\"],\"data\":{\"x\":[1466880893000.0,1466880895000.0,1466880898000.0,1466880911000.0,1466880918000.0,1466880929000.0,1466880933000.0,1466880936000.0,1466880939000.0,1466880942000.0,1466880945000.0,1466880948000.0,1466880951000.0,1466880954000.0,1466880957000.0,1466880960000.0,1466880964000.0,1466880967000.0,1466880970000.0,1466880973000.0,1466880976000.0,1466880980000.0,1466880983000.0,1466880987000.0,1466880991000.0,1466880995000.0,1466880999000.0,1466881003000.0,1466881006000.0,1466881009000.0,1466881012000.0,1466881015000.0,1466881018000.0,1466881021000.0,1466881024000.0,1466881027000.0,1466881031000.0,1466881034000.0,1466881038000.0,1466881071000.0,1466881074000.0,1466881077000.0,1466881080000.0,1466881082000.0,1466881085000.0,1466881088000.0,1466881091000.0,1466881094000.0,1466881097000.0,1466881100000.0,1466881103000.0,1466881106000.0,1466881109000.0,1466881112000.0,1466881116000.0,1466881138000.0,1466881141000.0,1466881144000.0,1466881147000.0,1466881150000.0,1466881153000.0,1466881156000.0,1466881159000.0,1466881162000.0,1466881165000.0,1466881168000.0,1466881171000.0,1466881175000.0,1466881178000.0,1466881181000.0,1466881184000.0,1466881187000.0,1466881190000.0,1466881193000.0,1466881196000.0,1466881200000.0,1466881214000.0,1466881222000.0,1466881226000.0,1466881229000.0,1466881232000.0,1466881235000.0,1466881238000.0,1466881241000.0,1466881244000.0,1466881247000.0,1466881250000.0,1466881253000.0,1466881256000.0,1466881259000.0,1466881262000.0,1466881265000.0,1466881268000.0,1466881271000.0,1466881274000.0,1466881285000.0,1466881301000.0,1466881304000.0,1466881307000.0,1466881309000.0,1466881312000.0,1466881315000.0,1466881318000.0,1466881322000.0,1466881325000.0,1466881328000.0,1466881331000.0,1466881335000.0,1466881350000.0,1466881358000.0,1466881361000.0,1466881364000.0,1466881367000.0,1466881370000.0,1466881373000.0,1466881376000.0,1466881379000.0,1466881383000.0,1466881386000.0,1466881389000.0,1466881392000.0,1466881396000.0,1466881400000.0,1466881403000.0,1466881406000.0,1466881409000.0,1466881412000.0,1466881437000.0,1466881447000.0,1466881451000.0,1466881454000.0,1466881457000.0,1466881460000.0,1466881463000.0,1466881466000.0,1466881469000.0,1466881472000.0,1466881475000.0,1466881478000.0,1466881480000.0,1466881483000.0,1466881486000.0,1466881489000.0,1466881492000.0,1466881495000.0,1466881498000.0,1466881501000.0,1466881504000.0,1466881507000.0,1466881510000.0,1466881513000.0,1466881516000.0,1466881520000.0,1466881523000.0,1466881526000.0,1466881530000.0,1466881534000.0,1466881544000.0,1466881556000.0,1466881564000.0,1466881571000.0,1466881578000.0,1466881586000.0,1466881597000.0,1466881604000.0,1466881613000.0,1466881621000.0,1466881624000.0,1466881627000.0,1466881631000.0,1466881635000.0,1466881639000.0,1466881643000.0,1466881647000.0,1466881651000.0,1466881655000.0,1466881659000.0,1466881663000.0,1466881683000.0,1466881690000.0,1466881694000.0,1466881698000.0,1466881702000.0,1466881707000.0,1466881712000.0,1466881717000.0,1466881722000.0,1466881726000.0,1466881732000.0,1466881737000.0,1466881741000.0,1466881746000.0,1466881751000.0,1466881759000.0,1466881769000.0,1466881780000.0,1466881789000.0,1466881797000.0,1466881807000.0,1466881813000.0,1466881817000.0,1466881821000.0,1466881826000.0,1466881868000.0,1466881872000.0,1466881877000.0,1466881881000.0,1466881885000.0,1466881889000.0,1466881893000.0,1466881897000.0,1466881903000.0,1466881908000.0,1466881913000.0,1466881919000.0,1466881945000.0,1466881957000.0,1466881961000.0,1466881965000.0,1466881970000.0,1466881997000.0,1466882002000.0,1466882040000.0,1466882045000.0,1466882050000.0,1466882056000.0,1466882061000.0,1466882067000.0,1466882072000.0,1466882076000.0,1466882080000.0,1466882083000.0,1466882087000.0,1466882092000.0,1466882097000.0,1466882102000.0,1466882107000.0,1466882111000.0,1466882144000.0,1466882166000.0,1466882175000.0,1466882183000.0,1466882222000.0,1466882326000.0,1466882332000.0,1466882336000.0,1466882339000.0,1466882342000.0,1466882345000.0,1466882348000.0,1466882352000.0,1466882356000.0,1466882360000.0,1466882364000.0,1466882368000.0,1466882373000.0,1466882378000.0,1466882383000.0,1466882387000.0,1466882391000.0,1466882395000.0,1466882399000.0,1466882404000.0,1466882420000.0,1466882424000.0,1466882428000.0,1466882432000.0,1466882436000.0,1466882441000.0,1466882446000.0,1466882452000.0,1466882456000.0,1466882460000.0,1466882464000.0,1466882468000.0,1466882472000.0,1466882476000.0,1466882480000.0,1466882485000.0,1466882490000.0,1466882494000.0,1466882500000.0,1466882506000.0,1466882511000.0,1466882518000.0,1466882527000.0,1466882540000.0,1466882545000.0,1466882550000.0,1466882555000.0,1466882562000.0,1466882568000.0,1466882573000.0,1466882578000.0,1466882584000.0,1466882589000.0,1466882604000.0,1466882643000.0,1466882654000.0,1466882662000.0,1466882666000.0,1466882669000.0,1466882673000.0,1466882677000.0,1466882681000.0,1466882687000.0,1466882692000.0,1466882697000.0,1466882732000.0,1466882737000.0,1466882743000.0,1466882748000.0,1466882752000.0,1466882758000.0,1466882764000.0,1466882770000.0,1466882799000.0,1466882803000.0,1466882806000.0,1466882809000.0,1466882812000.0,1466882816000.0,1466882820000.0,1466882824000.0,1466882829000.0,1466882832000.0,1466882835000.0,1466882839000.0,1466882842000.0,1466882846000.0,1466882850000.0,1466882854000.0,1466882858000.0,1466882863000.0,1466882867000.0,1466882871000.0,1466882876000.0,1466882883000.0,1466882892000.0,1466882902000.0,1466882933000.0,1466882937000.0,1466882941000.0,1466882945000.0,1466882949000.0,1466882953000.0,1466882957000.0,1466882961000.0,1466882965000.0,1466882969000.0,1466882993000.0,1466882997000.0,1466883001000.0,1466883005000.0,1466883009000.0,1466883014000.0,1466883019000.0,1466883024000.0,1466883028000.0,1466883032000.0,1466883036000.0,1466883040000.0,1466883044000.0,1466883048000.0,1466883052000.0,1466883057000.0,1466883062000.0,1466883082000.0,1466883098000.0,1466883102000.0,1466883106000.0,1466883109000.0,1466883112000.0,1466883116000.0,1466883120000.0,1466883124000.0,1466883129000.0,1466883135000.0,1466883142000.0,1466883150000.0,1466883161000.0,1466883169000.0,1466883174000.0,1466883179000.0,1466883183000.0,1466883186000.0,1466883189000.0,1466883193000.0,1466883196000.0,1466883199000.0,1466883203000.0,1466883209000.0,1466883213000.0,1466883217000.0,1466883221000.0,1466883225000.0,1466883229000.0,1466883233000.0,1466883238000.0,1466883243000.0,1466883247000.0,1466883250000.0,1466883253000.0,1466883257000.0,1466883260000.0,1466883264000.0,1466883269000.0,1466883274000.0,1466883296000.0,1466883301000.0,1466883304000.0,1466883308000.0,1466883314000.0,1466883319000.0,1466883323000.0,1466883326000.0,1466883329000.0,1466883333000.0,1466883337000.0,1466883341000.0,1466883345000.0,1466883349000.0,1466883353000.0,1466883358000.0,1466883363000.0,1466883368000.0,1466883374000.0,1466883380000.0,1466883385000.0,1466883390000.0,1466883394000.0,1466883399000.0,1466883413000.0,1466883430000.0,1466883439000.0,1466883448000.0,1466883452000.0,1466883456000.0,1466883460000.0,1466883464000.0,1466883468000.0,1466883473000.0,1466883478000.0,1466883483000.0,1466883489000.0,1466883494000.0,1466883498000.0,1466883502000.0,1466883507000.0,1466883513000.0,1466883518000.0,1466883523000.0,1466883558000.0,1466883562000.0,1466883566000.0,1466883570000.0,1466883574000.0,1466883578000.0,1466883582000.0,1466883587000.0,1466883592000.0,1466883598000.0,1466883605000.0,1466883612000.0,1466883620000.0,1466883630000.0,1466883642000.0,1466883650000.0,1466883659000.0,1466883667000.0,1466883676000.0,1466883684000.0,1466883692000.0,1466883700000.0,1466883709000.0,1466883719000.0,1466883728000.0,1466883736000.0,1466883743000.0,1466883753000.0,1466883763000.0,1466883772000.0,1466883781000.0,1466883789000.0,1466883799000.0,1466883807000.0,1466883817000.0,1466883828000.0,1466883836000.0,1466883844000.0,1466883852000.0,1466883861000.0,1466883871000.0,1466883879000.0,1466883888000.0,1466883897000.0,1466883904000.0,1466883915000.0,1466883941000.0],\"y\":[327.0,326.7,326.5,326.3,325.9,325.5,325.0,324.5,323.9,323.2,322.7,322.3,321.8,321.4,320.9,320.5,320.2,319.8,319.5,319.1,318.9,318.7,318.5,318.4,318.2,318.0,318.0,318.0,318.0,318.0,317.3,316.5,315.8,315.1,314.4,313.6,312.9,312.2,311.5,310.7,310.0,309.4,308.7,308.1,307.5,306.8,306.2,305.5,304.9,304.0,303.1,302.2,301.9,301.6,301.4,301.0,300.6,300.3,299.7,299.2,298.9,298.6,298.4,298.1,297.8,297.5,297.1,296.6,296.2,295.9,295.6,295.3,294.9,294.5,294.2,293.8,293.5,293.4,293.3,293.2,293.1,293.0,292.9,292.5,292.2,291.8,291.5,291.1,290.7,290.4,290.0,289.6,289.4,289.2,289.3,289.4,289.5,289.5,289.6,289.7,289.6,289.5,289.5,289.3,289.1,288.9,288.7,288.5,288.3,288.0,287.7,287.6,287.5,287.5,287.4,287.3,286.9,286.5,286.2,285.7,285.3,284.8,284.4,283.9,283.5,283.0,282.5,282.4,282.2,282.0,282.0,282.0,282.0,281.8,281.6,281.5,281.2,280.9,280.5,280.2,279.8,279.5,279.1,278.7,278.5,278.2,277.9,277.7,277.5,277.5,277.4,277.3,277.0,276.7,276.5,276.3,276.1,275.9,275.7,275.5,275.4,275.2,275.0,275.0,275.0,275.0,275.0,275.2,275.4,275.5,275.7,275.9,276.1,276.3,276.5,276.6,276.8,277.2,277.4,277.5,277.7,277.9,278.1,278.3,278.5,278.6,279.0,279.4,279.5,279.7,279.9,280.1,280.3,280.5,280.6,280.8,281.1,281.4,281.6,281.9,282.2,282.5,282.7,283.0,283.3,283.7,284.5,285.1,285.5,286.0,286.5,286.9,287.4,287.8,288.7,289.6,290.4,290.8,291.6,292.5,293.3,294.1,294.9,295.9,296.9,297.5,298.0,298.5,299.1,299.5,299.8,300.4,300.9,301.5,301.8,302.2,302.5,302.9,303.3,303.6,303.8,304.0,304.0,304.0,304.3,304.5,304.8,305.1,305.4,305.6,305.9,306.2,306.5,306.7,307.0,307.0,307.4,307.7,308.1,308.5,309.0,309.5,309.9,310.4,310.8,311.3,311.7,311.8,311.9,312.0,312.0,312.0,312.3,312.5,312.8,313.1,313.4,313.8,314.3,314.7,315.2,315.6,316.1,316.3,316.6,317.0,317.4,318.2,318.8,319.5,320.1,320.9,321.7,322.5,323.4,324.0,324.6,325.3,325.6,326.0,326.7,327.5,328.0,328.5,329.1,329.6,330.5,331.3,332.1,332.7,333.4,333.6,333.6,333.6,333.6,333.6,333.6,333.4,332.9,332.5,332.0,331.5,331.1,330.9,330.5,330.2,329.8,329.5,329.1,328.9,328.7,328.5,328.4,328.2,328.0,328.0,328.0,328.0,328.0,328.0,328.1,328.2,328.3,328.4,328.5,328.5,328.6,328.7,328.8,328.9,329.0,328.9,328.8,328.7,328.6,328.5,328.5,328.4,328.3,328.2,328.1,328.0,328.0,328.0,328.0,328.0,328.0,328.0,328.0,328.0,328.0,327.7,327.5,327.2,326.9,326.6,326.4,325.9,325.5,325.0,324.5,324.1,323.9,323.2,322.5,321.7,321.0,321.2,321.5,321.4,321.2,321.0,320.8,320.6,321.0,320.6,320.3,319.9,318.6,317.4,316.0,314.6,313.3,311.9,310.5,309.2,308.5,307.7,307.0,306.3,305.5,305.4,305.2,305.0,304.8,304.6,304.5,304.5,304.5,304.5,304.5,304.5,304.6,304.8,305.0,305.2,305.4,305.5,305.8,306.1,306.4,306.6,306.9,307.2,307.5,307.7,308.0,308.3,308.5,308.9,309.3,309.6,310.0,310.4,310.8,311.3,311.7,312.2,312.6,313.1,313.5,313.8,314.2,314.0,314.4,314.7,315.1,315.5,315.8,316.2,316.5,316.7,316.9,317.1,317.8,318.0,318.0,318.0,318.0,318.0,318.0,318.0,318.0,318.2,318.4,318.5,318.7,318.9,319.1,319.5,319.8,320.2,320.5,320.9,321.4,321.8,322.3,322.7,323.2,323.6,324.2,324.7,325.3,325.8,326.2,326.3,326.5,326.7,327.0]}},\"id\":\"f0e7f289-00a3-49c8-b768-91e475ba784e\",\"type\":\"ColumnDataSource\"},{\"attributes\":{\"plot\":{\"id\":\"5ab2017d-84ea-4569-9d58-eaff71a7e928\",\"subtype\":\"Figure\",\"type\":\"Plot\"}},\"id\":\"ee1d871a-70fa-45ba-a5cc-164d348c5591\",\"type\":\"WheelZoomTool\"},{\"attributes\":{\"plot\":{\"id\":\"e4402d0d-1629-4a3a-bc58-c1fd17e238d3\",\"subtype\":\"Figure\",\"type\":\"Plot\"},\"ticker\":{\"id\":\"a2670a78-e859-4260-8813-6d3d93ab7c44\",\"type\":\"DatetimeTicker\"}},\"id\":\"fe5acaea-afbd-4896-bee9-a314453b2a5c\",\"type\":\"Grid\"},{\"attributes\":{\"plot\":{\"id\":\"d1aacc8d-c475-4510-b019-5bbd8b81f3ad\",\"subtype\":\"Figure\",\"type\":\"Plot\"}},\"id\":\"85906e22-6d32-47cb-8316-f020695a45b9\",\"type\":\"ResizeTool\"},{\"attributes\":{\"months\":[0,6]},\"id\":\"bd0bdbf4-59a7-4ef3-ae7e-91b2f003998d\",\"type\":\"MonthsTicker\"},{\"attributes\":{\"plot\":{\"id\":\"d1aacc8d-c475-4510-b019-5bbd8b81f3ad\",\"subtype\":\"Figure\",\"type\":\"Plot\"}},\"id\":\"9ed20729-25b0-4ad8-a6a8-8c38b8fc0e6a\",\"type\":\"HelpTool\"},{\"attributes\":{\"plot\":{\"id\":\"e4402d0d-1629-4a3a-bc58-c1fd17e238d3\",\"subtype\":\"Figure\",\"type\":\"Plot\"}},\"id\":\"25b1efde-3098-4fd7-85bb-5d938ca96386\",\"type\":\"HelpTool\"},{\"attributes\":{\"plot\":{\"id\":\"dbe81b65-922c-4d83-bbd1-12cc496e1d0e\",\"subtype\":\"Figure\",\"type\":\"Plot\"}},\"id\":\"1f3b9931-e2a6-41f3-b12d-a768a5963174\",\"type\":\"HelpTool\"},{\"attributes\":{\"callback\":null},\"id\":\"67eceb09-572f-49ce-bcae-eaf1d8ddd01f\",\"type\":\"DataRange1d\"},{\"attributes\":{\"months\":[0,2,4,6,8,10]},\"id\":\"6d8ae1b2-c3f8-455c-8ab0-f9bfe0aea741\",\"type\":\"MonthsTicker\"},{\"attributes\":{\"callback\":null},\"id\":\"95cce9db-6e8c-4856-b4f0-cdfddad6efc7\",\"type\":\"DataRange1d\"},{\"attributes\":{\"callback\":null},\"id\":\"c142c82d-d888-4be5-bdd0-b800b62e69d5\",\"type\":\"DataRange1d\"},{\"attributes\":{\"base\":60,\"mantissas\":[1,2,5,10,15,20,30],\"max_interval\":1800000.0,\"min_interval\":1000.0,\"num_minor_ticks\":0},\"id\":\"9178a1e7-4d18-424b-9d51-bf3f61a0a34f\",\"type\":\"AdaptiveTicker\"},{\"attributes\":{},\"id\":\"ffe09a9a-15f1-4f1a-97cf-34a8e9aab835\",\"type\":\"BasicTickFormatter\"},{\"attributes\":{\"background_fill_color\":{\"value\":\"#E8DDCB\"},\"below\":[{\"id\":\"b095cefb-58ca-4c00-8f7e-87b3b0f356e6\",\"type\":\"DatetimeAxis\"}],\"left\":[{\"id\":\"c1e52c45-fa0f-4d74-b156-5273b7b55ed7\",\"type\":\"LinearAxis\"}],\"renderers\":[{\"id\":\"b095cefb-58ca-4c00-8f7e-87b3b0f356e6\",\"type\":\"DatetimeAxis\"},{\"id\":\"ac992d7c-888f-4034-96de-99be8ef07e62\",\"type\":\"Grid\"},{\"id\":\"c1e52c45-fa0f-4d74-b156-5273b7b55ed7\",\"type\":\"LinearAxis\"},{\"id\":\"5e40703e-8a8f-4672-bcb5-851af33bd56f\",\"type\":\"Grid\"},{\"id\":\"94eb7722-cb22-407d-b5de-c68ad3652827\",\"type\":\"BoxAnnotation\"},{\"id\":\"d522091a-6a5c-4e3d-8df1-be28a92ae129\",\"type\":\"GlyphRenderer\"}],\"title\":\"Speeds over time\",\"tool_events\":{\"id\":\"f85d815f-8fcf-4232-83d8-59c26fe56224\",\"type\":\"ToolEvents\"},\"tools\":[{\"id\":\"a60e2d49-8c85-4ce6-8f5e-f2a09e1e753f\",\"type\":\"PanTool\"},{\"id\":\"ee1d871a-70fa-45ba-a5cc-164d348c5591\",\"type\":\"WheelZoomTool\"},{\"id\":\"49f78460-1117-4160-a3bc-48cb9d5f63ea\",\"type\":\"BoxZoomTool\"},{\"id\":\"f678fc67-4146-4155-9fdd-b8221a868913\",\"type\":\"PreviewSaveTool\"},{\"id\":\"2a27b1a2-f7fe-4f50-a650-191cf67a1263\",\"type\":\"ResizeTool\"},{\"id\":\"821b930b-c68d-42d4-ae75-18c3b74a31aa\",\"type\":\"ResetTool\"},{\"id\":\"ce965df9-812e-402a-86db-bd15a3a52142\",\"type\":\"HelpTool\"}],\"x_range\":{\"id\":\"95cce9db-6e8c-4856-b4f0-cdfddad6efc7\",\"type\":\"DataRange1d\"},\"y_range\":{\"id\":\"2f814c14-d3cc-41de-9148-1db904096818\",\"type\":\"DataRange1d\"}},\"id\":\"5ab2017d-84ea-4569-9d58-eaff71a7e928\",\"subtype\":\"Figure\",\"type\":\"Plot\"},{\"attributes\":{\"axis_label\":\"Time\",\"formatter\":{\"id\":\"add1cae2-233e-4a14-a228-941f9b8ae217\",\"type\":\"DatetimeTickFormatter\"},\"plot\":{\"id\":\"e4402d0d-1629-4a3a-bc58-c1fd17e238d3\",\"subtype\":\"Figure\",\"type\":\"Plot\"},\"ticker\":{\"id\":\"a2670a78-e859-4260-8813-6d3d93ab7c44\",\"type\":\"DatetimeTicker\"}},\"id\":\"8bcf7c10-dcce-4afd-8b3f-05478bd6379e\",\"type\":\"DatetimeAxis\"},{\"attributes\":{\"dimension\":1,\"plot\":{\"id\":\"5ab2017d-84ea-4569-9d58-eaff71a7e928\",\"subtype\":\"Figure\",\"type\":\"Plot\"},\"ticker\":{\"id\":\"1e6092e3-56da-4dd0-8eeb-332bb926636e\",\"type\":\"BasicTicker\"}},\"id\":\"5e40703e-8a8f-4672-bcb5-851af33bd56f\",\"type\":\"Grid\"},{\"attributes\":{\"plot\":{\"id\":\"d1aacc8d-c475-4510-b019-5bbd8b81f3ad\",\"subtype\":\"Figure\",\"type\":\"Plot\"}},\"id\":\"57732c68-c753-4138-aa99-80a0a18b0ab1\",\"type\":\"PanTool\"},{\"attributes\":{\"callback\":null},\"id\":\"a8ee7f3c-f654-4f7a-a82a-34db6ef53a43\",\"type\":\"DataRange1d\"},{\"attributes\":{},\"id\":\"fc9b82dc-c2fe-4fdc-9597-2e52be6db886\",\"type\":\"BasicTicker\"},{\"attributes\":{\"plot\":{\"id\":\"e4402d0d-1629-4a3a-bc58-c1fd17e238d3\",\"subtype\":\"Figure\",\"type\":\"Plot\"}},\"id\":\"4c177701-a0db-48f9-bed3-2e6cadef2cf0\",\"type\":\"ResetTool\"},{\"attributes\":{\"plot\":{\"id\":\"e4402d0d-1629-4a3a-bc58-c1fd17e238d3\",\"subtype\":\"Figure\",\"type\":\"Plot\"}},\"id\":\"830da2a8-08ec-4040-a9bb-b82a5a3e4c36\",\"type\":\"PreviewSaveTool\"},{\"attributes\":{\"plot\":{\"id\":\"d1aacc8d-c475-4510-b019-5bbd8b81f3ad\",\"subtype\":\"Figure\",\"type\":\"Plot\"}},\"id\":\"dd5b52ae-39c7-4888-b425-2704bd86d0f7\",\"type\":\"PreviewSaveTool\"},{\"attributes\":{\"plot\":{\"id\":\"5ab2017d-84ea-4569-9d58-eaff71a7e928\",\"subtype\":\"Figure\",\"type\":\"Plot\"}},\"id\":\"a60e2d49-8c85-4ce6-8f5e-f2a09e1e753f\",\"type\":\"PanTool\"},{\"attributes\":{\"bottom_units\":\"screen\",\"fill_alpha\":{\"value\":0.5},\"fill_color\":{\"value\":\"lightgrey\"},\"left_units\":\"screen\",\"level\":\"overlay\",\"line_alpha\":{\"value\":1.0},\"line_color\":{\"value\":\"black\"},\"line_dash\":[4,4],\"line_width\":{\"value\":2},\"plot\":null,\"render_mode\":\"css\",\"right_units\":\"screen\",\"top_units\":\"screen\"},\"id\":\"21aef3b2-c46c-4826-8f62-2ba5e9deaeca\",\"type\":\"BoxAnnotation\"},{\"attributes\":{\"base\":60,\"mantissas\":[1,2,5,10,15,20,30],\"max_interval\":1800000.0,\"min_interval\":1000.0,\"num_minor_ticks\":0},\"id\":\"33b12cd9-de57-46ea-9067-4b0780dcc0c0\",\"type\":\"AdaptiveTicker\"},{\"attributes\":{},\"id\":\"f85d815f-8fcf-4232-83d8-59c26fe56224\",\"type\":\"ToolEvents\"},{\"attributes\":{\"months\":[0,2,4,6,8,10]},\"id\":\"b2f41603-80c3-4762-9fcd-f669ee91c4c7\",\"type\":\"MonthsTicker\"},{\"attributes\":{\"plot\":{\"id\":\"d1aacc8d-c475-4510-b019-5bbd8b81f3ad\",\"subtype\":\"Figure\",\"type\":\"Plot\"},\"ticker\":{\"id\":\"fc9b82dc-c2fe-4fdc-9597-2e52be6db886\",\"type\":\"BasicTicker\"}},\"id\":\"594ccbf5-b6a8-4165-95a0-edcba7fbfc0f\",\"type\":\"Grid\"},{\"attributes\":{},\"id\":\"fda6d599-9462-48ac-901f-cb3ee74c708e\",\"type\":\"ToolEvents\"},{\"attributes\":{},\"id\":\"05c23e80-ceaf-4b0d-86a1-6fd7d0890a62\",\"type\":\"YearsTicker\"},{\"attributes\":{\"background_fill_color\":{\"value\":\"#E8DDCB\"},\"below\":[{\"id\":\"8bcf7c10-dcce-4afd-8b3f-05478bd6379e\",\"type\":\"DatetimeAxis\"}],\"left\":[{\"id\":\"6ba80015-299a-4ce2-b655-031841138d0c\",\"type\":\"LinearAxis\"}],\"renderers\":[{\"id\":\"8bcf7c10-dcce-4afd-8b3f-05478bd6379e\",\"type\":\"DatetimeAxis\"},{\"id\":\"fe5acaea-afbd-4896-bee9-a314453b2a5c\",\"type\":\"Grid\"},{\"id\":\"6ba80015-299a-4ce2-b655-031841138d0c\",\"type\":\"LinearAxis\"},{\"id\":\"975254be-903b-4d4f-aab4-f6c16a9f9d1d\",\"type\":\"Grid\"},{\"id\":\"32d99567-b874-4832-8b33-b6fffc90099c\",\"type\":\"BoxAnnotation\"},{\"id\":\"18b6108e-eec6-47ce-8724-c1e174f5f02a\",\"type\":\"GlyphRenderer\"}],\"title\":\"Elevation from last night run\",\"tool_events\":{\"id\":\"145ad887-76f2-419e-b5c6-da6f19dc35eb\",\"type\":\"ToolEvents\"},\"tools\":[{\"id\":\"9172f81b-f377-425e-a309-a4ff828827ca\",\"type\":\"PanTool\"},{\"id\":\"ab74d2d5-1876-4fa5-86e0-22742c7ba2cb\",\"type\":\"WheelZoomTool\"},{\"id\":\"b73987b4-3244-45a3-8a0e-4e5f6bbe966d\",\"type\":\"BoxZoomTool\"},{\"id\":\"830da2a8-08ec-4040-a9bb-b82a5a3e4c36\",\"type\":\"PreviewSaveTool\"},{\"id\":\"c30ced04-5998-44d5-9bc6-c9cc2e466315\",\"type\":\"ResizeTool\"},{\"id\":\"4c177701-a0db-48f9-bed3-2e6cadef2cf0\",\"type\":\"ResetTool\"},{\"id\":\"25b1efde-3098-4fd7-85bb-5d938ca96386\",\"type\":\"HelpTool\"}],\"x_range\":{\"id\":\"a8ee7f3c-f654-4f7a-a82a-34db6ef53a43\",\"type\":\"DataRange1d\"},\"y_range\":{\"id\":\"3adcda21-fdde-43da-b4ee-f4edad906963\",\"type\":\"DataRange1d\"}},\"id\":\"e4402d0d-1629-4a3a-bc58-c1fd17e238d3\",\"subtype\":\"Figure\",\"type\":\"Plot\"},{\"attributes\":{\"base\":24,\"mantissas\":[1,2,4,6,8,12],\"max_interval\":43200000.0,\"min_interval\":3600000.0,\"num_minor_ticks\":0},\"id\":\"3bcd75e5-ed17-4d30-8a34-53f5f7cefce8\",\"type\":\"AdaptiveTicker\"},{\"attributes\":{\"data_source\":{\"id\":\"07f97daa-f58c-4c2f-9bdb-4499184105b6\",\"type\":\"ColumnDataSource\"},\"glyph\":{\"id\":\"65a83011-9739-4a2c-9757-02e0a0318cab\",\"type\":\"Circle\"},\"hover_glyph\":null,\"nonselection_glyph\":{\"id\":\"4ffc3c5e-a53d-4272-a12d-8ae3ccd0f5f8\",\"type\":\"Circle\"},\"selection_glyph\":null},\"id\":\"d522091a-6a5c-4e3d-8df1-be28a92ae129\",\"type\":\"GlyphRenderer\"},{\"attributes\":{\"fill_color\":{\"value\":\"#1f77b4\"},\"line_color\":{\"value\":\"#1f77b4\"},\"x\":{\"field\":\"x\"},\"y\":{\"field\":\"y\"}},\"id\":\"65a83011-9739-4a2c-9757-02e0a0318cab\",\"type\":\"Circle\"},{\"attributes\":{},\"id\":\"c2910601-212f-4fed-a8ac-20b7f67ee663\",\"type\":\"BasicTickFormatter\"},{\"attributes\":{\"plot\":{\"id\":\"e4402d0d-1629-4a3a-bc58-c1fd17e238d3\",\"subtype\":\"Figure\",\"type\":\"Plot\"}},\"id\":\"c30ced04-5998-44d5-9bc6-c9cc2e466315\",\"type\":\"ResizeTool\"},{\"attributes\":{\"plot\":{\"id\":\"d1aacc8d-c475-4510-b019-5bbd8b81f3ad\",\"subtype\":\"Figure\",\"type\":\"Plot\"}},\"id\":\"ac6e979b-c3ab-414d-a592-0135f0f8a134\",\"type\":\"ResetTool\"},{\"attributes\":{\"plot\":{\"id\":\"d1aacc8d-c475-4510-b019-5bbd8b81f3ad\",\"subtype\":\"Figure\",\"type\":\"Plot\"}},\"id\":\"a0e58975-de11-44f5-9f8d-8ab87960872e\",\"type\":\"WheelZoomTool\"},{\"attributes\":{\"overlay\":{\"id\":\"32d99567-b874-4832-8b33-b6fffc90099c\",\"type\":\"BoxAnnotation\"},\"plot\":{\"id\":\"e4402d0d-1629-4a3a-bc58-c1fd17e238d3\",\"subtype\":\"Figure\",\"type\":\"Plot\"}},\"id\":\"b73987b4-3244-45a3-8a0e-4e5f6bbe966d\",\"type\":\"BoxZoomTool\"},{\"attributes\":{\"callback\":null},\"id\":\"f283b7d6-790d-419a-8223-c16ec8467562\",\"type\":\"DataRange1d\"},{\"attributes\":{\"plot\":{\"id\":\"5ab2017d-84ea-4569-9d58-eaff71a7e928\",\"subtype\":\"Figure\",\"type\":\"Plot\"},\"ticker\":{\"id\":\"f284acab-c5e8-4d11-9cf5-275851b964b7\",\"type\":\"DatetimeTicker\"}},\"id\":\"ac992d7c-888f-4034-96de-99be8ef07e62\",\"type\":\"Grid\"},{\"attributes\":{\"plot\":{\"id\":\"e4402d0d-1629-4a3a-bc58-c1fd17e238d3\",\"subtype\":\"Figure\",\"type\":\"Plot\"}},\"id\":\"ab74d2d5-1876-4fa5-86e0-22742c7ba2cb\",\"type\":\"WheelZoomTool\"},{\"attributes\":{\"plot\":{\"id\":\"dbe81b65-922c-4d83-bbd1-12cc496e1d0e\",\"subtype\":\"Figure\",\"type\":\"Plot\"}},\"id\":\"c3e6eb24-f47b-483f-acdc-b2c191232104\",\"type\":\"PanTool\"},{\"attributes\":{\"max_interval\":500.0,\"num_minor_ticks\":0},\"id\":\"e00ff96f-103f-4213-85b2-dd65104a8e40\",\"type\":\"AdaptiveTicker\"},{\"attributes\":{\"months\":[0,2,4,6,8,10]},\"id\":\"d8a801a2-07d2-4016-bbc1-e70b2ac7e757\",\"type\":\"MonthsTicker\"},{\"attributes\":{\"overlay\":{\"id\":\"21aef3b2-c46c-4826-8f62-2ba5e9deaeca\",\"type\":\"BoxAnnotation\"},\"plot\":{\"id\":\"d1aacc8d-c475-4510-b019-5bbd8b81f3ad\",\"subtype\":\"Figure\",\"type\":\"Plot\"}},\"id\":\"c352eae9-687b-4ede-bc7e-368979f3aefb\",\"type\":\"BoxZoomTool\"},{\"attributes\":{\"plot\":{\"id\":\"5ab2017d-84ea-4569-9d58-eaff71a7e928\",\"subtype\":\"Figure\",\"type\":\"Plot\"}},\"id\":\"821b930b-c68d-42d4-ae75-18c3b74a31aa\",\"type\":\"ResetTool\"},{\"attributes\":{\"data_source\":{\"id\":\"f0e7f289-00a3-49c8-b768-91e475ba784e\",\"type\":\"ColumnDataSource\"},\"glyph\":{\"id\":\"8c747b63-73ef-40fc-a13c-b7a1bc34769d\",\"type\":\"Line\"},\"hover_glyph\":null,\"nonselection_glyph\":{\"id\":\"7c143bd9-df09-4316-a6a0-567ba2c5b5e5\",\"type\":\"Line\"},\"selection_glyph\":null},\"id\":\"18b6108e-eec6-47ce-8724-c1e174f5f02a\",\"type\":\"GlyphRenderer\"},{\"attributes\":{\"fill_color\":{\"value\":\"#1f77b4\"},\"line_color\":{\"value\":\"#1f77b4\"},\"x\":{\"field\":\"x\"},\"y\":{\"field\":\"y\"}},\"id\":\"0da87f04-1941-4494-8e0a-24eee2d6107b\",\"type\":\"Circle\"},{\"attributes\":{\"callback\":null,\"column_names\":[\"x\",\"y\"],\"data\":{\"x\":[1465328243000.0,1428148529000.0,1463844198000.0,1415554211000.0,1414697951000.0,1434131854000.0,1425920018000.0,1439056606000.0,1438106993000.0,1410246399000.0,1410099387000.0,1436643161000.0,1462128356000.0,1466880893000.0,1443172413000.0,1424372257000.0,1464635172000.0,1438457322000.0,1420981616000.0,1412445070000.0,1431286224000.0,1465587240000.0,1444075724000.0,1428233258000.0,1425674543000.0,1426191183000.0,1426607916000.0,1459889614000.0,1422467747000.0,1465060160000.0,1418056433000.0,1466349240000.0,1420741859000.0,1440791953000.0,1421776526000.0,1411542030000.0,1446030451000.0,1411201027000.0,1436301721000.0,1430762639000.0,1410547403000.0,1422038969000.0],\"y\":[7.530694565242037,6.6316804463514245,6.500766992499371,5.903683544535305,5.543904586568578,6.9162364268051295,6.717393410877305,7.021752428171513,6.667625981672587,7.988781267417407,6.688336138542586,7.527820843374726,8.329739190583984,6.662784330257975,4.598404506848535,8.174591581549155,7.367041654944693,7.659907737492002,5.205230326011463,5.934675368608669,5.536673958179106,7.183159595747414,7.389993396495658,6.265775252525623,6.255164422938618,6.989659596596395,7.156562231217974,6.78652324174341,5.9916302124482685,4.180160125629046,6.200367679261646,5.232667661461895,5.17184840993804,6.929839343755573,5.4867741304159034,5.586883412867613,6.232273364866359,7.207683015012478,8.433893842390468,7.401423644238849,6.705160419221628,6.251896629828126]}},\"id\":\"07f97daa-f58c-4c2f-9bdb-4499184105b6\",\"type\":\"ColumnDataSource\"},{\"attributes\":{\"months\":[0,4,8]},\"id\":\"379fc93e-520f-4016-9dfd-e0608c516514\",\"type\":\"MonthsTicker\"},{\"attributes\":{\"fill_alpha\":{\"value\":0.1},\"fill_color\":{\"value\":\"#1f77b4\"},\"line_alpha\":{\"value\":0.1},\"line_color\":{\"value\":\"#1f77b4\"},\"x\":{\"field\":\"x\"},\"y\":{\"field\":\"y\"}},\"id\":\"4ffc3c5e-a53d-4272-a12d-8ae3ccd0f5f8\",\"type\":\"Circle\"},{\"attributes\":{\"days\":[1,8,15,22]},\"id\":\"35e1640b-6643-4be5-b4ba-9f547b519d0a\",\"type\":\"DaysTicker\"},{\"attributes\":{},\"id\":\"6b757496-c76d-47d0-9682-219aab127039\",\"type\":\"BasicTickFormatter\"},{\"attributes\":{\"months\":[0,1,2,3,4,5,6,7,8,9,10,11]},\"id\":\"1e8a2899-d334-4a9f-913a-6e192d796095\",\"type\":\"MonthsTicker\"},{\"attributes\":{\"dimension\":1,\"plot\":{\"id\":\"d1aacc8d-c475-4510-b019-5bbd8b81f3ad\",\"subtype\":\"Figure\",\"type\":\"Plot\"},\"ticker\":{\"id\":\"04cf2a77-a841-4a31-8881-de48b62eb73c\",\"type\":\"BasicTicker\"}},\"id\":\"61b40930-c7ce-40cc-bf6f-97052a8a51e9\",\"type\":\"Grid\"},{\"attributes\":{\"data_source\":{\"id\":\"6b2e2e93-e05b-4699-83f7-afd496e02446\",\"type\":\"ColumnDataSource\"},\"glyph\":{\"id\":\"0da87f04-1941-4494-8e0a-24eee2d6107b\",\"type\":\"Circle\"},\"hover_glyph\":null,\"nonselection_glyph\":{\"id\":\"5ca14d5b-071a-4ea5-88f3-79215523806d\",\"type\":\"Circle\"},\"selection_glyph\":null},\"id\":\"c5071262-9a06-4098-bded-6cdd7b46e10e\",\"type\":\"GlyphRenderer\"},{\"attributes\":{},\"id\":\"ed43ace4-b9c2-4035-bb4e-d40bb8d6d5b4\",\"type\":\"BasicTickFormatter\"},{\"attributes\":{\"fill_alpha\":{\"value\":0.1},\"fill_color\":{\"value\":\"#1f77b4\"},\"line_alpha\":{\"value\":0.1},\"line_color\":{\"value\":\"#1f77b4\"},\"x\":{\"field\":\"x\"},\"y\":{\"field\":\"y\"}},\"id\":\"5ca14d5b-071a-4ea5-88f3-79215523806d\",\"type\":\"Circle\"},{\"attributes\":{\"days\":[1,15]},\"id\":\"891b6b06-8019-4b47-b5ec-a99b7b12320a\",\"type\":\"DaysTicker\"},{\"attributes\":{\"axis_label\":\"Time\",\"formatter\":{\"id\":\"e8002c5e-2101-4c42-8ea2-086bff7cd360\",\"type\":\"DatetimeTickFormatter\"},\"plot\":{\"id\":\"dbe81b65-922c-4d83-bbd1-12cc496e1d0e\",\"subtype\":\"Figure\",\"type\":\"Plot\"},\"ticker\":{\"id\":\"11213ee7-7268-4d84-ae76-6245f10a3cc3\",\"type\":\"DatetimeTicker\"}},\"id\":\"5fe7c41d-9e58-49fd-bca0-349f05646a82\",\"type\":\"DatetimeAxis\"},{\"attributes\":{\"days\":[1,15]},\"id\":\"2c8f4dce-9ee3-4324-9608-fc55165bcda1\",\"type\":\"DaysTicker\"},{\"attributes\":{\"axis_label\":\"Elevation (m)\",\"formatter\":{\"id\":\"ed43ace4-b9c2-4035-bb4e-d40bb8d6d5b4\",\"type\":\"BasicTickFormatter\"},\"plot\":{\"id\":\"e4402d0d-1629-4a3a-bc58-c1fd17e238d3\",\"subtype\":\"Figure\",\"type\":\"Plot\"},\"ticker\":{\"id\":\"a576bd97-77e5-447f-bd19-f7bc06644754\",\"type\":\"BasicTicker\"}},\"id\":\"6ba80015-299a-4ce2-b655-031841138d0c\",\"type\":\"LinearAxis\"},{\"attributes\":{\"num_minor_ticks\":5},\"id\":\"11213ee7-7268-4d84-ae76-6245f10a3cc3\",\"type\":\"DatetimeTicker\"},{\"attributes\":{\"months\":[0,6]},\"id\":\"9e019e22-f05e-4685-9808-0c79da6a4901\",\"type\":\"MonthsTicker\"},{\"attributes\":{\"line_color\":{\"value\":\"#1f77b4\"},\"x\":{\"field\":\"x\"},\"y\":{\"field\":\"y\"}},\"id\":\"8c747b63-73ef-40fc-a13c-b7a1bc34769d\",\"type\":\"Line\"},{\"attributes\":{\"months\":[0,4,8]},\"id\":\"49a3d352-3864-4d4a-94ff-9d248df9b1c3\",\"type\":\"MonthsTicker\"},{\"attributes\":{\"plot\":{\"id\":\"dbe81b65-922c-4d83-bbd1-12cc496e1d0e\",\"subtype\":\"Figure\",\"type\":\"Plot\"}},\"id\":\"c63a5c84-19af-4221-8e7a-ac034b8b6f9e\",\"type\":\"ResizeTool\"},{\"attributes\":{\"plot\":{\"id\":\"e4402d0d-1629-4a3a-bc58-c1fd17e238d3\",\"subtype\":\"Figure\",\"type\":\"Plot\"}},\"id\":\"9172f81b-f377-425e-a309-a4ff828827ca\",\"type\":\"PanTool\"},{\"attributes\":{},\"id\":\"347bd9ef-5cc7-4355-8d25-175f56173844\",\"type\":\"YearsTicker\"},{\"attributes\":{\"axis_label\":\"Distance (m)\",\"formatter\":{\"id\":\"ffe09a9a-15f1-4f1a-97cf-34a8e9aab835\",\"type\":\"BasicTickFormatter\"},\"plot\":{\"id\":\"dbe81b65-922c-4d83-bbd1-12cc496e1d0e\",\"subtype\":\"Figure\",\"type\":\"Plot\"},\"ticker\":{\"id\":\"72a91517-ee01-4d6c-9c19-8bd569521a97\",\"type\":\"BasicTicker\"}},\"id\":\"fda4cfda-b76c-48b9-93db-b2a8d8eee43f\",\"type\":\"LinearAxis\"},{\"attributes\":{\"base\":24,\"mantissas\":[1,2,4,6,8,12],\"max_interval\":43200000.0,\"min_interval\":3600000.0,\"num_minor_ticks\":0},\"id\":\"8196b23e-994a-4fd3-a05c-9a87d5ca5553\",\"type\":\"AdaptiveTicker\"},{\"attributes\":{\"axis_label\":\"Time\",\"formatter\":{\"id\":\"fb236f2d-ac65-491c-ab7d-1acce9ec92f4\",\"type\":\"DatetimeTickFormatter\"},\"plot\":{\"id\":\"5ab2017d-84ea-4569-9d58-eaff71a7e928\",\"subtype\":\"Figure\",\"type\":\"Plot\"},\"ticker\":{\"id\":\"f284acab-c5e8-4d11-9cf5-275851b964b7\",\"type\":\"DatetimeTicker\"}},\"id\":\"b095cefb-58ca-4c00-8f7e-87b3b0f356e6\",\"type\":\"DatetimeAxis\"},{\"attributes\":{\"plot\":{\"id\":\"dbe81b65-922c-4d83-bbd1-12cc496e1d0e\",\"subtype\":\"Figure\",\"type\":\"Plot\"}},\"id\":\"2016d9bf-f5ac-4f62-962f-2f80f65e2c35\",\"type\":\"WheelZoomTool\"},{\"attributes\":{\"overlay\":{\"id\":\"94eb7722-cb22-407d-b5de-c68ad3652827\",\"type\":\"BoxAnnotation\"},\"plot\":{\"id\":\"5ab2017d-84ea-4569-9d58-eaff71a7e928\",\"subtype\":\"Figure\",\"type\":\"Plot\"}},\"id\":\"49f78460-1117-4160-a3bc-48cb9d5f63ea\",\"type\":\"BoxZoomTool\"},{\"attributes\":{\"days\":[1,2,3,4,5,6,7,8,9,10,11,12,13,14,15,16,17,18,19,20,21,22,23,24,25,26,27,28,29,30,31]},\"id\":\"713117c1-585f-44db-915f-867ddf5e3a62\",\"type\":\"DaysTicker\"},{\"attributes\":{\"plot\":{\"id\":\"5ab2017d-84ea-4569-9d58-eaff71a7e928\",\"subtype\":\"Figure\",\"type\":\"Plot\"}},\"id\":\"f678fc67-4146-4155-9fdd-b8221a868913\",\"type\":\"PreviewSaveTool\"},{\"attributes\":{\"max_interval\":500.0,\"num_minor_ticks\":0},\"id\":\"b6240a42-ad54-4399-808e-4aaa5d7acf00\",\"type\":\"AdaptiveTicker\"},{\"attributes\":{\"plot\":{\"id\":\"5ab2017d-84ea-4569-9d58-eaff71a7e928\",\"subtype\":\"Figure\",\"type\":\"Plot\"}},\"id\":\"ce965df9-812e-402a-86db-bd15a3a52142\",\"type\":\"HelpTool\"},{\"attributes\":{},\"id\":\"d1120d47-25d7-48a3-b86f-cc36a20dc116\",\"type\":\"BasicTickFormatter\"},{\"attributes\":{\"data_source\":{\"id\":\"3939b977-3378-4df7-8c28-612da8d73ad5\",\"type\":\"ColumnDataSource\"},\"glyph\":{\"id\":\"3c51afcb-2b51-48b4-916c-48f2cda587ab\",\"type\":\"Circle\"},\"hover_glyph\":null,\"nonselection_glyph\":{\"id\":\"43f68b92-6cab-4375-9c6b-eed2f2726172\",\"type\":\"Circle\"},\"selection_glyph\":null},\"id\":\"97ccc108-7221-425d-a9cf-e79fcc9932d0\",\"type\":\"GlyphRenderer\"},{\"attributes\":{\"days\":[1,2,3,4,5,6,7,8,9,10,11,12,13,14,15,16,17,18,19,20,21,22,23,24,25,26,27,28,29,30,31]},\"id\":\"0727d121-8ea3-4cdb-9d68-37933d4f226e\",\"type\":\"DaysTicker\"},{\"attributes\":{\"months\":[0,1,2,3,4,5,6,7,8,9,10,11]},\"id\":\"ca3c91ae-acea-40ad-8e48-7bb2aa5470bf\",\"type\":\"MonthsTicker\"},{\"attributes\":{\"plot\":{\"id\":\"dbe81b65-922c-4d83-bbd1-12cc496e1d0e\",\"subtype\":\"Figure\",\"type\":\"Plot\"}},\"id\":\"bcfce315-18ef-4628-a1ad-61e31d9a1d83\",\"type\":\"ResetTool\"}],\"root_ids\":[\"e4402d0d-1629-4a3a-bc58-c1fd17e238d3\",\"dbe81b65-922c-4d83-bbd1-12cc496e1d0e\",\"5ab2017d-84ea-4569-9d58-eaff71a7e928\",\"d1aacc8d-c475-4510-b019-5bbd8b81f3ad\"]},\"title\":\"Bokeh Application\",\"version\":\"0.11.1\"}};\n",
       "            var render_items = [{\"docid\":\"4ea1f4d6-bb71-4418-acbd-51fe5ea3ece6\",\"elementid\":\"71b6e3ff-feb7-4f15-936a-a041f3b2c504\",\"modelid\":\"d1aacc8d-c475-4510-b019-5bbd8b81f3ad\",\"notebook_comms_target\":\"5816c266-1930-4cbc-8597-7c0f48e68595\"}];\n",
       "            \n",
       "            Bokeh.embed.embed_items(docs_json, render_items);\n",
       "        });\n",
       "      },\n",
       "      function(Bokeh) {\n",
       "      }\n",
       "    ];\n",
       "  \n",
       "    function run_inline_js() {\n",
       "      for (var i = 0; i < inline_js.length; i++) {\n",
       "        inline_js[i](window.Bokeh);\n",
       "      }\n",
       "    }\n",
       "  \n",
       "    if (window._bokeh_is_loading === 0) {\n",
       "      console.log(\"Bokeh: BokehJS loaded, going straight to plotting\");\n",
       "      run_inline_js();\n",
       "    } else {\n",
       "      load_libs(js_urls, function() {\n",
       "        console.log(\"Bokeh: BokehJS plotting callback run at\", now());\n",
       "        run_inline_js();\n",
       "      });\n",
       "    }\n",
       "  }(this));\n",
       "</script>"
      ]
     },
     "metadata": {},
     "output_type": "display_data"
    },
    {
     "data": {
      "text/html": [
       "<p><code>&lt;Bokeh Notebook handle for <strong>In[20]</strong>&gt;</code></p>"
      ],
      "text/plain": [
       "<bokeh.io._CommsHandle at 0x7fdaed2a9f28>"
      ]
     },
     "execution_count": 20,
     "metadata": {},
     "output_type": "execute_result"
    }
   ],
   "source": [
    "p = figure(\n",
    "    title=\"Speeds \", \n",
    "    background_fill_color=\"#E8DDCB\",\n",
    "    x_axis_label='Distance (km)', \n",
    "    y_axis_label='Time in hours',\n",
    ")\n",
    "\n",
    "distances = [r.distance_total / 1000 for r in all_runs]\n",
    "times = [r.time_total_s / 3600 for r in all_runs]\n",
    "\n",
    "p.circle(distances, times)\n",
    "show(p)"
   ]
  },
  {
   "cell_type": "markdown",
   "metadata": {},
   "source": [
    "On the graph above you can see that I have overall very stable speed, which is kind of disturbing - I am not improving at all. :( Lets add trendline to this graph. "
   ]
  },
  {
   "cell_type": "code",
   "execution_count": 21,
   "metadata": {
    "collapsed": false
   },
   "outputs": [
    {
     "data": {
      "text/html": [
       "\n",
       "\n",
       "    <div class=\"plotdiv\" id=\"fb90e555-8d75-41dc-8c03-0423b2d0d7a2\"></div>\n",
       "<script type=\"text/javascript\">\n",
       "  \n",
       "  (function(global) {\n",
       "    function now() {\n",
       "      return new Date();\n",
       "    }\n",
       "  \n",
       "    if (typeof (window._bokeh_onload_callbacks) === \"undefined\") {\n",
       "      window._bokeh_onload_callbacks = [];\n",
       "    }\n",
       "  \n",
       "    function run_callbacks() {\n",
       "      window._bokeh_onload_callbacks.forEach(function(callback) { callback() });\n",
       "      delete window._bokeh_onload_callbacks\n",
       "      console.info(\"Bokeh: all callbacks have finished\");\n",
       "    }\n",
       "  \n",
       "    function load_libs(js_urls, callback) {\n",
       "      window._bokeh_onload_callbacks.push(callback);\n",
       "      if (window._bokeh_is_loading > 0) {\n",
       "        console.log(\"Bokeh: BokehJS is being loaded, scheduling callback at\", now());\n",
       "        return null;\n",
       "      }\n",
       "      if (js_urls == null || js_urls.length === 0) {\n",
       "        run_callbacks();\n",
       "        return null;\n",
       "      }\n",
       "      console.log(\"Bokeh: BokehJS not loaded, scheduling load and callback at\", now());\n",
       "      window._bokeh_is_loading = js_urls.length;\n",
       "      for (var i = 0; i < js_urls.length; i++) {\n",
       "        var url = js_urls[i];\n",
       "        var s = document.createElement('script');\n",
       "        s.src = url;\n",
       "        s.async = false;\n",
       "        s.onreadystatechange = s.onload = function() {\n",
       "          window._bokeh_is_loading--;\n",
       "          if (window._bokeh_is_loading === 0) {\n",
       "            console.log(\"Bokeh: all BokehJS libraries loaded\");\n",
       "            run_callbacks()\n",
       "          }\n",
       "        };\n",
       "        s.onerror = function() {\n",
       "          console.warn(\"failed to load library \" + url);\n",
       "        };\n",
       "        console.log(\"Bokeh: injecting script tag for BokehJS library: \", url);\n",
       "        document.getElementsByTagName(\"head\")[0].appendChild(s);\n",
       "      }\n",
       "    };var element = document.getElementById(\"fb90e555-8d75-41dc-8c03-0423b2d0d7a2\");\n",
       "    if (element == null) {\n",
       "      console.log(\"Bokeh: ERROR: autoload.js configured with elementid 'fb90e555-8d75-41dc-8c03-0423b2d0d7a2' but no matching script tag was found. \")\n",
       "      return false;\n",
       "    }\n",
       "  \n",
       "    var js_urls = [];\n",
       "  \n",
       "    var inline_js = [\n",
       "      function(Bokeh) {\n",
       "        Bokeh.$(function() {\n",
       "            var docs_json = {\"91ba7ee9-c8b2-47b5-8c84-daf3862d6e03\":{\"roots\":{\"references\":[{\"attributes\":{\"months\":[0,6]},\"id\":\"653c0351-2d23-455d-b6b4-fecc1a477cfc\",\"type\":\"MonthsTicker\"},{\"attributes\":{\"dimension\":1,\"plot\":{\"id\":\"e4402d0d-1629-4a3a-bc58-c1fd17e238d3\",\"subtype\":\"Figure\",\"type\":\"Plot\"},\"ticker\":{\"id\":\"a576bd97-77e5-447f-bd19-f7bc06644754\",\"type\":\"BasicTicker\"}},\"id\":\"975254be-903b-4d4f-aab4-f6c16a9f9d1d\",\"type\":\"Grid\"},{\"attributes\":{\"days\":[1,4,7,10,13,16,19,22,25,28]},\"id\":\"c3e6d560-ccb5-48b0-8222-32c2dbeafd9b\",\"type\":\"DaysTicker\"},{\"attributes\":{},\"id\":\"6b81a183-488d-4b2b-95e1-d726c6a18ffe\",\"type\":\"YearsTicker\"},{\"attributes\":{\"callback\":null,\"column_names\":[\"x\",\"y\"],\"data\":{\"x\":[1465328243000.0,1428148529000.0,1463844198000.0,1415554211000.0,1414697951000.0,1434131854000.0,1425920018000.0,1439056606000.0,1438106993000.0,1410246399000.0,1410099387000.0,1436643161000.0,1462128356000.0,1466880893000.0,1443172413000.0,1424372257000.0,1464635172000.0,1438457322000.0,1420981616000.0,1412445070000.0,1431286224000.0,1465587240000.0,1444075724000.0,1428233258000.0,1425674543000.0,1426191183000.0,1426607916000.0,1459889614000.0,1422467747000.0,1465060160000.0,1418056433000.0,1466349240000.0,1420741859000.0,1440791953000.0,1421776526000.0,1411542030000.0,1446030451000.0,1411201027000.0,1436301721000.0,1430762639000.0,1410547403000.0,1422038969000.0],\"y\":[5869.758041685876,2050.294537996982,5673.724969564729,5493.705520609242,5936.597828117186,4466.736025644979,8747.538975053558,7583.492622425234,4482.126354346572,1256.0139437106257,1465.8603370305834,5980.435447792143,5678.105548248082,5641.157399618419,1848.3031448360637,2102.6866123651434,4686.257052728707,9468.497064399835,4437.458852924772,5637.941600178236,5976.531944856669,10040.460857166941,9377.080509775602,4927.336038861122,12543.342213664968,9053.550749702497,9066.96676016255,9355.976346881262,6733.926622101581,5690.823548807764,3787.3912574156557,8943.501144715288,10096.597395845707,12190.74237889001,8190.534493570851,5721.8997620119135,7650.115555373454,2732.913143192231,4069.3537789534007,4580.658855378932,7770.535908053509,13061.254042482593]}},\"id\":\"6b2e2e93-e05b-4699-83f7-afd496e02446\",\"type\":\"ColumnDataSource\"},{\"attributes\":{\"fill_color\":{\"value\":\"#1f77b4\"},\"line_color\":{\"value\":\"#1f77b4\"},\"x\":{\"field\":\"x\"},\"y\":{\"field\":\"y\"}},\"id\":\"3c51afcb-2b51-48b4-916c-48f2cda587ab\",\"type\":\"Circle\"},{\"attributes\":{\"max_interval\":500.0,\"num_minor_ticks\":0},\"id\":\"72176723-8b23-40b6-99b1-ecf5a1055fdd\",\"type\":\"AdaptiveTicker\"},{\"attributes\":{\"callback\":null,\"column_names\":[\"x\",\"y\"],\"data\":{\"x\":[5.869758041685876,2.050294537996982,5.673724969564729,5.493705520609242,5.936597828117185,4.4667360256449795,8.747538975053558,7.583492622425234,4.482126354346572,1.2560139437106257,1.4658603370305834,5.980435447792144,5.678105548248082,5.641157399618419,1.8483031448360636,2.1026866123651433,4.686257052728707,9.468497064399834,4.437458852924772,5.637941600178236,5.976531944856669,10.040460857166941,9.377080509775602,4.927336038861122,12.543342213664967,9.053550749702497,9.06696676016255,9.355976346881262,6.733926622101581,5.6908235488077645,3.787391257415656,8.943501144715288,10.096597395845707,12.190742378890011,8.190534493570851,5.721899762011914,7.650115555373454,2.732913143192231,4.069353778953401,4.580658855378932,7.7705359080535095,13.061254042482593],\"y\":[0.7794444444444445,0.30916666666666665,0.8727777777777778,0.9305555555555556,1.0708333333333333,0.6458333333333334,1.3022222222222222,1.08,0.6722222222222223,0.15722222222222224,0.21916666666666668,0.7944444444444444,0.6816666666666666,0.8466666666666667,0.40194444444444444,0.25722222222222224,0.6361111111111111,1.2361111111111112,0.8525,0.95,1.0794444444444444,1.3977777777777778,1.268888888888889,0.7863888888888889,2.0052777777777777,1.2952777777777778,1.2669444444444444,1.378611111111111,1.123888888888889,1.361388888888889,0.6108333333333333,1.7091666666666667,1.9522222222222223,1.7591666666666668,1.4927777777777778,1.0241666666666667,1.2275,0.37916666666666665,0.4825,0.6188888888888889,1.1588888888888889,2.089166666666667]}},\"id\":\"3939b977-3378-4df7-8c28-612da8d73ad5\",\"type\":\"ColumnDataSource\"},{\"attributes\":{\"bottom_units\":\"screen\",\"fill_alpha\":{\"value\":0.5},\"fill_color\":{\"value\":\"lightgrey\"},\"left_units\":\"screen\",\"level\":\"overlay\",\"line_alpha\":{\"value\":1.0},\"line_color\":{\"value\":\"black\"},\"line_dash\":[4,4],\"line_width\":{\"value\":2},\"plot\":null,\"render_mode\":\"css\",\"right_units\":\"screen\",\"top_units\":\"screen\"},\"id\":\"9a1381cb-25b5-404f-9314-c9bca5ba41a9\",\"type\":\"BoxAnnotation\"},{\"attributes\":{\"plot\":{\"id\":\"dbe81b65-922c-4d83-bbd1-12cc496e1d0e\",\"subtype\":\"Figure\",\"type\":\"Plot\"}},\"id\":\"bcf524f9-992c-4558-9763-098012d2a57f\",\"type\":\"PreviewSaveTool\"},{\"attributes\":{\"months\":[0,4,8]},\"id\":\"323e4803-570d-4ffa-8dcf-400b0576a8a8\",\"type\":\"MonthsTicker\"},{\"attributes\":{},\"id\":\"e8002c5e-2101-4c42-8ea2-086bff7cd360\",\"type\":\"DatetimeTickFormatter\"},{\"attributes\":{},\"id\":\"1e6092e3-56da-4dd0-8eeb-332bb926636e\",\"type\":\"BasicTicker\"},{\"attributes\":{},\"id\":\"145ad887-76f2-419e-b5c6-da6f19dc35eb\",\"type\":\"ToolEvents\"},{\"attributes\":{\"plot\":{\"id\":\"5ab2017d-84ea-4569-9d58-eaff71a7e928\",\"subtype\":\"Figure\",\"type\":\"Plot\"}},\"id\":\"2a27b1a2-f7fe-4f50-a650-191cf67a1263\",\"type\":\"ResizeTool\"},{\"attributes\":{\"axis_label\":\"Speed (km/h)\",\"formatter\":{\"id\":\"d1120d47-25d7-48a3-b86f-cc36a20dc116\",\"type\":\"BasicTickFormatter\"},\"plot\":{\"id\":\"5ab2017d-84ea-4569-9d58-eaff71a7e928\",\"subtype\":\"Figure\",\"type\":\"Plot\"},\"ticker\":{\"id\":\"1e6092e3-56da-4dd0-8eeb-332bb926636e\",\"type\":\"BasicTicker\"}},\"id\":\"c1e52c45-fa0f-4d74-b156-5273b7b55ed7\",\"type\":\"LinearAxis\"},{\"attributes\":{\"days\":[1,15]},\"id\":\"c5f3d99d-4f32-44e9-a94b-64c2c10035ce\",\"type\":\"DaysTicker\"},{\"attributes\":{\"fill_alpha\":{\"value\":0.1},\"fill_color\":{\"value\":\"#1f77b4\"},\"line_alpha\":{\"value\":0.1},\"line_color\":{\"value\":\"#1f77b4\"},\"x\":{\"field\":\"x\"},\"y\":{\"field\":\"y\"}},\"id\":\"43f68b92-6cab-4375-9c6b-eed2f2726172\",\"type\":\"Circle\"},{\"attributes\":{},\"id\":\"7f725af8-a286-4b0e-8c0d-10f9be7403f6\",\"type\":\"ToolEvents\"},{\"attributes\":{\"days\":[1,4,7,10,13,16,19,22,25,28]},\"id\":\"e928e4fa-e5c1-458d-8f3a-80a2a1641c34\",\"type\":\"DaysTicker\"},{\"attributes\":{\"axis_label\":\"Distance (km)\",\"formatter\":{\"id\":\"6b757496-c76d-47d0-9682-219aab127039\",\"type\":\"BasicTickFormatter\"},\"plot\":{\"id\":\"d1aacc8d-c475-4510-b019-5bbd8b81f3ad\",\"subtype\":\"Figure\",\"type\":\"Plot\"},\"ticker\":{\"id\":\"fc9b82dc-c2fe-4fdc-9597-2e52be6db886\",\"type\":\"BasicTicker\"}},\"id\":\"50cde702-cd19-46f2-8cfc-b33527435b5a\",\"type\":\"LinearAxis\"},{\"attributes\":{\"days\":[1,2,3,4,5,6,7,8,9,10,11,12,13,14,15,16,17,18,19,20,21,22,23,24,25,26,27,28,29,30,31]},\"id\":\"6e9ee585-b9e9-4641-8864-6aadbc870d6e\",\"type\":\"DaysTicker\"},{\"attributes\":{\"background_fill_color\":{\"value\":\"#E8DDCB\"},\"below\":[{\"id\":\"5fe7c41d-9e58-49fd-bca0-349f05646a82\",\"type\":\"DatetimeAxis\"}],\"left\":[{\"id\":\"fda4cfda-b76c-48b9-93db-b2a8d8eee43f\",\"type\":\"LinearAxis\"}],\"renderers\":[{\"id\":\"5fe7c41d-9e58-49fd-bca0-349f05646a82\",\"type\":\"DatetimeAxis\"},{\"id\":\"df110571-7988-4922-a621-029476685a82\",\"type\":\"Grid\"},{\"id\":\"fda4cfda-b76c-48b9-93db-b2a8d8eee43f\",\"type\":\"LinearAxis\"},{\"id\":\"9f03545e-b82b-4a93-bdf3-aee6728c8682\",\"type\":\"Grid\"},{\"id\":\"9a1381cb-25b5-404f-9314-c9bca5ba41a9\",\"type\":\"BoxAnnotation\"},{\"id\":\"c5071262-9a06-4098-bded-6cdd7b46e10e\",\"type\":\"GlyphRenderer\"}],\"title\":\"Distances run over time\",\"tool_events\":{\"id\":\"fda6d599-9462-48ac-901f-cb3ee74c708e\",\"type\":\"ToolEvents\"},\"tools\":[{\"id\":\"c3e6eb24-f47b-483f-acdc-b2c191232104\",\"type\":\"PanTool\"},{\"id\":\"2016d9bf-f5ac-4f62-962f-2f80f65e2c35\",\"type\":\"WheelZoomTool\"},{\"id\":\"9fefabd4-bb07-49ad-8046-99ccd8f92dde\",\"type\":\"BoxZoomTool\"},{\"id\":\"bcf524f9-992c-4558-9763-098012d2a57f\",\"type\":\"PreviewSaveTool\"},{\"id\":\"c63a5c84-19af-4221-8e7a-ac034b8b6f9e\",\"type\":\"ResizeTool\"},{\"id\":\"bcfce315-18ef-4628-a1ad-61e31d9a1d83\",\"type\":\"ResetTool\"},{\"id\":\"1f3b9931-e2a6-41f3-b12d-a768a5963174\",\"type\":\"HelpTool\"}],\"x_range\":{\"id\":\"3baff894-66a0-4a69-ac0a-1926acd7bf45\",\"type\":\"DataRange1d\"},\"y_range\":{\"id\":\"f283b7d6-790d-419a-8223-c16ec8467562\",\"type\":\"DataRange1d\"}},\"id\":\"dbe81b65-922c-4d83-bbd1-12cc496e1d0e\",\"subtype\":\"Figure\",\"type\":\"Plot\"},{\"attributes\":{\"num_minor_ticks\":5},\"id\":\"f284acab-c5e8-4d11-9cf5-275851b964b7\",\"type\":\"DatetimeTicker\"},{\"attributes\":{\"base\":60,\"mantissas\":[1,2,5,10,15,20,30],\"max_interval\":1800000.0,\"min_interval\":1000.0,\"num_minor_ticks\":0},\"id\":\"cf3a928b-c0d5-4a20-9538-30be6c0866e9\",\"type\":\"AdaptiveTicker\"},{\"attributes\":{\"line_alpha\":{\"value\":0.1},\"line_color\":{\"value\":\"#1f77b4\"},\"x\":{\"field\":\"x\"},\"y\":{\"field\":\"y\"}},\"id\":\"7c143bd9-df09-4316-a6a0-567ba2c5b5e5\",\"type\":\"Line\"},{\"attributes\":{},\"id\":\"a576bd97-77e5-447f-bd19-f7bc06644754\",\"type\":\"BasicTicker\"},{\"attributes\":{\"num_minor_ticks\":5},\"id\":\"a2670a78-e859-4260-8813-6d3d93ab7c44\",\"type\":\"DatetimeTicker\"},{\"attributes\":{\"callback\":null},\"id\":\"3adcda21-fdde-43da-b4ee-f4edad906963\",\"type\":\"DataRange1d\"},{\"attributes\":{},\"id\":\"fb236f2d-ac65-491c-ab7d-1acce9ec92f4\",\"type\":\"DatetimeTickFormatter\"},{\"attributes\":{},\"id\":\"add1cae2-233e-4a14-a228-941f9b8ae217\",\"type\":\"DatetimeTickFormatter\"},{\"attributes\":{\"overlay\":{\"id\":\"9a1381cb-25b5-404f-9314-c9bca5ba41a9\",\"type\":\"BoxAnnotation\"},\"plot\":{\"id\":\"dbe81b65-922c-4d83-bbd1-12cc496e1d0e\",\"subtype\":\"Figure\",\"type\":\"Plot\"}},\"id\":\"9fefabd4-bb07-49ad-8046-99ccd8f92dde\",\"type\":\"BoxZoomTool\"},{\"attributes\":{},\"id\":\"04cf2a77-a841-4a31-8881-de48b62eb73c\",\"type\":\"BasicTicker\"},{\"attributes\":{\"bottom_units\":\"screen\",\"fill_alpha\":{\"value\":0.5},\"fill_color\":{\"value\":\"lightgrey\"},\"left_units\":\"screen\",\"level\":\"overlay\",\"line_alpha\":{\"value\":1.0},\"line_color\":{\"value\":\"black\"},\"line_dash\":[4,4],\"line_width\":{\"value\":2},\"plot\":null,\"render_mode\":\"css\",\"right_units\":\"screen\",\"top_units\":\"screen\"},\"id\":\"32d99567-b874-4832-8b33-b6fffc90099c\",\"type\":\"BoxAnnotation\"},{\"attributes\":{\"dimension\":1,\"plot\":{\"id\":\"dbe81b65-922c-4d83-bbd1-12cc496e1d0e\",\"subtype\":\"Figure\",\"type\":\"Plot\"},\"ticker\":{\"id\":\"72a91517-ee01-4d6c-9c19-8bd569521a97\",\"type\":\"BasicTicker\"}},\"id\":\"9f03545e-b82b-4a93-bdf3-aee6728c8682\",\"type\":\"Grid\"},{\"attributes\":{\"callback\":null},\"id\":\"3baff894-66a0-4a69-ac0a-1926acd7bf45\",\"type\":\"DataRange1d\"},{\"attributes\":{\"base\":24,\"mantissas\":[1,2,4,6,8,12],\"max_interval\":43200000.0,\"min_interval\":3600000.0,\"num_minor_ticks\":0},\"id\":\"829507f3-d49d-4628-ac7d-cdb020a8f5bd\",\"type\":\"AdaptiveTicker\"},{\"attributes\":{},\"id\":\"72a91517-ee01-4d6c-9c19-8bd569521a97\",\"type\":\"BasicTicker\"},{\"attributes\":{\"days\":[1,4,7,10,13,16,19,22,25,28]},\"id\":\"0a8781d1-5e5a-4023-b421-ebd60838ff30\",\"type\":\"DaysTicker\"},{\"attributes\":{\"plot\":{\"id\":\"dbe81b65-922c-4d83-bbd1-12cc496e1d0e\",\"subtype\":\"Figure\",\"type\":\"Plot\"}},\"id\":\"c3e6eb24-f47b-483f-acdc-b2c191232104\",\"type\":\"PanTool\"},{\"attributes\":{\"callback\":null},\"id\":\"2f814c14-d3cc-41de-9148-1db904096818\",\"type\":\"DataRange1d\"},{\"attributes\":{\"days\":[1,8,15,22]},\"id\":\"69a95aa3-a100-4557-a09b-37ad519443fd\",\"type\":\"DaysTicker\"},{\"attributes\":{\"plot\":{\"id\":\"dbe81b65-922c-4d83-bbd1-12cc496e1d0e\",\"subtype\":\"Figure\",\"type\":\"Plot\"},\"ticker\":{\"id\":\"11213ee7-7268-4d84-ae76-6245f10a3cc3\",\"type\":\"DatetimeTicker\"}},\"id\":\"df110571-7988-4922-a621-029476685a82\",\"type\":\"Grid\"},{\"attributes\":{\"axis_label\":\"Time in hours\",\"formatter\":{\"id\":\"c2910601-212f-4fed-a8ac-20b7f67ee663\",\"type\":\"BasicTickFormatter\"},\"plot\":{\"id\":\"d1aacc8d-c475-4510-b019-5bbd8b81f3ad\",\"subtype\":\"Figure\",\"type\":\"Plot\"},\"ticker\":{\"id\":\"04cf2a77-a841-4a31-8881-de48b62eb73c\",\"type\":\"BasicTicker\"}},\"id\":\"7eb416a4-6cc8-42b0-acbc-b18032b3f1fc\",\"type\":\"LinearAxis\"},{\"attributes\":{\"background_fill_color\":{\"value\":\"#E8DDCB\"},\"below\":[{\"id\":\"50cde702-cd19-46f2-8cfc-b33527435b5a\",\"type\":\"LinearAxis\"}],\"left\":[{\"id\":\"7eb416a4-6cc8-42b0-acbc-b18032b3f1fc\",\"type\":\"LinearAxis\"}],\"renderers\":[{\"id\":\"50cde702-cd19-46f2-8cfc-b33527435b5a\",\"type\":\"LinearAxis\"},{\"id\":\"594ccbf5-b6a8-4165-95a0-edcba7fbfc0f\",\"type\":\"Grid\"},{\"id\":\"7eb416a4-6cc8-42b0-acbc-b18032b3f1fc\",\"type\":\"LinearAxis\"},{\"id\":\"61b40930-c7ce-40cc-bf6f-97052a8a51e9\",\"type\":\"Grid\"},{\"id\":\"21aef3b2-c46c-4826-8f62-2ba5e9deaeca\",\"type\":\"BoxAnnotation\"},{\"id\":\"97ccc108-7221-425d-a9cf-e79fcc9932d0\",\"type\":\"GlyphRenderer\"},{\"id\":\"193e33f4-c1d5-476e-8fb8-326bcf2fca72\",\"type\":\"GlyphRenderer\"}],\"title\":\"Speeds \",\"tool_events\":{\"id\":\"7f725af8-a286-4b0e-8c0d-10f9be7403f6\",\"type\":\"ToolEvents\"},\"tools\":[{\"id\":\"57732c68-c753-4138-aa99-80a0a18b0ab1\",\"type\":\"PanTool\"},{\"id\":\"a0e58975-de11-44f5-9f8d-8ab87960872e\",\"type\":\"WheelZoomTool\"},{\"id\":\"c352eae9-687b-4ede-bc7e-368979f3aefb\",\"type\":\"BoxZoomTool\"},{\"id\":\"dd5b52ae-39c7-4888-b425-2704bd86d0f7\",\"type\":\"PreviewSaveTool\"},{\"id\":\"85906e22-6d32-47cb-8316-f020695a45b9\",\"type\":\"ResizeTool\"},{\"id\":\"ac6e979b-c3ab-414d-a592-0135f0f8a134\",\"type\":\"ResetTool\"},{\"id\":\"9ed20729-25b0-4ad8-a6a8-8c38b8fc0e6a\",\"type\":\"HelpTool\"}],\"x_range\":{\"id\":\"c142c82d-d888-4be5-bdd0-b800b62e69d5\",\"type\":\"DataRange1d\"},\"y_range\":{\"id\":\"67eceb09-572f-49ce-bcae-eaf1d8ddd01f\",\"type\":\"DataRange1d\"}},\"id\":\"d1aacc8d-c475-4510-b019-5bbd8b81f3ad\",\"subtype\":\"Figure\",\"type\":\"Plot\"},{\"attributes\":{\"months\":[0,1,2,3,4,5,6,7,8,9,10,11]},\"id\":\"97baa119-4d11-4df7-ae5c-f8ef2cf5131e\",\"type\":\"MonthsTicker\"},{\"attributes\":{\"bottom_units\":\"screen\",\"fill_alpha\":{\"value\":0.5},\"fill_color\":{\"value\":\"lightgrey\"},\"left_units\":\"screen\",\"level\":\"overlay\",\"line_alpha\":{\"value\":1.0},\"line_color\":{\"value\":\"black\"},\"line_dash\":[4,4],\"line_width\":{\"value\":2},\"plot\":null,\"render_mode\":\"css\",\"right_units\":\"screen\",\"top_units\":\"screen\"},\"id\":\"94eb7722-cb22-407d-b5de-c68ad3652827\",\"type\":\"BoxAnnotation\"},{\"attributes\":{\"callback\":null,\"column_names\":[\"x\",\"y\"],\"data\":{\"x\":[5.869758041685876,2.050294537996982,5.673724969564729,5.493705520609242,5.936597828117185,4.4667360256449795,8.747538975053558,7.583492622425234,4.482126354346572,1.2560139437106257,1.4658603370305834,5.980435447792144,5.678105548248082,5.641157399618419,1.8483031448360636,2.1026866123651433,4.686257052728707,9.468497064399834,4.437458852924772,5.637941600178236,5.976531944856669,10.040460857166941,9.377080509775602,4.927336038861122,12.543342213664967,9.053550749702497,9.06696676016255,9.355976346881262,6.733926622101581,5.6908235488077645,3.787391257415656,8.943501144715288,10.096597395845707,12.190742378890011,8.190534493570851,5.721899762011914,7.650115555373454,2.732913143192231,4.069353778953401,4.580658855378932,7.7705359080535095,13.061254042482593],\"y\":[0.9171293887581277,0.32566972284072143,0.8867728595666444,0.8588961059244082,0.9274798051751116,0.6998656468527916,1.3627656274050541,1.1825082519456542,0.7022489026852956,0.2026720990939408,0.23516767800629904,0.9342682412637203,0.8874512102308355,0.8817296371293617,0.2943905230783038,0.3337828514967706,0.7338593826786185,1.4744089590544753,0.6953319559877327,0.8812316573317511,0.9336637677454124,1.5629799097809733,1.4602527287867566,0.7711914573168159,1.950561403756627,1.4101528119732134,1.4122303364886286,1.456984662179261,1.0509494552086498,0.8894206450362478,0.5946663094925617,1.3931111770584637,1.5716728841687728,1.8959598660597465,1.2765111876875188,0.8942329247352035,1.1928250877069948,0.43137602734863156,0.6383293680946077,0.717507066583529,1.2114726756462466,2.0307621850839768]}},\"id\":\"ae54b354-c5bc-4186-bfcb-465976c7a524\",\"type\":\"ColumnDataSource\"},{\"attributes\":{\"dimension\":1,\"plot\":{\"id\":\"d1aacc8d-c475-4510-b019-5bbd8b81f3ad\",\"subtype\":\"Figure\",\"type\":\"Plot\"},\"ticker\":{\"id\":\"04cf2a77-a841-4a31-8881-de48b62eb73c\",\"type\":\"BasicTicker\"}},\"id\":\"61b40930-c7ce-40cc-bf6f-97052a8a51e9\",\"type\":\"Grid\"},{\"attributes\":{\"days\":[1,8,15,22]},\"id\":\"31ad8910-2aab-4960-8fa5-006ba0743129\",\"type\":\"DaysTicker\"},{\"attributes\":{\"data_source\":{\"id\":\"ae54b354-c5bc-4186-bfcb-465976c7a524\",\"type\":\"ColumnDataSource\"},\"glyph\":{\"id\":\"49c14dae-492a-4e61-881f-819204e14f09\",\"type\":\"Line\"},\"hover_glyph\":null,\"nonselection_glyph\":{\"id\":\"a6c7c21e-149b-4116-954a-f860b047965d\",\"type\":\"Line\"},\"selection_glyph\":null},\"id\":\"193e33f4-c1d5-476e-8fb8-326bcf2fca72\",\"type\":\"GlyphRenderer\"},{\"attributes\":{\"plot\":{\"id\":\"5ab2017d-84ea-4569-9d58-eaff71a7e928\",\"subtype\":\"Figure\",\"type\":\"Plot\"}},\"id\":\"ee1d871a-70fa-45ba-a5cc-164d348c5591\",\"type\":\"WheelZoomTool\"},{\"attributes\":{\"plot\":{\"id\":\"e4402d0d-1629-4a3a-bc58-c1fd17e238d3\",\"subtype\":\"Figure\",\"type\":\"Plot\"},\"ticker\":{\"id\":\"a2670a78-e859-4260-8813-6d3d93ab7c44\",\"type\":\"DatetimeTicker\"}},\"id\":\"fe5acaea-afbd-4896-bee9-a314453b2a5c\",\"type\":\"Grid\"},{\"attributes\":{\"plot\":{\"id\":\"d1aacc8d-c475-4510-b019-5bbd8b81f3ad\",\"subtype\":\"Figure\",\"type\":\"Plot\"}},\"id\":\"85906e22-6d32-47cb-8316-f020695a45b9\",\"type\":\"ResizeTool\"},{\"attributes\":{\"months\":[0,6]},\"id\":\"bd0bdbf4-59a7-4ef3-ae7e-91b2f003998d\",\"type\":\"MonthsTicker\"},{\"attributes\":{\"plot\":{\"id\":\"d1aacc8d-c475-4510-b019-5bbd8b81f3ad\",\"subtype\":\"Figure\",\"type\":\"Plot\"}},\"id\":\"9ed20729-25b0-4ad8-a6a8-8c38b8fc0e6a\",\"type\":\"HelpTool\"},{\"attributes\":{\"plot\":{\"id\":\"e4402d0d-1629-4a3a-bc58-c1fd17e238d3\",\"subtype\":\"Figure\",\"type\":\"Plot\"}},\"id\":\"25b1efde-3098-4fd7-85bb-5d938ca96386\",\"type\":\"HelpTool\"},{\"attributes\":{\"plot\":{\"id\":\"dbe81b65-922c-4d83-bbd1-12cc496e1d0e\",\"subtype\":\"Figure\",\"type\":\"Plot\"}},\"id\":\"1f3b9931-e2a6-41f3-b12d-a768a5963174\",\"type\":\"HelpTool\"},{\"attributes\":{\"callback\":null},\"id\":\"67eceb09-572f-49ce-bcae-eaf1d8ddd01f\",\"type\":\"DataRange1d\"},{\"attributes\":{\"months\":[0,2,4,6,8,10]},\"id\":\"6d8ae1b2-c3f8-455c-8ab0-f9bfe0aea741\",\"type\":\"MonthsTicker\"},{\"attributes\":{\"callback\":null},\"id\":\"95cce9db-6e8c-4856-b4f0-cdfddad6efc7\",\"type\":\"DataRange1d\"},{\"attributes\":{\"callback\":null},\"id\":\"c142c82d-d888-4be5-bdd0-b800b62e69d5\",\"type\":\"DataRange1d\"},{\"attributes\":{\"base\":60,\"mantissas\":[1,2,5,10,15,20,30],\"max_interval\":1800000.0,\"min_interval\":1000.0,\"num_minor_ticks\":0},\"id\":\"9178a1e7-4d18-424b-9d51-bf3f61a0a34f\",\"type\":\"AdaptiveTicker\"},{\"attributes\":{},\"id\":\"ffe09a9a-15f1-4f1a-97cf-34a8e9aab835\",\"type\":\"BasicTickFormatter\"},{\"attributes\":{\"background_fill_color\":{\"value\":\"#E8DDCB\"},\"below\":[{\"id\":\"b095cefb-58ca-4c00-8f7e-87b3b0f356e6\",\"type\":\"DatetimeAxis\"}],\"left\":[{\"id\":\"c1e52c45-fa0f-4d74-b156-5273b7b55ed7\",\"type\":\"LinearAxis\"}],\"renderers\":[{\"id\":\"b095cefb-58ca-4c00-8f7e-87b3b0f356e6\",\"type\":\"DatetimeAxis\"},{\"id\":\"ac992d7c-888f-4034-96de-99be8ef07e62\",\"type\":\"Grid\"},{\"id\":\"c1e52c45-fa0f-4d74-b156-5273b7b55ed7\",\"type\":\"LinearAxis\"},{\"id\":\"5e40703e-8a8f-4672-bcb5-851af33bd56f\",\"type\":\"Grid\"},{\"id\":\"94eb7722-cb22-407d-b5de-c68ad3652827\",\"type\":\"BoxAnnotation\"},{\"id\":\"d522091a-6a5c-4e3d-8df1-be28a92ae129\",\"type\":\"GlyphRenderer\"}],\"title\":\"Speeds over time\",\"tool_events\":{\"id\":\"f85d815f-8fcf-4232-83d8-59c26fe56224\",\"type\":\"ToolEvents\"},\"tools\":[{\"id\":\"a60e2d49-8c85-4ce6-8f5e-f2a09e1e753f\",\"type\":\"PanTool\"},{\"id\":\"ee1d871a-70fa-45ba-a5cc-164d348c5591\",\"type\":\"WheelZoomTool\"},{\"id\":\"49f78460-1117-4160-a3bc-48cb9d5f63ea\",\"type\":\"BoxZoomTool\"},{\"id\":\"f678fc67-4146-4155-9fdd-b8221a868913\",\"type\":\"PreviewSaveTool\"},{\"id\":\"2a27b1a2-f7fe-4f50-a650-191cf67a1263\",\"type\":\"ResizeTool\"},{\"id\":\"821b930b-c68d-42d4-ae75-18c3b74a31aa\",\"type\":\"ResetTool\"},{\"id\":\"ce965df9-812e-402a-86db-bd15a3a52142\",\"type\":\"HelpTool\"}],\"x_range\":{\"id\":\"95cce9db-6e8c-4856-b4f0-cdfddad6efc7\",\"type\":\"DataRange1d\"},\"y_range\":{\"id\":\"2f814c14-d3cc-41de-9148-1db904096818\",\"type\":\"DataRange1d\"}},\"id\":\"5ab2017d-84ea-4569-9d58-eaff71a7e928\",\"subtype\":\"Figure\",\"type\":\"Plot\"},{\"attributes\":{\"axis_label\":\"Time\",\"formatter\":{\"id\":\"add1cae2-233e-4a14-a228-941f9b8ae217\",\"type\":\"DatetimeTickFormatter\"},\"plot\":{\"id\":\"e4402d0d-1629-4a3a-bc58-c1fd17e238d3\",\"subtype\":\"Figure\",\"type\":\"Plot\"},\"ticker\":{\"id\":\"a2670a78-e859-4260-8813-6d3d93ab7c44\",\"type\":\"DatetimeTicker\"}},\"id\":\"8bcf7c10-dcce-4afd-8b3f-05478bd6379e\",\"type\":\"DatetimeAxis\"},{\"attributes\":{\"dimension\":1,\"plot\":{\"id\":\"5ab2017d-84ea-4569-9d58-eaff71a7e928\",\"subtype\":\"Figure\",\"type\":\"Plot\"},\"ticker\":{\"id\":\"1e6092e3-56da-4dd0-8eeb-332bb926636e\",\"type\":\"BasicTicker\"}},\"id\":\"5e40703e-8a8f-4672-bcb5-851af33bd56f\",\"type\":\"Grid\"},{\"attributes\":{\"plot\":{\"id\":\"d1aacc8d-c475-4510-b019-5bbd8b81f3ad\",\"subtype\":\"Figure\",\"type\":\"Plot\"}},\"id\":\"57732c68-c753-4138-aa99-80a0a18b0ab1\",\"type\":\"PanTool\"},{\"attributes\":{\"callback\":null},\"id\":\"a8ee7f3c-f654-4f7a-a82a-34db6ef53a43\",\"type\":\"DataRange1d\"},{\"attributes\":{},\"id\":\"fc9b82dc-c2fe-4fdc-9597-2e52be6db886\",\"type\":\"BasicTicker\"},{\"attributes\":{\"plot\":{\"id\":\"e4402d0d-1629-4a3a-bc58-c1fd17e238d3\",\"subtype\":\"Figure\",\"type\":\"Plot\"}},\"id\":\"4c177701-a0db-48f9-bed3-2e6cadef2cf0\",\"type\":\"ResetTool\"},{\"attributes\":{\"plot\":{\"id\":\"e4402d0d-1629-4a3a-bc58-c1fd17e238d3\",\"subtype\":\"Figure\",\"type\":\"Plot\"}},\"id\":\"830da2a8-08ec-4040-a9bb-b82a5a3e4c36\",\"type\":\"PreviewSaveTool\"},{\"attributes\":{\"plot\":{\"id\":\"d1aacc8d-c475-4510-b019-5bbd8b81f3ad\",\"subtype\":\"Figure\",\"type\":\"Plot\"}},\"id\":\"dd5b52ae-39c7-4888-b425-2704bd86d0f7\",\"type\":\"PreviewSaveTool\"},{\"attributes\":{\"plot\":{\"id\":\"5ab2017d-84ea-4569-9d58-eaff71a7e928\",\"subtype\":\"Figure\",\"type\":\"Plot\"}},\"id\":\"a60e2d49-8c85-4ce6-8f5e-f2a09e1e753f\",\"type\":\"PanTool\"},{\"attributes\":{\"base\":60,\"mantissas\":[1,2,5,10,15,20,30],\"max_interval\":1800000.0,\"min_interval\":1000.0,\"num_minor_ticks\":0},\"id\":\"33b12cd9-de57-46ea-9067-4b0780dcc0c0\",\"type\":\"AdaptiveTicker\"},{\"attributes\":{},\"id\":\"f85d815f-8fcf-4232-83d8-59c26fe56224\",\"type\":\"ToolEvents\"},{\"attributes\":{\"months\":[0,2,4,6,8,10]},\"id\":\"b2f41603-80c3-4762-9fcd-f669ee91c4c7\",\"type\":\"MonthsTicker\"},{\"attributes\":{\"plot\":{\"id\":\"d1aacc8d-c475-4510-b019-5bbd8b81f3ad\",\"subtype\":\"Figure\",\"type\":\"Plot\"},\"ticker\":{\"id\":\"fc9b82dc-c2fe-4fdc-9597-2e52be6db886\",\"type\":\"BasicTicker\"}},\"id\":\"594ccbf5-b6a8-4165-95a0-edcba7fbfc0f\",\"type\":\"Grid\"},{\"attributes\":{},\"id\":\"fda6d599-9462-48ac-901f-cb3ee74c708e\",\"type\":\"ToolEvents\"},{\"attributes\":{},\"id\":\"05c23e80-ceaf-4b0d-86a1-6fd7d0890a62\",\"type\":\"YearsTicker\"},{\"attributes\":{\"fill_alpha\":{\"value\":0.1},\"fill_color\":{\"value\":\"#1f77b4\"},\"line_alpha\":{\"value\":0.1},\"line_color\":{\"value\":\"#1f77b4\"},\"x\":{\"field\":\"x\"},\"y\":{\"field\":\"y\"}},\"id\":\"4ffc3c5e-a53d-4272-a12d-8ae3ccd0f5f8\",\"type\":\"Circle\"},{\"attributes\":{\"fill_color\":{\"value\":\"#1f77b4\"},\"line_color\":{\"value\":\"#1f77b4\"},\"x\":{\"field\":\"x\"},\"y\":{\"field\":\"y\"}},\"id\":\"0da87f04-1941-4494-8e0a-24eee2d6107b\",\"type\":\"Circle\"},{\"attributes\":{\"callback\":null,\"column_names\":[\"x\",\"y\"],\"data\":{\"x\":[1466880893000.0,1466880895000.0,1466880898000.0,1466880911000.0,1466880918000.0,1466880929000.0,1466880933000.0,1466880936000.0,1466880939000.0,1466880942000.0,1466880945000.0,1466880948000.0,1466880951000.0,1466880954000.0,1466880957000.0,1466880960000.0,1466880964000.0,1466880967000.0,1466880970000.0,1466880973000.0,1466880976000.0,1466880980000.0,1466880983000.0,1466880987000.0,1466880991000.0,1466880995000.0,1466880999000.0,1466881003000.0,1466881006000.0,1466881009000.0,1466881012000.0,1466881015000.0,1466881018000.0,1466881021000.0,1466881024000.0,1466881027000.0,1466881031000.0,1466881034000.0,1466881038000.0,1466881071000.0,1466881074000.0,1466881077000.0,1466881080000.0,1466881082000.0,1466881085000.0,1466881088000.0,1466881091000.0,1466881094000.0,1466881097000.0,1466881100000.0,1466881103000.0,1466881106000.0,1466881109000.0,1466881112000.0,1466881116000.0,1466881138000.0,1466881141000.0,1466881144000.0,1466881147000.0,1466881150000.0,1466881153000.0,1466881156000.0,1466881159000.0,1466881162000.0,1466881165000.0,1466881168000.0,1466881171000.0,1466881175000.0,1466881178000.0,1466881181000.0,1466881184000.0,1466881187000.0,1466881190000.0,1466881193000.0,1466881196000.0,1466881200000.0,1466881214000.0,1466881222000.0,1466881226000.0,1466881229000.0,1466881232000.0,1466881235000.0,1466881238000.0,1466881241000.0,1466881244000.0,1466881247000.0,1466881250000.0,1466881253000.0,1466881256000.0,1466881259000.0,1466881262000.0,1466881265000.0,1466881268000.0,1466881271000.0,1466881274000.0,1466881285000.0,1466881301000.0,1466881304000.0,1466881307000.0,1466881309000.0,1466881312000.0,1466881315000.0,1466881318000.0,1466881322000.0,1466881325000.0,1466881328000.0,1466881331000.0,1466881335000.0,1466881350000.0,1466881358000.0,1466881361000.0,1466881364000.0,1466881367000.0,1466881370000.0,1466881373000.0,1466881376000.0,1466881379000.0,1466881383000.0,1466881386000.0,1466881389000.0,1466881392000.0,1466881396000.0,1466881400000.0,1466881403000.0,1466881406000.0,1466881409000.0,1466881412000.0,1466881437000.0,1466881447000.0,1466881451000.0,1466881454000.0,1466881457000.0,1466881460000.0,1466881463000.0,1466881466000.0,1466881469000.0,1466881472000.0,1466881475000.0,1466881478000.0,1466881480000.0,1466881483000.0,1466881486000.0,1466881489000.0,1466881492000.0,1466881495000.0,1466881498000.0,1466881501000.0,1466881504000.0,1466881507000.0,1466881510000.0,1466881513000.0,1466881516000.0,1466881520000.0,1466881523000.0,1466881526000.0,1466881530000.0,1466881534000.0,1466881544000.0,1466881556000.0,1466881564000.0,1466881571000.0,1466881578000.0,1466881586000.0,1466881597000.0,1466881604000.0,1466881613000.0,1466881621000.0,1466881624000.0,1466881627000.0,1466881631000.0,1466881635000.0,1466881639000.0,1466881643000.0,1466881647000.0,1466881651000.0,1466881655000.0,1466881659000.0,1466881663000.0,1466881683000.0,1466881690000.0,1466881694000.0,1466881698000.0,1466881702000.0,1466881707000.0,1466881712000.0,1466881717000.0,1466881722000.0,1466881726000.0,1466881732000.0,1466881737000.0,1466881741000.0,1466881746000.0,1466881751000.0,1466881759000.0,1466881769000.0,1466881780000.0,1466881789000.0,1466881797000.0,1466881807000.0,1466881813000.0,1466881817000.0,1466881821000.0,1466881826000.0,1466881868000.0,1466881872000.0,1466881877000.0,1466881881000.0,1466881885000.0,1466881889000.0,1466881893000.0,1466881897000.0,1466881903000.0,1466881908000.0,1466881913000.0,1466881919000.0,1466881945000.0,1466881957000.0,1466881961000.0,1466881965000.0,1466881970000.0,1466881997000.0,1466882002000.0,1466882040000.0,1466882045000.0,1466882050000.0,1466882056000.0,1466882061000.0,1466882067000.0,1466882072000.0,1466882076000.0,1466882080000.0,1466882083000.0,1466882087000.0,1466882092000.0,1466882097000.0,1466882102000.0,1466882107000.0,1466882111000.0,1466882144000.0,1466882166000.0,1466882175000.0,1466882183000.0,1466882222000.0,1466882326000.0,1466882332000.0,1466882336000.0,1466882339000.0,1466882342000.0,1466882345000.0,1466882348000.0,1466882352000.0,1466882356000.0,1466882360000.0,1466882364000.0,1466882368000.0,1466882373000.0,1466882378000.0,1466882383000.0,1466882387000.0,1466882391000.0,1466882395000.0,1466882399000.0,1466882404000.0,1466882420000.0,1466882424000.0,1466882428000.0,1466882432000.0,1466882436000.0,1466882441000.0,1466882446000.0,1466882452000.0,1466882456000.0,1466882460000.0,1466882464000.0,1466882468000.0,1466882472000.0,1466882476000.0,1466882480000.0,1466882485000.0,1466882490000.0,1466882494000.0,1466882500000.0,1466882506000.0,1466882511000.0,1466882518000.0,1466882527000.0,1466882540000.0,1466882545000.0,1466882550000.0,1466882555000.0,1466882562000.0,1466882568000.0,1466882573000.0,1466882578000.0,1466882584000.0,1466882589000.0,1466882604000.0,1466882643000.0,1466882654000.0,1466882662000.0,1466882666000.0,1466882669000.0,1466882673000.0,1466882677000.0,1466882681000.0,1466882687000.0,1466882692000.0,1466882697000.0,1466882732000.0,1466882737000.0,1466882743000.0,1466882748000.0,1466882752000.0,1466882758000.0,1466882764000.0,1466882770000.0,1466882799000.0,1466882803000.0,1466882806000.0,1466882809000.0,1466882812000.0,1466882816000.0,1466882820000.0,1466882824000.0,1466882829000.0,1466882832000.0,1466882835000.0,1466882839000.0,1466882842000.0,1466882846000.0,1466882850000.0,1466882854000.0,1466882858000.0,1466882863000.0,1466882867000.0,1466882871000.0,1466882876000.0,1466882883000.0,1466882892000.0,1466882902000.0,1466882933000.0,1466882937000.0,1466882941000.0,1466882945000.0,1466882949000.0,1466882953000.0,1466882957000.0,1466882961000.0,1466882965000.0,1466882969000.0,1466882993000.0,1466882997000.0,1466883001000.0,1466883005000.0,1466883009000.0,1466883014000.0,1466883019000.0,1466883024000.0,1466883028000.0,1466883032000.0,1466883036000.0,1466883040000.0,1466883044000.0,1466883048000.0,1466883052000.0,1466883057000.0,1466883062000.0,1466883082000.0,1466883098000.0,1466883102000.0,1466883106000.0,1466883109000.0,1466883112000.0,1466883116000.0,1466883120000.0,1466883124000.0,1466883129000.0,1466883135000.0,1466883142000.0,1466883150000.0,1466883161000.0,1466883169000.0,1466883174000.0,1466883179000.0,1466883183000.0,1466883186000.0,1466883189000.0,1466883193000.0,1466883196000.0,1466883199000.0,1466883203000.0,1466883209000.0,1466883213000.0,1466883217000.0,1466883221000.0,1466883225000.0,1466883229000.0,1466883233000.0,1466883238000.0,1466883243000.0,1466883247000.0,1466883250000.0,1466883253000.0,1466883257000.0,1466883260000.0,1466883264000.0,1466883269000.0,1466883274000.0,1466883296000.0,1466883301000.0,1466883304000.0,1466883308000.0,1466883314000.0,1466883319000.0,1466883323000.0,1466883326000.0,1466883329000.0,1466883333000.0,1466883337000.0,1466883341000.0,1466883345000.0,1466883349000.0,1466883353000.0,1466883358000.0,1466883363000.0,1466883368000.0,1466883374000.0,1466883380000.0,1466883385000.0,1466883390000.0,1466883394000.0,1466883399000.0,1466883413000.0,1466883430000.0,1466883439000.0,1466883448000.0,1466883452000.0,1466883456000.0,1466883460000.0,1466883464000.0,1466883468000.0,1466883473000.0,1466883478000.0,1466883483000.0,1466883489000.0,1466883494000.0,1466883498000.0,1466883502000.0,1466883507000.0,1466883513000.0,1466883518000.0,1466883523000.0,1466883558000.0,1466883562000.0,1466883566000.0,1466883570000.0,1466883574000.0,1466883578000.0,1466883582000.0,1466883587000.0,1466883592000.0,1466883598000.0,1466883605000.0,1466883612000.0,1466883620000.0,1466883630000.0,1466883642000.0,1466883650000.0,1466883659000.0,1466883667000.0,1466883676000.0,1466883684000.0,1466883692000.0,1466883700000.0,1466883709000.0,1466883719000.0,1466883728000.0,1466883736000.0,1466883743000.0,1466883753000.0,1466883763000.0,1466883772000.0,1466883781000.0,1466883789000.0,1466883799000.0,1466883807000.0,1466883817000.0,1466883828000.0,1466883836000.0,1466883844000.0,1466883852000.0,1466883861000.0,1466883871000.0,1466883879000.0,1466883888000.0,1466883897000.0,1466883904000.0,1466883915000.0,1466883941000.0],\"y\":[327.0,326.7,326.5,326.3,325.9,325.5,325.0,324.5,323.9,323.2,322.7,322.3,321.8,321.4,320.9,320.5,320.2,319.8,319.5,319.1,318.9,318.7,318.5,318.4,318.2,318.0,318.0,318.0,318.0,318.0,317.3,316.5,315.8,315.1,314.4,313.6,312.9,312.2,311.5,310.7,310.0,309.4,308.7,308.1,307.5,306.8,306.2,305.5,304.9,304.0,303.1,302.2,301.9,301.6,301.4,301.0,300.6,300.3,299.7,299.2,298.9,298.6,298.4,298.1,297.8,297.5,297.1,296.6,296.2,295.9,295.6,295.3,294.9,294.5,294.2,293.8,293.5,293.4,293.3,293.2,293.1,293.0,292.9,292.5,292.2,291.8,291.5,291.1,290.7,290.4,290.0,289.6,289.4,289.2,289.3,289.4,289.5,289.5,289.6,289.7,289.6,289.5,289.5,289.3,289.1,288.9,288.7,288.5,288.3,288.0,287.7,287.6,287.5,287.5,287.4,287.3,286.9,286.5,286.2,285.7,285.3,284.8,284.4,283.9,283.5,283.0,282.5,282.4,282.2,282.0,282.0,282.0,282.0,281.8,281.6,281.5,281.2,280.9,280.5,280.2,279.8,279.5,279.1,278.7,278.5,278.2,277.9,277.7,277.5,277.5,277.4,277.3,277.0,276.7,276.5,276.3,276.1,275.9,275.7,275.5,275.4,275.2,275.0,275.0,275.0,275.0,275.0,275.2,275.4,275.5,275.7,275.9,276.1,276.3,276.5,276.6,276.8,277.2,277.4,277.5,277.7,277.9,278.1,278.3,278.5,278.6,279.0,279.4,279.5,279.7,279.9,280.1,280.3,280.5,280.6,280.8,281.1,281.4,281.6,281.9,282.2,282.5,282.7,283.0,283.3,283.7,284.5,285.1,285.5,286.0,286.5,286.9,287.4,287.8,288.7,289.6,290.4,290.8,291.6,292.5,293.3,294.1,294.9,295.9,296.9,297.5,298.0,298.5,299.1,299.5,299.8,300.4,300.9,301.5,301.8,302.2,302.5,302.9,303.3,303.6,303.8,304.0,304.0,304.0,304.3,304.5,304.8,305.1,305.4,305.6,305.9,306.2,306.5,306.7,307.0,307.0,307.4,307.7,308.1,308.5,309.0,309.5,309.9,310.4,310.8,311.3,311.7,311.8,311.9,312.0,312.0,312.0,312.3,312.5,312.8,313.1,313.4,313.8,314.3,314.7,315.2,315.6,316.1,316.3,316.6,317.0,317.4,318.2,318.8,319.5,320.1,320.9,321.7,322.5,323.4,324.0,324.6,325.3,325.6,326.0,326.7,327.5,328.0,328.5,329.1,329.6,330.5,331.3,332.1,332.7,333.4,333.6,333.6,333.6,333.6,333.6,333.6,333.4,332.9,332.5,332.0,331.5,331.1,330.9,330.5,330.2,329.8,329.5,329.1,328.9,328.7,328.5,328.4,328.2,328.0,328.0,328.0,328.0,328.0,328.0,328.1,328.2,328.3,328.4,328.5,328.5,328.6,328.7,328.8,328.9,329.0,328.9,328.8,328.7,328.6,328.5,328.5,328.4,328.3,328.2,328.1,328.0,328.0,328.0,328.0,328.0,328.0,328.0,328.0,328.0,328.0,327.7,327.5,327.2,326.9,326.6,326.4,325.9,325.5,325.0,324.5,324.1,323.9,323.2,322.5,321.7,321.0,321.2,321.5,321.4,321.2,321.0,320.8,320.6,321.0,320.6,320.3,319.9,318.6,317.4,316.0,314.6,313.3,311.9,310.5,309.2,308.5,307.7,307.0,306.3,305.5,305.4,305.2,305.0,304.8,304.6,304.5,304.5,304.5,304.5,304.5,304.5,304.6,304.8,305.0,305.2,305.4,305.5,305.8,306.1,306.4,306.6,306.9,307.2,307.5,307.7,308.0,308.3,308.5,308.9,309.3,309.6,310.0,310.4,310.8,311.3,311.7,312.2,312.6,313.1,313.5,313.8,314.2,314.0,314.4,314.7,315.1,315.5,315.8,316.2,316.5,316.7,316.9,317.1,317.8,318.0,318.0,318.0,318.0,318.0,318.0,318.0,318.0,318.2,318.4,318.5,318.7,318.9,319.1,319.5,319.8,320.2,320.5,320.9,321.4,321.8,322.3,322.7,323.2,323.6,324.2,324.7,325.3,325.8,326.2,326.3,326.5,326.7,327.0]}},\"id\":\"f0e7f289-00a3-49c8-b768-91e475ba784e\",\"type\":\"ColumnDataSource\"},{\"attributes\":{\"base\":24,\"mantissas\":[1,2,4,6,8,12],\"max_interval\":43200000.0,\"min_interval\":3600000.0,\"num_minor_ticks\":0},\"id\":\"3bcd75e5-ed17-4d30-8a34-53f5f7cefce8\",\"type\":\"AdaptiveTicker\"},{\"attributes\":{\"data_source\":{\"id\":\"07f97daa-f58c-4c2f-9bdb-4499184105b6\",\"type\":\"ColumnDataSource\"},\"glyph\":{\"id\":\"65a83011-9739-4a2c-9757-02e0a0318cab\",\"type\":\"Circle\"},\"hover_glyph\":null,\"nonselection_glyph\":{\"id\":\"4ffc3c5e-a53d-4272-a12d-8ae3ccd0f5f8\",\"type\":\"Circle\"},\"selection_glyph\":null},\"id\":\"d522091a-6a5c-4e3d-8df1-be28a92ae129\",\"type\":\"GlyphRenderer\"},{\"attributes\":{\"fill_color\":{\"value\":\"#1f77b4\"},\"line_color\":{\"value\":\"#1f77b4\"},\"x\":{\"field\":\"x\"},\"y\":{\"field\":\"y\"}},\"id\":\"65a83011-9739-4a2c-9757-02e0a0318cab\",\"type\":\"Circle\"},{\"attributes\":{},\"id\":\"c2910601-212f-4fed-a8ac-20b7f67ee663\",\"type\":\"BasicTickFormatter\"},{\"attributes\":{\"plot\":{\"id\":\"e4402d0d-1629-4a3a-bc58-c1fd17e238d3\",\"subtype\":\"Figure\",\"type\":\"Plot\"}},\"id\":\"c30ced04-5998-44d5-9bc6-c9cc2e466315\",\"type\":\"ResizeTool\"},{\"attributes\":{\"plot\":{\"id\":\"d1aacc8d-c475-4510-b019-5bbd8b81f3ad\",\"subtype\":\"Figure\",\"type\":\"Plot\"}},\"id\":\"ac6e979b-c3ab-414d-a592-0135f0f8a134\",\"type\":\"ResetTool\"},{\"attributes\":{\"plot\":{\"id\":\"d1aacc8d-c475-4510-b019-5bbd8b81f3ad\",\"subtype\":\"Figure\",\"type\":\"Plot\"}},\"id\":\"a0e58975-de11-44f5-9f8d-8ab87960872e\",\"type\":\"WheelZoomTool\"},{\"attributes\":{\"overlay\":{\"id\":\"32d99567-b874-4832-8b33-b6fffc90099c\",\"type\":\"BoxAnnotation\"},\"plot\":{\"id\":\"e4402d0d-1629-4a3a-bc58-c1fd17e238d3\",\"subtype\":\"Figure\",\"type\":\"Plot\"}},\"id\":\"b73987b4-3244-45a3-8a0e-4e5f6bbe966d\",\"type\":\"BoxZoomTool\"},{\"attributes\":{\"callback\":null},\"id\":\"f283b7d6-790d-419a-8223-c16ec8467562\",\"type\":\"DataRange1d\"},{\"attributes\":{\"plot\":{\"id\":\"5ab2017d-84ea-4569-9d58-eaff71a7e928\",\"subtype\":\"Figure\",\"type\":\"Plot\"},\"ticker\":{\"id\":\"f284acab-c5e8-4d11-9cf5-275851b964b7\",\"type\":\"DatetimeTicker\"}},\"id\":\"ac992d7c-888f-4034-96de-99be8ef07e62\",\"type\":\"Grid\"},{\"attributes\":{\"plot\":{\"id\":\"e4402d0d-1629-4a3a-bc58-c1fd17e238d3\",\"subtype\":\"Figure\",\"type\":\"Plot\"}},\"id\":\"ab74d2d5-1876-4fa5-86e0-22742c7ba2cb\",\"type\":\"WheelZoomTool\"},{\"attributes\":{\"line_color\":{\"value\":\"#1f77b4\"},\"x\":{\"field\":\"x\"},\"y\":{\"field\":\"y\"}},\"id\":\"49c14dae-492a-4e61-881f-819204e14f09\",\"type\":\"Line\"},{\"attributes\":{\"max_interval\":500.0,\"num_minor_ticks\":0},\"id\":\"e00ff96f-103f-4213-85b2-dd65104a8e40\",\"type\":\"AdaptiveTicker\"},{\"attributes\":{\"months\":[0,2,4,6,8,10]},\"id\":\"d8a801a2-07d2-4016-bbc1-e70b2ac7e757\",\"type\":\"MonthsTicker\"},{\"attributes\":{\"overlay\":{\"id\":\"21aef3b2-c46c-4826-8f62-2ba5e9deaeca\",\"type\":\"BoxAnnotation\"},\"plot\":{\"id\":\"d1aacc8d-c475-4510-b019-5bbd8b81f3ad\",\"subtype\":\"Figure\",\"type\":\"Plot\"}},\"id\":\"c352eae9-687b-4ede-bc7e-368979f3aefb\",\"type\":\"BoxZoomTool\"},{\"attributes\":{\"plot\":{\"id\":\"5ab2017d-84ea-4569-9d58-eaff71a7e928\",\"subtype\":\"Figure\",\"type\":\"Plot\"}},\"id\":\"821b930b-c68d-42d4-ae75-18c3b74a31aa\",\"type\":\"ResetTool\"},{\"attributes\":{\"data_source\":{\"id\":\"f0e7f289-00a3-49c8-b768-91e475ba784e\",\"type\":\"ColumnDataSource\"},\"glyph\":{\"id\":\"8c747b63-73ef-40fc-a13c-b7a1bc34769d\",\"type\":\"Line\"},\"hover_glyph\":null,\"nonselection_glyph\":{\"id\":\"7c143bd9-df09-4316-a6a0-567ba2c5b5e5\",\"type\":\"Line\"},\"selection_glyph\":null},\"id\":\"18b6108e-eec6-47ce-8724-c1e174f5f02a\",\"type\":\"GlyphRenderer\"},{\"attributes\":{\"background_fill_color\":{\"value\":\"#E8DDCB\"},\"below\":[{\"id\":\"8bcf7c10-dcce-4afd-8b3f-05478bd6379e\",\"type\":\"DatetimeAxis\"}],\"left\":[{\"id\":\"6ba80015-299a-4ce2-b655-031841138d0c\",\"type\":\"LinearAxis\"}],\"renderers\":[{\"id\":\"8bcf7c10-dcce-4afd-8b3f-05478bd6379e\",\"type\":\"DatetimeAxis\"},{\"id\":\"fe5acaea-afbd-4896-bee9-a314453b2a5c\",\"type\":\"Grid\"},{\"id\":\"6ba80015-299a-4ce2-b655-031841138d0c\",\"type\":\"LinearAxis\"},{\"id\":\"975254be-903b-4d4f-aab4-f6c16a9f9d1d\",\"type\":\"Grid\"},{\"id\":\"32d99567-b874-4832-8b33-b6fffc90099c\",\"type\":\"BoxAnnotation\"},{\"id\":\"18b6108e-eec6-47ce-8724-c1e174f5f02a\",\"type\":\"GlyphRenderer\"}],\"title\":\"Elevation from last night run\",\"tool_events\":{\"id\":\"145ad887-76f2-419e-b5c6-da6f19dc35eb\",\"type\":\"ToolEvents\"},\"tools\":[{\"id\":\"9172f81b-f377-425e-a309-a4ff828827ca\",\"type\":\"PanTool\"},{\"id\":\"ab74d2d5-1876-4fa5-86e0-22742c7ba2cb\",\"type\":\"WheelZoomTool\"},{\"id\":\"b73987b4-3244-45a3-8a0e-4e5f6bbe966d\",\"type\":\"BoxZoomTool\"},{\"id\":\"830da2a8-08ec-4040-a9bb-b82a5a3e4c36\",\"type\":\"PreviewSaveTool\"},{\"id\":\"c30ced04-5998-44d5-9bc6-c9cc2e466315\",\"type\":\"ResizeTool\"},{\"id\":\"4c177701-a0db-48f9-bed3-2e6cadef2cf0\",\"type\":\"ResetTool\"},{\"id\":\"25b1efde-3098-4fd7-85bb-5d938ca96386\",\"type\":\"HelpTool\"}],\"x_range\":{\"id\":\"a8ee7f3c-f654-4f7a-a82a-34db6ef53a43\",\"type\":\"DataRange1d\"},\"y_range\":{\"id\":\"3adcda21-fdde-43da-b4ee-f4edad906963\",\"type\":\"DataRange1d\"}},\"id\":\"e4402d0d-1629-4a3a-bc58-c1fd17e238d3\",\"subtype\":\"Figure\",\"type\":\"Plot\"},{\"attributes\":{\"callback\":null,\"column_names\":[\"x\",\"y\"],\"data\":{\"x\":[1465328243000.0,1428148529000.0,1463844198000.0,1415554211000.0,1414697951000.0,1434131854000.0,1425920018000.0,1439056606000.0,1438106993000.0,1410246399000.0,1410099387000.0,1436643161000.0,1462128356000.0,1466880893000.0,1443172413000.0,1424372257000.0,1464635172000.0,1438457322000.0,1420981616000.0,1412445070000.0,1431286224000.0,1465587240000.0,1444075724000.0,1428233258000.0,1425674543000.0,1426191183000.0,1426607916000.0,1459889614000.0,1422467747000.0,1465060160000.0,1418056433000.0,1466349240000.0,1420741859000.0,1440791953000.0,1421776526000.0,1411542030000.0,1446030451000.0,1411201027000.0,1436301721000.0,1430762639000.0,1410547403000.0,1422038969000.0],\"y\":[7.530694565242037,6.6316804463514245,6.500766992499371,5.903683544535305,5.543904586568578,6.9162364268051295,6.717393410877305,7.021752428171513,6.667625981672587,7.988781267417407,6.688336138542586,7.527820843374726,8.329739190583984,6.662784330257975,4.598404506848535,8.174591581549155,7.367041654944693,7.659907737492002,5.205230326011463,5.934675368608669,5.536673958179106,7.183159595747414,7.389993396495658,6.265775252525623,6.255164422938618,6.989659596596395,7.156562231217974,6.78652324174341,5.9916302124482685,4.180160125629046,6.200367679261646,5.232667661461895,5.17184840993804,6.929839343755573,5.4867741304159034,5.586883412867613,6.232273364866359,7.207683015012478,8.433893842390468,7.401423644238849,6.705160419221628,6.251896629828126]}},\"id\":\"07f97daa-f58c-4c2f-9bdb-4499184105b6\",\"type\":\"ColumnDataSource\"},{\"attributes\":{\"months\":[0,4,8]},\"id\":\"379fc93e-520f-4016-9dfd-e0608c516514\",\"type\":\"MonthsTicker\"},{\"attributes\":{\"line_alpha\":{\"value\":0.1},\"line_color\":{\"value\":\"#1f77b4\"},\"x\":{\"field\":\"x\"},\"y\":{\"field\":\"y\"}},\"id\":\"a6c7c21e-149b-4116-954a-f860b047965d\",\"type\":\"Line\"},{\"attributes\":{\"days\":[1,8,15,22]},\"id\":\"35e1640b-6643-4be5-b4ba-9f547b519d0a\",\"type\":\"DaysTicker\"},{\"attributes\":{},\"id\":\"6b757496-c76d-47d0-9682-219aab127039\",\"type\":\"BasicTickFormatter\"},{\"attributes\":{\"months\":[0,1,2,3,4,5,6,7,8,9,10,11]},\"id\":\"1e8a2899-d334-4a9f-913a-6e192d796095\",\"type\":\"MonthsTicker\"},{\"attributes\":{\"bottom_units\":\"screen\",\"fill_alpha\":{\"value\":0.5},\"fill_color\":{\"value\":\"lightgrey\"},\"left_units\":\"screen\",\"level\":\"overlay\",\"line_alpha\":{\"value\":1.0},\"line_color\":{\"value\":\"black\"},\"line_dash\":[4,4],\"line_width\":{\"value\":2},\"plot\":null,\"render_mode\":\"css\",\"right_units\":\"screen\",\"top_units\":\"screen\"},\"id\":\"21aef3b2-c46c-4826-8f62-2ba5e9deaeca\",\"type\":\"BoxAnnotation\"},{\"attributes\":{\"data_source\":{\"id\":\"6b2e2e93-e05b-4699-83f7-afd496e02446\",\"type\":\"ColumnDataSource\"},\"glyph\":{\"id\":\"0da87f04-1941-4494-8e0a-24eee2d6107b\",\"type\":\"Circle\"},\"hover_glyph\":null,\"nonselection_glyph\":{\"id\":\"5ca14d5b-071a-4ea5-88f3-79215523806d\",\"type\":\"Circle\"},\"selection_glyph\":null},\"id\":\"c5071262-9a06-4098-bded-6cdd7b46e10e\",\"type\":\"GlyphRenderer\"},{\"attributes\":{},\"id\":\"ed43ace4-b9c2-4035-bb4e-d40bb8d6d5b4\",\"type\":\"BasicTickFormatter\"},{\"attributes\":{\"fill_alpha\":{\"value\":0.1},\"fill_color\":{\"value\":\"#1f77b4\"},\"line_alpha\":{\"value\":0.1},\"line_color\":{\"value\":\"#1f77b4\"},\"x\":{\"field\":\"x\"},\"y\":{\"field\":\"y\"}},\"id\":\"5ca14d5b-071a-4ea5-88f3-79215523806d\",\"type\":\"Circle\"},{\"attributes\":{\"days\":[1,15]},\"id\":\"891b6b06-8019-4b47-b5ec-a99b7b12320a\",\"type\":\"DaysTicker\"},{\"attributes\":{\"axis_label\":\"Time\",\"formatter\":{\"id\":\"e8002c5e-2101-4c42-8ea2-086bff7cd360\",\"type\":\"DatetimeTickFormatter\"},\"plot\":{\"id\":\"dbe81b65-922c-4d83-bbd1-12cc496e1d0e\",\"subtype\":\"Figure\",\"type\":\"Plot\"},\"ticker\":{\"id\":\"11213ee7-7268-4d84-ae76-6245f10a3cc3\",\"type\":\"DatetimeTicker\"}},\"id\":\"5fe7c41d-9e58-49fd-bca0-349f05646a82\",\"type\":\"DatetimeAxis\"},{\"attributes\":{\"days\":[1,15]},\"id\":\"2c8f4dce-9ee3-4324-9608-fc55165bcda1\",\"type\":\"DaysTicker\"},{\"attributes\":{\"axis_label\":\"Elevation (m)\",\"formatter\":{\"id\":\"ed43ace4-b9c2-4035-bb4e-d40bb8d6d5b4\",\"type\":\"BasicTickFormatter\"},\"plot\":{\"id\":\"e4402d0d-1629-4a3a-bc58-c1fd17e238d3\",\"subtype\":\"Figure\",\"type\":\"Plot\"},\"ticker\":{\"id\":\"a576bd97-77e5-447f-bd19-f7bc06644754\",\"type\":\"BasicTicker\"}},\"id\":\"6ba80015-299a-4ce2-b655-031841138d0c\",\"type\":\"LinearAxis\"},{\"attributes\":{\"num_minor_ticks\":5},\"id\":\"11213ee7-7268-4d84-ae76-6245f10a3cc3\",\"type\":\"DatetimeTicker\"},{\"attributes\":{\"months\":[0,6]},\"id\":\"9e019e22-f05e-4685-9808-0c79da6a4901\",\"type\":\"MonthsTicker\"},{\"attributes\":{\"line_color\":{\"value\":\"#1f77b4\"},\"x\":{\"field\":\"x\"},\"y\":{\"field\":\"y\"}},\"id\":\"8c747b63-73ef-40fc-a13c-b7a1bc34769d\",\"type\":\"Line\"},{\"attributes\":{\"months\":[0,4,8]},\"id\":\"49a3d352-3864-4d4a-94ff-9d248df9b1c3\",\"type\":\"MonthsTicker\"},{\"attributes\":{\"plot\":{\"id\":\"dbe81b65-922c-4d83-bbd1-12cc496e1d0e\",\"subtype\":\"Figure\",\"type\":\"Plot\"}},\"id\":\"c63a5c84-19af-4221-8e7a-ac034b8b6f9e\",\"type\":\"ResizeTool\"},{\"attributes\":{\"plot\":{\"id\":\"e4402d0d-1629-4a3a-bc58-c1fd17e238d3\",\"subtype\":\"Figure\",\"type\":\"Plot\"}},\"id\":\"9172f81b-f377-425e-a309-a4ff828827ca\",\"type\":\"PanTool\"},{\"attributes\":{},\"id\":\"347bd9ef-5cc7-4355-8d25-175f56173844\",\"type\":\"YearsTicker\"},{\"attributes\":{\"axis_label\":\"Distance (m)\",\"formatter\":{\"id\":\"ffe09a9a-15f1-4f1a-97cf-34a8e9aab835\",\"type\":\"BasicTickFormatter\"},\"plot\":{\"id\":\"dbe81b65-922c-4d83-bbd1-12cc496e1d0e\",\"subtype\":\"Figure\",\"type\":\"Plot\"},\"ticker\":{\"id\":\"72a91517-ee01-4d6c-9c19-8bd569521a97\",\"type\":\"BasicTicker\"}},\"id\":\"fda4cfda-b76c-48b9-93db-b2a8d8eee43f\",\"type\":\"LinearAxis\"},{\"attributes\":{\"base\":24,\"mantissas\":[1,2,4,6,8,12],\"max_interval\":43200000.0,\"min_interval\":3600000.0,\"num_minor_ticks\":0},\"id\":\"8196b23e-994a-4fd3-a05c-9a87d5ca5553\",\"type\":\"AdaptiveTicker\"},{\"attributes\":{\"axis_label\":\"Time\",\"formatter\":{\"id\":\"fb236f2d-ac65-491c-ab7d-1acce9ec92f4\",\"type\":\"DatetimeTickFormatter\"},\"plot\":{\"id\":\"5ab2017d-84ea-4569-9d58-eaff71a7e928\",\"subtype\":\"Figure\",\"type\":\"Plot\"},\"ticker\":{\"id\":\"f284acab-c5e8-4d11-9cf5-275851b964b7\",\"type\":\"DatetimeTicker\"}},\"id\":\"b095cefb-58ca-4c00-8f7e-87b3b0f356e6\",\"type\":\"DatetimeAxis\"},{\"attributes\":{\"plot\":{\"id\":\"dbe81b65-922c-4d83-bbd1-12cc496e1d0e\",\"subtype\":\"Figure\",\"type\":\"Plot\"}},\"id\":\"2016d9bf-f5ac-4f62-962f-2f80f65e2c35\",\"type\":\"WheelZoomTool\"},{\"attributes\":{\"overlay\":{\"id\":\"94eb7722-cb22-407d-b5de-c68ad3652827\",\"type\":\"BoxAnnotation\"},\"plot\":{\"id\":\"5ab2017d-84ea-4569-9d58-eaff71a7e928\",\"subtype\":\"Figure\",\"type\":\"Plot\"}},\"id\":\"49f78460-1117-4160-a3bc-48cb9d5f63ea\",\"type\":\"BoxZoomTool\"},{\"attributes\":{\"days\":[1,2,3,4,5,6,7,8,9,10,11,12,13,14,15,16,17,18,19,20,21,22,23,24,25,26,27,28,29,30,31]},\"id\":\"713117c1-585f-44db-915f-867ddf5e3a62\",\"type\":\"DaysTicker\"},{\"attributes\":{\"plot\":{\"id\":\"5ab2017d-84ea-4569-9d58-eaff71a7e928\",\"subtype\":\"Figure\",\"type\":\"Plot\"}},\"id\":\"f678fc67-4146-4155-9fdd-b8221a868913\",\"type\":\"PreviewSaveTool\"},{\"attributes\":{\"max_interval\":500.0,\"num_minor_ticks\":0},\"id\":\"b6240a42-ad54-4399-808e-4aaa5d7acf00\",\"type\":\"AdaptiveTicker\"},{\"attributes\":{\"plot\":{\"id\":\"5ab2017d-84ea-4569-9d58-eaff71a7e928\",\"subtype\":\"Figure\",\"type\":\"Plot\"}},\"id\":\"ce965df9-812e-402a-86db-bd15a3a52142\",\"type\":\"HelpTool\"},{\"attributes\":{},\"id\":\"d1120d47-25d7-48a3-b86f-cc36a20dc116\",\"type\":\"BasicTickFormatter\"},{\"attributes\":{\"data_source\":{\"id\":\"3939b977-3378-4df7-8c28-612da8d73ad5\",\"type\":\"ColumnDataSource\"},\"glyph\":{\"id\":\"3c51afcb-2b51-48b4-916c-48f2cda587ab\",\"type\":\"Circle\"},\"hover_glyph\":null,\"nonselection_glyph\":{\"id\":\"43f68b92-6cab-4375-9c6b-eed2f2726172\",\"type\":\"Circle\"},\"selection_glyph\":null},\"id\":\"97ccc108-7221-425d-a9cf-e79fcc9932d0\",\"type\":\"GlyphRenderer\"},{\"attributes\":{\"days\":[1,2,3,4,5,6,7,8,9,10,11,12,13,14,15,16,17,18,19,20,21,22,23,24,25,26,27,28,29,30,31]},\"id\":\"0727d121-8ea3-4cdb-9d68-37933d4f226e\",\"type\":\"DaysTicker\"},{\"attributes\":{\"months\":[0,1,2,3,4,5,6,7,8,9,10,11]},\"id\":\"ca3c91ae-acea-40ad-8e48-7bb2aa5470bf\",\"type\":\"MonthsTicker\"},{\"attributes\":{\"plot\":{\"id\":\"dbe81b65-922c-4d83-bbd1-12cc496e1d0e\",\"subtype\":\"Figure\",\"type\":\"Plot\"}},\"id\":\"bcfce315-18ef-4628-a1ad-61e31d9a1d83\",\"type\":\"ResetTool\"}],\"root_ids\":[\"e4402d0d-1629-4a3a-bc58-c1fd17e238d3\",\"dbe81b65-922c-4d83-bbd1-12cc496e1d0e\",\"5ab2017d-84ea-4569-9d58-eaff71a7e928\",\"d1aacc8d-c475-4510-b019-5bbd8b81f3ad\"]},\"title\":\"Bokeh Application\",\"version\":\"0.11.1\"}};\n",
       "            var render_items = [{\"docid\":\"91ba7ee9-c8b2-47b5-8c84-daf3862d6e03\",\"elementid\":\"fb90e555-8d75-41dc-8c03-0423b2d0d7a2\",\"modelid\":\"d1aacc8d-c475-4510-b019-5bbd8b81f3ad\",\"notebook_comms_target\":\"c5c0642e-284e-4390-a467-ab96ce48ef0d\"}];\n",
       "            \n",
       "            Bokeh.embed.embed_items(docs_json, render_items);\n",
       "        });\n",
       "      },\n",
       "      function(Bokeh) {\n",
       "      }\n",
       "    ];\n",
       "  \n",
       "    function run_inline_js() {\n",
       "      for (var i = 0; i < inline_js.length; i++) {\n",
       "        inline_js[i](window.Bokeh);\n",
       "      }\n",
       "    }\n",
       "  \n",
       "    if (window._bokeh_is_loading === 0) {\n",
       "      console.log(\"Bokeh: BokehJS loaded, going straight to plotting\");\n",
       "      run_inline_js();\n",
       "    } else {\n",
       "      load_libs(js_urls, function() {\n",
       "        console.log(\"Bokeh: BokehJS plotting callback run at\", now());\n",
       "        run_inline_js();\n",
       "      });\n",
       "    }\n",
       "  }(this));\n",
       "</script>"
      ]
     },
     "metadata": {},
     "output_type": "display_data"
    },
    {
     "data": {
      "text/html": [
       "<p><code>&lt;Bokeh Notebook handle for <strong>In[21]</strong>&gt;</code></p>"
      ],
      "text/plain": [
       "<bokeh.io._CommsHandle at 0x7fdaed2a1a58>"
      ]
     },
     "execution_count": 21,
     "metadata": {},
     "output_type": "execute_result"
    }
   ],
   "source": [
    "import numpy as np\n",
    "\n",
    "polyfit = np.polyfit(distances, times, 1)\n",
    "\n",
    "regression = np.poly1d(polyfit)\n",
    "\n",
    "p.line(distances, regression(distances))\n",
    "show(p)"
   ]
  },
  {
   "cell_type": "markdown",
   "metadata": {},
   "source": [
    "Numpy polyfits are interesting species. Lets play with it for a bit. For example lets see how long on would it take me to run for 10km. "
   ]
  },
  {
   "cell_type": "code",
   "execution_count": 22,
   "metadata": {
    "collapsed": false
   },
   "outputs": [
    {
     "name": "stdout",
     "output_type": "stream",
     "text": [
      "Distance: 1, avg time: 0.16h\n",
      "Distance: 6, avg time: 0.94h\n",
      "Distance: 11, avg time: 1.71h\n",
      "Distance: 16, avg time: 2.49h\n",
      "Distance: 21, avg time: 3.26h\n",
      "Distance: 26, avg time: 4.03h\n",
      "Distance: 31, avg time: 4.81h\n"
     ]
    }
   ],
   "source": [
    "for d in range(1, 36, 5):\n",
    "    print('Distance: {}, avg time: {:.2f}h'.format(d, regression(d)))"
   ]
  },
  {
   "cell_type": "markdown",
   "metadata": {},
   "source": [
    "Lets test this model on real data:"
   ]
  },
  {
   "cell_type": "code",
   "execution_count": 23,
   "metadata": {
    "collapsed": false,
    "scrolled": false
   },
   "outputs": [
    {
     "name": "stdout",
     "output_type": "stream",
     "text": [
      "Distance: 5.87 km \t time_predicted 0.92 h \t time_real: 0.78 h \t deviation: 0.14h\n",
      "Distance: 2.05 km \t time_predicted 0.33 h \t time_real: 0.31 h \t deviation: 0.02h\n",
      "Distance: 5.67 km \t time_predicted 0.89 h \t time_real: 0.87 h \t deviation: 0.01h\n",
      "Distance: 5.49 km \t time_predicted 0.86 h \t time_real: 0.93 h \t deviation: -0.07h\n",
      "Distance: 5.94 km \t time_predicted 0.93 h \t time_real: 1.07 h \t deviation: -0.14h\n",
      "Distance: 4.47 km \t time_predicted 0.70 h \t time_real: 0.65 h \t deviation: 0.05h\n",
      "Distance: 8.75 km \t time_predicted 1.36 h \t time_real: 1.30 h \t deviation: 0.06h\n",
      "Distance: 7.58 km \t time_predicted 1.18 h \t time_real: 1.08 h \t deviation: 0.10h\n",
      "Distance: 4.48 km \t time_predicted 0.70 h \t time_real: 0.67 h \t deviation: 0.03h\n",
      "Distance: 1.26 km \t time_predicted 0.20 h \t time_real: 0.16 h \t deviation: 0.05h\n",
      "Distance: 1.47 km \t time_predicted 0.24 h \t time_real: 0.22 h \t deviation: 0.02h\n",
      "Distance: 5.98 km \t time_predicted 0.93 h \t time_real: 0.79 h \t deviation: 0.14h\n",
      "Distance: 5.68 km \t time_predicted 0.89 h \t time_real: 0.68 h \t deviation: 0.21h\n",
      "Distance: 5.64 km \t time_predicted 0.88 h \t time_real: 0.85 h \t deviation: 0.04h\n",
      "Distance: 1.85 km \t time_predicted 0.29 h \t time_real: 0.40 h \t deviation: -0.11h\n",
      "Distance: 2.10 km \t time_predicted 0.33 h \t time_real: 0.26 h \t deviation: 0.08h\n",
      "Distance: 4.69 km \t time_predicted 0.73 h \t time_real: 0.64 h \t deviation: 0.10h\n",
      "Distance: 9.47 km \t time_predicted 1.47 h \t time_real: 1.24 h \t deviation: 0.24h\n",
      "Distance: 4.44 km \t time_predicted 0.70 h \t time_real: 0.85 h \t deviation: -0.16h\n",
      "Distance: 5.64 km \t time_predicted 0.88 h \t time_real: 0.95 h \t deviation: -0.07h\n",
      "Distance: 5.98 km \t time_predicted 0.93 h \t time_real: 1.08 h \t deviation: -0.15h\n",
      "Distance: 10.04 km \t time_predicted 1.56 h \t time_real: 1.40 h \t deviation: 0.17h\n",
      "Distance: 9.38 km \t time_predicted 1.46 h \t time_real: 1.27 h \t deviation: 0.19h\n",
      "Distance: 4.93 km \t time_predicted 0.77 h \t time_real: 0.79 h \t deviation: -0.02h\n",
      "Distance: 12.54 km \t time_predicted 1.95 h \t time_real: 2.01 h \t deviation: -0.05h\n",
      "Distance: 9.05 km \t time_predicted 1.41 h \t time_real: 1.30 h \t deviation: 0.11h\n",
      "Distance: 9.07 km \t time_predicted 1.41 h \t time_real: 1.27 h \t deviation: 0.15h\n",
      "Distance: 9.36 km \t time_predicted 1.46 h \t time_real: 1.38 h \t deviation: 0.08h\n",
      "Distance: 6.73 km \t time_predicted 1.05 h \t time_real: 1.12 h \t deviation: -0.07h\n",
      "Distance: 5.69 km \t time_predicted 0.89 h \t time_real: 1.36 h \t deviation: -0.47h\n",
      "Distance: 3.79 km \t time_predicted 0.59 h \t time_real: 0.61 h \t deviation: -0.02h\n",
      "Distance: 8.94 km \t time_predicted 1.39 h \t time_real: 1.71 h \t deviation: -0.32h\n",
      "Distance: 10.10 km \t time_predicted 1.57 h \t time_real: 1.95 h \t deviation: -0.38h\n",
      "Distance: 12.19 km \t time_predicted 1.90 h \t time_real: 1.76 h \t deviation: 0.14h\n",
      "Distance: 8.19 km \t time_predicted 1.28 h \t time_real: 1.49 h \t deviation: -0.22h\n",
      "Distance: 5.72 km \t time_predicted 0.89 h \t time_real: 1.02 h \t deviation: -0.13h\n",
      "Distance: 7.65 km \t time_predicted 1.19 h \t time_real: 1.23 h \t deviation: -0.03h\n",
      "Distance: 2.73 km \t time_predicted 0.43 h \t time_real: 0.38 h \t deviation: 0.05h\n",
      "Distance: 4.07 km \t time_predicted 0.64 h \t time_real: 0.48 h \t deviation: 0.16h\n",
      "Distance: 4.58 km \t time_predicted 0.72 h \t time_real: 0.62 h \t deviation: 0.10h\n",
      "Distance: 7.77 km \t time_predicted 1.21 h \t time_real: 1.16 h \t deviation: 0.05h\n",
      "Distance: 13.06 km \t time_predicted 2.03 h \t time_real: 2.09 h \t deviation: -0.06h\n"
     ]
    }
   ],
   "source": [
    "for r in all_runs:\n",
    "    distance_km = r.distance_total / 1000\n",
    "    time_hours = r.time_total_s / 3600\n",
    "    predicted = regression(distance_km)\n",
    "    deviation = predicted - time_hours\n",
    "    print('Distance: {:.2f} km \\t time_predicted {:.2f} h \\t time_real: {:.2f} h \\t deviation: {:.2f}h'.format(\n",
    "        distance_km, predicted, time_hours, deviation\n",
    "    ))"
   ]
  },
  {
   "cell_type": "code",
   "execution_count": 24,
   "metadata": {
    "collapsed": false
   },
   "outputs": [
    {
     "data": {
      "text/plain": [
       "270.0681851871415"
      ]
     },
     "execution_count": 24,
     "metadata": {},
     "output_type": "execute_result"
    }
   ],
   "source": [
    "sum(distances)"
   ]
  },
  {
   "cell_type": "code",
   "execution_count": 25,
   "metadata": {
    "collapsed": false
   },
   "outputs": [
    {
     "data": {
      "text/plain": [
       "42.16444444444444"
      ]
     },
     "execution_count": 25,
     "metadata": {},
     "output_type": "execute_result"
    }
   ],
   "source": [
    "sum(times)"
   ]
  },
  {
   "cell_type": "code",
   "execution_count": 26,
   "metadata": {
    "collapsed": false
   },
   "outputs": [
    {
     "data": {
      "text/plain": [
       "6.405116650901955"
      ]
     },
     "execution_count": 26,
     "metadata": {},
     "output_type": "execute_result"
    }
   ],
   "source": [
    "sum(distances) / sum(times)"
   ]
  },
  {
   "cell_type": "markdown",
   "metadata": {},
   "source": [
    "Yeah, on average I am not very fast. The problem with these data is that I often take breaks without stopping the timer, I could probably filter out these on basis of 100m sequences, but I don't really see the point - the pauses are part of the run. Now I will try to to look at the weather data at each of these runs."
   ]
  },
  {
   "cell_type": "code",
   "execution_count": 27,
   "metadata": {
    "collapsed": true
   },
   "outputs": [],
   "source": [
    "import pyowm\n",
    "import time\n",
    "from secrets import owm_key\n",
    "\n",
    "owm = pyowm.OWM(owm_key)"
   ]
  },
  {
   "cell_type": "code",
   "execution_count": 69,
   "metadata": {
    "collapsed": false
   },
   "outputs": [
    {
     "ename": "NameError",
     "evalue": "name 'time' is not defined",
     "output_type": "error",
     "traceback": [
      "\u001b[1;31m---------------------------------------------------------------------------\u001b[0m",
      "\u001b[1;31mHTTPError\u001b[0m                                 Traceback (most recent call last)",
      "\u001b[1;32m/home/visgean/.local/lib/python3.5/site-packages/pyowm/commons/owmhttpclient.py\u001b[0m in \u001b[0;36mcall_API\u001b[1;34m(self, API_endpoint_URL, params_dict, timeout)\u001b[0m\n\u001b[0;32m     71\u001b[0m                     \u001b[1;32mfrom\u001b[0m \u001b[0murllib2\u001b[0m \u001b[1;32mimport\u001b[0m \u001b[0murlopen\u001b[0m\u001b[1;33m\u001b[0m\u001b[0m\n\u001b[1;32m---> 72\u001b[1;33m                 \u001b[0mresponse\u001b[0m \u001b[1;33m=\u001b[0m \u001b[0murlopen\u001b[0m\u001b[1;33m(\u001b[0m\u001b[0murl\u001b[0m\u001b[1;33m,\u001b[0m \u001b[1;32mNone\u001b[0m\u001b[1;33m,\u001b[0m \u001b[0mtimeout\u001b[0m\u001b[1;33m)\u001b[0m\u001b[1;33m\u001b[0m\u001b[0m\n\u001b[0m\u001b[0;32m     73\u001b[0m             \u001b[1;32mexcept\u001b[0m \u001b[0mHTTPError\u001b[0m \u001b[1;32mas\u001b[0m \u001b[0me\u001b[0m\u001b[1;33m:\u001b[0m\u001b[1;33m\u001b[0m\u001b[0m\n",
      "\u001b[1;32m/usr/lib/python3.5/urllib/request.py\u001b[0m in \u001b[0;36murlopen\u001b[1;34m(url, data, timeout, cafile, capath, cadefault, context)\u001b[0m\n\u001b[0;32m    161\u001b[0m         \u001b[0mopener\u001b[0m \u001b[1;33m=\u001b[0m \u001b[0m_opener\u001b[0m\u001b[1;33m\u001b[0m\u001b[0m\n\u001b[1;32m--> 162\u001b[1;33m     \u001b[1;32mreturn\u001b[0m \u001b[0mopener\u001b[0m\u001b[1;33m.\u001b[0m\u001b[0mopen\u001b[0m\u001b[1;33m(\u001b[0m\u001b[0murl\u001b[0m\u001b[1;33m,\u001b[0m \u001b[0mdata\u001b[0m\u001b[1;33m,\u001b[0m \u001b[0mtimeout\u001b[0m\u001b[1;33m)\u001b[0m\u001b[1;33m\u001b[0m\u001b[0m\n\u001b[0m\u001b[0;32m    163\u001b[0m \u001b[1;33m\u001b[0m\u001b[0m\n",
      "\u001b[1;32m/usr/lib/python3.5/urllib/request.py\u001b[0m in \u001b[0;36mopen\u001b[1;34m(self, fullurl, data, timeout)\u001b[0m\n\u001b[0;32m    470\u001b[0m             \u001b[0mmeth\u001b[0m \u001b[1;33m=\u001b[0m \u001b[0mgetattr\u001b[0m\u001b[1;33m(\u001b[0m\u001b[0mprocessor\u001b[0m\u001b[1;33m,\u001b[0m \u001b[0mmeth_name\u001b[0m\u001b[1;33m)\u001b[0m\u001b[1;33m\u001b[0m\u001b[0m\n\u001b[1;32m--> 471\u001b[1;33m             \u001b[0mresponse\u001b[0m \u001b[1;33m=\u001b[0m \u001b[0mmeth\u001b[0m\u001b[1;33m(\u001b[0m\u001b[0mreq\u001b[0m\u001b[1;33m,\u001b[0m \u001b[0mresponse\u001b[0m\u001b[1;33m)\u001b[0m\u001b[1;33m\u001b[0m\u001b[0m\n\u001b[0m\u001b[0;32m    472\u001b[0m \u001b[1;33m\u001b[0m\u001b[0m\n",
      "\u001b[1;32m/usr/lib/python3.5/urllib/request.py\u001b[0m in \u001b[0;36mhttp_response\u001b[1;34m(self, request, response)\u001b[0m\n\u001b[0;32m    580\u001b[0m             response = self.parent.error(\n\u001b[1;32m--> 581\u001b[1;33m                 'http', request, response, code, msg, hdrs)\n\u001b[0m\u001b[0;32m    582\u001b[0m \u001b[1;33m\u001b[0m\u001b[0m\n",
      "\u001b[1;32m/usr/lib/python3.5/urllib/request.py\u001b[0m in \u001b[0;36merror\u001b[1;34m(self, proto, *args)\u001b[0m\n\u001b[0;32m    508\u001b[0m             \u001b[0margs\u001b[0m \u001b[1;33m=\u001b[0m \u001b[1;33m(\u001b[0m\u001b[0mdict\u001b[0m\u001b[1;33m,\u001b[0m \u001b[1;34m'default'\u001b[0m\u001b[1;33m,\u001b[0m \u001b[1;34m'http_error_default'\u001b[0m\u001b[1;33m)\u001b[0m \u001b[1;33m+\u001b[0m \u001b[0morig_args\u001b[0m\u001b[1;33m\u001b[0m\u001b[0m\n\u001b[1;32m--> 509\u001b[1;33m             \u001b[1;32mreturn\u001b[0m \u001b[0mself\u001b[0m\u001b[1;33m.\u001b[0m\u001b[0m_call_chain\u001b[0m\u001b[1;33m(\u001b[0m\u001b[1;33m*\u001b[0m\u001b[0margs\u001b[0m\u001b[1;33m)\u001b[0m\u001b[1;33m\u001b[0m\u001b[0m\n\u001b[0m\u001b[0;32m    510\u001b[0m \u001b[1;33m\u001b[0m\u001b[0m\n",
      "\u001b[1;32m/usr/lib/python3.5/urllib/request.py\u001b[0m in \u001b[0;36m_call_chain\u001b[1;34m(self, chain, kind, meth_name, *args)\u001b[0m\n\u001b[0;32m    442\u001b[0m             \u001b[0mfunc\u001b[0m \u001b[1;33m=\u001b[0m \u001b[0mgetattr\u001b[0m\u001b[1;33m(\u001b[0m\u001b[0mhandler\u001b[0m\u001b[1;33m,\u001b[0m \u001b[0mmeth_name\u001b[0m\u001b[1;33m)\u001b[0m\u001b[1;33m\u001b[0m\u001b[0m\n\u001b[1;32m--> 443\u001b[1;33m             \u001b[0mresult\u001b[0m \u001b[1;33m=\u001b[0m \u001b[0mfunc\u001b[0m\u001b[1;33m(\u001b[0m\u001b[1;33m*\u001b[0m\u001b[0margs\u001b[0m\u001b[1;33m)\u001b[0m\u001b[1;33m\u001b[0m\u001b[0m\n\u001b[0m\u001b[0;32m    444\u001b[0m             \u001b[1;32mif\u001b[0m \u001b[0mresult\u001b[0m \u001b[1;32mis\u001b[0m \u001b[1;32mnot\u001b[0m \u001b[1;32mNone\u001b[0m\u001b[1;33m:\u001b[0m\u001b[1;33m\u001b[0m\u001b[0m\n",
      "\u001b[1;32m/usr/lib/python3.5/urllib/request.py\u001b[0m in \u001b[0;36mhttp_error_default\u001b[1;34m(self, req, fp, code, msg, hdrs)\u001b[0m\n\u001b[0;32m    588\u001b[0m     \u001b[1;32mdef\u001b[0m \u001b[0mhttp_error_default\u001b[0m\u001b[1;33m(\u001b[0m\u001b[0mself\u001b[0m\u001b[1;33m,\u001b[0m \u001b[0mreq\u001b[0m\u001b[1;33m,\u001b[0m \u001b[0mfp\u001b[0m\u001b[1;33m,\u001b[0m \u001b[0mcode\u001b[0m\u001b[1;33m,\u001b[0m \u001b[0mmsg\u001b[0m\u001b[1;33m,\u001b[0m \u001b[0mhdrs\u001b[0m\u001b[1;33m)\u001b[0m\u001b[1;33m:\u001b[0m\u001b[1;33m\u001b[0m\u001b[0m\n\u001b[1;32m--> 589\u001b[1;33m         \u001b[1;32mraise\u001b[0m \u001b[0mHTTPError\u001b[0m\u001b[1;33m(\u001b[0m\u001b[0mreq\u001b[0m\u001b[1;33m.\u001b[0m\u001b[0mfull_url\u001b[0m\u001b[1;33m,\u001b[0m \u001b[0mcode\u001b[0m\u001b[1;33m,\u001b[0m \u001b[0mmsg\u001b[0m\u001b[1;33m,\u001b[0m \u001b[0mhdrs\u001b[0m\u001b[1;33m,\u001b[0m \u001b[0mfp\u001b[0m\u001b[1;33m)\u001b[0m\u001b[1;33m\u001b[0m\u001b[0m\n\u001b[0m\u001b[0;32m    590\u001b[0m \u001b[1;33m\u001b[0m\u001b[0m\n",
      "\u001b[1;31mHTTPError\u001b[0m: HTTP Error 401: Unauthorized",
      "\nDuring handling of the above exception, another exception occurred:\n",
      "\u001b[1;31mAPICallError\u001b[0m                              Traceback (most recent call last)",
      "\u001b[1;32m<ipython-input-69-468d6a9701b0>\u001b[0m in \u001b[0;36mweather\u001b[1;34m(self)\u001b[0m\n\u001b[0;32m     12\u001b[0m                 \u001b[1;32mtry\u001b[0m\u001b[1;33m:\u001b[0m\u001b[1;33m\u001b[0m\u001b[0m\n\u001b[1;32m---> 13\u001b[1;33m                     \u001b[0mself\u001b[0m\u001b[1;33m.\u001b[0m\u001b[0mweather_result\u001b[0m \u001b[1;33m=\u001b[0m \u001b[0mself\u001b[0m\u001b[1;33m.\u001b[0m\u001b[0m_fetch_weather\u001b[0m\u001b[1;33m(\u001b[0m\u001b[1;33m)\u001b[0m\u001b[1;33m\u001b[0m\u001b[0m\n\u001b[0m\u001b[0;32m     14\u001b[0m                     \u001b[1;32mreturn\u001b[0m \u001b[0mself\u001b[0m\u001b[1;33m.\u001b[0m\u001b[0mweather_result\u001b[0m\u001b[1;33m[\u001b[0m\u001b[1;36m0\u001b[0m\u001b[1;33m]\u001b[0m\u001b[1;33m\u001b[0m\u001b[0m\n",
      "\u001b[1;32m<ipython-input-69-468d6a9701b0>\u001b[0m in \u001b[0;36m_fetch_weather\u001b[1;34m(self)\u001b[0m\n\u001b[0;32m      5\u001b[0m         \u001b[0mlocation\u001b[0m \u001b[1;33m=\u001b[0m \u001b[0mweather\u001b[0m\u001b[1;33m.\u001b[0m\u001b[0mget_location\u001b[0m\u001b[1;33m(\u001b[0m\u001b[1;33m)\u001b[0m\u001b[1;33m.\u001b[0m\u001b[0mget_ID\u001b[0m\u001b[1;33m(\u001b[0m\u001b[1;33m)\u001b[0m\u001b[1;33m\u001b[0m\u001b[0m\n\u001b[1;32m----> 6\u001b[1;33m         \u001b[1;32mreturn\u001b[0m \u001b[0mowm\u001b[0m\u001b[1;33m.\u001b[0m\u001b[0mweather_history_at_id\u001b[0m\u001b[1;33m(\u001b[0m\u001b[0mlocation\u001b[0m\u001b[1;33m,\u001b[0m \u001b[0mself\u001b[0m\u001b[1;33m.\u001b[0m\u001b[0mstart\u001b[0m\u001b[1;33m,\u001b[0m \u001b[0mself\u001b[0m\u001b[1;33m.\u001b[0m\u001b[0mend\u001b[0m\u001b[1;33m)\u001b[0m\u001b[1;33m\u001b[0m\u001b[0m\n\u001b[0m\u001b[0;32m      7\u001b[0m \u001b[1;33m\u001b[0m\u001b[0m\n",
      "\u001b[1;32m/home/visgean/.local/lib/python3.5/site-packages/pyowm/webapi25/owm25.py\u001b[0m in \u001b[0;36mweather_history_at_id\u001b[1;34m(self, id, start, end)\u001b[0m\n\u001b[0;32m    684\u001b[0m         json_data = self._httpclient.call_API(CITY_WEATHER_HISTORY_URL,\n\u001b[1;32m--> 685\u001b[1;33m                                               params)\n\u001b[0m\u001b[0;32m    686\u001b[0m         \u001b[1;32mreturn\u001b[0m \u001b[0mself\u001b[0m\u001b[1;33m.\u001b[0m\u001b[0m_parsers\u001b[0m\u001b[1;33m[\u001b[0m\u001b[1;34m'weather_history'\u001b[0m\u001b[1;33m]\u001b[0m\u001b[1;33m.\u001b[0m\u001b[0mparse_JSON\u001b[0m\u001b[1;33m(\u001b[0m\u001b[0mjson_data\u001b[0m\u001b[1;33m)\u001b[0m\u001b[1;33m\u001b[0m\u001b[0m\n",
      "\u001b[1;32m/home/visgean/.local/lib/python3.5/site-packages/pyowm/commons/owmhttpclient.py\u001b[0m in \u001b[0;36mcall_API\u001b[1;34m(self, API_endpoint_URL, params_dict, timeout)\u001b[0m\n\u001b[0;32m     73\u001b[0m             \u001b[1;32mexcept\u001b[0m \u001b[0mHTTPError\u001b[0m \u001b[1;32mas\u001b[0m \u001b[0me\u001b[0m\u001b[1;33m:\u001b[0m\u001b[1;33m\u001b[0m\u001b[0m\n\u001b[1;32m---> 74\u001b[1;33m                 \u001b[1;32mraise\u001b[0m \u001b[0mapi_call_error\u001b[0m\u001b[1;33m.\u001b[0m\u001b[0mAPICallError\u001b[0m\u001b[1;33m(\u001b[0m\u001b[0mstr\u001b[0m\u001b[1;33m(\u001b[0m\u001b[0me\u001b[0m\u001b[1;33m)\u001b[0m\u001b[1;33m,\u001b[0m \u001b[0me\u001b[0m\u001b[1;33m)\u001b[0m\u001b[1;33m\u001b[0m\u001b[0m\n\u001b[0m\u001b[0;32m     75\u001b[0m             \u001b[1;32mexcept\u001b[0m \u001b[0mURLError\u001b[0m \u001b[1;32mas\u001b[0m \u001b[0me\u001b[0m\u001b[1;33m:\u001b[0m\u001b[1;33m\u001b[0m\u001b[0m\n",
      "\u001b[1;31m<class 'str'>\u001b[0m: (<class 'AttributeError'>, AttributeError(\"'str' object has no attribute 'decode'\",))",
      "\nDuring handling of the above exception, another exception occurred:\n",
      "\u001b[1;31mNameError\u001b[0m                                 Traceback (most recent call last)",
      "\u001b[1;32m<ipython-input-69-468d6a9701b0>\u001b[0m in \u001b[0;36m<module>\u001b[1;34m()\u001b[0m\n\u001b[0;32m     19\u001b[0m \u001b[1;33m\u001b[0m\u001b[0m\n\u001b[0;32m     20\u001b[0m \u001b[1;33m\u001b[0m\u001b[0m\n\u001b[1;32m---> 21\u001b[1;33m \u001b[0mw\u001b[0m \u001b[1;33m=\u001b[0m \u001b[0mRunWeather\u001b[0m\u001b[1;33m(\u001b[0m\u001b[1;34m'data/2016-06-25-2054.gpx'\u001b[0m\u001b[1;33m)\u001b[0m\u001b[1;33m.\u001b[0m\u001b[0mweather\u001b[0m\u001b[1;33m\u001b[0m\u001b[0m\n\u001b[0m",
      "\u001b[1;32m<ipython-input-69-468d6a9701b0>\u001b[0m in \u001b[0;36mweather\u001b[1;34m(self)\u001b[0m\n\u001b[0;32m     14\u001b[0m                     \u001b[1;32mreturn\u001b[0m \u001b[0mself\u001b[0m\u001b[1;33m.\u001b[0m\u001b[0mweather_result\u001b[0m\u001b[1;33m[\u001b[0m\u001b[1;36m0\u001b[0m\u001b[1;33m]\u001b[0m\u001b[1;33m\u001b[0m\u001b[0m\n\u001b[0;32m     15\u001b[0m                 \u001b[1;32mexcept\u001b[0m\u001b[1;33m:\u001b[0m\u001b[1;33m\u001b[0m\u001b[0m\n\u001b[1;32m---> 16\u001b[1;33m                     \u001b[0mtime\u001b[0m\u001b[1;33m.\u001b[0m\u001b[0msleep\u001b[0m\u001b[1;33m(\u001b[0m\u001b[1;36m1\u001b[0m\u001b[1;33m)\u001b[0m\u001b[1;33m\u001b[0m\u001b[0m\n\u001b[0m\u001b[0;32m     17\u001b[0m                     \u001b[1;32mcontinue\u001b[0m\u001b[1;33m\u001b[0m\u001b[0m\n\u001b[0;32m     18\u001b[0m         \u001b[1;32mraise\u001b[0m \u001b[0mException\u001b[0m\u001b[1;33m(\u001b[0m\u001b[1;34m'Weather API could not be reached or API trothling treshold were reached. '\u001b[0m\u001b[1;33m)\u001b[0m\u001b[1;33m\u001b[0m\u001b[0m\n",
      "\u001b[1;31mNameError\u001b[0m: name 'time' is not defined"
     ]
    }
   ],
   "source": [
    "class RunWeather(Run):\n",
    "    weather_result = None\n",
    "    def _fetch_weather(self):\n",
    "        weather = owm.weather_at_coords(float(self.records[0]['lat']), float(self.records[0]['lng']))\n",
    "        location = weather.get_location().get_ID()\n",
    "        return owm.weather_history_at_id(location, self.start, self.end)            \n",
    "    \n",
    "    @property\n",
    "    def weather(self):\n",
    "        if not self.weather_result:\n",
    "            for t in range(5):\n",
    "                try:\n",
    "                    self.weather_result = self._fetch_weather()\n",
    "                    return self.weather_result[0]\n",
    "                except:\n",
    "                    time.sleep(1)\n",
    "                    continue\n",
    "        raise Exception('Weather API could not be reached or API trothling treshold were reached. ')\n",
    "        \n",
    "        \n",
    "w = RunWeather('data/2016-06-25-2054.gpx').weather"
   ]
  },
  {
   "cell_type": "code",
   "execution_count": 68,
   "metadata": {
    "collapsed": false
   },
   "outputs": [],
   "source": []
  }
 ],
 "metadata": {
  "kernelspec": {
   "display_name": "Python 3",
   "language": "python",
   "name": "python3"
  },
  "language_info": {
   "codemirror_mode": {
    "name": "ipython",
    "version": 3
   },
   "file_extension": ".py",
   "mimetype": "text/x-python",
   "name": "python",
   "nbconvert_exporter": "python",
   "pygments_lexer": "ipython3",
   "version": "3.5.1+"
  }
 },
 "nbformat": 4,
 "nbformat_minor": 0
}
