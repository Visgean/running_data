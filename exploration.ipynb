{
 "cells": [
  {
   "cell_type": "markdown",
   "metadata": {},
   "source": [
    "In this notebook I explore my running data exported from Runkeeper app. The data is itself very primitive - just a XML full of GPS checkpoints. This means I will have to try to calculate distances myself.  \n",
    "\n",
    "The ``data`` folder contains all the files exported from runkeeper. I did not include my own files for privacy reasons. "
   ]
  },
  {
   "cell_type": "code",
   "execution_count": 5,
   "metadata": {
    "collapsed": false
   },
   "outputs": [
    {
     "name": "stdout",
     "output_type": "stream",
     "text": [
      "2014-09-07-1616.gpx  2015-02-19-1957.gpx  2015-08-28-2159.gpx\r\n",
      "2014-09-09-0906.gpx  2015-03-06-2142.gpx  2015-09-25-1113.gpx\r\n",
      "2014-09-12-2043.gpx  2015-03-09-1753.gpx  2015-10-05-2208.gpx\r\n",
      "2014-09-20-1017.gpx  2015-03-12-2113.gpx  2015-10-28-1207.gpx\r\n",
      "2014-09-24-0900.gpx  2015-03-17-1658.gpx  2016-03-04-1838.gpx\r\n",
      "2014-09-28-2045.gpx  2015-04-04-1355.gpx  2016-04-05-2253.gpx\r\n",
      "2014-10-04-1951.gpx  2015-04-05-1327.gpx  2016-05-01-2045.gpx\r\n",
      "2014-10-30-2039.gpx  2015-05-04-2003.gpx  2016-05-21-1723.gpx\r\n",
      "2014-11-09-1830.gpx  2015-05-10-2130.gpx  2016-05-30-2106.gpx\r\n",
      "2014-12-08-1733.gpx  2015-06-12-1957.gpx  2016-06-04-1909.gpx\r\n",
      "2015-01-08-1930.gpx  2015-07-07-2242.gpx  2016-06-07-2137.gpx\r\n",
      "2015-01-11-1406.gpx  2015-07-11-2132.gpx  2016-06-10-2134.gpx\r\n",
      "2015-01-20-1855.gpx  2015-07-28-2009.gpx  2016-06-19-1714.gpx\r\n",
      "2015-01-23-1949.gpx  2015-08-01-2128.gpx  2016-06-25-2054.gpx\r\n",
      "2015-01-28-1855.gpx  2015-08-08-1956.gpx\r\n"
     ]
    }
   ],
   "source": [
    "ls data/"
   ]
  },
  {
   "cell_type": "markdown",
   "metadata": {},
   "source": [
    "No idea why Runkeeper calls these files .gpx, it might be some kind of standard. But meh. Lets see what is inside one of these:\n",
    "\n",
    "\n",
    "```xml\n",
    "<?xml version=\"1.0\" encoding=\"UTF-8\"?>\n",
    "<gpx\n",
    "  version=\"1.1\"\n",
    "  creator=\"Runkeeper - http://www.runkeeper.com\"\n",
    "  xmlns:xsi=\"http://www.w3.org/2001/XMLSchema-instance\"\n",
    "  xmlns=\"http://www.topografix.com/GPX/1/1\"\n",
    "  xsi:schemaLocation=\"http://www.topografix.com/GPX/1/1 http://www.topografix.com/GPX/1/1/gpx.xsd\"\n",
    "  xmlns:gpxtpx=\"http://www.garmin.com/xmlschemas/TrackPointExtension/v1\">\n",
    "<trk>\n",
    "  <name><![CDATA[Running 6/25/16 8:54 pm]]></name>\n",
    "  <time>2016-06-25T18:54:53Z</time>\n",
    "<trkseg>\n",
    "    <trkpt lat=\"50.599000\" lon=\"14.205000\">\n",
    "       <ele>327.0</ele>\n",
    "       <time>2016-06-25T18:54:53Z</time>\n",
    "    </trkpt>\n",
    "    <trkpt lat=\"50.599000\" lon=\"14.205000\">\n",
    "       <ele>326.7</ele>\n",
    "       <time>2016-06-25T18:54:55Z</time>\n",
    "    </trkpt>\n",
    "</trkseg>\n",
    "</trk>\n",
    "</gpx>\n",
    "```\n",
    "\n",
    "Note I redacted ``trkseg`` section because it had so many datapoints. Anyway as you can see the whole file contains datapoint for every 3 seconds.\n"
   ]
  },
  {
   "cell_type": "markdown",
   "metadata": {},
   "source": [
    "Parsing\n",
    "=======\n",
    "\n",
    "I am going to use python ``xml.etree`` library because I don't want to add additional dependencies. I will also get a bit low-level at the beggining and after I will refactor this parsing mess.\n",
    "\n"
   ]
  },
  {
   "cell_type": "code",
   "execution_count": 9,
   "metadata": {
    "collapsed": false
   },
   "outputs": [],
   "source": [
    "import xml.etree.ElementTree as ET\n",
    "tree = ET.parse('data/2016-06-25-2054.gpx')\n",
    "root = tree.getroot()"
   ]
  },
  {
   "cell_type": "code",
   "execution_count": 16,
   "metadata": {
    "collapsed": false
   },
   "outputs": [
    {
     "data": {
      "text/plain": [
       "[('{http://www.w3.org/2001/XMLSchema-instance}schemaLocation',\n",
       "  'http://www.topografix.com/GPX/1/1 http://www.topografix.com/GPX/1/1/gpx.xsd'),\n",
       " ('creator', 'Runkeeper - http://www.runkeeper.com'),\n",
       " ('version', '1.1')]"
      ]
     },
     "execution_count": 16,
     "metadata": {},
     "output_type": "execute_result"
    }
   ],
   "source": [
    "root.items()"
   ]
  }
 ],
 "metadata": {
  "kernelspec": {
   "display_name": "Python 3",
   "language": "python",
   "name": "python3"
  },
  "language_info": {
   "codemirror_mode": {
    "name": "ipython",
    "version": 3
   },
   "file_extension": ".py",
   "mimetype": "text/x-python",
   "name": "python",
   "nbconvert_exporter": "python",
   "pygments_lexer": "ipython3",
   "version": "3.5.1+"
  }
 },
 "nbformat": 4,
 "nbformat_minor": 0
}
