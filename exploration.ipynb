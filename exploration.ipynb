{
 "cells": [
  {
   "cell_type": "markdown",
   "metadata": {},
   "source": [
    "Running data exploration\n",
    "========================\n",
    "\n",
    "In this notebook I explore my running data exported from Runkeeper app. The data is itself very primitive - just a XML full of GPS checkpoints. This means I will have to try to calculate distances myself.  \n",
    "\n",
    "Prerequisites:\n",
    " - python3\n",
    " - ``data`` folder contains all the files exported from runkeeper.\n",
    " - python packages: ``pip3 install python-dateutil geopy bokeh --user``"
   ]
  },
  {
   "cell_type": "code",
   "execution_count": 1,
   "metadata": {
    "collapsed": false
   },
   "outputs": [
    {
     "name": "stdout",
     "output_type": "stream",
     "text": [
      "2014-09-07-1616.gpx  2015-03-06-2142.gpx  2015-10-05-2208.gpx\r\n",
      "2014-09-09-0906.gpx  2015-03-09-1753.gpx  2015-10-28-1207.gpx\r\n",
      "2014-09-12-2043.gpx  2015-03-12-2113.gpx  2016-03-04-1838.gpx\r\n",
      "2014-09-20-1017.gpx  2015-03-17-1658.gpx  2016-04-05-2253.gpx\r\n",
      "2014-09-24-0900.gpx  2015-04-04-1355.gpx  2016-05-01-2045.gpx\r\n",
      "2014-09-28-2045.gpx  2015-04-05-1327.gpx  2016-05-21-1723.gpx\r\n",
      "2014-10-04-1951.gpx  2015-05-04-2003.gpx  2016-05-30-2106.gpx\r\n",
      "2014-10-30-2039.gpx  2015-05-10-2130.gpx  2016-06-04-1909.gpx\r\n",
      "2014-11-09-1830.gpx  2015-06-12-1957.gpx  2016-06-07-2137.gpx\r\n",
      "2014-12-08-1733.gpx  2015-07-07-2242.gpx  2016-06-10-2134.gpx\r\n",
      "2015-01-08-1930.gpx  2015-07-11-2132.gpx  2016-06-19-1714.gpx\r\n",
      "2015-01-11-1406.gpx  2015-07-28-2009.gpx  2016-06-25-2054.gpx\r\n",
      "2015-01-20-1855.gpx  2015-08-01-2128.gpx  cardioActivities.csv\r\n",
      "2015-01-23-1949.gpx  2015-08-08-1956.gpx  measurements.csv\r\n",
      "2015-01-28-1855.gpx  2015-08-28-2159.gpx\r\n",
      "2015-02-19-1957.gpx  2015-09-25-1113.gpx\r\n"
     ]
    }
   ],
   "source": [
    "ls data/"
   ]
  },
  {
   "cell_type": "markdown",
   "metadata": {},
   "source": [
    "No idea why Runkeeper calls these files .gpx, it might be some kind of standard. But meh. Lets see what is inside one of these:\n",
    "\n",
    "\n",
    "```xml\n",
    "<?xml version=\"1.0\" encoding=\"UTF-8\"?>\n",
    "<gpx\n",
    "    version=\"1.1\"\n",
    "    creator=\"Runkeeper - http://www.runkeeper.com\"\n",
    "    xmlns:xsi=\"http://www.w3.org/2001/XMLSchema-instance\"\n",
    "    xmlns=\"http://www.topografix.com/GPX/1/1\"\n",
    "    xsi:schemaLocation=\"http://www.topografix.com/GPX/1/1 http://www.topografix.com/GPX/1/1/gpx.xsd\"\n",
    "    xmlns:gpxtpx=\"http://www.garmin.com/xmlschemas/TrackPointExtension/v1\">\n",
    "    <trk>\n",
    "        <name><![CDATA[Running 6/25/16 8:54 pm]]></name>\n",
    "        <time>2016-06-25T18:54:53Z</time>\n",
    "        <trkseg>\n",
    "            <trkpt lat=\"50.599000\" lon=\"14.205000\">\n",
    "               <ele>327.0</ele>\n",
    "               <time>2016-06-25T18:54:53Z</time>\n",
    "            </trkpt>\n",
    "            <trkpt lat=\"50.599000\" lon=\"14.205000\">\n",
    "               <ele>326.7</ele>\n",
    "               <time>2016-06-25T18:54:55Z</time>\n",
    "            </trkpt>\n",
    "        </trkseg>\n",
    "    </trk>\n",
    "</gpx>\n",
    "```\n",
    "\n",
    "Note I redacted ``trkseg`` section because it had so many datapoints. Anyway as you can see the whole file contains datapoint for every 3 seconds.\n"
   ]
  },
  {
   "cell_type": "markdown",
   "metadata": {},
   "source": [
    "Parsing\n",
    "=======\n",
    "\n",
    "I am going to use python ``xml.etree`` library because I don't want to add additional dependencies. I will also get a bit low-level at the beggining and after I will refactor this parsing mess.\n",
    "\n",
    "Note that most of the ugliness of this code comes from using xml namespaces, unfortunetely there is no option to turn them off in the default xml.etree library, lxml project would probably be better at least for this purpose.\n",
    "\n"
   ]
  },
  {
   "cell_type": "code",
   "execution_count": 2,
   "metadata": {
    "collapsed": false
   },
   "outputs": [],
   "source": [
    "import xml.etree.ElementTree as ET\n",
    "tree = ET.parse('data/2016-06-25-2054.gpx')\n",
    "trkseg = tree.find('.//{http://www.topografix.com/GPX/1/1}trkseg')"
   ]
  },
  {
   "cell_type": "code",
   "execution_count": 3,
   "metadata": {
    "collapsed": false
   },
   "outputs": [
    {
     "data": {
      "text/plain": [
       "499"
      ]
     },
     "execution_count": 3,
     "metadata": {},
     "output_type": "execute_result"
    }
   ],
   "source": [
    "records = list(trkseg)\n",
    "len(records)"
   ]
  },
  {
   "cell_type": "code",
   "execution_count": 4,
   "metadata": {
    "collapsed": false
   },
   "outputs": [
    {
     "data": {
      "text/plain": [
       "dict_keys(['lon', 'lat'])"
      ]
     },
     "execution_count": 4,
     "metadata": {},
     "output_type": "execute_result"
    }
   ],
   "source": [
    "first = records[0]\n",
    "first.attrib.keys()"
   ]
  },
  {
   "cell_type": "code",
   "execution_count": 5,
   "metadata": {
    "collapsed": false
   },
   "outputs": [
    {
     "data": {
      "text/plain": [
       "[<Element '{http://www.topografix.com/GPX/1/1}ele' at 0x7fd1dc0534a8>,\n",
       " <Element '{http://www.topografix.com/GPX/1/1}time' at 0x7fd1dc0534f8>]"
      ]
     },
     "execution_count": 5,
     "metadata": {},
     "output_type": "execute_result"
    }
   ],
   "source": [
    "list(first)"
   ]
  },
  {
   "cell_type": "code",
   "execution_count": 6,
   "metadata": {
    "collapsed": false
   },
   "outputs": [
    {
     "data": {
      "text/plain": [
       "'327.0'"
      ]
     },
     "execution_count": 6,
     "metadata": {},
     "output_type": "execute_result"
    }
   ],
   "source": [
    "elevation = first.find('{http://www.topografix.com/GPX/1/1}ele')\n",
    "elevation.text"
   ]
  },
  {
   "cell_type": "code",
   "execution_count": 7,
   "metadata": {
    "collapsed": false
   },
   "outputs": [
    {
     "data": {
      "text/plain": [
       "'2016-06-25T18:54:53Z'"
      ]
     },
     "execution_count": 7,
     "metadata": {},
     "output_type": "execute_result"
    }
   ],
   "source": [
    "first_time = first.find('{http://www.topografix.com/GPX/1/1}time')\n",
    "first_time.text"
   ]
  },
  {
   "cell_type": "markdown",
   "metadata": {},
   "source": [
    "# Refactoring\n",
    "\n",
    "Now that you see how to work with those files on the low level xml api lets hide this logic into simple class that can be constructed simply with a filename."
   ]
  },
  {
   "cell_type": "code",
   "execution_count": 8,
   "metadata": {
    "collapsed": false
   },
   "outputs": [],
   "source": [
    "from dateutil.parser import parse\n",
    "\n",
    "class Run:\n",
    "    def __init__(self, filename):\n",
    "        self.tree = ET.parse(filename)\n",
    "        self.records = [\n",
    "            {\n",
    "                'lat': record.attrib['lat'],\n",
    "                'lng': record.attrib['lon'],\n",
    "                'time': parse(record.find('{http://www.topografix.com/GPX/1/1}time').text),\n",
    "                'elevation': float(record.find('{http://www.topografix.com/GPX/1/1}ele').text),\n",
    "            } for record in self.tree.find('.//{http://www.topografix.com/GPX/1/1}trkseg')\n",
    "        ]"
   ]
  },
  {
   "cell_type": "markdown",
   "metadata": {},
   "source": [
    "This is much shorter than the original version. It is very simple and does not have any exception handling. Lets just assume everything goes all right. Now lets load all the runs."
   ]
  },
  {
   "cell_type": "code",
   "execution_count": 9,
   "metadata": {
    "collapsed": false
   },
   "outputs": [],
   "source": [
    "import glob, os\n",
    "\n",
    "def load_runs(data_dir='./data'):\n",
    "    glob_joined = os.path.join(data_dir, '*.gpx')\n",
    "    return [Run(f) for f in glob.glob(glob_joined)]"
   ]
  },
  {
   "cell_type": "code",
   "execution_count": 10,
   "metadata": {
    "collapsed": false
   },
   "outputs": [],
   "source": [
    "from geopy.distance import distance\n",
    "from geopy import Point"
   ]
  },
  {
   "cell_type": "markdown",
   "metadata": {},
   "source": [
    "Yeah I know, you probably wanted me to calculate the distance by my own and not just import and module and be done with it. But I am lazy and know a shit about geography. Read distance implementation here: https://github.com/geopy/geopy/blob/master/geopy/distance.py and here: https://en.wikipedia.org/wiki/Vincenty%27s_formulae\n",
    "\n",
    "Anyway lets modify the run class to suppport distance calculation."
   ]
  },
  {
   "cell_type": "code",
   "execution_count": 11,
   "metadata": {
    "collapsed": false
   },
   "outputs": [],
   "source": [
    "class Run:\n",
    "    def __init__(self, filename):\n",
    "        self.tree = ET.parse(filename)\n",
    "        self.records = [\n",
    "            {\n",
    "                'lat': record.attrib['lat'],\n",
    "                'lng': record.attrib['lon'],\n",
    "                'time': parse(record.find('{http://www.topografix.com/GPX/1/1}time').text),\n",
    "                'elevation': float(record.find('{http://www.topografix.com/GPX/1/1}ele').text),\n",
    "            } for record in self.tree.find('.//{http://www.topografix.com/GPX/1/1}trkseg')\n",
    "        ]\n",
    "        \n",
    "    def pluck_attribute(self, attribute):\n",
    "        return [r[attribute] for r in self.records]\n",
    "    \n",
    "    @property\n",
    "    def elevations(self):\n",
    "        return self.pluck_attribute('elevation')\n",
    "    \n",
    "    @property\n",
    "    def times(self):\n",
    "        return self.pluck_attribute('time')\n",
    "    \n",
    "    @property\n",
    "    def speed(self):\n",
    "        'm/s'\n",
    "        return self.distance_total / self.time_total_s\n",
    "    \n",
    "    @property\n",
    "    def speed_kmph(self):\n",
    "        'km/h'\n",
    "        return self.speed * 3.6\n",
    "    \n",
    "    @property\n",
    "    def pace(self):\n",
    "        'Pace in m/km'\n",
    "        return (self.time_total_s / 60) / (self.distance_total / 1000)\n",
    "    \n",
    "    \n",
    "    @property\n",
    "    def distance_total(self):\n",
    "        \"\"\"\n",
    "        Returns distance in metres from the total run\n",
    "        \"\"\"\n",
    "        distances = []\n",
    "        for i in range(len(self.records)-1):\n",
    "            this_point = Point(self.records[i]['lat'], self.records[i]['lng'])\n",
    "            next_point = Point(self.records[i+1]['lat'], self.records[i+1]['lng'])\n",
    "            distances.append(distance(this_point, next_point).meters)\n",
    "        \n",
    "        return sum(distances)\n",
    "    \n",
    "    @property\n",
    "    def start(self):\n",
    "        return min(self.times)\n",
    "    \n",
    "    @property\n",
    "    def end(self):\n",
    "        return max(self.times)\n",
    "    \n",
    "    @property\n",
    "    def time_total(self):\n",
    "        \"Time total\"\n",
    "        return self.end - self.start\n",
    "    \n",
    "        \n",
    "    @property\n",
    "    def time_total_s(self):\n",
    "        \"Time total in seconds\"\n",
    "        return self.time_total.seconds\n",
    "\n",
    "last_night = Run('data/2016-06-25-2054.gpx')"
   ]
  },
  {
   "cell_type": "code",
   "execution_count": 12,
   "metadata": {
    "collapsed": false
   },
   "outputs": [
    {
     "data": {
      "text/plain": [
       "5641.157399618419"
      ]
     },
     "execution_count": 12,
     "metadata": {},
     "output_type": "execute_result"
    }
   ],
   "source": [
    "last_night.distance_total"
   ]
  },
  {
   "cell_type": "markdown",
   "metadata": {},
   "source": [
    "This is the same value that Run keeper shows. Nice."
   ]
  },
  {
   "cell_type": "code",
   "execution_count": 13,
   "metadata": {
    "collapsed": false,
    "scrolled": true
   },
   "outputs": [
    {
     "data": {
      "text/plain": [
       "50.8"
      ]
     },
     "execution_count": 13,
     "metadata": {},
     "output_type": "execute_result"
    }
   ],
   "source": [
    "last_night.time_total_s / 60"
   ]
  },
  {
   "cell_type": "code",
   "execution_count": 14,
   "metadata": {
    "collapsed": false
   },
   "outputs": [
    {
     "data": {
      "text/plain": [
       "6.662784330257975"
      ]
     },
     "execution_count": 14,
     "metadata": {},
     "output_type": "execute_result"
    }
   ],
   "source": [
    "last_night.speed_kmph"
   ]
  },
  {
   "cell_type": "code",
   "execution_count": 15,
   "metadata": {
    "collapsed": false
   },
   "outputs": [
    {
     "data": {
      "text/plain": [
       "9.00524420811875"
      ]
     },
     "execution_count": 15,
     "metadata": {},
     "output_type": "execute_result"
    }
   ],
   "source": [
    "last_night.pace"
   ]
  },
  {
   "cell_type": "markdown",
   "metadata": {},
   "source": [
    "# Plot it\n",
    "![Plot cesky](http://www.saternus.sk/a/files/produkte/PLOT_DREVENY_Z_DOSIEK/PLOT_DREVENY_Z_DOSIEK_high.jpg)\n"
   ]
  },
  {
   "cell_type": "code",
   "execution_count": 16,
   "metadata": {
    "collapsed": false
   },
   "outputs": [
    {
     "data": {
      "text/html": [
       "\n",
       "    <div class=\"bk-banner\">\n",
       "        <a href=\"http://bokeh.pydata.org\" target=\"_blank\" class=\"bk-logo bk-logo-small bk-logo-notebook\"></a>\n",
       "        <span id=\"7cdd1a02-0438-45f8-9944-a415b8552d33\">Loading BokehJS ...</span>\n",
       "    </div>"
      ]
     },
     "metadata": {},
     "output_type": "display_data"
    },
    {
     "data": {
      "application/javascript": [
       "\n",
       "(function(global) {\n",
       "  function now() {\n",
       "    return new Date();\n",
       "  }\n",
       "\n",
       "  if (typeof (window._bokeh_onload_callbacks) === \"undefined\") {\n",
       "    window._bokeh_onload_callbacks = [];\n",
       "  }\n",
       "\n",
       "  function run_callbacks() {\n",
       "    window._bokeh_onload_callbacks.forEach(function(callback) { callback() });\n",
       "    delete window._bokeh_onload_callbacks\n",
       "    console.info(\"Bokeh: all callbacks have finished\");\n",
       "  }\n",
       "\n",
       "  function load_libs(js_urls, callback) {\n",
       "    window._bokeh_onload_callbacks.push(callback);\n",
       "    if (window._bokeh_is_loading > 0) {\n",
       "      console.log(\"Bokeh: BokehJS is being loaded, scheduling callback at\", now());\n",
       "      return null;\n",
       "    }\n",
       "    if (js_urls == null || js_urls.length === 0) {\n",
       "      run_callbacks();\n",
       "      return null;\n",
       "    }\n",
       "    console.log(\"Bokeh: BokehJS not loaded, scheduling load and callback at\", now());\n",
       "    window._bokeh_is_loading = js_urls.length;\n",
       "    for (var i = 0; i < js_urls.length; i++) {\n",
       "      var url = js_urls[i];\n",
       "      var s = document.createElement('script');\n",
       "      s.src = url;\n",
       "      s.async = false;\n",
       "      s.onreadystatechange = s.onload = function() {\n",
       "        window._bokeh_is_loading--;\n",
       "        if (window._bokeh_is_loading === 0) {\n",
       "          console.log(\"Bokeh: all BokehJS libraries loaded\");\n",
       "          run_callbacks()\n",
       "        }\n",
       "      };\n",
       "      s.onerror = function() {\n",
       "        console.warn(\"failed to load library \" + url);\n",
       "      };\n",
       "      console.log(\"Bokeh: injecting script tag for BokehJS library: \", url);\n",
       "      document.getElementsByTagName(\"head\")[0].appendChild(s);\n",
       "    }\n",
       "  };\n",
       "\n",
       "  var js_urls = ['https://cdn.pydata.org/bokeh/release/bokeh-0.11.1.min.js', 'https://cdn.pydata.org/bokeh/release/bokeh-widgets-0.11.1.min.js', 'https://cdn.pydata.org/bokeh/release/bokeh-compiler-0.11.1.min.js'];\n",
       "\n",
       "  var inline_js = [\n",
       "    function(Bokeh) {\n",
       "      Bokeh.set_log_level(\"info\");\n",
       "    },\n",
       "    \n",
       "    function(Bokeh) {\n",
       "      Bokeh.$(\"#7cdd1a02-0438-45f8-9944-a415b8552d33\").text(\"BokehJS successfully loaded\");\n",
       "    },\n",
       "    function(Bokeh) {\n",
       "      console.log(\"Bokeh: injecting CSS: https://cdn.pydata.org/bokeh/release/bokeh-0.11.1.min.css\");\n",
       "      Bokeh.embed.inject_css(\"https://cdn.pydata.org/bokeh/release/bokeh-0.11.1.min.css\");\n",
       "      console.log(\"Bokeh: injecting CSS: https://cdn.pydata.org/bokeh/release/bokeh-widgets-0.11.1.min.css\");\n",
       "      Bokeh.embed.inject_css(\"https://cdn.pydata.org/bokeh/release/bokeh-widgets-0.11.1.min.css\");\n",
       "    }\n",
       "  ];\n",
       "\n",
       "  function run_inline_js() {\n",
       "    for (var i = 0; i < inline_js.length; i++) {\n",
       "      inline_js[i](window.Bokeh);\n",
       "    }\n",
       "  }\n",
       "\n",
       "  if (window._bokeh_is_loading === 0) {\n",
       "    console.log(\"Bokeh: BokehJS loaded, going straight to plotting\");\n",
       "    run_inline_js();\n",
       "  } else {\n",
       "    load_libs(js_urls, function() {\n",
       "      console.log(\"Bokeh: BokehJS plotting callback run at\", now());\n",
       "      run_inline_js();\n",
       "    });\n",
       "  }\n",
       "}(this));"
      ]
     },
     "metadata": {},
     "output_type": "display_data"
    }
   ],
   "source": [
    "from bokeh.plotting import figure, show, output_notebook\n",
    "output_notebook()"
   ]
  },
  {
   "cell_type": "code",
   "execution_count": 17,
   "metadata": {
    "collapsed": false
   },
   "outputs": [
    {
     "data": {
      "text/html": [
       "\n",
       "\n",
       "    <div class=\"plotdiv\" id=\"5a738078-f502-495e-8385-03bc65d4307f\"></div>\n",
       "<script type=\"text/javascript\">\n",
       "  \n",
       "  (function(global) {\n",
       "    function now() {\n",
       "      return new Date();\n",
       "    }\n",
       "  \n",
       "    if (typeof (window._bokeh_onload_callbacks) === \"undefined\") {\n",
       "      window._bokeh_onload_callbacks = [];\n",
       "    }\n",
       "  \n",
       "    function run_callbacks() {\n",
       "      window._bokeh_onload_callbacks.forEach(function(callback) { callback() });\n",
       "      delete window._bokeh_onload_callbacks\n",
       "      console.info(\"Bokeh: all callbacks have finished\");\n",
       "    }\n",
       "  \n",
       "    function load_libs(js_urls, callback) {\n",
       "      window._bokeh_onload_callbacks.push(callback);\n",
       "      if (window._bokeh_is_loading > 0) {\n",
       "        console.log(\"Bokeh: BokehJS is being loaded, scheduling callback at\", now());\n",
       "        return null;\n",
       "      }\n",
       "      if (js_urls == null || js_urls.length === 0) {\n",
       "        run_callbacks();\n",
       "        return null;\n",
       "      }\n",
       "      console.log(\"Bokeh: BokehJS not loaded, scheduling load and callback at\", now());\n",
       "      window._bokeh_is_loading = js_urls.length;\n",
       "      for (var i = 0; i < js_urls.length; i++) {\n",
       "        var url = js_urls[i];\n",
       "        var s = document.createElement('script');\n",
       "        s.src = url;\n",
       "        s.async = false;\n",
       "        s.onreadystatechange = s.onload = function() {\n",
       "          window._bokeh_is_loading--;\n",
       "          if (window._bokeh_is_loading === 0) {\n",
       "            console.log(\"Bokeh: all BokehJS libraries loaded\");\n",
       "            run_callbacks()\n",
       "          }\n",
       "        };\n",
       "        s.onerror = function() {\n",
       "          console.warn(\"failed to load library \" + url);\n",
       "        };\n",
       "        console.log(\"Bokeh: injecting script tag for BokehJS library: \", url);\n",
       "        document.getElementsByTagName(\"head\")[0].appendChild(s);\n",
       "      }\n",
       "    };var element = document.getElementById(\"5a738078-f502-495e-8385-03bc65d4307f\");\n",
       "    if (element == null) {\n",
       "      console.log(\"Bokeh: ERROR: autoload.js configured with elementid '5a738078-f502-495e-8385-03bc65d4307f' but no matching script tag was found. \")\n",
       "      return false;\n",
       "    }\n",
       "  \n",
       "    var js_urls = [];\n",
       "  \n",
       "    var inline_js = [\n",
       "      function(Bokeh) {\n",
       "        Bokeh.$(function() {\n",
       "            var docs_json = {\"c73c196a-90df-49be-b224-4e4bc0adcfe1\":{\"roots\":{\"references\":[{\"attributes\":{\"months\":[0,2,4,6,8,10]},\"id\":\"3261bcc6-6101-443e-ba70-f7d4bad753d9\",\"type\":\"MonthsTicker\"},{\"attributes\":{\"data_source\":{\"id\":\"9b730ec4-37c1-418c-8a16-815af7d923c6\",\"type\":\"ColumnDataSource\"},\"glyph\":{\"id\":\"b55e1b8c-4d79-4d66-86a5-3b5e35dd6040\",\"type\":\"Line\"},\"hover_glyph\":null,\"nonselection_glyph\":{\"id\":\"4b997ab5-0308-4788-9b5e-7c27143859dd\",\"type\":\"Line\"},\"selection_glyph\":null},\"id\":\"055b9fa5-2d6f-40af-92df-5b5ae94e5775\",\"type\":\"GlyphRenderer\"},{\"attributes\":{\"callback\":null},\"id\":\"62d425c1-3088-4816-b530-eca1165c1209\",\"type\":\"DataRange1d\"},{\"attributes\":{\"plot\":{\"id\":\"9722979a-11f6-49ae-a8b8-02588ac608f9\",\"subtype\":\"Figure\",\"type\":\"Plot\"}},\"id\":\"b8b5c39c-ebe5-4d0d-b819-3578beb87c40\",\"type\":\"HelpTool\"},{\"attributes\":{\"days\":[1,2,3,4,5,6,7,8,9,10,11,12,13,14,15,16,17,18,19,20,21,22,23,24,25,26,27,28,29,30,31]},\"id\":\"639ce4a5-acde-4fc2-9e91-6e4ecb90a8d9\",\"type\":\"DaysTicker\"},{\"attributes\":{\"callback\":null,\"column_names\":[\"y\",\"x\"],\"data\":{\"x\":[1466880893000.0,1466880895000.0,1466880898000.0,1466880911000.0,1466880918000.0,1466880929000.0,1466880933000.0,1466880936000.0,1466880939000.0,1466880942000.0,1466880945000.0,1466880948000.0,1466880951000.0,1466880954000.0,1466880957000.0,1466880960000.0,1466880964000.0,1466880967000.0,1466880970000.0,1466880973000.0,1466880976000.0,1466880980000.0,1466880983000.0,1466880987000.0,1466880991000.0,1466880995000.0,1466880999000.0,1466881003000.0,1466881006000.0,1466881009000.0,1466881012000.0,1466881015000.0,1466881018000.0,1466881021000.0,1466881024000.0,1466881027000.0,1466881031000.0,1466881034000.0,1466881038000.0,1466881071000.0,1466881074000.0,1466881077000.0,1466881080000.0,1466881082000.0,1466881085000.0,1466881088000.0,1466881091000.0,1466881094000.0,1466881097000.0,1466881100000.0,1466881103000.0,1466881106000.0,1466881109000.0,1466881112000.0,1466881116000.0,1466881138000.0,1466881141000.0,1466881144000.0,1466881147000.0,1466881150000.0,1466881153000.0,1466881156000.0,1466881159000.0,1466881162000.0,1466881165000.0,1466881168000.0,1466881171000.0,1466881175000.0,1466881178000.0,1466881181000.0,1466881184000.0,1466881187000.0,1466881190000.0,1466881193000.0,1466881196000.0,1466881200000.0,1466881214000.0,1466881222000.0,1466881226000.0,1466881229000.0,1466881232000.0,1466881235000.0,1466881238000.0,1466881241000.0,1466881244000.0,1466881247000.0,1466881250000.0,1466881253000.0,1466881256000.0,1466881259000.0,1466881262000.0,1466881265000.0,1466881268000.0,1466881271000.0,1466881274000.0,1466881285000.0,1466881301000.0,1466881304000.0,1466881307000.0,1466881309000.0,1466881312000.0,1466881315000.0,1466881318000.0,1466881322000.0,1466881325000.0,1466881328000.0,1466881331000.0,1466881335000.0,1466881350000.0,1466881358000.0,1466881361000.0,1466881364000.0,1466881367000.0,1466881370000.0,1466881373000.0,1466881376000.0,1466881379000.0,1466881383000.0,1466881386000.0,1466881389000.0,1466881392000.0,1466881396000.0,1466881400000.0,1466881403000.0,1466881406000.0,1466881409000.0,1466881412000.0,1466881437000.0,1466881447000.0,1466881451000.0,1466881454000.0,1466881457000.0,1466881460000.0,1466881463000.0,1466881466000.0,1466881469000.0,1466881472000.0,1466881475000.0,1466881478000.0,1466881480000.0,1466881483000.0,1466881486000.0,1466881489000.0,1466881492000.0,1466881495000.0,1466881498000.0,1466881501000.0,1466881504000.0,1466881507000.0,1466881510000.0,1466881513000.0,1466881516000.0,1466881520000.0,1466881523000.0,1466881526000.0,1466881530000.0,1466881534000.0,1466881544000.0,1466881556000.0,1466881564000.0,1466881571000.0,1466881578000.0,1466881586000.0,1466881597000.0,1466881604000.0,1466881613000.0,1466881621000.0,1466881624000.0,1466881627000.0,1466881631000.0,1466881635000.0,1466881639000.0,1466881643000.0,1466881647000.0,1466881651000.0,1466881655000.0,1466881659000.0,1466881663000.0,1466881683000.0,1466881690000.0,1466881694000.0,1466881698000.0,1466881702000.0,1466881707000.0,1466881712000.0,1466881717000.0,1466881722000.0,1466881726000.0,1466881732000.0,1466881737000.0,1466881741000.0,1466881746000.0,1466881751000.0,1466881759000.0,1466881769000.0,1466881780000.0,1466881789000.0,1466881797000.0,1466881807000.0,1466881813000.0,1466881817000.0,1466881821000.0,1466881826000.0,1466881868000.0,1466881872000.0,1466881877000.0,1466881881000.0,1466881885000.0,1466881889000.0,1466881893000.0,1466881897000.0,1466881903000.0,1466881908000.0,1466881913000.0,1466881919000.0,1466881945000.0,1466881957000.0,1466881961000.0,1466881965000.0,1466881970000.0,1466881997000.0,1466882002000.0,1466882040000.0,1466882045000.0,1466882050000.0,1466882056000.0,1466882061000.0,1466882067000.0,1466882072000.0,1466882076000.0,1466882080000.0,1466882083000.0,1466882087000.0,1466882092000.0,1466882097000.0,1466882102000.0,1466882107000.0,1466882111000.0,1466882144000.0,1466882166000.0,1466882175000.0,1466882183000.0,1466882222000.0,1466882326000.0,1466882332000.0,1466882336000.0,1466882339000.0,1466882342000.0,1466882345000.0,1466882348000.0,1466882352000.0,1466882356000.0,1466882360000.0,1466882364000.0,1466882368000.0,1466882373000.0,1466882378000.0,1466882383000.0,1466882387000.0,1466882391000.0,1466882395000.0,1466882399000.0,1466882404000.0,1466882420000.0,1466882424000.0,1466882428000.0,1466882432000.0,1466882436000.0,1466882441000.0,1466882446000.0,1466882452000.0,1466882456000.0,1466882460000.0,1466882464000.0,1466882468000.0,1466882472000.0,1466882476000.0,1466882480000.0,1466882485000.0,1466882490000.0,1466882494000.0,1466882500000.0,1466882506000.0,1466882511000.0,1466882518000.0,1466882527000.0,1466882540000.0,1466882545000.0,1466882550000.0,1466882555000.0,1466882562000.0,1466882568000.0,1466882573000.0,1466882578000.0,1466882584000.0,1466882589000.0,1466882604000.0,1466882643000.0,1466882654000.0,1466882662000.0,1466882666000.0,1466882669000.0,1466882673000.0,1466882677000.0,1466882681000.0,1466882687000.0,1466882692000.0,1466882697000.0,1466882732000.0,1466882737000.0,1466882743000.0,1466882748000.0,1466882752000.0,1466882758000.0,1466882764000.0,1466882770000.0,1466882799000.0,1466882803000.0,1466882806000.0,1466882809000.0,1466882812000.0,1466882816000.0,1466882820000.0,1466882824000.0,1466882829000.0,1466882832000.0,1466882835000.0,1466882839000.0,1466882842000.0,1466882846000.0,1466882850000.0,1466882854000.0,1466882858000.0,1466882863000.0,1466882867000.0,1466882871000.0,1466882876000.0,1466882883000.0,1466882892000.0,1466882902000.0,1466882933000.0,1466882937000.0,1466882941000.0,1466882945000.0,1466882949000.0,1466882953000.0,1466882957000.0,1466882961000.0,1466882965000.0,1466882969000.0,1466882993000.0,1466882997000.0,1466883001000.0,1466883005000.0,1466883009000.0,1466883014000.0,1466883019000.0,1466883024000.0,1466883028000.0,1466883032000.0,1466883036000.0,1466883040000.0,1466883044000.0,1466883048000.0,1466883052000.0,1466883057000.0,1466883062000.0,1466883082000.0,1466883098000.0,1466883102000.0,1466883106000.0,1466883109000.0,1466883112000.0,1466883116000.0,1466883120000.0,1466883124000.0,1466883129000.0,1466883135000.0,1466883142000.0,1466883150000.0,1466883161000.0,1466883169000.0,1466883174000.0,1466883179000.0,1466883183000.0,1466883186000.0,1466883189000.0,1466883193000.0,1466883196000.0,1466883199000.0,1466883203000.0,1466883209000.0,1466883213000.0,1466883217000.0,1466883221000.0,1466883225000.0,1466883229000.0,1466883233000.0,1466883238000.0,1466883243000.0,1466883247000.0,1466883250000.0,1466883253000.0,1466883257000.0,1466883260000.0,1466883264000.0,1466883269000.0,1466883274000.0,1466883296000.0,1466883301000.0,1466883304000.0,1466883308000.0,1466883314000.0,1466883319000.0,1466883323000.0,1466883326000.0,1466883329000.0,1466883333000.0,1466883337000.0,1466883341000.0,1466883345000.0,1466883349000.0,1466883353000.0,1466883358000.0,1466883363000.0,1466883368000.0,1466883374000.0,1466883380000.0,1466883385000.0,1466883390000.0,1466883394000.0,1466883399000.0,1466883413000.0,1466883430000.0,1466883439000.0,1466883448000.0,1466883452000.0,1466883456000.0,1466883460000.0,1466883464000.0,1466883468000.0,1466883473000.0,1466883478000.0,1466883483000.0,1466883489000.0,1466883494000.0,1466883498000.0,1466883502000.0,1466883507000.0,1466883513000.0,1466883518000.0,1466883523000.0,1466883558000.0,1466883562000.0,1466883566000.0,1466883570000.0,1466883574000.0,1466883578000.0,1466883582000.0,1466883587000.0,1466883592000.0,1466883598000.0,1466883605000.0,1466883612000.0,1466883620000.0,1466883630000.0,1466883642000.0,1466883650000.0,1466883659000.0,1466883667000.0,1466883676000.0,1466883684000.0,1466883692000.0,1466883700000.0,1466883709000.0,1466883719000.0,1466883728000.0,1466883736000.0,1466883743000.0,1466883753000.0,1466883763000.0,1466883772000.0,1466883781000.0,1466883789000.0,1466883799000.0,1466883807000.0,1466883817000.0,1466883828000.0,1466883836000.0,1466883844000.0,1466883852000.0,1466883861000.0,1466883871000.0,1466883879000.0,1466883888000.0,1466883897000.0,1466883904000.0,1466883915000.0,1466883941000.0],\"y\":[327.0,326.7,326.5,326.3,325.9,325.5,325.0,324.5,323.9,323.2,322.7,322.3,321.8,321.4,320.9,320.5,320.2,319.8,319.5,319.1,318.9,318.7,318.5,318.4,318.2,318.0,318.0,318.0,318.0,318.0,317.3,316.5,315.8,315.1,314.4,313.6,312.9,312.2,311.5,310.7,310.0,309.4,308.7,308.1,307.5,306.8,306.2,305.5,304.9,304.0,303.1,302.2,301.9,301.6,301.4,301.0,300.6,300.3,299.7,299.2,298.9,298.6,298.4,298.1,297.8,297.5,297.1,296.6,296.2,295.9,295.6,295.3,294.9,294.5,294.2,293.8,293.5,293.4,293.3,293.2,293.1,293.0,292.9,292.5,292.2,291.8,291.5,291.1,290.7,290.4,290.0,289.6,289.4,289.2,289.3,289.4,289.5,289.5,289.6,289.7,289.6,289.5,289.5,289.3,289.1,288.9,288.7,288.5,288.3,288.0,287.7,287.6,287.5,287.5,287.4,287.3,286.9,286.5,286.2,285.7,285.3,284.8,284.4,283.9,283.5,283.0,282.5,282.4,282.2,282.0,282.0,282.0,282.0,281.8,281.6,281.5,281.2,280.9,280.5,280.2,279.8,279.5,279.1,278.7,278.5,278.2,277.9,277.7,277.5,277.5,277.4,277.3,277.0,276.7,276.5,276.3,276.1,275.9,275.7,275.5,275.4,275.2,275.0,275.0,275.0,275.0,275.0,275.2,275.4,275.5,275.7,275.9,276.1,276.3,276.5,276.6,276.8,277.2,277.4,277.5,277.7,277.9,278.1,278.3,278.5,278.6,279.0,279.4,279.5,279.7,279.9,280.1,280.3,280.5,280.6,280.8,281.1,281.4,281.6,281.9,282.2,282.5,282.7,283.0,283.3,283.7,284.5,285.1,285.5,286.0,286.5,286.9,287.4,287.8,288.7,289.6,290.4,290.8,291.6,292.5,293.3,294.1,294.9,295.9,296.9,297.5,298.0,298.5,299.1,299.5,299.8,300.4,300.9,301.5,301.8,302.2,302.5,302.9,303.3,303.6,303.8,304.0,304.0,304.0,304.3,304.5,304.8,305.1,305.4,305.6,305.9,306.2,306.5,306.7,307.0,307.0,307.4,307.7,308.1,308.5,309.0,309.5,309.9,310.4,310.8,311.3,311.7,311.8,311.9,312.0,312.0,312.0,312.3,312.5,312.8,313.1,313.4,313.8,314.3,314.7,315.2,315.6,316.1,316.3,316.6,317.0,317.4,318.2,318.8,319.5,320.1,320.9,321.7,322.5,323.4,324.0,324.6,325.3,325.6,326.0,326.7,327.5,328.0,328.5,329.1,329.6,330.5,331.3,332.1,332.7,333.4,333.6,333.6,333.6,333.6,333.6,333.6,333.4,332.9,332.5,332.0,331.5,331.1,330.9,330.5,330.2,329.8,329.5,329.1,328.9,328.7,328.5,328.4,328.2,328.0,328.0,328.0,328.0,328.0,328.0,328.1,328.2,328.3,328.4,328.5,328.5,328.6,328.7,328.8,328.9,329.0,328.9,328.8,328.7,328.6,328.5,328.5,328.4,328.3,328.2,328.1,328.0,328.0,328.0,328.0,328.0,328.0,328.0,328.0,328.0,328.0,327.7,327.5,327.2,326.9,326.6,326.4,325.9,325.5,325.0,324.5,324.1,323.9,323.2,322.5,321.7,321.0,321.2,321.5,321.4,321.2,321.0,320.8,320.6,321.0,320.6,320.3,319.9,318.6,317.4,316.0,314.6,313.3,311.9,310.5,309.2,308.5,307.7,307.0,306.3,305.5,305.4,305.2,305.0,304.8,304.6,304.5,304.5,304.5,304.5,304.5,304.5,304.6,304.8,305.0,305.2,305.4,305.5,305.8,306.1,306.4,306.6,306.9,307.2,307.5,307.7,308.0,308.3,308.5,308.9,309.3,309.6,310.0,310.4,310.8,311.3,311.7,312.2,312.6,313.1,313.5,313.8,314.2,314.0,314.4,314.7,315.1,315.5,315.8,316.2,316.5,316.7,316.9,317.1,317.8,318.0,318.0,318.0,318.0,318.0,318.0,318.0,318.0,318.2,318.4,318.5,318.7,318.9,319.1,319.5,319.8,320.2,320.5,320.9,321.4,321.8,322.3,322.7,323.2,323.6,324.2,324.7,325.3,325.8,326.2,326.3,326.5,326.7,327.0]}},\"id\":\"9b730ec4-37c1-418c-8a16-815af7d923c6\",\"type\":\"ColumnDataSource\"},{\"attributes\":{\"overlay\":{\"id\":\"83778235-5fa1-43a8-8860-8d54d2e12a27\",\"type\":\"BoxAnnotation\"},\"plot\":{\"id\":\"9722979a-11f6-49ae-a8b8-02588ac608f9\",\"subtype\":\"Figure\",\"type\":\"Plot\"}},\"id\":\"22c4d5a6-8139-4b27-a705-7d1977ec31c1\",\"type\":\"BoxZoomTool\"},{\"attributes\":{\"plot\":{\"id\":\"9722979a-11f6-49ae-a8b8-02588ac608f9\",\"subtype\":\"Figure\",\"type\":\"Plot\"},\"ticker\":{\"id\":\"68f58d45-724d-4cfe-8a56-f4b0ed436918\",\"type\":\"DatetimeTicker\"}},\"id\":\"142eb964-80cd-49a2-a34c-76158a9554fd\",\"type\":\"Grid\"},{\"attributes\":{\"bottom_units\":\"screen\",\"fill_alpha\":{\"value\":0.5},\"fill_color\":{\"value\":\"lightgrey\"},\"left_units\":\"screen\",\"level\":\"overlay\",\"line_alpha\":{\"value\":1.0},\"line_color\":{\"value\":\"black\"},\"line_dash\":[4,4],\"line_width\":{\"value\":2},\"plot\":null,\"render_mode\":\"css\",\"right_units\":\"screen\",\"top_units\":\"screen\"},\"id\":\"83778235-5fa1-43a8-8860-8d54d2e12a27\",\"type\":\"BoxAnnotation\"},{\"attributes\":{\"base\":60,\"mantissas\":[1,2,5,10,15,20,30],\"max_interval\":1800000.0,\"min_interval\":1000.0,\"num_minor_ticks\":0},\"id\":\"9b48f799-daa6-4cab-9a0f-e205331eff41\",\"type\":\"AdaptiveTicker\"},{\"attributes\":{\"line_alpha\":{\"value\":0.1},\"line_color\":{\"value\":\"#1f77b4\"},\"x\":{\"field\":\"x\"},\"y\":{\"field\":\"y\"}},\"id\":\"4b997ab5-0308-4788-9b5e-7c27143859dd\",\"type\":\"Line\"},{\"attributes\":{\"plot\":{\"id\":\"9722979a-11f6-49ae-a8b8-02588ac608f9\",\"subtype\":\"Figure\",\"type\":\"Plot\"}},\"id\":\"cbc03df1-bc1e-405d-8848-82941a8b29c5\",\"type\":\"ResetTool\"},{\"attributes\":{},\"id\":\"8776b0db-7f81-4cfc-b5d6-59eab0b6b15c\",\"type\":\"BasicTickFormatter\"},{\"attributes\":{\"plot\":{\"id\":\"9722979a-11f6-49ae-a8b8-02588ac608f9\",\"subtype\":\"Figure\",\"type\":\"Plot\"}},\"id\":\"aa820e33-d460-406e-afba-78f912c16f2c\",\"type\":\"PreviewSaveTool\"},{\"attributes\":{\"plot\":{\"id\":\"9722979a-11f6-49ae-a8b8-02588ac608f9\",\"subtype\":\"Figure\",\"type\":\"Plot\"}},\"id\":\"d40e7209-5a07-47ce-89a3-47df951131da\",\"type\":\"WheelZoomTool\"},{\"attributes\":{\"days\":[1,15]},\"id\":\"a5291d9e-cf0e-457c-8857-581e10fdca7d\",\"type\":\"DaysTicker\"},{\"attributes\":{\"months\":[0,1,2,3,4,5,6,7,8,9,10,11]},\"id\":\"038ca631-13f4-4e4a-8bb6-6c9235567725\",\"type\":\"MonthsTicker\"},{\"attributes\":{\"dimension\":1,\"plot\":{\"id\":\"9722979a-11f6-49ae-a8b8-02588ac608f9\",\"subtype\":\"Figure\",\"type\":\"Plot\"},\"ticker\":{\"id\":\"fb9fac98-977b-47a9-8a0f-53d86c6b6633\",\"type\":\"BasicTicker\"}},\"id\":\"ae66433a-8d84-440d-a196-b5c24e7faba2\",\"type\":\"Grid\"},{\"attributes\":{\"plot\":{\"id\":\"9722979a-11f6-49ae-a8b8-02588ac608f9\",\"subtype\":\"Figure\",\"type\":\"Plot\"}},\"id\":\"69a84094-c111-4cae-b2ae-c986a08f0b78\",\"type\":\"ResizeTool\"},{\"attributes\":{\"months\":[0,6]},\"id\":\"749a33eb-91a0-4d80-8dc2-b1121781a832\",\"type\":\"MonthsTicker\"},{\"attributes\":{\"months\":[0,4,8]},\"id\":\"319bd6c3-cb76-4eeb-a96f-dd88984b8fb3\",\"type\":\"MonthsTicker\"},{\"attributes\":{\"axis_label\":\"Time\",\"formatter\":{\"id\":\"33ed10ca-c1f7-4508-b040-c87254828767\",\"type\":\"DatetimeTickFormatter\"},\"plot\":{\"id\":\"9722979a-11f6-49ae-a8b8-02588ac608f9\",\"subtype\":\"Figure\",\"type\":\"Plot\"},\"ticker\":{\"id\":\"68f58d45-724d-4cfe-8a56-f4b0ed436918\",\"type\":\"DatetimeTicker\"}},\"id\":\"ec6d5266-e96b-43ab-a884-8739840e2d5a\",\"type\":\"DatetimeAxis\"},{\"attributes\":{\"num_minor_ticks\":5},\"id\":\"68f58d45-724d-4cfe-8a56-f4b0ed436918\",\"type\":\"DatetimeTicker\"},{\"attributes\":{},\"id\":\"d5a58d4e-840e-4a61-8c23-6f25b1630c5d\",\"type\":\"ToolEvents\"},{\"attributes\":{\"max_interval\":500.0,\"num_minor_ticks\":0},\"id\":\"154d6e8a-81a6-48f0-b079-7404ea500a70\",\"type\":\"AdaptiveTicker\"},{\"attributes\":{\"background_fill_color\":{\"value\":\"#E8DDCB\"},\"below\":[{\"id\":\"ec6d5266-e96b-43ab-a884-8739840e2d5a\",\"type\":\"DatetimeAxis\"}],\"left\":[{\"id\":\"90e18cd8-91e2-4fde-b58f-9767181069ab\",\"type\":\"LinearAxis\"}],\"renderers\":[{\"id\":\"ec6d5266-e96b-43ab-a884-8739840e2d5a\",\"type\":\"DatetimeAxis\"},{\"id\":\"142eb964-80cd-49a2-a34c-76158a9554fd\",\"type\":\"Grid\"},{\"id\":\"90e18cd8-91e2-4fde-b58f-9767181069ab\",\"type\":\"LinearAxis\"},{\"id\":\"ae66433a-8d84-440d-a196-b5c24e7faba2\",\"type\":\"Grid\"},{\"id\":\"83778235-5fa1-43a8-8860-8d54d2e12a27\",\"type\":\"BoxAnnotation\"},{\"id\":\"055b9fa5-2d6f-40af-92df-5b5ae94e5775\",\"type\":\"GlyphRenderer\"}],\"title\":\"Elevation from last night run\",\"tool_events\":{\"id\":\"d5a58d4e-840e-4a61-8c23-6f25b1630c5d\",\"type\":\"ToolEvents\"},\"tools\":[{\"id\":\"363c4251-8125-4e3c-8c00-31bc5725c6d0\",\"type\":\"PanTool\"},{\"id\":\"d40e7209-5a07-47ce-89a3-47df951131da\",\"type\":\"WheelZoomTool\"},{\"id\":\"22c4d5a6-8139-4b27-a705-7d1977ec31c1\",\"type\":\"BoxZoomTool\"},{\"id\":\"aa820e33-d460-406e-afba-78f912c16f2c\",\"type\":\"PreviewSaveTool\"},{\"id\":\"69a84094-c111-4cae-b2ae-c986a08f0b78\",\"type\":\"ResizeTool\"},{\"id\":\"cbc03df1-bc1e-405d-8848-82941a8b29c5\",\"type\":\"ResetTool\"},{\"id\":\"b8b5c39c-ebe5-4d0d-b819-3578beb87c40\",\"type\":\"HelpTool\"}],\"x_range\":{\"id\":\"f4981d95-2730-4172-8399-a1c83588853d\",\"type\":\"DataRange1d\"},\"y_range\":{\"id\":\"62d425c1-3088-4816-b530-eca1165c1209\",\"type\":\"DataRange1d\"}},\"id\":\"9722979a-11f6-49ae-a8b8-02588ac608f9\",\"subtype\":\"Figure\",\"type\":\"Plot\"},{\"attributes\":{\"days\":[1,4,7,10,13,16,19,22,25,28]},\"id\":\"1f01e140-58fc-44af-bddf-3fe969e0d5ef\",\"type\":\"DaysTicker\"},{\"attributes\":{\"callback\":null},\"id\":\"f4981d95-2730-4172-8399-a1c83588853d\",\"type\":\"DataRange1d\"},{\"attributes\":{\"line_color\":{\"value\":\"#1f77b4\"},\"x\":{\"field\":\"x\"},\"y\":{\"field\":\"y\"}},\"id\":\"b55e1b8c-4d79-4d66-86a5-3b5e35dd6040\",\"type\":\"Line\"},{\"attributes\":{\"plot\":{\"id\":\"9722979a-11f6-49ae-a8b8-02588ac608f9\",\"subtype\":\"Figure\",\"type\":\"Plot\"}},\"id\":\"363c4251-8125-4e3c-8c00-31bc5725c6d0\",\"type\":\"PanTool\"},{\"attributes\":{\"base\":24,\"mantissas\":[1,2,4,6,8,12],\"max_interval\":43200000.0,\"min_interval\":3600000.0,\"num_minor_ticks\":0},\"id\":\"b2e2bb6a-509a-40ec-9913-34027841cf71\",\"type\":\"AdaptiveTicker\"},{\"attributes\":{},\"id\":\"33ed10ca-c1f7-4508-b040-c87254828767\",\"type\":\"DatetimeTickFormatter\"},{\"attributes\":{},\"id\":\"fb9fac98-977b-47a9-8a0f-53d86c6b6633\",\"type\":\"BasicTicker\"},{\"attributes\":{\"days\":[1,8,15,22]},\"id\":\"35458186-0c57-4c8d-b608-97c612990776\",\"type\":\"DaysTicker\"},{\"attributes\":{},\"id\":\"40ae7652-51d5-4050-a28b-afda6b6cd680\",\"type\":\"YearsTicker\"},{\"attributes\":{\"axis_label\":\"Elevation (m)\",\"formatter\":{\"id\":\"8776b0db-7f81-4cfc-b5d6-59eab0b6b15c\",\"type\":\"BasicTickFormatter\"},\"plot\":{\"id\":\"9722979a-11f6-49ae-a8b8-02588ac608f9\",\"subtype\":\"Figure\",\"type\":\"Plot\"},\"ticker\":{\"id\":\"fb9fac98-977b-47a9-8a0f-53d86c6b6633\",\"type\":\"BasicTicker\"}},\"id\":\"90e18cd8-91e2-4fde-b58f-9767181069ab\",\"type\":\"LinearAxis\"}],\"root_ids\":[\"9722979a-11f6-49ae-a8b8-02588ac608f9\"]},\"title\":\"Bokeh Application\",\"version\":\"0.11.1\"}};\n",
       "            var render_items = [{\"docid\":\"c73c196a-90df-49be-b224-4e4bc0adcfe1\",\"elementid\":\"5a738078-f502-495e-8385-03bc65d4307f\",\"modelid\":\"9722979a-11f6-49ae-a8b8-02588ac608f9\",\"notebook_comms_target\":\"42907e85-c9b7-4705-8a8b-29cf16d2f2c3\"}];\n",
       "            \n",
       "            Bokeh.embed.embed_items(docs_json, render_items);\n",
       "        });\n",
       "      },\n",
       "      function(Bokeh) {\n",
       "      }\n",
       "    ];\n",
       "  \n",
       "    function run_inline_js() {\n",
       "      for (var i = 0; i < inline_js.length; i++) {\n",
       "        inline_js[i](window.Bokeh);\n",
       "      }\n",
       "    }\n",
       "  \n",
       "    if (window._bokeh_is_loading === 0) {\n",
       "      console.log(\"Bokeh: BokehJS loaded, going straight to plotting\");\n",
       "      run_inline_js();\n",
       "    } else {\n",
       "      load_libs(js_urls, function() {\n",
       "        console.log(\"Bokeh: BokehJS plotting callback run at\", now());\n",
       "        run_inline_js();\n",
       "      });\n",
       "    }\n",
       "  }(this));\n",
       "</script>"
      ]
     },
     "metadata": {},
     "output_type": "display_data"
    },
    {
     "data": {
      "text/html": [
       "<p><code>&lt;Bokeh Notebook handle for <strong>In[17]</strong>&gt;</code></p>"
      ],
      "text/plain": [
       "<bokeh.io._CommsHandle at 0x7fd1af58b240>"
      ]
     },
     "execution_count": 17,
     "metadata": {},
     "output_type": "execute_result"
    }
   ],
   "source": [
    "elevation = figure(\n",
    "    title=\"Elevation from last night run\", \n",
    "    background_fill_color=\"#E8DDCB\",\n",
    "    y_axis_label='Elevation (m)', \n",
    "    x_axis_label='Time',\n",
    "    x_axis_type=\"datetime\"\n",
    ")\n",
    "\n",
    "elevation.line(last_night.times, last_night.elevations)\n",
    "show(elevation)\n"
   ]
  },
  {
   "cell_type": "markdown",
   "metadata": {},
   "source": [
    "Very nice graph that looks just like the one I saw in Runkeeper. Now lets plot overall trends of all the runs."
   ]
  },
  {
   "cell_type": "code",
   "execution_count": 18,
   "metadata": {
    "collapsed": true
   },
   "outputs": [],
   "source": [
    "all_runs = load_runs()"
   ]
  },
  {
   "cell_type": "code",
   "execution_count": 19,
   "metadata": {
    "collapsed": false
   },
   "outputs": [
    {
     "data": {
      "text/html": [
       "\n",
       "\n",
       "    <div class=\"plotdiv\" id=\"c6a22b85-0276-4210-9b4a-4ed678094e2b\"></div>\n",
       "<script type=\"text/javascript\">\n",
       "  \n",
       "  (function(global) {\n",
       "    function now() {\n",
       "      return new Date();\n",
       "    }\n",
       "  \n",
       "    if (typeof (window._bokeh_onload_callbacks) === \"undefined\") {\n",
       "      window._bokeh_onload_callbacks = [];\n",
       "    }\n",
       "  \n",
       "    function run_callbacks() {\n",
       "      window._bokeh_onload_callbacks.forEach(function(callback) { callback() });\n",
       "      delete window._bokeh_onload_callbacks\n",
       "      console.info(\"Bokeh: all callbacks have finished\");\n",
       "    }\n",
       "  \n",
       "    function load_libs(js_urls, callback) {\n",
       "      window._bokeh_onload_callbacks.push(callback);\n",
       "      if (window._bokeh_is_loading > 0) {\n",
       "        console.log(\"Bokeh: BokehJS is being loaded, scheduling callback at\", now());\n",
       "        return null;\n",
       "      }\n",
       "      if (js_urls == null || js_urls.length === 0) {\n",
       "        run_callbacks();\n",
       "        return null;\n",
       "      }\n",
       "      console.log(\"Bokeh: BokehJS not loaded, scheduling load and callback at\", now());\n",
       "      window._bokeh_is_loading = js_urls.length;\n",
       "      for (var i = 0; i < js_urls.length; i++) {\n",
       "        var url = js_urls[i];\n",
       "        var s = document.createElement('script');\n",
       "        s.src = url;\n",
       "        s.async = false;\n",
       "        s.onreadystatechange = s.onload = function() {\n",
       "          window._bokeh_is_loading--;\n",
       "          if (window._bokeh_is_loading === 0) {\n",
       "            console.log(\"Bokeh: all BokehJS libraries loaded\");\n",
       "            run_callbacks()\n",
       "          }\n",
       "        };\n",
       "        s.onerror = function() {\n",
       "          console.warn(\"failed to load library \" + url);\n",
       "        };\n",
       "        console.log(\"Bokeh: injecting script tag for BokehJS library: \", url);\n",
       "        document.getElementsByTagName(\"head\")[0].appendChild(s);\n",
       "      }\n",
       "    };var element = document.getElementById(\"c6a22b85-0276-4210-9b4a-4ed678094e2b\");\n",
       "    if (element == null) {\n",
       "      console.log(\"Bokeh: ERROR: autoload.js configured with elementid 'c6a22b85-0276-4210-9b4a-4ed678094e2b' but no matching script tag was found. \")\n",
       "      return false;\n",
       "    }\n",
       "  \n",
       "    var js_urls = [];\n",
       "  \n",
       "    var inline_js = [\n",
       "      function(Bokeh) {\n",
       "        Bokeh.$(function() {\n",
       "            var docs_json = {\"a6c13381-7ab8-476d-9f8b-ce6a68d2dcf0\":{\"roots\":{\"references\":[{\"attributes\":{\"data_source\":{\"id\":\"9b730ec4-37c1-418c-8a16-815af7d923c6\",\"type\":\"ColumnDataSource\"},\"glyph\":{\"id\":\"b55e1b8c-4d79-4d66-86a5-3b5e35dd6040\",\"type\":\"Line\"},\"hover_glyph\":null,\"nonselection_glyph\":{\"id\":\"4b997ab5-0308-4788-9b5e-7c27143859dd\",\"type\":\"Line\"},\"selection_glyph\":null},\"id\":\"055b9fa5-2d6f-40af-92df-5b5ae94e5775\",\"type\":\"GlyphRenderer\"},{\"attributes\":{\"plot\":{\"id\":\"9722979a-11f6-49ae-a8b8-02588ac608f9\",\"subtype\":\"Figure\",\"type\":\"Plot\"}},\"id\":\"363c4251-8125-4e3c-8c00-31bc5725c6d0\",\"type\":\"PanTool\"},{\"attributes\":{\"axis_label\":\"Time\",\"formatter\":{\"id\":\"b9f0884e-290c-4c87-93e2-1b8f10414385\",\"type\":\"DatetimeTickFormatter\"},\"plot\":{\"id\":\"1bf6407e-b031-4d1c-9898-000835fea216\",\"subtype\":\"Figure\",\"type\":\"Plot\"},\"ticker\":{\"id\":\"c34f2b76-5070-43f7-b358-477452456485\",\"type\":\"DatetimeTicker\"}},\"id\":\"2baa7298-e355-4b71-a892-ff9ba0136680\",\"type\":\"DatetimeAxis\"},{\"attributes\":{\"base\":24,\"mantissas\":[1,2,4,6,8,12],\"max_interval\":43200000.0,\"min_interval\":3600000.0,\"num_minor_ticks\":0},\"id\":\"3c2ea362-f6db-456b-bce9-fb787b47adab\",\"type\":\"AdaptiveTicker\"},{\"attributes\":{\"callback\":null},\"id\":\"bcb9940b-7513-42e7-aa2b-55b8365e9a54\",\"type\":\"DataRange1d\"},{\"attributes\":{\"plot\":{\"id\":\"9722979a-11f6-49ae-a8b8-02588ac608f9\",\"subtype\":\"Figure\",\"type\":\"Plot\"}},\"id\":\"aa820e33-d460-406e-afba-78f912c16f2c\",\"type\":\"PreviewSaveTool\"},{\"attributes\":{\"plot\":{\"id\":\"9722979a-11f6-49ae-a8b8-02588ac608f9\",\"subtype\":\"Figure\",\"type\":\"Plot\"}},\"id\":\"cbc03df1-bc1e-405d-8848-82941a8b29c5\",\"type\":\"ResetTool\"},{\"attributes\":{\"plot\":{\"id\":\"9722979a-11f6-49ae-a8b8-02588ac608f9\",\"subtype\":\"Figure\",\"type\":\"Plot\"}},\"id\":\"69a84094-c111-4cae-b2ae-c986a08f0b78\",\"type\":\"ResizeTool\"},{\"attributes\":{\"months\":[0,6]},\"id\":\"c08da309-683e-4d28-9907-6b2299a25eb9\",\"type\":\"MonthsTicker\"},{\"attributes\":{\"base\":60,\"mantissas\":[1,2,5,10,15,20,30],\"max_interval\":1800000.0,\"min_interval\":1000.0,\"num_minor_ticks\":0},\"id\":\"9b48f799-daa6-4cab-9a0f-e205331eff41\",\"type\":\"AdaptiveTicker\"},{\"attributes\":{\"line_alpha\":{\"value\":0.1},\"line_color\":{\"value\":\"#1f77b4\"},\"x\":{\"field\":\"x\"},\"y\":{\"field\":\"y\"}},\"id\":\"4b997ab5-0308-4788-9b5e-7c27143859dd\",\"type\":\"Line\"},{\"attributes\":{},\"id\":\"f4d96e15-3ee2-4046-bca6-347f877183a2\",\"type\":\"ToolEvents\"},{\"attributes\":{\"plot\":{\"id\":\"9722979a-11f6-49ae-a8b8-02588ac608f9\",\"subtype\":\"Figure\",\"type\":\"Plot\"}},\"id\":\"d40e7209-5a07-47ce-89a3-47df951131da\",\"type\":\"WheelZoomTool\"},{\"attributes\":{\"callback\":null,\"column_names\":[\"y\",\"x\"],\"data\":{\"x\":[1465328243000.0,1428148529000.0,1463844198000.0,1415554211000.0,1414697951000.0,1434131854000.0,1425920018000.0,1439056606000.0,1438106993000.0,1410246399000.0,1457113081000.0,1410099387000.0,1436643161000.0,1462128356000.0,1466880893000.0,1443172413000.0,1424372257000.0,1464635172000.0,1438457322000.0,1420981616000.0,1412445070000.0,1431286224000.0,1465587240000.0,1444075724000.0,1428233258000.0,1425674543000.0,1426191183000.0,1426607916000.0,1459889614000.0,1422467747000.0,1465060160000.0,1418056433000.0,1466349240000.0,1420741859000.0,1440791953000.0,1421776526000.0,1411542030000.0,1446030451000.0,1411929948000.0,1411201027000.0,1436301721000.0,1430762639000.0,1410547403000.0,1422038969000.0],\"y\":[5869.758041685876,2050.294537996982,5673.724969564729,5493.705520609242,5936.597828117186,4466.736025644979,8747.538975053558,7583.492622425234,4482.126354346572,1256.0139437106257,38.50415036853844,1465.8603370305834,5980.435447792143,5678.105548248082,5641.157399618419,1848.3031448360637,2102.6866123651434,4686.257052728707,9468.497064399835,4437.458852924772,5637.941600178236,5976.531944856669,10040.460857166941,9377.080509775602,4927.336038861122,12543.342213664968,9053.550749702497,9066.96676016255,9355.976346881262,6733.926622101581,5690.823548807764,3787.3912574156557,8943.501144715288,10096.597395845707,12190.74237889001,8190.534493570851,5721.8997620119135,7650.115555373454,14.964854228276854,2732.913143192231,4069.3537789534007,4580.658855378932,7770.535908053509,13061.254042482593]}},\"id\":\"53eabab5-04cf-49af-934c-f86a2a33750c\",\"type\":\"ColumnDataSource\"},{\"attributes\":{\"days\":[1,15]},\"id\":\"a5291d9e-cf0e-457c-8857-581e10fdca7d\",\"type\":\"DaysTicker\"},{\"attributes\":{\"months\":[0,1,2,3,4,5,6,7,8,9,10,11]},\"id\":\"038ca631-13f4-4e4a-8bb6-6c9235567725\",\"type\":\"MonthsTicker\"},{\"attributes\":{\"dimension\":1,\"plot\":{\"id\":\"9722979a-11f6-49ae-a8b8-02588ac608f9\",\"subtype\":\"Figure\",\"type\":\"Plot\"},\"ticker\":{\"id\":\"fb9fac98-977b-47a9-8a0f-53d86c6b6633\",\"type\":\"BasicTicker\"}},\"id\":\"ae66433a-8d84-440d-a196-b5c24e7faba2\",\"type\":\"Grid\"},{\"attributes\":{\"months\":[0,6]},\"id\":\"749a33eb-91a0-4d80-8dc2-b1121781a832\",\"type\":\"MonthsTicker\"},{\"attributes\":{\"months\":[0,4,8]},\"id\":\"319bd6c3-cb76-4eeb-a96f-dd88984b8fb3\",\"type\":\"MonthsTicker\"},{\"attributes\":{},\"id\":\"2320104a-44df-4987-ab29-c9b98eb60185\",\"type\":\"YearsTicker\"},{\"attributes\":{\"axis_label\":\"Distance (m)\",\"formatter\":{\"id\":\"a41aacfc-644a-475c-aea1-941e2c59279f\",\"type\":\"BasicTickFormatter\"},\"plot\":{\"id\":\"1bf6407e-b031-4d1c-9898-000835fea216\",\"subtype\":\"Figure\",\"type\":\"Plot\"},\"ticker\":{\"id\":\"8b3dd4de-aef1-4ee8-90cb-0a16941fbada\",\"type\":\"BasicTicker\"}},\"id\":\"b7024f5c-1421-4667-86f8-09c882af3972\",\"type\":\"LinearAxis\"},{\"attributes\":{\"background_fill_color\":{\"value\":\"#E8DDCB\"},\"below\":[{\"id\":\"2baa7298-e355-4b71-a892-ff9ba0136680\",\"type\":\"DatetimeAxis\"}],\"left\":[{\"id\":\"b7024f5c-1421-4667-86f8-09c882af3972\",\"type\":\"LinearAxis\"}],\"renderers\":[{\"id\":\"2baa7298-e355-4b71-a892-ff9ba0136680\",\"type\":\"DatetimeAxis\"},{\"id\":\"daeda99c-3ea9-4a42-8ea6-71ade448c3ad\",\"type\":\"Grid\"},{\"id\":\"b7024f5c-1421-4667-86f8-09c882af3972\",\"type\":\"LinearAxis\"},{\"id\":\"0de8221d-71c6-47a0-84c2-df64a362fd8c\",\"type\":\"Grid\"},{\"id\":\"56e83950-762d-4148-b712-1f4903f880c9\",\"type\":\"BoxAnnotation\"},{\"id\":\"ee08c30b-cbe4-4c9e-91f0-a940c5488ae5\",\"type\":\"GlyphRenderer\"}],\"title\":\"Distances run over time\",\"tool_events\":{\"id\":\"f4d96e15-3ee2-4046-bca6-347f877183a2\",\"type\":\"ToolEvents\"},\"tools\":[{\"id\":\"3c31a444-41b2-4253-9c17-f48ae0d21497\",\"type\":\"PanTool\"},{\"id\":\"4abf66b3-513e-4b44-a569-c76168c129c2\",\"type\":\"WheelZoomTool\"},{\"id\":\"c985c7a0-4854-4894-bcb8-ed1a493545fe\",\"type\":\"BoxZoomTool\"},{\"id\":\"49ef7596-1532-4253-8d08-9ba93187d0c6\",\"type\":\"PreviewSaveTool\"},{\"id\":\"a6fb333b-b2fc-4a21-8a26-c530f1e4579f\",\"type\":\"ResizeTool\"},{\"id\":\"6bd70f98-ec60-4697-b28b-2a8adc8e8083\",\"type\":\"ResetTool\"},{\"id\":\"ee574f0c-4d1d-4e46-bba8-8077013d5a89\",\"type\":\"HelpTool\"}],\"x_range\":{\"id\":\"bcb9940b-7513-42e7-aa2b-55b8365e9a54\",\"type\":\"DataRange1d\"},\"y_range\":{\"id\":\"63398572-11a6-4ed2-bd84-eefecd3e7cff\",\"type\":\"DataRange1d\"}},\"id\":\"1bf6407e-b031-4d1c-9898-000835fea216\",\"subtype\":\"Figure\",\"type\":\"Plot\"},{\"attributes\":{},\"id\":\"d5a58d4e-840e-4a61-8c23-6f25b1630c5d\",\"type\":\"ToolEvents\"},{\"attributes\":{\"days\":[1,8,15,22]},\"id\":\"8e80769a-e04e-4767-95c2-bf14011e8d06\",\"type\":\"DaysTicker\"},{\"attributes\":{\"overlay\":{\"id\":\"83778235-5fa1-43a8-8860-8d54d2e12a27\",\"type\":\"BoxAnnotation\"},\"plot\":{\"id\":\"9722979a-11f6-49ae-a8b8-02588ac608f9\",\"subtype\":\"Figure\",\"type\":\"Plot\"}},\"id\":\"22c4d5a6-8139-4b27-a705-7d1977ec31c1\",\"type\":\"BoxZoomTool\"},{\"attributes\":{\"plot\":{\"id\":\"1bf6407e-b031-4d1c-9898-000835fea216\",\"subtype\":\"Figure\",\"type\":\"Plot\"}},\"id\":\"4abf66b3-513e-4b44-a569-c76168c129c2\",\"type\":\"WheelZoomTool\"},{\"attributes\":{},\"id\":\"33ed10ca-c1f7-4508-b040-c87254828767\",\"type\":\"DatetimeTickFormatter\"},{\"attributes\":{\"months\":[0,2,4,6,8,10]},\"id\":\"3261bcc6-6101-443e-ba70-f7d4bad753d9\",\"type\":\"MonthsTicker\"},{\"attributes\":{\"bottom_units\":\"screen\",\"fill_alpha\":{\"value\":0.5},\"fill_color\":{\"value\":\"lightgrey\"},\"left_units\":\"screen\",\"level\":\"overlay\",\"line_alpha\":{\"value\":1.0},\"line_color\":{\"value\":\"black\"},\"line_dash\":[4,4],\"line_width\":{\"value\":2},\"plot\":null,\"render_mode\":\"css\",\"right_units\":\"screen\",\"top_units\":\"screen\"},\"id\":\"56e83950-762d-4148-b712-1f4903f880c9\",\"type\":\"BoxAnnotation\"},{\"attributes\":{},\"id\":\"fb9fac98-977b-47a9-8a0f-53d86c6b6633\",\"type\":\"BasicTicker\"},{\"attributes\":{\"plot\":{\"id\":\"9722979a-11f6-49ae-a8b8-02588ac608f9\",\"subtype\":\"Figure\",\"type\":\"Plot\"},\"ticker\":{\"id\":\"68f58d45-724d-4cfe-8a56-f4b0ed436918\",\"type\":\"DatetimeTicker\"}},\"id\":\"142eb964-80cd-49a2-a34c-76158a9554fd\",\"type\":\"Grid\"},{\"attributes\":{},\"id\":\"40ae7652-51d5-4050-a28b-afda6b6cd680\",\"type\":\"YearsTicker\"},{\"attributes\":{\"months\":[0,2,4,6,8,10]},\"id\":\"5de0b80d-8f94-437b-9b74-b9f024b2efc1\",\"type\":\"MonthsTicker\"},{\"attributes\":{\"plot\":{\"id\":\"1bf6407e-b031-4d1c-9898-000835fea216\",\"subtype\":\"Figure\",\"type\":\"Plot\"}},\"id\":\"a6fb333b-b2fc-4a21-8a26-c530f1e4579f\",\"type\":\"ResizeTool\"},{\"attributes\":{\"line_color\":{\"value\":\"#1f77b4\"},\"x\":{\"field\":\"x\"},\"y\":{\"field\":\"y\"}},\"id\":\"b55e1b8c-4d79-4d66-86a5-3b5e35dd6040\",\"type\":\"Line\"},{\"attributes\":{\"bottom_units\":\"screen\",\"fill_alpha\":{\"value\":0.5},\"fill_color\":{\"value\":\"lightgrey\"},\"left_units\":\"screen\",\"level\":\"overlay\",\"line_alpha\":{\"value\":1.0},\"line_color\":{\"value\":\"black\"},\"line_dash\":[4,4],\"line_width\":{\"value\":2},\"plot\":null,\"render_mode\":\"css\",\"right_units\":\"screen\",\"top_units\":\"screen\"},\"id\":\"83778235-5fa1-43a8-8860-8d54d2e12a27\",\"type\":\"BoxAnnotation\"},{\"attributes\":{\"plot\":{\"id\":\"9722979a-11f6-49ae-a8b8-02588ac608f9\",\"subtype\":\"Figure\",\"type\":\"Plot\"}},\"id\":\"b8b5c39c-ebe5-4d0d-b819-3578beb87c40\",\"type\":\"HelpTool\"},{\"attributes\":{\"days\":[1,4,7,10,13,16,19,22,25,28]},\"id\":\"1f01e140-58fc-44af-bddf-3fe969e0d5ef\",\"type\":\"DaysTicker\"},{\"attributes\":{\"base\":60,\"mantissas\":[1,2,5,10,15,20,30],\"max_interval\":1800000.0,\"min_interval\":1000.0,\"num_minor_ticks\":0},\"id\":\"a223faf7-c010-4d87-acc3-3d80038a1ac4\",\"type\":\"AdaptiveTicker\"},{\"attributes\":{\"max_interval\":500.0,\"num_minor_ticks\":0},\"id\":\"154d6e8a-81a6-48f0-b079-7404ea500a70\",\"type\":\"AdaptiveTicker\"},{\"attributes\":{\"plot\":{\"id\":\"1bf6407e-b031-4d1c-9898-000835fea216\",\"subtype\":\"Figure\",\"type\":\"Plot\"}},\"id\":\"ee574f0c-4d1d-4e46-bba8-8077013d5a89\",\"type\":\"HelpTool\"},{\"attributes\":{\"plot\":{\"id\":\"1bf6407e-b031-4d1c-9898-000835fea216\",\"subtype\":\"Figure\",\"type\":\"Plot\"}},\"id\":\"49ef7596-1532-4253-8d08-9ba93187d0c6\",\"type\":\"PreviewSaveTool\"},{\"attributes\":{},\"id\":\"b9f0884e-290c-4c87-93e2-1b8f10414385\",\"type\":\"DatetimeTickFormatter\"},{\"attributes\":{\"days\":[1,2,3,4,5,6,7,8,9,10,11,12,13,14,15,16,17,18,19,20,21,22,23,24,25,26,27,28,29,30,31]},\"id\":\"639ce4a5-acde-4fc2-9e91-6e4ecb90a8d9\",\"type\":\"DaysTicker\"},{\"attributes\":{\"callback\":null,\"column_names\":[\"y\",\"x\"],\"data\":{\"x\":[1466880893000.0,1466880895000.0,1466880898000.0,1466880911000.0,1466880918000.0,1466880929000.0,1466880933000.0,1466880936000.0,1466880939000.0,1466880942000.0,1466880945000.0,1466880948000.0,1466880951000.0,1466880954000.0,1466880957000.0,1466880960000.0,1466880964000.0,1466880967000.0,1466880970000.0,1466880973000.0,1466880976000.0,1466880980000.0,1466880983000.0,1466880987000.0,1466880991000.0,1466880995000.0,1466880999000.0,1466881003000.0,1466881006000.0,1466881009000.0,1466881012000.0,1466881015000.0,1466881018000.0,1466881021000.0,1466881024000.0,1466881027000.0,1466881031000.0,1466881034000.0,1466881038000.0,1466881071000.0,1466881074000.0,1466881077000.0,1466881080000.0,1466881082000.0,1466881085000.0,1466881088000.0,1466881091000.0,1466881094000.0,1466881097000.0,1466881100000.0,1466881103000.0,1466881106000.0,1466881109000.0,1466881112000.0,1466881116000.0,1466881138000.0,1466881141000.0,1466881144000.0,1466881147000.0,1466881150000.0,1466881153000.0,1466881156000.0,1466881159000.0,1466881162000.0,1466881165000.0,1466881168000.0,1466881171000.0,1466881175000.0,1466881178000.0,1466881181000.0,1466881184000.0,1466881187000.0,1466881190000.0,1466881193000.0,1466881196000.0,1466881200000.0,1466881214000.0,1466881222000.0,1466881226000.0,1466881229000.0,1466881232000.0,1466881235000.0,1466881238000.0,1466881241000.0,1466881244000.0,1466881247000.0,1466881250000.0,1466881253000.0,1466881256000.0,1466881259000.0,1466881262000.0,1466881265000.0,1466881268000.0,1466881271000.0,1466881274000.0,1466881285000.0,1466881301000.0,1466881304000.0,1466881307000.0,1466881309000.0,1466881312000.0,1466881315000.0,1466881318000.0,1466881322000.0,1466881325000.0,1466881328000.0,1466881331000.0,1466881335000.0,1466881350000.0,1466881358000.0,1466881361000.0,1466881364000.0,1466881367000.0,1466881370000.0,1466881373000.0,1466881376000.0,1466881379000.0,1466881383000.0,1466881386000.0,1466881389000.0,1466881392000.0,1466881396000.0,1466881400000.0,1466881403000.0,1466881406000.0,1466881409000.0,1466881412000.0,1466881437000.0,1466881447000.0,1466881451000.0,1466881454000.0,1466881457000.0,1466881460000.0,1466881463000.0,1466881466000.0,1466881469000.0,1466881472000.0,1466881475000.0,1466881478000.0,1466881480000.0,1466881483000.0,1466881486000.0,1466881489000.0,1466881492000.0,1466881495000.0,1466881498000.0,1466881501000.0,1466881504000.0,1466881507000.0,1466881510000.0,1466881513000.0,1466881516000.0,1466881520000.0,1466881523000.0,1466881526000.0,1466881530000.0,1466881534000.0,1466881544000.0,1466881556000.0,1466881564000.0,1466881571000.0,1466881578000.0,1466881586000.0,1466881597000.0,1466881604000.0,1466881613000.0,1466881621000.0,1466881624000.0,1466881627000.0,1466881631000.0,1466881635000.0,1466881639000.0,1466881643000.0,1466881647000.0,1466881651000.0,1466881655000.0,1466881659000.0,1466881663000.0,1466881683000.0,1466881690000.0,1466881694000.0,1466881698000.0,1466881702000.0,1466881707000.0,1466881712000.0,1466881717000.0,1466881722000.0,1466881726000.0,1466881732000.0,1466881737000.0,1466881741000.0,1466881746000.0,1466881751000.0,1466881759000.0,1466881769000.0,1466881780000.0,1466881789000.0,1466881797000.0,1466881807000.0,1466881813000.0,1466881817000.0,1466881821000.0,1466881826000.0,1466881868000.0,1466881872000.0,1466881877000.0,1466881881000.0,1466881885000.0,1466881889000.0,1466881893000.0,1466881897000.0,1466881903000.0,1466881908000.0,1466881913000.0,1466881919000.0,1466881945000.0,1466881957000.0,1466881961000.0,1466881965000.0,1466881970000.0,1466881997000.0,1466882002000.0,1466882040000.0,1466882045000.0,1466882050000.0,1466882056000.0,1466882061000.0,1466882067000.0,1466882072000.0,1466882076000.0,1466882080000.0,1466882083000.0,1466882087000.0,1466882092000.0,1466882097000.0,1466882102000.0,1466882107000.0,1466882111000.0,1466882144000.0,1466882166000.0,1466882175000.0,1466882183000.0,1466882222000.0,1466882326000.0,1466882332000.0,1466882336000.0,1466882339000.0,1466882342000.0,1466882345000.0,1466882348000.0,1466882352000.0,1466882356000.0,1466882360000.0,1466882364000.0,1466882368000.0,1466882373000.0,1466882378000.0,1466882383000.0,1466882387000.0,1466882391000.0,1466882395000.0,1466882399000.0,1466882404000.0,1466882420000.0,1466882424000.0,1466882428000.0,1466882432000.0,1466882436000.0,1466882441000.0,1466882446000.0,1466882452000.0,1466882456000.0,1466882460000.0,1466882464000.0,1466882468000.0,1466882472000.0,1466882476000.0,1466882480000.0,1466882485000.0,1466882490000.0,1466882494000.0,1466882500000.0,1466882506000.0,1466882511000.0,1466882518000.0,1466882527000.0,1466882540000.0,1466882545000.0,1466882550000.0,1466882555000.0,1466882562000.0,1466882568000.0,1466882573000.0,1466882578000.0,1466882584000.0,1466882589000.0,1466882604000.0,1466882643000.0,1466882654000.0,1466882662000.0,1466882666000.0,1466882669000.0,1466882673000.0,1466882677000.0,1466882681000.0,1466882687000.0,1466882692000.0,1466882697000.0,1466882732000.0,1466882737000.0,1466882743000.0,1466882748000.0,1466882752000.0,1466882758000.0,1466882764000.0,1466882770000.0,1466882799000.0,1466882803000.0,1466882806000.0,1466882809000.0,1466882812000.0,1466882816000.0,1466882820000.0,1466882824000.0,1466882829000.0,1466882832000.0,1466882835000.0,1466882839000.0,1466882842000.0,1466882846000.0,1466882850000.0,1466882854000.0,1466882858000.0,1466882863000.0,1466882867000.0,1466882871000.0,1466882876000.0,1466882883000.0,1466882892000.0,1466882902000.0,1466882933000.0,1466882937000.0,1466882941000.0,1466882945000.0,1466882949000.0,1466882953000.0,1466882957000.0,1466882961000.0,1466882965000.0,1466882969000.0,1466882993000.0,1466882997000.0,1466883001000.0,1466883005000.0,1466883009000.0,1466883014000.0,1466883019000.0,1466883024000.0,1466883028000.0,1466883032000.0,1466883036000.0,1466883040000.0,1466883044000.0,1466883048000.0,1466883052000.0,1466883057000.0,1466883062000.0,1466883082000.0,1466883098000.0,1466883102000.0,1466883106000.0,1466883109000.0,1466883112000.0,1466883116000.0,1466883120000.0,1466883124000.0,1466883129000.0,1466883135000.0,1466883142000.0,1466883150000.0,1466883161000.0,1466883169000.0,1466883174000.0,1466883179000.0,1466883183000.0,1466883186000.0,1466883189000.0,1466883193000.0,1466883196000.0,1466883199000.0,1466883203000.0,1466883209000.0,1466883213000.0,1466883217000.0,1466883221000.0,1466883225000.0,1466883229000.0,1466883233000.0,1466883238000.0,1466883243000.0,1466883247000.0,1466883250000.0,1466883253000.0,1466883257000.0,1466883260000.0,1466883264000.0,1466883269000.0,1466883274000.0,1466883296000.0,1466883301000.0,1466883304000.0,1466883308000.0,1466883314000.0,1466883319000.0,1466883323000.0,1466883326000.0,1466883329000.0,1466883333000.0,1466883337000.0,1466883341000.0,1466883345000.0,1466883349000.0,1466883353000.0,1466883358000.0,1466883363000.0,1466883368000.0,1466883374000.0,1466883380000.0,1466883385000.0,1466883390000.0,1466883394000.0,1466883399000.0,1466883413000.0,1466883430000.0,1466883439000.0,1466883448000.0,1466883452000.0,1466883456000.0,1466883460000.0,1466883464000.0,1466883468000.0,1466883473000.0,1466883478000.0,1466883483000.0,1466883489000.0,1466883494000.0,1466883498000.0,1466883502000.0,1466883507000.0,1466883513000.0,1466883518000.0,1466883523000.0,1466883558000.0,1466883562000.0,1466883566000.0,1466883570000.0,1466883574000.0,1466883578000.0,1466883582000.0,1466883587000.0,1466883592000.0,1466883598000.0,1466883605000.0,1466883612000.0,1466883620000.0,1466883630000.0,1466883642000.0,1466883650000.0,1466883659000.0,1466883667000.0,1466883676000.0,1466883684000.0,1466883692000.0,1466883700000.0,1466883709000.0,1466883719000.0,1466883728000.0,1466883736000.0,1466883743000.0,1466883753000.0,1466883763000.0,1466883772000.0,1466883781000.0,1466883789000.0,1466883799000.0,1466883807000.0,1466883817000.0,1466883828000.0,1466883836000.0,1466883844000.0,1466883852000.0,1466883861000.0,1466883871000.0,1466883879000.0,1466883888000.0,1466883897000.0,1466883904000.0,1466883915000.0,1466883941000.0],\"y\":[327.0,326.7,326.5,326.3,325.9,325.5,325.0,324.5,323.9,323.2,322.7,322.3,321.8,321.4,320.9,320.5,320.2,319.8,319.5,319.1,318.9,318.7,318.5,318.4,318.2,318.0,318.0,318.0,318.0,318.0,317.3,316.5,315.8,315.1,314.4,313.6,312.9,312.2,311.5,310.7,310.0,309.4,308.7,308.1,307.5,306.8,306.2,305.5,304.9,304.0,303.1,302.2,301.9,301.6,301.4,301.0,300.6,300.3,299.7,299.2,298.9,298.6,298.4,298.1,297.8,297.5,297.1,296.6,296.2,295.9,295.6,295.3,294.9,294.5,294.2,293.8,293.5,293.4,293.3,293.2,293.1,293.0,292.9,292.5,292.2,291.8,291.5,291.1,290.7,290.4,290.0,289.6,289.4,289.2,289.3,289.4,289.5,289.5,289.6,289.7,289.6,289.5,289.5,289.3,289.1,288.9,288.7,288.5,288.3,288.0,287.7,287.6,287.5,287.5,287.4,287.3,286.9,286.5,286.2,285.7,285.3,284.8,284.4,283.9,283.5,283.0,282.5,282.4,282.2,282.0,282.0,282.0,282.0,281.8,281.6,281.5,281.2,280.9,280.5,280.2,279.8,279.5,279.1,278.7,278.5,278.2,277.9,277.7,277.5,277.5,277.4,277.3,277.0,276.7,276.5,276.3,276.1,275.9,275.7,275.5,275.4,275.2,275.0,275.0,275.0,275.0,275.0,275.2,275.4,275.5,275.7,275.9,276.1,276.3,276.5,276.6,276.8,277.2,277.4,277.5,277.7,277.9,278.1,278.3,278.5,278.6,279.0,279.4,279.5,279.7,279.9,280.1,280.3,280.5,280.6,280.8,281.1,281.4,281.6,281.9,282.2,282.5,282.7,283.0,283.3,283.7,284.5,285.1,285.5,286.0,286.5,286.9,287.4,287.8,288.7,289.6,290.4,290.8,291.6,292.5,293.3,294.1,294.9,295.9,296.9,297.5,298.0,298.5,299.1,299.5,299.8,300.4,300.9,301.5,301.8,302.2,302.5,302.9,303.3,303.6,303.8,304.0,304.0,304.0,304.3,304.5,304.8,305.1,305.4,305.6,305.9,306.2,306.5,306.7,307.0,307.0,307.4,307.7,308.1,308.5,309.0,309.5,309.9,310.4,310.8,311.3,311.7,311.8,311.9,312.0,312.0,312.0,312.3,312.5,312.8,313.1,313.4,313.8,314.3,314.7,315.2,315.6,316.1,316.3,316.6,317.0,317.4,318.2,318.8,319.5,320.1,320.9,321.7,322.5,323.4,324.0,324.6,325.3,325.6,326.0,326.7,327.5,328.0,328.5,329.1,329.6,330.5,331.3,332.1,332.7,333.4,333.6,333.6,333.6,333.6,333.6,333.6,333.4,332.9,332.5,332.0,331.5,331.1,330.9,330.5,330.2,329.8,329.5,329.1,328.9,328.7,328.5,328.4,328.2,328.0,328.0,328.0,328.0,328.0,328.0,328.1,328.2,328.3,328.4,328.5,328.5,328.6,328.7,328.8,328.9,329.0,328.9,328.8,328.7,328.6,328.5,328.5,328.4,328.3,328.2,328.1,328.0,328.0,328.0,328.0,328.0,328.0,328.0,328.0,328.0,328.0,327.7,327.5,327.2,326.9,326.6,326.4,325.9,325.5,325.0,324.5,324.1,323.9,323.2,322.5,321.7,321.0,321.2,321.5,321.4,321.2,321.0,320.8,320.6,321.0,320.6,320.3,319.9,318.6,317.4,316.0,314.6,313.3,311.9,310.5,309.2,308.5,307.7,307.0,306.3,305.5,305.4,305.2,305.0,304.8,304.6,304.5,304.5,304.5,304.5,304.5,304.5,304.6,304.8,305.0,305.2,305.4,305.5,305.8,306.1,306.4,306.6,306.9,307.2,307.5,307.7,308.0,308.3,308.5,308.9,309.3,309.6,310.0,310.4,310.8,311.3,311.7,312.2,312.6,313.1,313.5,313.8,314.2,314.0,314.4,314.7,315.1,315.5,315.8,316.2,316.5,316.7,316.9,317.1,317.8,318.0,318.0,318.0,318.0,318.0,318.0,318.0,318.0,318.2,318.4,318.5,318.7,318.9,319.1,319.5,319.8,320.2,320.5,320.9,321.4,321.8,322.3,322.7,323.2,323.6,324.2,324.7,325.3,325.8,326.2,326.3,326.5,326.7,327.0]}},\"id\":\"9b730ec4-37c1-418c-8a16-815af7d923c6\",\"type\":\"ColumnDataSource\"},{\"attributes\":{\"days\":[1,4,7,10,13,16,19,22,25,28]},\"id\":\"f40c2767-da34-4842-8078-b6c63cd3639c\",\"type\":\"DaysTicker\"},{\"attributes\":{\"days\":[1,2,3,4,5,6,7,8,9,10,11,12,13,14,15,16,17,18,19,20,21,22,23,24,25,26,27,28,29,30,31]},\"id\":\"5b40aed5-965e-4270-950e-f799fc16e742\",\"type\":\"DaysTicker\"},{\"attributes\":{\"max_interval\":500.0,\"num_minor_ticks\":0},\"id\":\"94303fd1-d668-40c9-8380-49f002417f99\",\"type\":\"AdaptiveTicker\"},{\"attributes\":{\"months\":[0,1,2,3,4,5,6,7,8,9,10,11]},\"id\":\"618c8c71-191d-469c-a52a-148a7fda4d4d\",\"type\":\"MonthsTicker\"},{\"attributes\":{\"overlay\":{\"id\":\"56e83950-762d-4148-b712-1f4903f880c9\",\"type\":\"BoxAnnotation\"},\"plot\":{\"id\":\"1bf6407e-b031-4d1c-9898-000835fea216\",\"subtype\":\"Figure\",\"type\":\"Plot\"}},\"id\":\"c985c7a0-4854-4894-bcb8-ed1a493545fe\",\"type\":\"BoxZoomTool\"},{\"attributes\":{\"plot\":{\"id\":\"1bf6407e-b031-4d1c-9898-000835fea216\",\"subtype\":\"Figure\",\"type\":\"Plot\"}},\"id\":\"6bd70f98-ec60-4697-b28b-2a8adc8e8083\",\"type\":\"ResetTool\"},{\"attributes\":{\"plot\":{\"id\":\"1bf6407e-b031-4d1c-9898-000835fea216\",\"subtype\":\"Figure\",\"type\":\"Plot\"},\"ticker\":{\"id\":\"c34f2b76-5070-43f7-b358-477452456485\",\"type\":\"DatetimeTicker\"}},\"id\":\"daeda99c-3ea9-4a42-8ea6-71ade448c3ad\",\"type\":\"Grid\"},{\"attributes\":{\"plot\":{\"id\":\"1bf6407e-b031-4d1c-9898-000835fea216\",\"subtype\":\"Figure\",\"type\":\"Plot\"}},\"id\":\"3c31a444-41b2-4253-9c17-f48ae0d21497\",\"type\":\"PanTool\"},{\"attributes\":{\"days\":[1,15]},\"id\":\"35e54b32-7085-4e71-82d9-c2fb3709a776\",\"type\":\"DaysTicker\"},{\"attributes\":{\"callback\":null},\"id\":\"63398572-11a6-4ed2-bd84-eefecd3e7cff\",\"type\":\"DataRange1d\"},{\"attributes\":{\"axis_label\":\"Time\",\"formatter\":{\"id\":\"33ed10ca-c1f7-4508-b040-c87254828767\",\"type\":\"DatetimeTickFormatter\"},\"plot\":{\"id\":\"9722979a-11f6-49ae-a8b8-02588ac608f9\",\"subtype\":\"Figure\",\"type\":\"Plot\"},\"ticker\":{\"id\":\"68f58d45-724d-4cfe-8a56-f4b0ed436918\",\"type\":\"DatetimeTicker\"}},\"id\":\"ec6d5266-e96b-43ab-a884-8739840e2d5a\",\"type\":\"DatetimeAxis\"},{\"attributes\":{\"num_minor_ticks\":5},\"id\":\"68f58d45-724d-4cfe-8a56-f4b0ed436918\",\"type\":\"DatetimeTicker\"},{\"attributes\":{\"fill_alpha\":{\"value\":0.1},\"fill_color\":{\"value\":\"#1f77b4\"},\"line_alpha\":{\"value\":0.1},\"line_color\":{\"value\":\"#1f77b4\"},\"x\":{\"field\":\"x\"},\"y\":{\"field\":\"y\"}},\"id\":\"c8a797fd-780e-463f-84fd-2e152c503c16\",\"type\":\"Circle\"},{\"attributes\":{},\"id\":\"a41aacfc-644a-475c-aea1-941e2c59279f\",\"type\":\"BasicTickFormatter\"},{\"attributes\":{\"data_source\":{\"id\":\"53eabab5-04cf-49af-934c-f86a2a33750c\",\"type\":\"ColumnDataSource\"},\"glyph\":{\"id\":\"e9814c1e-83d0-4643-8553-1086049de01f\",\"type\":\"Circle\"},\"hover_glyph\":null,\"nonselection_glyph\":{\"id\":\"c8a797fd-780e-463f-84fd-2e152c503c16\",\"type\":\"Circle\"},\"selection_glyph\":null},\"id\":\"ee08c30b-cbe4-4c9e-91f0-a940c5488ae5\",\"type\":\"GlyphRenderer\"},{\"attributes\":{\"months\":[0,4,8]},\"id\":\"db953e6b-77d4-423e-8995-5708c237776a\",\"type\":\"MonthsTicker\"},{\"attributes\":{\"background_fill_color\":{\"value\":\"#E8DDCB\"},\"below\":[{\"id\":\"ec6d5266-e96b-43ab-a884-8739840e2d5a\",\"type\":\"DatetimeAxis\"}],\"left\":[{\"id\":\"90e18cd8-91e2-4fde-b58f-9767181069ab\",\"type\":\"LinearAxis\"}],\"renderers\":[{\"id\":\"ec6d5266-e96b-43ab-a884-8739840e2d5a\",\"type\":\"DatetimeAxis\"},{\"id\":\"142eb964-80cd-49a2-a34c-76158a9554fd\",\"type\":\"Grid\"},{\"id\":\"90e18cd8-91e2-4fde-b58f-9767181069ab\",\"type\":\"LinearAxis\"},{\"id\":\"ae66433a-8d84-440d-a196-b5c24e7faba2\",\"type\":\"Grid\"},{\"id\":\"83778235-5fa1-43a8-8860-8d54d2e12a27\",\"type\":\"BoxAnnotation\"},{\"id\":\"055b9fa5-2d6f-40af-92df-5b5ae94e5775\",\"type\":\"GlyphRenderer\"}],\"title\":\"Elevation from last night run\",\"tool_events\":{\"id\":\"d5a58d4e-840e-4a61-8c23-6f25b1630c5d\",\"type\":\"ToolEvents\"},\"tools\":[{\"id\":\"363c4251-8125-4e3c-8c00-31bc5725c6d0\",\"type\":\"PanTool\"},{\"id\":\"d40e7209-5a07-47ce-89a3-47df951131da\",\"type\":\"WheelZoomTool\"},{\"id\":\"22c4d5a6-8139-4b27-a705-7d1977ec31c1\",\"type\":\"BoxZoomTool\"},{\"id\":\"aa820e33-d460-406e-afba-78f912c16f2c\",\"type\":\"PreviewSaveTool\"},{\"id\":\"69a84094-c111-4cae-b2ae-c986a08f0b78\",\"type\":\"ResizeTool\"},{\"id\":\"cbc03df1-bc1e-405d-8848-82941a8b29c5\",\"type\":\"ResetTool\"},{\"id\":\"b8b5c39c-ebe5-4d0d-b819-3578beb87c40\",\"type\":\"HelpTool\"}],\"x_range\":{\"id\":\"f4981d95-2730-4172-8399-a1c83588853d\",\"type\":\"DataRange1d\"},\"y_range\":{\"id\":\"62d425c1-3088-4816-b530-eca1165c1209\",\"type\":\"DataRange1d\"}},\"id\":\"9722979a-11f6-49ae-a8b8-02588ac608f9\",\"subtype\":\"Figure\",\"type\":\"Plot\"},{\"attributes\":{\"num_minor_ticks\":5},\"id\":\"c34f2b76-5070-43f7-b358-477452456485\",\"type\":\"DatetimeTicker\"},{\"attributes\":{\"callback\":null},\"id\":\"f4981d95-2730-4172-8399-a1c83588853d\",\"type\":\"DataRange1d\"},{\"attributes\":{\"fill_color\":{\"value\":\"#1f77b4\"},\"line_color\":{\"value\":\"#1f77b4\"},\"x\":{\"field\":\"x\"},\"y\":{\"field\":\"y\"}},\"id\":\"e9814c1e-83d0-4643-8553-1086049de01f\",\"type\":\"Circle\"},{\"attributes\":{\"base\":24,\"mantissas\":[1,2,4,6,8,12],\"max_interval\":43200000.0,\"min_interval\":3600000.0,\"num_minor_ticks\":0},\"id\":\"b2e2bb6a-509a-40ec-9913-34027841cf71\",\"type\":\"AdaptiveTicker\"},{\"attributes\":{\"callback\":null},\"id\":\"62d425c1-3088-4816-b530-eca1165c1209\",\"type\":\"DataRange1d\"},{\"attributes\":{\"dimension\":1,\"plot\":{\"id\":\"1bf6407e-b031-4d1c-9898-000835fea216\",\"subtype\":\"Figure\",\"type\":\"Plot\"},\"ticker\":{\"id\":\"8b3dd4de-aef1-4ee8-90cb-0a16941fbada\",\"type\":\"BasicTicker\"}},\"id\":\"0de8221d-71c6-47a0-84c2-df64a362fd8c\",\"type\":\"Grid\"},{\"attributes\":{},\"id\":\"8b3dd4de-aef1-4ee8-90cb-0a16941fbada\",\"type\":\"BasicTicker\"},{\"attributes\":{\"days\":[1,8,15,22]},\"id\":\"35458186-0c57-4c8d-b608-97c612990776\",\"type\":\"DaysTicker\"},{\"attributes\":{},\"id\":\"8776b0db-7f81-4cfc-b5d6-59eab0b6b15c\",\"type\":\"BasicTickFormatter\"},{\"attributes\":{\"axis_label\":\"Elevation (m)\",\"formatter\":{\"id\":\"8776b0db-7f81-4cfc-b5d6-59eab0b6b15c\",\"type\":\"BasicTickFormatter\"},\"plot\":{\"id\":\"9722979a-11f6-49ae-a8b8-02588ac608f9\",\"subtype\":\"Figure\",\"type\":\"Plot\"},\"ticker\":{\"id\":\"fb9fac98-977b-47a9-8a0f-53d86c6b6633\",\"type\":\"BasicTicker\"}},\"id\":\"90e18cd8-91e2-4fde-b58f-9767181069ab\",\"type\":\"LinearAxis\"}],\"root_ids\":[\"9722979a-11f6-49ae-a8b8-02588ac608f9\",\"1bf6407e-b031-4d1c-9898-000835fea216\"]},\"title\":\"Bokeh Application\",\"version\":\"0.11.1\"}};\n",
       "            var render_items = [{\"docid\":\"a6c13381-7ab8-476d-9f8b-ce6a68d2dcf0\",\"elementid\":\"c6a22b85-0276-4210-9b4a-4ed678094e2b\",\"modelid\":\"1bf6407e-b031-4d1c-9898-000835fea216\",\"notebook_comms_target\":\"00bdb4ee-3537-463e-b33a-f67d300742d8\"}];\n",
       "            \n",
       "            Bokeh.embed.embed_items(docs_json, render_items);\n",
       "        });\n",
       "      },\n",
       "      function(Bokeh) {\n",
       "      }\n",
       "    ];\n",
       "  \n",
       "    function run_inline_js() {\n",
       "      for (var i = 0; i < inline_js.length; i++) {\n",
       "        inline_js[i](window.Bokeh);\n",
       "      }\n",
       "    }\n",
       "  \n",
       "    if (window._bokeh_is_loading === 0) {\n",
       "      console.log(\"Bokeh: BokehJS loaded, going straight to plotting\");\n",
       "      run_inline_js();\n",
       "    } else {\n",
       "      load_libs(js_urls, function() {\n",
       "        console.log(\"Bokeh: BokehJS plotting callback run at\", now());\n",
       "        run_inline_js();\n",
       "      });\n",
       "    }\n",
       "  }(this));\n",
       "</script>"
      ]
     },
     "metadata": {},
     "output_type": "display_data"
    },
    {
     "data": {
      "text/html": [
       "<p><code>&lt;Bokeh Notebook handle for <strong>In[19]</strong>&gt;</code></p>"
      ],
      "text/plain": [
       "<bokeh.io._CommsHandle at 0x7fd1adf93f98>"
      ]
     },
     "execution_count": 19,
     "metadata": {},
     "output_type": "execute_result"
    }
   ],
   "source": [
    "distances = [r.distance_total for r in all_runs]\n",
    "times = [r.start for r in all_runs]\n",
    "\n",
    "p = figure(\n",
    "    title=\"Distances run over time\", \n",
    "    background_fill_color=\"#E8DDCB\",\n",
    "    y_axis_label='Distance (m)', \n",
    "    x_axis_label='Time',\n",
    "    x_axis_type=\"datetime\"\n",
    ")\n",
    "\n",
    "p.circle(times, distances)\n",
    "show(p)"
   ]
  },
  {
   "cell_type": "code",
   "execution_count": 26,
   "metadata": {
    "collapsed": false
   },
   "outputs": [
    {
     "data": {
      "text/html": [
       "\n",
       "\n",
       "    <div class=\"plotdiv\" id=\"03b62283-d737-451d-adce-83c7fb79f5da\"></div>\n",
       "<script type=\"text/javascript\">\n",
       "  \n",
       "  (function(global) {\n",
       "    function now() {\n",
       "      return new Date();\n",
       "    }\n",
       "  \n",
       "    if (typeof (window._bokeh_onload_callbacks) === \"undefined\") {\n",
       "      window._bokeh_onload_callbacks = [];\n",
       "    }\n",
       "  \n",
       "    function run_callbacks() {\n",
       "      window._bokeh_onload_callbacks.forEach(function(callback) { callback() });\n",
       "      delete window._bokeh_onload_callbacks\n",
       "      console.info(\"Bokeh: all callbacks have finished\");\n",
       "    }\n",
       "  \n",
       "    function load_libs(js_urls, callback) {\n",
       "      window._bokeh_onload_callbacks.push(callback);\n",
       "      if (window._bokeh_is_loading > 0) {\n",
       "        console.log(\"Bokeh: BokehJS is being loaded, scheduling callback at\", now());\n",
       "        return null;\n",
       "      }\n",
       "      if (js_urls == null || js_urls.length === 0) {\n",
       "        run_callbacks();\n",
       "        return null;\n",
       "      }\n",
       "      console.log(\"Bokeh: BokehJS not loaded, scheduling load and callback at\", now());\n",
       "      window._bokeh_is_loading = js_urls.length;\n",
       "      for (var i = 0; i < js_urls.length; i++) {\n",
       "        var url = js_urls[i];\n",
       "        var s = document.createElement('script');\n",
       "        s.src = url;\n",
       "        s.async = false;\n",
       "        s.onreadystatechange = s.onload = function() {\n",
       "          window._bokeh_is_loading--;\n",
       "          if (window._bokeh_is_loading === 0) {\n",
       "            console.log(\"Bokeh: all BokehJS libraries loaded\");\n",
       "            run_callbacks()\n",
       "          }\n",
       "        };\n",
       "        s.onerror = function() {\n",
       "          console.warn(\"failed to load library \" + url);\n",
       "        };\n",
       "        console.log(\"Bokeh: injecting script tag for BokehJS library: \", url);\n",
       "        document.getElementsByTagName(\"head\")[0].appendChild(s);\n",
       "      }\n",
       "    };var element = document.getElementById(\"03b62283-d737-451d-adce-83c7fb79f5da\");\n",
       "    if (element == null) {\n",
       "      console.log(\"Bokeh: ERROR: autoload.js configured with elementid '03b62283-d737-451d-adce-83c7fb79f5da' but no matching script tag was found. \")\n",
       "      return false;\n",
       "    }\n",
       "  \n",
       "    var js_urls = [];\n",
       "  \n",
       "    var inline_js = [\n",
       "      function(Bokeh) {\n",
       "        Bokeh.$(function() {\n",
       "            var docs_json = {\"708f1c52-ef79-4921-94c8-6b35c771f310\":{\"roots\":{\"references\":[{\"attributes\":{},\"id\":\"9750da14-e63d-4fe7-834b-aa0bceef480c\",\"type\":\"BasicTicker\"},{\"attributes\":{\"plot\":{\"id\":\"47d9db68-6667-4d6f-94bf-96cefa7ef01a\",\"subtype\":\"Figure\",\"type\":\"Plot\"}},\"id\":\"9c6b19e5-dce4-4a29-83c0-aa944158ccf3\",\"type\":\"PreviewSaveTool\"},{\"attributes\":{\"data_source\":{\"id\":\"9b730ec4-37c1-418c-8a16-815af7d923c6\",\"type\":\"ColumnDataSource\"},\"glyph\":{\"id\":\"b55e1b8c-4d79-4d66-86a5-3b5e35dd6040\",\"type\":\"Line\"},\"hover_glyph\":null,\"nonselection_glyph\":{\"id\":\"4b997ab5-0308-4788-9b5e-7c27143859dd\",\"type\":\"Line\"},\"selection_glyph\":null},\"id\":\"055b9fa5-2d6f-40af-92df-5b5ae94e5775\",\"type\":\"GlyphRenderer\"},{\"attributes\":{\"axis_label\":\"Distance (m)\",\"formatter\":{\"id\":\"15335688-a81f-40ff-95dc-7c9e330c9003\",\"type\":\"BasicTickFormatter\"},\"plot\":{\"id\":\"e01bd413-9d11-4564-baf1-846a75806c8b\",\"subtype\":\"Figure\",\"type\":\"Plot\"},\"ticker\":{\"id\":\"fc14ec69-1883-4261-a5fc-8c3154372eda\",\"type\":\"BasicTicker\"}},\"id\":\"4baf3523-8693-45dc-96d1-583e6e0efe60\",\"type\":\"LinearAxis\"},{\"attributes\":{\"callback\":null,\"column_names\":[\"y\",\"x\"],\"data\":{\"x\":[5869.758041685876,2050.294537996982,5673.724969564729,5493.705520609242,5936.597828117186,4466.736025644979,8747.538975053558,7583.492622425234,4482.126354346572,1256.0139437106257,38.50415036853844,1465.8603370305834,5980.435447792143,5678.105548248082,5641.157399618419,1848.3031448360637,2102.6866123651434,4686.257052728707,9468.497064399835,4437.458852924772,5637.941600178236,5976.531944856669,10040.460857166941,9377.080509775602,4927.336038861122,12543.342213664968,9053.550749702497,9066.96676016255,9355.976346881262,6733.926622101581,5690.823548807764,3787.3912574156557,8943.501144715288,10096.597395845707,12190.74237889001,8190.534493570851,5721.8997620119135,7650.115555373454,14.964854228276854,2732.913143192231,4069.3537789534007,4580.658855378932,7770.535908053509,13061.254042482593],\"y\":[2806,1113,3142,3350,3855,2325,4688,3888,2420,566,1,789,2860,2454,3048,1447,926,2290,4450,3069,3420,3886,5032,4568,2831,7219,4663,4561,4963,4046,4901,2199,6153,7028,6333,5374,3687,4419,32,1365,1737,2228,4172,7521]}},\"id\":\"8ced3837-ff19-49f8-b5a0-0b6a7b340a0a\",\"type\":\"ColumnDataSource\"},{\"attributes\":{},\"id\":\"0a81c69d-8dfa-4620-a997-8e2e8b4842cf\",\"type\":\"BasicTickFormatter\"},{\"attributes\":{\"months\":[0,2,4,6,8,10]},\"id\":\"86265816-f89f-4159-992a-fba103db912b\",\"type\":\"MonthsTicker\"},{\"attributes\":{\"months\":[0,4,8]},\"id\":\"bdef959d-8299-47de-be41-ce1d825db5a2\",\"type\":\"MonthsTicker\"},{\"attributes\":{\"background_fill_color\":{\"value\":\"#E8DDCB\"},\"below\":[{\"id\":\"66fe199e-df10-4ea9-b55e-36315ec957db\",\"type\":\"DatetimeAxis\"}],\"left\":[{\"id\":\"d3ac69fe-a349-4faf-82c6-244868d1f073\",\"type\":\"LinearAxis\"}],\"renderers\":[{\"id\":\"66fe199e-df10-4ea9-b55e-36315ec957db\",\"type\":\"DatetimeAxis\"},{\"id\":\"d71f490a-d771-40c0-b57a-c7b27a4d03a1\",\"type\":\"Grid\"},{\"id\":\"d3ac69fe-a349-4faf-82c6-244868d1f073\",\"type\":\"LinearAxis\"},{\"id\":\"ef9a9d14-1338-4537-8695-b1b1754e7989\",\"type\":\"Grid\"},{\"id\":\"8d6d0309-cd23-426d-a2fb-7acc44941b7e\",\"type\":\"BoxAnnotation\"},{\"id\":\"ce6322e9-8d46-4f8e-849c-1a8b147a7a3c\",\"type\":\"GlyphRenderer\"}],\"title\":\"Speeds \",\"tool_events\":{\"id\":\"4a4f3c96-dc7b-401d-bd7f-2cb00646624c\",\"type\":\"ToolEvents\"},\"tools\":[{\"id\":\"f17b4661-e456-4b54-9b01-03c7160ebf04\",\"type\":\"PanTool\"},{\"id\":\"e62222b1-26dc-4569-90ad-1cf541194b35\",\"type\":\"WheelZoomTool\"},{\"id\":\"c7e6008b-1d4a-40b1-9441-d86c1a8e4746\",\"type\":\"BoxZoomTool\"},{\"id\":\"37c4d514-2cf9-47bc-bc33-2c9d69b1f54a\",\"type\":\"PreviewSaveTool\"},{\"id\":\"b68e9463-fd62-475b-bfd1-ca0d071b95fb\",\"type\":\"ResizeTool\"},{\"id\":\"33571828-a4bb-4dbc-90cf-b7dab5b773cb\",\"type\":\"ResetTool\"},{\"id\":\"f1d9edb9-6cd9-4b45-ae79-3fc19fb6cd43\",\"type\":\"HelpTool\"}],\"x_range\":{\"id\":\"b2234a9c-8249-4ec5-9b19-84b9eb91bf36\",\"type\":\"DataRange1d\"},\"y_range\":{\"id\":\"14a51b79-d147-40a9-b6fe-a0d7e836ba03\",\"type\":\"DataRange1d\"}},\"id\":\"02616015-955c-4d91-bda1-6095adae93c6\",\"subtype\":\"Figure\",\"type\":\"Plot\"},{\"attributes\":{\"max_interval\":500.0,\"num_minor_ticks\":0},\"id\":\"154d6e8a-81a6-48f0-b079-7404ea500a70\",\"type\":\"AdaptiveTicker\"},{\"attributes\":{\"base\":60,\"mantissas\":[1,2,5,10,15,20,30],\"max_interval\":1800000.0,\"min_interval\":1000.0,\"num_minor_ticks\":0},\"id\":\"9b48f799-daa6-4cab-9a0f-e205331eff41\",\"type\":\"AdaptiveTicker\"},{\"attributes\":{\"line_alpha\":{\"value\":0.1},\"line_color\":{\"value\":\"#1f77b4\"},\"x\":{\"field\":\"x\"},\"y\":{\"field\":\"y\"}},\"id\":\"4b997ab5-0308-4788-9b5e-7c27143859dd\",\"type\":\"Line\"},{\"attributes\":{\"months\":[0,6]},\"id\":\"66c34b27-e7df-4535-a8b3-165d399ec148\",\"type\":\"MonthsTicker\"},{\"attributes\":{\"plot\":{\"id\":\"9722979a-11f6-49ae-a8b8-02588ac608f9\",\"subtype\":\"Figure\",\"type\":\"Plot\"}},\"id\":\"aa820e33-d460-406e-afba-78f912c16f2c\",\"type\":\"PreviewSaveTool\"},{\"attributes\":{\"months\":[0,2,4,6,8,10]},\"id\":\"3261bcc6-6101-443e-ba70-f7d4bad753d9\",\"type\":\"MonthsTicker\"},{\"attributes\":{\"months\":[0,6]},\"id\":\"749a33eb-91a0-4d80-8dc2-b1121781a832\",\"type\":\"MonthsTicker\"},{\"attributes\":{\"months\":[0,4,8]},\"id\":\"319bd6c3-cb76-4eeb-a96f-dd88984b8fb3\",\"type\":\"MonthsTicker\"},{\"attributes\":{},\"id\":\"19375950-321c-4c3a-9ce6-6c040cc2abde\",\"type\":\"DatetimeTickFormatter\"},{\"attributes\":{\"axis_label\":\"Distance (m)\",\"formatter\":{\"id\":\"f4d7e435-e70d-4951-9b7b-31a59b7cc4f2\",\"type\":\"DatetimeTickFormatter\"},\"plot\":{\"id\":\"f7a8c707-9822-4353-8e3c-a473ca5c8cba\",\"subtype\":\"Figure\",\"type\":\"Plot\"},\"ticker\":{\"id\":\"d73926df-ef10-4bb9-ac57-84efacbec30a\",\"type\":\"DatetimeTicker\"}},\"id\":\"da216d25-437b-4d28-ab0b-f77bb74a93a4\",\"type\":\"DatetimeAxis\"},{\"attributes\":{\"background_fill_color\":{\"value\":\"#E8DDCB\"},\"below\":[{\"id\":\"b11d8772-9a80-4767-8df0-30421ad04f36\",\"type\":\"DatetimeAxis\"}],\"left\":[{\"id\":\"8ca983a5-a4e4-42aa-869e-f69c603bef15\",\"type\":\"LinearAxis\"}],\"renderers\":[{\"id\":\"b11d8772-9a80-4767-8df0-30421ad04f36\",\"type\":\"DatetimeAxis\"},{\"id\":\"9c43fe79-0e92-46d5-9bcc-720518eaa5cf\",\"type\":\"Grid\"},{\"id\":\"8ca983a5-a4e4-42aa-869e-f69c603bef15\",\"type\":\"LinearAxis\"},{\"id\":\"16ff9240-4375-4bb2-b9ba-1a85e1b82013\",\"type\":\"Grid\"},{\"id\":\"bfabf604-05cb-4c3c-b00e-070cb10e632c\",\"type\":\"BoxAnnotation\"},{\"id\":\"ac8cfc40-88a6-410c-94ad-4af506a141c2\",\"type\":\"GlyphRenderer\"}],\"title\":\"Speeds \",\"tool_events\":{\"id\":\"8956b075-52e0-4306-b6e0-746b63299347\",\"type\":\"ToolEvents\"},\"tools\":[{\"id\":\"48e57cbc-fdfd-409b-945a-846d961548c0\",\"type\":\"PanTool\"},{\"id\":\"bfb51fc3-fb78-4431-bde0-ca0ac02d450a\",\"type\":\"WheelZoomTool\"},{\"id\":\"2bbff8f1-b5f2-4bcc-863c-41ec14a326e8\",\"type\":\"BoxZoomTool\"},{\"id\":\"9c6b19e5-dce4-4a29-83c0-aa944158ccf3\",\"type\":\"PreviewSaveTool\"},{\"id\":\"9ea8ebf8-3716-431e-9d75-2cb9861095a1\",\"type\":\"ResizeTool\"},{\"id\":\"11a6c4f6-39e7-46d2-a7b9-75ebf3df5c9a\",\"type\":\"ResetTool\"},{\"id\":\"bed197bb-d6d1-42df-9a7b-bd5b61ff02d6\",\"type\":\"HelpTool\"}],\"x_range\":{\"id\":\"2a769f87-3783-49a6-8a77-33f9971fb237\",\"type\":\"DataRange1d\"},\"y_range\":{\"id\":\"1e318d6e-359a-45cc-bb9e-2696bdaab9b5\",\"type\":\"DataRange1d\"}},\"id\":\"47d9db68-6667-4d6f-94bf-96cefa7ef01a\",\"subtype\":\"Figure\",\"type\":\"Plot\"},{\"attributes\":{\"plot\":{\"id\":\"eff7255c-1733-4b9b-9aff-2a35e958bad3\",\"subtype\":\"Figure\",\"type\":\"Plot\"}},\"id\":\"a8866e9d-8390-4f22-8472-cb906f247bc3\",\"type\":\"WheelZoomTool\"},{\"attributes\":{\"num_minor_ticks\":5},\"id\":\"24eaf022-eab4-4c04-9673-abd0b946be77\",\"type\":\"DatetimeTicker\"},{\"attributes\":{\"fill_color\":{\"value\":\"#1f77b4\"},\"line_color\":{\"value\":\"#1f77b4\"},\"x\":{\"field\":\"x\"},\"y\":{\"field\":\"y\"}},\"id\":\"14051f6b-37d1-4e46-b0bf-bae7d7adb837\",\"type\":\"Circle\"},{\"attributes\":{\"dimension\":1,\"plot\":{\"id\":\"eff7255c-1733-4b9b-9aff-2a35e958bad3\",\"subtype\":\"Figure\",\"type\":\"Plot\"},\"ticker\":{\"id\":\"9750da14-e63d-4fe7-834b-aa0bceef480c\",\"type\":\"BasicTicker\"}},\"id\":\"59503486-cead-4822-b1b1-139cb4941228\",\"type\":\"Grid\"},{\"attributes\":{\"data_source\":{\"id\":\"7e798b0e-94a0-4735-b4a3-d99f729f4bd9\",\"type\":\"ColumnDataSource\"},\"glyph\":{\"id\":\"1d085930-5272-4561-9c25-ab702d2ac46c\",\"type\":\"Circle\"},\"hover_glyph\":null,\"nonselection_glyph\":{\"id\":\"bc374731-56b0-4379-aa2f-e5ec25cbd9fa\",\"type\":\"Circle\"},\"selection_glyph\":null},\"id\":\"ae272e58-1f3f-4f3c-a3b4-294f25c309f9\",\"type\":\"GlyphRenderer\"},{\"attributes\":{},\"id\":\"fb9fac98-977b-47a9-8a0f-53d86c6b6633\",\"type\":\"BasicTicker\"},{\"attributes\":{\"plot\":{\"id\":\"9722979a-11f6-49ae-a8b8-02588ac608f9\",\"subtype\":\"Figure\",\"type\":\"Plot\"},\"ticker\":{\"id\":\"68f58d45-724d-4cfe-8a56-f4b0ed436918\",\"type\":\"DatetimeTicker\"}},\"id\":\"142eb964-80cd-49a2-a34c-76158a9554fd\",\"type\":\"Grid\"},{\"attributes\":{\"bottom_units\":\"screen\",\"fill_alpha\":{\"value\":0.5},\"fill_color\":{\"value\":\"lightgrey\"},\"left_units\":\"screen\",\"level\":\"overlay\",\"line_alpha\":{\"value\":1.0},\"line_color\":{\"value\":\"black\"},\"line_dash\":[4,4],\"line_width\":{\"value\":2},\"plot\":null,\"render_mode\":\"css\",\"right_units\":\"screen\",\"top_units\":\"screen\"},\"id\":\"45bf1765-b05b-438e-a5d7-de4901c804d0\",\"type\":\"BoxAnnotation\"},{\"attributes\":{\"plot\":{\"id\":\"e6ff8f7e-e3bc-4c70-82ed-e5e32be2eeb3\",\"subtype\":\"Figure\",\"type\":\"Plot\"}},\"id\":\"5b92ff48-2444-47d2-96a8-2c9f69d3a29a\",\"type\":\"ResizeTool\"},{\"attributes\":{\"plot\":{\"id\":\"f7a8c707-9822-4353-8e3c-a473ca5c8cba\",\"subtype\":\"Figure\",\"type\":\"Plot\"}},\"id\":\"5cec722b-ca20-46f7-919b-c69e48ebb53c\",\"type\":\"HelpTool\"},{\"attributes\":{\"days\":[1,15]},\"id\":\"35e54b32-7085-4e71-82d9-c2fb3709a776\",\"type\":\"DaysTicker\"},{\"attributes\":{\"bottom_units\":\"screen\",\"fill_alpha\":{\"value\":0.5},\"fill_color\":{\"value\":\"lightgrey\"},\"left_units\":\"screen\",\"level\":\"overlay\",\"line_alpha\":{\"value\":1.0},\"line_color\":{\"value\":\"black\"},\"line_dash\":[4,4],\"line_width\":{\"value\":2},\"plot\":null,\"render_mode\":\"css\",\"right_units\":\"screen\",\"top_units\":\"screen\"},\"id\":\"83778235-5fa1-43a8-8860-8d54d2e12a27\",\"type\":\"BoxAnnotation\"},{\"attributes\":{},\"id\":\"4748bb38-37f6-4db2-bc44-4025cea79a78\",\"type\":\"DatetimeTickFormatter\"},{\"attributes\":{},\"id\":\"33ed10ca-c1f7-4508-b040-c87254828767\",\"type\":\"DatetimeTickFormatter\"},{\"attributes\":{\"plot\":{\"id\":\"f7a8c707-9822-4353-8e3c-a473ca5c8cba\",\"subtype\":\"Figure\",\"type\":\"Plot\"},\"ticker\":{\"id\":\"d73926df-ef10-4bb9-ac57-84efacbec30a\",\"type\":\"DatetimeTicker\"}},\"id\":\"3cb6274d-c302-4851-ba85-2fba5fc38acd\",\"type\":\"Grid\"},{\"attributes\":{},\"id\":\"c6b2396e-ed7f-439d-b60b-7561b2a2f124\",\"type\":\"ToolEvents\"},{\"attributes\":{\"plot\":{\"id\":\"1bf6407e-b031-4d1c-9898-000835fea216\",\"subtype\":\"Figure\",\"type\":\"Plot\"}},\"id\":\"ee574f0c-4d1d-4e46-bba8-8077013d5a89\",\"type\":\"HelpTool\"},{\"attributes\":{\"plot\":{\"id\":\"cb4413bc-55e9-4185-bca4-550f1930a2fe\",\"subtype\":\"Figure\",\"type\":\"Plot\"},\"ticker\":{\"id\":\"a69bbe5f-9502-4efc-a268-6713a10d96f8\",\"type\":\"DatetimeTicker\"}},\"id\":\"8e3c7688-0ed4-4f1b-bec3-3e9b7b19ccd6\",\"type\":\"Grid\"},{\"attributes\":{\"base\":24,\"mantissas\":[1,2,4,6,8,12],\"max_interval\":43200000.0,\"min_interval\":3600000.0,\"num_minor_ticks\":0},\"id\":\"38bf9832-dfb3-494d-8699-0536cbe8b4e9\",\"type\":\"AdaptiveTicker\"},{\"attributes\":{\"callback\":null},\"id\":\"6476b24a-b153-4fca-b192-528a45cf005d\",\"type\":\"DataRange1d\"},{\"attributes\":{\"fill_color\":{\"value\":\"#1f77b4\"},\"line_color\":{\"value\":\"#1f77b4\"},\"x\":{\"field\":\"x\"},\"y\":{\"field\":\"y\"}},\"id\":\"3368a566-8e2a-4bcb-8474-36ae5d588729\",\"type\":\"Circle\"},{\"attributes\":{\"plot\":{\"id\":\"eff7255c-1733-4b9b-9aff-2a35e958bad3\",\"subtype\":\"Figure\",\"type\":\"Plot\"}},\"id\":\"e79b21bc-5a75-4b62-96a2-b0e99438b48b\",\"type\":\"PreviewSaveTool\"},{\"attributes\":{\"plot\":{\"id\":\"f7a8c707-9822-4353-8e3c-a473ca5c8cba\",\"subtype\":\"Figure\",\"type\":\"Plot\"}},\"id\":\"d2a777b6-31dc-4db1-9d27-8b7a7d3bf2e1\",\"type\":\"PanTool\"},{\"attributes\":{\"months\":[0,1,2,3,4,5,6,7,8,9,10,11]},\"id\":\"618c8c71-191d-469c-a52a-148a7fda4d4d\",\"type\":\"MonthsTicker\"},{\"attributes\":{\"dimension\":1,\"plot\":{\"id\":\"47d9db68-6667-4d6f-94bf-96cefa7ef01a\",\"subtype\":\"Figure\",\"type\":\"Plot\"},\"ticker\":{\"id\":\"38e42651-b7c3-4124-b87f-55c7faefeac4\",\"type\":\"BasicTicker\"}},\"id\":\"16ff9240-4375-4bb2-b9ba-1a85e1b82013\",\"type\":\"Grid\"},{\"attributes\":{\"months\":[0,1,2,3,4,5,6,7,8,9,10,11]},\"id\":\"3ec2c7eb-4e5d-419f-b291-568deb22f11b\",\"type\":\"MonthsTicker\"},{\"attributes\":{\"callback\":null},\"id\":\"b6bc2677-ecfc-4267-a415-a71cc69aca2a\",\"type\":\"DataRange1d\"},{\"attributes\":{\"fill_color\":{\"value\":\"#1f77b4\"},\"line_color\":{\"value\":\"#1f77b4\"},\"x\":{\"field\":\"x\"},\"y\":{\"field\":\"y\"}},\"id\":\"1324ee4f-6ac0-4bf1-bbdd-e14d223aebd6\",\"type\":\"Circle\"},{\"attributes\":{\"background_fill_color\":{\"value\":\"#E8DDCB\"},\"below\":[{\"id\":\"4baf3523-8693-45dc-96d1-583e6e0efe60\",\"type\":\"LinearAxis\"}],\"left\":[{\"id\":\"087180cd-62f1-44e4-a31c-26712994eb72\",\"type\":\"LinearAxis\"}],\"renderers\":[{\"id\":\"4baf3523-8693-45dc-96d1-583e6e0efe60\",\"type\":\"LinearAxis\"},{\"id\":\"42452d1d-2009-412e-b9d5-8371776efb42\",\"type\":\"Grid\"},{\"id\":\"087180cd-62f1-44e4-a31c-26712994eb72\",\"type\":\"LinearAxis\"},{\"id\":\"ce87c960-4a0c-4a06-98ab-6970ad20b196\",\"type\":\"Grid\"},{\"id\":\"9b424962-23f3-4f62-9702-2b54c02d300a\",\"type\":\"BoxAnnotation\"},{\"id\":\"bb20a4bc-dc0e-40bd-856e-64da47feee12\",\"type\":\"GlyphRenderer\"}],\"title\":\"Speeds \",\"tool_events\":{\"id\":\"b40a72d5-bc59-4eb5-bfca-749c3f9ef890\",\"type\":\"ToolEvents\"},\"tools\":[{\"id\":\"91719410-f8a7-4dc9-95b2-c4b83b319cd5\",\"type\":\"PanTool\"},{\"id\":\"6ac1636b-a082-4c13-9d86-3924f6ab3f5d\",\"type\":\"WheelZoomTool\"},{\"id\":\"0dedabd5-fe5f-4f7d-8699-624358cfd934\",\"type\":\"BoxZoomTool\"},{\"id\":\"76142144-be6e-4802-b867-f877c1aaa608\",\"type\":\"PreviewSaveTool\"},{\"id\":\"9406b72d-0189-4e3b-9236-953b7c1659c3\",\"type\":\"ResizeTool\"},{\"id\":\"2d429588-eef8-4088-b564-0fec373ad4ff\",\"type\":\"ResetTool\"},{\"id\":\"7dd0acfb-a3b1-4640-ac0f-0c8eb25f7799\",\"type\":\"HelpTool\"}],\"x_range\":{\"id\":\"f34c4f05-7d80-41f4-b350-64ce58c61eb2\",\"type\":\"DataRange1d\"},\"y_range\":{\"id\":\"4ba5d580-4e33-4120-bd6a-075e505c0635\",\"type\":\"DataRange1d\"}},\"id\":\"e01bd413-9d11-4564-baf1-846a75806c8b\",\"subtype\":\"Figure\",\"type\":\"Plot\"},{\"attributes\":{\"days\":[1,8,15,22]},\"id\":\"580a34ba-c001-411a-a4ce-cae66cef8c29\",\"type\":\"DaysTicker\"},{\"attributes\":{},\"id\":\"fc14ec69-1883-4261-a5fc-8c3154372eda\",\"type\":\"BasicTicker\"},{\"attributes\":{\"axis_label\":\"Time\",\"formatter\":{\"id\":\"33ed10ca-c1f7-4508-b040-c87254828767\",\"type\":\"DatetimeTickFormatter\"},\"plot\":{\"id\":\"9722979a-11f6-49ae-a8b8-02588ac608f9\",\"subtype\":\"Figure\",\"type\":\"Plot\"},\"ticker\":{\"id\":\"68f58d45-724d-4cfe-8a56-f4b0ed436918\",\"type\":\"DatetimeTicker\"}},\"id\":\"ec6d5266-e96b-43ab-a884-8739840e2d5a\",\"type\":\"DatetimeAxis\"},{\"attributes\":{\"fill_alpha\":{\"value\":0.1},\"fill_color\":{\"value\":\"#1f77b4\"},\"line_alpha\":{\"value\":0.1},\"line_color\":{\"value\":\"#1f77b4\"},\"x\":{\"field\":\"x\"},\"y\":{\"field\":\"y\"}},\"id\":\"c8a797fd-780e-463f-84fd-2e152c503c16\",\"type\":\"Circle\"},{\"attributes\":{},\"id\":\"3a0f9e4c-4cc6-4036-86d0-a94796b1726c\",\"type\":\"BasicTicker\"},{\"attributes\":{\"months\":[0,6]},\"id\":\"271588cb-2a50-4e3b-b878-32a2616cefcd\",\"type\":\"MonthsTicker\"},{\"attributes\":{\"dimension\":1,\"plot\":{\"id\":\"9722979a-11f6-49ae-a8b8-02588ac608f9\",\"subtype\":\"Figure\",\"type\":\"Plot\"},\"ticker\":{\"id\":\"fb9fac98-977b-47a9-8a0f-53d86c6b6633\",\"type\":\"BasicTicker\"}},\"id\":\"ae66433a-8d84-440d-a196-b5c24e7faba2\",\"type\":\"Grid\"},{\"attributes\":{\"days\":[1,4,7,10,13,16,19,22,25,28]},\"id\":\"310d3be5-597f-44d9-a2b9-3eccacc53ef6\",\"type\":\"DaysTicker\"},{\"attributes\":{\"callback\":null},\"id\":\"4ba5d580-4e33-4120-bd6a-075e505c0635\",\"type\":\"DataRange1d\"},{\"attributes\":{\"plot\":{\"id\":\"e01bd413-9d11-4564-baf1-846a75806c8b\",\"subtype\":\"Figure\",\"type\":\"Plot\"}},\"id\":\"7dd0acfb-a3b1-4640-ac0f-0c8eb25f7799\",\"type\":\"HelpTool\"},{\"attributes\":{\"callback\":null,\"column_names\":[\"y\",\"x\"],\"data\":{\"x\":[5.869758041685876,2.050294537996982,5.673724969564729,5.493705520609242,5.936597828117185,4.4667360256449795,8.747538975053558,7.583492622425234,4.482126354346572,1.2560139437106257,0.03850415036853844,1.4658603370305834,5.980435447792144,5.678105548248082,5.641157399618419,1.8483031448360636,2.1026866123651433,4.686257052728707,9.468497064399834,4.437458852924772,5.637941600178236,5.976531944856669,10.040460857166941,9.377080509775602,4.927336038861122,12.543342213664967,9.053550749702497,9.06696676016255,9.355976346881262,6.733926622101581,5.6908235488077645,3.787391257415656,8.943501144715288,10.096597395845707,12.190742378890011,8.190534493570851,5.721899762011914,7.650115555373454,0.014964854228276854,2.732913143192231,4.069353778953401,4.580658855378932,7.7705359080535095,13.061254042482593],\"y\":[0.7794444444444445,0.30916666666666665,0.8727777777777778,0.9305555555555556,1.0708333333333333,0.6458333333333334,1.3022222222222222,1.08,0.6722222222222223,0.15722222222222224,0.0002777777777777778,0.21916666666666668,0.7944444444444444,0.6816666666666666,0.8466666666666667,0.40194444444444444,0.25722222222222224,0.6361111111111111,1.2361111111111112,0.8525,0.95,1.0794444444444444,1.3977777777777778,1.268888888888889,0.7863888888888889,2.0052777777777777,1.2952777777777778,1.2669444444444444,1.378611111111111,1.123888888888889,1.361388888888889,0.6108333333333333,1.7091666666666667,1.9522222222222223,1.7591666666666668,1.4927777777777778,1.0241666666666667,1.2275,0.008888888888888889,0.37916666666666665,0.4825,0.6188888888888889,1.1588888888888889,2.089166666666667]}},\"id\":\"d672d858-f1f5-40e2-bccb-e6c30a9b552f\",\"type\":\"ColumnDataSource\"},{\"attributes\":{\"base\":24,\"mantissas\":[1,2,4,6,8,12],\"max_interval\":43200000.0,\"min_interval\":3600000.0,\"num_minor_ticks\":0},\"id\":\"bdd5178b-fb54-4c4e-92b3-73d1d47ee728\",\"type\":\"AdaptiveTicker\"},{\"attributes\":{\"base\":60,\"mantissas\":[1,2,5,10,15,20,30],\"max_interval\":1800000.0,\"min_interval\":1000.0,\"num_minor_ticks\":0},\"id\":\"c8188a1d-9a58-4099-9b9d-1fae3ec92622\",\"type\":\"AdaptiveTicker\"},{\"attributes\":{\"data_source\":{\"id\":\"6590f68a-528d-4e02-92f3-4a86ba1deee0\",\"type\":\"ColumnDataSource\"},\"glyph\":{\"id\":\"74a7a3b3-5e5d-445e-abb4-39c700207b8c\",\"type\":\"Circle\"},\"hover_glyph\":null,\"nonselection_glyph\":{\"id\":\"50f52620-0927-4b0b-a908-5e5cdddcf4bf\",\"type\":\"Circle\"},\"selection_glyph\":null},\"id\":\"ac8cfc40-88a6-410c-94ad-4af506a141c2\",\"type\":\"GlyphRenderer\"},{\"attributes\":{\"plot\":{\"id\":\"cb4413bc-55e9-4185-bca4-550f1930a2fe\",\"subtype\":\"Figure\",\"type\":\"Plot\"}},\"id\":\"29ec538e-1a7f-4245-a833-aa0622320553\",\"type\":\"HelpTool\"},{\"attributes\":{\"fill_alpha\":{\"value\":0.1},\"fill_color\":{\"value\":\"#1f77b4\"},\"line_alpha\":{\"value\":0.1},\"line_color\":{\"value\":\"#1f77b4\"},\"x\":{\"field\":\"x\"},\"y\":{\"field\":\"y\"}},\"id\":\"bc374731-56b0-4379-aa2f-e5ec25cbd9fa\",\"type\":\"Circle\"},{\"attributes\":{\"months\":[0,4,8]},\"id\":\"db953e6b-77d4-423e-8995-5708c237776a\",\"type\":\"MonthsTicker\"},{\"attributes\":{\"plot\":{\"id\":\"02616015-955c-4d91-bda1-6095adae93c6\",\"subtype\":\"Figure\",\"type\":\"Plot\"},\"ticker\":{\"id\":\"24eaf022-eab4-4c04-9673-abd0b946be77\",\"type\":\"DatetimeTicker\"}},\"id\":\"d71f490a-d771-40c0-b57a-c7b27a4d03a1\",\"type\":\"Grid\"},{\"attributes\":{\"callback\":null,\"column_names\":[\"y\",\"x\"],\"data\":{\"x\":[5869.758041685876,2050.294537996982,5673.724969564729,5493.705520609242,5936.597828117186,4466.736025644979,8747.538975053558,7583.492622425234,4482.126354346572,1256.0139437106257,38.50415036853844,1465.8603370305834,5980.435447792143,5678.105548248082,5641.157399618419,1848.3031448360637,2102.6866123651434,4686.257052728707,9468.497064399835,4437.458852924772,5637.941600178236,5976.531944856669,10040.460857166941,9377.080509775602,4927.336038861122,12543.342213664968,9053.550749702497,9066.96676016255,9355.976346881262,6733.926622101581,5690.823548807764,3787.3912574156557,8943.501144715288,10096.597395845707,12190.74237889001,8190.534493570851,5721.8997620119135,7650.115555373454,14.964854228276854,2732.913143192231,4069.3537789534007,4580.658855378932,7770.535908053509,13061.254042482593],\"y\":[46.766666666666666,18.55,52.36666666666667,55.833333333333336,64.25,38.75,78.13333333333334,64.8,40.333333333333336,9.433333333333334,0.016666666666666666,13.15,47.666666666666664,40.9,50.8,24.116666666666667,15.433333333333334,38.166666666666664,74.16666666666667,51.15,57.0,64.76666666666667,83.86666666666666,76.13333333333334,47.18333333333333,120.31666666666666,77.71666666666667,76.01666666666667,82.71666666666667,67.43333333333334,81.68333333333334,36.65,102.55,117.13333333333334,105.55,89.56666666666666,61.45,73.65,0.5333333333333333,22.75,28.95,37.13333333333333,69.53333333333333,125.35]}},\"id\":\"7e798b0e-94a0-4735-b4a3-d99f729f4bd9\",\"type\":\"ColumnDataSource\"},{\"attributes\":{\"fill_color\":{\"value\":\"#1f77b4\"},\"line_color\":{\"value\":\"#1f77b4\"},\"x\":{\"field\":\"x\"},\"y\":{\"field\":\"y\"}},\"id\":\"0aae2a19-813c-454f-a179-ffd6bba92bc7\",\"type\":\"Circle\"},{\"attributes\":{},\"id\":\"40a6d2b7-5de3-48d3-b305-5a93606a17ef\",\"type\":\"BasicTickFormatter\"},{\"attributes\":{},\"id\":\"296da0be-e2d7-4b34-8a7e-d9ef1b8a52ce\",\"type\":\"ToolEvents\"},{\"attributes\":{\"base\":60,\"mantissas\":[1,2,5,10,15,20,30],\"max_interval\":1800000.0,\"min_interval\":1000.0,\"num_minor_ticks\":0},\"id\":\"01df6b7f-c644-46dd-bb7a-f3aa36fa2b0c\",\"type\":\"AdaptiveTicker\"},{\"attributes\":{},\"id\":\"9697bf94-e8b9-4bb5-90f6-6004f74afe73\",\"type\":\"YearsTicker\"},{\"attributes\":{\"months\":[0,4,8]},\"id\":\"6e18285b-5c70-40e7-b85a-adb86dcbcffa\",\"type\":\"MonthsTicker\"},{\"attributes\":{\"bottom_units\":\"screen\",\"fill_alpha\":{\"value\":0.5},\"fill_color\":{\"value\":\"lightgrey\"},\"left_units\":\"screen\",\"level\":\"overlay\",\"line_alpha\":{\"value\":1.0},\"line_color\":{\"value\":\"black\"},\"line_dash\":[4,4],\"line_width\":{\"value\":2},\"plot\":null,\"render_mode\":\"css\",\"right_units\":\"screen\",\"top_units\":\"screen\"},\"id\":\"8d6d0309-cd23-426d-a2fb-7acc44941b7e\",\"type\":\"BoxAnnotation\"},{\"attributes\":{},\"id\":\"3e0c863e-8396-4dbd-a14d-73032dbd74fc\",\"type\":\"BasicTicker\"},{\"attributes\":{\"background_fill_color\":{\"value\":\"#E8DDCB\"},\"below\":[{\"id\":\"7a6f34fc-c614-46b6-ae60-715525c794f3\",\"type\":\"LinearAxis\"}],\"left\":[{\"id\":\"5db9b868-c3bf-43b5-9218-a2d12dd7a621\",\"type\":\"LinearAxis\"}],\"renderers\":[{\"id\":\"7a6f34fc-c614-46b6-ae60-715525c794f3\",\"type\":\"LinearAxis\"},{\"id\":\"ad030d03-de47-445b-bfc8-20fbab3b9aa2\",\"type\":\"Grid\"},{\"id\":\"5db9b868-c3bf-43b5-9218-a2d12dd7a621\",\"type\":\"LinearAxis\"},{\"id\":\"59503486-cead-4822-b1b1-139cb4941228\",\"type\":\"Grid\"},{\"id\":\"45bf1765-b05b-438e-a5d7-de4901c804d0\",\"type\":\"BoxAnnotation\"},{\"id\":\"f8992f5e-fa3f-40f7-b7fe-707ce60f3538\",\"type\":\"GlyphRenderer\"}],\"title\":\"Speeds \",\"tool_events\":{\"id\":\"0367cca0-8db4-4c5c-9ed8-6626858fdd12\",\"type\":\"ToolEvents\"},\"tools\":[{\"id\":\"c8c3c4c1-dc8d-4187-ae10-62e80bfbbb82\",\"type\":\"PanTool\"},{\"id\":\"a8866e9d-8390-4f22-8472-cb906f247bc3\",\"type\":\"WheelZoomTool\"},{\"id\":\"433a7a08-0103-4cb5-8a27-5f5c0b328162\",\"type\":\"BoxZoomTool\"},{\"id\":\"e79b21bc-5a75-4b62-96a2-b0e99438b48b\",\"type\":\"PreviewSaveTool\"},{\"id\":\"3860aa6d-281a-4242-9013-bcd81d84d3ab\",\"type\":\"ResizeTool\"},{\"id\":\"7f6253cb-f1c3-4bf4-9e37-2a3d9a6c69c9\",\"type\":\"ResetTool\"},{\"id\":\"a14193e7-93b5-4f78-891d-1ba81c5cbd95\",\"type\":\"HelpTool\"}],\"x_range\":{\"id\":\"dcd5c29c-1a94-4539-8bfe-3bfd517f1741\",\"type\":\"DataRange1d\"},\"y_range\":{\"id\":\"a1a87dda-0bd5-4169-a6f2-e1598088a759\",\"type\":\"DataRange1d\"}},\"id\":\"eff7255c-1733-4b9b-9aff-2a35e958bad3\",\"subtype\":\"Figure\",\"type\":\"Plot\"},{\"attributes\":{\"axis_label\":\"Minutes per run\",\"formatter\":{\"id\":\"3c963d02-174f-4e0a-8955-710a7dcfb238\",\"type\":\"DatetimeTickFormatter\"},\"plot\":{\"id\":\"cb4413bc-55e9-4185-bca4-550f1930a2fe\",\"subtype\":\"Figure\",\"type\":\"Plot\"},\"ticker\":{\"id\":\"a69bbe5f-9502-4efc-a268-6713a10d96f8\",\"type\":\"DatetimeTicker\"}},\"id\":\"d491ccee-9342-4caa-8999-18dc092f9a76\",\"type\":\"DatetimeAxis\"},{\"attributes\":{},\"id\":\"0cb3fb64-0537-42c8-a1d8-b4691eff6b80\",\"type\":\"BasicTickFormatter\"},{\"attributes\":{\"overlay\":{\"id\":\"bfabf604-05cb-4c3c-b00e-070cb10e632c\",\"type\":\"BoxAnnotation\"},\"plot\":{\"id\":\"47d9db68-6667-4d6f-94bf-96cefa7ef01a\",\"subtype\":\"Figure\",\"type\":\"Plot\"}},\"id\":\"2bbff8f1-b5f2-4bcc-863c-41ec14a326e8\",\"type\":\"BoxZoomTool\"},{\"attributes\":{\"callback\":null,\"column_names\":[\"y\",\"x\"],\"data\":{\"x\":[1465328243000.0,1428148529000.0,1463844198000.0,1415554211000.0,1414697951000.0,1434131854000.0,1425920018000.0,1439056606000.0,1438106993000.0,1410246399000.0,1457113081000.0,1410099387000.0,1436643161000.0,1462128356000.0,1466880893000.0,1443172413000.0,1424372257000.0,1464635172000.0,1438457322000.0,1420981616000.0,1412445070000.0,1431286224000.0,1465587240000.0,1444075724000.0,1428233258000.0,1425674543000.0,1426191183000.0,1426607916000.0,1459889614000.0,1422467747000.0,1465060160000.0,1418056433000.0,1466349240000.0,1420741859000.0,1440791953000.0,1421776526000.0,1411542030000.0,1446030451000.0,1411929948000.0,1411201027000.0,1436301721000.0,1430762639000.0,1410547403000.0,1422038969000.0],\"y\":[5869.758041685876,2050.294537996982,5673.724969564729,5493.705520609242,5936.597828117186,4466.736025644979,8747.538975053558,7583.492622425234,4482.126354346572,1256.0139437106257,38.50415036853844,1465.8603370305834,5980.435447792143,5678.105548248082,5641.157399618419,1848.3031448360637,2102.6866123651434,4686.257052728707,9468.497064399835,4437.458852924772,5637.941600178236,5976.531944856669,10040.460857166941,9377.080509775602,4927.336038861122,12543.342213664968,9053.550749702497,9066.96676016255,9355.976346881262,6733.926622101581,5690.823548807764,3787.3912574156557,8943.501144715288,10096.597395845707,12190.74237889001,8190.534493570851,5721.8997620119135,7650.115555373454,14.964854228276854,2732.913143192231,4069.3537789534007,4580.658855378932,7770.535908053509,13061.254042482593]}},\"id\":\"53eabab5-04cf-49af-934c-f86a2a33750c\",\"type\":\"ColumnDataSource\"},{\"attributes\":{\"plot\":{\"id\":\"cb4413bc-55e9-4185-bca4-550f1930a2fe\",\"subtype\":\"Figure\",\"type\":\"Plot\"}},\"id\":\"bce049c5-9440-4a3e-a0f5-ba83b055ecc7\",\"type\":\"ResizeTool\"},{\"attributes\":{\"data_source\":{\"id\":\"d672d858-f1f5-40e2-bccb-e6c30a9b552f\",\"type\":\"ColumnDataSource\"},\"glyph\":{\"id\":\"14051f6b-37d1-4e46-b0bf-bae7d7adb837\",\"type\":\"Circle\"},\"hover_glyph\":null,\"nonselection_glyph\":{\"id\":\"7812fe91-8a74-45c1-ba3a-b4183fb28883\",\"type\":\"Circle\"},\"selection_glyph\":null},\"id\":\"f8992f5e-fa3f-40f7-b7fe-707ce60f3538\",\"type\":\"GlyphRenderer\"},{\"attributes\":{},\"id\":\"15335688-a81f-40ff-95dc-7c9e330c9003\",\"type\":\"BasicTickFormatter\"},{\"attributes\":{\"days\":[1,2,3,4,5,6,7,8,9,10,11,12,13,14,15,16,17,18,19,20,21,22,23,24,25,26,27,28,29,30,31]},\"id\":\"5b40aed5-965e-4270-950e-f799fc16e742\",\"type\":\"DaysTicker\"},{\"attributes\":{\"months\":[0,2,4,6,8,10]},\"id\":\"b56a6094-0021-4dac-bab6-8cf728f711c7\",\"type\":\"MonthsTicker\"},{\"attributes\":{\"background_fill_color\":{\"value\":\"#E8DDCB\"},\"below\":[{\"id\":\"2baa7298-e355-4b71-a892-ff9ba0136680\",\"type\":\"DatetimeAxis\"}],\"left\":[{\"id\":\"b7024f5c-1421-4667-86f8-09c882af3972\",\"type\":\"LinearAxis\"}],\"renderers\":[{\"id\":\"2baa7298-e355-4b71-a892-ff9ba0136680\",\"type\":\"DatetimeAxis\"},{\"id\":\"daeda99c-3ea9-4a42-8ea6-71ade448c3ad\",\"type\":\"Grid\"},{\"id\":\"b7024f5c-1421-4667-86f8-09c882af3972\",\"type\":\"LinearAxis\"},{\"id\":\"0de8221d-71c6-47a0-84c2-df64a362fd8c\",\"type\":\"Grid\"},{\"id\":\"56e83950-762d-4148-b712-1f4903f880c9\",\"type\":\"BoxAnnotation\"},{\"id\":\"ee08c30b-cbe4-4c9e-91f0-a940c5488ae5\",\"type\":\"GlyphRenderer\"}],\"title\":\"Distances run over time\",\"tool_events\":{\"id\":\"f4d96e15-3ee2-4046-bca6-347f877183a2\",\"type\":\"ToolEvents\"},\"tools\":[{\"id\":\"3c31a444-41b2-4253-9c17-f48ae0d21497\",\"type\":\"PanTool\"},{\"id\":\"4abf66b3-513e-4b44-a569-c76168c129c2\",\"type\":\"WheelZoomTool\"},{\"id\":\"c985c7a0-4854-4894-bcb8-ed1a493545fe\",\"type\":\"BoxZoomTool\"},{\"id\":\"49ef7596-1532-4253-8d08-9ba93187d0c6\",\"type\":\"PreviewSaveTool\"},{\"id\":\"a6fb333b-b2fc-4a21-8a26-c530f1e4579f\",\"type\":\"ResizeTool\"},{\"id\":\"6bd70f98-ec60-4697-b28b-2a8adc8e8083\",\"type\":\"ResetTool\"},{\"id\":\"ee574f0c-4d1d-4e46-bba8-8077013d5a89\",\"type\":\"HelpTool\"}],\"x_range\":{\"id\":\"bcb9940b-7513-42e7-aa2b-55b8365e9a54\",\"type\":\"DataRange1d\"},\"y_range\":{\"id\":\"63398572-11a6-4ed2-bd84-eefecd3e7cff\",\"type\":\"DataRange1d\"}},\"id\":\"1bf6407e-b031-4d1c-9898-000835fea216\",\"subtype\":\"Figure\",\"type\":\"Plot\"},{\"attributes\":{\"axis_label\":\"Minutes per run\",\"formatter\":{\"id\":\"4c38f764-94b3-4985-8e8a-4a8bfb364e14\",\"type\":\"BasicTickFormatter\"},\"plot\":{\"id\":\"47d9db68-6667-4d6f-94bf-96cefa7ef01a\",\"subtype\":\"Figure\",\"type\":\"Plot\"},\"ticker\":{\"id\":\"38e42651-b7c3-4124-b87f-55c7faefeac4\",\"type\":\"BasicTicker\"}},\"id\":\"8ca983a5-a4e4-42aa-869e-f69c603bef15\",\"type\":\"LinearAxis\"},{\"attributes\":{\"overlay\":{\"id\":\"d678aad6-61c6-4fa8-a6ba-cb3bdd76bfa6\",\"type\":\"BoxAnnotation\"},\"plot\":{\"id\":\"f7a8c707-9822-4353-8e3c-a473ca5c8cba\",\"subtype\":\"Figure\",\"type\":\"Plot\"}},\"id\":\"e5c3aad3-0713-4b8d-874a-cc47a4fa12f0\",\"type\":\"BoxZoomTool\"},{\"attributes\":{\"days\":[1,8,15,22]},\"id\":\"8e80769a-e04e-4767-95c2-bf14011e8d06\",\"type\":\"DaysTicker\"},{\"attributes\":{\"overlay\":{\"id\":\"83778235-5fa1-43a8-8860-8d54d2e12a27\",\"type\":\"BoxAnnotation\"},\"plot\":{\"id\":\"9722979a-11f6-49ae-a8b8-02588ac608f9\",\"subtype\":\"Figure\",\"type\":\"Plot\"}},\"id\":\"22c4d5a6-8139-4b27-a705-7d1977ec31c1\",\"type\":\"BoxZoomTool\"},{\"attributes\":{\"max_interval\":500.0,\"num_minor_ticks\":0},\"id\":\"418a7fb8-eb13-495d-907f-bc8f3f1dc1fb\",\"type\":\"AdaptiveTicker\"},{\"attributes\":{\"bottom_units\":\"screen\",\"fill_alpha\":{\"value\":0.5},\"fill_color\":{\"value\":\"lightgrey\"},\"left_units\":\"screen\",\"level\":\"overlay\",\"line_alpha\":{\"value\":1.0},\"line_color\":{\"value\":\"black\"},\"line_dash\":[4,4],\"line_width\":{\"value\":2},\"plot\":null,\"render_mode\":\"css\",\"right_units\":\"screen\",\"top_units\":\"screen\"},\"id\":\"bfabf604-05cb-4c3c-b00e-070cb10e632c\",\"type\":\"BoxAnnotation\"},{\"attributes\":{\"callback\":null},\"id\":\"64749673-5502-4def-9d9a-ecbf3e823d68\",\"type\":\"DataRange1d\"},{\"attributes\":{\"dimension\":1,\"plot\":{\"id\":\"e6ff8f7e-e3bc-4c70-82ed-e5e32be2eeb3\",\"subtype\":\"Figure\",\"type\":\"Plot\"},\"ticker\":{\"id\":\"fe8904fe-803e-4a7e-9bf8-24fefa3a60e4\",\"type\":\"BasicTicker\"}},\"id\":\"34275641-7d08-4ea4-abaf-00d9f8c1789b\",\"type\":\"Grid\"},{\"attributes\":{\"fill_color\":{\"value\":\"#1f77b4\"},\"line_color\":{\"value\":\"#1f77b4\"},\"x\":{\"field\":\"x\"},\"y\":{\"field\":\"y\"}},\"id\":\"1d085930-5272-4561-9c25-ab702d2ac46c\",\"type\":\"Circle\"},{\"attributes\":{\"plot\":{\"id\":\"1bf6407e-b031-4d1c-9898-000835fea216\",\"subtype\":\"Figure\",\"type\":\"Plot\"}},\"id\":\"4abf66b3-513e-4b44-a569-c76168c129c2\",\"type\":\"WheelZoomTool\"},{\"attributes\":{\"months\":[0,4,8]},\"id\":\"671db012-186b-4934-abee-4bcf603c1aca\",\"type\":\"MonthsTicker\"},{\"attributes\":{\"fill_alpha\":{\"value\":0.1},\"fill_color\":{\"value\":\"#1f77b4\"},\"line_alpha\":{\"value\":0.1},\"line_color\":{\"value\":\"#1f77b4\"},\"x\":{\"field\":\"x\"},\"y\":{\"field\":\"y\"}},\"id\":\"7812fe91-8a74-45c1-ba3a-b4183fb28883\",\"type\":\"Circle\"},{\"attributes\":{\"plot\":{\"id\":\"cb4413bc-55e9-4185-bca4-550f1930a2fe\",\"subtype\":\"Figure\",\"type\":\"Plot\"}},\"id\":\"9b5bf559-a109-4f32-b04c-d07afd582ef4\",\"type\":\"PanTool\"},{\"attributes\":{\"days\":[1,2,3,4,5,6,7,8,9,10,11,12,13,14,15,16,17,18,19,20,21,22,23,24,25,26,27,28,29,30,31]},\"id\":\"feecad2a-e893-47b2-8afe-41c38c228f7c\",\"type\":\"DaysTicker\"},{\"attributes\":{\"callback\":null,\"column_names\":[\"y\",\"x\"],\"data\":{\"x\":[46.766666666666666,18.55,52.36666666666667,55.833333333333336,64.25,38.75,78.13333333333334,64.8,40.333333333333336,9.433333333333334,0.016666666666666666,13.15,47.666666666666664,40.9,50.8,24.116666666666667,15.433333333333334,38.166666666666664,74.16666666666667,51.15,57.0,64.76666666666667,83.86666666666666,76.13333333333334,47.18333333333333,120.31666666666666,77.71666666666667,76.01666666666667,82.71666666666667,67.43333333333334,81.68333333333334,36.65,102.55,117.13333333333334,105.55,89.56666666666666,61.45,73.65,0.5333333333333333,22.75,28.95,37.13333333333333,69.53333333333333,125.35],\"y\":[5869.758041685876,2050.294537996982,5673.724969564729,5493.705520609242,5936.597828117186,4466.736025644979,8747.538975053558,7583.492622425234,4482.126354346572,1256.0139437106257,38.50415036853844,1465.8603370305834,5980.435447792143,5678.105548248082,5641.157399618419,1848.3031448360637,2102.6866123651434,4686.257052728707,9468.497064399835,4437.458852924772,5637.941600178236,5976.531944856669,10040.460857166941,9377.080509775602,4927.336038861122,12543.342213664968,9053.550749702497,9066.96676016255,9355.976346881262,6733.926622101581,5690.823548807764,3787.3912574156557,8943.501144715288,10096.597395845707,12190.74237889001,8190.534493570851,5721.8997620119135,7650.115555373454,14.964854228276854,2732.913143192231,4069.3537789534007,4580.658855378932,7770.535908053509,13061.254042482593]}},\"id\":\"b6f5399c-644a-4ce7-9750-a6acb7c3d2b0\",\"type\":\"ColumnDataSource\"},{\"attributes\":{\"plot\":{\"id\":\"47d9db68-6667-4d6f-94bf-96cefa7ef01a\",\"subtype\":\"Figure\",\"type\":\"Plot\"}},\"id\":\"11a6c4f6-39e7-46d2-a7b9-75ebf3df5c9a\",\"type\":\"ResetTool\"},{\"attributes\":{\"months\":[0,1,2,3,4,5,6,7,8,9,10,11]},\"id\":\"038ca631-13f4-4e4a-8bb6-6c9235567725\",\"type\":\"MonthsTicker\"},{\"attributes\":{},\"id\":\"7306307b-ab58-414d-ab8a-bd2edfdb837f\",\"type\":\"BasicTicker\"},{\"attributes\":{\"dimension\":1,\"plot\":{\"id\":\"cb4413bc-55e9-4185-bca4-550f1930a2fe\",\"subtype\":\"Figure\",\"type\":\"Plot\"},\"ticker\":{\"id\":\"cbbd812d-aef5-4821-ad49-f03dc4be7224\",\"type\":\"BasicTicker\"}},\"id\":\"0acd4831-33a4-4480-9a23-1e2f87b004ec\",\"type\":\"Grid\"},{\"attributes\":{\"background_fill_color\":{\"value\":\"#E8DDCB\"},\"below\":[{\"id\":\"d491ccee-9342-4caa-8999-18dc092f9a76\",\"type\":\"DatetimeAxis\"}],\"left\":[{\"id\":\"2eb3c335-d487-4b50-a03a-6059903c49c7\",\"type\":\"LinearAxis\"}],\"renderers\":[{\"id\":\"d491ccee-9342-4caa-8999-18dc092f9a76\",\"type\":\"DatetimeAxis\"},{\"id\":\"8e3c7688-0ed4-4f1b-bec3-3e9b7b19ccd6\",\"type\":\"Grid\"},{\"id\":\"2eb3c335-d487-4b50-a03a-6059903c49c7\",\"type\":\"LinearAxis\"},{\"id\":\"0acd4831-33a4-4480-9a23-1e2f87b004ec\",\"type\":\"Grid\"},{\"id\":\"da3eb607-716c-45f2-8375-8f2bad204265\",\"type\":\"BoxAnnotation\"},{\"id\":\"2587fd00-7637-40bd-8e9a-4a4a0d92d8f3\",\"type\":\"GlyphRenderer\"}],\"title\":\"Speeds \",\"tool_events\":{\"id\":\"fe32d7f1-0e2b-4024-a9b6-6f180dcef175\",\"type\":\"ToolEvents\"},\"tools\":[{\"id\":\"9b5bf559-a109-4f32-b04c-d07afd582ef4\",\"type\":\"PanTool\"},{\"id\":\"2f2bb30b-70ba-4fc0-8cb7-06da913a36ef\",\"type\":\"WheelZoomTool\"},{\"id\":\"851110b7-bde2-4d70-af72-3390452dcb16\",\"type\":\"BoxZoomTool\"},{\"id\":\"d1cbc51b-5e88-4549-a634-190ab73965b1\",\"type\":\"PreviewSaveTool\"},{\"id\":\"bce049c5-9440-4a3e-a0f5-ba83b055ecc7\",\"type\":\"ResizeTool\"},{\"id\":\"edd82c4d-b8c8-401c-a257-f51ac7f63c0f\",\"type\":\"ResetTool\"},{\"id\":\"29ec538e-1a7f-4245-a833-aa0622320553\",\"type\":\"HelpTool\"}],\"x_range\":{\"id\":\"e1ab2f95-4f89-4dd4-9609-8666e931c7e9\",\"type\":\"DataRange1d\"},\"y_range\":{\"id\":\"9714d328-2c7b-43f6-b7d6-f822b46edf78\",\"type\":\"DataRange1d\"}},\"id\":\"cb4413bc-55e9-4185-bca4-550f1930a2fe\",\"subtype\":\"Figure\",\"type\":\"Plot\"},{\"attributes\":{\"plot\":{\"id\":\"e6ff8f7e-e3bc-4c70-82ed-e5e32be2eeb3\",\"subtype\":\"Figure\",\"type\":\"Plot\"}},\"id\":\"1faf734a-7b44-4a5a-a2da-4a96588d7698\",\"type\":\"WheelZoomTool\"},{\"attributes\":{\"days\":[1,8,15,22]},\"id\":\"8960fb6c-d369-45f7-8e3b-8a6f51e8d967\",\"type\":\"DaysTicker\"},{\"attributes\":{\"fill_color\":{\"value\":\"#1f77b4\"},\"line_color\":{\"value\":\"#1f77b4\"},\"x\":{\"field\":\"x\"},\"y\":{\"field\":\"y\"}},\"id\":\"485f9b03-beee-42c5-b1c3-662772eb87e7\",\"type\":\"Circle\"},{\"attributes\":{\"plot\":{\"id\":\"eff7255c-1733-4b9b-9aff-2a35e958bad3\",\"subtype\":\"Figure\",\"type\":\"Plot\"},\"ticker\":{\"id\":\"36d74d6b-3ac2-458e-801f-a555085867cb\",\"type\":\"BasicTicker\"}},\"id\":\"ad030d03-de47-445b-bfc8-20fbab3b9aa2\",\"type\":\"Grid\"},{\"attributes\":{},\"id\":\"4a4f3c96-dc7b-401d-bd7f-2cb00646624c\",\"type\":\"ToolEvents\"},{\"attributes\":{},\"id\":\"cbbd812d-aef5-4821-ad49-f03dc4be7224\",\"type\":\"BasicTicker\"},{\"attributes\":{\"axis_label\":\"Distance (km)\",\"formatter\":{\"id\":\"0a81c69d-8dfa-4620-a997-8e2e8b4842cf\",\"type\":\"BasicTickFormatter\"},\"plot\":{\"id\":\"eff7255c-1733-4b9b-9aff-2a35e958bad3\",\"subtype\":\"Figure\",\"type\":\"Plot\"},\"ticker\":{\"id\":\"36d74d6b-3ac2-458e-801f-a555085867cb\",\"type\":\"BasicTicker\"}},\"id\":\"7a6f34fc-c614-46b6-ae60-715525c794f3\",\"type\":\"LinearAxis\"},{\"attributes\":{},\"id\":\"36d74d6b-3ac2-458e-801f-a555085867cb\",\"type\":\"BasicTicker\"},{\"attributes\":{\"plot\":{\"id\":\"02616015-955c-4d91-bda1-6095adae93c6\",\"subtype\":\"Figure\",\"type\":\"Plot\"}},\"id\":\"37c4d514-2cf9-47bc-bc33-2c9d69b1f54a\",\"type\":\"PreviewSaveTool\"},{\"attributes\":{\"months\":[0,6]},\"id\":\"939526e6-635e-4d75-8389-86d38e165970\",\"type\":\"MonthsTicker\"},{\"attributes\":{\"num_minor_ticks\":5},\"id\":\"d73926df-ef10-4bb9-ac57-84efacbec30a\",\"type\":\"DatetimeTicker\"},{\"attributes\":{\"plot\":{\"id\":\"9722979a-11f6-49ae-a8b8-02588ac608f9\",\"subtype\":\"Figure\",\"type\":\"Plot\"}},\"id\":\"cbc03df1-bc1e-405d-8848-82941a8b29c5\",\"type\":\"ResetTool\"},{\"attributes\":{\"plot\":{\"id\":\"1bf6407e-b031-4d1c-9898-000835fea216\",\"subtype\":\"Figure\",\"type\":\"Plot\"},\"ticker\":{\"id\":\"c34f2b76-5070-43f7-b358-477452456485\",\"type\":\"DatetimeTicker\"}},\"id\":\"daeda99c-3ea9-4a42-8ea6-71ade448c3ad\",\"type\":\"Grid\"},{\"attributes\":{\"max_interval\":500.0,\"num_minor_ticks\":0},\"id\":\"94303fd1-d668-40c9-8380-49f002417f99\",\"type\":\"AdaptiveTicker\"},{\"attributes\":{\"axis_label\":\"Minutes per run\",\"formatter\":{\"id\":\"733547ce-4a7c-46c4-9d23-a4e323036960\",\"type\":\"BasicTickFormatter\"},\"plot\":{\"id\":\"02616015-955c-4d91-bda1-6095adae93c6\",\"subtype\":\"Figure\",\"type\":\"Plot\"},\"ticker\":{\"id\":\"7306307b-ab58-414d-ab8a-bd2edfdb837f\",\"type\":\"BasicTicker\"}},\"id\":\"d3ac69fe-a349-4faf-82c6-244868d1f073\",\"type\":\"LinearAxis\"},{\"attributes\":{\"plot\":{\"id\":\"f7a8c707-9822-4353-8e3c-a473ca5c8cba\",\"subtype\":\"Figure\",\"type\":\"Plot\"}},\"id\":\"aabae16e-8679-42eb-ac24-852fc0381154\",\"type\":\"PreviewSaveTool\"},{\"attributes\":{\"data_source\":{\"id\":\"4c305d6c-9b57-40f1-893c-da5641936ed3\",\"type\":\"ColumnDataSource\"},\"glyph\":{\"id\":\"0aae2a19-813c-454f-a179-ffd6bba92bc7\",\"type\":\"Circle\"},\"hover_glyph\":null,\"nonselection_glyph\":{\"id\":\"a6bbbef3-5854-4459-b39f-4fe8b7652c95\",\"type\":\"Circle\"},\"selection_glyph\":null},\"id\":\"bb20a4bc-dc0e-40bd-856e-64da47feee12\",\"type\":\"GlyphRenderer\"},{\"attributes\":{\"months\":[0,4,8]},\"id\":\"d1e7457e-5c49-4a85-ab84-bfb09e22c120\",\"type\":\"MonthsTicker\"},{\"attributes\":{\"months\":[0,1,2,3,4,5,6,7,8,9,10,11]},\"id\":\"148ff7a5-90dd-497a-8f6a-6c126c521fca\",\"type\":\"MonthsTicker\"},{\"attributes\":{\"plot\":{\"id\":\"47d9db68-6667-4d6f-94bf-96cefa7ef01a\",\"subtype\":\"Figure\",\"type\":\"Plot\"}},\"id\":\"9ea8ebf8-3716-431e-9d75-2cb9861095a1\",\"type\":\"ResizeTool\"},{\"attributes\":{\"callback\":null},\"id\":\"1e318d6e-359a-45cc-bb9e-2696bdaab9b5\",\"type\":\"DataRange1d\"},{\"attributes\":{\"axis_label\":\"Distance (m)\",\"formatter\":{\"id\":\"4748bb38-37f6-4db2-bc44-4025cea79a78\",\"type\":\"DatetimeTickFormatter\"},\"plot\":{\"id\":\"02616015-955c-4d91-bda1-6095adae93c6\",\"subtype\":\"Figure\",\"type\":\"Plot\"},\"ticker\":{\"id\":\"24eaf022-eab4-4c04-9673-abd0b946be77\",\"type\":\"DatetimeTicker\"}},\"id\":\"66fe199e-df10-4ea9-b55e-36315ec957db\",\"type\":\"DatetimeAxis\"},{\"attributes\":{\"num_minor_ticks\":5},\"id\":\"68f58d45-724d-4cfe-8a56-f4b0ed436918\",\"type\":\"DatetimeTicker\"},{\"attributes\":{\"plot\":{\"id\":\"eff7255c-1733-4b9b-9aff-2a35e958bad3\",\"subtype\":\"Figure\",\"type\":\"Plot\"}},\"id\":\"c8c3c4c1-dc8d-4187-ae10-62e80bfbbb82\",\"type\":\"PanTool\"},{\"attributes\":{\"plot\":{\"id\":\"1bf6407e-b031-4d1c-9898-000835fea216\",\"subtype\":\"Figure\",\"type\":\"Plot\"}},\"id\":\"3c31a444-41b2-4253-9c17-f48ae0d21497\",\"type\":\"PanTool\"},{\"attributes\":{\"bottom_units\":\"screen\",\"fill_alpha\":{\"value\":0.5},\"fill_color\":{\"value\":\"lightgrey\"},\"left_units\":\"screen\",\"level\":\"overlay\",\"line_alpha\":{\"value\":1.0},\"line_color\":{\"value\":\"black\"},\"line_dash\":[4,4],\"line_width\":{\"value\":2},\"plot\":null,\"render_mode\":\"css\",\"right_units\":\"screen\",\"top_units\":\"screen\"},\"id\":\"56e83950-762d-4148-b712-1f4903f880c9\",\"type\":\"BoxAnnotation\"},{\"attributes\":{\"plot\":{\"id\":\"9722979a-11f6-49ae-a8b8-02588ac608f9\",\"subtype\":\"Figure\",\"type\":\"Plot\"}},\"id\":\"69a84094-c111-4cae-b2ae-c986a08f0b78\",\"type\":\"ResizeTool\"},{\"attributes\":{\"plot\":{\"id\":\"e6ff8f7e-e3bc-4c70-82ed-e5e32be2eeb3\",\"subtype\":\"Figure\",\"type\":\"Plot\"}},\"id\":\"a3edd5ab-ff69-4acd-968c-33e7047a9dbc\",\"type\":\"HelpTool\"},{\"attributes\":{},\"id\":\"238bb470-6a36-4a1f-a815-ec8d067094a0\",\"type\":\"YearsTicker\"},{\"attributes\":{\"fill_color\":{\"value\":\"#1f77b4\"},\"line_color\":{\"value\":\"#1f77b4\"},\"x\":{\"field\":\"x\"},\"y\":{\"field\":\"y\"}},\"id\":\"e9814c1e-83d0-4643-8553-1086049de01f\",\"type\":\"Circle\"},{\"attributes\":{},\"id\":\"197cebba-e7df-4f4d-966b-012a6dc3c185\",\"type\":\"YearsTicker\"},{\"attributes\":{\"overlay\":{\"id\":\"8d6d0309-cd23-426d-a2fb-7acc44941b7e\",\"type\":\"BoxAnnotation\"},\"plot\":{\"id\":\"02616015-955c-4d91-bda1-6095adae93c6\",\"subtype\":\"Figure\",\"type\":\"Plot\"}},\"id\":\"c7e6008b-1d4a-40b1-9441-d86c1a8e4746\",\"type\":\"BoxZoomTool\"},{\"attributes\":{\"fill_alpha\":{\"value\":0.1},\"fill_color\":{\"value\":\"#1f77b4\"},\"line_alpha\":{\"value\":0.1},\"line_color\":{\"value\":\"#1f77b4\"},\"x\":{\"field\":\"x\"},\"y\":{\"field\":\"y\"}},\"id\":\"48bbf5af-0a11-41af-86cd-0a2dcf8d549d\",\"type\":\"Circle\"},{\"attributes\":{\"plot\":{\"id\":\"f7a8c707-9822-4353-8e3c-a473ca5c8cba\",\"subtype\":\"Figure\",\"type\":\"Plot\"}},\"id\":\"26599e4c-4596-4276-af5c-21757de581f4\",\"type\":\"WheelZoomTool\"},{\"attributes\":{\"plot\":{\"id\":\"e01bd413-9d11-4564-baf1-846a75806c8b\",\"subtype\":\"Figure\",\"type\":\"Plot\"},\"ticker\":{\"id\":\"fc14ec69-1883-4261-a5fc-8c3154372eda\",\"type\":\"BasicTicker\"}},\"id\":\"42452d1d-2009-412e-b9d5-8371776efb42\",\"type\":\"Grid\"},{\"attributes\":{\"plot\":{\"id\":\"02616015-955c-4d91-bda1-6095adae93c6\",\"subtype\":\"Figure\",\"type\":\"Plot\"}},\"id\":\"f17b4661-e456-4b54-9b01-03c7160ebf04\",\"type\":\"PanTool\"},{\"attributes\":{\"overlay\":{\"id\":\"45bf1765-b05b-438e-a5d7-de4901c804d0\",\"type\":\"BoxAnnotation\"},\"plot\":{\"id\":\"eff7255c-1733-4b9b-9aff-2a35e958bad3\",\"subtype\":\"Figure\",\"type\":\"Plot\"}},\"id\":\"433a7a08-0103-4cb5-8a27-5f5c0b328162\",\"type\":\"BoxZoomTool\"},{\"attributes\":{\"plot\":{\"id\":\"cb4413bc-55e9-4185-bca4-550f1930a2fe\",\"subtype\":\"Figure\",\"type\":\"Plot\"}},\"id\":\"d1cbc51b-5e88-4549-a634-190ab73965b1\",\"type\":\"PreviewSaveTool\"},{\"attributes\":{},\"id\":\"733547ce-4a7c-46c4-9d23-a4e323036960\",\"type\":\"BasicTickFormatter\"},{\"attributes\":{\"plot\":{\"id\":\"02616015-955c-4d91-bda1-6095adae93c6\",\"subtype\":\"Figure\",\"type\":\"Plot\"}},\"id\":\"f1d9edb9-6cd9-4b45-ae79-3fc19fb6cd43\",\"type\":\"HelpTool\"},{\"attributes\":{\"overlay\":{\"id\":\"25925d73-3fab-4f27-bf88-3a9ad45f75bc\",\"type\":\"BoxAnnotation\"},\"plot\":{\"id\":\"e6ff8f7e-e3bc-4c70-82ed-e5e32be2eeb3\",\"subtype\":\"Figure\",\"type\":\"Plot\"}},\"id\":\"3b18c0cd-3e45-4e71-8a87-f0c3ea0e976f\",\"type\":\"BoxZoomTool\"},{\"attributes\":{\"fill_alpha\":{\"value\":0.1},\"fill_color\":{\"value\":\"#1f77b4\"},\"line_alpha\":{\"value\":0.1},\"line_color\":{\"value\":\"#1f77b4\"},\"x\":{\"field\":\"x\"},\"y\":{\"field\":\"y\"}},\"id\":\"eb1b6744-9ea1-4dbc-aa5e-acb7a3a0a878\",\"type\":\"Circle\"},{\"attributes\":{\"callback\":null},\"id\":\"bcb9940b-7513-42e7-aa2b-55b8365e9a54\",\"type\":\"DataRange1d\"},{\"attributes\":{\"callback\":null},\"id\":\"2a769f87-3783-49a6-8a77-33f9971fb237\",\"type\":\"DataRange1d\"},{\"attributes\":{},\"id\":\"691f5573-5623-4155-8053-f09994c9c516\",\"type\":\"BasicTicker\"},{\"attributes\":{\"bottom_units\":\"screen\",\"fill_alpha\":{\"value\":0.5},\"fill_color\":{\"value\":\"lightgrey\"},\"left_units\":\"screen\",\"level\":\"overlay\",\"line_alpha\":{\"value\":1.0},\"line_color\":{\"value\":\"black\"},\"line_dash\":[4,4],\"line_width\":{\"value\":2},\"plot\":null,\"render_mode\":\"css\",\"right_units\":\"screen\",\"top_units\":\"screen\"},\"id\":\"9b424962-23f3-4f62-9702-2b54c02d300a\",\"type\":\"BoxAnnotation\"},{\"attributes\":{\"max_interval\":500.0,\"num_minor_ticks\":0},\"id\":\"7be858ea-012a-4958-9049-51693a6270f3\",\"type\":\"AdaptiveTicker\"},{\"attributes\":{\"callback\":null},\"id\":\"e1ab2f95-4f89-4dd4-9609-8666e931c7e9\",\"type\":\"DataRange1d\"},{\"attributes\":{\"plot\":{\"id\":\"9722979a-11f6-49ae-a8b8-02588ac608f9\",\"subtype\":\"Figure\",\"type\":\"Plot\"}},\"id\":\"363c4251-8125-4e3c-8c00-31bc5725c6d0\",\"type\":\"PanTool\"},{\"attributes\":{},\"id\":\"f4d96e15-3ee2-4046-bca6-347f877183a2\",\"type\":\"ToolEvents\"},{\"attributes\":{\"plot\":{\"id\":\"1bf6407e-b031-4d1c-9898-000835fea216\",\"subtype\":\"Figure\",\"type\":\"Plot\"}},\"id\":\"6bd70f98-ec60-4697-b28b-2a8adc8e8083\",\"type\":\"ResetTool\"},{\"attributes\":{\"callback\":null,\"column_names\":[\"y\",\"x\"],\"data\":{\"x\":[5.869758041685876,2.050294537996982,5.673724969564729,5.493705520609242,5.936597828117185,4.4667360256449795,8.747538975053558,7.583492622425234,4.482126354346572,1.2560139437106257,0.03850415036853844,1.4658603370305834,5.980435447792144,5.678105548248082,5.641157399618419,1.8483031448360636,2.1026866123651433,4.686257052728707,9.468497064399834,4.437458852924772,5.637941600178236,5.976531944856669,10.040460857166941,9.377080509775602,4.927336038861122,12.543342213664967,9.053550749702497,9.06696676016255,9.355976346881262,6.733926622101581,5.6908235488077645,3.787391257415656,8.943501144715288,10.096597395845707,12.190742378890011,8.190534493570851,5.721899762011914,7.650115555373454,0.014964854228276854,2.732913143192231,4.069353778953401,4.580658855378932,7.7705359080535095,13.061254042482593],\"y\":[0.7794444444444445,0.30916666666666665,0.8727777777777778,0.9305555555555556,1.0708333333333333,0.6458333333333334,1.3022222222222222,1.08,0.6722222222222223,0.15722222222222224,0.0002777777777777778,0.21916666666666668,0.7944444444444444,0.6816666666666666,0.8466666666666667,0.40194444444444444,0.25722222222222224,0.6361111111111111,1.2361111111111112,0.8525,0.95,1.0794444444444444,1.3977777777777778,1.268888888888889,0.7863888888888889,2.0052777777777777,1.2952777777777778,1.2669444444444444,1.378611111111111,1.123888888888889,1.361388888888889,0.6108333333333333,1.7091666666666667,1.9522222222222223,1.7591666666666668,1.4927777777777778,1.0241666666666667,1.2275,0.008888888888888889,0.37916666666666665,0.4825,0.6188888888888889,1.1588888888888889,2.089166666666667]}},\"id\":\"024f5a04-9dd3-4d1e-a97a-4b652f06ae9f\",\"type\":\"ColumnDataSource\"},{\"attributes\":{\"fill_alpha\":{\"value\":0.1},\"fill_color\":{\"value\":\"#1f77b4\"},\"line_alpha\":{\"value\":0.1},\"line_color\":{\"value\":\"#1f77b4\"},\"x\":{\"field\":\"x\"},\"y\":{\"field\":\"y\"}},\"id\":\"1fa79f27-337f-4da1-bf6a-cc467721490b\",\"type\":\"Circle\"},{\"attributes\":{\"plot\":{\"id\":\"e6ff8f7e-e3bc-4c70-82ed-e5e32be2eeb3\",\"subtype\":\"Figure\",\"type\":\"Plot\"}},\"id\":\"8069731d-2e1e-485c-982a-7fa1937e1c1e\",\"type\":\"PreviewSaveTool\"},{\"attributes\":{\"plot\":{\"id\":\"02616015-955c-4d91-bda1-6095adae93c6\",\"subtype\":\"Figure\",\"type\":\"Plot\"}},\"id\":\"33571828-a4bb-4dbc-90cf-b7dab5b773cb\",\"type\":\"ResetTool\"},{\"attributes\":{\"plot\":{\"id\":\"eff7255c-1733-4b9b-9aff-2a35e958bad3\",\"subtype\":\"Figure\",\"type\":\"Plot\"}},\"id\":\"3860aa6d-281a-4242-9013-bcd81d84d3ab\",\"type\":\"ResizeTool\"},{\"attributes\":{},\"id\":\"d5a58d4e-840e-4a61-8c23-6f25b1630c5d\",\"type\":\"ToolEvents\"},{\"attributes\":{\"plot\":{\"id\":\"e01bd413-9d11-4564-baf1-846a75806c8b\",\"subtype\":\"Figure\",\"type\":\"Plot\"}},\"id\":\"9406b72d-0189-4e3b-9236-953b7c1659c3\",\"type\":\"ResizeTool\"},{\"attributes\":{\"days\":[1,8,15,22]},\"id\":\"f8d340fd-5ca9-4cb8-8b08-fafa1c7bbb4d\",\"type\":\"DaysTicker\"},{\"attributes\":{\"plot\":{\"id\":\"e01bd413-9d11-4564-baf1-846a75806c8b\",\"subtype\":\"Figure\",\"type\":\"Plot\"}},\"id\":\"2d429588-eef8-4088-b564-0fec373ad4ff\",\"type\":\"ResetTool\"},{\"attributes\":{\"fill_color\":{\"value\":\"#1f77b4\"},\"line_color\":{\"value\":\"#1f77b4\"},\"x\":{\"field\":\"x\"},\"y\":{\"field\":\"y\"}},\"id\":\"74a7a3b3-5e5d-445e-abb4-39c700207b8c\",\"type\":\"Circle\"},{\"attributes\":{\"callback\":null},\"id\":\"a1a87dda-0bd5-4169-a6f2-e1598088a759\",\"type\":\"DataRange1d\"},{\"attributes\":{\"max_interval\":500.0,\"num_minor_ticks\":0},\"id\":\"6d9c156a-bbe0-4022-9c24-57e1227ddfbe\",\"type\":\"AdaptiveTicker\"},{\"attributes\":{\"months\":[0,2,4,6,8,10]},\"id\":\"5de0b80d-8f94-437b-9b74-b9f024b2efc1\",\"type\":\"MonthsTicker\"},{\"attributes\":{\"callback\":null},\"id\":\"14a51b79-d147-40a9-b6fe-a0d7e836ba03\",\"type\":\"DataRange1d\"},{\"attributes\":{\"plot\":{\"id\":\"f7a8c707-9822-4353-8e3c-a473ca5c8cba\",\"subtype\":\"Figure\",\"type\":\"Plot\"}},\"id\":\"10df739b-2c45-46c1-b5d1-70bf7d01b41f\",\"type\":\"ResetTool\"},{\"attributes\":{\"days\":[1,8,15,22]},\"id\":\"2d3d88bd-c665-484e-85b6-a6bd1dc9e64e\",\"type\":\"DaysTicker\"},{\"attributes\":{\"plot\":{\"id\":\"e01bd413-9d11-4564-baf1-846a75806c8b\",\"subtype\":\"Figure\",\"type\":\"Plot\"}},\"id\":\"6ac1636b-a082-4c13-9d86-3924f6ab3f5d\",\"type\":\"WheelZoomTool\"},{\"attributes\":{\"plot\":{\"id\":\"1bf6407e-b031-4d1c-9898-000835fea216\",\"subtype\":\"Figure\",\"type\":\"Plot\"}},\"id\":\"a6fb333b-b2fc-4a21-8a26-c530f1e4579f\",\"type\":\"ResizeTool\"},{\"attributes\":{\"bottom_units\":\"screen\",\"fill_alpha\":{\"value\":0.5},\"fill_color\":{\"value\":\"lightgrey\"},\"left_units\":\"screen\",\"level\":\"overlay\",\"line_alpha\":{\"value\":1.0},\"line_color\":{\"value\":\"black\"},\"line_dash\":[4,4],\"line_width\":{\"value\":2},\"plot\":null,\"render_mode\":\"css\",\"right_units\":\"screen\",\"top_units\":\"screen\"},\"id\":\"d678aad6-61c6-4fa8-a6ba-cb3bdd76bfa6\",\"type\":\"BoxAnnotation\"},{\"attributes\":{\"days\":[1,15]},\"id\":\"9b741edc-991f-4b9b-8c39-62c1ad0e9780\",\"type\":\"DaysTicker\"},{\"attributes\":{\"bottom_units\":\"screen\",\"fill_alpha\":{\"value\":0.5},\"fill_color\":{\"value\":\"lightgrey\"},\"left_units\":\"screen\",\"level\":\"overlay\",\"line_alpha\":{\"value\":1.0},\"line_color\":{\"value\":\"black\"},\"line_dash\":[4,4],\"line_width\":{\"value\":2},\"plot\":null,\"render_mode\":\"css\",\"right_units\":\"screen\",\"top_units\":\"screen\"},\"id\":\"25925d73-3fab-4f27-bf88-3a9ad45f75bc\",\"type\":\"BoxAnnotation\"},{\"attributes\":{},\"id\":\"a8989bba-1d63-4347-ae49-412a30fd6eeb\",\"type\":\"BasicTickFormatter\"},{\"attributes\":{},\"id\":\"361b0634-b508-49d7-bcd4-7f03f6bcd691\",\"type\":\"YearsTicker\"},{\"attributes\":{\"plot\":{\"id\":\"1bf6407e-b031-4d1c-9898-000835fea216\",\"subtype\":\"Figure\",\"type\":\"Plot\"}},\"id\":\"49ef7596-1532-4253-8d08-9ba93187d0c6\",\"type\":\"PreviewSaveTool\"},{\"attributes\":{},\"id\":\"b9f0884e-290c-4c87-93e2-1b8f10414385\",\"type\":\"DatetimeTickFormatter\"},{\"attributes\":{\"days\":[1,2,3,4,5,6,7,8,9,10,11,12,13,14,15,16,17,18,19,20,21,22,23,24,25,26,27,28,29,30,31]},\"id\":\"639ce4a5-acde-4fc2-9e91-6e4ecb90a8d9\",\"type\":\"DaysTicker\"},{\"attributes\":{\"callback\":null,\"column_names\":[\"y\",\"x\"],\"data\":{\"x\":[1466880893000.0,1466880895000.0,1466880898000.0,1466880911000.0,1466880918000.0,1466880929000.0,1466880933000.0,1466880936000.0,1466880939000.0,1466880942000.0,1466880945000.0,1466880948000.0,1466880951000.0,1466880954000.0,1466880957000.0,1466880960000.0,1466880964000.0,1466880967000.0,1466880970000.0,1466880973000.0,1466880976000.0,1466880980000.0,1466880983000.0,1466880987000.0,1466880991000.0,1466880995000.0,1466880999000.0,1466881003000.0,1466881006000.0,1466881009000.0,1466881012000.0,1466881015000.0,1466881018000.0,1466881021000.0,1466881024000.0,1466881027000.0,1466881031000.0,1466881034000.0,1466881038000.0,1466881071000.0,1466881074000.0,1466881077000.0,1466881080000.0,1466881082000.0,1466881085000.0,1466881088000.0,1466881091000.0,1466881094000.0,1466881097000.0,1466881100000.0,1466881103000.0,1466881106000.0,1466881109000.0,1466881112000.0,1466881116000.0,1466881138000.0,1466881141000.0,1466881144000.0,1466881147000.0,1466881150000.0,1466881153000.0,1466881156000.0,1466881159000.0,1466881162000.0,1466881165000.0,1466881168000.0,1466881171000.0,1466881175000.0,1466881178000.0,1466881181000.0,1466881184000.0,1466881187000.0,1466881190000.0,1466881193000.0,1466881196000.0,1466881200000.0,1466881214000.0,1466881222000.0,1466881226000.0,1466881229000.0,1466881232000.0,1466881235000.0,1466881238000.0,1466881241000.0,1466881244000.0,1466881247000.0,1466881250000.0,1466881253000.0,1466881256000.0,1466881259000.0,1466881262000.0,1466881265000.0,1466881268000.0,1466881271000.0,1466881274000.0,1466881285000.0,1466881301000.0,1466881304000.0,1466881307000.0,1466881309000.0,1466881312000.0,1466881315000.0,1466881318000.0,1466881322000.0,1466881325000.0,1466881328000.0,1466881331000.0,1466881335000.0,1466881350000.0,1466881358000.0,1466881361000.0,1466881364000.0,1466881367000.0,1466881370000.0,1466881373000.0,1466881376000.0,1466881379000.0,1466881383000.0,1466881386000.0,1466881389000.0,1466881392000.0,1466881396000.0,1466881400000.0,1466881403000.0,1466881406000.0,1466881409000.0,1466881412000.0,1466881437000.0,1466881447000.0,1466881451000.0,1466881454000.0,1466881457000.0,1466881460000.0,1466881463000.0,1466881466000.0,1466881469000.0,1466881472000.0,1466881475000.0,1466881478000.0,1466881480000.0,1466881483000.0,1466881486000.0,1466881489000.0,1466881492000.0,1466881495000.0,1466881498000.0,1466881501000.0,1466881504000.0,1466881507000.0,1466881510000.0,1466881513000.0,1466881516000.0,1466881520000.0,1466881523000.0,1466881526000.0,1466881530000.0,1466881534000.0,1466881544000.0,1466881556000.0,1466881564000.0,1466881571000.0,1466881578000.0,1466881586000.0,1466881597000.0,1466881604000.0,1466881613000.0,1466881621000.0,1466881624000.0,1466881627000.0,1466881631000.0,1466881635000.0,1466881639000.0,1466881643000.0,1466881647000.0,1466881651000.0,1466881655000.0,1466881659000.0,1466881663000.0,1466881683000.0,1466881690000.0,1466881694000.0,1466881698000.0,1466881702000.0,1466881707000.0,1466881712000.0,1466881717000.0,1466881722000.0,1466881726000.0,1466881732000.0,1466881737000.0,1466881741000.0,1466881746000.0,1466881751000.0,1466881759000.0,1466881769000.0,1466881780000.0,1466881789000.0,1466881797000.0,1466881807000.0,1466881813000.0,1466881817000.0,1466881821000.0,1466881826000.0,1466881868000.0,1466881872000.0,1466881877000.0,1466881881000.0,1466881885000.0,1466881889000.0,1466881893000.0,1466881897000.0,1466881903000.0,1466881908000.0,1466881913000.0,1466881919000.0,1466881945000.0,1466881957000.0,1466881961000.0,1466881965000.0,1466881970000.0,1466881997000.0,1466882002000.0,1466882040000.0,1466882045000.0,1466882050000.0,1466882056000.0,1466882061000.0,1466882067000.0,1466882072000.0,1466882076000.0,1466882080000.0,1466882083000.0,1466882087000.0,1466882092000.0,1466882097000.0,1466882102000.0,1466882107000.0,1466882111000.0,1466882144000.0,1466882166000.0,1466882175000.0,1466882183000.0,1466882222000.0,1466882326000.0,1466882332000.0,1466882336000.0,1466882339000.0,1466882342000.0,1466882345000.0,1466882348000.0,1466882352000.0,1466882356000.0,1466882360000.0,1466882364000.0,1466882368000.0,1466882373000.0,1466882378000.0,1466882383000.0,1466882387000.0,1466882391000.0,1466882395000.0,1466882399000.0,1466882404000.0,1466882420000.0,1466882424000.0,1466882428000.0,1466882432000.0,1466882436000.0,1466882441000.0,1466882446000.0,1466882452000.0,1466882456000.0,1466882460000.0,1466882464000.0,1466882468000.0,1466882472000.0,1466882476000.0,1466882480000.0,1466882485000.0,1466882490000.0,1466882494000.0,1466882500000.0,1466882506000.0,1466882511000.0,1466882518000.0,1466882527000.0,1466882540000.0,1466882545000.0,1466882550000.0,1466882555000.0,1466882562000.0,1466882568000.0,1466882573000.0,1466882578000.0,1466882584000.0,1466882589000.0,1466882604000.0,1466882643000.0,1466882654000.0,1466882662000.0,1466882666000.0,1466882669000.0,1466882673000.0,1466882677000.0,1466882681000.0,1466882687000.0,1466882692000.0,1466882697000.0,1466882732000.0,1466882737000.0,1466882743000.0,1466882748000.0,1466882752000.0,1466882758000.0,1466882764000.0,1466882770000.0,1466882799000.0,1466882803000.0,1466882806000.0,1466882809000.0,1466882812000.0,1466882816000.0,1466882820000.0,1466882824000.0,1466882829000.0,1466882832000.0,1466882835000.0,1466882839000.0,1466882842000.0,1466882846000.0,1466882850000.0,1466882854000.0,1466882858000.0,1466882863000.0,1466882867000.0,1466882871000.0,1466882876000.0,1466882883000.0,1466882892000.0,1466882902000.0,1466882933000.0,1466882937000.0,1466882941000.0,1466882945000.0,1466882949000.0,1466882953000.0,1466882957000.0,1466882961000.0,1466882965000.0,1466882969000.0,1466882993000.0,1466882997000.0,1466883001000.0,1466883005000.0,1466883009000.0,1466883014000.0,1466883019000.0,1466883024000.0,1466883028000.0,1466883032000.0,1466883036000.0,1466883040000.0,1466883044000.0,1466883048000.0,1466883052000.0,1466883057000.0,1466883062000.0,1466883082000.0,1466883098000.0,1466883102000.0,1466883106000.0,1466883109000.0,1466883112000.0,1466883116000.0,1466883120000.0,1466883124000.0,1466883129000.0,1466883135000.0,1466883142000.0,1466883150000.0,1466883161000.0,1466883169000.0,1466883174000.0,1466883179000.0,1466883183000.0,1466883186000.0,1466883189000.0,1466883193000.0,1466883196000.0,1466883199000.0,1466883203000.0,1466883209000.0,1466883213000.0,1466883217000.0,1466883221000.0,1466883225000.0,1466883229000.0,1466883233000.0,1466883238000.0,1466883243000.0,1466883247000.0,1466883250000.0,1466883253000.0,1466883257000.0,1466883260000.0,1466883264000.0,1466883269000.0,1466883274000.0,1466883296000.0,1466883301000.0,1466883304000.0,1466883308000.0,1466883314000.0,1466883319000.0,1466883323000.0,1466883326000.0,1466883329000.0,1466883333000.0,1466883337000.0,1466883341000.0,1466883345000.0,1466883349000.0,1466883353000.0,1466883358000.0,1466883363000.0,1466883368000.0,1466883374000.0,1466883380000.0,1466883385000.0,1466883390000.0,1466883394000.0,1466883399000.0,1466883413000.0,1466883430000.0,1466883439000.0,1466883448000.0,1466883452000.0,1466883456000.0,1466883460000.0,1466883464000.0,1466883468000.0,1466883473000.0,1466883478000.0,1466883483000.0,1466883489000.0,1466883494000.0,1466883498000.0,1466883502000.0,1466883507000.0,1466883513000.0,1466883518000.0,1466883523000.0,1466883558000.0,1466883562000.0,1466883566000.0,1466883570000.0,1466883574000.0,1466883578000.0,1466883582000.0,1466883587000.0,1466883592000.0,1466883598000.0,1466883605000.0,1466883612000.0,1466883620000.0,1466883630000.0,1466883642000.0,1466883650000.0,1466883659000.0,1466883667000.0,1466883676000.0,1466883684000.0,1466883692000.0,1466883700000.0,1466883709000.0,1466883719000.0,1466883728000.0,1466883736000.0,1466883743000.0,1466883753000.0,1466883763000.0,1466883772000.0,1466883781000.0,1466883789000.0,1466883799000.0,1466883807000.0,1466883817000.0,1466883828000.0,1466883836000.0,1466883844000.0,1466883852000.0,1466883861000.0,1466883871000.0,1466883879000.0,1466883888000.0,1466883897000.0,1466883904000.0,1466883915000.0,1466883941000.0],\"y\":[327.0,326.7,326.5,326.3,325.9,325.5,325.0,324.5,323.9,323.2,322.7,322.3,321.8,321.4,320.9,320.5,320.2,319.8,319.5,319.1,318.9,318.7,318.5,318.4,318.2,318.0,318.0,318.0,318.0,318.0,317.3,316.5,315.8,315.1,314.4,313.6,312.9,312.2,311.5,310.7,310.0,309.4,308.7,308.1,307.5,306.8,306.2,305.5,304.9,304.0,303.1,302.2,301.9,301.6,301.4,301.0,300.6,300.3,299.7,299.2,298.9,298.6,298.4,298.1,297.8,297.5,297.1,296.6,296.2,295.9,295.6,295.3,294.9,294.5,294.2,293.8,293.5,293.4,293.3,293.2,293.1,293.0,292.9,292.5,292.2,291.8,291.5,291.1,290.7,290.4,290.0,289.6,289.4,289.2,289.3,289.4,289.5,289.5,289.6,289.7,289.6,289.5,289.5,289.3,289.1,288.9,288.7,288.5,288.3,288.0,287.7,287.6,287.5,287.5,287.4,287.3,286.9,286.5,286.2,285.7,285.3,284.8,284.4,283.9,283.5,283.0,282.5,282.4,282.2,282.0,282.0,282.0,282.0,281.8,281.6,281.5,281.2,280.9,280.5,280.2,279.8,279.5,279.1,278.7,278.5,278.2,277.9,277.7,277.5,277.5,277.4,277.3,277.0,276.7,276.5,276.3,276.1,275.9,275.7,275.5,275.4,275.2,275.0,275.0,275.0,275.0,275.0,275.2,275.4,275.5,275.7,275.9,276.1,276.3,276.5,276.6,276.8,277.2,277.4,277.5,277.7,277.9,278.1,278.3,278.5,278.6,279.0,279.4,279.5,279.7,279.9,280.1,280.3,280.5,280.6,280.8,281.1,281.4,281.6,281.9,282.2,282.5,282.7,283.0,283.3,283.7,284.5,285.1,285.5,286.0,286.5,286.9,287.4,287.8,288.7,289.6,290.4,290.8,291.6,292.5,293.3,294.1,294.9,295.9,296.9,297.5,298.0,298.5,299.1,299.5,299.8,300.4,300.9,301.5,301.8,302.2,302.5,302.9,303.3,303.6,303.8,304.0,304.0,304.0,304.3,304.5,304.8,305.1,305.4,305.6,305.9,306.2,306.5,306.7,307.0,307.0,307.4,307.7,308.1,308.5,309.0,309.5,309.9,310.4,310.8,311.3,311.7,311.8,311.9,312.0,312.0,312.0,312.3,312.5,312.8,313.1,313.4,313.8,314.3,314.7,315.2,315.6,316.1,316.3,316.6,317.0,317.4,318.2,318.8,319.5,320.1,320.9,321.7,322.5,323.4,324.0,324.6,325.3,325.6,326.0,326.7,327.5,328.0,328.5,329.1,329.6,330.5,331.3,332.1,332.7,333.4,333.6,333.6,333.6,333.6,333.6,333.6,333.4,332.9,332.5,332.0,331.5,331.1,330.9,330.5,330.2,329.8,329.5,329.1,328.9,328.7,328.5,328.4,328.2,328.0,328.0,328.0,328.0,328.0,328.0,328.1,328.2,328.3,328.4,328.5,328.5,328.6,328.7,328.8,328.9,329.0,328.9,328.8,328.7,328.6,328.5,328.5,328.4,328.3,328.2,328.1,328.0,328.0,328.0,328.0,328.0,328.0,328.0,328.0,328.0,328.0,327.7,327.5,327.2,326.9,326.6,326.4,325.9,325.5,325.0,324.5,324.1,323.9,323.2,322.5,321.7,321.0,321.2,321.5,321.4,321.2,321.0,320.8,320.6,321.0,320.6,320.3,319.9,318.6,317.4,316.0,314.6,313.3,311.9,310.5,309.2,308.5,307.7,307.0,306.3,305.5,305.4,305.2,305.0,304.8,304.6,304.5,304.5,304.5,304.5,304.5,304.5,304.6,304.8,305.0,305.2,305.4,305.5,305.8,306.1,306.4,306.6,306.9,307.2,307.5,307.7,308.0,308.3,308.5,308.9,309.3,309.6,310.0,310.4,310.8,311.3,311.7,312.2,312.6,313.1,313.5,313.8,314.2,314.0,314.4,314.7,315.1,315.5,315.8,316.2,316.5,316.7,316.9,317.1,317.8,318.0,318.0,318.0,318.0,318.0,318.0,318.0,318.0,318.2,318.4,318.5,318.7,318.9,319.1,319.5,319.8,320.2,320.5,320.9,321.4,321.8,322.3,322.7,323.2,323.6,324.2,324.7,325.3,325.8,326.2,326.3,326.5,326.7,327.0]}},\"id\":\"9b730ec4-37c1-418c-8a16-815af7d923c6\",\"type\":\"ColumnDataSource\"},{\"attributes\":{\"data_source\":{\"id\":\"53eabab5-04cf-49af-934c-f86a2a33750c\",\"type\":\"ColumnDataSource\"},\"glyph\":{\"id\":\"e9814c1e-83d0-4643-8553-1086049de01f\",\"type\":\"Circle\"},\"hover_glyph\":null,\"nonselection_glyph\":{\"id\":\"c8a797fd-780e-463f-84fd-2e152c503c16\",\"type\":\"Circle\"},\"selection_glyph\":null},\"id\":\"ee08c30b-cbe4-4c9e-91f0-a940c5488ae5\",\"type\":\"GlyphRenderer\"},{\"attributes\":{\"plot\":{\"id\":\"e6ff8f7e-e3bc-4c70-82ed-e5e32be2eeb3\",\"subtype\":\"Figure\",\"type\":\"Plot\"},\"ticker\":{\"id\":\"3e0c863e-8396-4dbd-a14d-73032dbd74fc\",\"type\":\"BasicTicker\"}},\"id\":\"f50814ef-2c9d-47f6-b976-043a9ae7f973\",\"type\":\"Grid\"},{\"attributes\":{\"axis_label\":\"Time in hours\",\"formatter\":{\"id\":\"75cba972-1485-448c-a9db-55416091ecad\",\"type\":\"BasicTickFormatter\"},\"plot\":{\"id\":\"eff7255c-1733-4b9b-9aff-2a35e958bad3\",\"subtype\":\"Figure\",\"type\":\"Plot\"},\"ticker\":{\"id\":\"9750da14-e63d-4fe7-834b-aa0bceef480c\",\"type\":\"BasicTicker\"}},\"id\":\"5db9b868-c3bf-43b5-9218-a2d12dd7a621\",\"type\":\"LinearAxis\"},{\"attributes\":{\"overlay\":{\"id\":\"56e83950-762d-4148-b712-1f4903f880c9\",\"type\":\"BoxAnnotation\"},\"plot\":{\"id\":\"1bf6407e-b031-4d1c-9898-000835fea216\",\"subtype\":\"Figure\",\"type\":\"Plot\"}},\"id\":\"c985c7a0-4854-4894-bcb8-ed1a493545fe\",\"type\":\"BoxZoomTool\"},{\"attributes\":{},\"id\":\"8776b0db-7f81-4cfc-b5d6-59eab0b6b15c\",\"type\":\"BasicTickFormatter\"},{\"attributes\":{\"plot\":{\"id\":\"47d9db68-6667-4d6f-94bf-96cefa7ef01a\",\"subtype\":\"Figure\",\"type\":\"Plot\"}},\"id\":\"bfb51fc3-fb78-4431-bde0-ca0ac02d450a\",\"type\":\"WheelZoomTool\"},{\"attributes\":{},\"id\":\"4c38f764-94b3-4985-8e8a-4a8bfb364e14\",\"type\":\"BasicTickFormatter\"},{\"attributes\":{\"days\":[1,15]},\"id\":\"4f25cc5c-7d26-4f11-a9ea-d01f229ae23a\",\"type\":\"DaysTicker\"},{\"attributes\":{\"line_color\":{\"value\":\"#1f77b4\"},\"x\":{\"field\":\"x\"},\"y\":{\"field\":\"y\"}},\"id\":\"b55e1b8c-4d79-4d66-86a5-3b5e35dd6040\",\"type\":\"Line\"},{\"attributes\":{\"plot\":{\"id\":\"02616015-955c-4d91-bda1-6095adae93c6\",\"subtype\":\"Figure\",\"type\":\"Plot\"}},\"id\":\"b68e9463-fd62-475b-bfd1-ca0d071b95fb\",\"type\":\"ResizeTool\"},{\"attributes\":{\"callback\":null},\"id\":\"63398572-11a6-4ed2-bd84-eefecd3e7cff\",\"type\":\"DataRange1d\"},{\"attributes\":{\"plot\":{\"id\":\"e01bd413-9d11-4564-baf1-846a75806c8b\",\"subtype\":\"Figure\",\"type\":\"Plot\"}},\"id\":\"91719410-f8a7-4dc9-95b2-c4b83b319cd5\",\"type\":\"PanTool\"},{\"attributes\":{\"days\":[1,4,7,10,13,16,19,22,25,28]},\"id\":\"40eb8ba6-845b-44e7-b9a1-88687ef65be8\",\"type\":\"DaysTicker\"},{\"attributes\":{\"callback\":null,\"column_names\":[\"y\",\"x\"],\"data\":{\"x\":[5869.758041685876,2050.294537996982,5673.724969564729,5493.705520609242,5936.597828117186,4466.736025644979,8747.538975053558,7583.492622425234,4482.126354346572,1256.0139437106257,38.50415036853844,1465.8603370305834,5980.435447792143,5678.105548248082,5641.157399618419,1848.3031448360637,2102.6866123651434,4686.257052728707,9468.497064399835,4437.458852924772,5637.941600178236,5976.531944856669,10040.460857166941,9377.080509775602,4927.336038861122,12543.342213664968,9053.550749702497,9066.96676016255,9355.976346881262,6733.926622101581,5690.823548807764,3787.3912574156557,8943.501144715288,10096.597395845707,12190.74237889001,8190.534493570851,5721.8997620119135,7650.115555373454,14.964854228276854,2732.913143192231,4069.3537789534007,4580.658855378932,7770.535908053509,13061.254042482593],\"y\":[0.7794444444444445,0.30916666666666665,0.8727777777777778,0.9305555555555556,1.0708333333333333,0.6458333333333334,1.3022222222222222,1.08,0.6722222222222223,0.15722222222222224,0.0002777777777777778,0.21916666666666668,0.7944444444444444,0.6816666666666666,0.8466666666666667,0.40194444444444444,0.25722222222222224,0.6361111111111111,1.2361111111111112,0.8525,0.95,1.0794444444444444,1.3977777777777778,1.268888888888889,0.7863888888888889,2.0052777777777777,1.2952777777777778,1.2669444444444444,1.378611111111111,1.123888888888889,1.361388888888889,0.6108333333333333,1.7091666666666667,1.9522222222222223,1.7591666666666668,1.4927777777777778,1.0241666666666667,1.2275,0.008888888888888889,0.37916666666666665,0.4825,0.6188888888888889,1.1588888888888889,2.089166666666667]}},\"id\":\"4c305d6c-9b57-40f1-893c-da5641936ed3\",\"type\":\"ColumnDataSource\"},{\"attributes\":{\"months\":[0,2,4,6,8,10]},\"id\":\"2cdb9a16-1bc5-40eb-8bf3-f28782a6dc1d\",\"type\":\"MonthsTicker\"},{\"attributes\":{\"dimension\":1,\"plot\":{\"id\":\"f7a8c707-9822-4353-8e3c-a473ca5c8cba\",\"subtype\":\"Figure\",\"type\":\"Plot\"},\"ticker\":{\"id\":\"3a0f9e4c-4cc6-4036-86d0-a94796b1726c\",\"type\":\"BasicTicker\"}},\"id\":\"db8f45ce-23b3-4a6b-97a6-375d278d5863\",\"type\":\"Grid\"},{\"attributes\":{\"overlay\":{\"id\":\"9b424962-23f3-4f62-9702-2b54c02d300a\",\"type\":\"BoxAnnotation\"},\"plot\":{\"id\":\"e01bd413-9d11-4564-baf1-846a75806c8b\",\"subtype\":\"Figure\",\"type\":\"Plot\"}},\"id\":\"0dedabd5-fe5f-4f7d-8699-624358cfd934\",\"type\":\"BoxZoomTool\"},{\"attributes\":{\"dimension\":1,\"plot\":{\"id\":\"1bf6407e-b031-4d1c-9898-000835fea216\",\"subtype\":\"Figure\",\"type\":\"Plot\"},\"ticker\":{\"id\":\"8b3dd4de-aef1-4ee8-90cb-0a16941fbada\",\"type\":\"BasicTicker\"}},\"id\":\"0de8221d-71c6-47a0-84c2-df64a362fd8c\",\"type\":\"Grid\"},{\"attributes\":{\"months\":[0,6]},\"id\":\"f6571ba4-6aeb-4b35-8f31-37a06f60aea3\",\"type\":\"MonthsTicker\"},{\"attributes\":{\"plot\":{\"id\":\"47d9db68-6667-4d6f-94bf-96cefa7ef01a\",\"subtype\":\"Figure\",\"type\":\"Plot\"}},\"id\":\"48e57cbc-fdfd-409b-945a-846d961548c0\",\"type\":\"PanTool\"},{\"attributes\":{\"callback\":null},\"id\":\"b2234a9c-8249-4ec5-9b19-84b9eb91bf36\",\"type\":\"DataRange1d\"},{\"attributes\":{\"callback\":null},\"id\":\"f4981d95-2730-4172-8399-a1c83588853d\",\"type\":\"DataRange1d\"},{\"attributes\":{\"background_fill_color\":{\"value\":\"#E8DDCB\"},\"below\":[{\"id\":\"934cdbbb-b67e-42db-a548-26f5d61eb672\",\"type\":\"LinearAxis\"}],\"left\":[{\"id\":\"187e25f2-21c3-43fa-9586-d80db646e61e\",\"type\":\"LinearAxis\"}],\"renderers\":[{\"id\":\"934cdbbb-b67e-42db-a548-26f5d61eb672\",\"type\":\"LinearAxis\"},{\"id\":\"f50814ef-2c9d-47f6-b976-043a9ae7f973\",\"type\":\"Grid\"},{\"id\":\"187e25f2-21c3-43fa-9586-d80db646e61e\",\"type\":\"LinearAxis\"},{\"id\":\"34275641-7d08-4ea4-abaf-00d9f8c1789b\",\"type\":\"Grid\"},{\"id\":\"25925d73-3fab-4f27-bf88-3a9ad45f75bc\",\"type\":\"BoxAnnotation\"},{\"id\":\"a8802f6b-2402-4ade-bdd0-7e52654ad0a7\",\"type\":\"GlyphRenderer\"}],\"title\":\"Speeds \",\"tool_events\":{\"id\":\"296da0be-e2d7-4b34-8a7e-d9ef1b8a52ce\",\"type\":\"ToolEvents\"},\"tools\":[{\"id\":\"40f6f818-7ee8-42b6-b1e3-1b72389cb970\",\"type\":\"PanTool\"},{\"id\":\"1faf734a-7b44-4a5a-a2da-4a96588d7698\",\"type\":\"WheelZoomTool\"},{\"id\":\"3b18c0cd-3e45-4e71-8a87-f0c3ea0e976f\",\"type\":\"BoxZoomTool\"},{\"id\":\"8069731d-2e1e-485c-982a-7fa1937e1c1e\",\"type\":\"PreviewSaveTool\"},{\"id\":\"5b92ff48-2444-47d2-96a8-2c9f69d3a29a\",\"type\":\"ResizeTool\"},{\"id\":\"5fdc357d-1a6e-43a6-8148-933a248ad17a\",\"type\":\"ResetTool\"},{\"id\":\"a3edd5ab-ff69-4acd-968c-33e7047a9dbc\",\"type\":\"HelpTool\"}],\"x_range\":{\"id\":\"64749673-5502-4def-9d9a-ecbf3e823d68\",\"type\":\"DataRange1d\"},\"y_range\":{\"id\":\"b6bc2677-ecfc-4267-a415-a71cc69aca2a\",\"type\":\"DataRange1d\"}},\"id\":\"e6ff8f7e-e3bc-4c70-82ed-e5e32be2eeb3\",\"subtype\":\"Figure\",\"type\":\"Plot\"},{\"attributes\":{},\"id\":\"40ae7652-51d5-4050-a28b-afda6b6cd680\",\"type\":\"YearsTicker\"},{\"attributes\":{\"dimension\":1,\"plot\":{\"id\":\"e01bd413-9d11-4564-baf1-846a75806c8b\",\"subtype\":\"Figure\",\"type\":\"Plot\"},\"ticker\":{\"id\":\"691f5573-5623-4155-8053-f09994c9c516\",\"type\":\"BasicTicker\"}},\"id\":\"ce87c960-4a0c-4a06-98ab-6970ad20b196\",\"type\":\"Grid\"},{\"attributes\":{\"months\":[0,6]},\"id\":\"c08da309-683e-4d28-9907-6b2299a25eb9\",\"type\":\"MonthsTicker\"},{\"attributes\":{},\"id\":\"b40a72d5-bc59-4eb5-bfca-749c3f9ef890\",\"type\":\"ToolEvents\"},{\"attributes\":{\"days\":[1,8,15,22]},\"id\":\"35458186-0c57-4c8d-b608-97c612990776\",\"type\":\"DaysTicker\"},{\"attributes\":{\"callback\":null,\"column_names\":[\"y\",\"x\"],\"data\":{\"x\":[5869.758041685876,2050.294537996982,5673.724969564729,5493.705520609242,5936.597828117186,4466.736025644979,8747.538975053558,7583.492622425234,4482.126354346572,1256.0139437106257,38.50415036853844,1465.8603370305834,5980.435447792143,5678.105548248082,5641.157399618419,1848.3031448360637,2102.6866123651434,4686.257052728707,9468.497064399835,4437.458852924772,5637.941600178236,5976.531944856669,10040.460857166941,9377.080509775602,4927.336038861122,12543.342213664968,9053.550749702497,9066.96676016255,9355.976346881262,6733.926622101581,5690.823548807764,3787.3912574156557,8943.501144715288,10096.597395845707,12190.74237889001,8190.534493570851,5721.8997620119135,7650.115555373454,14.964854228276854,2732.913143192231,4069.3537789534007,4580.658855378932,7770.535908053509,13061.254042482593],\"y\":[0.7794444444444445,0.30916666666666665,0.8727777777777778,0.9305555555555556,1.0708333333333333,0.6458333333333334,1.3022222222222222,1.08,0.6722222222222223,0.15722222222222224,0.0002777777777777778,0.21916666666666668,0.7944444444444444,0.6816666666666666,0.8466666666666667,0.40194444444444444,0.25722222222222224,0.6361111111111111,1.2361111111111112,0.8525,0.95,1.0794444444444444,1.3977777777777778,1.268888888888889,0.7863888888888889,2.0052777777777777,1.2952777777777778,1.2669444444444444,1.378611111111111,1.123888888888889,1.361388888888889,0.6108333333333333,1.7091666666666667,1.9522222222222223,1.7591666666666668,1.4927777777777778,1.0241666666666667,1.2275,0.008888888888888889,0.37916666666666665,0.4825,0.6188888888888889,1.1588888888888889,2.089166666666667]}},\"id\":\"6590f68a-528d-4e02-92f3-4a86ba1deee0\",\"type\":\"ColumnDataSource\"},{\"attributes\":{\"axis_label\":\"Elevation (m)\",\"formatter\":{\"id\":\"8776b0db-7f81-4cfc-b5d6-59eab0b6b15c\",\"type\":\"BasicTickFormatter\"},\"plot\":{\"id\":\"9722979a-11f6-49ae-a8b8-02588ac608f9\",\"subtype\":\"Figure\",\"type\":\"Plot\"},\"ticker\":{\"id\":\"fb9fac98-977b-47a9-8a0f-53d86c6b6633\",\"type\":\"BasicTicker\"}},\"id\":\"90e18cd8-91e2-4fde-b58f-9767181069ab\",\"type\":\"LinearAxis\"},{\"attributes\":{\"axis_label\":\"Minutes per run\",\"formatter\":{\"id\":\"59548a9e-ec60-4f2c-bfaa-9cdec406a4aa\",\"type\":\"BasicTickFormatter\"},\"plot\":{\"id\":\"e6ff8f7e-e3bc-4c70-82ed-e5e32be2eeb3\",\"subtype\":\"Figure\",\"type\":\"Plot\"},\"ticker\":{\"id\":\"fe8904fe-803e-4a7e-9bf8-24fefa3a60e4\",\"type\":\"BasicTicker\"}},\"id\":\"187e25f2-21c3-43fa-9586-d80db646e61e\",\"type\":\"LinearAxis\"},{\"attributes\":{\"plot\":{\"id\":\"f7a8c707-9822-4353-8e3c-a473ca5c8cba\",\"subtype\":\"Figure\",\"type\":\"Plot\"}},\"id\":\"2aadd0b0-f139-407c-9874-a492291bea31\",\"type\":\"ResizeTool\"},{\"attributes\":{},\"id\":\"3c963d02-174f-4e0a-8955-710a7dcfb238\",\"type\":\"DatetimeTickFormatter\"},{\"attributes\":{\"axis_label\":\"Time\",\"formatter\":{\"id\":\"b9f0884e-290c-4c87-93e2-1b8f10414385\",\"type\":\"DatetimeTickFormatter\"},\"plot\":{\"id\":\"1bf6407e-b031-4d1c-9898-000835fea216\",\"subtype\":\"Figure\",\"type\":\"Plot\"},\"ticker\":{\"id\":\"c34f2b76-5070-43f7-b358-477452456485\",\"type\":\"DatetimeTicker\"}},\"id\":\"2baa7298-e355-4b71-a892-ff9ba0136680\",\"type\":\"DatetimeAxis\"},{\"attributes\":{\"days\":[1,2,3,4,5,6,7,8,9,10,11,12,13,14,15,16,17,18,19,20,21,22,23,24,25,26,27,28,29,30,31]},\"id\":\"389c1bb1-4903-4ac6-a98f-0e84bda66f33\",\"type\":\"DaysTicker\"},{\"attributes\":{\"months\":[0,1,2,3,4,5,6,7,8,9,10,11]},\"id\":\"ab0e8357-b796-441b-8382-609bcccefff7\",\"type\":\"MonthsTicker\"},{\"attributes\":{},\"id\":\"75cba972-1485-448c-a9db-55416091ecad\",\"type\":\"BasicTickFormatter\"},{\"attributes\":{\"plot\":{\"id\":\"eff7255c-1733-4b9b-9aff-2a35e958bad3\",\"subtype\":\"Figure\",\"type\":\"Plot\"}},\"id\":\"a14193e7-93b5-4f78-891d-1ba81c5cbd95\",\"type\":\"HelpTool\"},{\"attributes\":{\"plot\":{\"id\":\"e01bd413-9d11-4564-baf1-846a75806c8b\",\"subtype\":\"Figure\",\"type\":\"Plot\"}},\"id\":\"76142144-be6e-4802-b867-f877c1aaa608\",\"type\":\"PreviewSaveTool\"},{\"attributes\":{},\"id\":\"59548a9e-ec60-4f2c-bfaa-9cdec406a4aa\",\"type\":\"BasicTickFormatter\"},{\"attributes\":{\"background_fill_color\":{\"value\":\"#E8DDCB\"},\"below\":[{\"id\":\"ec6d5266-e96b-43ab-a884-8739840e2d5a\",\"type\":\"DatetimeAxis\"}],\"left\":[{\"id\":\"90e18cd8-91e2-4fde-b58f-9767181069ab\",\"type\":\"LinearAxis\"}],\"renderers\":[{\"id\":\"ec6d5266-e96b-43ab-a884-8739840e2d5a\",\"type\":\"DatetimeAxis\"},{\"id\":\"142eb964-80cd-49a2-a34c-76158a9554fd\",\"type\":\"Grid\"},{\"id\":\"90e18cd8-91e2-4fde-b58f-9767181069ab\",\"type\":\"LinearAxis\"},{\"id\":\"ae66433a-8d84-440d-a196-b5c24e7faba2\",\"type\":\"Grid\"},{\"id\":\"83778235-5fa1-43a8-8860-8d54d2e12a27\",\"type\":\"BoxAnnotation\"},{\"id\":\"055b9fa5-2d6f-40af-92df-5b5ae94e5775\",\"type\":\"GlyphRenderer\"}],\"title\":\"Elevation from last night run\",\"tool_events\":{\"id\":\"d5a58d4e-840e-4a61-8c23-6f25b1630c5d\",\"type\":\"ToolEvents\"},\"tools\":[{\"id\":\"363c4251-8125-4e3c-8c00-31bc5725c6d0\",\"type\":\"PanTool\"},{\"id\":\"d40e7209-5a07-47ce-89a3-47df951131da\",\"type\":\"WheelZoomTool\"},{\"id\":\"22c4d5a6-8139-4b27-a705-7d1977ec31c1\",\"type\":\"BoxZoomTool\"},{\"id\":\"aa820e33-d460-406e-afba-78f912c16f2c\",\"type\":\"PreviewSaveTool\"},{\"id\":\"69a84094-c111-4cae-b2ae-c986a08f0b78\",\"type\":\"ResizeTool\"},{\"id\":\"cbc03df1-bc1e-405d-8848-82941a8b29c5\",\"type\":\"ResetTool\"},{\"id\":\"b8b5c39c-ebe5-4d0d-b819-3578beb87c40\",\"type\":\"HelpTool\"}],\"x_range\":{\"id\":\"f4981d95-2730-4172-8399-a1c83588853d\",\"type\":\"DataRange1d\"},\"y_range\":{\"id\":\"62d425c1-3088-4816-b530-eca1165c1209\",\"type\":\"DataRange1d\"}},\"id\":\"9722979a-11f6-49ae-a8b8-02588ac608f9\",\"subtype\":\"Figure\",\"type\":\"Plot\"},{\"attributes\":{\"days\":[1,15]},\"id\":\"b7eddefd-efd9-485d-8ec6-5a429e096ad1\",\"type\":\"DaysTicker\"},{\"attributes\":{\"data_source\":{\"id\":\"024f5a04-9dd3-4d1e-a97a-4b652f06ae9f\",\"type\":\"ColumnDataSource\"},\"glyph\":{\"id\":\"485f9b03-beee-42c5-b1c3-662772eb87e7\",\"type\":\"Circle\"},\"hover_glyph\":null,\"nonselection_glyph\":{\"id\":\"1fa79f27-337f-4da1-bf6a-cc467721490b\",\"type\":\"Circle\"},\"selection_glyph\":null},\"id\":\"a8802f6b-2402-4ade-bdd0-7e52654ad0a7\",\"type\":\"GlyphRenderer\"},{\"attributes\":{\"base\":24,\"mantissas\":[1,2,4,6,8,12],\"max_interval\":43200000.0,\"min_interval\":3600000.0,\"num_minor_ticks\":0},\"id\":\"b70f7978-129c-4c81-a084-bdbf7ccf55a7\",\"type\":\"AdaptiveTicker\"},{\"attributes\":{\"plot\":{\"id\":\"eff7255c-1733-4b9b-9aff-2a35e958bad3\",\"subtype\":\"Figure\",\"type\":\"Plot\"}},\"id\":\"7f6253cb-f1c3-4bf4-9e37-2a3d9a6c69c9\",\"type\":\"ResetTool\"},{\"attributes\":{},\"id\":\"f4d7e435-e70d-4951-9b7b-31a59b7cc4f2\",\"type\":\"DatetimeTickFormatter\"},{\"attributes\":{\"days\":[1,15]},\"id\":\"dc0a43e8-8740-41e2-a3f6-02063c3bc351\",\"type\":\"DaysTicker\"},{\"attributes\":{\"axis_label\":\"Distance (m)\",\"formatter\":{\"id\":\"40a6d2b7-5de3-48d3-b305-5a93606a17ef\",\"type\":\"BasicTickFormatter\"},\"plot\":{\"id\":\"e6ff8f7e-e3bc-4c70-82ed-e5e32be2eeb3\",\"subtype\":\"Figure\",\"type\":\"Plot\"},\"ticker\":{\"id\":\"3e0c863e-8396-4dbd-a14d-73032dbd74fc\",\"type\":\"BasicTicker\"}},\"id\":\"934cdbbb-b67e-42db-a548-26f5d61eb672\",\"type\":\"LinearAxis\"},{\"attributes\":{},\"id\":\"b3789c9a-be3d-4c99-b90a-feeebedf128e\",\"type\":\"BasicTickFormatter\"},{\"attributes\":{\"days\":[1,15]},\"id\":\"a5291d9e-cf0e-457c-8857-581e10fdca7d\",\"type\":\"DaysTicker\"},{\"attributes\":{\"axis_label\":\"Distance (m)\",\"formatter\":{\"id\":\"19375950-321c-4c3a-9ce6-6c040cc2abde\",\"type\":\"DatetimeTickFormatter\"},\"plot\":{\"id\":\"47d9db68-6667-4d6f-94bf-96cefa7ef01a\",\"subtype\":\"Figure\",\"type\":\"Plot\"},\"ticker\":{\"id\":\"16116608-9b42-49ab-9feb-b618ba8a43c4\",\"type\":\"DatetimeTicker\"}},\"id\":\"b11d8772-9a80-4767-8df0-30421ad04f36\",\"type\":\"DatetimeAxis\"},{\"attributes\":{\"plot\":{\"id\":\"47d9db68-6667-4d6f-94bf-96cefa7ef01a\",\"subtype\":\"Figure\",\"type\":\"Plot\"},\"ticker\":{\"id\":\"16116608-9b42-49ab-9feb-b618ba8a43c4\",\"type\":\"DatetimeTicker\"}},\"id\":\"9c43fe79-0e92-46d5-9bcc-720518eaa5cf\",\"type\":\"Grid\"},{\"attributes\":{\"days\":[1,4,7,10,13,16,19,22,25,28]},\"id\":\"aa01b587-8203-4f14-8326-b09d45cfa566\",\"type\":\"DaysTicker\"},{\"attributes\":{\"axis_label\":\"Distance (m)\",\"formatter\":{\"id\":\"a41aacfc-644a-475c-aea1-941e2c59279f\",\"type\":\"BasicTickFormatter\"},\"plot\":{\"id\":\"1bf6407e-b031-4d1c-9898-000835fea216\",\"subtype\":\"Figure\",\"type\":\"Plot\"},\"ticker\":{\"id\":\"8b3dd4de-aef1-4ee8-90cb-0a16941fbada\",\"type\":\"BasicTicker\"}},\"id\":\"b7024f5c-1421-4667-86f8-09c882af3972\",\"type\":\"LinearAxis\"},{\"attributes\":{\"num_minor_ticks\":5},\"id\":\"a69bbe5f-9502-4efc-a268-6713a10d96f8\",\"type\":\"DatetimeTicker\"},{\"attributes\":{\"base\":60,\"mantissas\":[1,2,5,10,15,20,30],\"max_interval\":1800000.0,\"min_interval\":1000.0,\"num_minor_ticks\":0},\"id\":\"40311cb5-cb7a-4b46-b742-463d0c82ffdd\",\"type\":\"AdaptiveTicker\"},{\"attributes\":{},\"id\":\"fe32d7f1-0e2b-4024-a9b6-6f180dcef175\",\"type\":\"ToolEvents\"},{\"attributes\":{\"fill_alpha\":{\"value\":0.1},\"fill_color\":{\"value\":\"#1f77b4\"},\"line_alpha\":{\"value\":0.1},\"line_color\":{\"value\":\"#1f77b4\"},\"x\":{\"field\":\"x\"},\"y\":{\"field\":\"y\"}},\"id\":\"50f52620-0927-4b0b-a908-5e5cdddcf4bf\",\"type\":\"Circle\"},{\"attributes\":{\"max_interval\":500.0,\"num_minor_ticks\":0},\"id\":\"1836244b-4495-40d5-b6a7-c3b6d9e7805c\",\"type\":\"AdaptiveTicker\"},{\"attributes\":{\"data_source\":{\"id\":\"8ced3837-ff19-49f8-b5a0-0b6a7b340a0a\",\"type\":\"ColumnDataSource\"},\"glyph\":{\"id\":\"3368a566-8e2a-4bcb-8474-36ae5d588729\",\"type\":\"Circle\"},\"hover_glyph\":null,\"nonselection_glyph\":{\"id\":\"eb1b6744-9ea1-4dbc-aa5e-acb7a3a0a878\",\"type\":\"Circle\"},\"selection_glyph\":null},\"id\":\"ce6322e9-8d46-4f8e-849c-1a8b147a7a3c\",\"type\":\"GlyphRenderer\"},{\"attributes\":{\"axis_label\":\"Minutes per run\",\"formatter\":{\"id\":\"a8989bba-1d63-4347-ae49-412a30fd6eeb\",\"type\":\"BasicTickFormatter\"},\"plot\":{\"id\":\"f7a8c707-9822-4353-8e3c-a473ca5c8cba\",\"subtype\":\"Figure\",\"type\":\"Plot\"},\"ticker\":{\"id\":\"3a0f9e4c-4cc6-4036-86d0-a94796b1726c\",\"type\":\"BasicTicker\"}},\"id\":\"05a2c041-c518-4955-99d9-eb16f7cf2557\",\"type\":\"LinearAxis\"},{\"attributes\":{\"plot\":{\"id\":\"e6ff8f7e-e3bc-4c70-82ed-e5e32be2eeb3\",\"subtype\":\"Figure\",\"type\":\"Plot\"}},\"id\":\"40f6f818-7ee8-42b6-b1e3-1b72389cb970\",\"type\":\"PanTool\"},{\"attributes\":{\"plot\":{\"id\":\"02616015-955c-4d91-bda1-6095adae93c6\",\"subtype\":\"Figure\",\"type\":\"Plot\"}},\"id\":\"e62222b1-26dc-4569-90ad-1cf541194b35\",\"type\":\"WheelZoomTool\"},{\"attributes\":{\"plot\":{\"id\":\"9722979a-11f6-49ae-a8b8-02588ac608f9\",\"subtype\":\"Figure\",\"type\":\"Plot\"}},\"id\":\"d40e7209-5a07-47ce-89a3-47df951131da\",\"type\":\"WheelZoomTool\"},{\"attributes\":{\"axis_label\":\"Distance (m)\",\"formatter\":{\"id\":\"b3789c9a-be3d-4c99-b90a-feeebedf128e\",\"type\":\"BasicTickFormatter\"},\"plot\":{\"id\":\"cb4413bc-55e9-4185-bca4-550f1930a2fe\",\"subtype\":\"Figure\",\"type\":\"Plot\"},\"ticker\":{\"id\":\"cbbd812d-aef5-4821-ad49-f03dc4be7224\",\"type\":\"BasicTicker\"}},\"id\":\"2eb3c335-d487-4b50-a03a-6059903c49c7\",\"type\":\"LinearAxis\"},{\"attributes\":{\"plot\":{\"id\":\"47d9db68-6667-4d6f-94bf-96cefa7ef01a\",\"subtype\":\"Figure\",\"type\":\"Plot\"}},\"id\":\"bed197bb-d6d1-42df-9a7b-bd5b61ff02d6\",\"type\":\"HelpTool\"},{\"attributes\":{\"days\":[1,2,3,4,5,6,7,8,9,10,11,12,13,14,15,16,17,18,19,20,21,22,23,24,25,26,27,28,29,30,31]},\"id\":\"566da761-e3c6-42da-ad68-2d22df0efb24\",\"type\":\"DaysTicker\"},{\"attributes\":{\"days\":[1,4,7,10,13,16,19,22,25,28]},\"id\":\"1f01e140-58fc-44af-bddf-3fe969e0d5ef\",\"type\":\"DaysTicker\"},{\"attributes\":{\"days\":[1,2,3,4,5,6,7,8,9,10,11,12,13,14,15,16,17,18,19,20,21,22,23,24,25,26,27,28,29,30,31]},\"id\":\"be7e128f-2237-4e5d-bfc3-10cef7311130\",\"type\":\"DaysTicker\"},{\"attributes\":{\"plot\":{\"id\":\"cb4413bc-55e9-4185-bca4-550f1930a2fe\",\"subtype\":\"Figure\",\"type\":\"Plot\"}},\"id\":\"2f2bb30b-70ba-4fc0-8cb7-06da913a36ef\",\"type\":\"WheelZoomTool\"},{\"attributes\":{\"plot\":{\"id\":\"9722979a-11f6-49ae-a8b8-02588ac608f9\",\"subtype\":\"Figure\",\"type\":\"Plot\"}},\"id\":\"b8b5c39c-ebe5-4d0d-b819-3578beb87c40\",\"type\":\"HelpTool\"},{\"attributes\":{\"dimension\":1,\"plot\":{\"id\":\"02616015-955c-4d91-bda1-6095adae93c6\",\"subtype\":\"Figure\",\"type\":\"Plot\"},\"ticker\":{\"id\":\"7306307b-ab58-414d-ab8a-bd2edfdb837f\",\"type\":\"BasicTicker\"}},\"id\":\"ef9a9d14-1338-4537-8695-b1b1754e7989\",\"type\":\"Grid\"},{\"attributes\":{\"base\":60,\"mantissas\":[1,2,5,10,15,20,30],\"max_interval\":1800000.0,\"min_interval\":1000.0,\"num_minor_ticks\":0},\"id\":\"a223faf7-c010-4d87-acc3-3d80038a1ac4\",\"type\":\"AdaptiveTicker\"},{\"attributes\":{\"plot\":{\"id\":\"cb4413bc-55e9-4185-bca4-550f1930a2fe\",\"subtype\":\"Figure\",\"type\":\"Plot\"}},\"id\":\"edd82c4d-b8c8-401c-a257-f51ac7f63c0f\",\"type\":\"ResetTool\"},{\"attributes\":{\"overlay\":{\"id\":\"da3eb607-716c-45f2-8375-8f2bad204265\",\"type\":\"BoxAnnotation\"},\"plot\":{\"id\":\"cb4413bc-55e9-4185-bca4-550f1930a2fe\",\"subtype\":\"Figure\",\"type\":\"Plot\"}},\"id\":\"851110b7-bde2-4d70-af72-3390452dcb16\",\"type\":\"BoxZoomTool\"},{\"attributes\":{\"base\":24,\"mantissas\":[1,2,4,6,8,12],\"max_interval\":43200000.0,\"min_interval\":3600000.0,\"num_minor_ticks\":0},\"id\":\"fe047cee-e37e-437b-a9bf-0c7c7d8b44a4\",\"type\":\"AdaptiveTicker\"},{\"attributes\":{\"data_source\":{\"id\":\"b6f5399c-644a-4ce7-9750-a6acb7c3d2b0\",\"type\":\"ColumnDataSource\"},\"glyph\":{\"id\":\"1324ee4f-6ac0-4bf1-bbdd-e14d223aebd6\",\"type\":\"Circle\"},\"hover_glyph\":null,\"nonselection_glyph\":{\"id\":\"48bbf5af-0a11-41af-86cd-0a2dcf8d549d\",\"type\":\"Circle\"},\"selection_glyph\":null},\"id\":\"2587fd00-7637-40bd-8e9a-4a4a0d92d8f3\",\"type\":\"GlyphRenderer\"},{\"attributes\":{\"months\":[0,2,4,6,8,10]},\"id\":\"2f81fe89-8c99-4d7d-aba6-b68b2be735e3\",\"type\":\"MonthsTicker\"},{\"attributes\":{\"num_minor_ticks\":5},\"id\":\"c34f2b76-5070-43f7-b358-477452456485\",\"type\":\"DatetimeTicker\"},{\"attributes\":{\"fill_alpha\":{\"value\":0.1},\"fill_color\":{\"value\":\"#1f77b4\"},\"line_alpha\":{\"value\":0.1},\"line_color\":{\"value\":\"#1f77b4\"},\"x\":{\"field\":\"x\"},\"y\":{\"field\":\"y\"}},\"id\":\"a6bbbef3-5854-4459-b39f-4fe8b7652c95\",\"type\":\"Circle\"},{\"attributes\":{\"num_minor_ticks\":5},\"id\":\"16116608-9b42-49ab-9feb-b618ba8a43c4\",\"type\":\"DatetimeTicker\"},{\"attributes\":{},\"id\":\"fe8904fe-803e-4a7e-9bf8-24fefa3a60e4\",\"type\":\"BasicTicker\"},{\"attributes\":{\"base\":60,\"mantissas\":[1,2,5,10,15,20,30],\"max_interval\":1800000.0,\"min_interval\":1000.0,\"num_minor_ticks\":0},\"id\":\"5c028f9b-6bb6-4e53-9b5f-0d792daa4161\",\"type\":\"AdaptiveTicker\"},{\"attributes\":{},\"id\":\"0367cca0-8db4-4c5c-9ed8-6626858fdd12\",\"type\":\"ToolEvents\"},{\"attributes\":{\"plot\":{\"id\":\"e6ff8f7e-e3bc-4c70-82ed-e5e32be2eeb3\",\"subtype\":\"Figure\",\"type\":\"Plot\"}},\"id\":\"5fdc357d-1a6e-43a6-8148-933a248ad17a\",\"type\":\"ResetTool\"},{\"attributes\":{\"axis_label\":\"Minutes per run\",\"formatter\":{\"id\":\"0cb3fb64-0537-42c8-a1d8-b4691eff6b80\",\"type\":\"BasicTickFormatter\"},\"plot\":{\"id\":\"e01bd413-9d11-4564-baf1-846a75806c8b\",\"subtype\":\"Figure\",\"type\":\"Plot\"},\"ticker\":{\"id\":\"691f5573-5623-4155-8053-f09994c9c516\",\"type\":\"BasicTicker\"}},\"id\":\"087180cd-62f1-44e4-a31c-26712994eb72\",\"type\":\"LinearAxis\"},{\"attributes\":{\"callback\":null},\"id\":\"dcd5c29c-1a94-4539-8bfe-3bfd517f1741\",\"type\":\"DataRange1d\"},{\"attributes\":{\"days\":[1,4,7,10,13,16,19,22,25,28]},\"id\":\"c6fa18f2-c757-4864-92c4-1b87d0d7b8f1\",\"type\":\"DaysTicker\"},{\"attributes\":{\"callback\":null},\"id\":\"9714d328-2c7b-43f6-b7d6-f822b46edf78\",\"type\":\"DataRange1d\"},{\"attributes\":{\"bottom_units\":\"screen\",\"fill_alpha\":{\"value\":0.5},\"fill_color\":{\"value\":\"lightgrey\"},\"left_units\":\"screen\",\"level\":\"overlay\",\"line_alpha\":{\"value\":1.0},\"line_color\":{\"value\":\"black\"},\"line_dash\":[4,4],\"line_width\":{\"value\":2},\"plot\":null,\"render_mode\":\"css\",\"right_units\":\"screen\",\"top_units\":\"screen\"},\"id\":\"da3eb607-716c-45f2-8375-8f2bad204265\",\"type\":\"BoxAnnotation\"},{\"attributes\":{},\"id\":\"2320104a-44df-4987-ab29-c9b98eb60185\",\"type\":\"YearsTicker\"},{\"attributes\":{\"months\":[0,1,2,3,4,5,6,7,8,9,10,11]},\"id\":\"3248527e-0426-4301-9423-95e99d633be7\",\"type\":\"MonthsTicker\"},{\"attributes\":{},\"id\":\"a41aacfc-644a-475c-aea1-941e2c59279f\",\"type\":\"BasicTickFormatter\"},{\"attributes\":{\"callback\":null},\"id\":\"5964febc-81ee-41eb-a057-124a5e996c4f\",\"type\":\"DataRange1d\"},{\"attributes\":{\"background_fill_color\":{\"value\":\"#E8DDCB\"},\"below\":[{\"id\":\"da216d25-437b-4d28-ab0b-f77bb74a93a4\",\"type\":\"DatetimeAxis\"}],\"left\":[{\"id\":\"05a2c041-c518-4955-99d9-eb16f7cf2557\",\"type\":\"LinearAxis\"}],\"renderers\":[{\"id\":\"da216d25-437b-4d28-ab0b-f77bb74a93a4\",\"type\":\"DatetimeAxis\"},{\"id\":\"3cb6274d-c302-4851-ba85-2fba5fc38acd\",\"type\":\"Grid\"},{\"id\":\"05a2c041-c518-4955-99d9-eb16f7cf2557\",\"type\":\"LinearAxis\"},{\"id\":\"db8f45ce-23b3-4a6b-97a6-375d278d5863\",\"type\":\"Grid\"},{\"id\":\"d678aad6-61c6-4fa8-a6ba-cb3bdd76bfa6\",\"type\":\"BoxAnnotation\"},{\"id\":\"ae272e58-1f3f-4f3c-a3b4-294f25c309f9\",\"type\":\"GlyphRenderer\"}],\"title\":\"Speeds \",\"tool_events\":{\"id\":\"c6b2396e-ed7f-439d-b60b-7561b2a2f124\",\"type\":\"ToolEvents\"},\"tools\":[{\"id\":\"d2a777b6-31dc-4db1-9d27-8b7a7d3bf2e1\",\"type\":\"PanTool\"},{\"id\":\"26599e4c-4596-4276-af5c-21757de581f4\",\"type\":\"WheelZoomTool\"},{\"id\":\"e5c3aad3-0713-4b8d-874a-cc47a4fa12f0\",\"type\":\"BoxZoomTool\"},{\"id\":\"aabae16e-8679-42eb-ac24-852fc0381154\",\"type\":\"PreviewSaveTool\"},{\"id\":\"2aadd0b0-f139-407c-9874-a492291bea31\",\"type\":\"ResizeTool\"},{\"id\":\"10df739b-2c45-46c1-b5d1-70bf7d01b41f\",\"type\":\"ResetTool\"},{\"id\":\"5cec722b-ca20-46f7-919b-c69e48ebb53c\",\"type\":\"HelpTool\"}],\"x_range\":{\"id\":\"5964febc-81ee-41eb-a057-124a5e996c4f\",\"type\":\"DataRange1d\"},\"y_range\":{\"id\":\"6476b24a-b153-4fca-b192-528a45cf005d\",\"type\":\"DataRange1d\"}},\"id\":\"f7a8c707-9822-4353-8e3c-a473ca5c8cba\",\"subtype\":\"Figure\",\"type\":\"Plot\"},{\"attributes\":{},\"id\":\"38e42651-b7c3-4124-b87f-55c7faefeac4\",\"type\":\"BasicTicker\"},{\"attributes\":{\"callback\":null},\"id\":\"f34c4f05-7d80-41f4-b350-64ce58c61eb2\",\"type\":\"DataRange1d\"},{\"attributes\":{\"base\":24,\"mantissas\":[1,2,4,6,8,12],\"max_interval\":43200000.0,\"min_interval\":3600000.0,\"num_minor_ticks\":0},\"id\":\"3c2ea362-f6db-456b-bce9-fb787b47adab\",\"type\":\"AdaptiveTicker\"},{\"attributes\":{\"base\":24,\"mantissas\":[1,2,4,6,8,12],\"max_interval\":43200000.0,\"min_interval\":3600000.0,\"num_minor_ticks\":0},\"id\":\"b2e2bb6a-509a-40ec-9913-34027841cf71\",\"type\":\"AdaptiveTicker\"},{\"attributes\":{\"callback\":null},\"id\":\"62d425c1-3088-4816-b530-eca1165c1209\",\"type\":\"DataRange1d\"},{\"attributes\":{\"days\":[1,4,7,10,13,16,19,22,25,28]},\"id\":\"f40c2767-da34-4842-8078-b6c63cd3639c\",\"type\":\"DaysTicker\"},{\"attributes\":{},\"id\":\"8b3dd4de-aef1-4ee8-90cb-0a16941fbada\",\"type\":\"BasicTicker\"},{\"attributes\":{},\"id\":\"8956b075-52e0-4306-b6e0-746b63299347\",\"type\":\"ToolEvents\"}],\"root_ids\":[\"9722979a-11f6-49ae-a8b8-02588ac608f9\",\"1bf6407e-b031-4d1c-9898-000835fea216\",\"cb4413bc-55e9-4185-bca4-550f1930a2fe\",\"f7a8c707-9822-4353-8e3c-a473ca5c8cba\",\"02616015-955c-4d91-bda1-6095adae93c6\",\"47d9db68-6667-4d6f-94bf-96cefa7ef01a\",\"e01bd413-9d11-4564-baf1-846a75806c8b\",\"e6ff8f7e-e3bc-4c70-82ed-e5e32be2eeb3\",\"eff7255c-1733-4b9b-9aff-2a35e958bad3\"]},\"title\":\"Bokeh Application\",\"version\":\"0.11.1\"}};\n",
       "            var render_items = [{\"docid\":\"708f1c52-ef79-4921-94c8-6b35c771f310\",\"elementid\":\"03b62283-d737-451d-adce-83c7fb79f5da\",\"modelid\":\"eff7255c-1733-4b9b-9aff-2a35e958bad3\",\"notebook_comms_target\":\"ea9548c5-c9cc-40b7-9a27-500ca94c5694\"}];\n",
       "            \n",
       "            Bokeh.embed.embed_items(docs_json, render_items);\n",
       "        });\n",
       "      },\n",
       "      function(Bokeh) {\n",
       "      }\n",
       "    ];\n",
       "  \n",
       "    function run_inline_js() {\n",
       "      for (var i = 0; i < inline_js.length; i++) {\n",
       "        inline_js[i](window.Bokeh);\n",
       "      }\n",
       "    }\n",
       "  \n",
       "    if (window._bokeh_is_loading === 0) {\n",
       "      console.log(\"Bokeh: BokehJS loaded, going straight to plotting\");\n",
       "      run_inline_js();\n",
       "    } else {\n",
       "      load_libs(js_urls, function() {\n",
       "        console.log(\"Bokeh: BokehJS plotting callback run at\", now());\n",
       "        run_inline_js();\n",
       "      });\n",
       "    }\n",
       "  }(this));\n",
       "</script>"
      ]
     },
     "metadata": {},
     "output_type": "display_data"
    },
    {
     "data": {
      "text/html": [
       "<p><code>&lt;Bokeh Notebook handle for <strong>In[26]</strong>&gt;</code></p>"
      ],
      "text/plain": [
       "<bokeh.io._CommsHandle at 0x7fd1adf31860>"
      ]
     },
     "execution_count": 26,
     "metadata": {},
     "output_type": "execute_result"
    }
   ],
   "source": [
    "p = figure(\n",
    "    title=\"Speeds \", \n",
    "    background_fill_color=\"#E8DDCB\",\n",
    "    x_axis_label='Distance (km)', \n",
    "    y_axis_label='Time in hours',\n",
    ")\n",
    "\n",
    "p.circle(\n",
    "    [r.distance_total / 1000 for r in all_runs],\n",
    "    [r.time_total_s / 3600 for r in all_runs]\n",
    ")\n",
    "show(p)"
   ]
  },
  {
   "cell_type": "markdown",
   "metadata": {},
   "source": [
    "On the graph above you can see that I have overall very stable speed, which is kind of disturbing - I am not improving at all. :("
   ]
  }
 ],
 "metadata": {
  "kernelspec": {
   "display_name": "Python 3",
   "language": "python",
   "name": "python3"
  },
  "language_info": {
   "codemirror_mode": {
    "name": "ipython",
    "version": 3
   },
   "file_extension": ".py",
   "mimetype": "text/x-python",
   "name": "python",
   "nbconvert_exporter": "python",
   "pygments_lexer": "ipython3",
   "version": "3.5.1+"
  }
 },
 "nbformat": 4,
 "nbformat_minor": 0
}
