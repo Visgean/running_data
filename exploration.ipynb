{
 "cells": [
  {
   "cell_type": "markdown",
   "metadata": {},
   "source": [
    "Running data exploration\n",
    "========================\n",
    "\n",
    "In this notebook I explore my running data exported from Runkeeper app. The data is itself very primitive - just a XML full of GPS checkpoints. This means I will have to try to calculate distances myself.  \n",
    "\n",
    "Prerequisites:\n",
    " - python3\n",
    " - ``data`` folder contains all the files exported from runkeeper.\n",
    " - python packages: ``pip3 install python-dateutil geopy bokeh pyowm --user``"
   ]
  },
  {
   "cell_type": "code",
   "execution_count": 1,
   "metadata": {
    "collapsed": false
   },
   "outputs": [
    {
     "name": "stdout",
     "output_type": "stream",
     "text": [
      "2014-09-07-1616.gpx  2015-03-06-2142.gpx  2015-10-05-2208.gpx\r\n",
      "2014-09-09-0906.gpx  2015-03-09-1753.gpx  2015-10-28-1207.gpx\r\n",
      "2014-09-12-2043.gpx  2015-03-12-2113.gpx  2016-03-04-1838.gpx\r\n",
      "2014-09-20-1017.gpx  2015-03-17-1658.gpx  2016-04-05-2253.gpx\r\n",
      "2014-09-24-0900.gpx  2015-04-04-1355.gpx  2016-05-01-2045.gpx\r\n",
      "2014-09-28-2045.gpx  2015-04-05-1327.gpx  2016-05-21-1723.gpx\r\n",
      "2014-10-04-1951.gpx  2015-05-04-2003.gpx  2016-05-30-2106.gpx\r\n",
      "2014-10-30-2039.gpx  2015-05-10-2130.gpx  2016-06-04-1909.gpx\r\n",
      "2014-11-09-1830.gpx  2015-06-12-1957.gpx  2016-06-07-2137.gpx\r\n",
      "2014-12-08-1733.gpx  2015-07-07-2242.gpx  2016-06-10-2134.gpx\r\n",
      "2015-01-08-1930.gpx  2015-07-11-2132.gpx  2016-06-19-1714.gpx\r\n",
      "2015-01-11-1406.gpx  2015-07-28-2009.gpx  2016-06-25-2054.gpx\r\n",
      "2015-01-20-1855.gpx  2015-08-01-2128.gpx  cardioActivities.csv\r\n",
      "2015-01-23-1949.gpx  2015-08-08-1956.gpx  measurements.csv\r\n",
      "2015-01-28-1855.gpx  2015-08-28-2159.gpx\r\n",
      "2015-02-19-1957.gpx  2015-09-25-1113.gpx\r\n"
     ]
    }
   ],
   "source": [
    "ls data/"
   ]
  },
  {
   "cell_type": "markdown",
   "metadata": {},
   "source": [
    "No idea why Runkeeper calls these files .gpx, it might be some kind of standard. But meh. Lets see what is inside one of these:\n",
    "\n",
    "\n",
    "```xml\n",
    "<?xml version=\"1.0\" encoding=\"UTF-8\"?>\n",
    "<gpx\n",
    "    version=\"1.1\"\n",
    "    creator=\"Runkeeper - http://www.runkeeper.com\"\n",
    "    xmlns:xsi=\"http://www.w3.org/2001/XMLSchema-instance\"\n",
    "    xmlns=\"http://www.topografix.com/GPX/1/1\"\n",
    "    xsi:schemaLocation=\"http://www.topografix.com/GPX/1/1 http://www.topografix.com/GPX/1/1/gpx.xsd\"\n",
    "    xmlns:gpxtpx=\"http://www.garmin.com/xmlschemas/TrackPointExtension/v1\">\n",
    "    <trk>\n",
    "        <name><![CDATA[Running 6/25/16 8:54 pm]]></name>\n",
    "        <time>2016-06-25T18:54:53Z</time>\n",
    "        <trkseg>\n",
    "            <trkpt lat=\"50.599000\" lon=\"14.205000\">\n",
    "               <ele>327.0</ele>\n",
    "               <time>2016-06-25T18:54:53Z</time>\n",
    "            </trkpt>\n",
    "            <trkpt lat=\"50.599000\" lon=\"14.205000\">\n",
    "               <ele>326.7</ele>\n",
    "               <time>2016-06-25T18:54:55Z</time>\n",
    "            </trkpt>\n",
    "        </trkseg>\n",
    "    </trk>\n",
    "</gpx>\n",
    "```\n",
    "\n",
    "Note I redacted ``trkseg`` section because it had so many datapoints. Anyway as you can see the whole file contains datapoint for every 3 seconds.\n"
   ]
  },
  {
   "cell_type": "markdown",
   "metadata": {},
   "source": [
    "Parsing\n",
    "=======\n",
    "\n",
    "I am going to use python ``xml.etree`` library because I don't want to add additional dependencies. I will also get a bit low-level at the beggining and after I will refactor this parsing mess.\n",
    "\n",
    "Note that most of the ugliness of this code comes from using xml namespaces, unfortunetely there is no option to turn them off in the default xml.etree library, lxml project would probably be better at least for this purpose.\n",
    "\n"
   ]
  },
  {
   "cell_type": "code",
   "execution_count": 2,
   "metadata": {
    "collapsed": false
   },
   "outputs": [],
   "source": [
    "import xml.etree.ElementTree as ET\n",
    "tree = ET.parse('data/2016-06-25-2054.gpx')\n",
    "trkseg = tree.find('.//{http://www.topografix.com/GPX/1/1}trkseg')"
   ]
  },
  {
   "cell_type": "code",
   "execution_count": 3,
   "metadata": {
    "collapsed": false
   },
   "outputs": [
    {
     "data": {
      "text/plain": [
       "499"
      ]
     },
     "execution_count": 3,
     "metadata": {},
     "output_type": "execute_result"
    }
   ],
   "source": [
    "records = list(trkseg)\n",
    "len(records)"
   ]
  },
  {
   "cell_type": "code",
   "execution_count": 4,
   "metadata": {
    "collapsed": false
   },
   "outputs": [
    {
     "data": {
      "text/plain": [
       "dict_keys(['lat', 'lon'])"
      ]
     },
     "execution_count": 4,
     "metadata": {},
     "output_type": "execute_result"
    }
   ],
   "source": [
    "first = records[0]\n",
    "first.attrib.keys()"
   ]
  },
  {
   "cell_type": "code",
   "execution_count": 5,
   "metadata": {
    "collapsed": false
   },
   "outputs": [
    {
     "data": {
      "text/plain": [
       "[<Element '{http://www.topografix.com/GPX/1/1}ele' at 0x7f3d42746458>,\n",
       " <Element '{http://www.topografix.com/GPX/1/1}time' at 0x7f3d427464a8>]"
      ]
     },
     "execution_count": 5,
     "metadata": {},
     "output_type": "execute_result"
    }
   ],
   "source": [
    "list(first)"
   ]
  },
  {
   "cell_type": "code",
   "execution_count": 6,
   "metadata": {
    "collapsed": false
   },
   "outputs": [
    {
     "data": {
      "text/plain": [
       "'327.0'"
      ]
     },
     "execution_count": 6,
     "metadata": {},
     "output_type": "execute_result"
    }
   ],
   "source": [
    "elevation = first.find('{http://www.topografix.com/GPX/1/1}ele')\n",
    "elevation.text"
   ]
  },
  {
   "cell_type": "code",
   "execution_count": 7,
   "metadata": {
    "collapsed": false
   },
   "outputs": [
    {
     "data": {
      "text/plain": [
       "'2016-06-25T18:54:53Z'"
      ]
     },
     "execution_count": 7,
     "metadata": {},
     "output_type": "execute_result"
    }
   ],
   "source": [
    "first_time = first.find('{http://www.topografix.com/GPX/1/1}time')\n",
    "first_time.text"
   ]
  },
  {
   "cell_type": "markdown",
   "metadata": {},
   "source": [
    "# Refactoring\n",
    "\n",
    "Now that you see how to work with those files on the low level xml api lets hide this logic into simple class that can be constructed simply with a filename."
   ]
  },
  {
   "cell_type": "code",
   "execution_count": 8,
   "metadata": {
    "collapsed": false
   },
   "outputs": [],
   "source": [
    "from dateutil.parser import parse\n",
    "\n",
    "class Run:\n",
    "    def __init__(self, filename):\n",
    "        self.tree = ET.parse(filename)\n",
    "        self.records = [\n",
    "            {\n",
    "                'lat': record.attrib['lat'],\n",
    "                'lng': record.attrib['lon'],\n",
    "                'time': parse(record.find('{http://www.topografix.com/GPX/1/1}time').text),\n",
    "                'elevation': float(record.find('{http://www.topografix.com/GPX/1/1}ele').text),\n",
    "            } for record in self.tree.find('.//{http://www.topografix.com/GPX/1/1}trkseg')\n",
    "        ]"
   ]
  },
  {
   "cell_type": "markdown",
   "metadata": {},
   "source": [
    "This is much shorter than the original version. It is very simple and does not have any exception handling. Lets just assume everything goes all right. Now lets load all the runs."
   ]
  },
  {
   "cell_type": "code",
   "execution_count": 9,
   "metadata": {
    "collapsed": false
   },
   "outputs": [],
   "source": [
    "import glob, os\n",
    "\n",
    "from geopy.distance import distance\n",
    "from geopy import Point"
   ]
  },
  {
   "cell_type": "markdown",
   "metadata": {},
   "source": [
    "Yeah I know, you probably wanted me to calculate the distance by my own and not just import and module and be done with it. But I am lazy and know a shit about geography. Read distance implementation here: https://github.com/geopy/geopy/blob/master/geopy/distance.py and here: https://en.wikipedia.org/wiki/Vincenty%27s_formulae\n",
    "\n",
    "Anyway lets modify the run class to suppport distance calculation."
   ]
  },
  {
   "cell_type": "code",
   "execution_count": 10,
   "metadata": {
    "collapsed": false
   },
   "outputs": [],
   "source": [
    "class Run:\n",
    "    def __init__(self, filename):\n",
    "        self.tree = ET.parse(filename)\n",
    "        self.records = [\n",
    "            {\n",
    "                'lat': record.attrib['lat'],\n",
    "                'lng': record.attrib['lon'],\n",
    "                'time': parse(record.find('{http://www.topografix.com/GPX/1/1}time').text),\n",
    "                'elevation': float(record.find('{http://www.topografix.com/GPX/1/1}ele').text),\n",
    "            } for record in self.tree.find('.//{http://www.topografix.com/GPX/1/1}trkseg')\n",
    "        ]\n",
    "        \n",
    "    def pluck_attribute(self, attribute):\n",
    "        return [r[attribute] for r in self.records]\n",
    "    \n",
    "    @property\n",
    "    def elevations(self):\n",
    "        return self.pluck_attribute('elevation')\n",
    "    \n",
    "    @property\n",
    "    def times(self):\n",
    "        return self.pluck_attribute('time')\n",
    "    \n",
    "    @property\n",
    "    def speed(self):\n",
    "        'm/s'\n",
    "        return self.distance_total / self.time_total_s\n",
    "    \n",
    "    @property\n",
    "    def speed_kmph(self):\n",
    "        'km/h'\n",
    "        return self.speed * 3.6\n",
    "    \n",
    "    @property\n",
    "    def pace(self):\n",
    "        'Pace in m/km'\n",
    "        return (self.time_total_s / 60) / (self.distance_total / 1000)\n",
    "    \n",
    "    \n",
    "    @property\n",
    "    def distance_total(self):\n",
    "        \"\"\"\n",
    "        Returns distance in metres from the total run\n",
    "        \"\"\"\n",
    "        distances = []\n",
    "        for i in range(len(self.records)-1):\n",
    "            this_point = Point(self.records[i]['lat'], self.records[i]['lng'])\n",
    "            next_point = Point(self.records[i+1]['lat'], self.records[i+1]['lng'])\n",
    "            distances.append(distance(this_point, next_point).meters)\n",
    "        \n",
    "        return sum(distances)\n",
    "    \n",
    "    @property\n",
    "    def start(self):\n",
    "        return min(self.times)\n",
    "    \n",
    "    @property\n",
    "    def end(self):\n",
    "        return max(self.times)\n",
    "    \n",
    "    @property\n",
    "    def time_total(self):\n",
    "        \"Time total\"\n",
    "        return self.end - self.start\n",
    "    \n",
    "        \n",
    "    @property\n",
    "    def time_total_s(self):\n",
    "        \"Time total in seconds\"\n",
    "        return self.time_total.seconds\n",
    "    \n",
    "    @classmethod\n",
    "    def load_runs(cls, data_dir='./data'):\n",
    "        glob_joined = os.path.join(data_dir, '*.gpx')\n",
    "        runs = [cls(f) for f in glob.glob(glob_joined)]\n",
    "        return list(filter(lambda r: len(r.records) > 5, runs)) # exclude all runs with insufficient data\n",
    "    \n",
    "    \n",
    "last_night = Run('data/2016-06-25-2054.gpx')"
   ]
  },
  {
   "cell_type": "code",
   "execution_count": 11,
   "metadata": {
    "collapsed": false
   },
   "outputs": [
    {
     "data": {
      "text/plain": [
       "5641.157399618419"
      ]
     },
     "execution_count": 11,
     "metadata": {},
     "output_type": "execute_result"
    }
   ],
   "source": [
    "last_night.distance_total"
   ]
  },
  {
   "cell_type": "markdown",
   "metadata": {},
   "source": [
    "This is the same value that Run keeper shows. Nice."
   ]
  },
  {
   "cell_type": "code",
   "execution_count": 12,
   "metadata": {
    "collapsed": false,
    "scrolled": true
   },
   "outputs": [
    {
     "data": {
      "text/plain": [
       "50.8"
      ]
     },
     "execution_count": 12,
     "metadata": {},
     "output_type": "execute_result"
    }
   ],
   "source": [
    "last_night.time_total_s / 60"
   ]
  },
  {
   "cell_type": "code",
   "execution_count": 13,
   "metadata": {
    "collapsed": false
   },
   "outputs": [
    {
     "data": {
      "text/plain": [
       "6.662784330257975"
      ]
     },
     "execution_count": 13,
     "metadata": {},
     "output_type": "execute_result"
    }
   ],
   "source": [
    "last_night.speed_kmph"
   ]
  },
  {
   "cell_type": "code",
   "execution_count": 14,
   "metadata": {
    "collapsed": false
   },
   "outputs": [
    {
     "data": {
      "text/plain": [
       "9.00524420811875"
      ]
     },
     "execution_count": 14,
     "metadata": {},
     "output_type": "execute_result"
    }
   ],
   "source": [
    "last_night.pace"
   ]
  },
  {
   "cell_type": "markdown",
   "metadata": {},
   "source": [
    "# Plot it\n",
    "![Plot cesky](http://www.saternus.sk/a/files/produkte/PLOT_DREVENY_Z_DOSIEK/PLOT_DREVENY_Z_DOSIEK_high.jpg)\n"
   ]
  },
  {
   "cell_type": "code",
   "execution_count": 15,
   "metadata": {
    "collapsed": false
   },
   "outputs": [
    {
     "data": {
      "text/html": [
       "\n",
       "    <div class=\"bk-banner\">\n",
       "        <a href=\"http://bokeh.pydata.org\" target=\"_blank\" class=\"bk-logo bk-logo-small bk-logo-notebook\"></a>\n",
       "        <span id=\"f6845830-5a0a-4446-9aaf-38b17cc30710\">Loading BokehJS ...</span>\n",
       "    </div>"
      ]
     },
     "metadata": {},
     "output_type": "display_data"
    },
    {
     "data": {
      "application/javascript": [
       "\n",
       "(function(global) {\n",
       "  function now() {\n",
       "    return new Date();\n",
       "  }\n",
       "\n",
       "  if (typeof (window._bokeh_onload_callbacks) === \"undefined\") {\n",
       "    window._bokeh_onload_callbacks = [];\n",
       "  }\n",
       "\n",
       "  function run_callbacks() {\n",
       "    window._bokeh_onload_callbacks.forEach(function(callback) { callback() });\n",
       "    delete window._bokeh_onload_callbacks\n",
       "    console.info(\"Bokeh: all callbacks have finished\");\n",
       "  }\n",
       "\n",
       "  function load_libs(js_urls, callback) {\n",
       "    window._bokeh_onload_callbacks.push(callback);\n",
       "    if (window._bokeh_is_loading > 0) {\n",
       "      console.log(\"Bokeh: BokehJS is being loaded, scheduling callback at\", now());\n",
       "      return null;\n",
       "    }\n",
       "    if (js_urls == null || js_urls.length === 0) {\n",
       "      run_callbacks();\n",
       "      return null;\n",
       "    }\n",
       "    console.log(\"Bokeh: BokehJS not loaded, scheduling load and callback at\", now());\n",
       "    window._bokeh_is_loading = js_urls.length;\n",
       "    for (var i = 0; i < js_urls.length; i++) {\n",
       "      var url = js_urls[i];\n",
       "      var s = document.createElement('script');\n",
       "      s.src = url;\n",
       "      s.async = false;\n",
       "      s.onreadystatechange = s.onload = function() {\n",
       "        window._bokeh_is_loading--;\n",
       "        if (window._bokeh_is_loading === 0) {\n",
       "          console.log(\"Bokeh: all BokehJS libraries loaded\");\n",
       "          run_callbacks()\n",
       "        }\n",
       "      };\n",
       "      s.onerror = function() {\n",
       "        console.warn(\"failed to load library \" + url);\n",
       "      };\n",
       "      console.log(\"Bokeh: injecting script tag for BokehJS library: \", url);\n",
       "      document.getElementsByTagName(\"head\")[0].appendChild(s);\n",
       "    }\n",
       "  };\n",
       "\n",
       "  var js_urls = ['https://cdn.pydata.org/bokeh/release/bokeh-0.11.1.min.js', 'https://cdn.pydata.org/bokeh/release/bokeh-widgets-0.11.1.min.js', 'https://cdn.pydata.org/bokeh/release/bokeh-compiler-0.11.1.min.js'];\n",
       "\n",
       "  var inline_js = [\n",
       "    function(Bokeh) {\n",
       "      Bokeh.set_log_level(\"info\");\n",
       "    },\n",
       "    \n",
       "    function(Bokeh) {\n",
       "      Bokeh.$(\"#f6845830-5a0a-4446-9aaf-38b17cc30710\").text(\"BokehJS successfully loaded\");\n",
       "    },\n",
       "    function(Bokeh) {\n",
       "      console.log(\"Bokeh: injecting CSS: https://cdn.pydata.org/bokeh/release/bokeh-0.11.1.min.css\");\n",
       "      Bokeh.embed.inject_css(\"https://cdn.pydata.org/bokeh/release/bokeh-0.11.1.min.css\");\n",
       "      console.log(\"Bokeh: injecting CSS: https://cdn.pydata.org/bokeh/release/bokeh-widgets-0.11.1.min.css\");\n",
       "      Bokeh.embed.inject_css(\"https://cdn.pydata.org/bokeh/release/bokeh-widgets-0.11.1.min.css\");\n",
       "    }\n",
       "  ];\n",
       "\n",
       "  function run_inline_js() {\n",
       "    for (var i = 0; i < inline_js.length; i++) {\n",
       "      inline_js[i](window.Bokeh);\n",
       "    }\n",
       "  }\n",
       "\n",
       "  if (window._bokeh_is_loading === 0) {\n",
       "    console.log(\"Bokeh: BokehJS loaded, going straight to plotting\");\n",
       "    run_inline_js();\n",
       "  } else {\n",
       "    load_libs(js_urls, function() {\n",
       "      console.log(\"Bokeh: BokehJS plotting callback run at\", now());\n",
       "      run_inline_js();\n",
       "    });\n",
       "  }\n",
       "}(this));"
      ]
     },
     "metadata": {},
     "output_type": "display_data"
    }
   ],
   "source": [
    "from bokeh.plotting import figure, show, output_notebook\n",
    "output_notebook()"
   ]
  },
  {
   "cell_type": "code",
   "execution_count": 16,
   "metadata": {
    "collapsed": false
   },
   "outputs": [
    {
     "data": {
      "text/html": [
       "\n",
       "\n",
       "    <div class=\"plotdiv\" id=\"8d4ef507-d84f-4c5b-a919-490257dd7367\"></div>\n",
       "<script type=\"text/javascript\">\n",
       "  \n",
       "  (function(global) {\n",
       "    function now() {\n",
       "      return new Date();\n",
       "    }\n",
       "  \n",
       "    if (typeof (window._bokeh_onload_callbacks) === \"undefined\") {\n",
       "      window._bokeh_onload_callbacks = [];\n",
       "    }\n",
       "  \n",
       "    function run_callbacks() {\n",
       "      window._bokeh_onload_callbacks.forEach(function(callback) { callback() });\n",
       "      delete window._bokeh_onload_callbacks\n",
       "      console.info(\"Bokeh: all callbacks have finished\");\n",
       "    }\n",
       "  \n",
       "    function load_libs(js_urls, callback) {\n",
       "      window._bokeh_onload_callbacks.push(callback);\n",
       "      if (window._bokeh_is_loading > 0) {\n",
       "        console.log(\"Bokeh: BokehJS is being loaded, scheduling callback at\", now());\n",
       "        return null;\n",
       "      }\n",
       "      if (js_urls == null || js_urls.length === 0) {\n",
       "        run_callbacks();\n",
       "        return null;\n",
       "      }\n",
       "      console.log(\"Bokeh: BokehJS not loaded, scheduling load and callback at\", now());\n",
       "      window._bokeh_is_loading = js_urls.length;\n",
       "      for (var i = 0; i < js_urls.length; i++) {\n",
       "        var url = js_urls[i];\n",
       "        var s = document.createElement('script');\n",
       "        s.src = url;\n",
       "        s.async = false;\n",
       "        s.onreadystatechange = s.onload = function() {\n",
       "          window._bokeh_is_loading--;\n",
       "          if (window._bokeh_is_loading === 0) {\n",
       "            console.log(\"Bokeh: all BokehJS libraries loaded\");\n",
       "            run_callbacks()\n",
       "          }\n",
       "        };\n",
       "        s.onerror = function() {\n",
       "          console.warn(\"failed to load library \" + url);\n",
       "        };\n",
       "        console.log(\"Bokeh: injecting script tag for BokehJS library: \", url);\n",
       "        document.getElementsByTagName(\"head\")[0].appendChild(s);\n",
       "      }\n",
       "    };var element = document.getElementById(\"8d4ef507-d84f-4c5b-a919-490257dd7367\");\n",
       "    if (element == null) {\n",
       "      console.log(\"Bokeh: ERROR: autoload.js configured with elementid '8d4ef507-d84f-4c5b-a919-490257dd7367' but no matching script tag was found. \")\n",
       "      return false;\n",
       "    }\n",
       "  \n",
       "    var js_urls = [];\n",
       "  \n",
       "    var inline_js = [\n",
       "      function(Bokeh) {\n",
       "        Bokeh.$(function() {\n",
       "            var docs_json = {\"cebb5401-7878-4534-a164-9f8ca335ac52\":{\"roots\":{\"references\":[{\"attributes\":{\"background_fill_color\":{\"value\":\"#E8DDCB\"},\"below\":[{\"id\":\"9aba3f96-5142-4849-9f05-28a5d0be9b6b\",\"type\":\"DatetimeAxis\"}],\"left\":[{\"id\":\"fef7c37c-3d64-4363-85f0-3742c85216e6\",\"type\":\"LinearAxis\"}],\"renderers\":[{\"id\":\"9aba3f96-5142-4849-9f05-28a5d0be9b6b\",\"type\":\"DatetimeAxis\"},{\"id\":\"4b28882f-a29b-49d1-8f9c-450ea4aa7b0a\",\"type\":\"Grid\"},{\"id\":\"fef7c37c-3d64-4363-85f0-3742c85216e6\",\"type\":\"LinearAxis\"},{\"id\":\"4eb5d7a9-8613-465e-86f1-9972192260e6\",\"type\":\"Grid\"},{\"id\":\"5316dccd-9827-40f7-a3da-f53623089dba\",\"type\":\"BoxAnnotation\"},{\"id\":\"3f161b64-43c6-4831-8203-082c3bc97644\",\"type\":\"GlyphRenderer\"}],\"title\":\"Elevation from last night run\",\"tool_events\":{\"id\":\"d491037d-8871-44f8-b96a-2dfe98f01437\",\"type\":\"ToolEvents\"},\"tools\":[{\"id\":\"f8eed474-42a1-4496-b560-2749e15a23ee\",\"type\":\"PanTool\"},{\"id\":\"57581b32-76d8-4a68-846f-66d55a42efa7\",\"type\":\"WheelZoomTool\"},{\"id\":\"3c7da2a0-14ee-4555-8fab-86947a5a7ef3\",\"type\":\"BoxZoomTool\"},{\"id\":\"35a37bf5-722c-4572-805e-5ee04cf2ad23\",\"type\":\"PreviewSaveTool\"},{\"id\":\"387ae7b2-e9fc-4c77-a3d8-a1549b54d6dc\",\"type\":\"ResizeTool\"},{\"id\":\"9fbccf3e-494f-4f39-acc7-fa0886869cae\",\"type\":\"ResetTool\"},{\"id\":\"a4cbdf63-22ce-4af7-b066-2012508b3609\",\"type\":\"HelpTool\"}],\"x_range\":{\"id\":\"b2e414df-935c-4a49-afe2-cb1c6e60218b\",\"type\":\"DataRange1d\"},\"y_range\":{\"id\":\"3b936054-9e81-4597-9d7b-581e5a906a1d\",\"type\":\"DataRange1d\"}},\"id\":\"a18e9477-e8f6-4137-aa2c-ada6a022b684\",\"subtype\":\"Figure\",\"type\":\"Plot\"},{\"attributes\":{\"num_minor_ticks\":5},\"id\":\"ea29c826-67c5-42a1-ba0c-b532b95f265d\",\"type\":\"DatetimeTicker\"},{\"attributes\":{\"plot\":{\"id\":\"a18e9477-e8f6-4137-aa2c-ada6a022b684\",\"subtype\":\"Figure\",\"type\":\"Plot\"}},\"id\":\"57581b32-76d8-4a68-846f-66d55a42efa7\",\"type\":\"WheelZoomTool\"},{\"attributes\":{\"callback\":null,\"column_names\":[\"x\",\"y\"],\"data\":{\"x\":[1466880893000.0,1466880895000.0,1466880898000.0,1466880911000.0,1466880918000.0,1466880929000.0,1466880933000.0,1466880936000.0,1466880939000.0,1466880942000.0,1466880945000.0,1466880948000.0,1466880951000.0,1466880954000.0,1466880957000.0,1466880960000.0,1466880964000.0,1466880967000.0,1466880970000.0,1466880973000.0,1466880976000.0,1466880980000.0,1466880983000.0,1466880987000.0,1466880991000.0,1466880995000.0,1466880999000.0,1466881003000.0,1466881006000.0,1466881009000.0,1466881012000.0,1466881015000.0,1466881018000.0,1466881021000.0,1466881024000.0,1466881027000.0,1466881031000.0,1466881034000.0,1466881038000.0,1466881071000.0,1466881074000.0,1466881077000.0,1466881080000.0,1466881082000.0,1466881085000.0,1466881088000.0,1466881091000.0,1466881094000.0,1466881097000.0,1466881100000.0,1466881103000.0,1466881106000.0,1466881109000.0,1466881112000.0,1466881116000.0,1466881138000.0,1466881141000.0,1466881144000.0,1466881147000.0,1466881150000.0,1466881153000.0,1466881156000.0,1466881159000.0,1466881162000.0,1466881165000.0,1466881168000.0,1466881171000.0,1466881175000.0,1466881178000.0,1466881181000.0,1466881184000.0,1466881187000.0,1466881190000.0,1466881193000.0,1466881196000.0,1466881200000.0,1466881214000.0,1466881222000.0,1466881226000.0,1466881229000.0,1466881232000.0,1466881235000.0,1466881238000.0,1466881241000.0,1466881244000.0,1466881247000.0,1466881250000.0,1466881253000.0,1466881256000.0,1466881259000.0,1466881262000.0,1466881265000.0,1466881268000.0,1466881271000.0,1466881274000.0,1466881285000.0,1466881301000.0,1466881304000.0,1466881307000.0,1466881309000.0,1466881312000.0,1466881315000.0,1466881318000.0,1466881322000.0,1466881325000.0,1466881328000.0,1466881331000.0,1466881335000.0,1466881350000.0,1466881358000.0,1466881361000.0,1466881364000.0,1466881367000.0,1466881370000.0,1466881373000.0,1466881376000.0,1466881379000.0,1466881383000.0,1466881386000.0,1466881389000.0,1466881392000.0,1466881396000.0,1466881400000.0,1466881403000.0,1466881406000.0,1466881409000.0,1466881412000.0,1466881437000.0,1466881447000.0,1466881451000.0,1466881454000.0,1466881457000.0,1466881460000.0,1466881463000.0,1466881466000.0,1466881469000.0,1466881472000.0,1466881475000.0,1466881478000.0,1466881480000.0,1466881483000.0,1466881486000.0,1466881489000.0,1466881492000.0,1466881495000.0,1466881498000.0,1466881501000.0,1466881504000.0,1466881507000.0,1466881510000.0,1466881513000.0,1466881516000.0,1466881520000.0,1466881523000.0,1466881526000.0,1466881530000.0,1466881534000.0,1466881544000.0,1466881556000.0,1466881564000.0,1466881571000.0,1466881578000.0,1466881586000.0,1466881597000.0,1466881604000.0,1466881613000.0,1466881621000.0,1466881624000.0,1466881627000.0,1466881631000.0,1466881635000.0,1466881639000.0,1466881643000.0,1466881647000.0,1466881651000.0,1466881655000.0,1466881659000.0,1466881663000.0,1466881683000.0,1466881690000.0,1466881694000.0,1466881698000.0,1466881702000.0,1466881707000.0,1466881712000.0,1466881717000.0,1466881722000.0,1466881726000.0,1466881732000.0,1466881737000.0,1466881741000.0,1466881746000.0,1466881751000.0,1466881759000.0,1466881769000.0,1466881780000.0,1466881789000.0,1466881797000.0,1466881807000.0,1466881813000.0,1466881817000.0,1466881821000.0,1466881826000.0,1466881868000.0,1466881872000.0,1466881877000.0,1466881881000.0,1466881885000.0,1466881889000.0,1466881893000.0,1466881897000.0,1466881903000.0,1466881908000.0,1466881913000.0,1466881919000.0,1466881945000.0,1466881957000.0,1466881961000.0,1466881965000.0,1466881970000.0,1466881997000.0,1466882002000.0,1466882040000.0,1466882045000.0,1466882050000.0,1466882056000.0,1466882061000.0,1466882067000.0,1466882072000.0,1466882076000.0,1466882080000.0,1466882083000.0,1466882087000.0,1466882092000.0,1466882097000.0,1466882102000.0,1466882107000.0,1466882111000.0,1466882144000.0,1466882166000.0,1466882175000.0,1466882183000.0,1466882222000.0,1466882326000.0,1466882332000.0,1466882336000.0,1466882339000.0,1466882342000.0,1466882345000.0,1466882348000.0,1466882352000.0,1466882356000.0,1466882360000.0,1466882364000.0,1466882368000.0,1466882373000.0,1466882378000.0,1466882383000.0,1466882387000.0,1466882391000.0,1466882395000.0,1466882399000.0,1466882404000.0,1466882420000.0,1466882424000.0,1466882428000.0,1466882432000.0,1466882436000.0,1466882441000.0,1466882446000.0,1466882452000.0,1466882456000.0,1466882460000.0,1466882464000.0,1466882468000.0,1466882472000.0,1466882476000.0,1466882480000.0,1466882485000.0,1466882490000.0,1466882494000.0,1466882500000.0,1466882506000.0,1466882511000.0,1466882518000.0,1466882527000.0,1466882540000.0,1466882545000.0,1466882550000.0,1466882555000.0,1466882562000.0,1466882568000.0,1466882573000.0,1466882578000.0,1466882584000.0,1466882589000.0,1466882604000.0,1466882643000.0,1466882654000.0,1466882662000.0,1466882666000.0,1466882669000.0,1466882673000.0,1466882677000.0,1466882681000.0,1466882687000.0,1466882692000.0,1466882697000.0,1466882732000.0,1466882737000.0,1466882743000.0,1466882748000.0,1466882752000.0,1466882758000.0,1466882764000.0,1466882770000.0,1466882799000.0,1466882803000.0,1466882806000.0,1466882809000.0,1466882812000.0,1466882816000.0,1466882820000.0,1466882824000.0,1466882829000.0,1466882832000.0,1466882835000.0,1466882839000.0,1466882842000.0,1466882846000.0,1466882850000.0,1466882854000.0,1466882858000.0,1466882863000.0,1466882867000.0,1466882871000.0,1466882876000.0,1466882883000.0,1466882892000.0,1466882902000.0,1466882933000.0,1466882937000.0,1466882941000.0,1466882945000.0,1466882949000.0,1466882953000.0,1466882957000.0,1466882961000.0,1466882965000.0,1466882969000.0,1466882993000.0,1466882997000.0,1466883001000.0,1466883005000.0,1466883009000.0,1466883014000.0,1466883019000.0,1466883024000.0,1466883028000.0,1466883032000.0,1466883036000.0,1466883040000.0,1466883044000.0,1466883048000.0,1466883052000.0,1466883057000.0,1466883062000.0,1466883082000.0,1466883098000.0,1466883102000.0,1466883106000.0,1466883109000.0,1466883112000.0,1466883116000.0,1466883120000.0,1466883124000.0,1466883129000.0,1466883135000.0,1466883142000.0,1466883150000.0,1466883161000.0,1466883169000.0,1466883174000.0,1466883179000.0,1466883183000.0,1466883186000.0,1466883189000.0,1466883193000.0,1466883196000.0,1466883199000.0,1466883203000.0,1466883209000.0,1466883213000.0,1466883217000.0,1466883221000.0,1466883225000.0,1466883229000.0,1466883233000.0,1466883238000.0,1466883243000.0,1466883247000.0,1466883250000.0,1466883253000.0,1466883257000.0,1466883260000.0,1466883264000.0,1466883269000.0,1466883274000.0,1466883296000.0,1466883301000.0,1466883304000.0,1466883308000.0,1466883314000.0,1466883319000.0,1466883323000.0,1466883326000.0,1466883329000.0,1466883333000.0,1466883337000.0,1466883341000.0,1466883345000.0,1466883349000.0,1466883353000.0,1466883358000.0,1466883363000.0,1466883368000.0,1466883374000.0,1466883380000.0,1466883385000.0,1466883390000.0,1466883394000.0,1466883399000.0,1466883413000.0,1466883430000.0,1466883439000.0,1466883448000.0,1466883452000.0,1466883456000.0,1466883460000.0,1466883464000.0,1466883468000.0,1466883473000.0,1466883478000.0,1466883483000.0,1466883489000.0,1466883494000.0,1466883498000.0,1466883502000.0,1466883507000.0,1466883513000.0,1466883518000.0,1466883523000.0,1466883558000.0,1466883562000.0,1466883566000.0,1466883570000.0,1466883574000.0,1466883578000.0,1466883582000.0,1466883587000.0,1466883592000.0,1466883598000.0,1466883605000.0,1466883612000.0,1466883620000.0,1466883630000.0,1466883642000.0,1466883650000.0,1466883659000.0,1466883667000.0,1466883676000.0,1466883684000.0,1466883692000.0,1466883700000.0,1466883709000.0,1466883719000.0,1466883728000.0,1466883736000.0,1466883743000.0,1466883753000.0,1466883763000.0,1466883772000.0,1466883781000.0,1466883789000.0,1466883799000.0,1466883807000.0,1466883817000.0,1466883828000.0,1466883836000.0,1466883844000.0,1466883852000.0,1466883861000.0,1466883871000.0,1466883879000.0,1466883888000.0,1466883897000.0,1466883904000.0,1466883915000.0,1466883941000.0],\"y\":[327.0,326.7,326.5,326.3,325.9,325.5,325.0,324.5,323.9,323.2,322.7,322.3,321.8,321.4,320.9,320.5,320.2,319.8,319.5,319.1,318.9,318.7,318.5,318.4,318.2,318.0,318.0,318.0,318.0,318.0,317.3,316.5,315.8,315.1,314.4,313.6,312.9,312.2,311.5,310.7,310.0,309.4,308.7,308.1,307.5,306.8,306.2,305.5,304.9,304.0,303.1,302.2,301.9,301.6,301.4,301.0,300.6,300.3,299.7,299.2,298.9,298.6,298.4,298.1,297.8,297.5,297.1,296.6,296.2,295.9,295.6,295.3,294.9,294.5,294.2,293.8,293.5,293.4,293.3,293.2,293.1,293.0,292.9,292.5,292.2,291.8,291.5,291.1,290.7,290.4,290.0,289.6,289.4,289.2,289.3,289.4,289.5,289.5,289.6,289.7,289.6,289.5,289.5,289.3,289.1,288.9,288.7,288.5,288.3,288.0,287.7,287.6,287.5,287.5,287.4,287.3,286.9,286.5,286.2,285.7,285.3,284.8,284.4,283.9,283.5,283.0,282.5,282.4,282.2,282.0,282.0,282.0,282.0,281.8,281.6,281.5,281.2,280.9,280.5,280.2,279.8,279.5,279.1,278.7,278.5,278.2,277.9,277.7,277.5,277.5,277.4,277.3,277.0,276.7,276.5,276.3,276.1,275.9,275.7,275.5,275.4,275.2,275.0,275.0,275.0,275.0,275.0,275.2,275.4,275.5,275.7,275.9,276.1,276.3,276.5,276.6,276.8,277.2,277.4,277.5,277.7,277.9,278.1,278.3,278.5,278.6,279.0,279.4,279.5,279.7,279.9,280.1,280.3,280.5,280.6,280.8,281.1,281.4,281.6,281.9,282.2,282.5,282.7,283.0,283.3,283.7,284.5,285.1,285.5,286.0,286.5,286.9,287.4,287.8,288.7,289.6,290.4,290.8,291.6,292.5,293.3,294.1,294.9,295.9,296.9,297.5,298.0,298.5,299.1,299.5,299.8,300.4,300.9,301.5,301.8,302.2,302.5,302.9,303.3,303.6,303.8,304.0,304.0,304.0,304.3,304.5,304.8,305.1,305.4,305.6,305.9,306.2,306.5,306.7,307.0,307.0,307.4,307.7,308.1,308.5,309.0,309.5,309.9,310.4,310.8,311.3,311.7,311.8,311.9,312.0,312.0,312.0,312.3,312.5,312.8,313.1,313.4,313.8,314.3,314.7,315.2,315.6,316.1,316.3,316.6,317.0,317.4,318.2,318.8,319.5,320.1,320.9,321.7,322.5,323.4,324.0,324.6,325.3,325.6,326.0,326.7,327.5,328.0,328.5,329.1,329.6,330.5,331.3,332.1,332.7,333.4,333.6,333.6,333.6,333.6,333.6,333.6,333.4,332.9,332.5,332.0,331.5,331.1,330.9,330.5,330.2,329.8,329.5,329.1,328.9,328.7,328.5,328.4,328.2,328.0,328.0,328.0,328.0,328.0,328.0,328.1,328.2,328.3,328.4,328.5,328.5,328.6,328.7,328.8,328.9,329.0,328.9,328.8,328.7,328.6,328.5,328.5,328.4,328.3,328.2,328.1,328.0,328.0,328.0,328.0,328.0,328.0,328.0,328.0,328.0,328.0,327.7,327.5,327.2,326.9,326.6,326.4,325.9,325.5,325.0,324.5,324.1,323.9,323.2,322.5,321.7,321.0,321.2,321.5,321.4,321.2,321.0,320.8,320.6,321.0,320.6,320.3,319.9,318.6,317.4,316.0,314.6,313.3,311.9,310.5,309.2,308.5,307.7,307.0,306.3,305.5,305.4,305.2,305.0,304.8,304.6,304.5,304.5,304.5,304.5,304.5,304.5,304.6,304.8,305.0,305.2,305.4,305.5,305.8,306.1,306.4,306.6,306.9,307.2,307.5,307.7,308.0,308.3,308.5,308.9,309.3,309.6,310.0,310.4,310.8,311.3,311.7,312.2,312.6,313.1,313.5,313.8,314.2,314.0,314.4,314.7,315.1,315.5,315.8,316.2,316.5,316.7,316.9,317.1,317.8,318.0,318.0,318.0,318.0,318.0,318.0,318.0,318.0,318.2,318.4,318.5,318.7,318.9,319.1,319.5,319.8,320.2,320.5,320.9,321.4,321.8,322.3,322.7,323.2,323.6,324.2,324.7,325.3,325.8,326.2,326.3,326.5,326.7,327.0]}},\"id\":\"caf3f700-54ea-450f-9feb-0e3f3e42a9e8\",\"type\":\"ColumnDataSource\"},{\"attributes\":{},\"id\":\"b85035e3-2e88-4a66-8084-a6931d900062\",\"type\":\"DatetimeTickFormatter\"},{\"attributes\":{\"axis_label\":\"Elevation (m)\",\"formatter\":{\"id\":\"9ef15a0d-8af0-4391-b741-ba2087f9fdb9\",\"type\":\"BasicTickFormatter\"},\"plot\":{\"id\":\"a18e9477-e8f6-4137-aa2c-ada6a022b684\",\"subtype\":\"Figure\",\"type\":\"Plot\"},\"ticker\":{\"id\":\"7f4659ee-a7c4-479a-923d-635d3276e9ea\",\"type\":\"BasicTicker\"}},\"id\":\"fef7c37c-3d64-4363-85f0-3742c85216e6\",\"type\":\"LinearAxis\"},{\"attributes\":{\"days\":[1,15]},\"id\":\"bf311781-60b9-4636-87fa-29cc5e000fc7\",\"type\":\"DaysTicker\"},{\"attributes\":{},\"id\":\"9ef15a0d-8af0-4391-b741-ba2087f9fdb9\",\"type\":\"BasicTickFormatter\"},{\"attributes\":{\"callback\":null},\"id\":\"3b936054-9e81-4597-9d7b-581e5a906a1d\",\"type\":\"DataRange1d\"},{\"attributes\":{\"plot\":{\"id\":\"a18e9477-e8f6-4137-aa2c-ada6a022b684\",\"subtype\":\"Figure\",\"type\":\"Plot\"}},\"id\":\"9fbccf3e-494f-4f39-acc7-fa0886869cae\",\"type\":\"ResetTool\"},{\"attributes\":{\"base\":60,\"mantissas\":[1,2,5,10,15,20,30],\"max_interval\":1800000.0,\"min_interval\":1000.0,\"num_minor_ticks\":0},\"id\":\"5db965d2-1d3a-40e2-a8e0-3b2f0d7ef372\",\"type\":\"AdaptiveTicker\"},{\"attributes\":{},\"id\":\"8c719ebd-2db1-4148-8343-31b7681f5dfa\",\"type\":\"YearsTicker\"},{\"attributes\":{\"overlay\":{\"id\":\"5316dccd-9827-40f7-a3da-f53623089dba\",\"type\":\"BoxAnnotation\"},\"plot\":{\"id\":\"a18e9477-e8f6-4137-aa2c-ada6a022b684\",\"subtype\":\"Figure\",\"type\":\"Plot\"}},\"id\":\"3c7da2a0-14ee-4555-8fab-86947a5a7ef3\",\"type\":\"BoxZoomTool\"},{\"attributes\":{\"data_source\":{\"id\":\"caf3f700-54ea-450f-9feb-0e3f3e42a9e8\",\"type\":\"ColumnDataSource\"},\"glyph\":{\"id\":\"a5202e0e-c88e-4dbb-86a5-b9838b3a915d\",\"type\":\"Line\"},\"hover_glyph\":null,\"nonselection_glyph\":{\"id\":\"f9b7d84d-6d9e-4e73-b3b9-d86f4d21fc3f\",\"type\":\"Line\"},\"selection_glyph\":null},\"id\":\"3f161b64-43c6-4831-8203-082c3bc97644\",\"type\":\"GlyphRenderer\"},{\"attributes\":{\"days\":[1,4,7,10,13,16,19,22,25,28]},\"id\":\"128f03fa-89b9-44b7-af52-387fb6c0fcc5\",\"type\":\"DaysTicker\"},{\"attributes\":{\"base\":24,\"mantissas\":[1,2,4,6,8,12],\"max_interval\":43200000.0,\"min_interval\":3600000.0,\"num_minor_ticks\":0},\"id\":\"46b684c2-2d5f-4586-8e07-4371790478c5\",\"type\":\"AdaptiveTicker\"},{\"attributes\":{\"plot\":{\"id\":\"a18e9477-e8f6-4137-aa2c-ada6a022b684\",\"subtype\":\"Figure\",\"type\":\"Plot\"}},\"id\":\"a4cbdf63-22ce-4af7-b066-2012508b3609\",\"type\":\"HelpTool\"},{\"attributes\":{},\"id\":\"7f4659ee-a7c4-479a-923d-635d3276e9ea\",\"type\":\"BasicTicker\"},{\"attributes\":{\"callback\":null},\"id\":\"b2e414df-935c-4a49-afe2-cb1c6e60218b\",\"type\":\"DataRange1d\"},{\"attributes\":{\"plot\":{\"id\":\"a18e9477-e8f6-4137-aa2c-ada6a022b684\",\"subtype\":\"Figure\",\"type\":\"Plot\"}},\"id\":\"387ae7b2-e9fc-4c77-a3d8-a1549b54d6dc\",\"type\":\"ResizeTool\"},{\"attributes\":{\"line_color\":{\"value\":\"#1f77b4\"},\"x\":{\"field\":\"x\"},\"y\":{\"field\":\"y\"}},\"id\":\"a5202e0e-c88e-4dbb-86a5-b9838b3a915d\",\"type\":\"Line\"},{\"attributes\":{\"plot\":{\"id\":\"a18e9477-e8f6-4137-aa2c-ada6a022b684\",\"subtype\":\"Figure\",\"type\":\"Plot\"},\"ticker\":{\"id\":\"ea29c826-67c5-42a1-ba0c-b532b95f265d\",\"type\":\"DatetimeTicker\"}},\"id\":\"4b28882f-a29b-49d1-8f9c-450ea4aa7b0a\",\"type\":\"Grid\"},{\"attributes\":{\"months\":[0,1,2,3,4,5,6,7,8,9,10,11]},\"id\":\"a9e463bf-e838-4c7d-9984-bb3d56281b81\",\"type\":\"MonthsTicker\"},{\"attributes\":{\"plot\":{\"id\":\"a18e9477-e8f6-4137-aa2c-ada6a022b684\",\"subtype\":\"Figure\",\"type\":\"Plot\"}},\"id\":\"35a37bf5-722c-4572-805e-5ee04cf2ad23\",\"type\":\"PreviewSaveTool\"},{\"attributes\":{\"days\":[1,8,15,22]},\"id\":\"2fdaf689-0767-4f2a-acae-400b42156738\",\"type\":\"DaysTicker\"},{\"attributes\":{\"days\":[1,2,3,4,5,6,7,8,9,10,11,12,13,14,15,16,17,18,19,20,21,22,23,24,25,26,27,28,29,30,31]},\"id\":\"83187b6e-70f3-47d1-856b-f1db6678d12d\",\"type\":\"DaysTicker\"},{\"attributes\":{},\"id\":\"d491037d-8871-44f8-b96a-2dfe98f01437\",\"type\":\"ToolEvents\"},{\"attributes\":{\"plot\":{\"id\":\"a18e9477-e8f6-4137-aa2c-ada6a022b684\",\"subtype\":\"Figure\",\"type\":\"Plot\"}},\"id\":\"f8eed474-42a1-4496-b560-2749e15a23ee\",\"type\":\"PanTool\"},{\"attributes\":{\"months\":[0,4,8]},\"id\":\"e160b90e-2eac-4634-9c3f-66b52996dee9\",\"type\":\"MonthsTicker\"},{\"attributes\":{\"months\":[0,2,4,6,8,10]},\"id\":\"6dc7634e-831c-4106-9e6a-4358ddfe8dbf\",\"type\":\"MonthsTicker\"},{\"attributes\":{\"axis_label\":\"Time\",\"formatter\":{\"id\":\"b85035e3-2e88-4a66-8084-a6931d900062\",\"type\":\"DatetimeTickFormatter\"},\"plot\":{\"id\":\"a18e9477-e8f6-4137-aa2c-ada6a022b684\",\"subtype\":\"Figure\",\"type\":\"Plot\"},\"ticker\":{\"id\":\"ea29c826-67c5-42a1-ba0c-b532b95f265d\",\"type\":\"DatetimeTicker\"}},\"id\":\"9aba3f96-5142-4849-9f05-28a5d0be9b6b\",\"type\":\"DatetimeAxis\"},{\"attributes\":{\"bottom_units\":\"screen\",\"fill_alpha\":{\"value\":0.5},\"fill_color\":{\"value\":\"lightgrey\"},\"left_units\":\"screen\",\"level\":\"overlay\",\"line_alpha\":{\"value\":1.0},\"line_color\":{\"value\":\"black\"},\"line_dash\":[4,4],\"line_width\":{\"value\":2},\"plot\":null,\"render_mode\":\"css\",\"right_units\":\"screen\",\"top_units\":\"screen\"},\"id\":\"5316dccd-9827-40f7-a3da-f53623089dba\",\"type\":\"BoxAnnotation\"},{\"attributes\":{\"max_interval\":500.0,\"num_minor_ticks\":0},\"id\":\"72403e28-d0af-430c-af5b-2e27b1934dc3\",\"type\":\"AdaptiveTicker\"},{\"attributes\":{\"dimension\":1,\"plot\":{\"id\":\"a18e9477-e8f6-4137-aa2c-ada6a022b684\",\"subtype\":\"Figure\",\"type\":\"Plot\"},\"ticker\":{\"id\":\"7f4659ee-a7c4-479a-923d-635d3276e9ea\",\"type\":\"BasicTicker\"}},\"id\":\"4eb5d7a9-8613-465e-86f1-9972192260e6\",\"type\":\"Grid\"},{\"attributes\":{\"months\":[0,6]},\"id\":\"b6c00da2-8eff-4c3e-a67f-4f2667291152\",\"type\":\"MonthsTicker\"},{\"attributes\":{\"line_alpha\":{\"value\":0.1},\"line_color\":{\"value\":\"#1f77b4\"},\"x\":{\"field\":\"x\"},\"y\":{\"field\":\"y\"}},\"id\":\"f9b7d84d-6d9e-4e73-b3b9-d86f4d21fc3f\",\"type\":\"Line\"}],\"root_ids\":[\"a18e9477-e8f6-4137-aa2c-ada6a022b684\"]},\"title\":\"Bokeh Application\",\"version\":\"0.11.1\"}};\n",
       "            var render_items = [{\"docid\":\"cebb5401-7878-4534-a164-9f8ca335ac52\",\"elementid\":\"8d4ef507-d84f-4c5b-a919-490257dd7367\",\"modelid\":\"a18e9477-e8f6-4137-aa2c-ada6a022b684\",\"notebook_comms_target\":\"f92e82b6-2dd3-4ca0-b60d-61b144a5545f\"}];\n",
       "            \n",
       "            Bokeh.embed.embed_items(docs_json, render_items);\n",
       "        });\n",
       "      },\n",
       "      function(Bokeh) {\n",
       "      }\n",
       "    ];\n",
       "  \n",
       "    function run_inline_js() {\n",
       "      for (var i = 0; i < inline_js.length; i++) {\n",
       "        inline_js[i](window.Bokeh);\n",
       "      }\n",
       "    }\n",
       "  \n",
       "    if (window._bokeh_is_loading === 0) {\n",
       "      console.log(\"Bokeh: BokehJS loaded, going straight to plotting\");\n",
       "      run_inline_js();\n",
       "    } else {\n",
       "      load_libs(js_urls, function() {\n",
       "        console.log(\"Bokeh: BokehJS plotting callback run at\", now());\n",
       "        run_inline_js();\n",
       "      });\n",
       "    }\n",
       "  }(this));\n",
       "</script>"
      ]
     },
     "metadata": {},
     "output_type": "display_data"
    },
    {
     "data": {
      "text/html": [
       "<p><code>&lt;Bokeh Notebook handle for <strong>In[16]</strong>&gt;</code></p>"
      ],
      "text/plain": [
       "<bokeh.io._CommsHandle at 0x7f3d24d255c0>"
      ]
     },
     "execution_count": 16,
     "metadata": {},
     "output_type": "execute_result"
    }
   ],
   "source": [
    "elevation = figure(\n",
    "    title=\"Elevation from last night run\", \n",
    "    background_fill_color=\"#E8DDCB\",\n",
    "    y_axis_label='Elevation (m)', \n",
    "    x_axis_label='Time',\n",
    "    x_axis_type=\"datetime\"\n",
    ")\n",
    "\n",
    "elevation.line(last_night.times, last_night.elevations)\n",
    "show(elevation)\n"
   ]
  },
  {
   "cell_type": "markdown",
   "metadata": {},
   "source": [
    "Very nice graph that looks just like the one I saw in Runkeeper. Now lets plot overall trends of all the runs."
   ]
  },
  {
   "cell_type": "code",
   "execution_count": 17,
   "metadata": {
    "collapsed": false
   },
   "outputs": [],
   "source": [
    "all_runs = Run.load_runs()"
   ]
  },
  {
   "cell_type": "code",
   "execution_count": 18,
   "metadata": {
    "collapsed": false,
    "scrolled": false
   },
   "outputs": [
    {
     "data": {
      "text/html": [
       "\n",
       "\n",
       "    <div class=\"plotdiv\" id=\"4162b4b5-e09f-4b4a-9eef-bc9a579e5f31\"></div>\n",
       "<script type=\"text/javascript\">\n",
       "  \n",
       "  (function(global) {\n",
       "    function now() {\n",
       "      return new Date();\n",
       "    }\n",
       "  \n",
       "    if (typeof (window._bokeh_onload_callbacks) === \"undefined\") {\n",
       "      window._bokeh_onload_callbacks = [];\n",
       "    }\n",
       "  \n",
       "    function run_callbacks() {\n",
       "      window._bokeh_onload_callbacks.forEach(function(callback) { callback() });\n",
       "      delete window._bokeh_onload_callbacks\n",
       "      console.info(\"Bokeh: all callbacks have finished\");\n",
       "    }\n",
       "  \n",
       "    function load_libs(js_urls, callback) {\n",
       "      window._bokeh_onload_callbacks.push(callback);\n",
       "      if (window._bokeh_is_loading > 0) {\n",
       "        console.log(\"Bokeh: BokehJS is being loaded, scheduling callback at\", now());\n",
       "        return null;\n",
       "      }\n",
       "      if (js_urls == null || js_urls.length === 0) {\n",
       "        run_callbacks();\n",
       "        return null;\n",
       "      }\n",
       "      console.log(\"Bokeh: BokehJS not loaded, scheduling load and callback at\", now());\n",
       "      window._bokeh_is_loading = js_urls.length;\n",
       "      for (var i = 0; i < js_urls.length; i++) {\n",
       "        var url = js_urls[i];\n",
       "        var s = document.createElement('script');\n",
       "        s.src = url;\n",
       "        s.async = false;\n",
       "        s.onreadystatechange = s.onload = function() {\n",
       "          window._bokeh_is_loading--;\n",
       "          if (window._bokeh_is_loading === 0) {\n",
       "            console.log(\"Bokeh: all BokehJS libraries loaded\");\n",
       "            run_callbacks()\n",
       "          }\n",
       "        };\n",
       "        s.onerror = function() {\n",
       "          console.warn(\"failed to load library \" + url);\n",
       "        };\n",
       "        console.log(\"Bokeh: injecting script tag for BokehJS library: \", url);\n",
       "        document.getElementsByTagName(\"head\")[0].appendChild(s);\n",
       "      }\n",
       "    };var element = document.getElementById(\"4162b4b5-e09f-4b4a-9eef-bc9a579e5f31\");\n",
       "    if (element == null) {\n",
       "      console.log(\"Bokeh: ERROR: autoload.js configured with elementid '4162b4b5-e09f-4b4a-9eef-bc9a579e5f31' but no matching script tag was found. \")\n",
       "      return false;\n",
       "    }\n",
       "  \n",
       "    var js_urls = [];\n",
       "  \n",
       "    var inline_js = [\n",
       "      function(Bokeh) {\n",
       "        Bokeh.$(function() {\n",
       "            var docs_json = {\"2f0d1435-e092-4498-8430-3f3e335dada5\":{\"roots\":{\"references\":[{\"attributes\":{\"plot\":{\"id\":\"a18e9477-e8f6-4137-aa2c-ada6a022b684\",\"subtype\":\"Figure\",\"type\":\"Plot\"}},\"id\":\"57581b32-76d8-4a68-846f-66d55a42efa7\",\"type\":\"WheelZoomTool\"},{\"attributes\":{\"num_minor_ticks\":5},\"id\":\"aa3f6f9c-054a-45d6-aae2-4900ed14b4b4\",\"type\":\"DatetimeTicker\"},{\"attributes\":{\"fill_color\":{\"value\":\"#1f77b4\"},\"line_color\":{\"value\":\"#1f77b4\"},\"x\":{\"field\":\"x\"},\"y\":{\"field\":\"y\"}},\"id\":\"7f27e8a4-c15b-4439-9110-22b41798b411\",\"type\":\"Circle\"},{\"attributes\":{\"plot\":{\"id\":\"8a0e04f0-1b56-4383-93da-73ef9933ab80\",\"subtype\":\"Figure\",\"type\":\"Plot\"}},\"id\":\"9abf5aec-48a3-4457-8ca2-8509aa98c4eb\",\"type\":\"ResetTool\"},{\"attributes\":{},\"id\":\"b85035e3-2e88-4a66-8084-a6931d900062\",\"type\":\"DatetimeTickFormatter\"},{\"attributes\":{},\"id\":\"1748be20-155c-46a9-ad88-511931b35cdd\",\"type\":\"BasicTicker\"},{\"attributes\":{\"line_color\":{\"value\":\"#1f77b4\"},\"x\":{\"field\":\"x\"},\"y\":{\"field\":\"y\"}},\"id\":\"a5202e0e-c88e-4dbb-86a5-b9838b3a915d\",\"type\":\"Line\"},{\"attributes\":{\"days\":[1,15]},\"id\":\"bf311781-60b9-4636-87fa-29cc5e000fc7\",\"type\":\"DaysTicker\"},{\"attributes\":{},\"id\":\"9ef15a0d-8af0-4391-b741-ba2087f9fdb9\",\"type\":\"BasicTickFormatter\"},{\"attributes\":{\"days\":[1,4,7,10,13,16,19,22,25,28]},\"id\":\"711df738-bc0c-4b3c-8fcc-252800cc3e82\",\"type\":\"DaysTicker\"},{\"attributes\":{\"months\":[0,4,8]},\"id\":\"e6df1674-fec5-4b75-9a93-e2a7ca9f4f0e\",\"type\":\"MonthsTicker\"},{\"attributes\":{\"callback\":null,\"column_names\":[\"x\",\"y\"],\"data\":{\"x\":[1465328243000.0,1428148529000.0,1463844198000.0,1415554211000.0,1414697951000.0,1434131854000.0,1425920018000.0,1439056606000.0,1438106993000.0,1410246399000.0,1410099387000.0,1436643161000.0,1462128356000.0,1466880893000.0,1443172413000.0,1424372257000.0,1464635172000.0,1438457322000.0,1420981616000.0,1412445070000.0,1431286224000.0,1465587240000.0,1444075724000.0,1428233258000.0,1425674543000.0,1426191183000.0,1426607916000.0,1459889614000.0,1422467747000.0,1465060160000.0,1418056433000.0,1466349240000.0,1420741859000.0,1440791953000.0,1421776526000.0,1411542030000.0,1446030451000.0,1411201027000.0,1436301721000.0,1430762639000.0,1410547403000.0,1422038969000.0],\"y\":[5869.758041685876,2050.294537996982,5673.724969564729,5493.705520609242,5936.597828117186,4466.736025644979,8747.538975053558,7583.492622425234,4482.126354346572,1256.0139437106257,1465.8603370305834,5980.435447792143,5678.105548248082,5641.157399618419,1848.3031448360637,2102.6866123651434,4686.257052728707,9468.497064399835,4437.458852924772,5637.941600178236,5976.531944856669,10040.460857166941,9377.080509775602,4927.336038861122,12543.342213664968,9053.550749702497,9066.96676016255,9355.976346881262,6733.926622101581,5690.823548807764,3787.3912574156557,8943.501144715288,10096.597395845707,12190.74237889001,8190.534493570851,5721.8997620119135,7650.115555373454,2732.913143192231,4069.3537789534007,4580.658855378932,7770.535908053509,13061.254042482593]}},\"id\":\"506e0acc-e412-4ced-8a83-b7181bd8ddbe\",\"type\":\"ColumnDataSource\"},{\"attributes\":{\"data_source\":{\"id\":\"caf3f700-54ea-450f-9feb-0e3f3e42a9e8\",\"type\":\"ColumnDataSource\"},\"glyph\":{\"id\":\"a5202e0e-c88e-4dbb-86a5-b9838b3a915d\",\"type\":\"Line\"},\"hover_glyph\":null,\"nonselection_glyph\":{\"id\":\"f9b7d84d-6d9e-4e73-b3b9-d86f4d21fc3f\",\"type\":\"Line\"},\"selection_glyph\":null},\"id\":\"3f161b64-43c6-4831-8203-082c3bc97644\",\"type\":\"GlyphRenderer\"},{\"attributes\":{\"days\":[1,4,7,10,13,16,19,22,25,28]},\"id\":\"128f03fa-89b9-44b7-af52-387fb6c0fcc5\",\"type\":\"DaysTicker\"},{\"attributes\":{\"days\":[1,15]},\"id\":\"93f2e69f-2e2f-4d9c-afeb-69aa3ee6c09c\",\"type\":\"DaysTicker\"},{\"attributes\":{\"plot\":{\"id\":\"8a0e04f0-1b56-4383-93da-73ef9933ab80\",\"subtype\":\"Figure\",\"type\":\"Plot\"}},\"id\":\"a7173f36-8a8d-41f8-b8e7-3cae5c4c32c6\",\"type\":\"WheelZoomTool\"},{\"attributes\":{\"axis_label\":\"Distance (m)\",\"formatter\":{\"id\":\"d14560dd-8267-4cb3-9b2f-dcc5468b405d\",\"type\":\"BasicTickFormatter\"},\"plot\":{\"id\":\"8a0e04f0-1b56-4383-93da-73ef9933ab80\",\"subtype\":\"Figure\",\"type\":\"Plot\"},\"ticker\":{\"id\":\"1748be20-155c-46a9-ad88-511931b35cdd\",\"type\":\"BasicTicker\"}},\"id\":\"daf6d410-6601-4dca-a3f7-5ccfceea230c\",\"type\":\"LinearAxis\"},{\"attributes\":{\"days\":[1,8,15,22]},\"id\":\"aba14fc6-d550-4d13-9efe-723b33431d47\",\"type\":\"DaysTicker\"},{\"attributes\":{\"plot\":{\"id\":\"a18e9477-e8f6-4137-aa2c-ada6a022b684\",\"subtype\":\"Figure\",\"type\":\"Plot\"}},\"id\":\"387ae7b2-e9fc-4c77-a3d8-a1549b54d6dc\",\"type\":\"ResizeTool\"},{\"attributes\":{\"months\":[0,4,8]},\"id\":\"e160b90e-2eac-4634-9c3f-66b52996dee9\",\"type\":\"MonthsTicker\"},{\"attributes\":{\"plot\":{\"id\":\"a18e9477-e8f6-4137-aa2c-ada6a022b684\",\"subtype\":\"Figure\",\"type\":\"Plot\"},\"ticker\":{\"id\":\"ea29c826-67c5-42a1-ba0c-b532b95f265d\",\"type\":\"DatetimeTicker\"}},\"id\":\"4b28882f-a29b-49d1-8f9c-450ea4aa7b0a\",\"type\":\"Grid\"},{\"attributes\":{\"callback\":null},\"id\":\"3f0408dd-c39c-41cc-8da4-2f4efbbfeb7f\",\"type\":\"DataRange1d\"},{\"attributes\":{\"plot\":{\"id\":\"8a0e04f0-1b56-4383-93da-73ef9933ab80\",\"subtype\":\"Figure\",\"type\":\"Plot\"},\"ticker\":{\"id\":\"aa3f6f9c-054a-45d6-aae2-4900ed14b4b4\",\"type\":\"DatetimeTicker\"}},\"id\":\"3f50426a-7d1d-46b2-af4b-8b88300961d7\",\"type\":\"Grid\"},{\"attributes\":{\"days\":[1,8,15,22]},\"id\":\"2fdaf689-0767-4f2a-acae-400b42156738\",\"type\":\"DaysTicker\"},{\"attributes\":{\"days\":[1,2,3,4,5,6,7,8,9,10,11,12,13,14,15,16,17,18,19,20,21,22,23,24,25,26,27,28,29,30,31]},\"id\":\"83187b6e-70f3-47d1-856b-f1db6678d12d\",\"type\":\"DaysTicker\"},{\"attributes\":{\"days\":[1,2,3,4,5,6,7,8,9,10,11,12,13,14,15,16,17,18,19,20,21,22,23,24,25,26,27,28,29,30,31]},\"id\":\"2a6a46ea-12c2-4467-bac6-bca999f6522d\",\"type\":\"DaysTicker\"},{\"attributes\":{\"plot\":{\"id\":\"8a0e04f0-1b56-4383-93da-73ef9933ab80\",\"subtype\":\"Figure\",\"type\":\"Plot\"}},\"id\":\"210f869d-8928-403e-8421-551cbdebaf89\",\"type\":\"PreviewSaveTool\"},{\"attributes\":{},\"id\":\"66645fc9-6d12-4ea6-bd7b-102a8c30329f\",\"type\":\"ToolEvents\"},{\"attributes\":{},\"id\":\"d14560dd-8267-4cb3-9b2f-dcc5468b405d\",\"type\":\"BasicTickFormatter\"},{\"attributes\":{\"base\":60,\"mantissas\":[1,2,5,10,15,20,30],\"max_interval\":1800000.0,\"min_interval\":1000.0,\"num_minor_ticks\":0},\"id\":\"c9108b81-f547-448e-8d54-b6307aa7ae67\",\"type\":\"AdaptiveTicker\"},{\"attributes\":{\"plot\":{\"id\":\"8a0e04f0-1b56-4383-93da-73ef9933ab80\",\"subtype\":\"Figure\",\"type\":\"Plot\"}},\"id\":\"252b9006-959b-432b-8d5f-9ee05eb2ac5c\",\"type\":\"HelpTool\"},{\"attributes\":{\"axis_label\":\"Elevation (m)\",\"formatter\":{\"id\":\"9ef15a0d-8af0-4391-b741-ba2087f9fdb9\",\"type\":\"BasicTickFormatter\"},\"plot\":{\"id\":\"a18e9477-e8f6-4137-aa2c-ada6a022b684\",\"subtype\":\"Figure\",\"type\":\"Plot\"},\"ticker\":{\"id\":\"7f4659ee-a7c4-479a-923d-635d3276e9ea\",\"type\":\"BasicTicker\"}},\"id\":\"fef7c37c-3d64-4363-85f0-3742c85216e6\",\"type\":\"LinearAxis\"},{\"attributes\":{\"months\":[0,1,2,3,4,5,6,7,8,9,10,11]},\"id\":\"3ae27f82-7d33-4cac-b27d-6ad8da9d88f2\",\"type\":\"MonthsTicker\"},{\"attributes\":{\"axis_label\":\"Time\",\"formatter\":{\"id\":\"1ca5026e-c14f-41a7-80db-66c8948c1948\",\"type\":\"DatetimeTickFormatter\"},\"plot\":{\"id\":\"8a0e04f0-1b56-4383-93da-73ef9933ab80\",\"subtype\":\"Figure\",\"type\":\"Plot\"},\"ticker\":{\"id\":\"aa3f6f9c-054a-45d6-aae2-4900ed14b4b4\",\"type\":\"DatetimeTicker\"}},\"id\":\"0c3acbed-9231-4a6e-88ed-cce968f25906\",\"type\":\"DatetimeAxis\"},{\"attributes\":{\"months\":[0,6]},\"id\":\"b6c00da2-8eff-4c3e-a67f-4f2667291152\",\"type\":\"MonthsTicker\"},{\"attributes\":{\"line_alpha\":{\"value\":0.1},\"line_color\":{\"value\":\"#1f77b4\"},\"x\":{\"field\":\"x\"},\"y\":{\"field\":\"y\"}},\"id\":\"f9b7d84d-6d9e-4e73-b3b9-d86f4d21fc3f\",\"type\":\"Line\"},{\"attributes\":{\"background_fill_color\":{\"value\":\"#E8DDCB\"},\"below\":[{\"id\":\"9aba3f96-5142-4849-9f05-28a5d0be9b6b\",\"type\":\"DatetimeAxis\"}],\"left\":[{\"id\":\"fef7c37c-3d64-4363-85f0-3742c85216e6\",\"type\":\"LinearAxis\"}],\"renderers\":[{\"id\":\"9aba3f96-5142-4849-9f05-28a5d0be9b6b\",\"type\":\"DatetimeAxis\"},{\"id\":\"4b28882f-a29b-49d1-8f9c-450ea4aa7b0a\",\"type\":\"Grid\"},{\"id\":\"fef7c37c-3d64-4363-85f0-3742c85216e6\",\"type\":\"LinearAxis\"},{\"id\":\"4eb5d7a9-8613-465e-86f1-9972192260e6\",\"type\":\"Grid\"},{\"id\":\"5316dccd-9827-40f7-a3da-f53623089dba\",\"type\":\"BoxAnnotation\"},{\"id\":\"3f161b64-43c6-4831-8203-082c3bc97644\",\"type\":\"GlyphRenderer\"}],\"title\":\"Elevation from last night run\",\"tool_events\":{\"id\":\"d491037d-8871-44f8-b96a-2dfe98f01437\",\"type\":\"ToolEvents\"},\"tools\":[{\"id\":\"f8eed474-42a1-4496-b560-2749e15a23ee\",\"type\":\"PanTool\"},{\"id\":\"57581b32-76d8-4a68-846f-66d55a42efa7\",\"type\":\"WheelZoomTool\"},{\"id\":\"3c7da2a0-14ee-4555-8fab-86947a5a7ef3\",\"type\":\"BoxZoomTool\"},{\"id\":\"35a37bf5-722c-4572-805e-5ee04cf2ad23\",\"type\":\"PreviewSaveTool\"},{\"id\":\"387ae7b2-e9fc-4c77-a3d8-a1549b54d6dc\",\"type\":\"ResizeTool\"},{\"id\":\"9fbccf3e-494f-4f39-acc7-fa0886869cae\",\"type\":\"ResetTool\"},{\"id\":\"a4cbdf63-22ce-4af7-b066-2012508b3609\",\"type\":\"HelpTool\"}],\"x_range\":{\"id\":\"b2e414df-935c-4a49-afe2-cb1c6e60218b\",\"type\":\"DataRange1d\"},\"y_range\":{\"id\":\"3b936054-9e81-4597-9d7b-581e5a906a1d\",\"type\":\"DataRange1d\"}},\"id\":\"a18e9477-e8f6-4137-aa2c-ada6a022b684\",\"subtype\":\"Figure\",\"type\":\"Plot\"},{\"attributes\":{\"dimension\":1,\"plot\":{\"id\":\"8a0e04f0-1b56-4383-93da-73ef9933ab80\",\"subtype\":\"Figure\",\"type\":\"Plot\"},\"ticker\":{\"id\":\"1748be20-155c-46a9-ad88-511931b35cdd\",\"type\":\"BasicTicker\"}},\"id\":\"00479e65-1bd5-45de-a0f9-7b415cf0a9f5\",\"type\":\"Grid\"},{\"attributes\":{},\"id\":\"8c719ebd-2db1-4148-8343-31b7681f5dfa\",\"type\":\"YearsTicker\"},{\"attributes\":{},\"id\":\"1ca5026e-c14f-41a7-80db-66c8948c1948\",\"type\":\"DatetimeTickFormatter\"},{\"attributes\":{\"bottom_units\":\"screen\",\"fill_alpha\":{\"value\":0.5},\"fill_color\":{\"value\":\"lightgrey\"},\"left_units\":\"screen\",\"level\":\"overlay\",\"line_alpha\":{\"value\":1.0},\"line_color\":{\"value\":\"black\"},\"line_dash\":[4,4],\"line_width\":{\"value\":2},\"plot\":null,\"render_mode\":\"css\",\"right_units\":\"screen\",\"top_units\":\"screen\"},\"id\":\"8203170b-b7ec-4153-a961-541137bf1c24\",\"type\":\"BoxAnnotation\"},{\"attributes\":{\"fill_alpha\":{\"value\":0.1},\"fill_color\":{\"value\":\"#1f77b4\"},\"line_alpha\":{\"value\":0.1},\"line_color\":{\"value\":\"#1f77b4\"},\"x\":{\"field\":\"x\"},\"y\":{\"field\":\"y\"}},\"id\":\"00b77ae4-9500-427b-9e65-6b5e56b439b0\",\"type\":\"Circle\"},{\"attributes\":{\"plot\":{\"id\":\"a18e9477-e8f6-4137-aa2c-ada6a022b684\",\"subtype\":\"Figure\",\"type\":\"Plot\"}},\"id\":\"9fbccf3e-494f-4f39-acc7-fa0886869cae\",\"type\":\"ResetTool\"},{\"attributes\":{\"base\":60,\"mantissas\":[1,2,5,10,15,20,30],\"max_interval\":1800000.0,\"min_interval\":1000.0,\"num_minor_ticks\":0},\"id\":\"5db965d2-1d3a-40e2-a8e0-3b2f0d7ef372\",\"type\":\"AdaptiveTicker\"},{\"attributes\":{\"background_fill_color\":{\"value\":\"#E8DDCB\"},\"below\":[{\"id\":\"0c3acbed-9231-4a6e-88ed-cce968f25906\",\"type\":\"DatetimeAxis\"}],\"left\":[{\"id\":\"daf6d410-6601-4dca-a3f7-5ccfceea230c\",\"type\":\"LinearAxis\"}],\"renderers\":[{\"id\":\"0c3acbed-9231-4a6e-88ed-cce968f25906\",\"type\":\"DatetimeAxis\"},{\"id\":\"3f50426a-7d1d-46b2-af4b-8b88300961d7\",\"type\":\"Grid\"},{\"id\":\"daf6d410-6601-4dca-a3f7-5ccfceea230c\",\"type\":\"LinearAxis\"},{\"id\":\"00479e65-1bd5-45de-a0f9-7b415cf0a9f5\",\"type\":\"Grid\"},{\"id\":\"8203170b-b7ec-4153-a961-541137bf1c24\",\"type\":\"BoxAnnotation\"},{\"id\":\"7ed455a3-8176-426d-9470-5ce4caa1dbd8\",\"type\":\"GlyphRenderer\"}],\"title\":\"Distances run over time\",\"tool_events\":{\"id\":\"66645fc9-6d12-4ea6-bd7b-102a8c30329f\",\"type\":\"ToolEvents\"},\"tools\":[{\"id\":\"30a4adad-032b-4863-9020-ca860f253656\",\"type\":\"PanTool\"},{\"id\":\"a7173f36-8a8d-41f8-b8e7-3cae5c4c32c6\",\"type\":\"WheelZoomTool\"},{\"id\":\"88e7a141-62a2-478c-90f7-62a57994e55a\",\"type\":\"BoxZoomTool\"},{\"id\":\"210f869d-8928-403e-8421-551cbdebaf89\",\"type\":\"PreviewSaveTool\"},{\"id\":\"4e310650-8472-4f52-aa49-ff3ab59c0fe4\",\"type\":\"ResizeTool\"},{\"id\":\"9abf5aec-48a3-4457-8ca2-8509aa98c4eb\",\"type\":\"ResetTool\"},{\"id\":\"252b9006-959b-432b-8d5f-9ee05eb2ac5c\",\"type\":\"HelpTool\"}],\"x_range\":{\"id\":\"8b611378-6865-41ff-a185-32b7ec696c25\",\"type\":\"DataRange1d\"},\"y_range\":{\"id\":\"3f0408dd-c39c-41cc-8da4-2f4efbbfeb7f\",\"type\":\"DataRange1d\"}},\"id\":\"8a0e04f0-1b56-4383-93da-73ef9933ab80\",\"subtype\":\"Figure\",\"type\":\"Plot\"},{\"attributes\":{\"overlay\":{\"id\":\"5316dccd-9827-40f7-a3da-f53623089dba\",\"type\":\"BoxAnnotation\"},\"plot\":{\"id\":\"a18e9477-e8f6-4137-aa2c-ada6a022b684\",\"subtype\":\"Figure\",\"type\":\"Plot\"}},\"id\":\"3c7da2a0-14ee-4555-8fab-86947a5a7ef3\",\"type\":\"BoxZoomTool\"},{\"attributes\":{\"months\":[0,2,4,6,8,10]},\"id\":\"5fc86986-57cd-48c3-9d9e-ea2ea01e4875\",\"type\":\"MonthsTicker\"},{\"attributes\":{\"max_interval\":500.0,\"num_minor_ticks\":0},\"id\":\"5dddff9b-23d8-4a73-abc2-81bc17d14c98\",\"type\":\"AdaptiveTicker\"},{\"attributes\":{\"plot\":{\"id\":\"a18e9477-e8f6-4137-aa2c-ada6a022b684\",\"subtype\":\"Figure\",\"type\":\"Plot\"}},\"id\":\"a4cbdf63-22ce-4af7-b066-2012508b3609\",\"type\":\"HelpTool\"},{\"attributes\":{\"overlay\":{\"id\":\"8203170b-b7ec-4153-a961-541137bf1c24\",\"type\":\"BoxAnnotation\"},\"plot\":{\"id\":\"8a0e04f0-1b56-4383-93da-73ef9933ab80\",\"subtype\":\"Figure\",\"type\":\"Plot\"}},\"id\":\"88e7a141-62a2-478c-90f7-62a57994e55a\",\"type\":\"BoxZoomTool\"},{\"attributes\":{\"base\":24,\"mantissas\":[1,2,4,6,8,12],\"max_interval\":43200000.0,\"min_interval\":3600000.0,\"num_minor_ticks\":0},\"id\":\"46b684c2-2d5f-4586-8e07-4371790478c5\",\"type\":\"AdaptiveTicker\"},{\"attributes\":{\"data_source\":{\"id\":\"506e0acc-e412-4ced-8a83-b7181bd8ddbe\",\"type\":\"ColumnDataSource\"},\"glyph\":{\"id\":\"7f27e8a4-c15b-4439-9110-22b41798b411\",\"type\":\"Circle\"},\"hover_glyph\":null,\"nonselection_glyph\":{\"id\":\"00b77ae4-9500-427b-9e65-6b5e56b439b0\",\"type\":\"Circle\"},\"selection_glyph\":null},\"id\":\"7ed455a3-8176-426d-9470-5ce4caa1dbd8\",\"type\":\"GlyphRenderer\"},{\"attributes\":{},\"id\":\"7f4659ee-a7c4-479a-923d-635d3276e9ea\",\"type\":\"BasicTicker\"},{\"attributes\":{\"plot\":{\"id\":\"8a0e04f0-1b56-4383-93da-73ef9933ab80\",\"subtype\":\"Figure\",\"type\":\"Plot\"}},\"id\":\"4e310650-8472-4f52-aa49-ff3ab59c0fe4\",\"type\":\"ResizeTool\"},{\"attributes\":{\"num_minor_ticks\":5},\"id\":\"ea29c826-67c5-42a1-ba0c-b532b95f265d\",\"type\":\"DatetimeTicker\"},{\"attributes\":{\"callback\":null},\"id\":\"3b936054-9e81-4597-9d7b-581e5a906a1d\",\"type\":\"DataRange1d\"},{\"attributes\":{\"months\":[0,1,2,3,4,5,6,7,8,9,10,11]},\"id\":\"a9e463bf-e838-4c7d-9984-bb3d56281b81\",\"type\":\"MonthsTicker\"},{\"attributes\":{\"callback\":null},\"id\":\"b2e414df-935c-4a49-afe2-cb1c6e60218b\",\"type\":\"DataRange1d\"},{\"attributes\":{\"callback\":null},\"id\":\"8b611378-6865-41ff-a185-32b7ec696c25\",\"type\":\"DataRange1d\"},{\"attributes\":{\"axis_label\":\"Time\",\"formatter\":{\"id\":\"b85035e3-2e88-4a66-8084-a6931d900062\",\"type\":\"DatetimeTickFormatter\"},\"plot\":{\"id\":\"a18e9477-e8f6-4137-aa2c-ada6a022b684\",\"subtype\":\"Figure\",\"type\":\"Plot\"},\"ticker\":{\"id\":\"ea29c826-67c5-42a1-ba0c-b532b95f265d\",\"type\":\"DatetimeTicker\"}},\"id\":\"9aba3f96-5142-4849-9f05-28a5d0be9b6b\",\"type\":\"DatetimeAxis\"},{\"attributes\":{},\"id\":\"1c558538-6ea8-48b1-b20f-d767b99986b4\",\"type\":\"YearsTicker\"},{\"attributes\":{},\"id\":\"d491037d-8871-44f8-b96a-2dfe98f01437\",\"type\":\"ToolEvents\"},{\"attributes\":{\"months\":[0,6]},\"id\":\"be69df01-3c9e-4faf-a534-8ff0a17af47f\",\"type\":\"MonthsTicker\"},{\"attributes\":{\"plot\":{\"id\":\"a18e9477-e8f6-4137-aa2c-ada6a022b684\",\"subtype\":\"Figure\",\"type\":\"Plot\"}},\"id\":\"f8eed474-42a1-4496-b560-2749e15a23ee\",\"type\":\"PanTool\"},{\"attributes\":{\"callback\":null,\"column_names\":[\"x\",\"y\"],\"data\":{\"x\":[1466880893000.0,1466880895000.0,1466880898000.0,1466880911000.0,1466880918000.0,1466880929000.0,1466880933000.0,1466880936000.0,1466880939000.0,1466880942000.0,1466880945000.0,1466880948000.0,1466880951000.0,1466880954000.0,1466880957000.0,1466880960000.0,1466880964000.0,1466880967000.0,1466880970000.0,1466880973000.0,1466880976000.0,1466880980000.0,1466880983000.0,1466880987000.0,1466880991000.0,1466880995000.0,1466880999000.0,1466881003000.0,1466881006000.0,1466881009000.0,1466881012000.0,1466881015000.0,1466881018000.0,1466881021000.0,1466881024000.0,1466881027000.0,1466881031000.0,1466881034000.0,1466881038000.0,1466881071000.0,1466881074000.0,1466881077000.0,1466881080000.0,1466881082000.0,1466881085000.0,1466881088000.0,1466881091000.0,1466881094000.0,1466881097000.0,1466881100000.0,1466881103000.0,1466881106000.0,1466881109000.0,1466881112000.0,1466881116000.0,1466881138000.0,1466881141000.0,1466881144000.0,1466881147000.0,1466881150000.0,1466881153000.0,1466881156000.0,1466881159000.0,1466881162000.0,1466881165000.0,1466881168000.0,1466881171000.0,1466881175000.0,1466881178000.0,1466881181000.0,1466881184000.0,1466881187000.0,1466881190000.0,1466881193000.0,1466881196000.0,1466881200000.0,1466881214000.0,1466881222000.0,1466881226000.0,1466881229000.0,1466881232000.0,1466881235000.0,1466881238000.0,1466881241000.0,1466881244000.0,1466881247000.0,1466881250000.0,1466881253000.0,1466881256000.0,1466881259000.0,1466881262000.0,1466881265000.0,1466881268000.0,1466881271000.0,1466881274000.0,1466881285000.0,1466881301000.0,1466881304000.0,1466881307000.0,1466881309000.0,1466881312000.0,1466881315000.0,1466881318000.0,1466881322000.0,1466881325000.0,1466881328000.0,1466881331000.0,1466881335000.0,1466881350000.0,1466881358000.0,1466881361000.0,1466881364000.0,1466881367000.0,1466881370000.0,1466881373000.0,1466881376000.0,1466881379000.0,1466881383000.0,1466881386000.0,1466881389000.0,1466881392000.0,1466881396000.0,1466881400000.0,1466881403000.0,1466881406000.0,1466881409000.0,1466881412000.0,1466881437000.0,1466881447000.0,1466881451000.0,1466881454000.0,1466881457000.0,1466881460000.0,1466881463000.0,1466881466000.0,1466881469000.0,1466881472000.0,1466881475000.0,1466881478000.0,1466881480000.0,1466881483000.0,1466881486000.0,1466881489000.0,1466881492000.0,1466881495000.0,1466881498000.0,1466881501000.0,1466881504000.0,1466881507000.0,1466881510000.0,1466881513000.0,1466881516000.0,1466881520000.0,1466881523000.0,1466881526000.0,1466881530000.0,1466881534000.0,1466881544000.0,1466881556000.0,1466881564000.0,1466881571000.0,1466881578000.0,1466881586000.0,1466881597000.0,1466881604000.0,1466881613000.0,1466881621000.0,1466881624000.0,1466881627000.0,1466881631000.0,1466881635000.0,1466881639000.0,1466881643000.0,1466881647000.0,1466881651000.0,1466881655000.0,1466881659000.0,1466881663000.0,1466881683000.0,1466881690000.0,1466881694000.0,1466881698000.0,1466881702000.0,1466881707000.0,1466881712000.0,1466881717000.0,1466881722000.0,1466881726000.0,1466881732000.0,1466881737000.0,1466881741000.0,1466881746000.0,1466881751000.0,1466881759000.0,1466881769000.0,1466881780000.0,1466881789000.0,1466881797000.0,1466881807000.0,1466881813000.0,1466881817000.0,1466881821000.0,1466881826000.0,1466881868000.0,1466881872000.0,1466881877000.0,1466881881000.0,1466881885000.0,1466881889000.0,1466881893000.0,1466881897000.0,1466881903000.0,1466881908000.0,1466881913000.0,1466881919000.0,1466881945000.0,1466881957000.0,1466881961000.0,1466881965000.0,1466881970000.0,1466881997000.0,1466882002000.0,1466882040000.0,1466882045000.0,1466882050000.0,1466882056000.0,1466882061000.0,1466882067000.0,1466882072000.0,1466882076000.0,1466882080000.0,1466882083000.0,1466882087000.0,1466882092000.0,1466882097000.0,1466882102000.0,1466882107000.0,1466882111000.0,1466882144000.0,1466882166000.0,1466882175000.0,1466882183000.0,1466882222000.0,1466882326000.0,1466882332000.0,1466882336000.0,1466882339000.0,1466882342000.0,1466882345000.0,1466882348000.0,1466882352000.0,1466882356000.0,1466882360000.0,1466882364000.0,1466882368000.0,1466882373000.0,1466882378000.0,1466882383000.0,1466882387000.0,1466882391000.0,1466882395000.0,1466882399000.0,1466882404000.0,1466882420000.0,1466882424000.0,1466882428000.0,1466882432000.0,1466882436000.0,1466882441000.0,1466882446000.0,1466882452000.0,1466882456000.0,1466882460000.0,1466882464000.0,1466882468000.0,1466882472000.0,1466882476000.0,1466882480000.0,1466882485000.0,1466882490000.0,1466882494000.0,1466882500000.0,1466882506000.0,1466882511000.0,1466882518000.0,1466882527000.0,1466882540000.0,1466882545000.0,1466882550000.0,1466882555000.0,1466882562000.0,1466882568000.0,1466882573000.0,1466882578000.0,1466882584000.0,1466882589000.0,1466882604000.0,1466882643000.0,1466882654000.0,1466882662000.0,1466882666000.0,1466882669000.0,1466882673000.0,1466882677000.0,1466882681000.0,1466882687000.0,1466882692000.0,1466882697000.0,1466882732000.0,1466882737000.0,1466882743000.0,1466882748000.0,1466882752000.0,1466882758000.0,1466882764000.0,1466882770000.0,1466882799000.0,1466882803000.0,1466882806000.0,1466882809000.0,1466882812000.0,1466882816000.0,1466882820000.0,1466882824000.0,1466882829000.0,1466882832000.0,1466882835000.0,1466882839000.0,1466882842000.0,1466882846000.0,1466882850000.0,1466882854000.0,1466882858000.0,1466882863000.0,1466882867000.0,1466882871000.0,1466882876000.0,1466882883000.0,1466882892000.0,1466882902000.0,1466882933000.0,1466882937000.0,1466882941000.0,1466882945000.0,1466882949000.0,1466882953000.0,1466882957000.0,1466882961000.0,1466882965000.0,1466882969000.0,1466882993000.0,1466882997000.0,1466883001000.0,1466883005000.0,1466883009000.0,1466883014000.0,1466883019000.0,1466883024000.0,1466883028000.0,1466883032000.0,1466883036000.0,1466883040000.0,1466883044000.0,1466883048000.0,1466883052000.0,1466883057000.0,1466883062000.0,1466883082000.0,1466883098000.0,1466883102000.0,1466883106000.0,1466883109000.0,1466883112000.0,1466883116000.0,1466883120000.0,1466883124000.0,1466883129000.0,1466883135000.0,1466883142000.0,1466883150000.0,1466883161000.0,1466883169000.0,1466883174000.0,1466883179000.0,1466883183000.0,1466883186000.0,1466883189000.0,1466883193000.0,1466883196000.0,1466883199000.0,1466883203000.0,1466883209000.0,1466883213000.0,1466883217000.0,1466883221000.0,1466883225000.0,1466883229000.0,1466883233000.0,1466883238000.0,1466883243000.0,1466883247000.0,1466883250000.0,1466883253000.0,1466883257000.0,1466883260000.0,1466883264000.0,1466883269000.0,1466883274000.0,1466883296000.0,1466883301000.0,1466883304000.0,1466883308000.0,1466883314000.0,1466883319000.0,1466883323000.0,1466883326000.0,1466883329000.0,1466883333000.0,1466883337000.0,1466883341000.0,1466883345000.0,1466883349000.0,1466883353000.0,1466883358000.0,1466883363000.0,1466883368000.0,1466883374000.0,1466883380000.0,1466883385000.0,1466883390000.0,1466883394000.0,1466883399000.0,1466883413000.0,1466883430000.0,1466883439000.0,1466883448000.0,1466883452000.0,1466883456000.0,1466883460000.0,1466883464000.0,1466883468000.0,1466883473000.0,1466883478000.0,1466883483000.0,1466883489000.0,1466883494000.0,1466883498000.0,1466883502000.0,1466883507000.0,1466883513000.0,1466883518000.0,1466883523000.0,1466883558000.0,1466883562000.0,1466883566000.0,1466883570000.0,1466883574000.0,1466883578000.0,1466883582000.0,1466883587000.0,1466883592000.0,1466883598000.0,1466883605000.0,1466883612000.0,1466883620000.0,1466883630000.0,1466883642000.0,1466883650000.0,1466883659000.0,1466883667000.0,1466883676000.0,1466883684000.0,1466883692000.0,1466883700000.0,1466883709000.0,1466883719000.0,1466883728000.0,1466883736000.0,1466883743000.0,1466883753000.0,1466883763000.0,1466883772000.0,1466883781000.0,1466883789000.0,1466883799000.0,1466883807000.0,1466883817000.0,1466883828000.0,1466883836000.0,1466883844000.0,1466883852000.0,1466883861000.0,1466883871000.0,1466883879000.0,1466883888000.0,1466883897000.0,1466883904000.0,1466883915000.0,1466883941000.0],\"y\":[327.0,326.7,326.5,326.3,325.9,325.5,325.0,324.5,323.9,323.2,322.7,322.3,321.8,321.4,320.9,320.5,320.2,319.8,319.5,319.1,318.9,318.7,318.5,318.4,318.2,318.0,318.0,318.0,318.0,318.0,317.3,316.5,315.8,315.1,314.4,313.6,312.9,312.2,311.5,310.7,310.0,309.4,308.7,308.1,307.5,306.8,306.2,305.5,304.9,304.0,303.1,302.2,301.9,301.6,301.4,301.0,300.6,300.3,299.7,299.2,298.9,298.6,298.4,298.1,297.8,297.5,297.1,296.6,296.2,295.9,295.6,295.3,294.9,294.5,294.2,293.8,293.5,293.4,293.3,293.2,293.1,293.0,292.9,292.5,292.2,291.8,291.5,291.1,290.7,290.4,290.0,289.6,289.4,289.2,289.3,289.4,289.5,289.5,289.6,289.7,289.6,289.5,289.5,289.3,289.1,288.9,288.7,288.5,288.3,288.0,287.7,287.6,287.5,287.5,287.4,287.3,286.9,286.5,286.2,285.7,285.3,284.8,284.4,283.9,283.5,283.0,282.5,282.4,282.2,282.0,282.0,282.0,282.0,281.8,281.6,281.5,281.2,280.9,280.5,280.2,279.8,279.5,279.1,278.7,278.5,278.2,277.9,277.7,277.5,277.5,277.4,277.3,277.0,276.7,276.5,276.3,276.1,275.9,275.7,275.5,275.4,275.2,275.0,275.0,275.0,275.0,275.0,275.2,275.4,275.5,275.7,275.9,276.1,276.3,276.5,276.6,276.8,277.2,277.4,277.5,277.7,277.9,278.1,278.3,278.5,278.6,279.0,279.4,279.5,279.7,279.9,280.1,280.3,280.5,280.6,280.8,281.1,281.4,281.6,281.9,282.2,282.5,282.7,283.0,283.3,283.7,284.5,285.1,285.5,286.0,286.5,286.9,287.4,287.8,288.7,289.6,290.4,290.8,291.6,292.5,293.3,294.1,294.9,295.9,296.9,297.5,298.0,298.5,299.1,299.5,299.8,300.4,300.9,301.5,301.8,302.2,302.5,302.9,303.3,303.6,303.8,304.0,304.0,304.0,304.3,304.5,304.8,305.1,305.4,305.6,305.9,306.2,306.5,306.7,307.0,307.0,307.4,307.7,308.1,308.5,309.0,309.5,309.9,310.4,310.8,311.3,311.7,311.8,311.9,312.0,312.0,312.0,312.3,312.5,312.8,313.1,313.4,313.8,314.3,314.7,315.2,315.6,316.1,316.3,316.6,317.0,317.4,318.2,318.8,319.5,320.1,320.9,321.7,322.5,323.4,324.0,324.6,325.3,325.6,326.0,326.7,327.5,328.0,328.5,329.1,329.6,330.5,331.3,332.1,332.7,333.4,333.6,333.6,333.6,333.6,333.6,333.6,333.4,332.9,332.5,332.0,331.5,331.1,330.9,330.5,330.2,329.8,329.5,329.1,328.9,328.7,328.5,328.4,328.2,328.0,328.0,328.0,328.0,328.0,328.0,328.1,328.2,328.3,328.4,328.5,328.5,328.6,328.7,328.8,328.9,329.0,328.9,328.8,328.7,328.6,328.5,328.5,328.4,328.3,328.2,328.1,328.0,328.0,328.0,328.0,328.0,328.0,328.0,328.0,328.0,328.0,327.7,327.5,327.2,326.9,326.6,326.4,325.9,325.5,325.0,324.5,324.1,323.9,323.2,322.5,321.7,321.0,321.2,321.5,321.4,321.2,321.0,320.8,320.6,321.0,320.6,320.3,319.9,318.6,317.4,316.0,314.6,313.3,311.9,310.5,309.2,308.5,307.7,307.0,306.3,305.5,305.4,305.2,305.0,304.8,304.6,304.5,304.5,304.5,304.5,304.5,304.5,304.6,304.8,305.0,305.2,305.4,305.5,305.8,306.1,306.4,306.6,306.9,307.2,307.5,307.7,308.0,308.3,308.5,308.9,309.3,309.6,310.0,310.4,310.8,311.3,311.7,312.2,312.6,313.1,313.5,313.8,314.2,314.0,314.4,314.7,315.1,315.5,315.8,316.2,316.5,316.7,316.9,317.1,317.8,318.0,318.0,318.0,318.0,318.0,318.0,318.0,318.0,318.2,318.4,318.5,318.7,318.9,319.1,319.5,319.8,320.2,320.5,320.9,321.4,321.8,322.3,322.7,323.2,323.6,324.2,324.7,325.3,325.8,326.2,326.3,326.5,326.7,327.0]}},\"id\":\"caf3f700-54ea-450f-9feb-0e3f3e42a9e8\",\"type\":\"ColumnDataSource\"},{\"attributes\":{\"bottom_units\":\"screen\",\"fill_alpha\":{\"value\":0.5},\"fill_color\":{\"value\":\"lightgrey\"},\"left_units\":\"screen\",\"level\":\"overlay\",\"line_alpha\":{\"value\":1.0},\"line_color\":{\"value\":\"black\"},\"line_dash\":[4,4],\"line_width\":{\"value\":2},\"plot\":null,\"render_mode\":\"css\",\"right_units\":\"screen\",\"top_units\":\"screen\"},\"id\":\"5316dccd-9827-40f7-a3da-f53623089dba\",\"type\":\"BoxAnnotation\"},{\"attributes\":{\"max_interval\":500.0,\"num_minor_ticks\":0},\"id\":\"72403e28-d0af-430c-af5b-2e27b1934dc3\",\"type\":\"AdaptiveTicker\"},{\"attributes\":{\"dimension\":1,\"plot\":{\"id\":\"a18e9477-e8f6-4137-aa2c-ada6a022b684\",\"subtype\":\"Figure\",\"type\":\"Plot\"},\"ticker\":{\"id\":\"7f4659ee-a7c4-479a-923d-635d3276e9ea\",\"type\":\"BasicTicker\"}},\"id\":\"4eb5d7a9-8613-465e-86f1-9972192260e6\",\"type\":\"Grid\"},{\"attributes\":{\"base\":24,\"mantissas\":[1,2,4,6,8,12],\"max_interval\":43200000.0,\"min_interval\":3600000.0,\"num_minor_ticks\":0},\"id\":\"24d232c7-b0b0-4476-8755-805f2a65ef25\",\"type\":\"AdaptiveTicker\"},{\"attributes\":{\"plot\":{\"id\":\"8a0e04f0-1b56-4383-93da-73ef9933ab80\",\"subtype\":\"Figure\",\"type\":\"Plot\"}},\"id\":\"30a4adad-032b-4863-9020-ca860f253656\",\"type\":\"PanTool\"},{\"attributes\":{\"months\":[0,2,4,6,8,10]},\"id\":\"6dc7634e-831c-4106-9e6a-4358ddfe8dbf\",\"type\":\"MonthsTicker\"},{\"attributes\":{\"plot\":{\"id\":\"a18e9477-e8f6-4137-aa2c-ada6a022b684\",\"subtype\":\"Figure\",\"type\":\"Plot\"}},\"id\":\"35a37bf5-722c-4572-805e-5ee04cf2ad23\",\"type\":\"PreviewSaveTool\"}],\"root_ids\":[\"a18e9477-e8f6-4137-aa2c-ada6a022b684\",\"8a0e04f0-1b56-4383-93da-73ef9933ab80\"]},\"title\":\"Bokeh Application\",\"version\":\"0.11.1\"}};\n",
       "            var render_items = [{\"docid\":\"2f0d1435-e092-4498-8430-3f3e335dada5\",\"elementid\":\"4162b4b5-e09f-4b4a-9eef-bc9a579e5f31\",\"modelid\":\"8a0e04f0-1b56-4383-93da-73ef9933ab80\",\"notebook_comms_target\":\"b3040c3b-93f2-44e2-8431-a52498097caa\"}];\n",
       "            \n",
       "            Bokeh.embed.embed_items(docs_json, render_items);\n",
       "        });\n",
       "      },\n",
       "      function(Bokeh) {\n",
       "      }\n",
       "    ];\n",
       "  \n",
       "    function run_inline_js() {\n",
       "      for (var i = 0; i < inline_js.length; i++) {\n",
       "        inline_js[i](window.Bokeh);\n",
       "      }\n",
       "    }\n",
       "  \n",
       "    if (window._bokeh_is_loading === 0) {\n",
       "      console.log(\"Bokeh: BokehJS loaded, going straight to plotting\");\n",
       "      run_inline_js();\n",
       "    } else {\n",
       "      load_libs(js_urls, function() {\n",
       "        console.log(\"Bokeh: BokehJS plotting callback run at\", now());\n",
       "        run_inline_js();\n",
       "      });\n",
       "    }\n",
       "  }(this));\n",
       "</script>"
      ]
     },
     "metadata": {},
     "output_type": "display_data"
    },
    {
     "data": {
      "text/html": [
       "<p><code>&lt;Bokeh Notebook handle for <strong>In[18]</strong>&gt;</code></p>"
      ],
      "text/plain": [
       "<bokeh.io._CommsHandle at 0x7f3d239c5438>"
      ]
     },
     "execution_count": 18,
     "metadata": {},
     "output_type": "execute_result"
    }
   ],
   "source": [
    "distances = [r.distance_total for r in all_runs]\n",
    "times = [r.start for r in all_runs]\n",
    "\n",
    "p = figure(\n",
    "    title=\"Distances run over time\", \n",
    "    background_fill_color=\"#E8DDCB\",\n",
    "    y_axis_label='Distance (m)', \n",
    "    x_axis_label='Time',\n",
    "    x_axis_type=\"datetime\"\n",
    ")\n",
    "\n",
    "p.circle(times, distances)\n",
    "show(p)"
   ]
  },
  {
   "cell_type": "code",
   "execution_count": 19,
   "metadata": {
    "collapsed": false
   },
   "outputs": [
    {
     "data": {
      "text/html": [
       "\n",
       "\n",
       "    <div class=\"plotdiv\" id=\"028acd05-e067-43e4-a69f-86561c46bf18\"></div>\n",
       "<script type=\"text/javascript\">\n",
       "  \n",
       "  (function(global) {\n",
       "    function now() {\n",
       "      return new Date();\n",
       "    }\n",
       "  \n",
       "    if (typeof (window._bokeh_onload_callbacks) === \"undefined\") {\n",
       "      window._bokeh_onload_callbacks = [];\n",
       "    }\n",
       "  \n",
       "    function run_callbacks() {\n",
       "      window._bokeh_onload_callbacks.forEach(function(callback) { callback() });\n",
       "      delete window._bokeh_onload_callbacks\n",
       "      console.info(\"Bokeh: all callbacks have finished\");\n",
       "    }\n",
       "  \n",
       "    function load_libs(js_urls, callback) {\n",
       "      window._bokeh_onload_callbacks.push(callback);\n",
       "      if (window._bokeh_is_loading > 0) {\n",
       "        console.log(\"Bokeh: BokehJS is being loaded, scheduling callback at\", now());\n",
       "        return null;\n",
       "      }\n",
       "      if (js_urls == null || js_urls.length === 0) {\n",
       "        run_callbacks();\n",
       "        return null;\n",
       "      }\n",
       "      console.log(\"Bokeh: BokehJS not loaded, scheduling load and callback at\", now());\n",
       "      window._bokeh_is_loading = js_urls.length;\n",
       "      for (var i = 0; i < js_urls.length; i++) {\n",
       "        var url = js_urls[i];\n",
       "        var s = document.createElement('script');\n",
       "        s.src = url;\n",
       "        s.async = false;\n",
       "        s.onreadystatechange = s.onload = function() {\n",
       "          window._bokeh_is_loading--;\n",
       "          if (window._bokeh_is_loading === 0) {\n",
       "            console.log(\"Bokeh: all BokehJS libraries loaded\");\n",
       "            run_callbacks()\n",
       "          }\n",
       "        };\n",
       "        s.onerror = function() {\n",
       "          console.warn(\"failed to load library \" + url);\n",
       "        };\n",
       "        console.log(\"Bokeh: injecting script tag for BokehJS library: \", url);\n",
       "        document.getElementsByTagName(\"head\")[0].appendChild(s);\n",
       "      }\n",
       "    };var element = document.getElementById(\"028acd05-e067-43e4-a69f-86561c46bf18\");\n",
       "    if (element == null) {\n",
       "      console.log(\"Bokeh: ERROR: autoload.js configured with elementid '028acd05-e067-43e4-a69f-86561c46bf18' but no matching script tag was found. \")\n",
       "      return false;\n",
       "    }\n",
       "  \n",
       "    var js_urls = [];\n",
       "  \n",
       "    var inline_js = [\n",
       "      function(Bokeh) {\n",
       "        Bokeh.$(function() {\n",
       "            var docs_json = {\"f7957a41-91a7-46ad-a336-2b5c3f658c1c\":{\"roots\":{\"references\":[{\"attributes\":{\"plot\":{\"id\":\"a18e9477-e8f6-4137-aa2c-ada6a022b684\",\"subtype\":\"Figure\",\"type\":\"Plot\"}},\"id\":\"57581b32-76d8-4a68-846f-66d55a42efa7\",\"type\":\"WheelZoomTool\"},{\"attributes\":{\"callback\":null,\"column_names\":[\"x\",\"y\"],\"data\":{\"x\":[1465328243000.0,1428148529000.0,1463844198000.0,1415554211000.0,1414697951000.0,1434131854000.0,1425920018000.0,1439056606000.0,1438106993000.0,1410246399000.0,1410099387000.0,1436643161000.0,1462128356000.0,1466880893000.0,1443172413000.0,1424372257000.0,1464635172000.0,1438457322000.0,1420981616000.0,1412445070000.0,1431286224000.0,1465587240000.0,1444075724000.0,1428233258000.0,1425674543000.0,1426191183000.0,1426607916000.0,1459889614000.0,1422467747000.0,1465060160000.0,1418056433000.0,1466349240000.0,1420741859000.0,1440791953000.0,1421776526000.0,1411542030000.0,1446030451000.0,1411201027000.0,1436301721000.0,1430762639000.0,1410547403000.0,1422038969000.0],\"y\":[7.530694565242037,6.6316804463514245,6.500766992499371,5.903683544535305,5.543904586568578,6.9162364268051295,6.717393410877305,7.021752428171513,6.667625981672587,7.988781267417407,6.688336138542586,7.527820843374726,8.329739190583984,6.662784330257975,4.598404506848535,8.174591581549155,7.367041654944693,7.659907737492002,5.205230326011463,5.934675368608669,5.536673958179106,7.183159595747414,7.389993396495658,6.265775252525623,6.255164422938618,6.989659596596395,7.156562231217974,6.78652324174341,5.9916302124482685,4.180160125629046,6.200367679261646,5.232667661461895,5.17184840993804,6.929839343755573,5.4867741304159034,5.586883412867613,6.232273364866359,7.207683015012478,8.433893842390468,7.401423644238849,6.705160419221628,6.251896629828126]}},\"id\":\"060fb2f8-3917-4999-9ab5-2171ecee761d\",\"type\":\"ColumnDataSource\"},{\"attributes\":{\"num_minor_ticks\":5},\"id\":\"2a12ff26-cb06-4622-a31d-daac2e9146ed\",\"type\":\"DatetimeTicker\"},{\"attributes\":{\"data_source\":{\"id\":\"060fb2f8-3917-4999-9ab5-2171ecee761d\",\"type\":\"ColumnDataSource\"},\"glyph\":{\"id\":\"0dc0726b-406c-4299-b74e-bd4cc2fa6053\",\"type\":\"Circle\"},\"hover_glyph\":null,\"nonselection_glyph\":{\"id\":\"62036fc7-449a-4f73-8349-287c986a6131\",\"type\":\"Circle\"},\"selection_glyph\":null},\"id\":\"dbc21d50-ee69-4d59-b99a-319367ac9c15\",\"type\":\"GlyphRenderer\"},{\"attributes\":{\"overlay\":{\"id\":\"8203170b-b7ec-4153-a961-541137bf1c24\",\"type\":\"BoxAnnotation\"},\"plot\":{\"id\":\"8a0e04f0-1b56-4383-93da-73ef9933ab80\",\"subtype\":\"Figure\",\"type\":\"Plot\"}},\"id\":\"88e7a141-62a2-478c-90f7-62a57994e55a\",\"type\":\"BoxZoomTool\"},{\"attributes\":{\"days\":[1,8,15,22]},\"id\":\"aba14fc6-d550-4d13-9efe-723b33431d47\",\"type\":\"DaysTicker\"},{\"attributes\":{\"plot\":{\"id\":\"b384f6de-66b0-4414-bf2f-aa03220674cf\",\"subtype\":\"Figure\",\"type\":\"Plot\"}},\"id\":\"8c5f9d93-a561-4da1-9488-c399f4b51b00\",\"type\":\"ResizeTool\"},{\"attributes\":{\"axis_label\":\"Speed (km/h)\",\"formatter\":{\"id\":\"b026ea67-e1f6-40a7-8d32-2ddf812cc2d9\",\"type\":\"BasicTickFormatter\"},\"plot\":{\"id\":\"b384f6de-66b0-4414-bf2f-aa03220674cf\",\"subtype\":\"Figure\",\"type\":\"Plot\"},\"ticker\":{\"id\":\"6c802030-9a1e-4fff-bf04-fc1db4fea06a\",\"type\":\"BasicTicker\"}},\"id\":\"66312df7-ca9d-46c1-93ea-017863b0f1de\",\"type\":\"LinearAxis\"},{\"attributes\":{\"months\":[0,4,8]},\"id\":\"e6df1674-fec5-4b75-9a93-e2a7ca9f4f0e\",\"type\":\"MonthsTicker\"},{\"attributes\":{\"data_source\":{\"id\":\"caf3f700-54ea-450f-9feb-0e3f3e42a9e8\",\"type\":\"ColumnDataSource\"},\"glyph\":{\"id\":\"a5202e0e-c88e-4dbb-86a5-b9838b3a915d\",\"type\":\"Line\"},\"hover_glyph\":null,\"nonselection_glyph\":{\"id\":\"f9b7d84d-6d9e-4e73-b3b9-d86f4d21fc3f\",\"type\":\"Line\"},\"selection_glyph\":null},\"id\":\"3f161b64-43c6-4831-8203-082c3bc97644\",\"type\":\"GlyphRenderer\"},{\"attributes\":{\"plot\":{\"id\":\"8a0e04f0-1b56-4383-93da-73ef9933ab80\",\"subtype\":\"Figure\",\"type\":\"Plot\"}},\"id\":\"30a4adad-032b-4863-9020-ca860f253656\",\"type\":\"PanTool\"},{\"attributes\":{\"plot\":{\"id\":\"8a0e04f0-1b56-4383-93da-73ef9933ab80\",\"subtype\":\"Figure\",\"type\":\"Plot\"}},\"id\":\"a7173f36-8a8d-41f8-b8e7-3cae5c4c32c6\",\"type\":\"WheelZoomTool\"},{\"attributes\":{},\"id\":\"6c802030-9a1e-4fff-bf04-fc1db4fea06a\",\"type\":\"BasicTicker\"},{\"attributes\":{\"months\":[0,4,8]},\"id\":\"572fbcb2-bcba-474d-b0d6-0110038bf7d3\",\"type\":\"MonthsTicker\"},{\"attributes\":{\"months\":[0,4,8]},\"id\":\"e160b90e-2eac-4634-9c3f-66b52996dee9\",\"type\":\"MonthsTicker\"},{\"attributes\":{\"base\":60,\"mantissas\":[1,2,5,10,15,20,30],\"max_interval\":1800000.0,\"min_interval\":1000.0,\"num_minor_ticks\":0},\"id\":\"d5a9908d-6e58-46c0-8b2c-71cd1a1c54e6\",\"type\":\"AdaptiveTicker\"},{\"attributes\":{\"days\":[1,4,7,10,13,16,19,22,25,28]},\"id\":\"237d47d3-082c-4917-9fe1-c35424b44e41\",\"type\":\"DaysTicker\"},{\"attributes\":{\"days\":[1,8,15,22]},\"id\":\"2fdaf689-0767-4f2a-acae-400b42156738\",\"type\":\"DaysTicker\"},{\"attributes\":{\"months\":[0,6]},\"id\":\"d69f1977-0562-4c27-b346-bf64378e0230\",\"type\":\"MonthsTicker\"},{\"attributes\":{\"callback\":null},\"id\":\"c57ba96d-108a-4d2f-9241-22e993b1d002\",\"type\":\"DataRange1d\"},{\"attributes\":{\"line_color\":{\"value\":\"#1f77b4\"},\"x\":{\"field\":\"x\"},\"y\":{\"field\":\"y\"}},\"id\":\"a5202e0e-c88e-4dbb-86a5-b9838b3a915d\",\"type\":\"Line\"},{\"attributes\":{},\"id\":\"66645fc9-6d12-4ea6-bd7b-102a8c30329f\",\"type\":\"ToolEvents\"},{\"attributes\":{},\"id\":\"d14560dd-8267-4cb3-9b2f-dcc5468b405d\",\"type\":\"BasicTickFormatter\"},{\"attributes\":{\"base\":60,\"mantissas\":[1,2,5,10,15,20,30],\"max_interval\":1800000.0,\"min_interval\":1000.0,\"num_minor_ticks\":0},\"id\":\"c9108b81-f547-448e-8d54-b6307aa7ae67\",\"type\":\"AdaptiveTicker\"},{\"attributes\":{\"fill_alpha\":{\"value\":0.1},\"fill_color\":{\"value\":\"#1f77b4\"},\"line_alpha\":{\"value\":0.1},\"line_color\":{\"value\":\"#1f77b4\"},\"x\":{\"field\":\"x\"},\"y\":{\"field\":\"y\"}},\"id\":\"62036fc7-449a-4f73-8349-287c986a6131\",\"type\":\"Circle\"},{\"attributes\":{\"months\":[0,1,2,3,4,5,6,7,8,9,10,11]},\"id\":\"3ae27f82-7d33-4cac-b27d-6ad8da9d88f2\",\"type\":\"MonthsTicker\"},{\"attributes\":{\"line_alpha\":{\"value\":0.1},\"line_color\":{\"value\":\"#1f77b4\"},\"x\":{\"field\":\"x\"},\"y\":{\"field\":\"y\"}},\"id\":\"f9b7d84d-6d9e-4e73-b3b9-d86f4d21fc3f\",\"type\":\"Line\"},{\"attributes\":{\"plot\":{\"id\":\"b384f6de-66b0-4414-bf2f-aa03220674cf\",\"subtype\":\"Figure\",\"type\":\"Plot\"}},\"id\":\"2569c697-c25d-4c8b-920f-7abf33f21657\",\"type\":\"PanTool\"},{\"attributes\":{\"dimension\":1,\"plot\":{\"id\":\"8a0e04f0-1b56-4383-93da-73ef9933ab80\",\"subtype\":\"Figure\",\"type\":\"Plot\"},\"ticker\":{\"id\":\"1748be20-155c-46a9-ad88-511931b35cdd\",\"type\":\"BasicTicker\"}},\"id\":\"00479e65-1bd5-45de-a0f9-7b415cf0a9f5\",\"type\":\"Grid\"},{\"attributes\":{},\"id\":\"8c719ebd-2db1-4148-8343-31b7681f5dfa\",\"type\":\"YearsTicker\"},{\"attributes\":{\"plot\":{\"id\":\"a18e9477-e8f6-4137-aa2c-ada6a022b684\",\"subtype\":\"Figure\",\"type\":\"Plot\"}},\"id\":\"9fbccf3e-494f-4f39-acc7-fa0886869cae\",\"type\":\"ResetTool\"},{\"attributes\":{\"axis_label\":\"Time\",\"formatter\":{\"id\":\"e0f6bd0c-a2ca-4a7a-b2ab-279a36bffc2b\",\"type\":\"DatetimeTickFormatter\"},\"plot\":{\"id\":\"b384f6de-66b0-4414-bf2f-aa03220674cf\",\"subtype\":\"Figure\",\"type\":\"Plot\"},\"ticker\":{\"id\":\"2a12ff26-cb06-4622-a31d-daac2e9146ed\",\"type\":\"DatetimeTicker\"}},\"id\":\"2f703c0f-1eab-492a-b2f1-c5226dddf016\",\"type\":\"DatetimeAxis\"},{\"attributes\":{\"base\":60,\"mantissas\":[1,2,5,10,15,20,30],\"max_interval\":1800000.0,\"min_interval\":1000.0,\"num_minor_ticks\":0},\"id\":\"5db965d2-1d3a-40e2-a8e0-3b2f0d7ef372\",\"type\":\"AdaptiveTicker\"},{\"attributes\":{\"overlay\":{\"id\":\"e79af1fc-d423-4ee8-a6e7-53a328de099a\",\"type\":\"BoxAnnotation\"},\"plot\":{\"id\":\"b384f6de-66b0-4414-bf2f-aa03220674cf\",\"subtype\":\"Figure\",\"type\":\"Plot\"}},\"id\":\"ade454d6-b221-41cb-be64-fdfc81769833\",\"type\":\"BoxZoomTool\"},{\"attributes\":{\"axis_label\":\"Time\",\"formatter\":{\"id\":\"1ca5026e-c14f-41a7-80db-66c8948c1948\",\"type\":\"DatetimeTickFormatter\"},\"plot\":{\"id\":\"8a0e04f0-1b56-4383-93da-73ef9933ab80\",\"subtype\":\"Figure\",\"type\":\"Plot\"},\"ticker\":{\"id\":\"aa3f6f9c-054a-45d6-aae2-4900ed14b4b4\",\"type\":\"DatetimeTicker\"}},\"id\":\"0c3acbed-9231-4a6e-88ed-cce968f25906\",\"type\":\"DatetimeAxis\"},{\"attributes\":{\"max_interval\":500.0,\"num_minor_ticks\":0},\"id\":\"5dddff9b-23d8-4a73-abc2-81bc17d14c98\",\"type\":\"AdaptiveTicker\"},{\"attributes\":{\"axis_label\":\"Elevation (m)\",\"formatter\":{\"id\":\"9ef15a0d-8af0-4391-b741-ba2087f9fdb9\",\"type\":\"BasicTickFormatter\"},\"plot\":{\"id\":\"a18e9477-e8f6-4137-aa2c-ada6a022b684\",\"subtype\":\"Figure\",\"type\":\"Plot\"},\"ticker\":{\"id\":\"7f4659ee-a7c4-479a-923d-635d3276e9ea\",\"type\":\"BasicTicker\"}},\"id\":\"fef7c37c-3d64-4363-85f0-3742c85216e6\",\"type\":\"LinearAxis\"},{\"attributes\":{\"base\":24,\"mantissas\":[1,2,4,6,8,12],\"max_interval\":43200000.0,\"min_interval\":3600000.0,\"num_minor_ticks\":0},\"id\":\"46b684c2-2d5f-4586-8e07-4371790478c5\",\"type\":\"AdaptiveTicker\"},{\"attributes\":{\"days\":[1,2,3,4,5,6,7,8,9,10,11,12,13,14,15,16,17,18,19,20,21,22,23,24,25,26,27,28,29,30,31]},\"id\":\"2a6a46ea-12c2-4467-bac6-bca999f6522d\",\"type\":\"DaysTicker\"},{\"attributes\":{},\"id\":\"7f4659ee-a7c4-479a-923d-635d3276e9ea\",\"type\":\"BasicTicker\"},{\"attributes\":{\"plot\":{\"id\":\"8a0e04f0-1b56-4383-93da-73ef9933ab80\",\"subtype\":\"Figure\",\"type\":\"Plot\"}},\"id\":\"4e310650-8472-4f52-aa49-ff3ab59c0fe4\",\"type\":\"ResizeTool\"},{\"attributes\":{\"num_minor_ticks\":5},\"id\":\"ea29c826-67c5-42a1-ba0c-b532b95f265d\",\"type\":\"DatetimeTicker\"},{\"attributes\":{\"months\":[0,1,2,3,4,5,6,7,8,9,10,11]},\"id\":\"34d76a54-1ebb-4d55-a673-6033fbfa6065\",\"type\":\"MonthsTicker\"},{\"attributes\":{\"months\":[0,2,4,6,8,10]},\"id\":\"737a4f7b-7bbd-4a12-9675-4d4c9fe907e7\",\"type\":\"MonthsTicker\"},{\"attributes\":{},\"id\":\"b026ea67-e1f6-40a7-8d32-2ddf812cc2d9\",\"type\":\"BasicTickFormatter\"},{\"attributes\":{\"callback\":null},\"id\":\"8b611378-6865-41ff-a185-32b7ec696c25\",\"type\":\"DataRange1d\"},{\"attributes\":{\"plot\":{\"id\":\"8a0e04f0-1b56-4383-93da-73ef9933ab80\",\"subtype\":\"Figure\",\"type\":\"Plot\"},\"ticker\":{\"id\":\"aa3f6f9c-054a-45d6-aae2-4900ed14b4b4\",\"type\":\"DatetimeTicker\"}},\"id\":\"3f50426a-7d1d-46b2-af4b-8b88300961d7\",\"type\":\"Grid\"},{\"attributes\":{},\"id\":\"8ea63fce-a0ec-4ebd-97f5-05bd07f41c23\",\"type\":\"YearsTicker\"},{\"attributes\":{\"max_interval\":500.0,\"num_minor_ticks\":0},\"id\":\"c430668b-5fe4-43d9-8ee7-2ac8a9be3fcf\",\"type\":\"AdaptiveTicker\"},{\"attributes\":{},\"id\":\"b85035e3-2e88-4a66-8084-a6931d900062\",\"type\":\"DatetimeTickFormatter\"},{\"attributes\":{\"base\":24,\"mantissas\":[1,2,4,6,8,12],\"max_interval\":43200000.0,\"min_interval\":3600000.0,\"num_minor_ticks\":0},\"id\":\"3e83dbeb-e68c-4dd7-b5d1-9a4f67981f0a\",\"type\":\"AdaptiveTicker\"},{\"attributes\":{\"bottom_units\":\"screen\",\"fill_alpha\":{\"value\":0.5},\"fill_color\":{\"value\":\"lightgrey\"},\"left_units\":\"screen\",\"level\":\"overlay\",\"line_alpha\":{\"value\":1.0},\"line_color\":{\"value\":\"black\"},\"line_dash\":[4,4],\"line_width\":{\"value\":2},\"plot\":null,\"render_mode\":\"css\",\"right_units\":\"screen\",\"top_units\":\"screen\"},\"id\":\"e79af1fc-d423-4ee8-a6e7-53a328de099a\",\"type\":\"BoxAnnotation\"},{\"attributes\":{\"bottom_units\":\"screen\",\"fill_alpha\":{\"value\":0.5},\"fill_color\":{\"value\":\"lightgrey\"},\"left_units\":\"screen\",\"level\":\"overlay\",\"line_alpha\":{\"value\":1.0},\"line_color\":{\"value\":\"black\"},\"line_dash\":[4,4],\"line_width\":{\"value\":2},\"plot\":null,\"render_mode\":\"css\",\"right_units\":\"screen\",\"top_units\":\"screen\"},\"id\":\"5316dccd-9827-40f7-a3da-f53623089dba\",\"type\":\"BoxAnnotation\"},{\"attributes\":{\"callback\":null},\"id\":\"580ad038-6b70-4930-aef9-70dabac4f71f\",\"type\":\"DataRange1d\"},{\"attributes\":{\"dimension\":1,\"plot\":{\"id\":\"a18e9477-e8f6-4137-aa2c-ada6a022b684\",\"subtype\":\"Figure\",\"type\":\"Plot\"},\"ticker\":{\"id\":\"7f4659ee-a7c4-479a-923d-635d3276e9ea\",\"type\":\"BasicTicker\"}},\"id\":\"4eb5d7a9-8613-465e-86f1-9972192260e6\",\"type\":\"Grid\"},{\"attributes\":{\"base\":24,\"mantissas\":[1,2,4,6,8,12],\"max_interval\":43200000.0,\"min_interval\":3600000.0,\"num_minor_ticks\":0},\"id\":\"24d232c7-b0b0-4476-8755-805f2a65ef25\",\"type\":\"AdaptiveTicker\"},{\"attributes\":{},\"id\":\"1c558538-6ea8-48b1-b20f-d767b99986b4\",\"type\":\"YearsTicker\"},{\"attributes\":{\"callback\":null,\"column_names\":[\"x\",\"y\"],\"data\":{\"x\":[1466880893000.0,1466880895000.0,1466880898000.0,1466880911000.0,1466880918000.0,1466880929000.0,1466880933000.0,1466880936000.0,1466880939000.0,1466880942000.0,1466880945000.0,1466880948000.0,1466880951000.0,1466880954000.0,1466880957000.0,1466880960000.0,1466880964000.0,1466880967000.0,1466880970000.0,1466880973000.0,1466880976000.0,1466880980000.0,1466880983000.0,1466880987000.0,1466880991000.0,1466880995000.0,1466880999000.0,1466881003000.0,1466881006000.0,1466881009000.0,1466881012000.0,1466881015000.0,1466881018000.0,1466881021000.0,1466881024000.0,1466881027000.0,1466881031000.0,1466881034000.0,1466881038000.0,1466881071000.0,1466881074000.0,1466881077000.0,1466881080000.0,1466881082000.0,1466881085000.0,1466881088000.0,1466881091000.0,1466881094000.0,1466881097000.0,1466881100000.0,1466881103000.0,1466881106000.0,1466881109000.0,1466881112000.0,1466881116000.0,1466881138000.0,1466881141000.0,1466881144000.0,1466881147000.0,1466881150000.0,1466881153000.0,1466881156000.0,1466881159000.0,1466881162000.0,1466881165000.0,1466881168000.0,1466881171000.0,1466881175000.0,1466881178000.0,1466881181000.0,1466881184000.0,1466881187000.0,1466881190000.0,1466881193000.0,1466881196000.0,1466881200000.0,1466881214000.0,1466881222000.0,1466881226000.0,1466881229000.0,1466881232000.0,1466881235000.0,1466881238000.0,1466881241000.0,1466881244000.0,1466881247000.0,1466881250000.0,1466881253000.0,1466881256000.0,1466881259000.0,1466881262000.0,1466881265000.0,1466881268000.0,1466881271000.0,1466881274000.0,1466881285000.0,1466881301000.0,1466881304000.0,1466881307000.0,1466881309000.0,1466881312000.0,1466881315000.0,1466881318000.0,1466881322000.0,1466881325000.0,1466881328000.0,1466881331000.0,1466881335000.0,1466881350000.0,1466881358000.0,1466881361000.0,1466881364000.0,1466881367000.0,1466881370000.0,1466881373000.0,1466881376000.0,1466881379000.0,1466881383000.0,1466881386000.0,1466881389000.0,1466881392000.0,1466881396000.0,1466881400000.0,1466881403000.0,1466881406000.0,1466881409000.0,1466881412000.0,1466881437000.0,1466881447000.0,1466881451000.0,1466881454000.0,1466881457000.0,1466881460000.0,1466881463000.0,1466881466000.0,1466881469000.0,1466881472000.0,1466881475000.0,1466881478000.0,1466881480000.0,1466881483000.0,1466881486000.0,1466881489000.0,1466881492000.0,1466881495000.0,1466881498000.0,1466881501000.0,1466881504000.0,1466881507000.0,1466881510000.0,1466881513000.0,1466881516000.0,1466881520000.0,1466881523000.0,1466881526000.0,1466881530000.0,1466881534000.0,1466881544000.0,1466881556000.0,1466881564000.0,1466881571000.0,1466881578000.0,1466881586000.0,1466881597000.0,1466881604000.0,1466881613000.0,1466881621000.0,1466881624000.0,1466881627000.0,1466881631000.0,1466881635000.0,1466881639000.0,1466881643000.0,1466881647000.0,1466881651000.0,1466881655000.0,1466881659000.0,1466881663000.0,1466881683000.0,1466881690000.0,1466881694000.0,1466881698000.0,1466881702000.0,1466881707000.0,1466881712000.0,1466881717000.0,1466881722000.0,1466881726000.0,1466881732000.0,1466881737000.0,1466881741000.0,1466881746000.0,1466881751000.0,1466881759000.0,1466881769000.0,1466881780000.0,1466881789000.0,1466881797000.0,1466881807000.0,1466881813000.0,1466881817000.0,1466881821000.0,1466881826000.0,1466881868000.0,1466881872000.0,1466881877000.0,1466881881000.0,1466881885000.0,1466881889000.0,1466881893000.0,1466881897000.0,1466881903000.0,1466881908000.0,1466881913000.0,1466881919000.0,1466881945000.0,1466881957000.0,1466881961000.0,1466881965000.0,1466881970000.0,1466881997000.0,1466882002000.0,1466882040000.0,1466882045000.0,1466882050000.0,1466882056000.0,1466882061000.0,1466882067000.0,1466882072000.0,1466882076000.0,1466882080000.0,1466882083000.0,1466882087000.0,1466882092000.0,1466882097000.0,1466882102000.0,1466882107000.0,1466882111000.0,1466882144000.0,1466882166000.0,1466882175000.0,1466882183000.0,1466882222000.0,1466882326000.0,1466882332000.0,1466882336000.0,1466882339000.0,1466882342000.0,1466882345000.0,1466882348000.0,1466882352000.0,1466882356000.0,1466882360000.0,1466882364000.0,1466882368000.0,1466882373000.0,1466882378000.0,1466882383000.0,1466882387000.0,1466882391000.0,1466882395000.0,1466882399000.0,1466882404000.0,1466882420000.0,1466882424000.0,1466882428000.0,1466882432000.0,1466882436000.0,1466882441000.0,1466882446000.0,1466882452000.0,1466882456000.0,1466882460000.0,1466882464000.0,1466882468000.0,1466882472000.0,1466882476000.0,1466882480000.0,1466882485000.0,1466882490000.0,1466882494000.0,1466882500000.0,1466882506000.0,1466882511000.0,1466882518000.0,1466882527000.0,1466882540000.0,1466882545000.0,1466882550000.0,1466882555000.0,1466882562000.0,1466882568000.0,1466882573000.0,1466882578000.0,1466882584000.0,1466882589000.0,1466882604000.0,1466882643000.0,1466882654000.0,1466882662000.0,1466882666000.0,1466882669000.0,1466882673000.0,1466882677000.0,1466882681000.0,1466882687000.0,1466882692000.0,1466882697000.0,1466882732000.0,1466882737000.0,1466882743000.0,1466882748000.0,1466882752000.0,1466882758000.0,1466882764000.0,1466882770000.0,1466882799000.0,1466882803000.0,1466882806000.0,1466882809000.0,1466882812000.0,1466882816000.0,1466882820000.0,1466882824000.0,1466882829000.0,1466882832000.0,1466882835000.0,1466882839000.0,1466882842000.0,1466882846000.0,1466882850000.0,1466882854000.0,1466882858000.0,1466882863000.0,1466882867000.0,1466882871000.0,1466882876000.0,1466882883000.0,1466882892000.0,1466882902000.0,1466882933000.0,1466882937000.0,1466882941000.0,1466882945000.0,1466882949000.0,1466882953000.0,1466882957000.0,1466882961000.0,1466882965000.0,1466882969000.0,1466882993000.0,1466882997000.0,1466883001000.0,1466883005000.0,1466883009000.0,1466883014000.0,1466883019000.0,1466883024000.0,1466883028000.0,1466883032000.0,1466883036000.0,1466883040000.0,1466883044000.0,1466883048000.0,1466883052000.0,1466883057000.0,1466883062000.0,1466883082000.0,1466883098000.0,1466883102000.0,1466883106000.0,1466883109000.0,1466883112000.0,1466883116000.0,1466883120000.0,1466883124000.0,1466883129000.0,1466883135000.0,1466883142000.0,1466883150000.0,1466883161000.0,1466883169000.0,1466883174000.0,1466883179000.0,1466883183000.0,1466883186000.0,1466883189000.0,1466883193000.0,1466883196000.0,1466883199000.0,1466883203000.0,1466883209000.0,1466883213000.0,1466883217000.0,1466883221000.0,1466883225000.0,1466883229000.0,1466883233000.0,1466883238000.0,1466883243000.0,1466883247000.0,1466883250000.0,1466883253000.0,1466883257000.0,1466883260000.0,1466883264000.0,1466883269000.0,1466883274000.0,1466883296000.0,1466883301000.0,1466883304000.0,1466883308000.0,1466883314000.0,1466883319000.0,1466883323000.0,1466883326000.0,1466883329000.0,1466883333000.0,1466883337000.0,1466883341000.0,1466883345000.0,1466883349000.0,1466883353000.0,1466883358000.0,1466883363000.0,1466883368000.0,1466883374000.0,1466883380000.0,1466883385000.0,1466883390000.0,1466883394000.0,1466883399000.0,1466883413000.0,1466883430000.0,1466883439000.0,1466883448000.0,1466883452000.0,1466883456000.0,1466883460000.0,1466883464000.0,1466883468000.0,1466883473000.0,1466883478000.0,1466883483000.0,1466883489000.0,1466883494000.0,1466883498000.0,1466883502000.0,1466883507000.0,1466883513000.0,1466883518000.0,1466883523000.0,1466883558000.0,1466883562000.0,1466883566000.0,1466883570000.0,1466883574000.0,1466883578000.0,1466883582000.0,1466883587000.0,1466883592000.0,1466883598000.0,1466883605000.0,1466883612000.0,1466883620000.0,1466883630000.0,1466883642000.0,1466883650000.0,1466883659000.0,1466883667000.0,1466883676000.0,1466883684000.0,1466883692000.0,1466883700000.0,1466883709000.0,1466883719000.0,1466883728000.0,1466883736000.0,1466883743000.0,1466883753000.0,1466883763000.0,1466883772000.0,1466883781000.0,1466883789000.0,1466883799000.0,1466883807000.0,1466883817000.0,1466883828000.0,1466883836000.0,1466883844000.0,1466883852000.0,1466883861000.0,1466883871000.0,1466883879000.0,1466883888000.0,1466883897000.0,1466883904000.0,1466883915000.0,1466883941000.0],\"y\":[327.0,326.7,326.5,326.3,325.9,325.5,325.0,324.5,323.9,323.2,322.7,322.3,321.8,321.4,320.9,320.5,320.2,319.8,319.5,319.1,318.9,318.7,318.5,318.4,318.2,318.0,318.0,318.0,318.0,318.0,317.3,316.5,315.8,315.1,314.4,313.6,312.9,312.2,311.5,310.7,310.0,309.4,308.7,308.1,307.5,306.8,306.2,305.5,304.9,304.0,303.1,302.2,301.9,301.6,301.4,301.0,300.6,300.3,299.7,299.2,298.9,298.6,298.4,298.1,297.8,297.5,297.1,296.6,296.2,295.9,295.6,295.3,294.9,294.5,294.2,293.8,293.5,293.4,293.3,293.2,293.1,293.0,292.9,292.5,292.2,291.8,291.5,291.1,290.7,290.4,290.0,289.6,289.4,289.2,289.3,289.4,289.5,289.5,289.6,289.7,289.6,289.5,289.5,289.3,289.1,288.9,288.7,288.5,288.3,288.0,287.7,287.6,287.5,287.5,287.4,287.3,286.9,286.5,286.2,285.7,285.3,284.8,284.4,283.9,283.5,283.0,282.5,282.4,282.2,282.0,282.0,282.0,282.0,281.8,281.6,281.5,281.2,280.9,280.5,280.2,279.8,279.5,279.1,278.7,278.5,278.2,277.9,277.7,277.5,277.5,277.4,277.3,277.0,276.7,276.5,276.3,276.1,275.9,275.7,275.5,275.4,275.2,275.0,275.0,275.0,275.0,275.0,275.2,275.4,275.5,275.7,275.9,276.1,276.3,276.5,276.6,276.8,277.2,277.4,277.5,277.7,277.9,278.1,278.3,278.5,278.6,279.0,279.4,279.5,279.7,279.9,280.1,280.3,280.5,280.6,280.8,281.1,281.4,281.6,281.9,282.2,282.5,282.7,283.0,283.3,283.7,284.5,285.1,285.5,286.0,286.5,286.9,287.4,287.8,288.7,289.6,290.4,290.8,291.6,292.5,293.3,294.1,294.9,295.9,296.9,297.5,298.0,298.5,299.1,299.5,299.8,300.4,300.9,301.5,301.8,302.2,302.5,302.9,303.3,303.6,303.8,304.0,304.0,304.0,304.3,304.5,304.8,305.1,305.4,305.6,305.9,306.2,306.5,306.7,307.0,307.0,307.4,307.7,308.1,308.5,309.0,309.5,309.9,310.4,310.8,311.3,311.7,311.8,311.9,312.0,312.0,312.0,312.3,312.5,312.8,313.1,313.4,313.8,314.3,314.7,315.2,315.6,316.1,316.3,316.6,317.0,317.4,318.2,318.8,319.5,320.1,320.9,321.7,322.5,323.4,324.0,324.6,325.3,325.6,326.0,326.7,327.5,328.0,328.5,329.1,329.6,330.5,331.3,332.1,332.7,333.4,333.6,333.6,333.6,333.6,333.6,333.6,333.4,332.9,332.5,332.0,331.5,331.1,330.9,330.5,330.2,329.8,329.5,329.1,328.9,328.7,328.5,328.4,328.2,328.0,328.0,328.0,328.0,328.0,328.0,328.1,328.2,328.3,328.4,328.5,328.5,328.6,328.7,328.8,328.9,329.0,328.9,328.8,328.7,328.6,328.5,328.5,328.4,328.3,328.2,328.1,328.0,328.0,328.0,328.0,328.0,328.0,328.0,328.0,328.0,328.0,327.7,327.5,327.2,326.9,326.6,326.4,325.9,325.5,325.0,324.5,324.1,323.9,323.2,322.5,321.7,321.0,321.2,321.5,321.4,321.2,321.0,320.8,320.6,321.0,320.6,320.3,319.9,318.6,317.4,316.0,314.6,313.3,311.9,310.5,309.2,308.5,307.7,307.0,306.3,305.5,305.4,305.2,305.0,304.8,304.6,304.5,304.5,304.5,304.5,304.5,304.5,304.6,304.8,305.0,305.2,305.4,305.5,305.8,306.1,306.4,306.6,306.9,307.2,307.5,307.7,308.0,308.3,308.5,308.9,309.3,309.6,310.0,310.4,310.8,311.3,311.7,312.2,312.6,313.1,313.5,313.8,314.2,314.0,314.4,314.7,315.1,315.5,315.8,316.2,316.5,316.7,316.9,317.1,317.8,318.0,318.0,318.0,318.0,318.0,318.0,318.0,318.0,318.2,318.4,318.5,318.7,318.9,319.1,319.5,319.8,320.2,320.5,320.9,321.4,321.8,322.3,322.7,323.2,323.6,324.2,324.7,325.3,325.8,326.2,326.3,326.5,326.7,327.0]}},\"id\":\"caf3f700-54ea-450f-9feb-0e3f3e42a9e8\",\"type\":\"ColumnDataSource\"},{\"attributes\":{\"background_fill_color\":{\"value\":\"#E8DDCB\"},\"below\":[{\"id\":\"9aba3f96-5142-4849-9f05-28a5d0be9b6b\",\"type\":\"DatetimeAxis\"}],\"left\":[{\"id\":\"fef7c37c-3d64-4363-85f0-3742c85216e6\",\"type\":\"LinearAxis\"}],\"renderers\":[{\"id\":\"9aba3f96-5142-4849-9f05-28a5d0be9b6b\",\"type\":\"DatetimeAxis\"},{\"id\":\"4b28882f-a29b-49d1-8f9c-450ea4aa7b0a\",\"type\":\"Grid\"},{\"id\":\"fef7c37c-3d64-4363-85f0-3742c85216e6\",\"type\":\"LinearAxis\"},{\"id\":\"4eb5d7a9-8613-465e-86f1-9972192260e6\",\"type\":\"Grid\"},{\"id\":\"5316dccd-9827-40f7-a3da-f53623089dba\",\"type\":\"BoxAnnotation\"},{\"id\":\"3f161b64-43c6-4831-8203-082c3bc97644\",\"type\":\"GlyphRenderer\"}],\"title\":\"Elevation from last night run\",\"tool_events\":{\"id\":\"d491037d-8871-44f8-b96a-2dfe98f01437\",\"type\":\"ToolEvents\"},\"tools\":[{\"id\":\"f8eed474-42a1-4496-b560-2749e15a23ee\",\"type\":\"PanTool\"},{\"id\":\"57581b32-76d8-4a68-846f-66d55a42efa7\",\"type\":\"WheelZoomTool\"},{\"id\":\"3c7da2a0-14ee-4555-8fab-86947a5a7ef3\",\"type\":\"BoxZoomTool\"},{\"id\":\"35a37bf5-722c-4572-805e-5ee04cf2ad23\",\"type\":\"PreviewSaveTool\"},{\"id\":\"387ae7b2-e9fc-4c77-a3d8-a1549b54d6dc\",\"type\":\"ResizeTool\"},{\"id\":\"9fbccf3e-494f-4f39-acc7-fa0886869cae\",\"type\":\"ResetTool\"},{\"id\":\"a4cbdf63-22ce-4af7-b066-2012508b3609\",\"type\":\"HelpTool\"}],\"x_range\":{\"id\":\"b2e414df-935c-4a49-afe2-cb1c6e60218b\",\"type\":\"DataRange1d\"},\"y_range\":{\"id\":\"3b936054-9e81-4597-9d7b-581e5a906a1d\",\"type\":\"DataRange1d\"}},\"id\":\"a18e9477-e8f6-4137-aa2c-ada6a022b684\",\"subtype\":\"Figure\",\"type\":\"Plot\"},{\"attributes\":{\"fill_color\":{\"value\":\"#1f77b4\"},\"line_color\":{\"value\":\"#1f77b4\"},\"x\":{\"field\":\"x\"},\"y\":{\"field\":\"y\"}},\"id\":\"7f27e8a4-c15b-4439-9110-22b41798b411\",\"type\":\"Circle\"},{\"attributes\":{\"plot\":{\"id\":\"8a0e04f0-1b56-4383-93da-73ef9933ab80\",\"subtype\":\"Figure\",\"type\":\"Plot\"}},\"id\":\"9abf5aec-48a3-4457-8ca2-8509aa98c4eb\",\"type\":\"ResetTool\"},{\"attributes\":{\"days\":[1,2,3,4,5,6,7,8,9,10,11,12,13,14,15,16,17,18,19,20,21,22,23,24,25,26,27,28,29,30,31]},\"id\":\"83187b6e-70f3-47d1-856b-f1db6678d12d\",\"type\":\"DaysTicker\"},{\"attributes\":{},\"id\":\"1748be20-155c-46a9-ad88-511931b35cdd\",\"type\":\"BasicTicker\"},{\"attributes\":{\"days\":[1,15]},\"id\":\"bf311781-60b9-4636-87fa-29cc5e000fc7\",\"type\":\"DaysTicker\"},{\"attributes\":{},\"id\":\"9ef15a0d-8af0-4391-b741-ba2087f9fdb9\",\"type\":\"BasicTickFormatter\"},{\"attributes\":{\"days\":[1,4,7,10,13,16,19,22,25,28]},\"id\":\"711df738-bc0c-4b3c-8fcc-252800cc3e82\",\"type\":\"DaysTicker\"},{\"attributes\":{\"plot\":{\"id\":\"b384f6de-66b0-4414-bf2f-aa03220674cf\",\"subtype\":\"Figure\",\"type\":\"Plot\"},\"ticker\":{\"id\":\"2a12ff26-cb06-4622-a31d-daac2e9146ed\",\"type\":\"DatetimeTicker\"}},\"id\":\"3c2915da-efcd-4ee3-924d-6bc901a467ac\",\"type\":\"Grid\"},{\"attributes\":{},\"id\":\"e0f6bd0c-a2ca-4a7a-b2ab-279a36bffc2b\",\"type\":\"DatetimeTickFormatter\"},{\"attributes\":{\"days\":[1,15]},\"id\":\"93f2e69f-2e2f-4d9c-afeb-69aa3ee6c09c\",\"type\":\"DaysTicker\"},{\"attributes\":{\"days\":[1,4,7,10,13,16,19,22,25,28]},\"id\":\"128f03fa-89b9-44b7-af52-387fb6c0fcc5\",\"type\":\"DaysTicker\"},{\"attributes\":{},\"id\":\"6986de8a-a940-45c7-9b76-d3ed3fe4d69f\",\"type\":\"ToolEvents\"},{\"attributes\":{\"plot\":{\"id\":\"a18e9477-e8f6-4137-aa2c-ada6a022b684\",\"subtype\":\"Figure\",\"type\":\"Plot\"}},\"id\":\"387ae7b2-e9fc-4c77-a3d8-a1549b54d6dc\",\"type\":\"ResizeTool\"},{\"attributes\":{\"num_minor_ticks\":5},\"id\":\"aa3f6f9c-054a-45d6-aae2-4900ed14b4b4\",\"type\":\"DatetimeTicker\"},{\"attributes\":{\"callback\":null},\"id\":\"3f0408dd-c39c-41cc-8da4-2f4efbbfeb7f\",\"type\":\"DataRange1d\"},{\"attributes\":{\"plot\":{\"id\":\"8a0e04f0-1b56-4383-93da-73ef9933ab80\",\"subtype\":\"Figure\",\"type\":\"Plot\"}},\"id\":\"210f869d-8928-403e-8421-551cbdebaf89\",\"type\":\"PreviewSaveTool\"},{\"attributes\":{\"axis_label\":\"Distance (m)\",\"formatter\":{\"id\":\"d14560dd-8267-4cb3-9b2f-dcc5468b405d\",\"type\":\"BasicTickFormatter\"},\"plot\":{\"id\":\"8a0e04f0-1b56-4383-93da-73ef9933ab80\",\"subtype\":\"Figure\",\"type\":\"Plot\"},\"ticker\":{\"id\":\"1748be20-155c-46a9-ad88-511931b35cdd\",\"type\":\"BasicTicker\"}},\"id\":\"daf6d410-6601-4dca-a3f7-5ccfceea230c\",\"type\":\"LinearAxis\"},{\"attributes\":{\"plot\":{\"id\":\"8a0e04f0-1b56-4383-93da-73ef9933ab80\",\"subtype\":\"Figure\",\"type\":\"Plot\"}},\"id\":\"252b9006-959b-432b-8d5f-9ee05eb2ac5c\",\"type\":\"HelpTool\"},{\"attributes\":{\"months\":[0,6]},\"id\":\"b6c00da2-8eff-4c3e-a67f-4f2667291152\",\"type\":\"MonthsTicker\"},{\"attributes\":{\"days\":[1,8,15,22]},\"id\":\"62630275-92c1-4272-8178-b9e115b6eafa\",\"type\":\"DaysTicker\"},{\"attributes\":{\"plot\":{\"id\":\"b384f6de-66b0-4414-bf2f-aa03220674cf\",\"subtype\":\"Figure\",\"type\":\"Plot\"}},\"id\":\"85584e83-cf91-4d6e-935f-6dc4aaeec3d9\",\"type\":\"WheelZoomTool\"},{\"attributes\":{},\"id\":\"1ca5026e-c14f-41a7-80db-66c8948c1948\",\"type\":\"DatetimeTickFormatter\"},{\"attributes\":{\"bottom_units\":\"screen\",\"fill_alpha\":{\"value\":0.5},\"fill_color\":{\"value\":\"lightgrey\"},\"left_units\":\"screen\",\"level\":\"overlay\",\"line_alpha\":{\"value\":1.0},\"line_color\":{\"value\":\"black\"},\"line_dash\":[4,4],\"line_width\":{\"value\":2},\"plot\":null,\"render_mode\":\"css\",\"right_units\":\"screen\",\"top_units\":\"screen\"},\"id\":\"8203170b-b7ec-4153-a961-541137bf1c24\",\"type\":\"BoxAnnotation\"},{\"attributes\":{\"plot\":{\"id\":\"a18e9477-e8f6-4137-aa2c-ada6a022b684\",\"subtype\":\"Figure\",\"type\":\"Plot\"},\"ticker\":{\"id\":\"ea29c826-67c5-42a1-ba0c-b532b95f265d\",\"type\":\"DatetimeTicker\"}},\"id\":\"4b28882f-a29b-49d1-8f9c-450ea4aa7b0a\",\"type\":\"Grid\"},{\"attributes\":{\"plot\":{\"id\":\"b384f6de-66b0-4414-bf2f-aa03220674cf\",\"subtype\":\"Figure\",\"type\":\"Plot\"}},\"id\":\"6ee8127a-41f8-4dd9-b7ae-0de04dcd4dc2\",\"type\":\"PreviewSaveTool\"},{\"attributes\":{\"fill_alpha\":{\"value\":0.1},\"fill_color\":{\"value\":\"#1f77b4\"},\"line_alpha\":{\"value\":0.1},\"line_color\":{\"value\":\"#1f77b4\"},\"x\":{\"field\":\"x\"},\"y\":{\"field\":\"y\"}},\"id\":\"00b77ae4-9500-427b-9e65-6b5e56b439b0\",\"type\":\"Circle\"},{\"attributes\":{\"background_fill_color\":{\"value\":\"#E8DDCB\"},\"below\":[{\"id\":\"0c3acbed-9231-4a6e-88ed-cce968f25906\",\"type\":\"DatetimeAxis\"}],\"left\":[{\"id\":\"daf6d410-6601-4dca-a3f7-5ccfceea230c\",\"type\":\"LinearAxis\"}],\"renderers\":[{\"id\":\"0c3acbed-9231-4a6e-88ed-cce968f25906\",\"type\":\"DatetimeAxis\"},{\"id\":\"3f50426a-7d1d-46b2-af4b-8b88300961d7\",\"type\":\"Grid\"},{\"id\":\"daf6d410-6601-4dca-a3f7-5ccfceea230c\",\"type\":\"LinearAxis\"},{\"id\":\"00479e65-1bd5-45de-a0f9-7b415cf0a9f5\",\"type\":\"Grid\"},{\"id\":\"8203170b-b7ec-4153-a961-541137bf1c24\",\"type\":\"BoxAnnotation\"},{\"id\":\"7ed455a3-8176-426d-9470-5ce4caa1dbd8\",\"type\":\"GlyphRenderer\"}],\"title\":\"Distances run over time\",\"tool_events\":{\"id\":\"66645fc9-6d12-4ea6-bd7b-102a8c30329f\",\"type\":\"ToolEvents\"},\"tools\":[{\"id\":\"30a4adad-032b-4863-9020-ca860f253656\",\"type\":\"PanTool\"},{\"id\":\"a7173f36-8a8d-41f8-b8e7-3cae5c4c32c6\",\"type\":\"WheelZoomTool\"},{\"id\":\"88e7a141-62a2-478c-90f7-62a57994e55a\",\"type\":\"BoxZoomTool\"},{\"id\":\"210f869d-8928-403e-8421-551cbdebaf89\",\"type\":\"PreviewSaveTool\"},{\"id\":\"4e310650-8472-4f52-aa49-ff3ab59c0fe4\",\"type\":\"ResizeTool\"},{\"id\":\"9abf5aec-48a3-4457-8ca2-8509aa98c4eb\",\"type\":\"ResetTool\"},{\"id\":\"252b9006-959b-432b-8d5f-9ee05eb2ac5c\",\"type\":\"HelpTool\"}],\"x_range\":{\"id\":\"8b611378-6865-41ff-a185-32b7ec696c25\",\"type\":\"DataRange1d\"},\"y_range\":{\"id\":\"3f0408dd-c39c-41cc-8da4-2f4efbbfeb7f\",\"type\":\"DataRange1d\"}},\"id\":\"8a0e04f0-1b56-4383-93da-73ef9933ab80\",\"subtype\":\"Figure\",\"type\":\"Plot\"},{\"attributes\":{\"overlay\":{\"id\":\"5316dccd-9827-40f7-a3da-f53623089dba\",\"type\":\"BoxAnnotation\"},\"plot\":{\"id\":\"a18e9477-e8f6-4137-aa2c-ada6a022b684\",\"subtype\":\"Figure\",\"type\":\"Plot\"}},\"id\":\"3c7da2a0-14ee-4555-8fab-86947a5a7ef3\",\"type\":\"BoxZoomTool\"},{\"attributes\":{\"months\":[0,2,4,6,8,10]},\"id\":\"5fc86986-57cd-48c3-9d9e-ea2ea01e4875\",\"type\":\"MonthsTicker\"},{\"attributes\":{\"plot\":{\"id\":\"a18e9477-e8f6-4137-aa2c-ada6a022b684\",\"subtype\":\"Figure\",\"type\":\"Plot\"}},\"id\":\"a4cbdf63-22ce-4af7-b066-2012508b3609\",\"type\":\"HelpTool\"},{\"attributes\":{\"data_source\":{\"id\":\"506e0acc-e412-4ced-8a83-b7181bd8ddbe\",\"type\":\"ColumnDataSource\"},\"glyph\":{\"id\":\"7f27e8a4-c15b-4439-9110-22b41798b411\",\"type\":\"Circle\"},\"hover_glyph\":null,\"nonselection_glyph\":{\"id\":\"00b77ae4-9500-427b-9e65-6b5e56b439b0\",\"type\":\"Circle\"},\"selection_glyph\":null},\"id\":\"7ed455a3-8176-426d-9470-5ce4caa1dbd8\",\"type\":\"GlyphRenderer\"},{\"attributes\":{\"callback\":null},\"id\":\"b2e414df-935c-4a49-afe2-cb1c6e60218b\",\"type\":\"DataRange1d\"},{\"attributes\":{\"background_fill_color\":{\"value\":\"#E8DDCB\"},\"below\":[{\"id\":\"2f703c0f-1eab-492a-b2f1-c5226dddf016\",\"type\":\"DatetimeAxis\"}],\"left\":[{\"id\":\"66312df7-ca9d-46c1-93ea-017863b0f1de\",\"type\":\"LinearAxis\"}],\"renderers\":[{\"id\":\"2f703c0f-1eab-492a-b2f1-c5226dddf016\",\"type\":\"DatetimeAxis\"},{\"id\":\"3c2915da-efcd-4ee3-924d-6bc901a467ac\",\"type\":\"Grid\"},{\"id\":\"66312df7-ca9d-46c1-93ea-017863b0f1de\",\"type\":\"LinearAxis\"},{\"id\":\"b1c71894-32c1-4e39-bed5-aab9b15cb6a2\",\"type\":\"Grid\"},{\"id\":\"e79af1fc-d423-4ee8-a6e7-53a328de099a\",\"type\":\"BoxAnnotation\"},{\"id\":\"dbc21d50-ee69-4d59-b99a-319367ac9c15\",\"type\":\"GlyphRenderer\"}],\"title\":\"Speeds over time\",\"tool_events\":{\"id\":\"6986de8a-a940-45c7-9b76-d3ed3fe4d69f\",\"type\":\"ToolEvents\"},\"tools\":[{\"id\":\"2569c697-c25d-4c8b-920f-7abf33f21657\",\"type\":\"PanTool\"},{\"id\":\"85584e83-cf91-4d6e-935f-6dc4aaeec3d9\",\"type\":\"WheelZoomTool\"},{\"id\":\"ade454d6-b221-41cb-be64-fdfc81769833\",\"type\":\"BoxZoomTool\"},{\"id\":\"6ee8127a-41f8-4dd9-b7ae-0de04dcd4dc2\",\"type\":\"PreviewSaveTool\"},{\"id\":\"8c5f9d93-a561-4da1-9488-c399f4b51b00\",\"type\":\"ResizeTool\"},{\"id\":\"ef2359c7-61d2-4802-9ec8-c4270fb0eb5e\",\"type\":\"ResetTool\"},{\"id\":\"6c832edb-c5e8-496a-bdd5-9c20f12bdf13\",\"type\":\"HelpTool\"}],\"x_range\":{\"id\":\"580ad038-6b70-4930-aef9-70dabac4f71f\",\"type\":\"DataRange1d\"},\"y_range\":{\"id\":\"c57ba96d-108a-4d2f-9241-22e993b1d002\",\"type\":\"DataRange1d\"}},\"id\":\"b384f6de-66b0-4414-bf2f-aa03220674cf\",\"subtype\":\"Figure\",\"type\":\"Plot\"},{\"attributes\":{\"callback\":null},\"id\":\"3b936054-9e81-4597-9d7b-581e5a906a1d\",\"type\":\"DataRange1d\"},{\"attributes\":{\"months\":[0,1,2,3,4,5,6,7,8,9,10,11]},\"id\":\"a9e463bf-e838-4c7d-9984-bb3d56281b81\",\"type\":\"MonthsTicker\"},{\"attributes\":{\"plot\":{\"id\":\"b384f6de-66b0-4414-bf2f-aa03220674cf\",\"subtype\":\"Figure\",\"type\":\"Plot\"}},\"id\":\"ef2359c7-61d2-4802-9ec8-c4270fb0eb5e\",\"type\":\"ResetTool\"},{\"attributes\":{\"axis_label\":\"Time\",\"formatter\":{\"id\":\"b85035e3-2e88-4a66-8084-a6931d900062\",\"type\":\"DatetimeTickFormatter\"},\"plot\":{\"id\":\"a18e9477-e8f6-4137-aa2c-ada6a022b684\",\"subtype\":\"Figure\",\"type\":\"Plot\"},\"ticker\":{\"id\":\"ea29c826-67c5-42a1-ba0c-b532b95f265d\",\"type\":\"DatetimeTicker\"}},\"id\":\"9aba3f96-5142-4849-9f05-28a5d0be9b6b\",\"type\":\"DatetimeAxis\"},{\"attributes\":{},\"id\":\"d491037d-8871-44f8-b96a-2dfe98f01437\",\"type\":\"ToolEvents\"},{\"attributes\":{\"months\":[0,6]},\"id\":\"be69df01-3c9e-4faf-a534-8ff0a17af47f\",\"type\":\"MonthsTicker\"},{\"attributes\":{\"plot\":{\"id\":\"a18e9477-e8f6-4137-aa2c-ada6a022b684\",\"subtype\":\"Figure\",\"type\":\"Plot\"}},\"id\":\"f8eed474-42a1-4496-b560-2749e15a23ee\",\"type\":\"PanTool\"},{\"attributes\":{\"days\":[1,2,3,4,5,6,7,8,9,10,11,12,13,14,15,16,17,18,19,20,21,22,23,24,25,26,27,28,29,30,31]},\"id\":\"c3dde349-0aa7-41bd-822d-fe384fd65f35\",\"type\":\"DaysTicker\"},{\"attributes\":{\"days\":[1,15]},\"id\":\"777b2355-08e8-469a-b7a1-d30db515d7b9\",\"type\":\"DaysTicker\"},{\"attributes\":{\"plot\":{\"id\":\"b384f6de-66b0-4414-bf2f-aa03220674cf\",\"subtype\":\"Figure\",\"type\":\"Plot\"}},\"id\":\"6c832edb-c5e8-496a-bdd5-9c20f12bdf13\",\"type\":\"HelpTool\"},{\"attributes\":{\"dimension\":1,\"plot\":{\"id\":\"b384f6de-66b0-4414-bf2f-aa03220674cf\",\"subtype\":\"Figure\",\"type\":\"Plot\"},\"ticker\":{\"id\":\"6c802030-9a1e-4fff-bf04-fc1db4fea06a\",\"type\":\"BasicTicker\"}},\"id\":\"b1c71894-32c1-4e39-bed5-aab9b15cb6a2\",\"type\":\"Grid\"},{\"attributes\":{\"fill_color\":{\"value\":\"#1f77b4\"},\"line_color\":{\"value\":\"#1f77b4\"},\"x\":{\"field\":\"x\"},\"y\":{\"field\":\"y\"}},\"id\":\"0dc0726b-406c-4299-b74e-bd4cc2fa6053\",\"type\":\"Circle\"},{\"attributes\":{\"max_interval\":500.0,\"num_minor_ticks\":0},\"id\":\"72403e28-d0af-430c-af5b-2e27b1934dc3\",\"type\":\"AdaptiveTicker\"},{\"attributes\":{\"callback\":null,\"column_names\":[\"x\",\"y\"],\"data\":{\"x\":[1465328243000.0,1428148529000.0,1463844198000.0,1415554211000.0,1414697951000.0,1434131854000.0,1425920018000.0,1439056606000.0,1438106993000.0,1410246399000.0,1410099387000.0,1436643161000.0,1462128356000.0,1466880893000.0,1443172413000.0,1424372257000.0,1464635172000.0,1438457322000.0,1420981616000.0,1412445070000.0,1431286224000.0,1465587240000.0,1444075724000.0,1428233258000.0,1425674543000.0,1426191183000.0,1426607916000.0,1459889614000.0,1422467747000.0,1465060160000.0,1418056433000.0,1466349240000.0,1420741859000.0,1440791953000.0,1421776526000.0,1411542030000.0,1446030451000.0,1411201027000.0,1436301721000.0,1430762639000.0,1410547403000.0,1422038969000.0],\"y\":[5869.758041685876,2050.294537996982,5673.724969564729,5493.705520609242,5936.597828117186,4466.736025644979,8747.538975053558,7583.492622425234,4482.126354346572,1256.0139437106257,1465.8603370305834,5980.435447792143,5678.105548248082,5641.157399618419,1848.3031448360637,2102.6866123651434,4686.257052728707,9468.497064399835,4437.458852924772,5637.941600178236,5976.531944856669,10040.460857166941,9377.080509775602,4927.336038861122,12543.342213664968,9053.550749702497,9066.96676016255,9355.976346881262,6733.926622101581,5690.823548807764,3787.3912574156557,8943.501144715288,10096.597395845707,12190.74237889001,8190.534493570851,5721.8997620119135,7650.115555373454,2732.913143192231,4069.3537789534007,4580.658855378932,7770.535908053509,13061.254042482593]}},\"id\":\"506e0acc-e412-4ced-8a83-b7181bd8ddbe\",\"type\":\"ColumnDataSource\"},{\"attributes\":{\"months\":[0,2,4,6,8,10]},\"id\":\"6dc7634e-831c-4106-9e6a-4358ddfe8dbf\",\"type\":\"MonthsTicker\"},{\"attributes\":{\"plot\":{\"id\":\"a18e9477-e8f6-4137-aa2c-ada6a022b684\",\"subtype\":\"Figure\",\"type\":\"Plot\"}},\"id\":\"35a37bf5-722c-4572-805e-5ee04cf2ad23\",\"type\":\"PreviewSaveTool\"}],\"root_ids\":[\"a18e9477-e8f6-4137-aa2c-ada6a022b684\",\"8a0e04f0-1b56-4383-93da-73ef9933ab80\",\"b384f6de-66b0-4414-bf2f-aa03220674cf\"]},\"title\":\"Bokeh Application\",\"version\":\"0.11.1\"}};\n",
       "            var render_items = [{\"docid\":\"f7957a41-91a7-46ad-a336-2b5c3f658c1c\",\"elementid\":\"028acd05-e067-43e4-a69f-86561c46bf18\",\"modelid\":\"b384f6de-66b0-4414-bf2f-aa03220674cf\",\"notebook_comms_target\":\"a432e692-91e4-49e1-8a93-8f604e8deb0b\"}];\n",
       "            \n",
       "            Bokeh.embed.embed_items(docs_json, render_items);\n",
       "        });\n",
       "      },\n",
       "      function(Bokeh) {\n",
       "      }\n",
       "    ];\n",
       "  \n",
       "    function run_inline_js() {\n",
       "      for (var i = 0; i < inline_js.length; i++) {\n",
       "        inline_js[i](window.Bokeh);\n",
       "      }\n",
       "    }\n",
       "  \n",
       "    if (window._bokeh_is_loading === 0) {\n",
       "      console.log(\"Bokeh: BokehJS loaded, going straight to plotting\");\n",
       "      run_inline_js();\n",
       "    } else {\n",
       "      load_libs(js_urls, function() {\n",
       "        console.log(\"Bokeh: BokehJS plotting callback run at\", now());\n",
       "        run_inline_js();\n",
       "      });\n",
       "    }\n",
       "  }(this));\n",
       "</script>"
      ]
     },
     "metadata": {},
     "output_type": "display_data"
    },
    {
     "data": {
      "text/html": [
       "<p><code>&lt;Bokeh Notebook handle for <strong>In[19]</strong>&gt;</code></p>"
      ],
      "text/plain": [
       "<bokeh.io._CommsHandle at 0x7f3d2372d240>"
      ]
     },
     "execution_count": 19,
     "metadata": {},
     "output_type": "execute_result"
    }
   ],
   "source": [
    "speeds = [r.speed_kmph for r in all_runs]\n",
    "times = [r.start for r in all_runs]\n",
    "\n",
    "p = figure(\n",
    "    title=\"Speeds over time\", \n",
    "    background_fill_color=\"#E8DDCB\",\n",
    "    y_axis_label='Speed (km/h)', \n",
    "    x_axis_label='Time',\n",
    "    x_axis_type=\"datetime\"\n",
    ")\n",
    "\n",
    "p.circle(times, speeds)\n",
    "show(p)"
   ]
  },
  {
   "cell_type": "code",
   "execution_count": 20,
   "metadata": {
    "collapsed": false
   },
   "outputs": [
    {
     "data": {
      "text/html": [
       "\n",
       "\n",
       "    <div class=\"plotdiv\" id=\"5287dea9-864a-4747-9b97-933def67d0e4\"></div>\n",
       "<script type=\"text/javascript\">\n",
       "  \n",
       "  (function(global) {\n",
       "    function now() {\n",
       "      return new Date();\n",
       "    }\n",
       "  \n",
       "    if (typeof (window._bokeh_onload_callbacks) === \"undefined\") {\n",
       "      window._bokeh_onload_callbacks = [];\n",
       "    }\n",
       "  \n",
       "    function run_callbacks() {\n",
       "      window._bokeh_onload_callbacks.forEach(function(callback) { callback() });\n",
       "      delete window._bokeh_onload_callbacks\n",
       "      console.info(\"Bokeh: all callbacks have finished\");\n",
       "    }\n",
       "  \n",
       "    function load_libs(js_urls, callback) {\n",
       "      window._bokeh_onload_callbacks.push(callback);\n",
       "      if (window._bokeh_is_loading > 0) {\n",
       "        console.log(\"Bokeh: BokehJS is being loaded, scheduling callback at\", now());\n",
       "        return null;\n",
       "      }\n",
       "      if (js_urls == null || js_urls.length === 0) {\n",
       "        run_callbacks();\n",
       "        return null;\n",
       "      }\n",
       "      console.log(\"Bokeh: BokehJS not loaded, scheduling load and callback at\", now());\n",
       "      window._bokeh_is_loading = js_urls.length;\n",
       "      for (var i = 0; i < js_urls.length; i++) {\n",
       "        var url = js_urls[i];\n",
       "        var s = document.createElement('script');\n",
       "        s.src = url;\n",
       "        s.async = false;\n",
       "        s.onreadystatechange = s.onload = function() {\n",
       "          window._bokeh_is_loading--;\n",
       "          if (window._bokeh_is_loading === 0) {\n",
       "            console.log(\"Bokeh: all BokehJS libraries loaded\");\n",
       "            run_callbacks()\n",
       "          }\n",
       "        };\n",
       "        s.onerror = function() {\n",
       "          console.warn(\"failed to load library \" + url);\n",
       "        };\n",
       "        console.log(\"Bokeh: injecting script tag for BokehJS library: \", url);\n",
       "        document.getElementsByTagName(\"head\")[0].appendChild(s);\n",
       "      }\n",
       "    };var element = document.getElementById(\"5287dea9-864a-4747-9b97-933def67d0e4\");\n",
       "    if (element == null) {\n",
       "      console.log(\"Bokeh: ERROR: autoload.js configured with elementid '5287dea9-864a-4747-9b97-933def67d0e4' but no matching script tag was found. \")\n",
       "      return false;\n",
       "    }\n",
       "  \n",
       "    var js_urls = [];\n",
       "  \n",
       "    var inline_js = [\n",
       "      function(Bokeh) {\n",
       "        Bokeh.$(function() {\n",
       "            var docs_json = {\"01a591d9-b194-427e-80cc-3d8457d9fb90\":{\"roots\":{\"references\":[{\"attributes\":{\"plot\":{\"id\":\"a18e9477-e8f6-4137-aa2c-ada6a022b684\",\"subtype\":\"Figure\",\"type\":\"Plot\"}},\"id\":\"57581b32-76d8-4a68-846f-66d55a42efa7\",\"type\":\"WheelZoomTool\"},{\"attributes\":{\"callback\":null,\"column_names\":[\"x\",\"y\"],\"data\":{\"x\":[1465328243000.0,1428148529000.0,1463844198000.0,1415554211000.0,1414697951000.0,1434131854000.0,1425920018000.0,1439056606000.0,1438106993000.0,1410246399000.0,1410099387000.0,1436643161000.0,1462128356000.0,1466880893000.0,1443172413000.0,1424372257000.0,1464635172000.0,1438457322000.0,1420981616000.0,1412445070000.0,1431286224000.0,1465587240000.0,1444075724000.0,1428233258000.0,1425674543000.0,1426191183000.0,1426607916000.0,1459889614000.0,1422467747000.0,1465060160000.0,1418056433000.0,1466349240000.0,1420741859000.0,1440791953000.0,1421776526000.0,1411542030000.0,1446030451000.0,1411201027000.0,1436301721000.0,1430762639000.0,1410547403000.0,1422038969000.0],\"y\":[7.530694565242037,6.6316804463514245,6.500766992499371,5.903683544535305,5.543904586568578,6.9162364268051295,6.717393410877305,7.021752428171513,6.667625981672587,7.988781267417407,6.688336138542586,7.527820843374726,8.329739190583984,6.662784330257975,4.598404506848535,8.174591581549155,7.367041654944693,7.659907737492002,5.205230326011463,5.934675368608669,5.536673958179106,7.183159595747414,7.389993396495658,6.265775252525623,6.255164422938618,6.989659596596395,7.156562231217974,6.78652324174341,5.9916302124482685,4.180160125629046,6.200367679261646,5.232667661461895,5.17184840993804,6.929839343755573,5.4867741304159034,5.586883412867613,6.232273364866359,7.207683015012478,8.433893842390468,7.401423644238849,6.705160419221628,6.251896629828126]}},\"id\":\"060fb2f8-3917-4999-9ab5-2171ecee761d\",\"type\":\"ColumnDataSource\"},{\"attributes\":{\"num_minor_ticks\":5},\"id\":\"2a12ff26-cb06-4622-a31d-daac2e9146ed\",\"type\":\"DatetimeTicker\"},{\"attributes\":{\"data_source\":{\"id\":\"060fb2f8-3917-4999-9ab5-2171ecee761d\",\"type\":\"ColumnDataSource\"},\"glyph\":{\"id\":\"0dc0726b-406c-4299-b74e-bd4cc2fa6053\",\"type\":\"Circle\"},\"hover_glyph\":null,\"nonselection_glyph\":{\"id\":\"62036fc7-449a-4f73-8349-287c986a6131\",\"type\":\"Circle\"},\"selection_glyph\":null},\"id\":\"dbc21d50-ee69-4d59-b99a-319367ac9c15\",\"type\":\"GlyphRenderer\"},{\"attributes\":{\"overlay\":{\"id\":\"8203170b-b7ec-4153-a961-541137bf1c24\",\"type\":\"BoxAnnotation\"},\"plot\":{\"id\":\"8a0e04f0-1b56-4383-93da-73ef9933ab80\",\"subtype\":\"Figure\",\"type\":\"Plot\"}},\"id\":\"88e7a141-62a2-478c-90f7-62a57994e55a\",\"type\":\"BoxZoomTool\"},{\"attributes\":{\"days\":[1,8,15,22]},\"id\":\"aba14fc6-d550-4d13-9efe-723b33431d47\",\"type\":\"DaysTicker\"},{\"attributes\":{},\"id\":\"2704492d-e351-4705-b287-587d1c71916a\",\"type\":\"BasicTicker\"},{\"attributes\":{\"axis_label\":\"Speed (km/h)\",\"formatter\":{\"id\":\"b026ea67-e1f6-40a7-8d32-2ddf812cc2d9\",\"type\":\"BasicTickFormatter\"},\"plot\":{\"id\":\"b384f6de-66b0-4414-bf2f-aa03220674cf\",\"subtype\":\"Figure\",\"type\":\"Plot\"},\"ticker\":{\"id\":\"6c802030-9a1e-4fff-bf04-fc1db4fea06a\",\"type\":\"BasicTicker\"}},\"id\":\"66312df7-ca9d-46c1-93ea-017863b0f1de\",\"type\":\"LinearAxis\"},{\"attributes\":{\"months\":[0,4,8]},\"id\":\"e6df1674-fec5-4b75-9a93-e2a7ca9f4f0e\",\"type\":\"MonthsTicker\"},{\"attributes\":{\"data_source\":{\"id\":\"caf3f700-54ea-450f-9feb-0e3f3e42a9e8\",\"type\":\"ColumnDataSource\"},\"glyph\":{\"id\":\"a5202e0e-c88e-4dbb-86a5-b9838b3a915d\",\"type\":\"Line\"},\"hover_glyph\":null,\"nonselection_glyph\":{\"id\":\"f9b7d84d-6d9e-4e73-b3b9-d86f4d21fc3f\",\"type\":\"Line\"},\"selection_glyph\":null},\"id\":\"3f161b64-43c6-4831-8203-082c3bc97644\",\"type\":\"GlyphRenderer\"},{\"attributes\":{\"plot\":{\"id\":\"8a0e04f0-1b56-4383-93da-73ef9933ab80\",\"subtype\":\"Figure\",\"type\":\"Plot\"}},\"id\":\"30a4adad-032b-4863-9020-ca860f253656\",\"type\":\"PanTool\"},{\"attributes\":{\"plot\":{\"id\":\"8a0e04f0-1b56-4383-93da-73ef9933ab80\",\"subtype\":\"Figure\",\"type\":\"Plot\"}},\"id\":\"a7173f36-8a8d-41f8-b8e7-3cae5c4c32c6\",\"type\":\"WheelZoomTool\"},{\"attributes\":{\"months\":[0,6]},\"id\":\"be69df01-3c9e-4faf-a534-8ff0a17af47f\",\"type\":\"MonthsTicker\"},{\"attributes\":{},\"id\":\"6c802030-9a1e-4fff-bf04-fc1db4fea06a\",\"type\":\"BasicTicker\"},{\"attributes\":{\"months\":[0,4,8]},\"id\":\"572fbcb2-bcba-474d-b0d6-0110038bf7d3\",\"type\":\"MonthsTicker\"},{\"attributes\":{\"months\":[0,4,8]},\"id\":\"e160b90e-2eac-4634-9c3f-66b52996dee9\",\"type\":\"MonthsTicker\"},{\"attributes\":{\"base\":60,\"mantissas\":[1,2,5,10,15,20,30],\"max_interval\":1800000.0,\"min_interval\":1000.0,\"num_minor_ticks\":0},\"id\":\"d5a9908d-6e58-46c0-8b2c-71cd1a1c54e6\",\"type\":\"AdaptiveTicker\"},{\"attributes\":{\"days\":[1,8,15,22]},\"id\":\"2fdaf689-0767-4f2a-acae-400b42156738\",\"type\":\"DaysTicker\"},{\"attributes\":{\"months\":[0,6]},\"id\":\"d69f1977-0562-4c27-b346-bf64378e0230\",\"type\":\"MonthsTicker\"},{\"attributes\":{\"callback\":null},\"id\":\"c57ba96d-108a-4d2f-9241-22e993b1d002\",\"type\":\"DataRange1d\"},{\"attributes\":{\"line_color\":{\"value\":\"#1f77b4\"},\"x\":{\"field\":\"x\"},\"y\":{\"field\":\"y\"}},\"id\":\"a5202e0e-c88e-4dbb-86a5-b9838b3a915d\",\"type\":\"Line\"},{\"attributes\":{},\"id\":\"66645fc9-6d12-4ea6-bd7b-102a8c30329f\",\"type\":\"ToolEvents\"},{\"attributes\":{\"fill_color\":{\"value\":\"#1f77b4\"},\"line_color\":{\"value\":\"#1f77b4\"},\"x\":{\"field\":\"x\"},\"y\":{\"field\":\"y\"}},\"id\":\"fc78492b-107f-4641-837f-0dcf4cd597b2\",\"type\":\"Circle\"},{\"attributes\":{\"data_source\":{\"id\":\"2b10180e-0e79-48e4-b434-87391b566a8a\",\"type\":\"ColumnDataSource\"},\"glyph\":{\"id\":\"fc78492b-107f-4641-837f-0dcf4cd597b2\",\"type\":\"Circle\"},\"hover_glyph\":null,\"nonselection_glyph\":{\"id\":\"5c5aa67b-3387-4457-9183-8566c3c9f795\",\"type\":\"Circle\"},\"selection_glyph\":null},\"id\":\"ed7092b7-e94a-4849-a377-f833cfcce035\",\"type\":\"GlyphRenderer\"},{\"attributes\":{\"base\":60,\"mantissas\":[1,2,5,10,15,20,30],\"max_interval\":1800000.0,\"min_interval\":1000.0,\"num_minor_ticks\":0},\"id\":\"c9108b81-f547-448e-8d54-b6307aa7ae67\",\"type\":\"AdaptiveTicker\"},{\"attributes\":{\"fill_alpha\":{\"value\":0.1},\"fill_color\":{\"value\":\"#1f77b4\"},\"line_alpha\":{\"value\":0.1},\"line_color\":{\"value\":\"#1f77b4\"},\"x\":{\"field\":\"x\"},\"y\":{\"field\":\"y\"}},\"id\":\"62036fc7-449a-4f73-8349-287c986a6131\",\"type\":\"Circle\"},{\"attributes\":{\"months\":[0,1,2,3,4,5,6,7,8,9,10,11]},\"id\":\"3ae27f82-7d33-4cac-b27d-6ad8da9d88f2\",\"type\":\"MonthsTicker\"},{\"attributes\":{\"line_alpha\":{\"value\":0.1},\"line_color\":{\"value\":\"#1f77b4\"},\"x\":{\"field\":\"x\"},\"y\":{\"field\":\"y\"}},\"id\":\"f9b7d84d-6d9e-4e73-b3b9-d86f4d21fc3f\",\"type\":\"Line\"},{\"attributes\":{},\"id\":\"d14560dd-8267-4cb3-9b2f-dcc5468b405d\",\"type\":\"BasicTickFormatter\"},{\"attributes\":{\"dimension\":1,\"plot\":{\"id\":\"8a0e04f0-1b56-4383-93da-73ef9933ab80\",\"subtype\":\"Figure\",\"type\":\"Plot\"},\"ticker\":{\"id\":\"1748be20-155c-46a9-ad88-511931b35cdd\",\"type\":\"BasicTicker\"}},\"id\":\"00479e65-1bd5-45de-a0f9-7b415cf0a9f5\",\"type\":\"Grid\"},{\"attributes\":{},\"id\":\"8c719ebd-2db1-4148-8343-31b7681f5dfa\",\"type\":\"YearsTicker\"},{\"attributes\":{\"plot\":{\"id\":\"b384f6de-66b0-4414-bf2f-aa03220674cf\",\"subtype\":\"Figure\",\"type\":\"Plot\"}},\"id\":\"2569c697-c25d-4c8b-920f-7abf33f21657\",\"type\":\"PanTool\"},{\"attributes\":{\"plot\":{\"id\":\"a18e9477-e8f6-4137-aa2c-ada6a022b684\",\"subtype\":\"Figure\",\"type\":\"Plot\"}},\"id\":\"35a37bf5-722c-4572-805e-5ee04cf2ad23\",\"type\":\"PreviewSaveTool\"},{\"attributes\":{\"plot\":{\"id\":\"a18e9477-e8f6-4137-aa2c-ada6a022b684\",\"subtype\":\"Figure\",\"type\":\"Plot\"}},\"id\":\"9fbccf3e-494f-4f39-acc7-fa0886869cae\",\"type\":\"ResetTool\"},{\"attributes\":{\"axis_label\":\"Time\",\"formatter\":{\"id\":\"e0f6bd0c-a2ca-4a7a-b2ab-279a36bffc2b\",\"type\":\"DatetimeTickFormatter\"},\"plot\":{\"id\":\"b384f6de-66b0-4414-bf2f-aa03220674cf\",\"subtype\":\"Figure\",\"type\":\"Plot\"},\"ticker\":{\"id\":\"2a12ff26-cb06-4622-a31d-daac2e9146ed\",\"type\":\"DatetimeTicker\"}},\"id\":\"2f703c0f-1eab-492a-b2f1-c5226dddf016\",\"type\":\"DatetimeAxis\"},{\"attributes\":{\"base\":60,\"mantissas\":[1,2,5,10,15,20,30],\"max_interval\":1800000.0,\"min_interval\":1000.0,\"num_minor_ticks\":0},\"id\":\"5db965d2-1d3a-40e2-a8e0-3b2f0d7ef372\",\"type\":\"AdaptiveTicker\"},{\"attributes\":{\"overlay\":{\"id\":\"e79af1fc-d423-4ee8-a6e7-53a328de099a\",\"type\":\"BoxAnnotation\"},\"plot\":{\"id\":\"b384f6de-66b0-4414-bf2f-aa03220674cf\",\"subtype\":\"Figure\",\"type\":\"Plot\"}},\"id\":\"ade454d6-b221-41cb-be64-fdfc81769833\",\"type\":\"BoxZoomTool\"},{\"attributes\":{\"axis_label\":\"Time\",\"formatter\":{\"id\":\"1ca5026e-c14f-41a7-80db-66c8948c1948\",\"type\":\"DatetimeTickFormatter\"},\"plot\":{\"id\":\"8a0e04f0-1b56-4383-93da-73ef9933ab80\",\"subtype\":\"Figure\",\"type\":\"Plot\"},\"ticker\":{\"id\":\"aa3f6f9c-054a-45d6-aae2-4900ed14b4b4\",\"type\":\"DatetimeTicker\"}},\"id\":\"0c3acbed-9231-4a6e-88ed-cce968f25906\",\"type\":\"DatetimeAxis\"},{\"attributes\":{\"plot\":{\"id\":\"b384f6de-66b0-4414-bf2f-aa03220674cf\",\"subtype\":\"Figure\",\"type\":\"Plot\"}},\"id\":\"8c5f9d93-a561-4da1-9488-c399f4b51b00\",\"type\":\"ResizeTool\"},{\"attributes\":{\"max_interval\":500.0,\"num_minor_ticks\":0},\"id\":\"5dddff9b-23d8-4a73-abc2-81bc17d14c98\",\"type\":\"AdaptiveTicker\"},{\"attributes\":{\"axis_label\":\"Elevation (m)\",\"formatter\":{\"id\":\"9ef15a0d-8af0-4391-b741-ba2087f9fdb9\",\"type\":\"BasicTickFormatter\"},\"plot\":{\"id\":\"a18e9477-e8f6-4137-aa2c-ada6a022b684\",\"subtype\":\"Figure\",\"type\":\"Plot\"},\"ticker\":{\"id\":\"7f4659ee-a7c4-479a-923d-635d3276e9ea\",\"type\":\"BasicTicker\"}},\"id\":\"fef7c37c-3d64-4363-85f0-3742c85216e6\",\"type\":\"LinearAxis\"},{\"attributes\":{\"base\":24,\"mantissas\":[1,2,4,6,8,12],\"max_interval\":43200000.0,\"min_interval\":3600000.0,\"num_minor_ticks\":0},\"id\":\"46b684c2-2d5f-4586-8e07-4371790478c5\",\"type\":\"AdaptiveTicker\"},{\"attributes\":{\"days\":[1,2,3,4,5,6,7,8,9,10,11,12,13,14,15,16,17,18,19,20,21,22,23,24,25,26,27,28,29,30,31]},\"id\":\"2a6a46ea-12c2-4467-bac6-bca999f6522d\",\"type\":\"DaysTicker\"},{\"attributes\":{},\"id\":\"7f4659ee-a7c4-479a-923d-635d3276e9ea\",\"type\":\"BasicTicker\"},{\"attributes\":{\"plot\":{\"id\":\"8a0e04f0-1b56-4383-93da-73ef9933ab80\",\"subtype\":\"Figure\",\"type\":\"Plot\"}},\"id\":\"4e310650-8472-4f52-aa49-ff3ab59c0fe4\",\"type\":\"ResizeTool\"},{\"attributes\":{\"num_minor_ticks\":5},\"id\":\"ea29c826-67c5-42a1-ba0c-b532b95f265d\",\"type\":\"DatetimeTicker\"},{\"attributes\":{\"months\":[0,1,2,3,4,5,6,7,8,9,10,11]},\"id\":\"34d76a54-1ebb-4d55-a673-6033fbfa6065\",\"type\":\"MonthsTicker\"},{\"attributes\":{\"months\":[0,2,4,6,8,10]},\"id\":\"737a4f7b-7bbd-4a12-9675-4d4c9fe907e7\",\"type\":\"MonthsTicker\"},{\"attributes\":{},\"id\":\"b026ea67-e1f6-40a7-8d32-2ddf812cc2d9\",\"type\":\"BasicTickFormatter\"},{\"attributes\":{\"callback\":null},\"id\":\"da1751f9-37cf-44fc-b4e4-623ddc10f414\",\"type\":\"DataRange1d\"},{\"attributes\":{\"callback\":null},\"id\":\"8b611378-6865-41ff-a185-32b7ec696c25\",\"type\":\"DataRange1d\"},{\"attributes\":{\"plot\":{\"id\":\"8a0e04f0-1b56-4383-93da-73ef9933ab80\",\"subtype\":\"Figure\",\"type\":\"Plot\"},\"ticker\":{\"id\":\"aa3f6f9c-054a-45d6-aae2-4900ed14b4b4\",\"type\":\"DatetimeTicker\"}},\"id\":\"3f50426a-7d1d-46b2-af4b-8b88300961d7\",\"type\":\"Grid\"},{\"attributes\":{},\"id\":\"8ea63fce-a0ec-4ebd-97f5-05bd07f41c23\",\"type\":\"YearsTicker\"},{\"attributes\":{\"max_interval\":500.0,\"num_minor_ticks\":0},\"id\":\"c430668b-5fe4-43d9-8ee7-2ac8a9be3fcf\",\"type\":\"AdaptiveTicker\"},{\"attributes\":{\"plot\":{\"id\":\"e765d1fd-d4fe-43d6-8881-225e2fd8cb2c\",\"subtype\":\"Figure\",\"type\":\"Plot\"}},\"id\":\"acc72b56-ae3f-4712-9cfe-b7922ada2b19\",\"type\":\"HelpTool\"},{\"attributes\":{},\"id\":\"b85035e3-2e88-4a66-8084-a6931d900062\",\"type\":\"DatetimeTickFormatter\"},{\"attributes\":{\"base\":24,\"mantissas\":[1,2,4,6,8,12],\"max_interval\":43200000.0,\"min_interval\":3600000.0,\"num_minor_ticks\":0},\"id\":\"3e83dbeb-e68c-4dd7-b5d1-9a4f67981f0a\",\"type\":\"AdaptiveTicker\"},{\"attributes\":{\"bottom_units\":\"screen\",\"fill_alpha\":{\"value\":0.5},\"fill_color\":{\"value\":\"lightgrey\"},\"left_units\":\"screen\",\"level\":\"overlay\",\"line_alpha\":{\"value\":1.0},\"line_color\":{\"value\":\"black\"},\"line_dash\":[4,4],\"line_width\":{\"value\":2},\"plot\":null,\"render_mode\":\"css\",\"right_units\":\"screen\",\"top_units\":\"screen\"},\"id\":\"e79af1fc-d423-4ee8-a6e7-53a328de099a\",\"type\":\"BoxAnnotation\"},{\"attributes\":{\"bottom_units\":\"screen\",\"fill_alpha\":{\"value\":0.5},\"fill_color\":{\"value\":\"lightgrey\"},\"left_units\":\"screen\",\"level\":\"overlay\",\"line_alpha\":{\"value\":1.0},\"line_color\":{\"value\":\"black\"},\"line_dash\":[4,4],\"line_width\":{\"value\":2},\"plot\":null,\"render_mode\":\"css\",\"right_units\":\"screen\",\"top_units\":\"screen\"},\"id\":\"5316dccd-9827-40f7-a3da-f53623089dba\",\"type\":\"BoxAnnotation\"},{\"attributes\":{\"callback\":null},\"id\":\"580ad038-6b70-4930-aef9-70dabac4f71f\",\"type\":\"DataRange1d\"},{\"attributes\":{\"dimension\":1,\"plot\":{\"id\":\"a18e9477-e8f6-4137-aa2c-ada6a022b684\",\"subtype\":\"Figure\",\"type\":\"Plot\"},\"ticker\":{\"id\":\"7f4659ee-a7c4-479a-923d-635d3276e9ea\",\"type\":\"BasicTicker\"}},\"id\":\"4eb5d7a9-8613-465e-86f1-9972192260e6\",\"type\":\"Grid\"},{\"attributes\":{\"base\":24,\"mantissas\":[1,2,4,6,8,12],\"max_interval\":43200000.0,\"min_interval\":3600000.0,\"num_minor_ticks\":0},\"id\":\"24d232c7-b0b0-4476-8755-805f2a65ef25\",\"type\":\"AdaptiveTicker\"},{\"attributes\":{},\"id\":\"1c558538-6ea8-48b1-b20f-d767b99986b4\",\"type\":\"YearsTicker\"},{\"attributes\":{\"callback\":null,\"column_names\":[\"x\",\"y\"],\"data\":{\"x\":[1466880893000.0,1466880895000.0,1466880898000.0,1466880911000.0,1466880918000.0,1466880929000.0,1466880933000.0,1466880936000.0,1466880939000.0,1466880942000.0,1466880945000.0,1466880948000.0,1466880951000.0,1466880954000.0,1466880957000.0,1466880960000.0,1466880964000.0,1466880967000.0,1466880970000.0,1466880973000.0,1466880976000.0,1466880980000.0,1466880983000.0,1466880987000.0,1466880991000.0,1466880995000.0,1466880999000.0,1466881003000.0,1466881006000.0,1466881009000.0,1466881012000.0,1466881015000.0,1466881018000.0,1466881021000.0,1466881024000.0,1466881027000.0,1466881031000.0,1466881034000.0,1466881038000.0,1466881071000.0,1466881074000.0,1466881077000.0,1466881080000.0,1466881082000.0,1466881085000.0,1466881088000.0,1466881091000.0,1466881094000.0,1466881097000.0,1466881100000.0,1466881103000.0,1466881106000.0,1466881109000.0,1466881112000.0,1466881116000.0,1466881138000.0,1466881141000.0,1466881144000.0,1466881147000.0,1466881150000.0,1466881153000.0,1466881156000.0,1466881159000.0,1466881162000.0,1466881165000.0,1466881168000.0,1466881171000.0,1466881175000.0,1466881178000.0,1466881181000.0,1466881184000.0,1466881187000.0,1466881190000.0,1466881193000.0,1466881196000.0,1466881200000.0,1466881214000.0,1466881222000.0,1466881226000.0,1466881229000.0,1466881232000.0,1466881235000.0,1466881238000.0,1466881241000.0,1466881244000.0,1466881247000.0,1466881250000.0,1466881253000.0,1466881256000.0,1466881259000.0,1466881262000.0,1466881265000.0,1466881268000.0,1466881271000.0,1466881274000.0,1466881285000.0,1466881301000.0,1466881304000.0,1466881307000.0,1466881309000.0,1466881312000.0,1466881315000.0,1466881318000.0,1466881322000.0,1466881325000.0,1466881328000.0,1466881331000.0,1466881335000.0,1466881350000.0,1466881358000.0,1466881361000.0,1466881364000.0,1466881367000.0,1466881370000.0,1466881373000.0,1466881376000.0,1466881379000.0,1466881383000.0,1466881386000.0,1466881389000.0,1466881392000.0,1466881396000.0,1466881400000.0,1466881403000.0,1466881406000.0,1466881409000.0,1466881412000.0,1466881437000.0,1466881447000.0,1466881451000.0,1466881454000.0,1466881457000.0,1466881460000.0,1466881463000.0,1466881466000.0,1466881469000.0,1466881472000.0,1466881475000.0,1466881478000.0,1466881480000.0,1466881483000.0,1466881486000.0,1466881489000.0,1466881492000.0,1466881495000.0,1466881498000.0,1466881501000.0,1466881504000.0,1466881507000.0,1466881510000.0,1466881513000.0,1466881516000.0,1466881520000.0,1466881523000.0,1466881526000.0,1466881530000.0,1466881534000.0,1466881544000.0,1466881556000.0,1466881564000.0,1466881571000.0,1466881578000.0,1466881586000.0,1466881597000.0,1466881604000.0,1466881613000.0,1466881621000.0,1466881624000.0,1466881627000.0,1466881631000.0,1466881635000.0,1466881639000.0,1466881643000.0,1466881647000.0,1466881651000.0,1466881655000.0,1466881659000.0,1466881663000.0,1466881683000.0,1466881690000.0,1466881694000.0,1466881698000.0,1466881702000.0,1466881707000.0,1466881712000.0,1466881717000.0,1466881722000.0,1466881726000.0,1466881732000.0,1466881737000.0,1466881741000.0,1466881746000.0,1466881751000.0,1466881759000.0,1466881769000.0,1466881780000.0,1466881789000.0,1466881797000.0,1466881807000.0,1466881813000.0,1466881817000.0,1466881821000.0,1466881826000.0,1466881868000.0,1466881872000.0,1466881877000.0,1466881881000.0,1466881885000.0,1466881889000.0,1466881893000.0,1466881897000.0,1466881903000.0,1466881908000.0,1466881913000.0,1466881919000.0,1466881945000.0,1466881957000.0,1466881961000.0,1466881965000.0,1466881970000.0,1466881997000.0,1466882002000.0,1466882040000.0,1466882045000.0,1466882050000.0,1466882056000.0,1466882061000.0,1466882067000.0,1466882072000.0,1466882076000.0,1466882080000.0,1466882083000.0,1466882087000.0,1466882092000.0,1466882097000.0,1466882102000.0,1466882107000.0,1466882111000.0,1466882144000.0,1466882166000.0,1466882175000.0,1466882183000.0,1466882222000.0,1466882326000.0,1466882332000.0,1466882336000.0,1466882339000.0,1466882342000.0,1466882345000.0,1466882348000.0,1466882352000.0,1466882356000.0,1466882360000.0,1466882364000.0,1466882368000.0,1466882373000.0,1466882378000.0,1466882383000.0,1466882387000.0,1466882391000.0,1466882395000.0,1466882399000.0,1466882404000.0,1466882420000.0,1466882424000.0,1466882428000.0,1466882432000.0,1466882436000.0,1466882441000.0,1466882446000.0,1466882452000.0,1466882456000.0,1466882460000.0,1466882464000.0,1466882468000.0,1466882472000.0,1466882476000.0,1466882480000.0,1466882485000.0,1466882490000.0,1466882494000.0,1466882500000.0,1466882506000.0,1466882511000.0,1466882518000.0,1466882527000.0,1466882540000.0,1466882545000.0,1466882550000.0,1466882555000.0,1466882562000.0,1466882568000.0,1466882573000.0,1466882578000.0,1466882584000.0,1466882589000.0,1466882604000.0,1466882643000.0,1466882654000.0,1466882662000.0,1466882666000.0,1466882669000.0,1466882673000.0,1466882677000.0,1466882681000.0,1466882687000.0,1466882692000.0,1466882697000.0,1466882732000.0,1466882737000.0,1466882743000.0,1466882748000.0,1466882752000.0,1466882758000.0,1466882764000.0,1466882770000.0,1466882799000.0,1466882803000.0,1466882806000.0,1466882809000.0,1466882812000.0,1466882816000.0,1466882820000.0,1466882824000.0,1466882829000.0,1466882832000.0,1466882835000.0,1466882839000.0,1466882842000.0,1466882846000.0,1466882850000.0,1466882854000.0,1466882858000.0,1466882863000.0,1466882867000.0,1466882871000.0,1466882876000.0,1466882883000.0,1466882892000.0,1466882902000.0,1466882933000.0,1466882937000.0,1466882941000.0,1466882945000.0,1466882949000.0,1466882953000.0,1466882957000.0,1466882961000.0,1466882965000.0,1466882969000.0,1466882993000.0,1466882997000.0,1466883001000.0,1466883005000.0,1466883009000.0,1466883014000.0,1466883019000.0,1466883024000.0,1466883028000.0,1466883032000.0,1466883036000.0,1466883040000.0,1466883044000.0,1466883048000.0,1466883052000.0,1466883057000.0,1466883062000.0,1466883082000.0,1466883098000.0,1466883102000.0,1466883106000.0,1466883109000.0,1466883112000.0,1466883116000.0,1466883120000.0,1466883124000.0,1466883129000.0,1466883135000.0,1466883142000.0,1466883150000.0,1466883161000.0,1466883169000.0,1466883174000.0,1466883179000.0,1466883183000.0,1466883186000.0,1466883189000.0,1466883193000.0,1466883196000.0,1466883199000.0,1466883203000.0,1466883209000.0,1466883213000.0,1466883217000.0,1466883221000.0,1466883225000.0,1466883229000.0,1466883233000.0,1466883238000.0,1466883243000.0,1466883247000.0,1466883250000.0,1466883253000.0,1466883257000.0,1466883260000.0,1466883264000.0,1466883269000.0,1466883274000.0,1466883296000.0,1466883301000.0,1466883304000.0,1466883308000.0,1466883314000.0,1466883319000.0,1466883323000.0,1466883326000.0,1466883329000.0,1466883333000.0,1466883337000.0,1466883341000.0,1466883345000.0,1466883349000.0,1466883353000.0,1466883358000.0,1466883363000.0,1466883368000.0,1466883374000.0,1466883380000.0,1466883385000.0,1466883390000.0,1466883394000.0,1466883399000.0,1466883413000.0,1466883430000.0,1466883439000.0,1466883448000.0,1466883452000.0,1466883456000.0,1466883460000.0,1466883464000.0,1466883468000.0,1466883473000.0,1466883478000.0,1466883483000.0,1466883489000.0,1466883494000.0,1466883498000.0,1466883502000.0,1466883507000.0,1466883513000.0,1466883518000.0,1466883523000.0,1466883558000.0,1466883562000.0,1466883566000.0,1466883570000.0,1466883574000.0,1466883578000.0,1466883582000.0,1466883587000.0,1466883592000.0,1466883598000.0,1466883605000.0,1466883612000.0,1466883620000.0,1466883630000.0,1466883642000.0,1466883650000.0,1466883659000.0,1466883667000.0,1466883676000.0,1466883684000.0,1466883692000.0,1466883700000.0,1466883709000.0,1466883719000.0,1466883728000.0,1466883736000.0,1466883743000.0,1466883753000.0,1466883763000.0,1466883772000.0,1466883781000.0,1466883789000.0,1466883799000.0,1466883807000.0,1466883817000.0,1466883828000.0,1466883836000.0,1466883844000.0,1466883852000.0,1466883861000.0,1466883871000.0,1466883879000.0,1466883888000.0,1466883897000.0,1466883904000.0,1466883915000.0,1466883941000.0],\"y\":[327.0,326.7,326.5,326.3,325.9,325.5,325.0,324.5,323.9,323.2,322.7,322.3,321.8,321.4,320.9,320.5,320.2,319.8,319.5,319.1,318.9,318.7,318.5,318.4,318.2,318.0,318.0,318.0,318.0,318.0,317.3,316.5,315.8,315.1,314.4,313.6,312.9,312.2,311.5,310.7,310.0,309.4,308.7,308.1,307.5,306.8,306.2,305.5,304.9,304.0,303.1,302.2,301.9,301.6,301.4,301.0,300.6,300.3,299.7,299.2,298.9,298.6,298.4,298.1,297.8,297.5,297.1,296.6,296.2,295.9,295.6,295.3,294.9,294.5,294.2,293.8,293.5,293.4,293.3,293.2,293.1,293.0,292.9,292.5,292.2,291.8,291.5,291.1,290.7,290.4,290.0,289.6,289.4,289.2,289.3,289.4,289.5,289.5,289.6,289.7,289.6,289.5,289.5,289.3,289.1,288.9,288.7,288.5,288.3,288.0,287.7,287.6,287.5,287.5,287.4,287.3,286.9,286.5,286.2,285.7,285.3,284.8,284.4,283.9,283.5,283.0,282.5,282.4,282.2,282.0,282.0,282.0,282.0,281.8,281.6,281.5,281.2,280.9,280.5,280.2,279.8,279.5,279.1,278.7,278.5,278.2,277.9,277.7,277.5,277.5,277.4,277.3,277.0,276.7,276.5,276.3,276.1,275.9,275.7,275.5,275.4,275.2,275.0,275.0,275.0,275.0,275.0,275.2,275.4,275.5,275.7,275.9,276.1,276.3,276.5,276.6,276.8,277.2,277.4,277.5,277.7,277.9,278.1,278.3,278.5,278.6,279.0,279.4,279.5,279.7,279.9,280.1,280.3,280.5,280.6,280.8,281.1,281.4,281.6,281.9,282.2,282.5,282.7,283.0,283.3,283.7,284.5,285.1,285.5,286.0,286.5,286.9,287.4,287.8,288.7,289.6,290.4,290.8,291.6,292.5,293.3,294.1,294.9,295.9,296.9,297.5,298.0,298.5,299.1,299.5,299.8,300.4,300.9,301.5,301.8,302.2,302.5,302.9,303.3,303.6,303.8,304.0,304.0,304.0,304.3,304.5,304.8,305.1,305.4,305.6,305.9,306.2,306.5,306.7,307.0,307.0,307.4,307.7,308.1,308.5,309.0,309.5,309.9,310.4,310.8,311.3,311.7,311.8,311.9,312.0,312.0,312.0,312.3,312.5,312.8,313.1,313.4,313.8,314.3,314.7,315.2,315.6,316.1,316.3,316.6,317.0,317.4,318.2,318.8,319.5,320.1,320.9,321.7,322.5,323.4,324.0,324.6,325.3,325.6,326.0,326.7,327.5,328.0,328.5,329.1,329.6,330.5,331.3,332.1,332.7,333.4,333.6,333.6,333.6,333.6,333.6,333.6,333.4,332.9,332.5,332.0,331.5,331.1,330.9,330.5,330.2,329.8,329.5,329.1,328.9,328.7,328.5,328.4,328.2,328.0,328.0,328.0,328.0,328.0,328.0,328.1,328.2,328.3,328.4,328.5,328.5,328.6,328.7,328.8,328.9,329.0,328.9,328.8,328.7,328.6,328.5,328.5,328.4,328.3,328.2,328.1,328.0,328.0,328.0,328.0,328.0,328.0,328.0,328.0,328.0,328.0,327.7,327.5,327.2,326.9,326.6,326.4,325.9,325.5,325.0,324.5,324.1,323.9,323.2,322.5,321.7,321.0,321.2,321.5,321.4,321.2,321.0,320.8,320.6,321.0,320.6,320.3,319.9,318.6,317.4,316.0,314.6,313.3,311.9,310.5,309.2,308.5,307.7,307.0,306.3,305.5,305.4,305.2,305.0,304.8,304.6,304.5,304.5,304.5,304.5,304.5,304.5,304.6,304.8,305.0,305.2,305.4,305.5,305.8,306.1,306.4,306.6,306.9,307.2,307.5,307.7,308.0,308.3,308.5,308.9,309.3,309.6,310.0,310.4,310.8,311.3,311.7,312.2,312.6,313.1,313.5,313.8,314.2,314.0,314.4,314.7,315.1,315.5,315.8,316.2,316.5,316.7,316.9,317.1,317.8,318.0,318.0,318.0,318.0,318.0,318.0,318.0,318.0,318.2,318.4,318.5,318.7,318.9,319.1,319.5,319.8,320.2,320.5,320.9,321.4,321.8,322.3,322.7,323.2,323.6,324.2,324.7,325.3,325.8,326.2,326.3,326.5,326.7,327.0]}},\"id\":\"caf3f700-54ea-450f-9feb-0e3f3e42a9e8\",\"type\":\"ColumnDataSource\"},{\"attributes\":{\"background_fill_color\":{\"value\":\"#E8DDCB\"},\"below\":[{\"id\":\"9aba3f96-5142-4849-9f05-28a5d0be9b6b\",\"type\":\"DatetimeAxis\"}],\"left\":[{\"id\":\"fef7c37c-3d64-4363-85f0-3742c85216e6\",\"type\":\"LinearAxis\"}],\"renderers\":[{\"id\":\"9aba3f96-5142-4849-9f05-28a5d0be9b6b\",\"type\":\"DatetimeAxis\"},{\"id\":\"4b28882f-a29b-49d1-8f9c-450ea4aa7b0a\",\"type\":\"Grid\"},{\"id\":\"fef7c37c-3d64-4363-85f0-3742c85216e6\",\"type\":\"LinearAxis\"},{\"id\":\"4eb5d7a9-8613-465e-86f1-9972192260e6\",\"type\":\"Grid\"},{\"id\":\"5316dccd-9827-40f7-a3da-f53623089dba\",\"type\":\"BoxAnnotation\"},{\"id\":\"3f161b64-43c6-4831-8203-082c3bc97644\",\"type\":\"GlyphRenderer\"}],\"title\":\"Elevation from last night run\",\"tool_events\":{\"id\":\"d491037d-8871-44f8-b96a-2dfe98f01437\",\"type\":\"ToolEvents\"},\"tools\":[{\"id\":\"f8eed474-42a1-4496-b560-2749e15a23ee\",\"type\":\"PanTool\"},{\"id\":\"57581b32-76d8-4a68-846f-66d55a42efa7\",\"type\":\"WheelZoomTool\"},{\"id\":\"3c7da2a0-14ee-4555-8fab-86947a5a7ef3\",\"type\":\"BoxZoomTool\"},{\"id\":\"35a37bf5-722c-4572-805e-5ee04cf2ad23\",\"type\":\"PreviewSaveTool\"},{\"id\":\"387ae7b2-e9fc-4c77-a3d8-a1549b54d6dc\",\"type\":\"ResizeTool\"},{\"id\":\"9fbccf3e-494f-4f39-acc7-fa0886869cae\",\"type\":\"ResetTool\"},{\"id\":\"a4cbdf63-22ce-4af7-b066-2012508b3609\",\"type\":\"HelpTool\"}],\"x_range\":{\"id\":\"b2e414df-935c-4a49-afe2-cb1c6e60218b\",\"type\":\"DataRange1d\"},\"y_range\":{\"id\":\"3b936054-9e81-4597-9d7b-581e5a906a1d\",\"type\":\"DataRange1d\"}},\"id\":\"a18e9477-e8f6-4137-aa2c-ada6a022b684\",\"subtype\":\"Figure\",\"type\":\"Plot\"},{\"attributes\":{},\"id\":\"bb18c9a2-2cbc-41e6-99a2-b04e912ba62f\",\"type\":\"BasicTickFormatter\"},{\"attributes\":{\"plot\":{\"id\":\"a18e9477-e8f6-4137-aa2c-ada6a022b684\",\"subtype\":\"Figure\",\"type\":\"Plot\"},\"ticker\":{\"id\":\"ea29c826-67c5-42a1-ba0c-b532b95f265d\",\"type\":\"DatetimeTicker\"}},\"id\":\"4b28882f-a29b-49d1-8f9c-450ea4aa7b0a\",\"type\":\"Grid\"},{\"attributes\":{\"fill_color\":{\"value\":\"#1f77b4\"},\"line_color\":{\"value\":\"#1f77b4\"},\"x\":{\"field\":\"x\"},\"y\":{\"field\":\"y\"}},\"id\":\"7f27e8a4-c15b-4439-9110-22b41798b411\",\"type\":\"Circle\"},{\"attributes\":{\"days\":[1,4,7,10,13,16,19,22,25,28]},\"id\":\"237d47d3-082c-4917-9fe1-c35424b44e41\",\"type\":\"DaysTicker\"},{\"attributes\":{\"days\":[1,2,3,4,5,6,7,8,9,10,11,12,13,14,15,16,17,18,19,20,21,22,23,24,25,26,27,28,29,30,31]},\"id\":\"83187b6e-70f3-47d1-856b-f1db6678d12d\",\"type\":\"DaysTicker\"},{\"attributes\":{},\"id\":\"1748be20-155c-46a9-ad88-511931b35cdd\",\"type\":\"BasicTicker\"},{\"attributes\":{\"plot\":{\"id\":\"e765d1fd-d4fe-43d6-8881-225e2fd8cb2c\",\"subtype\":\"Figure\",\"type\":\"Plot\"}},\"id\":\"b912aabf-432a-4903-8c1a-1a24a28aad05\",\"type\":\"ResetTool\"},{\"attributes\":{\"days\":[1,15]},\"id\":\"bf311781-60b9-4636-87fa-29cc5e000fc7\",\"type\":\"DaysTicker\"},{\"attributes\":{},\"id\":\"9ef15a0d-8af0-4391-b741-ba2087f9fdb9\",\"type\":\"BasicTickFormatter\"},{\"attributes\":{\"days\":[1,4,7,10,13,16,19,22,25,28]},\"id\":\"711df738-bc0c-4b3c-8fcc-252800cc3e82\",\"type\":\"DaysTicker\"},{\"attributes\":{\"callback\":null,\"column_names\":[\"x\",\"y\"],\"data\":{\"x\":[1465328243000.0,1428148529000.0,1463844198000.0,1415554211000.0,1414697951000.0,1434131854000.0,1425920018000.0,1439056606000.0,1438106993000.0,1410246399000.0,1410099387000.0,1436643161000.0,1462128356000.0,1466880893000.0,1443172413000.0,1424372257000.0,1464635172000.0,1438457322000.0,1420981616000.0,1412445070000.0,1431286224000.0,1465587240000.0,1444075724000.0,1428233258000.0,1425674543000.0,1426191183000.0,1426607916000.0,1459889614000.0,1422467747000.0,1465060160000.0,1418056433000.0,1466349240000.0,1420741859000.0,1440791953000.0,1421776526000.0,1411542030000.0,1446030451000.0,1411201027000.0,1436301721000.0,1430762639000.0,1410547403000.0,1422038969000.0],\"y\":[5869.758041685876,2050.294537996982,5673.724969564729,5493.705520609242,5936.597828117186,4466.736025644979,8747.538975053558,7583.492622425234,4482.126354346572,1256.0139437106257,1465.8603370305834,5980.435447792143,5678.105548248082,5641.157399618419,1848.3031448360637,2102.6866123651434,4686.257052728707,9468.497064399835,4437.458852924772,5637.941600178236,5976.531944856669,10040.460857166941,9377.080509775602,4927.336038861122,12543.342213664968,9053.550749702497,9066.96676016255,9355.976346881262,6733.926622101581,5690.823548807764,3787.3912574156557,8943.501144715288,10096.597395845707,12190.74237889001,8190.534493570851,5721.8997620119135,7650.115555373454,2732.913143192231,4069.3537789534007,4580.658855378932,7770.535908053509,13061.254042482593]}},\"id\":\"506e0acc-e412-4ced-8a83-b7181bd8ddbe\",\"type\":\"ColumnDataSource\"},{\"attributes\":{\"plot\":{\"id\":\"b384f6de-66b0-4414-bf2f-aa03220674cf\",\"subtype\":\"Figure\",\"type\":\"Plot\"},\"ticker\":{\"id\":\"2a12ff26-cb06-4622-a31d-daac2e9146ed\",\"type\":\"DatetimeTicker\"}},\"id\":\"3c2915da-efcd-4ee3-924d-6bc901a467ac\",\"type\":\"Grid\"},{\"attributes\":{},\"id\":\"e0f6bd0c-a2ca-4a7a-b2ab-279a36bffc2b\",\"type\":\"DatetimeTickFormatter\"},{\"attributes\":{\"days\":[1,15]},\"id\":\"93f2e69f-2e2f-4d9c-afeb-69aa3ee6c09c\",\"type\":\"DaysTicker\"},{\"attributes\":{\"days\":[1,4,7,10,13,16,19,22,25,28]},\"id\":\"128f03fa-89b9-44b7-af52-387fb6c0fcc5\",\"type\":\"DaysTicker\"},{\"attributes\":{},\"id\":\"6986de8a-a940-45c7-9b76-d3ed3fe4d69f\",\"type\":\"ToolEvents\"},{\"attributes\":{\"callback\":null},\"id\":\"5d5c61b6-f33b-487e-bf82-3df4229b831d\",\"type\":\"DataRange1d\"},{\"attributes\":{\"plot\":{\"id\":\"a18e9477-e8f6-4137-aa2c-ada6a022b684\",\"subtype\":\"Figure\",\"type\":\"Plot\"}},\"id\":\"387ae7b2-e9fc-4c77-a3d8-a1549b54d6dc\",\"type\":\"ResizeTool\"},{\"attributes\":{\"bottom_units\":\"screen\",\"fill_alpha\":{\"value\":0.5},\"fill_color\":{\"value\":\"lightgrey\"},\"left_units\":\"screen\",\"level\":\"overlay\",\"line_alpha\":{\"value\":1.0},\"line_color\":{\"value\":\"black\"},\"line_dash\":[4,4],\"line_width\":{\"value\":2},\"plot\":null,\"render_mode\":\"css\",\"right_units\":\"screen\",\"top_units\":\"screen\"},\"id\":\"f2aeb4b1-c646-40a9-b368-cfd95d867919\",\"type\":\"BoxAnnotation\"},{\"attributes\":{\"axis_label\":\"Time in hours\",\"formatter\":{\"id\":\"a444ddb0-a64a-40b2-9d06-91a3accff913\",\"type\":\"BasicTickFormatter\"},\"plot\":{\"id\":\"e765d1fd-d4fe-43d6-8881-225e2fd8cb2c\",\"subtype\":\"Figure\",\"type\":\"Plot\"},\"ticker\":{\"id\":\"2704492d-e351-4705-b287-587d1c71916a\",\"type\":\"BasicTicker\"}},\"id\":\"004ddd27-b482-4450-8b2d-79ed07bb37ce\",\"type\":\"LinearAxis\"},{\"attributes\":{\"num_minor_ticks\":5},\"id\":\"aa3f6f9c-054a-45d6-aae2-4900ed14b4b4\",\"type\":\"DatetimeTicker\"},{\"attributes\":{},\"id\":\"23116e6e-6a3e-4dfa-b216-93cc854931b5\",\"type\":\"ToolEvents\"},{\"attributes\":{\"callback\":null},\"id\":\"3f0408dd-c39c-41cc-8da4-2f4efbbfeb7f\",\"type\":\"DataRange1d\"},{\"attributes\":{\"plot\":{\"id\":\"8a0e04f0-1b56-4383-93da-73ef9933ab80\",\"subtype\":\"Figure\",\"type\":\"Plot\"}},\"id\":\"210f869d-8928-403e-8421-551cbdebaf89\",\"type\":\"PreviewSaveTool\"},{\"attributes\":{\"plot\":{\"id\":\"e765d1fd-d4fe-43d6-8881-225e2fd8cb2c\",\"subtype\":\"Figure\",\"type\":\"Plot\"}},\"id\":\"29e3b522-a1a2-4d73-ba9e-744efbe9a548\",\"type\":\"ResizeTool\"},{\"attributes\":{\"dimension\":1,\"plot\":{\"id\":\"e765d1fd-d4fe-43d6-8881-225e2fd8cb2c\",\"subtype\":\"Figure\",\"type\":\"Plot\"},\"ticker\":{\"id\":\"2704492d-e351-4705-b287-587d1c71916a\",\"type\":\"BasicTicker\"}},\"id\":\"d0ffcca1-805d-47de-ad83-76d28a24f0fb\",\"type\":\"Grid\"},{\"attributes\":{\"axis_label\":\"Distance (m)\",\"formatter\":{\"id\":\"d14560dd-8267-4cb3-9b2f-dcc5468b405d\",\"type\":\"BasicTickFormatter\"},\"plot\":{\"id\":\"8a0e04f0-1b56-4383-93da-73ef9933ab80\",\"subtype\":\"Figure\",\"type\":\"Plot\"},\"ticker\":{\"id\":\"1748be20-155c-46a9-ad88-511931b35cdd\",\"type\":\"BasicTicker\"}},\"id\":\"daf6d410-6601-4dca-a3f7-5ccfceea230c\",\"type\":\"LinearAxis\"},{\"attributes\":{\"plot\":{\"id\":\"8a0e04f0-1b56-4383-93da-73ef9933ab80\",\"subtype\":\"Figure\",\"type\":\"Plot\"}},\"id\":\"252b9006-959b-432b-8d5f-9ee05eb2ac5c\",\"type\":\"HelpTool\"},{\"attributes\":{\"plot\":{\"id\":\"e765d1fd-d4fe-43d6-8881-225e2fd8cb2c\",\"subtype\":\"Figure\",\"type\":\"Plot\"}},\"id\":\"c6b9a456-d726-4cf4-8b5a-5162abc34702\",\"type\":\"PanTool\"},{\"attributes\":{},\"id\":\"b34f9f09-c02b-4dec-9b82-7b07f1f65cea\",\"type\":\"BasicTicker\"},{\"attributes\":{},\"id\":\"a444ddb0-a64a-40b2-9d06-91a3accff913\",\"type\":\"BasicTickFormatter\"},{\"attributes\":{\"months\":[0,6]},\"id\":\"b6c00da2-8eff-4c3e-a67f-4f2667291152\",\"type\":\"MonthsTicker\"},{\"attributes\":{\"days\":[1,8,15,22]},\"id\":\"62630275-92c1-4272-8178-b9e115b6eafa\",\"type\":\"DaysTicker\"},{\"attributes\":{\"plot\":{\"id\":\"b384f6de-66b0-4414-bf2f-aa03220674cf\",\"subtype\":\"Figure\",\"type\":\"Plot\"}},\"id\":\"85584e83-cf91-4d6e-935f-6dc4aaeec3d9\",\"type\":\"WheelZoomTool\"},{\"attributes\":{\"plot\":{\"id\":\"e765d1fd-d4fe-43d6-8881-225e2fd8cb2c\",\"subtype\":\"Figure\",\"type\":\"Plot\"}},\"id\":\"64b1d9a0-1cff-4dcd-826a-9737e23bd781\",\"type\":\"WheelZoomTool\"},{\"attributes\":{\"fill_alpha\":{\"value\":0.1},\"fill_color\":{\"value\":\"#1f77b4\"},\"line_alpha\":{\"value\":0.1},\"line_color\":{\"value\":\"#1f77b4\"},\"x\":{\"field\":\"x\"},\"y\":{\"field\":\"y\"}},\"id\":\"5c5aa67b-3387-4457-9183-8566c3c9f795\",\"type\":\"Circle\"},{\"attributes\":{},\"id\":\"1ca5026e-c14f-41a7-80db-66c8948c1948\",\"type\":\"DatetimeTickFormatter\"},{\"attributes\":{\"bottom_units\":\"screen\",\"fill_alpha\":{\"value\":0.5},\"fill_color\":{\"value\":\"lightgrey\"},\"left_units\":\"screen\",\"level\":\"overlay\",\"line_alpha\":{\"value\":1.0},\"line_color\":{\"value\":\"black\"},\"line_dash\":[4,4],\"line_width\":{\"value\":2},\"plot\":null,\"render_mode\":\"css\",\"right_units\":\"screen\",\"top_units\":\"screen\"},\"id\":\"8203170b-b7ec-4153-a961-541137bf1c24\",\"type\":\"BoxAnnotation\"},{\"attributes\":{\"background_fill_color\":{\"value\":\"#E8DDCB\"},\"below\":[{\"id\":\"75930b2e-173d-4dd9-be64-77797dfd634e\",\"type\":\"LinearAxis\"}],\"left\":[{\"id\":\"004ddd27-b482-4450-8b2d-79ed07bb37ce\",\"type\":\"LinearAxis\"}],\"renderers\":[{\"id\":\"75930b2e-173d-4dd9-be64-77797dfd634e\",\"type\":\"LinearAxis\"},{\"id\":\"c4cb35fd-9381-4a66-933e-9f8943cadf55\",\"type\":\"Grid\"},{\"id\":\"004ddd27-b482-4450-8b2d-79ed07bb37ce\",\"type\":\"LinearAxis\"},{\"id\":\"d0ffcca1-805d-47de-ad83-76d28a24f0fb\",\"type\":\"Grid\"},{\"id\":\"f2aeb4b1-c646-40a9-b368-cfd95d867919\",\"type\":\"BoxAnnotation\"},{\"id\":\"ed7092b7-e94a-4849-a377-f833cfcce035\",\"type\":\"GlyphRenderer\"}],\"title\":\"Speeds \",\"tool_events\":{\"id\":\"23116e6e-6a3e-4dfa-b216-93cc854931b5\",\"type\":\"ToolEvents\"},\"tools\":[{\"id\":\"c6b9a456-d726-4cf4-8b5a-5162abc34702\",\"type\":\"PanTool\"},{\"id\":\"64b1d9a0-1cff-4dcd-826a-9737e23bd781\",\"type\":\"WheelZoomTool\"},{\"id\":\"28afc163-f337-444a-af81-e82b11d569d7\",\"type\":\"BoxZoomTool\"},{\"id\":\"95b97119-d69b-497c-a9be-ff8b5024e66b\",\"type\":\"PreviewSaveTool\"},{\"id\":\"29e3b522-a1a2-4d73-ba9e-744efbe9a548\",\"type\":\"ResizeTool\"},{\"id\":\"b912aabf-432a-4903-8c1a-1a24a28aad05\",\"type\":\"ResetTool\"},{\"id\":\"acc72b56-ae3f-4712-9cfe-b7922ada2b19\",\"type\":\"HelpTool\"}],\"x_range\":{\"id\":\"da1751f9-37cf-44fc-b4e4-623ddc10f414\",\"type\":\"DataRange1d\"},\"y_range\":{\"id\":\"5d5c61b6-f33b-487e-bf82-3df4229b831d\",\"type\":\"DataRange1d\"}},\"id\":\"e765d1fd-d4fe-43d6-8881-225e2fd8cb2c\",\"subtype\":\"Figure\",\"type\":\"Plot\"},{\"attributes\":{\"plot\":{\"id\":\"b384f6de-66b0-4414-bf2f-aa03220674cf\",\"subtype\":\"Figure\",\"type\":\"Plot\"}},\"id\":\"6ee8127a-41f8-4dd9-b7ae-0de04dcd4dc2\",\"type\":\"PreviewSaveTool\"},{\"attributes\":{\"fill_alpha\":{\"value\":0.1},\"fill_color\":{\"value\":\"#1f77b4\"},\"line_alpha\":{\"value\":0.1},\"line_color\":{\"value\":\"#1f77b4\"},\"x\":{\"field\":\"x\"},\"y\":{\"field\":\"y\"}},\"id\":\"00b77ae4-9500-427b-9e65-6b5e56b439b0\",\"type\":\"Circle\"},{\"attributes\":{\"background_fill_color\":{\"value\":\"#E8DDCB\"},\"below\":[{\"id\":\"0c3acbed-9231-4a6e-88ed-cce968f25906\",\"type\":\"DatetimeAxis\"}],\"left\":[{\"id\":\"daf6d410-6601-4dca-a3f7-5ccfceea230c\",\"type\":\"LinearAxis\"}],\"renderers\":[{\"id\":\"0c3acbed-9231-4a6e-88ed-cce968f25906\",\"type\":\"DatetimeAxis\"},{\"id\":\"3f50426a-7d1d-46b2-af4b-8b88300961d7\",\"type\":\"Grid\"},{\"id\":\"daf6d410-6601-4dca-a3f7-5ccfceea230c\",\"type\":\"LinearAxis\"},{\"id\":\"00479e65-1bd5-45de-a0f9-7b415cf0a9f5\",\"type\":\"Grid\"},{\"id\":\"8203170b-b7ec-4153-a961-541137bf1c24\",\"type\":\"BoxAnnotation\"},{\"id\":\"7ed455a3-8176-426d-9470-5ce4caa1dbd8\",\"type\":\"GlyphRenderer\"}],\"title\":\"Distances run over time\",\"tool_events\":{\"id\":\"66645fc9-6d12-4ea6-bd7b-102a8c30329f\",\"type\":\"ToolEvents\"},\"tools\":[{\"id\":\"30a4adad-032b-4863-9020-ca860f253656\",\"type\":\"PanTool\"},{\"id\":\"a7173f36-8a8d-41f8-b8e7-3cae5c4c32c6\",\"type\":\"WheelZoomTool\"},{\"id\":\"88e7a141-62a2-478c-90f7-62a57994e55a\",\"type\":\"BoxZoomTool\"},{\"id\":\"210f869d-8928-403e-8421-551cbdebaf89\",\"type\":\"PreviewSaveTool\"},{\"id\":\"4e310650-8472-4f52-aa49-ff3ab59c0fe4\",\"type\":\"ResizeTool\"},{\"id\":\"9abf5aec-48a3-4457-8ca2-8509aa98c4eb\",\"type\":\"ResetTool\"},{\"id\":\"252b9006-959b-432b-8d5f-9ee05eb2ac5c\",\"type\":\"HelpTool\"}],\"x_range\":{\"id\":\"8b611378-6865-41ff-a185-32b7ec696c25\",\"type\":\"DataRange1d\"},\"y_range\":{\"id\":\"3f0408dd-c39c-41cc-8da4-2f4efbbfeb7f\",\"type\":\"DataRange1d\"}},\"id\":\"8a0e04f0-1b56-4383-93da-73ef9933ab80\",\"subtype\":\"Figure\",\"type\":\"Plot\"},{\"attributes\":{\"overlay\":{\"id\":\"5316dccd-9827-40f7-a3da-f53623089dba\",\"type\":\"BoxAnnotation\"},\"plot\":{\"id\":\"a18e9477-e8f6-4137-aa2c-ada6a022b684\",\"subtype\":\"Figure\",\"type\":\"Plot\"}},\"id\":\"3c7da2a0-14ee-4555-8fab-86947a5a7ef3\",\"type\":\"BoxZoomTool\"},{\"attributes\":{\"months\":[0,2,4,6,8,10]},\"id\":\"5fc86986-57cd-48c3-9d9e-ea2ea01e4875\",\"type\":\"MonthsTicker\"},{\"attributes\":{\"plot\":{\"id\":\"a18e9477-e8f6-4137-aa2c-ada6a022b684\",\"subtype\":\"Figure\",\"type\":\"Plot\"}},\"id\":\"a4cbdf63-22ce-4af7-b066-2012508b3609\",\"type\":\"HelpTool\"},{\"attributes\":{\"data_source\":{\"id\":\"506e0acc-e412-4ced-8a83-b7181bd8ddbe\",\"type\":\"ColumnDataSource\"},\"glyph\":{\"id\":\"7f27e8a4-c15b-4439-9110-22b41798b411\",\"type\":\"Circle\"},\"hover_glyph\":null,\"nonselection_glyph\":{\"id\":\"00b77ae4-9500-427b-9e65-6b5e56b439b0\",\"type\":\"Circle\"},\"selection_glyph\":null},\"id\":\"7ed455a3-8176-426d-9470-5ce4caa1dbd8\",\"type\":\"GlyphRenderer\"},{\"attributes\":{\"overlay\":{\"id\":\"f2aeb4b1-c646-40a9-b368-cfd95d867919\",\"type\":\"BoxAnnotation\"},\"plot\":{\"id\":\"e765d1fd-d4fe-43d6-8881-225e2fd8cb2c\",\"subtype\":\"Figure\",\"type\":\"Plot\"}},\"id\":\"28afc163-f337-444a-af81-e82b11d569d7\",\"type\":\"BoxZoomTool\"},{\"attributes\":{\"callback\":null},\"id\":\"b2e414df-935c-4a49-afe2-cb1c6e60218b\",\"type\":\"DataRange1d\"},{\"attributes\":{\"background_fill_color\":{\"value\":\"#E8DDCB\"},\"below\":[{\"id\":\"2f703c0f-1eab-492a-b2f1-c5226dddf016\",\"type\":\"DatetimeAxis\"}],\"left\":[{\"id\":\"66312df7-ca9d-46c1-93ea-017863b0f1de\",\"type\":\"LinearAxis\"}],\"renderers\":[{\"id\":\"2f703c0f-1eab-492a-b2f1-c5226dddf016\",\"type\":\"DatetimeAxis\"},{\"id\":\"3c2915da-efcd-4ee3-924d-6bc901a467ac\",\"type\":\"Grid\"},{\"id\":\"66312df7-ca9d-46c1-93ea-017863b0f1de\",\"type\":\"LinearAxis\"},{\"id\":\"b1c71894-32c1-4e39-bed5-aab9b15cb6a2\",\"type\":\"Grid\"},{\"id\":\"e79af1fc-d423-4ee8-a6e7-53a328de099a\",\"type\":\"BoxAnnotation\"},{\"id\":\"dbc21d50-ee69-4d59-b99a-319367ac9c15\",\"type\":\"GlyphRenderer\"}],\"title\":\"Speeds over time\",\"tool_events\":{\"id\":\"6986de8a-a940-45c7-9b76-d3ed3fe4d69f\",\"type\":\"ToolEvents\"},\"tools\":[{\"id\":\"2569c697-c25d-4c8b-920f-7abf33f21657\",\"type\":\"PanTool\"},{\"id\":\"85584e83-cf91-4d6e-935f-6dc4aaeec3d9\",\"type\":\"WheelZoomTool\"},{\"id\":\"ade454d6-b221-41cb-be64-fdfc81769833\",\"type\":\"BoxZoomTool\"},{\"id\":\"6ee8127a-41f8-4dd9-b7ae-0de04dcd4dc2\",\"type\":\"PreviewSaveTool\"},{\"id\":\"8c5f9d93-a561-4da1-9488-c399f4b51b00\",\"type\":\"ResizeTool\"},{\"id\":\"ef2359c7-61d2-4802-9ec8-c4270fb0eb5e\",\"type\":\"ResetTool\"},{\"id\":\"6c832edb-c5e8-496a-bdd5-9c20f12bdf13\",\"type\":\"HelpTool\"}],\"x_range\":{\"id\":\"580ad038-6b70-4930-aef9-70dabac4f71f\",\"type\":\"DataRange1d\"},\"y_range\":{\"id\":\"c57ba96d-108a-4d2f-9241-22e993b1d002\",\"type\":\"DataRange1d\"}},\"id\":\"b384f6de-66b0-4414-bf2f-aa03220674cf\",\"subtype\":\"Figure\",\"type\":\"Plot\"},{\"attributes\":{\"callback\":null},\"id\":\"3b936054-9e81-4597-9d7b-581e5a906a1d\",\"type\":\"DataRange1d\"},{\"attributes\":{\"months\":[0,1,2,3,4,5,6,7,8,9,10,11]},\"id\":\"a9e463bf-e838-4c7d-9984-bb3d56281b81\",\"type\":\"MonthsTicker\"},{\"attributes\":{\"plot\":{\"id\":\"b384f6de-66b0-4414-bf2f-aa03220674cf\",\"subtype\":\"Figure\",\"type\":\"Plot\"}},\"id\":\"ef2359c7-61d2-4802-9ec8-c4270fb0eb5e\",\"type\":\"ResetTool\"},{\"attributes\":{\"axis_label\":\"Distance (km)\",\"formatter\":{\"id\":\"bb18c9a2-2cbc-41e6-99a2-b04e912ba62f\",\"type\":\"BasicTickFormatter\"},\"plot\":{\"id\":\"e765d1fd-d4fe-43d6-8881-225e2fd8cb2c\",\"subtype\":\"Figure\",\"type\":\"Plot\"},\"ticker\":{\"id\":\"b34f9f09-c02b-4dec-9b82-7b07f1f65cea\",\"type\":\"BasicTicker\"}},\"id\":\"75930b2e-173d-4dd9-be64-77797dfd634e\",\"type\":\"LinearAxis\"},{\"attributes\":{\"axis_label\":\"Time\",\"formatter\":{\"id\":\"b85035e3-2e88-4a66-8084-a6931d900062\",\"type\":\"DatetimeTickFormatter\"},\"plot\":{\"id\":\"a18e9477-e8f6-4137-aa2c-ada6a022b684\",\"subtype\":\"Figure\",\"type\":\"Plot\"},\"ticker\":{\"id\":\"ea29c826-67c5-42a1-ba0c-b532b95f265d\",\"type\":\"DatetimeTicker\"}},\"id\":\"9aba3f96-5142-4849-9f05-28a5d0be9b6b\",\"type\":\"DatetimeAxis\"},{\"attributes\":{},\"id\":\"d491037d-8871-44f8-b96a-2dfe98f01437\",\"type\":\"ToolEvents\"},{\"attributes\":{\"callback\":null,\"column_names\":[\"x\",\"y\"],\"data\":{\"x\":[5.869758041685876,2.050294537996982,5.673724969564729,5.493705520609242,5.936597828117185,4.4667360256449795,8.747538975053558,7.583492622425234,4.482126354346572,1.2560139437106257,1.4658603370305834,5.980435447792144,5.678105548248082,5.641157399618419,1.8483031448360636,2.1026866123651433,4.686257052728707,9.468497064399834,4.437458852924772,5.637941600178236,5.976531944856669,10.040460857166941,9.377080509775602,4.927336038861122,12.543342213664967,9.053550749702497,9.06696676016255,9.355976346881262,6.733926622101581,5.6908235488077645,3.787391257415656,8.943501144715288,10.096597395845707,12.190742378890011,8.190534493570851,5.721899762011914,7.650115555373454,2.732913143192231,4.069353778953401,4.580658855378932,7.7705359080535095,13.061254042482593],\"y\":[0.7794444444444445,0.30916666666666665,0.8727777777777778,0.9305555555555556,1.0708333333333333,0.6458333333333334,1.3022222222222222,1.08,0.6722222222222223,0.15722222222222224,0.21916666666666668,0.7944444444444444,0.6816666666666666,0.8466666666666667,0.40194444444444444,0.25722222222222224,0.6361111111111111,1.2361111111111112,0.8525,0.95,1.0794444444444444,1.3977777777777778,1.268888888888889,0.7863888888888889,2.0052777777777777,1.2952777777777778,1.2669444444444444,1.378611111111111,1.123888888888889,1.361388888888889,0.6108333333333333,1.7091666666666667,1.9522222222222223,1.7591666666666668,1.4927777777777778,1.0241666666666667,1.2275,0.37916666666666665,0.4825,0.6188888888888889,1.1588888888888889,2.089166666666667]}},\"id\":\"2b10180e-0e79-48e4-b434-87391b566a8a\",\"type\":\"ColumnDataSource\"},{\"attributes\":{\"plot\":{\"id\":\"a18e9477-e8f6-4137-aa2c-ada6a022b684\",\"subtype\":\"Figure\",\"type\":\"Plot\"}},\"id\":\"f8eed474-42a1-4496-b560-2749e15a23ee\",\"type\":\"PanTool\"},{\"attributes\":{\"days\":[1,2,3,4,5,6,7,8,9,10,11,12,13,14,15,16,17,18,19,20,21,22,23,24,25,26,27,28,29,30,31]},\"id\":\"c3dde349-0aa7-41bd-822d-fe384fd65f35\",\"type\":\"DaysTicker\"},{\"attributes\":{\"days\":[1,15]},\"id\":\"777b2355-08e8-469a-b7a1-d30db515d7b9\",\"type\":\"DaysTicker\"},{\"attributes\":{\"plot\":{\"id\":\"b384f6de-66b0-4414-bf2f-aa03220674cf\",\"subtype\":\"Figure\",\"type\":\"Plot\"}},\"id\":\"6c832edb-c5e8-496a-bdd5-9c20f12bdf13\",\"type\":\"HelpTool\"},{\"attributes\":{\"dimension\":1,\"plot\":{\"id\":\"b384f6de-66b0-4414-bf2f-aa03220674cf\",\"subtype\":\"Figure\",\"type\":\"Plot\"},\"ticker\":{\"id\":\"6c802030-9a1e-4fff-bf04-fc1db4fea06a\",\"type\":\"BasicTicker\"}},\"id\":\"b1c71894-32c1-4e39-bed5-aab9b15cb6a2\",\"type\":\"Grid\"},{\"attributes\":{\"plot\":{\"id\":\"e765d1fd-d4fe-43d6-8881-225e2fd8cb2c\",\"subtype\":\"Figure\",\"type\":\"Plot\"},\"ticker\":{\"id\":\"b34f9f09-c02b-4dec-9b82-7b07f1f65cea\",\"type\":\"BasicTicker\"}},\"id\":\"c4cb35fd-9381-4a66-933e-9f8943cadf55\",\"type\":\"Grid\"},{\"attributes\":{\"fill_color\":{\"value\":\"#1f77b4\"},\"line_color\":{\"value\":\"#1f77b4\"},\"x\":{\"field\":\"x\"},\"y\":{\"field\":\"y\"}},\"id\":\"0dc0726b-406c-4299-b74e-bd4cc2fa6053\",\"type\":\"Circle\"},{\"attributes\":{\"max_interval\":500.0,\"num_minor_ticks\":0},\"id\":\"72403e28-d0af-430c-af5b-2e27b1934dc3\",\"type\":\"AdaptiveTicker\"},{\"attributes\":{\"plot\":{\"id\":\"8a0e04f0-1b56-4383-93da-73ef9933ab80\",\"subtype\":\"Figure\",\"type\":\"Plot\"}},\"id\":\"9abf5aec-48a3-4457-8ca2-8509aa98c4eb\",\"type\":\"ResetTool\"},{\"attributes\":{\"months\":[0,2,4,6,8,10]},\"id\":\"6dc7634e-831c-4106-9e6a-4358ddfe8dbf\",\"type\":\"MonthsTicker\"},{\"attributes\":{\"plot\":{\"id\":\"e765d1fd-d4fe-43d6-8881-225e2fd8cb2c\",\"subtype\":\"Figure\",\"type\":\"Plot\"}},\"id\":\"95b97119-d69b-497c-a9be-ff8b5024e66b\",\"type\":\"PreviewSaveTool\"}],\"root_ids\":[\"a18e9477-e8f6-4137-aa2c-ada6a022b684\",\"8a0e04f0-1b56-4383-93da-73ef9933ab80\",\"b384f6de-66b0-4414-bf2f-aa03220674cf\",\"e765d1fd-d4fe-43d6-8881-225e2fd8cb2c\"]},\"title\":\"Bokeh Application\",\"version\":\"0.11.1\"}};\n",
       "            var render_items = [{\"docid\":\"01a591d9-b194-427e-80cc-3d8457d9fb90\",\"elementid\":\"5287dea9-864a-4747-9b97-933def67d0e4\",\"modelid\":\"e765d1fd-d4fe-43d6-8881-225e2fd8cb2c\",\"notebook_comms_target\":\"ebbd794b-36a0-4c7d-b6df-78014df16d00\"}];\n",
       "            \n",
       "            Bokeh.embed.embed_items(docs_json, render_items);\n",
       "        });\n",
       "      },\n",
       "      function(Bokeh) {\n",
       "      }\n",
       "    ];\n",
       "  \n",
       "    function run_inline_js() {\n",
       "      for (var i = 0; i < inline_js.length; i++) {\n",
       "        inline_js[i](window.Bokeh);\n",
       "      }\n",
       "    }\n",
       "  \n",
       "    if (window._bokeh_is_loading === 0) {\n",
       "      console.log(\"Bokeh: BokehJS loaded, going straight to plotting\");\n",
       "      run_inline_js();\n",
       "    } else {\n",
       "      load_libs(js_urls, function() {\n",
       "        console.log(\"Bokeh: BokehJS plotting callback run at\", now());\n",
       "        run_inline_js();\n",
       "      });\n",
       "    }\n",
       "  }(this));\n",
       "</script>"
      ]
     },
     "metadata": {},
     "output_type": "display_data"
    },
    {
     "data": {
      "text/html": [
       "<p><code>&lt;Bokeh Notebook handle for <strong>In[20]</strong>&gt;</code></p>"
      ],
      "text/plain": [
       "<bokeh.io._CommsHandle at 0x7f3d239c51d0>"
      ]
     },
     "execution_count": 20,
     "metadata": {},
     "output_type": "execute_result"
    }
   ],
   "source": [
    "p = figure(\n",
    "    title=\"Speeds \", \n",
    "    background_fill_color=\"#E8DDCB\",\n",
    "    x_axis_label='Distance (km)', \n",
    "    y_axis_label='Time in hours',\n",
    ")\n",
    "\n",
    "distances = [r.distance_total / 1000 for r in all_runs]\n",
    "times = [r.time_total_s / 3600 for r in all_runs]\n",
    "\n",
    "p.circle(distances, times)\n",
    "show(p)"
   ]
  },
  {
   "cell_type": "markdown",
   "metadata": {},
   "source": [
    "On the graph above you can see that I have overall very stable speed, which is kind of disturbing - I am not improving at all. :( Lets add trendline to this graph. "
   ]
  },
  {
   "cell_type": "code",
   "execution_count": 21,
   "metadata": {
    "collapsed": false
   },
   "outputs": [
    {
     "data": {
      "text/html": [
       "\n",
       "\n",
       "    <div class=\"plotdiv\" id=\"f73528d2-c9f5-4ede-ab67-614034317acc\"></div>\n",
       "<script type=\"text/javascript\">\n",
       "  \n",
       "  (function(global) {\n",
       "    function now() {\n",
       "      return new Date();\n",
       "    }\n",
       "  \n",
       "    if (typeof (window._bokeh_onload_callbacks) === \"undefined\") {\n",
       "      window._bokeh_onload_callbacks = [];\n",
       "    }\n",
       "  \n",
       "    function run_callbacks() {\n",
       "      window._bokeh_onload_callbacks.forEach(function(callback) { callback() });\n",
       "      delete window._bokeh_onload_callbacks\n",
       "      console.info(\"Bokeh: all callbacks have finished\");\n",
       "    }\n",
       "  \n",
       "    function load_libs(js_urls, callback) {\n",
       "      window._bokeh_onload_callbacks.push(callback);\n",
       "      if (window._bokeh_is_loading > 0) {\n",
       "        console.log(\"Bokeh: BokehJS is being loaded, scheduling callback at\", now());\n",
       "        return null;\n",
       "      }\n",
       "      if (js_urls == null || js_urls.length === 0) {\n",
       "        run_callbacks();\n",
       "        return null;\n",
       "      }\n",
       "      console.log(\"Bokeh: BokehJS not loaded, scheduling load and callback at\", now());\n",
       "      window._bokeh_is_loading = js_urls.length;\n",
       "      for (var i = 0; i < js_urls.length; i++) {\n",
       "        var url = js_urls[i];\n",
       "        var s = document.createElement('script');\n",
       "        s.src = url;\n",
       "        s.async = false;\n",
       "        s.onreadystatechange = s.onload = function() {\n",
       "          window._bokeh_is_loading--;\n",
       "          if (window._bokeh_is_loading === 0) {\n",
       "            console.log(\"Bokeh: all BokehJS libraries loaded\");\n",
       "            run_callbacks()\n",
       "          }\n",
       "        };\n",
       "        s.onerror = function() {\n",
       "          console.warn(\"failed to load library \" + url);\n",
       "        };\n",
       "        console.log(\"Bokeh: injecting script tag for BokehJS library: \", url);\n",
       "        document.getElementsByTagName(\"head\")[0].appendChild(s);\n",
       "      }\n",
       "    };var element = document.getElementById(\"f73528d2-c9f5-4ede-ab67-614034317acc\");\n",
       "    if (element == null) {\n",
       "      console.log(\"Bokeh: ERROR: autoload.js configured with elementid 'f73528d2-c9f5-4ede-ab67-614034317acc' but no matching script tag was found. \")\n",
       "      return false;\n",
       "    }\n",
       "  \n",
       "    var js_urls = [];\n",
       "  \n",
       "    var inline_js = [\n",
       "      function(Bokeh) {\n",
       "        Bokeh.$(function() {\n",
       "            var docs_json = {\"4288495e-14d1-411b-9e77-45766fb4cd1c\":{\"roots\":{\"references\":[{\"attributes\":{\"plot\":{\"id\":\"a18e9477-e8f6-4137-aa2c-ada6a022b684\",\"subtype\":\"Figure\",\"type\":\"Plot\"}},\"id\":\"57581b32-76d8-4a68-846f-66d55a42efa7\",\"type\":\"WheelZoomTool\"},{\"attributes\":{\"callback\":null,\"column_names\":[\"x\",\"y\"],\"data\":{\"x\":[1465328243000.0,1428148529000.0,1463844198000.0,1415554211000.0,1414697951000.0,1434131854000.0,1425920018000.0,1439056606000.0,1438106993000.0,1410246399000.0,1410099387000.0,1436643161000.0,1462128356000.0,1466880893000.0,1443172413000.0,1424372257000.0,1464635172000.0,1438457322000.0,1420981616000.0,1412445070000.0,1431286224000.0,1465587240000.0,1444075724000.0,1428233258000.0,1425674543000.0,1426191183000.0,1426607916000.0,1459889614000.0,1422467747000.0,1465060160000.0,1418056433000.0,1466349240000.0,1420741859000.0,1440791953000.0,1421776526000.0,1411542030000.0,1446030451000.0,1411201027000.0,1436301721000.0,1430762639000.0,1410547403000.0,1422038969000.0],\"y\":[7.530694565242037,6.6316804463514245,6.500766992499371,5.903683544535305,5.543904586568578,6.9162364268051295,6.717393410877305,7.021752428171513,6.667625981672587,7.988781267417407,6.688336138542586,7.527820843374726,8.329739190583984,6.662784330257975,4.598404506848535,8.174591581549155,7.367041654944693,7.659907737492002,5.205230326011463,5.934675368608669,5.536673958179106,7.183159595747414,7.389993396495658,6.265775252525623,6.255164422938618,6.989659596596395,7.156562231217974,6.78652324174341,5.9916302124482685,4.180160125629046,6.200367679261646,5.232667661461895,5.17184840993804,6.929839343755573,5.4867741304159034,5.586883412867613,6.232273364866359,7.207683015012478,8.433893842390468,7.401423644238849,6.705160419221628,6.251896629828126]}},\"id\":\"060fb2f8-3917-4999-9ab5-2171ecee761d\",\"type\":\"ColumnDataSource\"},{\"attributes\":{\"num_minor_ticks\":5},\"id\":\"2a12ff26-cb06-4622-a31d-daac2e9146ed\",\"type\":\"DatetimeTicker\"},{\"attributes\":{\"data_source\":{\"id\":\"060fb2f8-3917-4999-9ab5-2171ecee761d\",\"type\":\"ColumnDataSource\"},\"glyph\":{\"id\":\"0dc0726b-406c-4299-b74e-bd4cc2fa6053\",\"type\":\"Circle\"},\"hover_glyph\":null,\"nonselection_glyph\":{\"id\":\"62036fc7-449a-4f73-8349-287c986a6131\",\"type\":\"Circle\"},\"selection_glyph\":null},\"id\":\"dbc21d50-ee69-4d59-b99a-319367ac9c15\",\"type\":\"GlyphRenderer\"},{\"attributes\":{\"overlay\":{\"id\":\"8203170b-b7ec-4153-a961-541137bf1c24\",\"type\":\"BoxAnnotation\"},\"plot\":{\"id\":\"8a0e04f0-1b56-4383-93da-73ef9933ab80\",\"subtype\":\"Figure\",\"type\":\"Plot\"}},\"id\":\"88e7a141-62a2-478c-90f7-62a57994e55a\",\"type\":\"BoxZoomTool\"},{\"attributes\":{\"days\":[1,8,15,22]},\"id\":\"aba14fc6-d550-4d13-9efe-723b33431d47\",\"type\":\"DaysTicker\"},{\"attributes\":{\"plot\":{\"id\":\"b384f6de-66b0-4414-bf2f-aa03220674cf\",\"subtype\":\"Figure\",\"type\":\"Plot\"}},\"id\":\"8c5f9d93-a561-4da1-9488-c399f4b51b00\",\"type\":\"ResizeTool\"},{\"attributes\":{\"axis_label\":\"Speed (km/h)\",\"formatter\":{\"id\":\"b026ea67-e1f6-40a7-8d32-2ddf812cc2d9\",\"type\":\"BasicTickFormatter\"},\"plot\":{\"id\":\"b384f6de-66b0-4414-bf2f-aa03220674cf\",\"subtype\":\"Figure\",\"type\":\"Plot\"},\"ticker\":{\"id\":\"6c802030-9a1e-4fff-bf04-fc1db4fea06a\",\"type\":\"BasicTicker\"}},\"id\":\"66312df7-ca9d-46c1-93ea-017863b0f1de\",\"type\":\"LinearAxis\"},{\"attributes\":{\"months\":[0,4,8]},\"id\":\"e6df1674-fec5-4b75-9a93-e2a7ca9f4f0e\",\"type\":\"MonthsTicker\"},{\"attributes\":{\"data_source\":{\"id\":\"caf3f700-54ea-450f-9feb-0e3f3e42a9e8\",\"type\":\"ColumnDataSource\"},\"glyph\":{\"id\":\"a5202e0e-c88e-4dbb-86a5-b9838b3a915d\",\"type\":\"Line\"},\"hover_glyph\":null,\"nonselection_glyph\":{\"id\":\"f9b7d84d-6d9e-4e73-b3b9-d86f4d21fc3f\",\"type\":\"Line\"},\"selection_glyph\":null},\"id\":\"3f161b64-43c6-4831-8203-082c3bc97644\",\"type\":\"GlyphRenderer\"},{\"attributes\":{\"plot\":{\"id\":\"8a0e04f0-1b56-4383-93da-73ef9933ab80\",\"subtype\":\"Figure\",\"type\":\"Plot\"}},\"id\":\"30a4adad-032b-4863-9020-ca860f253656\",\"type\":\"PanTool\"},{\"attributes\":{\"plot\":{\"id\":\"8a0e04f0-1b56-4383-93da-73ef9933ab80\",\"subtype\":\"Figure\",\"type\":\"Plot\"}},\"id\":\"a7173f36-8a8d-41f8-b8e7-3cae5c4c32c6\",\"type\":\"WheelZoomTool\"},{\"attributes\":{\"months\":[0,6]},\"id\":\"be69df01-3c9e-4faf-a534-8ff0a17af47f\",\"type\":\"MonthsTicker\"},{\"attributes\":{},\"id\":\"6c802030-9a1e-4fff-bf04-fc1db4fea06a\",\"type\":\"BasicTicker\"},{\"attributes\":{\"months\":[0,4,8]},\"id\":\"572fbcb2-bcba-474d-b0d6-0110038bf7d3\",\"type\":\"MonthsTicker\"},{\"attributes\":{\"months\":[0,4,8]},\"id\":\"e160b90e-2eac-4634-9c3f-66b52996dee9\",\"type\":\"MonthsTicker\"},{\"attributes\":{\"base\":60,\"mantissas\":[1,2,5,10,15,20,30],\"max_interval\":1800000.0,\"min_interval\":1000.0,\"num_minor_ticks\":0},\"id\":\"d5a9908d-6e58-46c0-8b2c-71cd1a1c54e6\",\"type\":\"AdaptiveTicker\"},{\"attributes\":{\"days\":[1,8,15,22]},\"id\":\"2fdaf689-0767-4f2a-acae-400b42156738\",\"type\":\"DaysTicker\"},{\"attributes\":{\"months\":[0,6]},\"id\":\"d69f1977-0562-4c27-b346-bf64378e0230\",\"type\":\"MonthsTicker\"},{\"attributes\":{\"callback\":null},\"id\":\"c57ba96d-108a-4d2f-9241-22e993b1d002\",\"type\":\"DataRange1d\"},{\"attributes\":{\"line_color\":{\"value\":\"#1f77b4\"},\"x\":{\"field\":\"x\"},\"y\":{\"field\":\"y\"}},\"id\":\"a5202e0e-c88e-4dbb-86a5-b9838b3a915d\",\"type\":\"Line\"},{\"attributes\":{},\"id\":\"66645fc9-6d12-4ea6-bd7b-102a8c30329f\",\"type\":\"ToolEvents\"},{\"attributes\":{\"fill_color\":{\"value\":\"#1f77b4\"},\"line_color\":{\"value\":\"#1f77b4\"},\"x\":{\"field\":\"x\"},\"y\":{\"field\":\"y\"}},\"id\":\"fc78492b-107f-4641-837f-0dcf4cd597b2\",\"type\":\"Circle\"},{\"attributes\":{\"data_source\":{\"id\":\"2b10180e-0e79-48e4-b434-87391b566a8a\",\"type\":\"ColumnDataSource\"},\"glyph\":{\"id\":\"fc78492b-107f-4641-837f-0dcf4cd597b2\",\"type\":\"Circle\"},\"hover_glyph\":null,\"nonselection_glyph\":{\"id\":\"5c5aa67b-3387-4457-9183-8566c3c9f795\",\"type\":\"Circle\"},\"selection_glyph\":null},\"id\":\"ed7092b7-e94a-4849-a377-f833cfcce035\",\"type\":\"GlyphRenderer\"},{\"attributes\":{\"base\":60,\"mantissas\":[1,2,5,10,15,20,30],\"max_interval\":1800000.0,\"min_interval\":1000.0,\"num_minor_ticks\":0},\"id\":\"c9108b81-f547-448e-8d54-b6307aa7ae67\",\"type\":\"AdaptiveTicker\"},{\"attributes\":{\"fill_alpha\":{\"value\":0.1},\"fill_color\":{\"value\":\"#1f77b4\"},\"line_alpha\":{\"value\":0.1},\"line_color\":{\"value\":\"#1f77b4\"},\"x\":{\"field\":\"x\"},\"y\":{\"field\":\"y\"}},\"id\":\"62036fc7-449a-4f73-8349-287c986a6131\",\"type\":\"Circle\"},{\"attributes\":{\"months\":[0,1,2,3,4,5,6,7,8,9,10,11]},\"id\":\"3ae27f82-7d33-4cac-b27d-6ad8da9d88f2\",\"type\":\"MonthsTicker\"},{\"attributes\":{\"line_alpha\":{\"value\":0.1},\"line_color\":{\"value\":\"#1f77b4\"},\"x\":{\"field\":\"x\"},\"y\":{\"field\":\"y\"}},\"id\":\"f9b7d84d-6d9e-4e73-b3b9-d86f4d21fc3f\",\"type\":\"Line\"},{\"attributes\":{\"overlay\":{\"id\":\"f2aeb4b1-c646-40a9-b368-cfd95d867919\",\"type\":\"BoxAnnotation\"},\"plot\":{\"id\":\"e765d1fd-d4fe-43d6-8881-225e2fd8cb2c\",\"subtype\":\"Figure\",\"type\":\"Plot\"}},\"id\":\"28afc163-f337-444a-af81-e82b11d569d7\",\"type\":\"BoxZoomTool\"},{\"attributes\":{},\"id\":\"d14560dd-8267-4cb3-9b2f-dcc5468b405d\",\"type\":\"BasicTickFormatter\"},{\"attributes\":{\"dimension\":1,\"plot\":{\"id\":\"8a0e04f0-1b56-4383-93da-73ef9933ab80\",\"subtype\":\"Figure\",\"type\":\"Plot\"},\"ticker\":{\"id\":\"1748be20-155c-46a9-ad88-511931b35cdd\",\"type\":\"BasicTicker\"}},\"id\":\"00479e65-1bd5-45de-a0f9-7b415cf0a9f5\",\"type\":\"Grid\"},{\"attributes\":{},\"id\":\"8c719ebd-2db1-4148-8343-31b7681f5dfa\",\"type\":\"YearsTicker\"},{\"attributes\":{\"plot\":{\"id\":\"b384f6de-66b0-4414-bf2f-aa03220674cf\",\"subtype\":\"Figure\",\"type\":\"Plot\"}},\"id\":\"2569c697-c25d-4c8b-920f-7abf33f21657\",\"type\":\"PanTool\"},{\"attributes\":{\"plot\":{\"id\":\"a18e9477-e8f6-4137-aa2c-ada6a022b684\",\"subtype\":\"Figure\",\"type\":\"Plot\"}},\"id\":\"35a37bf5-722c-4572-805e-5ee04cf2ad23\",\"type\":\"PreviewSaveTool\"},{\"attributes\":{\"plot\":{\"id\":\"a18e9477-e8f6-4137-aa2c-ada6a022b684\",\"subtype\":\"Figure\",\"type\":\"Plot\"}},\"id\":\"9fbccf3e-494f-4f39-acc7-fa0886869cae\",\"type\":\"ResetTool\"},{\"attributes\":{\"axis_label\":\"Time\",\"formatter\":{\"id\":\"e0f6bd0c-a2ca-4a7a-b2ab-279a36bffc2b\",\"type\":\"DatetimeTickFormatter\"},\"plot\":{\"id\":\"b384f6de-66b0-4414-bf2f-aa03220674cf\",\"subtype\":\"Figure\",\"type\":\"Plot\"},\"ticker\":{\"id\":\"2a12ff26-cb06-4622-a31d-daac2e9146ed\",\"type\":\"DatetimeTicker\"}},\"id\":\"2f703c0f-1eab-492a-b2f1-c5226dddf016\",\"type\":\"DatetimeAxis\"},{\"attributes\":{\"base\":60,\"mantissas\":[1,2,5,10,15,20,30],\"max_interval\":1800000.0,\"min_interval\":1000.0,\"num_minor_ticks\":0},\"id\":\"5db965d2-1d3a-40e2-a8e0-3b2f0d7ef372\",\"type\":\"AdaptiveTicker\"},{\"attributes\":{\"overlay\":{\"id\":\"e79af1fc-d423-4ee8-a6e7-53a328de099a\",\"type\":\"BoxAnnotation\"},\"plot\":{\"id\":\"b384f6de-66b0-4414-bf2f-aa03220674cf\",\"subtype\":\"Figure\",\"type\":\"Plot\"}},\"id\":\"ade454d6-b221-41cb-be64-fdfc81769833\",\"type\":\"BoxZoomTool\"},{\"attributes\":{\"axis_label\":\"Time\",\"formatter\":{\"id\":\"1ca5026e-c14f-41a7-80db-66c8948c1948\",\"type\":\"DatetimeTickFormatter\"},\"plot\":{\"id\":\"8a0e04f0-1b56-4383-93da-73ef9933ab80\",\"subtype\":\"Figure\",\"type\":\"Plot\"},\"ticker\":{\"id\":\"aa3f6f9c-054a-45d6-aae2-4900ed14b4b4\",\"type\":\"DatetimeTicker\"}},\"id\":\"0c3acbed-9231-4a6e-88ed-cce968f25906\",\"type\":\"DatetimeAxis\"},{\"attributes\":{\"max_interval\":500.0,\"num_minor_ticks\":0},\"id\":\"5dddff9b-23d8-4a73-abc2-81bc17d14c98\",\"type\":\"AdaptiveTicker\"},{\"attributes\":{\"axis_label\":\"Elevation (m)\",\"formatter\":{\"id\":\"9ef15a0d-8af0-4391-b741-ba2087f9fdb9\",\"type\":\"BasicTickFormatter\"},\"plot\":{\"id\":\"a18e9477-e8f6-4137-aa2c-ada6a022b684\",\"subtype\":\"Figure\",\"type\":\"Plot\"},\"ticker\":{\"id\":\"7f4659ee-a7c4-479a-923d-635d3276e9ea\",\"type\":\"BasicTicker\"}},\"id\":\"fef7c37c-3d64-4363-85f0-3742c85216e6\",\"type\":\"LinearAxis\"},{\"attributes\":{\"base\":24,\"mantissas\":[1,2,4,6,8,12],\"max_interval\":43200000.0,\"min_interval\":3600000.0,\"num_minor_ticks\":0},\"id\":\"46b684c2-2d5f-4586-8e07-4371790478c5\",\"type\":\"AdaptiveTicker\"},{\"attributes\":{\"days\":[1,2,3,4,5,6,7,8,9,10,11,12,13,14,15,16,17,18,19,20,21,22,23,24,25,26,27,28,29,30,31]},\"id\":\"2a6a46ea-12c2-4467-bac6-bca999f6522d\",\"type\":\"DaysTicker\"},{\"attributes\":{},\"id\":\"7f4659ee-a7c4-479a-923d-635d3276e9ea\",\"type\":\"BasicTicker\"},{\"attributes\":{\"plot\":{\"id\":\"8a0e04f0-1b56-4383-93da-73ef9933ab80\",\"subtype\":\"Figure\",\"type\":\"Plot\"}},\"id\":\"4e310650-8472-4f52-aa49-ff3ab59c0fe4\",\"type\":\"ResizeTool\"},{\"attributes\":{\"num_minor_ticks\":5},\"id\":\"ea29c826-67c5-42a1-ba0c-b532b95f265d\",\"type\":\"DatetimeTicker\"},{\"attributes\":{\"months\":[0,1,2,3,4,5,6,7,8,9,10,11]},\"id\":\"34d76a54-1ebb-4d55-a673-6033fbfa6065\",\"type\":\"MonthsTicker\"},{\"attributes\":{\"months\":[0,2,4,6,8,10]},\"id\":\"737a4f7b-7bbd-4a12-9675-4d4c9fe907e7\",\"type\":\"MonthsTicker\"},{\"attributes\":{},\"id\":\"b026ea67-e1f6-40a7-8d32-2ddf812cc2d9\",\"type\":\"BasicTickFormatter\"},{\"attributes\":{\"line_alpha\":{\"value\":0.1},\"line_color\":{\"value\":\"#1f77b4\"},\"x\":{\"field\":\"x\"},\"y\":{\"field\":\"y\"}},\"id\":\"db294f5a-f720-4ab8-9f9f-227246020377\",\"type\":\"Line\"},{\"attributes\":{\"callback\":null},\"id\":\"da1751f9-37cf-44fc-b4e4-623ddc10f414\",\"type\":\"DataRange1d\"},{\"attributes\":{\"callback\":null},\"id\":\"8b611378-6865-41ff-a185-32b7ec696c25\",\"type\":\"DataRange1d\"},{\"attributes\":{\"line_color\":{\"value\":\"#1f77b4\"},\"x\":{\"field\":\"x\"},\"y\":{\"field\":\"y\"}},\"id\":\"0810e3f9-60c9-4ef8-b57f-5d7d01c1e4fa\",\"type\":\"Line\"},{\"attributes\":{\"plot\":{\"id\":\"8a0e04f0-1b56-4383-93da-73ef9933ab80\",\"subtype\":\"Figure\",\"type\":\"Plot\"},\"ticker\":{\"id\":\"aa3f6f9c-054a-45d6-aae2-4900ed14b4b4\",\"type\":\"DatetimeTicker\"}},\"id\":\"3f50426a-7d1d-46b2-af4b-8b88300961d7\",\"type\":\"Grid\"},{\"attributes\":{},\"id\":\"8ea63fce-a0ec-4ebd-97f5-05bd07f41c23\",\"type\":\"YearsTicker\"},{\"attributes\":{\"max_interval\":500.0,\"num_minor_ticks\":0},\"id\":\"c430668b-5fe4-43d9-8ee7-2ac8a9be3fcf\",\"type\":\"AdaptiveTicker\"},{\"attributes\":{\"plot\":{\"id\":\"e765d1fd-d4fe-43d6-8881-225e2fd8cb2c\",\"subtype\":\"Figure\",\"type\":\"Plot\"}},\"id\":\"acc72b56-ae3f-4712-9cfe-b7922ada2b19\",\"type\":\"HelpTool\"},{\"attributes\":{},\"id\":\"b85035e3-2e88-4a66-8084-a6931d900062\",\"type\":\"DatetimeTickFormatter\"},{\"attributes\":{\"base\":24,\"mantissas\":[1,2,4,6,8,12],\"max_interval\":43200000.0,\"min_interval\":3600000.0,\"num_minor_ticks\":0},\"id\":\"3e83dbeb-e68c-4dd7-b5d1-9a4f67981f0a\",\"type\":\"AdaptiveTicker\"},{\"attributes\":{\"bottom_units\":\"screen\",\"fill_alpha\":{\"value\":0.5},\"fill_color\":{\"value\":\"lightgrey\"},\"left_units\":\"screen\",\"level\":\"overlay\",\"line_alpha\":{\"value\":1.0},\"line_color\":{\"value\":\"black\"},\"line_dash\":[4,4],\"line_width\":{\"value\":2},\"plot\":null,\"render_mode\":\"css\",\"right_units\":\"screen\",\"top_units\":\"screen\"},\"id\":\"e79af1fc-d423-4ee8-a6e7-53a328de099a\",\"type\":\"BoxAnnotation\"},{\"attributes\":{\"bottom_units\":\"screen\",\"fill_alpha\":{\"value\":0.5},\"fill_color\":{\"value\":\"lightgrey\"},\"left_units\":\"screen\",\"level\":\"overlay\",\"line_alpha\":{\"value\":1.0},\"line_color\":{\"value\":\"black\"},\"line_dash\":[4,4],\"line_width\":{\"value\":2},\"plot\":null,\"render_mode\":\"css\",\"right_units\":\"screen\",\"top_units\":\"screen\"},\"id\":\"5316dccd-9827-40f7-a3da-f53623089dba\",\"type\":\"BoxAnnotation\"},{\"attributes\":{\"callback\":null},\"id\":\"580ad038-6b70-4930-aef9-70dabac4f71f\",\"type\":\"DataRange1d\"},{\"attributes\":{\"dimension\":1,\"plot\":{\"id\":\"a18e9477-e8f6-4137-aa2c-ada6a022b684\",\"subtype\":\"Figure\",\"type\":\"Plot\"},\"ticker\":{\"id\":\"7f4659ee-a7c4-479a-923d-635d3276e9ea\",\"type\":\"BasicTicker\"}},\"id\":\"4eb5d7a9-8613-465e-86f1-9972192260e6\",\"type\":\"Grid\"},{\"attributes\":{\"base\":24,\"mantissas\":[1,2,4,6,8,12],\"max_interval\":43200000.0,\"min_interval\":3600000.0,\"num_minor_ticks\":0},\"id\":\"24d232c7-b0b0-4476-8755-805f2a65ef25\",\"type\":\"AdaptiveTicker\"},{\"attributes\":{},\"id\":\"1c558538-6ea8-48b1-b20f-d767b99986b4\",\"type\":\"YearsTicker\"},{\"attributes\":{\"callback\":null,\"column_names\":[\"x\",\"y\"],\"data\":{\"x\":[1466880893000.0,1466880895000.0,1466880898000.0,1466880911000.0,1466880918000.0,1466880929000.0,1466880933000.0,1466880936000.0,1466880939000.0,1466880942000.0,1466880945000.0,1466880948000.0,1466880951000.0,1466880954000.0,1466880957000.0,1466880960000.0,1466880964000.0,1466880967000.0,1466880970000.0,1466880973000.0,1466880976000.0,1466880980000.0,1466880983000.0,1466880987000.0,1466880991000.0,1466880995000.0,1466880999000.0,1466881003000.0,1466881006000.0,1466881009000.0,1466881012000.0,1466881015000.0,1466881018000.0,1466881021000.0,1466881024000.0,1466881027000.0,1466881031000.0,1466881034000.0,1466881038000.0,1466881071000.0,1466881074000.0,1466881077000.0,1466881080000.0,1466881082000.0,1466881085000.0,1466881088000.0,1466881091000.0,1466881094000.0,1466881097000.0,1466881100000.0,1466881103000.0,1466881106000.0,1466881109000.0,1466881112000.0,1466881116000.0,1466881138000.0,1466881141000.0,1466881144000.0,1466881147000.0,1466881150000.0,1466881153000.0,1466881156000.0,1466881159000.0,1466881162000.0,1466881165000.0,1466881168000.0,1466881171000.0,1466881175000.0,1466881178000.0,1466881181000.0,1466881184000.0,1466881187000.0,1466881190000.0,1466881193000.0,1466881196000.0,1466881200000.0,1466881214000.0,1466881222000.0,1466881226000.0,1466881229000.0,1466881232000.0,1466881235000.0,1466881238000.0,1466881241000.0,1466881244000.0,1466881247000.0,1466881250000.0,1466881253000.0,1466881256000.0,1466881259000.0,1466881262000.0,1466881265000.0,1466881268000.0,1466881271000.0,1466881274000.0,1466881285000.0,1466881301000.0,1466881304000.0,1466881307000.0,1466881309000.0,1466881312000.0,1466881315000.0,1466881318000.0,1466881322000.0,1466881325000.0,1466881328000.0,1466881331000.0,1466881335000.0,1466881350000.0,1466881358000.0,1466881361000.0,1466881364000.0,1466881367000.0,1466881370000.0,1466881373000.0,1466881376000.0,1466881379000.0,1466881383000.0,1466881386000.0,1466881389000.0,1466881392000.0,1466881396000.0,1466881400000.0,1466881403000.0,1466881406000.0,1466881409000.0,1466881412000.0,1466881437000.0,1466881447000.0,1466881451000.0,1466881454000.0,1466881457000.0,1466881460000.0,1466881463000.0,1466881466000.0,1466881469000.0,1466881472000.0,1466881475000.0,1466881478000.0,1466881480000.0,1466881483000.0,1466881486000.0,1466881489000.0,1466881492000.0,1466881495000.0,1466881498000.0,1466881501000.0,1466881504000.0,1466881507000.0,1466881510000.0,1466881513000.0,1466881516000.0,1466881520000.0,1466881523000.0,1466881526000.0,1466881530000.0,1466881534000.0,1466881544000.0,1466881556000.0,1466881564000.0,1466881571000.0,1466881578000.0,1466881586000.0,1466881597000.0,1466881604000.0,1466881613000.0,1466881621000.0,1466881624000.0,1466881627000.0,1466881631000.0,1466881635000.0,1466881639000.0,1466881643000.0,1466881647000.0,1466881651000.0,1466881655000.0,1466881659000.0,1466881663000.0,1466881683000.0,1466881690000.0,1466881694000.0,1466881698000.0,1466881702000.0,1466881707000.0,1466881712000.0,1466881717000.0,1466881722000.0,1466881726000.0,1466881732000.0,1466881737000.0,1466881741000.0,1466881746000.0,1466881751000.0,1466881759000.0,1466881769000.0,1466881780000.0,1466881789000.0,1466881797000.0,1466881807000.0,1466881813000.0,1466881817000.0,1466881821000.0,1466881826000.0,1466881868000.0,1466881872000.0,1466881877000.0,1466881881000.0,1466881885000.0,1466881889000.0,1466881893000.0,1466881897000.0,1466881903000.0,1466881908000.0,1466881913000.0,1466881919000.0,1466881945000.0,1466881957000.0,1466881961000.0,1466881965000.0,1466881970000.0,1466881997000.0,1466882002000.0,1466882040000.0,1466882045000.0,1466882050000.0,1466882056000.0,1466882061000.0,1466882067000.0,1466882072000.0,1466882076000.0,1466882080000.0,1466882083000.0,1466882087000.0,1466882092000.0,1466882097000.0,1466882102000.0,1466882107000.0,1466882111000.0,1466882144000.0,1466882166000.0,1466882175000.0,1466882183000.0,1466882222000.0,1466882326000.0,1466882332000.0,1466882336000.0,1466882339000.0,1466882342000.0,1466882345000.0,1466882348000.0,1466882352000.0,1466882356000.0,1466882360000.0,1466882364000.0,1466882368000.0,1466882373000.0,1466882378000.0,1466882383000.0,1466882387000.0,1466882391000.0,1466882395000.0,1466882399000.0,1466882404000.0,1466882420000.0,1466882424000.0,1466882428000.0,1466882432000.0,1466882436000.0,1466882441000.0,1466882446000.0,1466882452000.0,1466882456000.0,1466882460000.0,1466882464000.0,1466882468000.0,1466882472000.0,1466882476000.0,1466882480000.0,1466882485000.0,1466882490000.0,1466882494000.0,1466882500000.0,1466882506000.0,1466882511000.0,1466882518000.0,1466882527000.0,1466882540000.0,1466882545000.0,1466882550000.0,1466882555000.0,1466882562000.0,1466882568000.0,1466882573000.0,1466882578000.0,1466882584000.0,1466882589000.0,1466882604000.0,1466882643000.0,1466882654000.0,1466882662000.0,1466882666000.0,1466882669000.0,1466882673000.0,1466882677000.0,1466882681000.0,1466882687000.0,1466882692000.0,1466882697000.0,1466882732000.0,1466882737000.0,1466882743000.0,1466882748000.0,1466882752000.0,1466882758000.0,1466882764000.0,1466882770000.0,1466882799000.0,1466882803000.0,1466882806000.0,1466882809000.0,1466882812000.0,1466882816000.0,1466882820000.0,1466882824000.0,1466882829000.0,1466882832000.0,1466882835000.0,1466882839000.0,1466882842000.0,1466882846000.0,1466882850000.0,1466882854000.0,1466882858000.0,1466882863000.0,1466882867000.0,1466882871000.0,1466882876000.0,1466882883000.0,1466882892000.0,1466882902000.0,1466882933000.0,1466882937000.0,1466882941000.0,1466882945000.0,1466882949000.0,1466882953000.0,1466882957000.0,1466882961000.0,1466882965000.0,1466882969000.0,1466882993000.0,1466882997000.0,1466883001000.0,1466883005000.0,1466883009000.0,1466883014000.0,1466883019000.0,1466883024000.0,1466883028000.0,1466883032000.0,1466883036000.0,1466883040000.0,1466883044000.0,1466883048000.0,1466883052000.0,1466883057000.0,1466883062000.0,1466883082000.0,1466883098000.0,1466883102000.0,1466883106000.0,1466883109000.0,1466883112000.0,1466883116000.0,1466883120000.0,1466883124000.0,1466883129000.0,1466883135000.0,1466883142000.0,1466883150000.0,1466883161000.0,1466883169000.0,1466883174000.0,1466883179000.0,1466883183000.0,1466883186000.0,1466883189000.0,1466883193000.0,1466883196000.0,1466883199000.0,1466883203000.0,1466883209000.0,1466883213000.0,1466883217000.0,1466883221000.0,1466883225000.0,1466883229000.0,1466883233000.0,1466883238000.0,1466883243000.0,1466883247000.0,1466883250000.0,1466883253000.0,1466883257000.0,1466883260000.0,1466883264000.0,1466883269000.0,1466883274000.0,1466883296000.0,1466883301000.0,1466883304000.0,1466883308000.0,1466883314000.0,1466883319000.0,1466883323000.0,1466883326000.0,1466883329000.0,1466883333000.0,1466883337000.0,1466883341000.0,1466883345000.0,1466883349000.0,1466883353000.0,1466883358000.0,1466883363000.0,1466883368000.0,1466883374000.0,1466883380000.0,1466883385000.0,1466883390000.0,1466883394000.0,1466883399000.0,1466883413000.0,1466883430000.0,1466883439000.0,1466883448000.0,1466883452000.0,1466883456000.0,1466883460000.0,1466883464000.0,1466883468000.0,1466883473000.0,1466883478000.0,1466883483000.0,1466883489000.0,1466883494000.0,1466883498000.0,1466883502000.0,1466883507000.0,1466883513000.0,1466883518000.0,1466883523000.0,1466883558000.0,1466883562000.0,1466883566000.0,1466883570000.0,1466883574000.0,1466883578000.0,1466883582000.0,1466883587000.0,1466883592000.0,1466883598000.0,1466883605000.0,1466883612000.0,1466883620000.0,1466883630000.0,1466883642000.0,1466883650000.0,1466883659000.0,1466883667000.0,1466883676000.0,1466883684000.0,1466883692000.0,1466883700000.0,1466883709000.0,1466883719000.0,1466883728000.0,1466883736000.0,1466883743000.0,1466883753000.0,1466883763000.0,1466883772000.0,1466883781000.0,1466883789000.0,1466883799000.0,1466883807000.0,1466883817000.0,1466883828000.0,1466883836000.0,1466883844000.0,1466883852000.0,1466883861000.0,1466883871000.0,1466883879000.0,1466883888000.0,1466883897000.0,1466883904000.0,1466883915000.0,1466883941000.0],\"y\":[327.0,326.7,326.5,326.3,325.9,325.5,325.0,324.5,323.9,323.2,322.7,322.3,321.8,321.4,320.9,320.5,320.2,319.8,319.5,319.1,318.9,318.7,318.5,318.4,318.2,318.0,318.0,318.0,318.0,318.0,317.3,316.5,315.8,315.1,314.4,313.6,312.9,312.2,311.5,310.7,310.0,309.4,308.7,308.1,307.5,306.8,306.2,305.5,304.9,304.0,303.1,302.2,301.9,301.6,301.4,301.0,300.6,300.3,299.7,299.2,298.9,298.6,298.4,298.1,297.8,297.5,297.1,296.6,296.2,295.9,295.6,295.3,294.9,294.5,294.2,293.8,293.5,293.4,293.3,293.2,293.1,293.0,292.9,292.5,292.2,291.8,291.5,291.1,290.7,290.4,290.0,289.6,289.4,289.2,289.3,289.4,289.5,289.5,289.6,289.7,289.6,289.5,289.5,289.3,289.1,288.9,288.7,288.5,288.3,288.0,287.7,287.6,287.5,287.5,287.4,287.3,286.9,286.5,286.2,285.7,285.3,284.8,284.4,283.9,283.5,283.0,282.5,282.4,282.2,282.0,282.0,282.0,282.0,281.8,281.6,281.5,281.2,280.9,280.5,280.2,279.8,279.5,279.1,278.7,278.5,278.2,277.9,277.7,277.5,277.5,277.4,277.3,277.0,276.7,276.5,276.3,276.1,275.9,275.7,275.5,275.4,275.2,275.0,275.0,275.0,275.0,275.0,275.2,275.4,275.5,275.7,275.9,276.1,276.3,276.5,276.6,276.8,277.2,277.4,277.5,277.7,277.9,278.1,278.3,278.5,278.6,279.0,279.4,279.5,279.7,279.9,280.1,280.3,280.5,280.6,280.8,281.1,281.4,281.6,281.9,282.2,282.5,282.7,283.0,283.3,283.7,284.5,285.1,285.5,286.0,286.5,286.9,287.4,287.8,288.7,289.6,290.4,290.8,291.6,292.5,293.3,294.1,294.9,295.9,296.9,297.5,298.0,298.5,299.1,299.5,299.8,300.4,300.9,301.5,301.8,302.2,302.5,302.9,303.3,303.6,303.8,304.0,304.0,304.0,304.3,304.5,304.8,305.1,305.4,305.6,305.9,306.2,306.5,306.7,307.0,307.0,307.4,307.7,308.1,308.5,309.0,309.5,309.9,310.4,310.8,311.3,311.7,311.8,311.9,312.0,312.0,312.0,312.3,312.5,312.8,313.1,313.4,313.8,314.3,314.7,315.2,315.6,316.1,316.3,316.6,317.0,317.4,318.2,318.8,319.5,320.1,320.9,321.7,322.5,323.4,324.0,324.6,325.3,325.6,326.0,326.7,327.5,328.0,328.5,329.1,329.6,330.5,331.3,332.1,332.7,333.4,333.6,333.6,333.6,333.6,333.6,333.6,333.4,332.9,332.5,332.0,331.5,331.1,330.9,330.5,330.2,329.8,329.5,329.1,328.9,328.7,328.5,328.4,328.2,328.0,328.0,328.0,328.0,328.0,328.0,328.1,328.2,328.3,328.4,328.5,328.5,328.6,328.7,328.8,328.9,329.0,328.9,328.8,328.7,328.6,328.5,328.5,328.4,328.3,328.2,328.1,328.0,328.0,328.0,328.0,328.0,328.0,328.0,328.0,328.0,328.0,327.7,327.5,327.2,326.9,326.6,326.4,325.9,325.5,325.0,324.5,324.1,323.9,323.2,322.5,321.7,321.0,321.2,321.5,321.4,321.2,321.0,320.8,320.6,321.0,320.6,320.3,319.9,318.6,317.4,316.0,314.6,313.3,311.9,310.5,309.2,308.5,307.7,307.0,306.3,305.5,305.4,305.2,305.0,304.8,304.6,304.5,304.5,304.5,304.5,304.5,304.5,304.6,304.8,305.0,305.2,305.4,305.5,305.8,306.1,306.4,306.6,306.9,307.2,307.5,307.7,308.0,308.3,308.5,308.9,309.3,309.6,310.0,310.4,310.8,311.3,311.7,312.2,312.6,313.1,313.5,313.8,314.2,314.0,314.4,314.7,315.1,315.5,315.8,316.2,316.5,316.7,316.9,317.1,317.8,318.0,318.0,318.0,318.0,318.0,318.0,318.0,318.0,318.2,318.4,318.5,318.7,318.9,319.1,319.5,319.8,320.2,320.5,320.9,321.4,321.8,322.3,322.7,323.2,323.6,324.2,324.7,325.3,325.8,326.2,326.3,326.5,326.7,327.0]}},\"id\":\"caf3f700-54ea-450f-9feb-0e3f3e42a9e8\",\"type\":\"ColumnDataSource\"},{\"attributes\":{\"background_fill_color\":{\"value\":\"#E8DDCB\"},\"below\":[{\"id\":\"9aba3f96-5142-4849-9f05-28a5d0be9b6b\",\"type\":\"DatetimeAxis\"}],\"left\":[{\"id\":\"fef7c37c-3d64-4363-85f0-3742c85216e6\",\"type\":\"LinearAxis\"}],\"renderers\":[{\"id\":\"9aba3f96-5142-4849-9f05-28a5d0be9b6b\",\"type\":\"DatetimeAxis\"},{\"id\":\"4b28882f-a29b-49d1-8f9c-450ea4aa7b0a\",\"type\":\"Grid\"},{\"id\":\"fef7c37c-3d64-4363-85f0-3742c85216e6\",\"type\":\"LinearAxis\"},{\"id\":\"4eb5d7a9-8613-465e-86f1-9972192260e6\",\"type\":\"Grid\"},{\"id\":\"5316dccd-9827-40f7-a3da-f53623089dba\",\"type\":\"BoxAnnotation\"},{\"id\":\"3f161b64-43c6-4831-8203-082c3bc97644\",\"type\":\"GlyphRenderer\"}],\"title\":\"Elevation from last night run\",\"tool_events\":{\"id\":\"d491037d-8871-44f8-b96a-2dfe98f01437\",\"type\":\"ToolEvents\"},\"tools\":[{\"id\":\"f8eed474-42a1-4496-b560-2749e15a23ee\",\"type\":\"PanTool\"},{\"id\":\"57581b32-76d8-4a68-846f-66d55a42efa7\",\"type\":\"WheelZoomTool\"},{\"id\":\"3c7da2a0-14ee-4555-8fab-86947a5a7ef3\",\"type\":\"BoxZoomTool\"},{\"id\":\"35a37bf5-722c-4572-805e-5ee04cf2ad23\",\"type\":\"PreviewSaveTool\"},{\"id\":\"387ae7b2-e9fc-4c77-a3d8-a1549b54d6dc\",\"type\":\"ResizeTool\"},{\"id\":\"9fbccf3e-494f-4f39-acc7-fa0886869cae\",\"type\":\"ResetTool\"},{\"id\":\"a4cbdf63-22ce-4af7-b066-2012508b3609\",\"type\":\"HelpTool\"}],\"x_range\":{\"id\":\"b2e414df-935c-4a49-afe2-cb1c6e60218b\",\"type\":\"DataRange1d\"},\"y_range\":{\"id\":\"3b936054-9e81-4597-9d7b-581e5a906a1d\",\"type\":\"DataRange1d\"}},\"id\":\"a18e9477-e8f6-4137-aa2c-ada6a022b684\",\"subtype\":\"Figure\",\"type\":\"Plot\"},{\"attributes\":{},\"id\":\"bb18c9a2-2cbc-41e6-99a2-b04e912ba62f\",\"type\":\"BasicTickFormatter\"},{\"attributes\":{\"plot\":{\"id\":\"a18e9477-e8f6-4137-aa2c-ada6a022b684\",\"subtype\":\"Figure\",\"type\":\"Plot\"},\"ticker\":{\"id\":\"ea29c826-67c5-42a1-ba0c-b532b95f265d\",\"type\":\"DatetimeTicker\"}},\"id\":\"4b28882f-a29b-49d1-8f9c-450ea4aa7b0a\",\"type\":\"Grid\"},{\"attributes\":{\"fill_color\":{\"value\":\"#1f77b4\"},\"line_color\":{\"value\":\"#1f77b4\"},\"x\":{\"field\":\"x\"},\"y\":{\"field\":\"y\"}},\"id\":\"7f27e8a4-c15b-4439-9110-22b41798b411\",\"type\":\"Circle\"},{\"attributes\":{\"days\":[1,4,7,10,13,16,19,22,25,28]},\"id\":\"237d47d3-082c-4917-9fe1-c35424b44e41\",\"type\":\"DaysTicker\"},{\"attributes\":{\"days\":[1,2,3,4,5,6,7,8,9,10,11,12,13,14,15,16,17,18,19,20,21,22,23,24,25,26,27,28,29,30,31]},\"id\":\"83187b6e-70f3-47d1-856b-f1db6678d12d\",\"type\":\"DaysTicker\"},{\"attributes\":{},\"id\":\"1748be20-155c-46a9-ad88-511931b35cdd\",\"type\":\"BasicTicker\"},{\"attributes\":{\"plot\":{\"id\":\"e765d1fd-d4fe-43d6-8881-225e2fd8cb2c\",\"subtype\":\"Figure\",\"type\":\"Plot\"}},\"id\":\"b912aabf-432a-4903-8c1a-1a24a28aad05\",\"type\":\"ResetTool\"},{\"attributes\":{\"days\":[1,15]},\"id\":\"bf311781-60b9-4636-87fa-29cc5e000fc7\",\"type\":\"DaysTicker\"},{\"attributes\":{},\"id\":\"9ef15a0d-8af0-4391-b741-ba2087f9fdb9\",\"type\":\"BasicTickFormatter\"},{\"attributes\":{\"days\":[1,4,7,10,13,16,19,22,25,28]},\"id\":\"711df738-bc0c-4b3c-8fcc-252800cc3e82\",\"type\":\"DaysTicker\"},{\"attributes\":{\"callback\":null,\"column_names\":[\"x\",\"y\"],\"data\":{\"x\":[1465328243000.0,1428148529000.0,1463844198000.0,1415554211000.0,1414697951000.0,1434131854000.0,1425920018000.0,1439056606000.0,1438106993000.0,1410246399000.0,1410099387000.0,1436643161000.0,1462128356000.0,1466880893000.0,1443172413000.0,1424372257000.0,1464635172000.0,1438457322000.0,1420981616000.0,1412445070000.0,1431286224000.0,1465587240000.0,1444075724000.0,1428233258000.0,1425674543000.0,1426191183000.0,1426607916000.0,1459889614000.0,1422467747000.0,1465060160000.0,1418056433000.0,1466349240000.0,1420741859000.0,1440791953000.0,1421776526000.0,1411542030000.0,1446030451000.0,1411201027000.0,1436301721000.0,1430762639000.0,1410547403000.0,1422038969000.0],\"y\":[5869.758041685876,2050.294537996982,5673.724969564729,5493.705520609242,5936.597828117186,4466.736025644979,8747.538975053558,7583.492622425234,4482.126354346572,1256.0139437106257,1465.8603370305834,5980.435447792143,5678.105548248082,5641.157399618419,1848.3031448360637,2102.6866123651434,4686.257052728707,9468.497064399835,4437.458852924772,5637.941600178236,5976.531944856669,10040.460857166941,9377.080509775602,4927.336038861122,12543.342213664968,9053.550749702497,9066.96676016255,9355.976346881262,6733.926622101581,5690.823548807764,3787.3912574156557,8943.501144715288,10096.597395845707,12190.74237889001,8190.534493570851,5721.8997620119135,7650.115555373454,2732.913143192231,4069.3537789534007,4580.658855378932,7770.535908053509,13061.254042482593]}},\"id\":\"506e0acc-e412-4ced-8a83-b7181bd8ddbe\",\"type\":\"ColumnDataSource\"},{\"attributes\":{\"plot\":{\"id\":\"b384f6de-66b0-4414-bf2f-aa03220674cf\",\"subtype\":\"Figure\",\"type\":\"Plot\"},\"ticker\":{\"id\":\"2a12ff26-cb06-4622-a31d-daac2e9146ed\",\"type\":\"DatetimeTicker\"}},\"id\":\"3c2915da-efcd-4ee3-924d-6bc901a467ac\",\"type\":\"Grid\"},{\"attributes\":{},\"id\":\"e0f6bd0c-a2ca-4a7a-b2ab-279a36bffc2b\",\"type\":\"DatetimeTickFormatter\"},{\"attributes\":{\"days\":[1,15]},\"id\":\"93f2e69f-2e2f-4d9c-afeb-69aa3ee6c09c\",\"type\":\"DaysTicker\"},{\"attributes\":{\"days\":[1,4,7,10,13,16,19,22,25,28]},\"id\":\"128f03fa-89b9-44b7-af52-387fb6c0fcc5\",\"type\":\"DaysTicker\"},{\"attributes\":{},\"id\":\"6986de8a-a940-45c7-9b76-d3ed3fe4d69f\",\"type\":\"ToolEvents\"},{\"attributes\":{\"callback\":null},\"id\":\"5d5c61b6-f33b-487e-bf82-3df4229b831d\",\"type\":\"DataRange1d\"},{\"attributes\":{\"plot\":{\"id\":\"a18e9477-e8f6-4137-aa2c-ada6a022b684\",\"subtype\":\"Figure\",\"type\":\"Plot\"}},\"id\":\"387ae7b2-e9fc-4c77-a3d8-a1549b54d6dc\",\"type\":\"ResizeTool\"},{\"attributes\":{\"bottom_units\":\"screen\",\"fill_alpha\":{\"value\":0.5},\"fill_color\":{\"value\":\"lightgrey\"},\"left_units\":\"screen\",\"level\":\"overlay\",\"line_alpha\":{\"value\":1.0},\"line_color\":{\"value\":\"black\"},\"line_dash\":[4,4],\"line_width\":{\"value\":2},\"plot\":null,\"render_mode\":\"css\",\"right_units\":\"screen\",\"top_units\":\"screen\"},\"id\":\"f2aeb4b1-c646-40a9-b368-cfd95d867919\",\"type\":\"BoxAnnotation\"},{\"attributes\":{},\"id\":\"2704492d-e351-4705-b287-587d1c71916a\",\"type\":\"BasicTicker\"},{\"attributes\":{\"num_minor_ticks\":5},\"id\":\"aa3f6f9c-054a-45d6-aae2-4900ed14b4b4\",\"type\":\"DatetimeTicker\"},{\"attributes\":{},\"id\":\"23116e6e-6a3e-4dfa-b216-93cc854931b5\",\"type\":\"ToolEvents\"},{\"attributes\":{\"callback\":null},\"id\":\"3f0408dd-c39c-41cc-8da4-2f4efbbfeb7f\",\"type\":\"DataRange1d\"},{\"attributes\":{\"plot\":{\"id\":\"8a0e04f0-1b56-4383-93da-73ef9933ab80\",\"subtype\":\"Figure\",\"type\":\"Plot\"}},\"id\":\"210f869d-8928-403e-8421-551cbdebaf89\",\"type\":\"PreviewSaveTool\"},{\"attributes\":{\"plot\":{\"id\":\"e765d1fd-d4fe-43d6-8881-225e2fd8cb2c\",\"subtype\":\"Figure\",\"type\":\"Plot\"}},\"id\":\"29e3b522-a1a2-4d73-ba9e-744efbe9a548\",\"type\":\"ResizeTool\"},{\"attributes\":{\"dimension\":1,\"plot\":{\"id\":\"e765d1fd-d4fe-43d6-8881-225e2fd8cb2c\",\"subtype\":\"Figure\",\"type\":\"Plot\"},\"ticker\":{\"id\":\"2704492d-e351-4705-b287-587d1c71916a\",\"type\":\"BasicTicker\"}},\"id\":\"d0ffcca1-805d-47de-ad83-76d28a24f0fb\",\"type\":\"Grid\"},{\"attributes\":{\"axis_label\":\"Distance (m)\",\"formatter\":{\"id\":\"d14560dd-8267-4cb3-9b2f-dcc5468b405d\",\"type\":\"BasicTickFormatter\"},\"plot\":{\"id\":\"8a0e04f0-1b56-4383-93da-73ef9933ab80\",\"subtype\":\"Figure\",\"type\":\"Plot\"},\"ticker\":{\"id\":\"1748be20-155c-46a9-ad88-511931b35cdd\",\"type\":\"BasicTicker\"}},\"id\":\"daf6d410-6601-4dca-a3f7-5ccfceea230c\",\"type\":\"LinearAxis\"},{\"attributes\":{\"plot\":{\"id\":\"8a0e04f0-1b56-4383-93da-73ef9933ab80\",\"subtype\":\"Figure\",\"type\":\"Plot\"}},\"id\":\"252b9006-959b-432b-8d5f-9ee05eb2ac5c\",\"type\":\"HelpTool\"},{\"attributes\":{\"plot\":{\"id\":\"e765d1fd-d4fe-43d6-8881-225e2fd8cb2c\",\"subtype\":\"Figure\",\"type\":\"Plot\"}},\"id\":\"c6b9a456-d726-4cf4-8b5a-5162abc34702\",\"type\":\"PanTool\"},{\"attributes\":{},\"id\":\"b34f9f09-c02b-4dec-9b82-7b07f1f65cea\",\"type\":\"BasicTicker\"},{\"attributes\":{},\"id\":\"a444ddb0-a64a-40b2-9d06-91a3accff913\",\"type\":\"BasicTickFormatter\"},{\"attributes\":{\"months\":[0,6]},\"id\":\"b6c00da2-8eff-4c3e-a67f-4f2667291152\",\"type\":\"MonthsTicker\"},{\"attributes\":{\"days\":[1,8,15,22]},\"id\":\"62630275-92c1-4272-8178-b9e115b6eafa\",\"type\":\"DaysTicker\"},{\"attributes\":{\"plot\":{\"id\":\"b384f6de-66b0-4414-bf2f-aa03220674cf\",\"subtype\":\"Figure\",\"type\":\"Plot\"}},\"id\":\"85584e83-cf91-4d6e-935f-6dc4aaeec3d9\",\"type\":\"WheelZoomTool\"},{\"attributes\":{\"plot\":{\"id\":\"e765d1fd-d4fe-43d6-8881-225e2fd8cb2c\",\"subtype\":\"Figure\",\"type\":\"Plot\"}},\"id\":\"64b1d9a0-1cff-4dcd-826a-9737e23bd781\",\"type\":\"WheelZoomTool\"},{\"attributes\":{\"fill_alpha\":{\"value\":0.1},\"fill_color\":{\"value\":\"#1f77b4\"},\"line_alpha\":{\"value\":0.1},\"line_color\":{\"value\":\"#1f77b4\"},\"x\":{\"field\":\"x\"},\"y\":{\"field\":\"y\"}},\"id\":\"5c5aa67b-3387-4457-9183-8566c3c9f795\",\"type\":\"Circle\"},{\"attributes\":{},\"id\":\"1ca5026e-c14f-41a7-80db-66c8948c1948\",\"type\":\"DatetimeTickFormatter\"},{\"attributes\":{\"bottom_units\":\"screen\",\"fill_alpha\":{\"value\":0.5},\"fill_color\":{\"value\":\"lightgrey\"},\"left_units\":\"screen\",\"level\":\"overlay\",\"line_alpha\":{\"value\":1.0},\"line_color\":{\"value\":\"black\"},\"line_dash\":[4,4],\"line_width\":{\"value\":2},\"plot\":null,\"render_mode\":\"css\",\"right_units\":\"screen\",\"top_units\":\"screen\"},\"id\":\"8203170b-b7ec-4153-a961-541137bf1c24\",\"type\":\"BoxAnnotation\"},{\"attributes\":{\"background_fill_color\":{\"value\":\"#E8DDCB\"},\"below\":[{\"id\":\"75930b2e-173d-4dd9-be64-77797dfd634e\",\"type\":\"LinearAxis\"}],\"left\":[{\"id\":\"004ddd27-b482-4450-8b2d-79ed07bb37ce\",\"type\":\"LinearAxis\"}],\"renderers\":[{\"id\":\"75930b2e-173d-4dd9-be64-77797dfd634e\",\"type\":\"LinearAxis\"},{\"id\":\"c4cb35fd-9381-4a66-933e-9f8943cadf55\",\"type\":\"Grid\"},{\"id\":\"004ddd27-b482-4450-8b2d-79ed07bb37ce\",\"type\":\"LinearAxis\"},{\"id\":\"d0ffcca1-805d-47de-ad83-76d28a24f0fb\",\"type\":\"Grid\"},{\"id\":\"f2aeb4b1-c646-40a9-b368-cfd95d867919\",\"type\":\"BoxAnnotation\"},{\"id\":\"ed7092b7-e94a-4849-a377-f833cfcce035\",\"type\":\"GlyphRenderer\"},{\"id\":\"2fce087e-6e5d-4c98-810e-6298d189c6ce\",\"type\":\"GlyphRenderer\"}],\"title\":\"Speeds \",\"tool_events\":{\"id\":\"23116e6e-6a3e-4dfa-b216-93cc854931b5\",\"type\":\"ToolEvents\"},\"tools\":[{\"id\":\"c6b9a456-d726-4cf4-8b5a-5162abc34702\",\"type\":\"PanTool\"},{\"id\":\"64b1d9a0-1cff-4dcd-826a-9737e23bd781\",\"type\":\"WheelZoomTool\"},{\"id\":\"28afc163-f337-444a-af81-e82b11d569d7\",\"type\":\"BoxZoomTool\"},{\"id\":\"95b97119-d69b-497c-a9be-ff8b5024e66b\",\"type\":\"PreviewSaveTool\"},{\"id\":\"29e3b522-a1a2-4d73-ba9e-744efbe9a548\",\"type\":\"ResizeTool\"},{\"id\":\"b912aabf-432a-4903-8c1a-1a24a28aad05\",\"type\":\"ResetTool\"},{\"id\":\"acc72b56-ae3f-4712-9cfe-b7922ada2b19\",\"type\":\"HelpTool\"}],\"x_range\":{\"id\":\"da1751f9-37cf-44fc-b4e4-623ddc10f414\",\"type\":\"DataRange1d\"},\"y_range\":{\"id\":\"5d5c61b6-f33b-487e-bf82-3df4229b831d\",\"type\":\"DataRange1d\"}},\"id\":\"e765d1fd-d4fe-43d6-8881-225e2fd8cb2c\",\"subtype\":\"Figure\",\"type\":\"Plot\"},{\"attributes\":{\"plot\":{\"id\":\"b384f6de-66b0-4414-bf2f-aa03220674cf\",\"subtype\":\"Figure\",\"type\":\"Plot\"}},\"id\":\"6ee8127a-41f8-4dd9-b7ae-0de04dcd4dc2\",\"type\":\"PreviewSaveTool\"},{\"attributes\":{\"fill_alpha\":{\"value\":0.1},\"fill_color\":{\"value\":\"#1f77b4\"},\"line_alpha\":{\"value\":0.1},\"line_color\":{\"value\":\"#1f77b4\"},\"x\":{\"field\":\"x\"},\"y\":{\"field\":\"y\"}},\"id\":\"00b77ae4-9500-427b-9e65-6b5e56b439b0\",\"type\":\"Circle\"},{\"attributes\":{\"background_fill_color\":{\"value\":\"#E8DDCB\"},\"below\":[{\"id\":\"0c3acbed-9231-4a6e-88ed-cce968f25906\",\"type\":\"DatetimeAxis\"}],\"left\":[{\"id\":\"daf6d410-6601-4dca-a3f7-5ccfceea230c\",\"type\":\"LinearAxis\"}],\"renderers\":[{\"id\":\"0c3acbed-9231-4a6e-88ed-cce968f25906\",\"type\":\"DatetimeAxis\"},{\"id\":\"3f50426a-7d1d-46b2-af4b-8b88300961d7\",\"type\":\"Grid\"},{\"id\":\"daf6d410-6601-4dca-a3f7-5ccfceea230c\",\"type\":\"LinearAxis\"},{\"id\":\"00479e65-1bd5-45de-a0f9-7b415cf0a9f5\",\"type\":\"Grid\"},{\"id\":\"8203170b-b7ec-4153-a961-541137bf1c24\",\"type\":\"BoxAnnotation\"},{\"id\":\"7ed455a3-8176-426d-9470-5ce4caa1dbd8\",\"type\":\"GlyphRenderer\"}],\"title\":\"Distances run over time\",\"tool_events\":{\"id\":\"66645fc9-6d12-4ea6-bd7b-102a8c30329f\",\"type\":\"ToolEvents\"},\"tools\":[{\"id\":\"30a4adad-032b-4863-9020-ca860f253656\",\"type\":\"PanTool\"},{\"id\":\"a7173f36-8a8d-41f8-b8e7-3cae5c4c32c6\",\"type\":\"WheelZoomTool\"},{\"id\":\"88e7a141-62a2-478c-90f7-62a57994e55a\",\"type\":\"BoxZoomTool\"},{\"id\":\"210f869d-8928-403e-8421-551cbdebaf89\",\"type\":\"PreviewSaveTool\"},{\"id\":\"4e310650-8472-4f52-aa49-ff3ab59c0fe4\",\"type\":\"ResizeTool\"},{\"id\":\"9abf5aec-48a3-4457-8ca2-8509aa98c4eb\",\"type\":\"ResetTool\"},{\"id\":\"252b9006-959b-432b-8d5f-9ee05eb2ac5c\",\"type\":\"HelpTool\"}],\"x_range\":{\"id\":\"8b611378-6865-41ff-a185-32b7ec696c25\",\"type\":\"DataRange1d\"},\"y_range\":{\"id\":\"3f0408dd-c39c-41cc-8da4-2f4efbbfeb7f\",\"type\":\"DataRange1d\"}},\"id\":\"8a0e04f0-1b56-4383-93da-73ef9933ab80\",\"subtype\":\"Figure\",\"type\":\"Plot\"},{\"attributes\":{\"overlay\":{\"id\":\"5316dccd-9827-40f7-a3da-f53623089dba\",\"type\":\"BoxAnnotation\"},\"plot\":{\"id\":\"a18e9477-e8f6-4137-aa2c-ada6a022b684\",\"subtype\":\"Figure\",\"type\":\"Plot\"}},\"id\":\"3c7da2a0-14ee-4555-8fab-86947a5a7ef3\",\"type\":\"BoxZoomTool\"},{\"attributes\":{\"months\":[0,2,4,6,8,10]},\"id\":\"5fc86986-57cd-48c3-9d9e-ea2ea01e4875\",\"type\":\"MonthsTicker\"},{\"attributes\":{\"plot\":{\"id\":\"a18e9477-e8f6-4137-aa2c-ada6a022b684\",\"subtype\":\"Figure\",\"type\":\"Plot\"}},\"id\":\"a4cbdf63-22ce-4af7-b066-2012508b3609\",\"type\":\"HelpTool\"},{\"attributes\":{\"data_source\":{\"id\":\"506e0acc-e412-4ced-8a83-b7181bd8ddbe\",\"type\":\"ColumnDataSource\"},\"glyph\":{\"id\":\"7f27e8a4-c15b-4439-9110-22b41798b411\",\"type\":\"Circle\"},\"hover_glyph\":null,\"nonselection_glyph\":{\"id\":\"00b77ae4-9500-427b-9e65-6b5e56b439b0\",\"type\":\"Circle\"},\"selection_glyph\":null},\"id\":\"7ed455a3-8176-426d-9470-5ce4caa1dbd8\",\"type\":\"GlyphRenderer\"},{\"attributes\":{\"callback\":null,\"column_names\":[\"x\",\"y\"],\"data\":{\"x\":[5.869758041685876,2.050294537996982,5.673724969564729,5.493705520609242,5.936597828117185,4.4667360256449795,8.747538975053558,7.583492622425234,4.482126354346572,1.2560139437106257,1.4658603370305834,5.980435447792144,5.678105548248082,5.641157399618419,1.8483031448360636,2.1026866123651433,4.686257052728707,9.468497064399834,4.437458852924772,5.637941600178236,5.976531944856669,10.040460857166941,9.377080509775602,4.927336038861122,12.543342213664967,9.053550749702497,9.06696676016255,9.355976346881262,6.733926622101581,5.6908235488077645,3.787391257415656,8.943501144715288,10.096597395845707,12.190742378890011,8.190534493570851,5.721899762011914,7.650115555373454,2.732913143192231,4.069353778953401,4.580658855378932,7.7705359080535095,13.061254042482593],\"y\":[0.9171293887581277,0.32566972284072143,0.8867728595666444,0.8588961059244082,0.9274798051751116,0.6998656468527916,1.3627656274050541,1.1825082519456542,0.7022489026852956,0.2026720990939408,0.23516767800629904,0.9342682412637203,0.8874512102308355,0.8817296371293617,0.2943905230783038,0.3337828514967706,0.7338593826786185,1.4744089590544753,0.6953319559877327,0.8812316573317511,0.9336637677454124,1.5629799097809733,1.4602527287867566,0.7711914573168159,1.950561403756627,1.4101528119732134,1.4122303364886286,1.456984662179261,1.0509494552086498,0.8894206450362478,0.5946663094925617,1.3931111770584637,1.5716728841687728,1.8959598660597465,1.2765111876875188,0.8942329247352035,1.1928250877069948,0.43137602734863156,0.6383293680946077,0.717507066583529,1.2114726756462466,2.0307621850839768]}},\"id\":\"7e2fccbf-6346-43be-93bc-c5a57257800f\",\"type\":\"ColumnDataSource\"},{\"attributes\":{\"callback\":null},\"id\":\"b2e414df-935c-4a49-afe2-cb1c6e60218b\",\"type\":\"DataRange1d\"},{\"attributes\":{\"background_fill_color\":{\"value\":\"#E8DDCB\"},\"below\":[{\"id\":\"2f703c0f-1eab-492a-b2f1-c5226dddf016\",\"type\":\"DatetimeAxis\"}],\"left\":[{\"id\":\"66312df7-ca9d-46c1-93ea-017863b0f1de\",\"type\":\"LinearAxis\"}],\"renderers\":[{\"id\":\"2f703c0f-1eab-492a-b2f1-c5226dddf016\",\"type\":\"DatetimeAxis\"},{\"id\":\"3c2915da-efcd-4ee3-924d-6bc901a467ac\",\"type\":\"Grid\"},{\"id\":\"66312df7-ca9d-46c1-93ea-017863b0f1de\",\"type\":\"LinearAxis\"},{\"id\":\"b1c71894-32c1-4e39-bed5-aab9b15cb6a2\",\"type\":\"Grid\"},{\"id\":\"e79af1fc-d423-4ee8-a6e7-53a328de099a\",\"type\":\"BoxAnnotation\"},{\"id\":\"dbc21d50-ee69-4d59-b99a-319367ac9c15\",\"type\":\"GlyphRenderer\"}],\"title\":\"Speeds over time\",\"tool_events\":{\"id\":\"6986de8a-a940-45c7-9b76-d3ed3fe4d69f\",\"type\":\"ToolEvents\"},\"tools\":[{\"id\":\"2569c697-c25d-4c8b-920f-7abf33f21657\",\"type\":\"PanTool\"},{\"id\":\"85584e83-cf91-4d6e-935f-6dc4aaeec3d9\",\"type\":\"WheelZoomTool\"},{\"id\":\"ade454d6-b221-41cb-be64-fdfc81769833\",\"type\":\"BoxZoomTool\"},{\"id\":\"6ee8127a-41f8-4dd9-b7ae-0de04dcd4dc2\",\"type\":\"PreviewSaveTool\"},{\"id\":\"8c5f9d93-a561-4da1-9488-c399f4b51b00\",\"type\":\"ResizeTool\"},{\"id\":\"ef2359c7-61d2-4802-9ec8-c4270fb0eb5e\",\"type\":\"ResetTool\"},{\"id\":\"6c832edb-c5e8-496a-bdd5-9c20f12bdf13\",\"type\":\"HelpTool\"}],\"x_range\":{\"id\":\"580ad038-6b70-4930-aef9-70dabac4f71f\",\"type\":\"DataRange1d\"},\"y_range\":{\"id\":\"c57ba96d-108a-4d2f-9241-22e993b1d002\",\"type\":\"DataRange1d\"}},\"id\":\"b384f6de-66b0-4414-bf2f-aa03220674cf\",\"subtype\":\"Figure\",\"type\":\"Plot\"},{\"attributes\":{\"callback\":null},\"id\":\"3b936054-9e81-4597-9d7b-581e5a906a1d\",\"type\":\"DataRange1d\"},{\"attributes\":{\"months\":[0,1,2,3,4,5,6,7,8,9,10,11]},\"id\":\"a9e463bf-e838-4c7d-9984-bb3d56281b81\",\"type\":\"MonthsTicker\"},{\"attributes\":{\"plot\":{\"id\":\"b384f6de-66b0-4414-bf2f-aa03220674cf\",\"subtype\":\"Figure\",\"type\":\"Plot\"}},\"id\":\"ef2359c7-61d2-4802-9ec8-c4270fb0eb5e\",\"type\":\"ResetTool\"},{\"attributes\":{\"axis_label\":\"Distance (km)\",\"formatter\":{\"id\":\"bb18c9a2-2cbc-41e6-99a2-b04e912ba62f\",\"type\":\"BasicTickFormatter\"},\"plot\":{\"id\":\"e765d1fd-d4fe-43d6-8881-225e2fd8cb2c\",\"subtype\":\"Figure\",\"type\":\"Plot\"},\"ticker\":{\"id\":\"b34f9f09-c02b-4dec-9b82-7b07f1f65cea\",\"type\":\"BasicTicker\"}},\"id\":\"75930b2e-173d-4dd9-be64-77797dfd634e\",\"type\":\"LinearAxis\"},{\"attributes\":{\"axis_label\":\"Time\",\"formatter\":{\"id\":\"b85035e3-2e88-4a66-8084-a6931d900062\",\"type\":\"DatetimeTickFormatter\"},\"plot\":{\"id\":\"a18e9477-e8f6-4137-aa2c-ada6a022b684\",\"subtype\":\"Figure\",\"type\":\"Plot\"},\"ticker\":{\"id\":\"ea29c826-67c5-42a1-ba0c-b532b95f265d\",\"type\":\"DatetimeTicker\"}},\"id\":\"9aba3f96-5142-4849-9f05-28a5d0be9b6b\",\"type\":\"DatetimeAxis\"},{\"attributes\":{},\"id\":\"d491037d-8871-44f8-b96a-2dfe98f01437\",\"type\":\"ToolEvents\"},{\"attributes\":{\"callback\":null,\"column_names\":[\"x\",\"y\"],\"data\":{\"x\":[5.869758041685876,2.050294537996982,5.673724969564729,5.493705520609242,5.936597828117185,4.4667360256449795,8.747538975053558,7.583492622425234,4.482126354346572,1.2560139437106257,1.4658603370305834,5.980435447792144,5.678105548248082,5.641157399618419,1.8483031448360636,2.1026866123651433,4.686257052728707,9.468497064399834,4.437458852924772,5.637941600178236,5.976531944856669,10.040460857166941,9.377080509775602,4.927336038861122,12.543342213664967,9.053550749702497,9.06696676016255,9.355976346881262,6.733926622101581,5.6908235488077645,3.787391257415656,8.943501144715288,10.096597395845707,12.190742378890011,8.190534493570851,5.721899762011914,7.650115555373454,2.732913143192231,4.069353778953401,4.580658855378932,7.7705359080535095,13.061254042482593],\"y\":[0.7794444444444445,0.30916666666666665,0.8727777777777778,0.9305555555555556,1.0708333333333333,0.6458333333333334,1.3022222222222222,1.08,0.6722222222222223,0.15722222222222224,0.21916666666666668,0.7944444444444444,0.6816666666666666,0.8466666666666667,0.40194444444444444,0.25722222222222224,0.6361111111111111,1.2361111111111112,0.8525,0.95,1.0794444444444444,1.3977777777777778,1.268888888888889,0.7863888888888889,2.0052777777777777,1.2952777777777778,1.2669444444444444,1.378611111111111,1.123888888888889,1.361388888888889,0.6108333333333333,1.7091666666666667,1.9522222222222223,1.7591666666666668,1.4927777777777778,1.0241666666666667,1.2275,0.37916666666666665,0.4825,0.6188888888888889,1.1588888888888889,2.089166666666667]}},\"id\":\"2b10180e-0e79-48e4-b434-87391b566a8a\",\"type\":\"ColumnDataSource\"},{\"attributes\":{\"plot\":{\"id\":\"a18e9477-e8f6-4137-aa2c-ada6a022b684\",\"subtype\":\"Figure\",\"type\":\"Plot\"}},\"id\":\"f8eed474-42a1-4496-b560-2749e15a23ee\",\"type\":\"PanTool\"},{\"attributes\":{\"days\":[1,2,3,4,5,6,7,8,9,10,11,12,13,14,15,16,17,18,19,20,21,22,23,24,25,26,27,28,29,30,31]},\"id\":\"c3dde349-0aa7-41bd-822d-fe384fd65f35\",\"type\":\"DaysTicker\"},{\"attributes\":{\"days\":[1,15]},\"id\":\"777b2355-08e8-469a-b7a1-d30db515d7b9\",\"type\":\"DaysTicker\"},{\"attributes\":{\"plot\":{\"id\":\"b384f6de-66b0-4414-bf2f-aa03220674cf\",\"subtype\":\"Figure\",\"type\":\"Plot\"}},\"id\":\"6c832edb-c5e8-496a-bdd5-9c20f12bdf13\",\"type\":\"HelpTool\"},{\"attributes\":{\"dimension\":1,\"plot\":{\"id\":\"b384f6de-66b0-4414-bf2f-aa03220674cf\",\"subtype\":\"Figure\",\"type\":\"Plot\"},\"ticker\":{\"id\":\"6c802030-9a1e-4fff-bf04-fc1db4fea06a\",\"type\":\"BasicTicker\"}},\"id\":\"b1c71894-32c1-4e39-bed5-aab9b15cb6a2\",\"type\":\"Grid\"},{\"attributes\":{\"plot\":{\"id\":\"e765d1fd-d4fe-43d6-8881-225e2fd8cb2c\",\"subtype\":\"Figure\",\"type\":\"Plot\"},\"ticker\":{\"id\":\"b34f9f09-c02b-4dec-9b82-7b07f1f65cea\",\"type\":\"BasicTicker\"}},\"id\":\"c4cb35fd-9381-4a66-933e-9f8943cadf55\",\"type\":\"Grid\"},{\"attributes\":{\"axis_label\":\"Time in hours\",\"formatter\":{\"id\":\"a444ddb0-a64a-40b2-9d06-91a3accff913\",\"type\":\"BasicTickFormatter\"},\"plot\":{\"id\":\"e765d1fd-d4fe-43d6-8881-225e2fd8cb2c\",\"subtype\":\"Figure\",\"type\":\"Plot\"},\"ticker\":{\"id\":\"2704492d-e351-4705-b287-587d1c71916a\",\"type\":\"BasicTicker\"}},\"id\":\"004ddd27-b482-4450-8b2d-79ed07bb37ce\",\"type\":\"LinearAxis\"},{\"attributes\":{\"fill_color\":{\"value\":\"#1f77b4\"},\"line_color\":{\"value\":\"#1f77b4\"},\"x\":{\"field\":\"x\"},\"y\":{\"field\":\"y\"}},\"id\":\"0dc0726b-406c-4299-b74e-bd4cc2fa6053\",\"type\":\"Circle\"},{\"attributes\":{\"data_source\":{\"id\":\"7e2fccbf-6346-43be-93bc-c5a57257800f\",\"type\":\"ColumnDataSource\"},\"glyph\":{\"id\":\"0810e3f9-60c9-4ef8-b57f-5d7d01c1e4fa\",\"type\":\"Line\"},\"hover_glyph\":null,\"nonselection_glyph\":{\"id\":\"db294f5a-f720-4ab8-9f9f-227246020377\",\"type\":\"Line\"},\"selection_glyph\":null},\"id\":\"2fce087e-6e5d-4c98-810e-6298d189c6ce\",\"type\":\"GlyphRenderer\"},{\"attributes\":{\"max_interval\":500.0,\"num_minor_ticks\":0},\"id\":\"72403e28-d0af-430c-af5b-2e27b1934dc3\",\"type\":\"AdaptiveTicker\"},{\"attributes\":{\"plot\":{\"id\":\"8a0e04f0-1b56-4383-93da-73ef9933ab80\",\"subtype\":\"Figure\",\"type\":\"Plot\"}},\"id\":\"9abf5aec-48a3-4457-8ca2-8509aa98c4eb\",\"type\":\"ResetTool\"},{\"attributes\":{\"months\":[0,2,4,6,8,10]},\"id\":\"6dc7634e-831c-4106-9e6a-4358ddfe8dbf\",\"type\":\"MonthsTicker\"},{\"attributes\":{\"plot\":{\"id\":\"e765d1fd-d4fe-43d6-8881-225e2fd8cb2c\",\"subtype\":\"Figure\",\"type\":\"Plot\"}},\"id\":\"95b97119-d69b-497c-a9be-ff8b5024e66b\",\"type\":\"PreviewSaveTool\"}],\"root_ids\":[\"a18e9477-e8f6-4137-aa2c-ada6a022b684\",\"8a0e04f0-1b56-4383-93da-73ef9933ab80\",\"b384f6de-66b0-4414-bf2f-aa03220674cf\",\"e765d1fd-d4fe-43d6-8881-225e2fd8cb2c\"]},\"title\":\"Bokeh Application\",\"version\":\"0.11.1\"}};\n",
       "            var render_items = [{\"docid\":\"4288495e-14d1-411b-9e77-45766fb4cd1c\",\"elementid\":\"f73528d2-c9f5-4ede-ab67-614034317acc\",\"modelid\":\"e765d1fd-d4fe-43d6-8881-225e2fd8cb2c\",\"notebook_comms_target\":\"d9e739a9-8f22-455f-a535-f5b91665a087\"}];\n",
       "            \n",
       "            Bokeh.embed.embed_items(docs_json, render_items);\n",
       "        });\n",
       "      },\n",
       "      function(Bokeh) {\n",
       "      }\n",
       "    ];\n",
       "  \n",
       "    function run_inline_js() {\n",
       "      for (var i = 0; i < inline_js.length; i++) {\n",
       "        inline_js[i](window.Bokeh);\n",
       "      }\n",
       "    }\n",
       "  \n",
       "    if (window._bokeh_is_loading === 0) {\n",
       "      console.log(\"Bokeh: BokehJS loaded, going straight to plotting\");\n",
       "      run_inline_js();\n",
       "    } else {\n",
       "      load_libs(js_urls, function() {\n",
       "        console.log(\"Bokeh: BokehJS plotting callback run at\", now());\n",
       "        run_inline_js();\n",
       "      });\n",
       "    }\n",
       "  }(this));\n",
       "</script>"
      ]
     },
     "metadata": {},
     "output_type": "display_data"
    },
    {
     "data": {
      "text/html": [
       "<p><code>&lt;Bokeh Notebook handle for <strong>In[21]</strong>&gt;</code></p>"
      ],
      "text/plain": [
       "<bokeh.io._CommsHandle at 0x7f3d23728ac8>"
      ]
     },
     "execution_count": 21,
     "metadata": {},
     "output_type": "execute_result"
    }
   ],
   "source": [
    "import numpy as np\n",
    "\n",
    "polyfit = np.polyfit(distances, times, 1)\n",
    "\n",
    "regression = np.poly1d(polyfit)\n",
    "\n",
    "p.line(distances, regression(distances))\n",
    "show(p)"
   ]
  },
  {
   "cell_type": "markdown",
   "metadata": {},
   "source": [
    "Numpy polyfits are interesting species. Lets play with it for a bit. For example lets see how long on would it take me to run for 10km. "
   ]
  },
  {
   "cell_type": "code",
   "execution_count": 22,
   "metadata": {
    "collapsed": false
   },
   "outputs": [
    {
     "name": "stdout",
     "output_type": "stream",
     "text": [
      "Distance: 1, avg time: 0.16h\n",
      "Distance: 6, avg time: 0.94h\n",
      "Distance: 11, avg time: 1.71h\n",
      "Distance: 16, avg time: 2.49h\n",
      "Distance: 21, avg time: 3.26h\n",
      "Distance: 26, avg time: 4.03h\n",
      "Distance: 31, avg time: 4.81h\n"
     ]
    }
   ],
   "source": [
    "for d in range(1, 36, 5):\n",
    "    print('Distance: {}, avg time: {:.2f}h'.format(d, regression(d)))"
   ]
  },
  {
   "cell_type": "markdown",
   "metadata": {},
   "source": [
    "Lets test this model on real data:"
   ]
  },
  {
   "cell_type": "code",
   "execution_count": 23,
   "metadata": {
    "collapsed": false,
    "scrolled": false
   },
   "outputs": [
    {
     "name": "stdout",
     "output_type": "stream",
     "text": [
      "Distance: 5.87 km \t time_predicted 0.92 h \t time_real: 0.78 h \t deviation: 0.14h\n",
      "Distance: 2.05 km \t time_predicted 0.33 h \t time_real: 0.31 h \t deviation: 0.02h\n",
      "Distance: 5.67 km \t time_predicted 0.89 h \t time_real: 0.87 h \t deviation: 0.01h\n",
      "Distance: 5.49 km \t time_predicted 0.86 h \t time_real: 0.93 h \t deviation: -0.07h\n",
      "Distance: 5.94 km \t time_predicted 0.93 h \t time_real: 1.07 h \t deviation: -0.14h\n",
      "Distance: 4.47 km \t time_predicted 0.70 h \t time_real: 0.65 h \t deviation: 0.05h\n",
      "Distance: 8.75 km \t time_predicted 1.36 h \t time_real: 1.30 h \t deviation: 0.06h\n",
      "Distance: 7.58 km \t time_predicted 1.18 h \t time_real: 1.08 h \t deviation: 0.10h\n",
      "Distance: 4.48 km \t time_predicted 0.70 h \t time_real: 0.67 h \t deviation: 0.03h\n",
      "Distance: 1.26 km \t time_predicted 0.20 h \t time_real: 0.16 h \t deviation: 0.05h\n",
      "Distance: 1.47 km \t time_predicted 0.24 h \t time_real: 0.22 h \t deviation: 0.02h\n",
      "Distance: 5.98 km \t time_predicted 0.93 h \t time_real: 0.79 h \t deviation: 0.14h\n",
      "Distance: 5.68 km \t time_predicted 0.89 h \t time_real: 0.68 h \t deviation: 0.21h\n",
      "Distance: 5.64 km \t time_predicted 0.88 h \t time_real: 0.85 h \t deviation: 0.04h\n",
      "Distance: 1.85 km \t time_predicted 0.29 h \t time_real: 0.40 h \t deviation: -0.11h\n",
      "Distance: 2.10 km \t time_predicted 0.33 h \t time_real: 0.26 h \t deviation: 0.08h\n",
      "Distance: 4.69 km \t time_predicted 0.73 h \t time_real: 0.64 h \t deviation: 0.10h\n",
      "Distance: 9.47 km \t time_predicted 1.47 h \t time_real: 1.24 h \t deviation: 0.24h\n",
      "Distance: 4.44 km \t time_predicted 0.70 h \t time_real: 0.85 h \t deviation: -0.16h\n",
      "Distance: 5.64 km \t time_predicted 0.88 h \t time_real: 0.95 h \t deviation: -0.07h\n",
      "Distance: 5.98 km \t time_predicted 0.93 h \t time_real: 1.08 h \t deviation: -0.15h\n",
      "Distance: 10.04 km \t time_predicted 1.56 h \t time_real: 1.40 h \t deviation: 0.17h\n",
      "Distance: 9.38 km \t time_predicted 1.46 h \t time_real: 1.27 h \t deviation: 0.19h\n",
      "Distance: 4.93 km \t time_predicted 0.77 h \t time_real: 0.79 h \t deviation: -0.02h\n",
      "Distance: 12.54 km \t time_predicted 1.95 h \t time_real: 2.01 h \t deviation: -0.05h\n",
      "Distance: 9.05 km \t time_predicted 1.41 h \t time_real: 1.30 h \t deviation: 0.11h\n",
      "Distance: 9.07 km \t time_predicted 1.41 h \t time_real: 1.27 h \t deviation: 0.15h\n",
      "Distance: 9.36 km \t time_predicted 1.46 h \t time_real: 1.38 h \t deviation: 0.08h\n",
      "Distance: 6.73 km \t time_predicted 1.05 h \t time_real: 1.12 h \t deviation: -0.07h\n",
      "Distance: 5.69 km \t time_predicted 0.89 h \t time_real: 1.36 h \t deviation: -0.47h\n",
      "Distance: 3.79 km \t time_predicted 0.59 h \t time_real: 0.61 h \t deviation: -0.02h\n",
      "Distance: 8.94 km \t time_predicted 1.39 h \t time_real: 1.71 h \t deviation: -0.32h\n",
      "Distance: 10.10 km \t time_predicted 1.57 h \t time_real: 1.95 h \t deviation: -0.38h\n",
      "Distance: 12.19 km \t time_predicted 1.90 h \t time_real: 1.76 h \t deviation: 0.14h\n",
      "Distance: 8.19 km \t time_predicted 1.28 h \t time_real: 1.49 h \t deviation: -0.22h\n",
      "Distance: 5.72 km \t time_predicted 0.89 h \t time_real: 1.02 h \t deviation: -0.13h\n",
      "Distance: 7.65 km \t time_predicted 1.19 h \t time_real: 1.23 h \t deviation: -0.03h\n",
      "Distance: 2.73 km \t time_predicted 0.43 h \t time_real: 0.38 h \t deviation: 0.05h\n",
      "Distance: 4.07 km \t time_predicted 0.64 h \t time_real: 0.48 h \t deviation: 0.16h\n",
      "Distance: 4.58 km \t time_predicted 0.72 h \t time_real: 0.62 h \t deviation: 0.10h\n",
      "Distance: 7.77 km \t time_predicted 1.21 h \t time_real: 1.16 h \t deviation: 0.05h\n",
      "Distance: 13.06 km \t time_predicted 2.03 h \t time_real: 2.09 h \t deviation: -0.06h\n"
     ]
    }
   ],
   "source": [
    "for r in all_runs:\n",
    "    distance_km = r.distance_total / 1000\n",
    "    time_hours = r.time_total_s / 3600\n",
    "    predicted = regression(distance_km)\n",
    "    deviation = predicted - time_hours\n",
    "    print('Distance: {:.2f} km \\t time_predicted {:.2f} h \\t time_real: {:.2f} h \\t deviation: {:.2f}h'.format(\n",
    "        distance_km, predicted, time_hours, deviation\n",
    "    ))"
   ]
  },
  {
   "cell_type": "code",
   "execution_count": 24,
   "metadata": {
    "collapsed": false
   },
   "outputs": [
    {
     "data": {
      "text/plain": [
       "270.0681851871415"
      ]
     },
     "execution_count": 24,
     "metadata": {},
     "output_type": "execute_result"
    }
   ],
   "source": [
    "sum(distances)"
   ]
  },
  {
   "cell_type": "code",
   "execution_count": 25,
   "metadata": {
    "collapsed": false
   },
   "outputs": [
    {
     "data": {
      "text/plain": [
       "42.16444444444444"
      ]
     },
     "execution_count": 25,
     "metadata": {},
     "output_type": "execute_result"
    }
   ],
   "source": [
    "sum(times)"
   ]
  },
  {
   "cell_type": "code",
   "execution_count": 26,
   "metadata": {
    "collapsed": false
   },
   "outputs": [
    {
     "data": {
      "text/plain": [
       "6.405116650901955"
      ]
     },
     "execution_count": 26,
     "metadata": {},
     "output_type": "execute_result"
    }
   ],
   "source": [
    "sum(distances) / sum(times)"
   ]
  },
  {
   "cell_type": "markdown",
   "metadata": {},
   "source": [
    "Yeah, on average I am not very fast. The problem with these data is that I often take breaks without stopping the timer, I could probably filter out these on basis of 100m sequences, but I don't really see the point - the pauses are part of the run. Now I will try to to look at the weather data at each of these runs."
   ]
  },
  {
   "cell_type": "code",
   "execution_count": 27,
   "metadata": {
    "collapsed": true
   },
   "outputs": [],
   "source": [
    "import pyowm\n",
    "import time\n",
    "from secrets import owm_key\n",
    "\n",
    "owm = pyowm.OWM(owm_key)"
   ]
  },
  {
   "cell_type": "code",
   "execution_count": 28,
   "metadata": {
    "collapsed": false
   },
   "outputs": [],
   "source": [
    "class RunWeather(Run):\n",
    "    weather_result = None\n",
    "    def _fetch_weather(self):\n",
    "        weather = owm.weather_at_coords(float(self.records[0]['lat']), float(self.records[0]['lng']))\n",
    "        time.sleep(1)\n",
    "        location = weather.get_location().get_ID()\n",
    "        time.sleep(1)\n",
    "        return owm.weather_history_at_id(location, self.start, self.end)            \n",
    "    \n",
    "    @property\n",
    "    def weather(self):\n",
    "        if not self.weather_result:\n",
    "            for t in range(100):\n",
    "                try:\n",
    "                    self.weather_result = self._fetch_weather()\n",
    "                    print('Fetched weather for {}'.format(self.start))\n",
    "                    return self.weather_result\n",
    "                except Exception as e:\n",
    "                    time.sleep(5)\n",
    "                    continue\n",
    "        raise e"
   ]
  },
  {
   "cell_type": "code",
   "execution_count": 29,
   "metadata": {
    "collapsed": false
   },
   "outputs": [
    {
     "name": "stdout",
     "output_type": "stream",
     "text": [
      "Fetched weather for 2016-06-07 19:37:23+00:00\n",
      "Fetched weather for 2015-04-04 11:55:29+00:00\n",
      "Fetched weather for 2016-05-21 15:23:18+00:00\n",
      "Fetched weather for 2014-11-09 17:30:11+00:00\n",
      "Fetched weather for 2014-10-30 19:39:11+00:00\n",
      "Fetched weather for 2015-06-12 17:57:34+00:00\n",
      "Fetched weather for 2015-03-09 16:53:38+00:00\n",
      "Fetched weather for 2015-08-08 17:56:46+00:00\n",
      "Fetched weather for 2015-07-28 18:09:53+00:00\n",
      "Fetched weather for 2014-09-09 07:06:39+00:00\n",
      "Fetched weather for 2014-09-07 14:16:27+00:00\n",
      "Fetched weather for 2015-07-11 19:32:41+00:00\n",
      "Fetched weather for 2016-05-01 18:45:56+00:00\n",
      "Fetched weather for 2016-06-25 18:54:53+00:00\n",
      "Fetched weather for 2015-09-25 09:13:33+00:00\n",
      "Fetched weather for 2015-02-19 18:57:37+00:00\n",
      "Fetched weather for 2016-05-30 19:06:12+00:00\n",
      "Fetched weather for 2015-08-01 19:28:42+00:00\n",
      "Fetched weather for 2015-01-11 13:06:56+00:00\n",
      "Fetched weather for 2014-10-04 17:51:10+00:00\n",
      "Fetched weather for 2015-05-10 19:30:24+00:00\n",
      "Fetched weather for 2016-06-10 19:34:00+00:00\n",
      "Fetched weather for 2015-10-05 20:08:44+00:00\n",
      "Fetched weather for 2015-04-05 11:27:38+00:00\n",
      "Fetched weather for 2015-03-06 20:42:23+00:00\n",
      "Fetched weather for 2015-03-12 20:13:03+00:00\n",
      "Fetched weather for 2015-03-17 15:58:36+00:00\n",
      "Fetched weather for 2016-04-05 20:53:34+00:00\n",
      "Fetched weather for 2015-01-28 17:55:47+00:00\n",
      "Fetched weather for 2016-06-04 17:09:20+00:00\n",
      "Fetched weather for 2014-12-08 16:33:53+00:00\n",
      "Fetched weather for 2016-06-19 15:14:00+00:00\n",
      "Fetched weather for 2015-01-08 18:30:59+00:00\n",
      "Fetched weather for 2015-08-28 19:59:13+00:00\n",
      "Fetched weather for 2015-01-20 17:55:26+00:00\n",
      "Fetched weather for 2014-09-24 07:00:30+00:00\n",
      "Fetched weather for 2015-10-28 11:07:31+00:00\n",
      "Fetched weather for 2014-09-20 08:17:07+00:00\n",
      "Fetched weather for 2015-07-07 20:42:01+00:00\n",
      "Fetched weather for 2015-05-04 18:03:59+00:00\n",
      "Fetched weather for 2014-09-12 18:43:23+00:00\n",
      "Fetched weather for 2015-01-23 18:49:29+00:00\n"
     ]
    },
    {
     "data": {
      "text/plain": [
       "[[<pyowm.webapi25.weather.Weather - reference time=2016-06-07 20:05:04+00, status=Clear>],\n",
       " [],\n",
       " [<pyowm.webapi25.weather.Weather - reference time=2016-05-21 16:00:27+00, status=Clear>],\n",
       " [<pyowm.webapi25.weather.Weather - reference time=2014-11-09 17:41:09+00, status=Clouds>],\n",
       " [<pyowm.webapi25.weather.Weather - reference time=2014-10-30 20:38:08+00, status=Clouds>],\n",
       " [],\n",
       " [<pyowm.webapi25.weather.Weather - reference time=2015-03-09 17:48:26+00, status=Clear>],\n",
       " [<pyowm.webapi25.weather.Weather - reference time=2015-08-08 18:37:07+00, status=Clear>],\n",
       " [<pyowm.webapi25.weather.Weather - reference time=2015-07-28 18:38:45+00, status=Clouds>],\n",
       " [],\n",
       " [],\n",
       " [<pyowm.webapi25.weather.Weather - reference time=2015-07-11 19:38:07+00, status=Clear>],\n",
       " [],\n",
       " [<pyowm.webapi25.weather.Weather - reference time=2016-06-25 19:00:57+00, status=Clear>],\n",
       " [<pyowm.webapi25.weather.Weather - reference time=2015-09-25 09:37:30+00, status=Clear>],\n",
       " [],\n",
       " [],\n",
       " [<pyowm.webapi25.weather.Weather - reference time=2015-08-01 19:39:28+00, status=Clear>,\n",
       "  <pyowm.webapi25.weather.Weather - reference time=2015-08-01 20:38:49+00, status=Clear>],\n",
       " [<pyowm.webapi25.weather.Weather - reference time=2015-01-11 13:39:12+00, status=Clouds>],\n",
       " [<pyowm.webapi25.weather.Weather - reference time=2014-10-04 18:37:42+00, status=Clouds>],\n",
       " [<pyowm.webapi25.weather.Weather - reference time=2015-05-10 19:37:09+00, status=Clear>],\n",
       " [<pyowm.webapi25.weather.Weather - reference time=2016-06-10 20:00:18+00, status=Clouds>],\n",
       " [<pyowm.webapi25.weather.Weather - reference time=2015-10-05 20:37:40+00, status=Clear>],\n",
       " [<pyowm.webapi25.weather.Weather - reference time=2015-04-05 11:35:54+00, status=Clouds>],\n",
       " [<pyowm.webapi25.weather.Weather - reference time=2015-03-06 20:44:38+00, status=Clouds>,\n",
       "  <pyowm.webapi25.weather.Weather - reference time=2015-03-06 21:43:56+00, status=Clouds>],\n",
       " [<pyowm.webapi25.weather.Weather - reference time=2015-03-12 20:59:26+00, status=Clouds>],\n",
       " [<pyowm.webapi25.weather.Weather - reference time=2015-03-17 17:02:26+00, status=Clear>],\n",
       " [],\n",
       " [<pyowm.webapi25.weather.Weather - reference time=2015-01-28 18:39:47+00, status=Clear>],\n",
       " [<pyowm.webapi25.weather.Weather - reference time=2016-06-04 18:05:09+00, status=Clear>],\n",
       " [],\n",
       " [<pyowm.webapi25.weather.Weather - reference time=2016-06-19 16:07:57+00, status=Rain>],\n",
       " [<pyowm.webapi25.weather.Weather - reference time=2015-01-08 18:42:35+00, status=Rain>,\n",
       "  <pyowm.webapi25.weather.Weather - reference time=2015-01-08 19:39:30+00, status=Rain>],\n",
       " [<pyowm.webapi25.weather.Weather - reference time=2015-08-28 20:40:01+00, status=Clear>,\n",
       "  <pyowm.webapi25.weather.Weather - reference time=2015-08-28 21:40:06+00, status=Clear>],\n",
       " [<pyowm.webapi25.weather.Weather - reference time=2015-01-20 18:40:28+00, status=Clouds>],\n",
       " [<pyowm.webapi25.weather.Weather - reference time=2014-09-24 07:37:48+00, status=Clear>],\n",
       " [<pyowm.webapi25.weather.Weather - reference time=2015-10-28 12:05:01+00, status=Clear>],\n",
       " [<pyowm.webapi25.weather.Weather - reference time=2014-09-20 08:37:58+00, status=Clear>],\n",
       " [],\n",
       " [<pyowm.webapi25.weather.Weather - reference time=2015-05-04 18:36:34+00, status=Clouds>],\n",
       " [<pyowm.webapi25.weather.Weather - reference time=2014-09-12 19:37:19+00, status=Rain>],\n",
       " [<pyowm.webapi25.weather.Weather - reference time=2015-01-23 19:40:59+00, status=Clouds>,\n",
       "  <pyowm.webapi25.weather.Weather - reference time=2015-01-23 20:51:23+00, status=Clouds>]]"
      ]
     },
     "execution_count": 29,
     "metadata": {},
     "output_type": "execute_result"
    }
   ],
   "source": [
    "all_runs_with_weather = RunWeather.load_runs()\n",
    "\n",
    "# cache all weather data:\n",
    "[r.weather for r in all_runs_with_weather]"
   ]
  }
 ],
 "metadata": {
  "kernelspec": {
   "display_name": "Python 3",
   "language": "python",
   "name": "python3"
  },
  "language_info": {
   "codemirror_mode": {
    "name": "ipython",
    "version": 3
   },
   "file_extension": ".py",
   "mimetype": "text/x-python",
   "name": "python",
   "nbconvert_exporter": "python",
   "pygments_lexer": "ipython3",
   "version": "3.5.1+"
  }
 },
 "nbformat": 4,
 "nbformat_minor": 0
}
